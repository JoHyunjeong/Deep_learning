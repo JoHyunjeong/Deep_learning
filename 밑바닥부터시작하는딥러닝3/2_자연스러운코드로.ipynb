{
 "cells": [
  {
   "cell_type": "markdown",
   "id": "4c75c95d",
   "metadata": {},
   "source": [
    "# <center>제2고지 자연스러운 코드로</center>"
   ]
  },
  {
   "cell_type": "code",
   "execution_count": 1,
   "id": "63c256b7",
   "metadata": {},
   "outputs": [],
   "source": [
    "import numpy as np\n",
    "\n",
    "\n",
    "class Variable:\n",
    "    def __init__(self, data):\n",
    "        if data is not None:\n",
    "            if not isinstance(data, np.ndarray):\n",
    "                raise TypeError('{}은(는) 지원하지 않습니다.'.format(type(data))) \n",
    "        self.data = data\n",
    "        self.grad = None\n",
    "        self.creator = None\n",
    "        \n",
    "    def set_creator(self, func):\n",
    "        self.creator = func\n",
    "        \n",
    "    def backward(self):\n",
    "        if self.grad is None:\n",
    "            self.grad = np.ones_like(self.data)\n",
    "            \n",
    "        funcs = [self.creator]\n",
    "        while funcs:\n",
    "            f = funcs.pop() \n",
    "            x, y = f.input, f.output\n",
    "            x.grad = f.backward(y.grad) \n",
    "            \n",
    "            if x.creator is not None:\n",
    "                funcs.append(x.creator)\n",
    "                \n",
    "def as_array(x):\n",
    "    if np.isscalar(x):\n",
    "        return np.array(x)\n",
    "    return x"
   ]
  },
  {
   "cell_type": "markdown",
   "id": "1b4fa928",
   "metadata": {},
   "source": [
    "# 11단계 가변 길이 인수(순전파 편)"
   ]
  },
  {
   "cell_type": "markdown",
   "id": "a32cbc92",
   "metadata": {},
   "source": [
    "DeZero가 인수 또는 반환값의 수가 달라질 수 있는, 가변 길이 입출력을 처리할 수 있도록 확장  \n",
    "  \n",
    "가변 길이 입출력을 표현하기위해 변수들을 리스트에 넣어 처리하면  \n",
    "전처럼 Function 클래스가 '하나의 인수'만 받고 '하나의 값'만 반환  \n",
    "  \n",
    "Function 클래스의 \\_\\_call__ 메서드 인수, 반환값을 리스트로 수정"
   ]
  },
  {
   "cell_type": "code",
   "execution_count": 2,
   "id": "e66a8979",
   "metadata": {},
   "outputs": [],
   "source": [
    "class Function:\n",
    "    def __call__(self, inputs):\n",
    "        xs = [x.data for x in inputs]\n",
    "        ys = self.forward(xs)\n",
    "        outputs = [Variable(as_array(y)) for y in ys]\n",
    "        \n",
    "        for output in outputs:\n",
    "            output.set_creator(self)\n",
    "        self.inputs = inputs\n",
    "        self.outputs = outputs\n",
    "        return outputs\n",
    "    \n",
    "    def forward(self, xs):\n",
    "        raise NotImplementedError()\n",
    "        \n",
    "    def backward(self, gys):\n",
    "        raise NotImplementedError()"
   ]
  },
  {
   "cell_type": "markdown",
   "id": "e8c049ee",
   "metadata": {},
   "source": [
    "덧셈을 수행하는 Add 클래스의 forward 메서드 구현  \n",
    "인수는 변수가 두 개 담긴 리스트  \n",
    "결과는 튜플로 반환"
   ]
  },
  {
   "cell_type": "code",
   "execution_count": 7,
   "id": "9b10632d",
   "metadata": {},
   "outputs": [],
   "source": [
    "class Add(Function):\n",
    "    def forward(self, xs):\n",
    "        x0, x1 = xs\n",
    "        y = x0 + x1\n",
    "        return (y,)"
   ]
  },
  {
   "cell_type": "code",
   "execution_count": 4,
   "id": "3e0e48cb",
   "metadata": {},
   "outputs": [
    {
     "name": "stdout",
     "output_type": "stream",
     "text": [
      "5\n"
     ]
    }
   ],
   "source": [
    "xs = [Variable(np.array(2)), Variable(np.array(3))] # 리스트로 준비\n",
    "f = Add()\n",
    "ys = f(xs) # ys 튜플\n",
    "y = ys[0]\n",
    "print(y.data)"
   ]
  },
  {
   "cell_type": "markdown",
   "id": "729cfe11",
   "metadata": {},
   "source": [
    "# 12단계 가변 길이 인수(개선 편)"
   ]
  },
  {
   "cell_type": "markdown",
   "id": "1811b587",
   "metadata": {},
   "source": [
    "### 첫 번째 개선"
   ]
  },
  {
   "cell_type": "markdown",
   "id": "06258efc",
   "metadata": {},
   "source": [
    "리스트나 튜플을 거치지 않고 인수와 결과를 직접 주고받도록 Function 클래스 수정"
   ]
  },
  {
   "cell_type": "code",
   "execution_count": 5,
   "id": "28b94a55",
   "metadata": {},
   "outputs": [],
   "source": [
    "class Function:\n",
    "    def __call__(self, *inputs): # 별표를 붙임\n",
    "        xs = [x.data for x in inputs]\n",
    "        ys = self.forward(xs)\n",
    "        outputs = [Variable(as_array(y)) for y in ys]\n",
    "        \n",
    "        for output in outputs:\n",
    "            output.set_creator(self)\n",
    "        self.inputs = inputs\n",
    "        self.outputs = outputs\n",
    "        \n",
    "        # 리스트의 원소가 하나라면 첫 번째 원소를 반환한다.\n",
    "        return outputs if len(outputs) > 1 else outputs[0]\n",
    "    \n",
    "    def forward(self, xs):\n",
    "        raise NotImplementedError()\n",
    "        \n",
    "    def backward(self, gys):\n",
    "        raise NotImplementedError()"
   ]
  },
  {
   "cell_type": "markdown",
   "id": "6a76028b",
   "metadata": {},
   "source": [
    "인수 앞에 별표(\\*)를 붙이면 리스트를 사용하는 대신 임의 개수의 인수(가변 길이 인수)를 건네 함수를 호출할 수 있음"
   ]
  },
  {
   "cell_type": "code",
   "execution_count": 6,
   "id": "2deab568",
   "metadata": {},
   "outputs": [
    {
     "name": "stdout",
     "output_type": "stream",
     "text": [
      "(1, 2, 3)\n",
      "(1, 2, 3, 4, 5, 6)\n"
     ]
    }
   ],
   "source": [
    "def f(*x):\n",
    "    print(x)\n",
    "    \n",
    "f(1,2,3)\n",
    "\n",
    "f(1,2,3,4,5,6)"
   ]
  },
  {
   "cell_type": "code",
   "execution_count": 8,
   "id": "2b25924e",
   "metadata": {},
   "outputs": [
    {
     "name": "stdout",
     "output_type": "stream",
     "text": [
      "5\n"
     ]
    }
   ],
   "source": [
    "x0 = Variable(np.array(2))\n",
    "x1 = Variable(np.array(3))\n",
    "f = Add()\n",
    "y = f(x0, x1)\n",
    "print(y.data)"
   ]
  },
  {
   "cell_type": "markdown",
   "id": "0ffd1acd",
   "metadata": {},
   "source": [
    "### 두 번째 개선"
   ]
  },
  {
   "cell_type": "markdown",
   "id": "e1ed6b4a",
   "metadata": {},
   "source": [
    "입력도 변수를 직접 받고 결과도 변수를 직접 돌려주도록 수정"
   ]
  },
  {
   "cell_type": "code",
   "execution_count": 9,
   "id": "82956fdd",
   "metadata": {},
   "outputs": [],
   "source": [
    "class Function:\n",
    "    def __call__(self, *inputs): \n",
    "        xs = [x.data for x in inputs]\n",
    "        ys = self.forward(*xs) # 별표를 붙여 언팩\n",
    "        if not isinstance(ys, tuple): # 튜플이 아닌 경우 추가 지원\n",
    "            ys = (ys,)\n",
    "        outputs = [Variable(as_array(y)) for y in ys]\n",
    "        \n",
    "        for output in outputs:\n",
    "            output.set_creator(self)\n",
    "        self.inputs = inputs\n",
    "        self.outputs = outputs\n",
    "        \n",
    "        return outputs if len(outputs) > 1 else outputs[0]\n",
    "    \n",
    "    def forward(self, xs):\n",
    "        raise NotImplementedError()\n",
    "        \n",
    "    def backward(self, gys):\n",
    "        raise NotImplementedError()"
   ]
  },
  {
   "cell_type": "markdown",
   "id": "57df08cb",
   "metadata": {},
   "source": [
    "~~~python\n",
    "self.forward(*xs)\n",
    "~~~  \n",
    "  \n",
    "에서 함수를 호출할 때 별표를 붙였는데, 이렇게 하면 리스트 언팩이 이뤄짐  \n",
    "리스트의 원소를 낱개로 풀어서 전달함  \n",
    "ex) \n",
    "xs = [x0, x1]   \n",
    "self.forward(\\*xs)를 하면  \n",
    "self.forward(x0, x1)로 호출하는 것과 동일하게 동작함  \n",
    "  \n",
    "Add 클래스도 수정"
   ]
  },
  {
   "cell_type": "code",
   "execution_count": 10,
   "id": "dab4398c",
   "metadata": {},
   "outputs": [],
   "source": [
    "class Add(Function):\n",
    "    def forward(self, x0, x1):\n",
    "        y = x0 + x1\n",
    "        return y"
   ]
  },
  {
   "cell_type": "markdown",
   "id": "664fba88",
   "metadata": {},
   "source": [
    "Add 클래스를 파이썬 함수로 사용할 수 있는 코드를 추가"
   ]
  },
  {
   "cell_type": "code",
   "execution_count": 11,
   "id": "b696f7bf",
   "metadata": {},
   "outputs": [],
   "source": [
    "def add(x0, x1):\n",
    "    return Add()(x0, x1)"
   ]
  },
  {
   "cell_type": "code",
   "execution_count": 12,
   "id": "13e8d855",
   "metadata": {},
   "outputs": [
    {
     "name": "stdout",
     "output_type": "stream",
     "text": [
      "5\n"
     ]
    }
   ],
   "source": [
    "x0 = Variable(np.array(2))\n",
    "x1 = Variable(np.array(3))\n",
    "y = add(x0, x1) # Add 클래스 생성 과정이 감춰짐\n",
    "print(y.data)"
   ]
  },
  {
   "cell_type": "markdown",
   "id": "af8fe1ee",
   "metadata": {},
   "source": [
    "# 13단계 가변 길이 인수(역전파 편)"
   ]
  },
  {
   "cell_type": "markdown",
   "id": "f0f5746c",
   "metadata": {},
   "source": [
    "<img src='./img/2/add.png' width=500>"
   ]
  },
  {
   "cell_type": "markdown",
   "id": "6532cc58",
   "metadata": {},
   "source": [
    "위의 그림과 같이 덧셈의 순전파는 입력이 2개, 출력이 1개이고,  \n",
    "반대로 역전파는 입력이 1개, 출력이 2개임  \n",
    "  \n",
    "$y = x_0+x_1$과 같이 입력 변수가 여러 개인 함수를 다변수 함수라고 하며,  \n",
    "다변수 함수에서 하나의 입력 변수에만 주목하여(다른 변수는 상수로 취급) 미분하는 것을 편미분이라고 함  \n",
    "  \n",
    "덧셈의 역전파는 출력 쪽에서 전해지는 미분값에 1을 곱한 값이 입력 변수의 미분  \n",
    "즉, 역전파는 상류에서 흘러오는 미분값을 그대로 흘려보냄  \n",
    "  \n",
    "이를 반영하여 Add 클래스에 backward 메서드를 구현"
   ]
  },
  {
   "cell_type": "code",
   "execution_count": 92,
   "id": "47bd8f8b",
   "metadata": {},
   "outputs": [],
   "source": [
    "class Add(Function):\n",
    "    def forward(self, x0, x1):\n",
    "        y = x0 + x1\n",
    "        return y\n",
    "    \n",
    "    def backward(self, gy): # 입력 1개\n",
    "        return gy, gy # 출력 2개"
   ]
  },
  {
   "cell_type": "markdown",
   "id": "bc8f47ec",
   "metadata": {},
   "source": [
    "여러 개의 값을 반환할 수 있도록 Variable 클래스의 backward 메서드 수정"
   ]
  },
  {
   "cell_type": "code",
   "execution_count": 14,
   "id": "96688d2d",
   "metadata": {},
   "outputs": [],
   "source": [
    "class Variable:\n",
    "    def __init__(self, data):\n",
    "        if data is not None: \n",
    "            if not isinstance(data, np.ndarray): \n",
    "                raise TypeError('{}은(는) 지원하지 않습니다.'.format(type(data))) \n",
    "        self.data = data\n",
    "        self.grad = None\n",
    "        self.creator = None\n",
    "        \n",
    "    def set_creator(self, func):\n",
    "        self.creator = func\n",
    "        \n",
    "    def backward(self):\n",
    "        if self.grad is None:\n",
    "            self.grad = np.ones_like(self.data)\n",
    "            \n",
    "        funcs = [self.creator]\n",
    "        while funcs:\n",
    "            f = funcs.pop() \n",
    "            gys = [output.grad for output in f.outputs] # outputs에 담겨있는 미분값들을 리스트에 담음\n",
    "            gxs = f.backward(*gys) # f의 역전파 호출. 리스트 언팩\n",
    "            if not isinstance(gxs, tuple): # gxs가 튜플이 아니면 튜플로 변환\n",
    "                gxs = (gxs,)\n",
    "                \n",
    "            for x, gx in zip(f.inputs, gxs): # f.inputs와 gxs의 각 원소는 서로 대응 관계\n",
    "                x.grad = gx # 역전파로 전파되는 미분값을 Variable의 인스턴스 변수 grad에 저장\n",
    "            \n",
    "                if x.creator is not None:\n",
    "                    funcs.append(x.creator)"
   ]
  },
  {
   "cell_type": "markdown",
   "id": "53a8657e",
   "metadata": {},
   "source": [
    "Square 클래스도 수정한 Variable 클래스와 Function 클래스에 맞게 수정"
   ]
  },
  {
   "cell_type": "code",
   "execution_count": 51,
   "id": "7a758da1",
   "metadata": {},
   "outputs": [],
   "source": [
    "class Square(Function):\n",
    "    def forward(self, x):\n",
    "        y = x ** 2\n",
    "        return y\n",
    "    \n",
    "    def backward(self, gy):\n",
    "        x = self.inputs[0].data\n",
    "        gx = 2 * x * gy\n",
    "        return gx"
   ]
  },
  {
   "cell_type": "code",
   "execution_count": 52,
   "id": "ce642348",
   "metadata": {},
   "outputs": [],
   "source": [
    "def square(x):\n",
    "    return Square()(x)"
   ]
  },
  {
   "cell_type": "code",
   "execution_count": 17,
   "id": "d25007e2",
   "metadata": {},
   "outputs": [
    {
     "name": "stdout",
     "output_type": "stream",
     "text": [
      "13.0\n",
      "4.0\n",
      "6.0\n"
     ]
    }
   ],
   "source": [
    "x = Variable(np.array(2.0))\n",
    "y = Variable(np.array(3.0))\n",
    "\n",
    "z = add(square(x), square(y))\n",
    "z.backward()\n",
    "print(z.data)\n",
    "print(x.grad)\n",
    "print(y.grad)"
   ]
  },
  {
   "cell_type": "markdown",
   "id": "f9793831",
   "metadata": {},
   "source": [
    "# 14단계 같은 변수 반복 사용"
   ]
  },
  {
   "cell_type": "markdown",
   "id": "bad9b33b",
   "metadata": {},
   "source": [
    "<img src='./img/2/ex_1.png' width=400>  \n",
    "  \n",
    "현재의 DeZero는 위의 그림과 같이 같은 변수를 반복해서 사용할 경우 의도대로 동작하지 않을 수 있음"
   ]
  },
  {
   "cell_type": "code",
   "execution_count": 18,
   "id": "6c283539",
   "metadata": {},
   "outputs": [
    {
     "name": "stdout",
     "output_type": "stream",
     "text": [
      "y 6.0\n",
      "x.grad 1.0\n"
     ]
    }
   ],
   "source": [
    "x = Variable(np.array(3.0))\n",
    "y = add(x,x)\n",
    "print('y', y.data)\n",
    "\n",
    "y.backward()\n",
    "print('x.grad', x.grad)"
   ]
  },
  {
   "cell_type": "markdown",
   "id": "b2883dc3",
   "metadata": {},
   "source": [
    "위 계산에서 미분값은 2가 되야 하는데,  \n",
    "현재 구현에서는 출력 쪽에서 전해지는 미분값을 그대로 대입하므로  \n",
    "같은 변수를 반복해서 사용하면 전파되는 미분값이 덮어 써짐  \n",
    "  \n",
    "따라서 Variable 클래스를 수정"
   ]
  },
  {
   "cell_type": "code",
   "execution_count": 19,
   "id": "4ac61069",
   "metadata": {},
   "outputs": [],
   "source": [
    "class Variable:\n",
    "    def __init__(self, data):\n",
    "        if data is not None: \n",
    "            if not isinstance(data, np.ndarray): \n",
    "                raise TypeError('{}은(는) 지원하지 않습니다.'.format(type(data))) \n",
    "        self.data = data\n",
    "        self.grad = None\n",
    "        self.creator = None\n",
    "        \n",
    "    def set_creator(self, func):\n",
    "        self.creator = func\n",
    "        \n",
    "    def backward(self):\n",
    "        if self.grad is None:\n",
    "            self.grad = np.ones_like(self.data)\n",
    "            \n",
    "        funcs = [self.creator]\n",
    "        while funcs:\n",
    "            f = funcs.pop() \n",
    "            gys = [output.grad for output in f.outputs] \n",
    "            gxs = f.backward(*gys) \n",
    "            if not isinstance(gxs, tuple): \n",
    "                gxs = (gxs,)\n",
    "                \n",
    "            for x, gx in zip(f.inputs, gxs): \n",
    "                if x.grad is None:\n",
    "                    x.grad = gx # 처음 미분값을 설정하는 경우에는 기존과 같이 출력 쪽에서 전해지는 미분값을 그대로 대입\n",
    "                else:\n",
    "                    x.grad = x.grad + gx # 다음번부터는 전달된 미분값을 더해줌\n",
    "                    # x.grad += gx 라고 쓰면 문제 발생 -> 부록 A 참고\n",
    "            \n",
    "                if x.creator is not None:\n",
    "                    funcs.append(x.creator)"
   ]
  },
  {
   "cell_type": "code",
   "execution_count": 20,
   "id": "485da1bf",
   "metadata": {},
   "outputs": [
    {
     "name": "stdout",
     "output_type": "stream",
     "text": [
      "y 6.0\n",
      "x.grad 2.0\n"
     ]
    }
   ],
   "source": [
    "x = Variable(np.array(3.0))\n",
    "y = add(x,x)\n",
    "print('y', y.data)\n",
    "\n",
    "y.backward()\n",
    "print('x.grad', x.grad)"
   ]
  },
  {
   "cell_type": "code",
   "execution_count": 21,
   "id": "21f44b16",
   "metadata": {},
   "outputs": [
    {
     "name": "stdout",
     "output_type": "stream",
     "text": [
      "y 9.0\n",
      "x.grad 3.0\n"
     ]
    }
   ],
   "source": [
    "x = Variable(np.array(3.0))\n",
    "y = add(add(x,x),x)\n",
    "print('y', y.data)\n",
    "\n",
    "y.backward()\n",
    "print('x.grad', x.grad)"
   ]
  },
  {
   "cell_type": "markdown",
   "id": "9f4f19be",
   "metadata": {},
   "source": [
    "여전히 문제가 있음  \n",
    "같은 변수를 사용하여 '다른 계산'을 할 경우 계산이 꼬임"
   ]
  },
  {
   "cell_type": "code",
   "execution_count": 22,
   "id": "e8813c9c",
   "metadata": {},
   "outputs": [
    {
     "name": "stdout",
     "output_type": "stream",
     "text": [
      "2.0\n",
      "5.0\n"
     ]
    }
   ],
   "source": [
    "# 첫 번째 계산\n",
    "x = Variable(np.array(3.0))\n",
    "y = add(x,x)\n",
    "y.backward()\n",
    "print(x.grad)\n",
    "\n",
    "# 두 번째 계산(같은 x를 사용하여 다른 계산을 수행)\n",
    "y = add(add(x,x),x)\n",
    "y.backward()\n",
    "print(x.grad) # 3이 나와야 함"
   ]
  },
  {
   "cell_type": "markdown",
   "id": "a6247d6a",
   "metadata": {},
   "source": [
    "위 예시와 같이 Variable 인스턴스인 x를 재사용한 경우 첫 번째 미분값이 더해져서 나옴  \n",
    "  \n",
    "이 문제를 해결하기 위해 Variable 클래스에 미분값을 초기화하는 cleargrad 메서드를 추가  \n",
    "이 메서드를 사용하면 여러 가지 미분을 연달아 계산할 때 똑같은 변수를 재사용 할 수 있음"
   ]
  },
  {
   "cell_type": "code",
   "execution_count": 23,
   "id": "12eaa11c",
   "metadata": {},
   "outputs": [],
   "source": [
    "class Variable:\n",
    "    def __init__(self, data):\n",
    "        if data is not None: \n",
    "            if not isinstance(data, np.ndarray): \n",
    "                raise TypeError('{}은(는) 지원하지 않습니다.'.format(type(data))) \n",
    "        self.data = data\n",
    "        self.grad = None\n",
    "        self.creator = None\n",
    "        \n",
    "    def set_creator(self, func):\n",
    "        self.creator = func\n",
    "        \n",
    "    def backward(self):\n",
    "        if self.grad is None:\n",
    "            self.grad = np.ones_like(self.data)\n",
    "            \n",
    "        funcs = [self.creator]\n",
    "        while funcs:\n",
    "            f = funcs.pop() \n",
    "            gys = [output.grad for output in f.outputs] \n",
    "            gxs = f.backward(*gys) \n",
    "            if not isinstance(gxs, tuple): \n",
    "                gxs = (gxs,)\n",
    "                \n",
    "            for x, gx in zip(f.inputs, gxs): \n",
    "                if x.grad is None:\n",
    "                    x.grad = gx \n",
    "                else:\n",
    "                    x.grad = x.grad + gx\n",
    "            \n",
    "                if x.creator is not None:\n",
    "                    funcs.append(x.creator)\n",
    "                    \n",
    "    def cleargrad(self): # 추가\n",
    "        self.grad = None"
   ]
  },
  {
   "cell_type": "code",
   "execution_count": 24,
   "id": "45f4c349",
   "metadata": {},
   "outputs": [
    {
     "name": "stdout",
     "output_type": "stream",
     "text": [
      "2.0\n",
      "3.0\n"
     ]
    }
   ],
   "source": [
    "# 첫 번째 계산\n",
    "x = Variable(np.array(3.0))\n",
    "y = add(x,x)\n",
    "y.backward()\n",
    "print(x.grad)\n",
    "\n",
    "# 두 번째 계산(같은 x를 사용하여 다른 계산을 수행)\n",
    "x.cleargrad() # 미분값 초기화\n",
    "y = add(add(x,x),x)\n",
    "y.backward()\n",
    "print(x.grad)"
   ]
  },
  {
   "cell_type": "markdown",
   "id": "fde8ad22",
   "metadata": {},
   "source": [
    "이 cleargrad 메서드는 최적화 문제(함수의 최솟값과 최댓값을 찾는 문제)를 풀 때 유용하게 사용할 수 있음!"
   ]
  },
  {
   "cell_type": "markdown",
   "id": "92f4fd87",
   "metadata": {},
   "source": [
    "# 15단계 복잡한 계산 그래프(이론 편)"
   ]
  },
  {
   "cell_type": "markdown",
   "id": "6c52b85e",
   "metadata": {},
   "source": [
    "<img src='./img/2/ex_2.png' width=800>  \n",
    "  \n",
    "지금까지는 일직선의 계산만 해서 문제가 없었으나, 위 그림과 같이 복잡한 계산을 하게 되면 또 문제가 발생함🥲  \n",
    "\n",
    "  \n",
    "<img src='./img/2/ex_3.png' width=400>  \n",
    "  \n",
    "변수를 반복해서 사용하면 역전파 때는 출력 쪽에서 전파되는 미분값을 더해야 하므로, 계산 중간에 등장하는 변수 a의 경우 a의 출력 쪽에서 전파하는 2개의 미분값이 필요함  \n",
    "즉, 함수 B와 C의 역전파를 모두 끝내고 나서 함수 A를 역전파해야함  \n",
    "따라서 올바른 역전파의 순서는 위의 그림과 같다.  \n",
    "  \n",
    "<img src='./img/2/ex_4.png' width=400>  \n",
    "  \n",
    "하지만, 현재 구현한 Dezero는 위 그림처럼 함수 처리 순서도 잘못되었고, 함수 A의 역전파가 두 번 일어남  \n",
    "funcs 리스트에 창조자를 추가하고 pop함수를 사용하여 마지막 원소를 꺼내는 방식으로 진행되기 때문!  \n",
    "  \n",
    "이는 리스트에서 출력 쪽에 더 가까운 함수를 꺼낼 수 있도록 함수에 '우선순위'를 주는 방식으로 해결할 수 있음  \n",
    "  \n",
    "위상 정렬(Topological Sort) 알고리즘을 사용하면 노드의 연결 방법을 기초로 노드들을 정렬할 수 있고, 그 정렬 순서를 우선순위로 사용해도 되지만, 더 쉬운 방법이 있음  \n",
    "  \n",
    "<img src='./img/2/ex_5.png' width=500>  \n",
    "  \n",
    "순전파 때 '함수'가 '변수'를 만들어내는 과정에서 볼 수 있는 '창조자-피조물 관계' 혹은 '부모-자식 관계'를 이용하여 함수와 변수의 '세대(generation)'을 기록하고,  \n",
    "이 '세대'를 우선순위로 사용하여 세대 수가 큰 쪽부터 처리하면 '부모'보다 '자식'을 먼저 처리할 수 있음"
   ]
  },
  {
   "cell_type": "markdown",
   "id": "ef3a4297",
   "metadata": {},
   "source": [
    "# 16단계 복잡한 계산 그래프(구현 편)"
   ]
  },
  {
   "cell_type": "markdown",
   "id": "0c76eabc",
   "metadata": {},
   "source": [
    "순전파 시 '세대'를 설정하고  \n",
    "역전파 시 최근 세대의 함수부터 꺼내도록 Variable 클래스와 Function 클래스에 인스턴스 변수 generation(몇 번째 '세대'의 함수(혹은 변수)인지 나타내는 변수)을 추가  \n",
    "  \n",
    "먼저 Variable 클래스는 generation을 0으로 초기화하고,  \n",
    "set_creator 메서드가 호출될 때 부모 함수의 세대보다 1만큼 큰 값을 설정함"
   ]
  },
  {
   "cell_type": "code",
   "execution_count": 25,
   "id": "d94b65c0",
   "metadata": {},
   "outputs": [],
   "source": [
    "class Variable:\n",
    "    def __init__(self, data):\n",
    "        if data is not None: \n",
    "            if not isinstance(data, np.ndarray): \n",
    "                raise TypeError('{}은(는) 지원하지 않습니다.'.format(type(data))) \n",
    "        self.data = data\n",
    "        self.grad = None\n",
    "        self.creator = None\n",
    "        self.generation = 0 # 세대 수를 기록하는 변수\n",
    "        \n",
    "    def set_creator(self, func):\n",
    "        self.creator = func\n",
    "        self.generation = func.generation + 1 # 세대를 기록함(부모 세대 + 1)\n",
    "        \n",
    "    def backward(self):\n",
    "        if self.grad is None:\n",
    "            self.grad = np.ones_like(self.data)\n",
    "            \n",
    "        funcs = [self.creator]\n",
    "        while funcs:\n",
    "            f = funcs.pop() \n",
    "            gys = [output.grad for output in f.outputs] \n",
    "            gxs = f.backward(*gys) \n",
    "            if not isinstance(gxs, tuple): \n",
    "                gxs = (gxs,)\n",
    "                \n",
    "            for x, gx in zip(f.inputs, gxs): \n",
    "                if x.grad is None:\n",
    "                    x.grad = gx \n",
    "                else:\n",
    "                    x.grad = x.grad + gx\n",
    "            \n",
    "                if x.creator is not None:\n",
    "                    funcs.append(x.creator)\n",
    "                    \n",
    "    def cleargrad(self): \n",
    "        self.grad = None"
   ]
  },
  {
   "cell_type": "markdown",
   "id": "f658ad1b",
   "metadata": {},
   "source": [
    "<img src='./img/2/ex_6.png' width=500>"
   ]
  },
  {
   "cell_type": "markdown",
   "id": "5484f4b3",
   "metadata": {},
   "source": [
    "Function 클래스의 generation은 입력 변수와 같은 값으로 설정  \n",
    "  \n",
    "위 예시처럼 입력 변수의 generation이 4라면 함수의 generation도 4가 됨  \n",
    "입력 변수가 둘 이상이라면 가장 큰 generation의 수를 선택함"
   ]
  },
  {
   "cell_type": "code",
   "execution_count": 26,
   "id": "f4b309c9",
   "metadata": {},
   "outputs": [],
   "source": [
    "class Function:\n",
    "    def __call__(self, *inputs): \n",
    "        xs = [x.data for x in inputs]\n",
    "        ys = self.forward(*xs) \n",
    "        if not isinstance(ys, tuple):\n",
    "            ys = (ys,)\n",
    "        outputs = [Variable(as_array(y)) for y in ys]\n",
    "\n",
    "        self.generation = max([x.generation for x in inputs]) # generation 설정\n",
    "        for output in outputs:\n",
    "            output.set_creator(self)\n",
    "        self.inputs = inputs\n",
    "        self.outputs = outputs\n",
    "        \n",
    "        return outputs if len(outputs) > 1 else outputs[0]\n",
    "    \n",
    "    def forward(self, xs):\n",
    "        raise NotImplementedError()\n",
    "        \n",
    "    def backward(self, gys):\n",
    "        raise NotImplementedError()"
   ]
  },
  {
   "cell_type": "markdown",
   "id": "4a107f76",
   "metadata": {},
   "source": [
    "함수를 세대 순으로 꺼내기 위해서 더미(dummy) DeZero 함수를 사용"
   ]
  },
  {
   "cell_type": "code",
   "execution_count": 27,
   "id": "8d311f99",
   "metadata": {},
   "outputs": [
    {
     "data": {
      "text/plain": [
       "[2, 0, 1, 4, 2]"
      ]
     },
     "execution_count": 27,
     "metadata": {},
     "output_type": "execute_result"
    }
   ],
   "source": [
    "generations = [2,0,1,4,2]\n",
    "funcs = []\n",
    "\n",
    "for g in generations:\n",
    "    f = Function() # 더미 함수 클래스\n",
    "    f.generation = g\n",
    "    funcs.append(f)\n",
    "    \n",
    "[f.generation for f in funcs]"
   ]
  },
  {
   "cell_type": "markdown",
   "id": "e3b24f8e",
   "metadata": {},
   "source": [
    "위와 같이 더미 함수를 준비하고 funcs 리스트에 추가한 후, 이 리스트에서 세대가 가장 큰 함수를 꺼냄"
   ]
  },
  {
   "cell_type": "code",
   "execution_count": 28,
   "id": "07d19508",
   "metadata": {},
   "outputs": [
    {
     "data": {
      "text/plain": [
       "[0, 1, 2, 2, 4]"
      ]
     },
     "execution_count": 28,
     "metadata": {},
     "output_type": "execute_result"
    }
   ],
   "source": [
    "funcs.sort(key=lambda x: x.generation) # generation 기준으로 리스트 오름차순 정렬\n",
    "[f.generation for f in funcs]"
   ]
  },
  {
   "cell_type": "code",
   "execution_count": 29,
   "id": "047ccc35",
   "metadata": {},
   "outputs": [
    {
     "data": {
      "text/plain": [
       "4"
      ]
     },
     "execution_count": 29,
     "metadata": {},
     "output_type": "execute_result"
    }
   ],
   "source": [
    "f = funcs.pop()\n",
    "f.generation"
   ]
  },
  {
   "cell_type": "markdown",
   "id": "01477e0a",
   "metadata": {},
   "source": [
    "< 참고 > 책에서 다루진 않지만 '우선순위 큐'를 이용하면 모든 원소를 정렬할 필요 없이 더 효율적"
   ]
  },
  {
   "cell_type": "markdown",
   "id": "e78ace98",
   "metadata": {},
   "source": [
    "Variable 클래스의 backward 메서드 수정"
   ]
  },
  {
   "cell_type": "code",
   "execution_count": 30,
   "id": "f6b630cf",
   "metadata": {},
   "outputs": [],
   "source": [
    "class Variable:\n",
    "    def __init__(self, data):\n",
    "        if data is not None: \n",
    "            if not isinstance(data, np.ndarray): \n",
    "                raise TypeError('{}은(는) 지원하지 않습니다.'.format(type(data))) \n",
    "        self.data = data\n",
    "        self.grad = None\n",
    "        self.creator = None\n",
    "        self.generation = 0\n",
    "        \n",
    "    def set_creator(self, func):\n",
    "        self.creator = func\n",
    "        self.generation = func.generation + 1 \n",
    "        \n",
    "    def backward(self):\n",
    "        if self.grad is None:\n",
    "            self.grad = np.ones_like(self.data)\n",
    "            \n",
    "# ----------------------------------------------------------------\n",
    "        funcs = [] \n",
    "        seen_set = set() # funcs 리스트에 같은 함수를 중복 추가하는 일을 막기 위해 집합을 이용\n",
    "        \n",
    "        def add_func(f):\n",
    "            if f not in seen_set:\n",
    "                funcs.append(f)\n",
    "                seen_set.add(f)\n",
    "                funcs.sort(key=lambda x: x.generation)\n",
    "                \n",
    "        add_func(self.creator) \n",
    "# ----------------------------------------------------------------\n",
    "        \n",
    "        while funcs:\n",
    "            f = funcs.pop() \n",
    "            gys = [output.grad for output in f.outputs] \n",
    "            gxs = f.backward(*gys) \n",
    "            if not isinstance(gxs, tuple): \n",
    "                gxs = (gxs,)\n",
    "                \n",
    "            for x, gx in zip(f.inputs, gxs): \n",
    "                if x.grad is None:\n",
    "                    x.grad = gx \n",
    "                else:\n",
    "                    x.grad = x.grad + gx\n",
    "            \n",
    "                if x.creator is not None:\n",
    "                    add_func(x.creator) # 수정\n",
    "                    \n",
    "    def cleargrad(self): \n",
    "        self.grad = None"
   ]
  },
  {
   "cell_type": "markdown",
   "id": "2e0bdcfc",
   "metadata": {},
   "source": [
    "여기서, add_func 함수를 backward 메서드 안에 중첩 함수로 정의했음  \n",
    "중첩 함수는 주로 다음 두 조건을 충족할 때 적합함  \n",
    "- 감싸는 메서드(backward 메서드) 안에서만 이용한다.\n",
    "- 감싸는 메서드(backward 메서드)에 정의된 변수(funcs과 seen_set)를 사용해야 한다."
   ]
  },
  {
   "cell_type": "code",
   "execution_count": 35,
   "id": "9f5e09d5",
   "metadata": {},
   "outputs": [
    {
     "name": "stdout",
     "output_type": "stream",
     "text": [
      "32.0\n",
      "64.0\n"
     ]
    }
   ],
   "source": [
    "x = Variable(np.array(2.0))\n",
    "a = square(x)\n",
    "y = add(square(a), square(a))\n",
    "y.backward()\n",
    "\n",
    "print(y.data)\n",
    "print(x.grad)"
   ]
  },
  {
   "cell_type": "markdown",
   "id": "c09c65f3",
   "metadata": {},
   "source": [
    "# 17단계 메모리 관리와 순환 참조"
   ]
  },
  {
   "cell_type": "markdown",
   "id": "4f7f9407",
   "metadata": {},
   "source": [
    "'파이썬'이라고 하면 보통은 '프로그래밍 언어'를 가리키지만 파이썬 코드를 실행하는 '프로그램'을 지칭할 때도 사용함  \n",
    "이 프로글매을 일반적으로 '파이썬 인터프리터'라고 부르며,  \n",
    "표준으로 사용되는 파이썬 인터프리터는 C언어로 구현된 CPython임  \n",
    "이번 단계에서 설명하는 파이썬 메모리 관련 설명은 CPython 기준!"
   ]
  },
  {
   "cell_type": "markdown",
   "id": "11fdcd75",
   "metadata": {},
   "source": [
    "파이썬은 필요 없어진 객체를 메모리에서 자동으로 삭제함  \n",
    "  \n",
    "파이썬(CPython)의 메모리 관리는 다음 두 가지 방식으로 진행됨  \n",
    "- 참조 카운트 : 참고(reference) 수를 세는 방식\n",
    "- GC(Garbage Collection) : 세대(generation)를 기준으로 쓸모없어진 객체(garbage)를 회수(collection)하는 방식  "
   ]
  },
  {
   "cell_type": "markdown",
   "id": "c3098a76",
   "metadata": {},
   "source": [
    "파이썬 메미로 관리의 기본은 참조 카운트  \n",
    "참조 카운트는 구조가 간단하고 속도도 빠름  \n",
    "모든 객체는 참조 카운트가 0인 상태로 생성되고,  \n",
    "다른 객체가 참조할 때마다 1씩 증가  \n",
    "반대로 객체에 대한 참조가 끊길 때마다 1만큼 감소하다가 0이 되면 파이썬 인터프리터가 회수함  \n",
    "객체가 더 이상 필요 없어지면 즉시 메모리에서 삭제됨  \n",
    "  \n",
    "참조 카운트 증가하는 경우  \n",
    "- 대입 연산자를 사용할 때\n",
    "- 함수에 인수로 전달할 때\n",
    "- 컨테이너 타입 객체(리스트, 튜플, 클래스 등)에 추가할 때  \n",
    "  \n",
    "ex)  \n",
    "  \n",
    "~~~python\n",
    "class obj():\n",
    "    pass\n",
    "\n",
    "def f(x):\n",
    "    print(X)\n",
    "    \n",
    "a = obj()   # 변수에 대입 : 참조 카운트 1\n",
    "f(a)        # 함수에 전달 : 함수 안에서는 참조 카운트 2\n",
    "            # 함수 완료 : 빠져나오면 참조 카운트 1\n",
    "a = None    # 대입 해제 : 참조 카운트 0(아무도 참조하지 않는 상태) -> 이렇게 0이 되는 즉시 해당 객체는 메모리에서 삭제됨\n",
    "~~~  "
   ]
  },
  {
   "cell_type": "markdown",
   "id": "cc7f763e",
   "metadata": {},
   "source": [
    "ex)  \n",
    "  \n",
    "<img src='./img/2/memory_1.png' width=500>"
   ]
  },
  {
   "cell_type": "markdown",
   "id": "df01d2fd",
   "metadata": {},
   "source": [
    "~~~python \n",
    "a = obj()\n",
    "b = obj()\n",
    "c = obj()\n",
    "\n",
    "a.b = b\n",
    "b.c = c\n",
    "\n",
    "a = b = c = None\n",
    "~~~"
   ]
  },
  {
   "cell_type": "markdown",
   "id": "1cccaac9",
   "metadata": {},
   "source": [
    "하지만 참조 카운트로는 순환 참조(circular reference)를 해결할 수 없음  \n",
    "  \n",
    "<img src='./img/2/memory_2.png' width=500>  \n",
    "  \n",
    "~~~python\n",
    "a = obj()\n",
    "b = obj()\n",
    "c = obj()\n",
    "\n",
    "a.b = b\n",
    "b.c = c\n",
    "c.a = a  \n",
    "\n",
    "a = b = c = None\n",
    "~~~  \n",
    "  \n",
    "위 예시처럼 객체 서로가 서로를 참조하는 것을 순환 참조라고 함  \n",
    "이 때 오른쪽 그림을 보면 'a = b = c = None'을 실행했음에도 a, b, c의 참조 카운트가 (0이 아닌) 모두 1이고, 사용자가 이 객체 중 어느 것에도 접근할 수 없음. 결과적으로 메모리에서 삭제되지 않음  \n",
    "  \n",
    "그래서 세대별 가비지 컬렉션(generation garbage collection, GC)가 등장함  \n",
    "GC는 메모리가 부족해지는 시점에 파이썬 인터프리터에 의해 자동으로 호출됨  \n",
    "(gc 모듈을 임포트해서 gc.collect()를 실행하여 명시적으로 호출할 수도 있음)  \n",
    "GC는 순환 참조를 올바르게 처리함  \n",
    "신경망에서 메모리는 중요하기 대문에 순환 참조를 만들지 않는 것이 좋음  \n",
    "  \n",
    "하지만, DeZero에서는 '변수'와 '함수'를 연결하는 방식에 순환 참조가 있음  \n",
    "이는 weakref.ref 함수를 사용하여 다른 객체를 참조하되 참조 카운트는 증가시키지 않는 기능을 하는 약한 참조(weak reference)를 만들어 해결할 수 있음"
   ]
  },
  {
   "cell_type": "code",
   "execution_count": 36,
   "id": "bf2e4e58",
   "metadata": {},
   "outputs": [
    {
     "data": {
      "text/plain": [
       "<weakref at 0x7f8520031cc0; to 'numpy.ndarray' at 0x7f853005f0f0>"
      ]
     },
     "execution_count": 36,
     "metadata": {},
     "output_type": "execute_result"
    }
   ],
   "source": [
    "import weakref\n",
    "import numpy as np\n",
    "\n",
    "a = np.array([1,2,3])\n",
    "b = weakref.ref(a)\n",
    "\n",
    "b # 약한 참조"
   ]
  },
  {
   "cell_type": "code",
   "execution_count": 37,
   "id": "1502bfe4",
   "metadata": {},
   "outputs": [
    {
     "data": {
      "text/plain": [
       "array([1, 2, 3])"
      ]
     },
     "execution_count": 37,
     "metadata": {},
     "output_type": "execute_result"
    }
   ],
   "source": [
    "b() # 참조된 데이터에 접근"
   ]
  },
  {
   "cell_type": "code",
   "execution_count": 38,
   "id": "5952015e",
   "metadata": {},
   "outputs": [
    {
     "data": {
      "text/plain": [
       "<weakref at 0x7f8520031cc0; to 'numpy.ndarray' at 0x7f853005f0f0>"
      ]
     },
     "execution_count": 38,
     "metadata": {},
     "output_type": "execute_result"
    }
   ],
   "source": [
    "a = None\n",
    "b"
   ]
  },
  {
   "cell_type": "code",
   "execution_count": 39,
   "id": "0ed44c53",
   "metadata": {},
   "outputs": [
    {
     "data": {
      "text/plain": [
       "<weakref at 0x7f8520031cc0; to 'numpy.ndarray' at 0x7f853005f0f0>"
      ]
     },
     "execution_count": 39,
     "metadata": {},
     "output_type": "execute_result"
    }
   ],
   "source": [
    "b # 파이썬 인터프리터에서는 dead라고 나옴"
   ]
  },
  {
   "cell_type": "markdown",
   "id": "40d2dd42",
   "metadata": {},
   "source": [
    "a = None을 실행하면 ndarray 인스턴스는 참조 카운트 방식에 따라 메모리에서 삭제되고,  \n",
    "b도 참조를 가지고 있지만 약한 참조이기 때문에 dead라는 문자가 나오고, 이로써 ndarray 인스턴스가 삭제되었음을 알 수 있음  \n",
    "  \n",
    "다만, IPython과 주피터 노트북 등의 인터프리터는 인터프리터 자체가 사용자가 모르는 참조를 추가로 유지하기 때문에 b가 여전히 유효한 참조를 유지함  \n",
    "위 코드는 파이썬 인터프리터에서 실행한다고 가정하였음"
   ]
  },
  {
   "cell_type": "markdown",
   "id": "0b4ac7e0",
   "metadata": {},
   "source": [
    "위에서 설명한 weakref 구조를 Function 클래스와 Variable 클래스에 추가"
   ]
  },
  {
   "cell_type": "code",
   "execution_count": 40,
   "id": "99cae4fb",
   "metadata": {},
   "outputs": [],
   "source": [
    "import weakref\n",
    "\n",
    "class Function:\n",
    "    def __call__(self, *inputs): \n",
    "        xs = [x.data for x in inputs]\n",
    "        ys = self.forward(*xs) \n",
    "        if not isinstance(ys, tuple):\n",
    "            ys = (ys,)\n",
    "        outputs = [Variable(as_array(y)) for y in ys]\n",
    "\n",
    "        self.generation = max([x.generation for x in inputs])\n",
    "        for output in outputs:\n",
    "            output.set_creator(self)\n",
    "        self.inputs = inputs\n",
    "        self.outputs = [weakref.ref(output) for output in outputs] # 약한 참조\n",
    "        return outputs if len(outputs) > 1 else outputs[0]\n",
    "    \n",
    "    def forward(self, xs):\n",
    "        raise NotImplementedError()\n",
    "        \n",
    "    def backward(self, gys):\n",
    "        raise NotImplementedError()"
   ]
  },
  {
   "cell_type": "code",
   "execution_count": 41,
   "id": "e5af479e",
   "metadata": {},
   "outputs": [],
   "source": [
    "class Variable:\n",
    "    def __init__(self, data):\n",
    "        if data is not None: \n",
    "            if not isinstance(data, np.ndarray): \n",
    "                raise TypeError('{}은(는) 지원하지 않습니다.'.format(type(data))) \n",
    "        self.data = data\n",
    "        self.grad = None\n",
    "        self.creator = None\n",
    "        self.generation = 0\n",
    "        \n",
    "    def set_creator(self, func):\n",
    "        self.creator = func\n",
    "        self.generation = func.generation + 1 \n",
    "        \n",
    "    def backward(self):\n",
    "        if self.grad is None:\n",
    "            self.grad = np.ones_like(self.data)\n",
    "            \n",
    "        funcs = [] \n",
    "        seen_set = set() \n",
    "        \n",
    "        def add_func(f):\n",
    "            if f not in seen_set:\n",
    "                funcs.append(f)\n",
    "                seen_set.add(f)\n",
    "                funcs.sort(key=lambda x: x.generation)\n",
    "                \n",
    "        add_func(self.creator) \n",
    "        \n",
    "        while funcs:\n",
    "            f = funcs.pop() \n",
    "            gys = [output().grad for output in f.outputs] # 참조된 데이터에 접근\n",
    "            gxs = f.backward(*gys) \n",
    "            if not isinstance(gxs, tuple): \n",
    "                gxs = (gxs,)\n",
    "                \n",
    "            for x, gx in zip(f.inputs, gxs): \n",
    "                if x.grad is None:\n",
    "                    x.grad = gx \n",
    "                else:\n",
    "                    x.grad = x.grad + gx\n",
    "            \n",
    "                if x.creator is not None:\n",
    "                    add_func(x.creator) \n",
    "                    \n",
    "    def cleargrad(self): \n",
    "        self.grad = None"
   ]
  },
  {
   "cell_type": "code",
   "execution_count": 44,
   "id": "f6efcb46",
   "metadata": {},
   "outputs": [],
   "source": [
    "# 동작 확인\n",
    "for i in range(10):\n",
    "    x = Variable(np.random.randn(10000)) # 거대한 데이터\n",
    "    y = square(square(square(x))) # 복잡한 계산 수행"
   ]
  },
  {
   "cell_type": "markdown",
   "id": "25e0d238",
   "metadata": {},
   "source": [
    "<img src='./img/2/memory_3.png' width=700>"
   ]
  },
  {
   "cell_type": "markdown",
   "id": "49631673",
   "metadata": {},
   "source": [
    "for 문이 두 번째 반복될 때 x와 y가 덮어 써짐  \n",
    "사용자는 이전의 계산 그래프를 더 이상 참조하지 않게 됨  \n",
    "참조 카운트가 0이 되고 이 시점에 계산 그래프에 사용된 메모리가 바로 삭제됨"
   ]
  },
  {
   "cell_type": "markdown",
   "id": "ac00cfbf",
   "metadata": {},
   "source": [
    "# 18단계 메모리 절약 모드"
   ]
  },
  {
   "cell_type": "markdown",
   "id": "bc2daf7a",
   "metadata": {},
   "source": [
    "DeZero의 메모리 사용을 개선할 수 있는 구조 두 가지를 도입  \n",
    "- 역전파 시 사용하는 메모리 양을 줄이는 방법으로, 불필요한 미분 결과를 보관하지 않고 즉시 삭제  \n",
    "- '역전파가 필요 없는 경우용 모드'를 제공. 이 모드에서는 불필요한 계산을 생략"
   ]
  },
  {
   "cell_type": "markdown",
   "id": "5fcf0dad",
   "metadata": {},
   "source": [
    "### 첫 번째 개선  \n",
    "__불필요한 미분 결과를 보관하지 않고 즉시 삭제__  \n",
    "  \n",
    "  \n",
    "현재의 DeZero는 모든 변수가 미분값을 변수에 저장해두고 있음"
   ]
  },
  {
   "cell_type": "code",
   "execution_count": 46,
   "id": "5d6d5d66",
   "metadata": {},
   "outputs": [
    {
     "name": "stdout",
     "output_type": "stream",
     "text": [
      "1.0 1.0\n",
      "2.0 1.0\n"
     ]
    }
   ],
   "source": [
    "x0 = Variable(np.array(1.0))\n",
    "x1 = Variable(np.array(1.0))\n",
    "t = add(x0, x1)\n",
    "y = add(x0, t)\n",
    "y.backward()\n",
    "\n",
    "print(y.grad, t.grad)\n",
    "print(x0.grad, x1.grad)"
   ]
  },
  {
   "cell_type": "markdown",
   "id": "be33e7bd",
   "metadata": {},
   "source": [
    "위 예시에서 사용자가 제공한 변수는 x0, x1이고,  \n",
    "t와 y는 계산 결과로 만들어지며,  \n",
    "y.backward()를 실행하면 모든 변수가 미분 결과를 메모리에 유지함  \n",
    "하지만 많은 경우, 역전파로 구하고 싶은 미분값은 말단 변수(x0, x1)뿐이기 때문에  \n",
    "중간 변수의 미분값은 필요하지 않음  \n",
    "  \n",
    "따라서 Variable 클래스의 backward 메서드에 중간 변수에 대해서는 미분값을 제거하는 모드를 추가"
   ]
  },
  {
   "cell_type": "code",
   "execution_count": 47,
   "id": "19f47660",
   "metadata": {},
   "outputs": [],
   "source": [
    "class Variable:\n",
    "    def __init__(self, data):\n",
    "        if data is not None: \n",
    "            if not isinstance(data, np.ndarray): \n",
    "                raise TypeError('{}은(는) 지원하지 않습니다.'.format(type(data))) \n",
    "        self.data = data\n",
    "        self.grad = None\n",
    "        self.creator = None\n",
    "        self.generation = 0\n",
    "        \n",
    "    def set_creator(self, func):\n",
    "        self.creator = func\n",
    "        self.generation = func.generation + 1 \n",
    "        \n",
    "    def backward(self, retain_grad=False): # retain_grad 추가\n",
    "        if self.grad is None:\n",
    "            self.grad = np.ones_like(self.data)\n",
    "            \n",
    "        funcs = [] \n",
    "        seen_set = set() \n",
    "        \n",
    "        def add_func(f):\n",
    "            if f not in seen_set:\n",
    "                funcs.append(f)\n",
    "                seen_set.add(f)\n",
    "                funcs.sort(key=lambda x: x.generation)\n",
    "                \n",
    "        add_func(self.creator) \n",
    "        \n",
    "        while funcs:\n",
    "            f = funcs.pop() \n",
    "            gys = [output().grad for output in f.outputs]\n",
    "            gxs = f.backward(*gys) \n",
    "            if not isinstance(gxs, tuple): \n",
    "                gxs = (gxs,)\n",
    "                \n",
    "            for x, gx in zip(f.inputs, gxs): \n",
    "                if x.grad is None:\n",
    "                    x.grad = gx \n",
    "                else:\n",
    "                    x.grad = x.grad + gx\n",
    "            \n",
    "                if x.creator is not None:\n",
    "                    add_func(x.creator) \n",
    "                    \n",
    "            if not retain_grad: # retain_grad가 False면 중간변수 미분값을 모두 None으로 재설정\n",
    "                for y in f.outputs:\n",
    "                    y().grad = None # y는 약한 참조(weakref)기 때문에 이 코드를 실행하면 참조 카운트가 0이 되어 메모리에서 삭제됨\n",
    "    def cleargrad(self): \n",
    "        self.grad = None"
   ]
  },
  {
   "cell_type": "code",
   "execution_count": 48,
   "id": "b5b3e301",
   "metadata": {},
   "outputs": [
    {
     "name": "stdout",
     "output_type": "stream",
     "text": [
      "None None\n",
      "2.0 1.0\n"
     ]
    }
   ],
   "source": [
    "x0 = Variable(np.array(1.0))\n",
    "x1 = Variable(np.array(1.0))\n",
    "t = add(x0, x1)\n",
    "y = add(x0, t)\n",
    "y.backward()\n",
    "\n",
    "print(y.grad, t.grad)\n",
    "print(x0.grad, x1.grad)"
   ]
  },
  {
   "cell_type": "markdown",
   "id": "9c1d1a87",
   "metadata": {},
   "source": [
    "### 두번 째 개선  \n",
    "__불필요한 계산을 생략(역전파가 필요없는 경우)__  \n",
    "  \n",
    "인스턴스 변수 inputs는 역전파 계산 시 사용됨  \n",
    "신경망 학습 시에는 미분값이 필요하지만, 추론 시에는 단순히 순전파만 하기 때문에 미분값이 필요 없으며, 중간 결과를 곧바로 버리면 메모리 사용량을 크게 줄일 수 있음  \n",
    "  \n",
    "따라서 Config 클래스를 만들어 활용  "
   ]
  },
  {
   "cell_type": "code",
   "execution_count": 49,
   "id": "bc57dd61",
   "metadata": {},
   "outputs": [],
   "source": [
    "class Config:\n",
    "    enable_backprop = True"
   ]
  },
  {
   "cell_type": "markdown",
   "id": "ff84e05b",
   "metadata": {},
   "source": [
    "True인 경우 '역전파 활성 모드'"
   ]
  },
  {
   "cell_type": "markdown",
   "id": "68422120",
   "metadata": {},
   "source": [
    "Function 클래스에서 Config를 참조하게 하여 모드를 전환할 수 있도록 수정"
   ]
  },
  {
   "cell_type": "code",
   "execution_count": 50,
   "id": "244be271",
   "metadata": {},
   "outputs": [],
   "source": [
    "import weakref\n",
    "\n",
    "class Function:\n",
    "    def __call__(self, *inputs): \n",
    "        xs = [x.data for x in inputs]\n",
    "        ys = self.forward(*xs) \n",
    "        if not isinstance(ys, tuple):\n",
    "            ys = (ys,)\n",
    "        outputs = [Variable(as_array(y)) for y in ys]\n",
    "        \n",
    "        if Config.enable_backprop: # 추가(True일 경우 역전파 활성)\n",
    "            self.generation = max([x.generation for x in inputs])\n",
    "            for output in outputs:\n",
    "                output.set_creator(self)\n",
    "            self.inputs = inputs\n",
    "            self.outputs = [weakref.ref(output) for output in outputs] \n",
    "        return outputs if len(outputs) > 1 else outputs[0]\n",
    "    \n",
    "    def forward(self, xs):\n",
    "        raise NotImplementedError()\n",
    "        \n",
    "    def backward(self, gys):\n",
    "        raise NotImplementedError()"
   ]
  },
  {
   "cell_type": "markdown",
   "id": "a5000350",
   "metadata": {},
   "source": [
    "모드 전환"
   ]
  },
  {
   "cell_type": "code",
   "execution_count": 53,
   "id": "d6a0961e",
   "metadata": {},
   "outputs": [
    {
     "ename": "AttributeError",
     "evalue": "'NoneType' object has no attribute 'generation'",
     "output_type": "error",
     "traceback": [
      "\u001b[0;31m---------------------------------------------------------------------------\u001b[0m",
      "\u001b[0;31mAttributeError\u001b[0m                            Traceback (most recent call last)",
      "\u001b[0;32m/var/folders/gs/xm5833ws6f7361xlj18d2j140000gn/T/ipykernel_1949/591999272.py\u001b[0m in \u001b[0;36m<module>\u001b[0;34m\u001b[0m\n\u001b[1;32m      7\u001b[0m \u001b[0mx\u001b[0m \u001b[0;34m=\u001b[0m \u001b[0mVariable\u001b[0m\u001b[0;34m(\u001b[0m\u001b[0mnp\u001b[0m\u001b[0;34m.\u001b[0m\u001b[0mones\u001b[0m\u001b[0;34m(\u001b[0m\u001b[0;34m(\u001b[0m\u001b[0;36m100\u001b[0m\u001b[0;34m,\u001b[0m \u001b[0;36m100\u001b[0m\u001b[0;34m,\u001b[0m \u001b[0;36m100\u001b[0m\u001b[0;34m)\u001b[0m\u001b[0;34m)\u001b[0m\u001b[0;34m)\u001b[0m\u001b[0;34m\u001b[0m\u001b[0;34m\u001b[0m\u001b[0m\n\u001b[1;32m      8\u001b[0m \u001b[0my\u001b[0m \u001b[0;34m=\u001b[0m \u001b[0msquare\u001b[0m\u001b[0;34m(\u001b[0m\u001b[0msquare\u001b[0m\u001b[0;34m(\u001b[0m\u001b[0msquare\u001b[0m\u001b[0;34m(\u001b[0m\u001b[0mx\u001b[0m\u001b[0;34m)\u001b[0m\u001b[0;34m)\u001b[0m\u001b[0;34m)\u001b[0m\u001b[0;34m\u001b[0m\u001b[0;34m\u001b[0m\u001b[0m\n\u001b[0;32m----> 9\u001b[0;31m \u001b[0my\u001b[0m\u001b[0;34m.\u001b[0m\u001b[0mbackward\u001b[0m\u001b[0;34m(\u001b[0m\u001b[0;34m)\u001b[0m\u001b[0;34m\u001b[0m\u001b[0;34m\u001b[0m\u001b[0m\n\u001b[0m",
      "\u001b[0;32m/var/folders/gs/xm5833ws6f7361xlj18d2j140000gn/T/ipykernel_1949/3706511131.py\u001b[0m in \u001b[0;36mbackward\u001b[0;34m(self, retain_grad)\u001b[0m\n\u001b[1;32m     26\u001b[0m                 \u001b[0mfuncs\u001b[0m\u001b[0;34m.\u001b[0m\u001b[0msort\u001b[0m\u001b[0;34m(\u001b[0m\u001b[0mkey\u001b[0m\u001b[0;34m=\u001b[0m\u001b[0;32mlambda\u001b[0m \u001b[0mx\u001b[0m\u001b[0;34m:\u001b[0m \u001b[0mx\u001b[0m\u001b[0;34m.\u001b[0m\u001b[0mgeneration\u001b[0m\u001b[0;34m)\u001b[0m\u001b[0;34m\u001b[0m\u001b[0;34m\u001b[0m\u001b[0m\n\u001b[1;32m     27\u001b[0m \u001b[0;34m\u001b[0m\u001b[0m\n\u001b[0;32m---> 28\u001b[0;31m         \u001b[0madd_func\u001b[0m\u001b[0;34m(\u001b[0m\u001b[0mself\u001b[0m\u001b[0;34m.\u001b[0m\u001b[0mcreator\u001b[0m\u001b[0;34m)\u001b[0m\u001b[0;34m\u001b[0m\u001b[0;34m\u001b[0m\u001b[0m\n\u001b[0m\u001b[1;32m     29\u001b[0m \u001b[0;34m\u001b[0m\u001b[0m\n\u001b[1;32m     30\u001b[0m         \u001b[0;32mwhile\u001b[0m \u001b[0mfuncs\u001b[0m\u001b[0;34m:\u001b[0m\u001b[0;34m\u001b[0m\u001b[0;34m\u001b[0m\u001b[0m\n",
      "\u001b[0;32m/var/folders/gs/xm5833ws6f7361xlj18d2j140000gn/T/ipykernel_1949/3706511131.py\u001b[0m in \u001b[0;36madd_func\u001b[0;34m(f)\u001b[0m\n\u001b[1;32m     24\u001b[0m                 \u001b[0mfuncs\u001b[0m\u001b[0;34m.\u001b[0m\u001b[0mappend\u001b[0m\u001b[0;34m(\u001b[0m\u001b[0mf\u001b[0m\u001b[0;34m)\u001b[0m\u001b[0;34m\u001b[0m\u001b[0;34m\u001b[0m\u001b[0m\n\u001b[1;32m     25\u001b[0m                 \u001b[0mseen_set\u001b[0m\u001b[0;34m.\u001b[0m\u001b[0madd\u001b[0m\u001b[0;34m(\u001b[0m\u001b[0mf\u001b[0m\u001b[0;34m)\u001b[0m\u001b[0;34m\u001b[0m\u001b[0;34m\u001b[0m\u001b[0m\n\u001b[0;32m---> 26\u001b[0;31m                 \u001b[0mfuncs\u001b[0m\u001b[0;34m.\u001b[0m\u001b[0msort\u001b[0m\u001b[0;34m(\u001b[0m\u001b[0mkey\u001b[0m\u001b[0;34m=\u001b[0m\u001b[0;32mlambda\u001b[0m \u001b[0mx\u001b[0m\u001b[0;34m:\u001b[0m \u001b[0mx\u001b[0m\u001b[0;34m.\u001b[0m\u001b[0mgeneration\u001b[0m\u001b[0;34m)\u001b[0m\u001b[0;34m\u001b[0m\u001b[0;34m\u001b[0m\u001b[0m\n\u001b[0m\u001b[1;32m     27\u001b[0m \u001b[0;34m\u001b[0m\u001b[0m\n\u001b[1;32m     28\u001b[0m         \u001b[0madd_func\u001b[0m\u001b[0;34m(\u001b[0m\u001b[0mself\u001b[0m\u001b[0;34m.\u001b[0m\u001b[0mcreator\u001b[0m\u001b[0;34m)\u001b[0m\u001b[0;34m\u001b[0m\u001b[0;34m\u001b[0m\u001b[0m\n",
      "\u001b[0;32m/var/folders/gs/xm5833ws6f7361xlj18d2j140000gn/T/ipykernel_1949/3706511131.py\u001b[0m in \u001b[0;36m<lambda>\u001b[0;34m(x)\u001b[0m\n\u001b[1;32m     24\u001b[0m                 \u001b[0mfuncs\u001b[0m\u001b[0;34m.\u001b[0m\u001b[0mappend\u001b[0m\u001b[0;34m(\u001b[0m\u001b[0mf\u001b[0m\u001b[0;34m)\u001b[0m\u001b[0;34m\u001b[0m\u001b[0;34m\u001b[0m\u001b[0m\n\u001b[1;32m     25\u001b[0m                 \u001b[0mseen_set\u001b[0m\u001b[0;34m.\u001b[0m\u001b[0madd\u001b[0m\u001b[0;34m(\u001b[0m\u001b[0mf\u001b[0m\u001b[0;34m)\u001b[0m\u001b[0;34m\u001b[0m\u001b[0;34m\u001b[0m\u001b[0m\n\u001b[0;32m---> 26\u001b[0;31m                 \u001b[0mfuncs\u001b[0m\u001b[0;34m.\u001b[0m\u001b[0msort\u001b[0m\u001b[0;34m(\u001b[0m\u001b[0mkey\u001b[0m\u001b[0;34m=\u001b[0m\u001b[0;32mlambda\u001b[0m \u001b[0mx\u001b[0m\u001b[0;34m:\u001b[0m \u001b[0mx\u001b[0m\u001b[0;34m.\u001b[0m\u001b[0mgeneration\u001b[0m\u001b[0;34m)\u001b[0m\u001b[0;34m\u001b[0m\u001b[0;34m\u001b[0m\u001b[0m\n\u001b[0m\u001b[1;32m     27\u001b[0m \u001b[0;34m\u001b[0m\u001b[0m\n\u001b[1;32m     28\u001b[0m         \u001b[0madd_func\u001b[0m\u001b[0;34m(\u001b[0m\u001b[0mself\u001b[0m\u001b[0;34m.\u001b[0m\u001b[0mcreator\u001b[0m\u001b[0;34m)\u001b[0m\u001b[0;34m\u001b[0m\u001b[0;34m\u001b[0m\u001b[0m\n",
      "\u001b[0;31mAttributeError\u001b[0m: 'NoneType' object has no attribute 'generation'"
     ]
    }
   ],
   "source": [
    "Config.enable_backprop = True\n",
    "x = Variable(np.ones((100, 100, 100)))\n",
    "y = square(square(square(x)))\n",
    "y.backward()\n",
    "\n",
    "Config.enable_backprop = False # 중간 결과는 사용 후 곧바로 삭제됨(다른 객체에서의 참조가 없어지는 시점에 삭제됨)\n",
    "x = Variable(np.ones((100, 100, 100)))\n",
    "y = square(square(square(x)))\n",
    "y.backward()"
   ]
  },
  {
   "cell_type": "code",
   "execution_count": 54,
   "id": "c0558ada",
   "metadata": {},
   "outputs": [],
   "source": [
    "Config.enable_backprop = True # 다시 돌려 놓기!"
   ]
  },
  {
   "cell_type": "markdown",
   "id": "7967ed2a",
   "metadata": {},
   "source": [
    "with 문은 with 블록에 들어갈 때 파일이 열리고, with 블록 안에서 파일은 계속 열린 상태이다가 블록을 빠져나올 때 자동으로 닫힘  \n",
    "  \n",
    "__with문의 원리를 이용하여 '역전파 비활성 모드'로 전환__  \n",
    "  \n",
    "ex)  \n",
    "~~~python\n",
    "with using_config('enable_backprop', False):\n",
    "    x = Variable(np.array(2.0))\n",
    "    y = square(x)\n",
    "~~~\n",
    "  \n",
    "위의 코드는 with using_config('enable_backprop', False): 안에서만 '역전파 비활성 모드가 되고  \n",
    "with 블록을 벗어나면 역전파 활성 모드로 돌아감  "
   ]
  },
  {
   "cell_type": "markdown",
   "id": "9b692176",
   "metadata": {},
   "source": [
    "또한 다음과 같이 contextlib 모듈을 사용할 수 있음\n",
    "  \n",
    "~~~python\n",
    "import contextlib\n",
    "\n",
    "@contextlib.contextmanager\n",
    "def config_test():\n",
    "    print('start') # 전처리\n",
    "    try:\n",
    "        yield\n",
    "    finally:\n",
    "        print('done') # 후처리\n",
    "        \n",
    "with config_test():\n",
    "    print('process...')  \n",
    "~~~\n",
    "  \n",
    "\\@contextlib.contextmanager 데코레이터를 달면 문맥을 판단하는 함수가 만들어짐\n",
    "이 하수 안에서 yield 전에는 전처리 로직을, 후에는 후처리 로직을 작성함  \n",
    "이렇게 with config_test(): 형태의 구문을 사용할 수 있음  \n",
    "  \n",
    "with 블록 안에서 예외가 발생한 경우 yield를 실행하는 코드로도 전달됨  \n",
    "따라서 yield는 try/finally로 감싸야 함"
   ]
  },
  {
   "cell_type": "code",
   "execution_count": 55,
   "id": "3dd7778c",
   "metadata": {},
   "outputs": [],
   "source": [
    "import contextlib\n",
    "\n",
    "@contextlib.contextmanager\n",
    "def using_config(name, value):\n",
    "    old_value = getattr(Config, name)\n",
    "    setattr(Config, name, value)\n",
    "    try:\n",
    "        yield\n",
    "    finally:\n",
    "        setattr(Config, name, old_value)"
   ]
  },
  {
   "cell_type": "markdown",
   "id": "468ad508",
   "metadata": {},
   "source": [
    "- getattr(object, name[, default])\n",
    "    : object의 속성 값을 가져옴  \n",
    "  \n",
    "- setattr(object, name, value)\n",
    "    : object에 새로운 값을 설정"
   ]
  },
  {
   "cell_type": "markdown",
   "id": "13f551bd",
   "metadata": {},
   "source": [
    "with 블록에 들어갈 때 name으로 지정한 Config 클래스 속성이 value로 설정되고  \n",
    "with 블록을 빠져나오면서 원래 값(old_value)로 다시 복원됨"
   ]
  },
  {
   "cell_type": "markdown",
   "id": "581a6f50",
   "metadata": {},
   "source": [
    "위 함수는 아래와 같이 사용할 수 있으며, 역전파가 필요 없는 경우에는 with 블록에서 순전파 코드만 실행"
   ]
  },
  {
   "cell_type": "code",
   "execution_count": 56,
   "id": "16a39644",
   "metadata": {},
   "outputs": [],
   "source": [
    "with using_config('enable_backprop', False):\n",
    "    x = Variable(np.array(2.0))\n",
    "    y = square(x)"
   ]
  },
  {
   "cell_type": "markdown",
   "id": "010f7d1e",
   "metadata": {},
   "source": [
    "with using_config('enable_backprop', False): 를 더 간략하게 사용하기 위해 다음 함수를 작성"
   ]
  },
  {
   "cell_type": "code",
   "execution_count": 57,
   "id": "98325724",
   "metadata": {},
   "outputs": [],
   "source": [
    "def no_grad():\n",
    "    return using_config('enable_backprop', False)\n",
    "\n",
    "with no_grad():\n",
    "    x = Variable(np.array(2.0))\n",
    "    y = square(x)"
   ]
  },
  {
   "cell_type": "markdown",
   "id": "b84549f2",
   "metadata": {},
   "source": [
    "# 19단계 변수 사용성 개선"
   ]
  },
  {
   "cell_type": "markdown",
   "id": "8d6c7444",
   "metadata": {},
   "source": [
    "여러 수많은 변수를 처리해야 하기 때문에 변수에 '이름' 붙여주도록 Variable 클래스에 name이라는 인스턴스 변수를 추가 "
   ]
  },
  {
   "cell_type": "code",
   "execution_count": 58,
   "id": "cdb092ea",
   "metadata": {},
   "outputs": [],
   "source": [
    "class Variable:\n",
    "    def __init__(self, data, name=None):\n",
    "        if data is not None: \n",
    "            if not isinstance(data, np.ndarray): \n",
    "                raise TypeError('{}은(는) 지원하지 않습니다.'.format(type(data))) \n",
    "        self.data = data\n",
    "        self.name = name # 추가\n",
    "        self.grad = None\n",
    "        self.creator = None\n",
    "        self.generation = 0\n",
    "        \n",
    "    def set_creator(self, func):\n",
    "        self.creator = func\n",
    "        self.generation = func.generation + 1 \n",
    "        \n",
    "    def backward(self, retain_grad=False): # retain_grad 추가\n",
    "        if self.grad is None:\n",
    "            self.grad = np.ones_like(self.data)\n",
    "            \n",
    "        funcs = [] \n",
    "        seen_set = set() \n",
    "        \n",
    "        def add_func(f):\n",
    "            if f not in seen_set:\n",
    "                funcs.append(f)\n",
    "                seen_set.add(f)\n",
    "                funcs.sort(key=lambda x: x.generation)\n",
    "                \n",
    "        add_func(self.creator) \n",
    "        \n",
    "        while funcs:\n",
    "            f = funcs.pop() \n",
    "            gys = [output().grad for output in f.outputs]\n",
    "            gxs = f.backward(*gys) \n",
    "            if not isinstance(gxs, tuple): \n",
    "                gxs = (gxs,)\n",
    "                \n",
    "            for x, gx in zip(f.inputs, gxs): \n",
    "                if x.grad is None:\n",
    "                    x.grad = gx \n",
    "                else:\n",
    "                    x.grad = x.grad + gx\n",
    "            \n",
    "                if x.creator is not None:\n",
    "                    add_func(x.creator) \n",
    "                    \n",
    "            if not retain_grad:\n",
    "                for y in f.outputs:\n",
    "                    y().grad = None \n",
    "    def cleargrad(self): \n",
    "        self.grad = None"
   ]
  },
  {
   "cell_type": "markdown",
   "id": "5a34af24",
   "metadata": {},
   "source": [
    "Variable은 데이터를 담는 '상자' 역할이지만,  \n",
    "Variable이 데이터인 것처럼 보이게 투명화하는 장치를 추가!  \n",
    "\n",
    "(Variable안에 있는 ndarray를 ndarray처럼 사용할 수 있도록)  "
   ]
  },
  {
   "cell_type": "code",
   "execution_count": 59,
   "id": "db2d51df",
   "metadata": {},
   "outputs": [],
   "source": [
    "class Variable:\n",
    "    def __init__(self, data, name=None):\n",
    "        if data is not None: \n",
    "            if not isinstance(data, np.ndarray): \n",
    "                raise TypeError('{}은(는) 지원하지 않습니다.'.format(type(data))) \n",
    "        self.data = data\n",
    "        self.name = name \n",
    "        self.grad = None\n",
    "        self.creator = None\n",
    "        self.generation = 0\n",
    "        \n",
    "    @property # 추가\n",
    "    def shape(self): \n",
    "        return self.data.shape\n",
    "\n",
    "    @property # 추가\n",
    "    def ndim(self):\n",
    "        return self.data.ndim\n",
    "\n",
    "    @property # 추가\n",
    "    def size(self):\n",
    "        return self.data.size\n",
    "\n",
    "    @property # 추가\n",
    "    def dtype(self):\n",
    "        return self.data.dtype\n",
    "        \n",
    "    def set_creator(self, func):\n",
    "        self.creator = func\n",
    "        self.generation = func.generation + 1 \n",
    "        \n",
    "    def backward(self, retain_grad=False): \n",
    "        if self.grad is None:\n",
    "            self.grad = np.ones_like(self.data)\n",
    "            \n",
    "        funcs = [] \n",
    "        seen_set = set() \n",
    "        \n",
    "        def add_func(f):\n",
    "            if f not in seen_set:\n",
    "                funcs.append(f)\n",
    "                seen_set.add(f)\n",
    "                funcs.sort(key=lambda x: x.generation)\n",
    "                \n",
    "        add_func(self.creator) \n",
    "        \n",
    "        while funcs:\n",
    "            f = funcs.pop() \n",
    "            gys = [output().grad for output in f.outputs]\n",
    "            gxs = f.backward(*gys) \n",
    "            if not isinstance(gxs, tuple): \n",
    "                gxs = (gxs,)\n",
    "                \n",
    "            for x, gx in zip(f.inputs, gxs): \n",
    "                if x.grad is None:\n",
    "                    x.grad = gx \n",
    "                else:\n",
    "                    x.grad = x.grad + gx\n",
    "            \n",
    "                if x.creator is not None:\n",
    "                    add_func(x.creator) \n",
    "                    \n",
    "            if not retain_grad:\n",
    "                for y in f.outputs:\n",
    "                    y().grad = None \n",
    "    def cleargrad(self): \n",
    "        self.grad = None"
   ]
  },
  {
   "cell_type": "markdown",
   "id": "1dc63b3e",
   "metadata": {},
   "source": [
    "이제 shape, ndim, size, dtype 메서드를 인스턴스 변수처럼 사용할 수 있게 됨!"
   ]
  },
  {
   "cell_type": "code",
   "execution_count": 60,
   "id": "fca129e1",
   "metadata": {},
   "outputs": [
    {
     "name": "stdout",
     "output_type": "stream",
     "text": [
      "(2, 3)\n"
     ]
    }
   ],
   "source": [
    "x = Variable(np.array([[1,2,3],[4,5,6]]))\n",
    "print(x.shape) # x.shape() 대신 x.shape으로 호출할 수 있음"
   ]
  },
  {
   "cell_type": "markdown",
   "id": "1d2731a4",
   "metadata": {},
   "source": [
    "len 함수와 Variable의 내용을 쉽게 확인할 수 있도록 print 함수를 사용하여 데이터 내용을 출력하는 함수 추가\n",
    "  "
   ]
  },
  {
   "cell_type": "code",
   "execution_count": 61,
   "id": "2e50d9aa",
   "metadata": {},
   "outputs": [],
   "source": [
    "class Variable:\n",
    "    def __init__(self, data, name=None):\n",
    "        if data is not None: \n",
    "            if not isinstance(data, np.ndarray): \n",
    "                raise TypeError('{}은(는) 지원하지 않습니다.'.format(type(data))) \n",
    "        self.data = data\n",
    "        self.name = name \n",
    "        self.grad = None\n",
    "        self.creator = None\n",
    "        self.generation = 0\n",
    "        \n",
    "    @property\n",
    "    def shape(self): \n",
    "        return self.data.shape\n",
    "\n",
    "    @property\n",
    "    def ndim(self):\n",
    "        return self.data.ndim\n",
    "\n",
    "    @property\n",
    "    def size(self):\n",
    "        return self.data.size\n",
    "\n",
    "    @property\n",
    "    def dtype(self):\n",
    "        return self.data.dtype\n",
    "    \n",
    "    def __len__(self): # 추가\n",
    "        return len(self.data)\n",
    "\n",
    "    def __repr__(self): # 추가\n",
    "        if self.data is None:\n",
    "            return 'variable(None)'\n",
    "        p = str(self.data).replace('\\n', '\\n' + ' ' * 9) # 보기 좋게 출력하기 위해 전처리\n",
    "        return 'variable(' + p + ')'\n",
    "        \n",
    "    def set_creator(self, func):\n",
    "        self.creator = func\n",
    "        self.generation = func.generation + 1 \n",
    "        \n",
    "    def backward(self, retain_grad=False): \n",
    "        if self.grad is None:\n",
    "            self.grad = np.ones_like(self.data)\n",
    "            \n",
    "        funcs = [] \n",
    "        seen_set = set() \n",
    "        \n",
    "        def add_func(f):\n",
    "            if f not in seen_set:\n",
    "                funcs.append(f)\n",
    "                seen_set.add(f)\n",
    "                funcs.sort(key=lambda x: x.generation)\n",
    "                \n",
    "        add_func(self.creator) \n",
    "        \n",
    "        while funcs:\n",
    "            f = funcs.pop() \n",
    "            gys = [output().grad for output in f.outputs]\n",
    "            gxs = f.backward(*gys) \n",
    "            if not isinstance(gxs, tuple): \n",
    "                gxs = (gxs,)\n",
    "                \n",
    "            for x, gx in zip(f.inputs, gxs): \n",
    "                if x.grad is None:\n",
    "                    x.grad = gx \n",
    "                else:\n",
    "                    x.grad = x.grad + gx\n",
    "            \n",
    "                if x.creator is not None:\n",
    "                    add_func(x.creator) \n",
    "                    \n",
    "            if not retain_grad:\n",
    "                for y in f.outputs:\n",
    "                    y().grad = None \n",
    "    def cleargrad(self): \n",
    "        self.grad = None"
   ]
  },
  {
   "cell_type": "code",
   "execution_count": 62,
   "id": "f69a5dc7",
   "metadata": {},
   "outputs": [
    {
     "name": "stdout",
     "output_type": "stream",
     "text": [
      "2\n"
     ]
    }
   ],
   "source": [
    "x = Variable(np.array([[1,2,3],[4,5,6]]))\n",
    "print(len(x)) # len 함수는 ndarray 인스턴스의 경우 첫 번째 차원의 원소 수를 반환함"
   ]
  },
  {
   "cell_type": "code",
   "execution_count": 63,
   "id": "18ab5d42",
   "metadata": {},
   "outputs": [
    {
     "name": "stdout",
     "output_type": "stream",
     "text": [
      "variable([[1 2 3]\n",
      "          [4 5 6]])\n"
     ]
    }
   ],
   "source": [
    "print(repr(x))"
   ]
  },
  {
   "cell_type": "markdown",
   "id": "9721eb9a",
   "metadata": {},
   "source": [
    "# 20단계 연산자 오버로드(1)"
   ]
  },
  {
   "cell_type": "markdown",
   "id": "c187c033",
   "metadata": {},
   "source": [
    "__+와 \\* 연산자를 지원하도록 Variable 클래스를 확장__"
   ]
  },
  {
   "cell_type": "markdown",
   "id": "9b224540",
   "metadata": {},
   "source": [
    "<img src='./img/2/mul_1.png' width=500>  \n",
    "  \n",
    "$y=x_0\\times x_1$일 때 곱셈의 미분은 $\\frac{\\partial{y}}{\\partial{x_0}}=x_1$, $\\frac{\\partial{y}}{\\partial{x_1}}=x_0$  \n",
    "따라서 역전파는 위 그림과 같이 이뤄짐"
   ]
  },
  {
   "cell_type": "code",
   "execution_count": 93,
   "id": "48c2ebe1",
   "metadata": {},
   "outputs": [],
   "source": [
    "class Mul(Function):\n",
    "    def forward(self, x0, x1):\n",
    "        y = x0 * x1\n",
    "        return y\n",
    "    \n",
    "    def backward(self, gy):\n",
    "        x0, x1 = self.inputs[0].data, self.inputs[1].data\n",
    "        return gy * x1, gy * x0"
   ]
  },
  {
   "cell_type": "markdown",
   "id": "4d928683",
   "metadata": {},
   "source": [
    "Mul 클래스를 파이썬 함수로"
   ]
  },
  {
   "cell_type": "code",
   "execution_count": 65,
   "id": "79bf5065",
   "metadata": {},
   "outputs": [],
   "source": [
    "def mul(x0, x1):\n",
    "    return Mul()(x0, x1)"
   ]
  },
  {
   "cell_type": "code",
   "execution_count": 66,
   "id": "b0a66bcc",
   "metadata": {},
   "outputs": [
    {
     "name": "stdout",
     "output_type": "stream",
     "text": [
      "variable(7.0)\n",
      "2.0\n",
      "3.0\n"
     ]
    }
   ],
   "source": [
    "a = Variable(np.array(3.0))\n",
    "b = Variable(np.array(2.0))\n",
    "c = Variable(np.array(1.0))\n",
    "\n",
    "y = add(mul(a, b), c)\n",
    "y.backward()\n",
    "\n",
    "print(y)\n",
    "print(a.grad)\n",
    "print(b.grad)"
   ]
  },
  {
   "cell_type": "markdown",
   "id": "e11d869b",
   "metadata": {},
   "source": [
    "연산자를 오버로드(operator overload)하면 +와 \\*같은 연산자 사용 시 사용자가 설정한 함수가 설정됨  \n",
    "파이썬에서는 \\_\\_add__와 \\_\\_mul__ 같은 특수 메서드를 정의함으로써 사용자 지정 함수가 호출되도록 함  \n",
    "  \n",
    "Variable 클래스에 연산자 +, * 연산자 오버로드  \n",
    "  \n",
    "<img src='./img/2/mul_2.png' width=300>  \n",
    "  \n",
    "~~~python\n",
    "class Variable:\n",
    "    ...\n",
    "    \n",
    "    def __mul__(self, other):\n",
    "        return mul(self, other)\n",
    "~~~  \n",
    "\n",
    "위와 같이 Variable 클래스에 __mul__ 메서드를 추가해서 \\*를 사용한 곱셈을 할 수 있음  \n",
    "더 간단히 처리하려면 다음 코드와 같음"
   ]
  },
  {
   "cell_type": "code",
   "execution_count": 84,
   "id": "400d68ca",
   "metadata": {},
   "outputs": [],
   "source": [
    "class Variable:\n",
    "    def __init__(self, data, name=None):\n",
    "        if data is not None: \n",
    "            if not isinstance(data, np.ndarray): \n",
    "                raise TypeError('{}은(는) 지원하지 않습니다.'.format(type(data))) \n",
    "        self.data = data\n",
    "        self.name = name \n",
    "        self.grad = None\n",
    "        self.creator = None\n",
    "        self.generation = 0\n",
    "        \n",
    "    @property\n",
    "    def shape(self): \n",
    "        return self.data.shape\n",
    "\n",
    "    @property\n",
    "    def ndim(self):\n",
    "        return self.data.ndim\n",
    "\n",
    "    @property\n",
    "    def size(self):\n",
    "        return self.data.size\n",
    "\n",
    "    @property\n",
    "    def dtype(self):\n",
    "        return self.data.dtype\n",
    "    \n",
    "    def __len__(self): \n",
    "        return len(self.data)\n",
    "\n",
    "    def __repr__(self): \n",
    "        if self.data is None:\n",
    "            return 'variable(None)'\n",
    "        p = str(self.data).replace('\\n', '\\n' + ' ' * 9) \n",
    "        return 'variable(' + p + ')'\n",
    "        \n",
    "    def set_creator(self, func):\n",
    "        self.creator = func\n",
    "        self.generation = func.generation + 1 \n",
    "        \n",
    "    def backward(self, retain_grad=False): \n",
    "        if self.grad is None:\n",
    "            self.grad = np.ones_like(self.data)\n",
    "            \n",
    "        funcs = [] \n",
    "        seen_set = set() \n",
    "        \n",
    "        def add_func(f):\n",
    "            if f not in seen_set:\n",
    "                funcs.append(f)\n",
    "                seen_set.add(f)\n",
    "                funcs.sort(key=lambda x: x.generation)\n",
    "                \n",
    "        add_func(self.creator) \n",
    "        \n",
    "        while funcs:\n",
    "            f = funcs.pop() \n",
    "            gys = [output().grad for output in f.outputs]\n",
    "            gxs = f.backward(*gys) \n",
    "            if not isinstance(gxs, tuple): \n",
    "                gxs = (gxs,)\n",
    "                \n",
    "            for x, gx in zip(f.inputs, gxs): \n",
    "                if x.grad is None:\n",
    "                    x.grad = gx \n",
    "                else:\n",
    "                    x.grad = x.grad + gx\n",
    "            \n",
    "                if x.creator is not None:\n",
    "                    add_func(x.creator) \n",
    "                    \n",
    "            if not retain_grad:\n",
    "                for y in f.outputs:\n",
    "                    y().grad = None \n",
    "    def cleargrad(self): \n",
    "        self.grad = None\n",
    "        \n",
    "Variable.__mul__ = mul # 추가\n",
    "Variable.__add__ = add # 추가"
   ]
  },
  {
   "cell_type": "markdown",
   "id": "bf7dcf45",
   "metadata": {},
   "source": [
    "위와 같이 Variable 클래스를 정의한 후 아래 코드를 작성하면  \n",
    "파이썬에서는 함수도 객체이므로 함수 자체를 할당할 수 있음  \n",
    "  \n",
    "이렇게 +와 \\* 연산자 오버로드를 함"
   ]
  },
  {
   "cell_type": "code",
   "execution_count": 68,
   "id": "bfb2a9c8",
   "metadata": {},
   "outputs": [
    {
     "name": "stdout",
     "output_type": "stream",
     "text": [
      "variable(7.0)\n",
      "2.0\n",
      "3.0\n"
     ]
    }
   ],
   "source": [
    "a = Variable(np.array(3.0))\n",
    "b = Variable(np.array(2.0))\n",
    "c = Variable(np.array(1.0))\n",
    "\n",
    "y = a * b + c\n",
    "y.backward()\n",
    "\n",
    "print(y)\n",
    "print(a.grad)\n",
    "print(b.grad)"
   ]
  },
  {
   "cell_type": "markdown",
   "id": "aebea614",
   "metadata": {},
   "source": [
    "# 21단계 연산자 오버로드(2)"
   ]
  },
  {
   "cell_type": "markdown",
   "id": "384c1535",
   "metadata": {},
   "source": [
    "__Variable 인스턴스와 ndarray 인스턴스, int나 float 등을 함께 사용할 수 있도록 수정__  \n",
    "  \n",
    "예를 들어 a가 Variable 인스턴스일 때,  \n",
    "a * np.array(2)라는 코드가 나오면 ndarray인스턴스를 자동으로 Variable 인스턴스로 변환해주는 as_variable 함수 구현"
   ]
  },
  {
   "cell_type": "code",
   "execution_count": 69,
   "id": "2cab09fa",
   "metadata": {},
   "outputs": [],
   "source": [
    "def as_variable(obj):\n",
    "    if isinstance(obj, Variable):\n",
    "        return obj\n",
    "    return Variable(obj)"
   ]
  },
  {
   "cell_type": "markdown",
   "id": "3fee822e",
   "metadata": {},
   "source": [
    "Function 클래스의 \\_\\_call__ 메서드에 as_variable 함수를 이용하도록 코드 추가"
   ]
  },
  {
   "cell_type": "code",
   "execution_count": 89,
   "id": "197d4c98",
   "metadata": {},
   "outputs": [],
   "source": [
    "import weakref\n",
    "\n",
    "class Function:\n",
    "    def __call__(self, *inputs): \n",
    "        inputs = [as_variable(x) for x in inputs] # 추가\n",
    "        \n",
    "        xs = [x.data for x in inputs]\n",
    "        ys = self.forward(*xs) \n",
    "        if not isinstance(ys, tuple):\n",
    "            ys = (ys,)\n",
    "        outputs = [Variable(as_array(y)) for y in ys]\n",
    "        \n",
    "        if Config.enable_backprop: \n",
    "            self.generation = max([x.generation for x in inputs])\n",
    "            for output in outputs:\n",
    "                output.set_creator(self)\n",
    "            self.inputs = inputs\n",
    "            self.outputs = [weakref.ref(output) for output in outputs] \n",
    "        return outputs if len(outputs) > 1 else outputs[0]\n",
    "    \n",
    "    def forward(self, xs):\n",
    "        raise NotImplementedError()\n",
    "        \n",
    "    def backward(self, gys):\n",
    "        raise NotImplementedError()"
   ]
  },
  {
   "cell_type": "code",
   "execution_count": 90,
   "id": "a45b565f",
   "metadata": {
    "scrolled": true
   },
   "outputs": [
    {
     "name": "stdout",
     "output_type": "stream",
     "text": [
      "variable(5.0)\n"
     ]
    }
   ],
   "source": [
    "x = Variable(np.array(2.0))\n",
    "y = x + np.array(3.0)\n",
    "print(y)"
   ]
  },
  {
   "cell_type": "markdown",
   "id": "437954fb",
   "metadata": {},
   "source": [
    "파이썬의 float와 int, np.float64와 np.int64 같은 타입과도 함께 사용할 수 있도록 수정"
   ]
  },
  {
   "cell_type": "code",
   "execution_count": 91,
   "id": "5749059c",
   "metadata": {},
   "outputs": [
    {
     "name": "stdout",
     "output_type": "stream",
     "text": [
      "<class 'numpy.ndarray'>\n"
     ]
    }
   ],
   "source": [
    "abc = 3\n",
    "abc1 = as_array(abc)\n",
    "print(type(abc1))"
   ]
  },
  {
   "cell_type": "code",
   "execution_count": 94,
   "id": "178ff075",
   "metadata": {},
   "outputs": [],
   "source": [
    "def add(x0, x1):\n",
    "    x1 = as_array(x1) # 9단계에서 구현한 함수 # ndarray 인스턴스는 Function 클래스에서 Variable 인스턴스로 변환됨\n",
    "    return Add()(x0, x1)"
   ]
  },
  {
   "cell_type": "code",
   "execution_count": 95,
   "id": "16622899",
   "metadata": {},
   "outputs": [],
   "source": [
    "def mul(x0, x1):\n",
    "    x1 = as_array(x1)\n",
    "    return Mul()(x0, x1)"
   ]
  },
  {
   "cell_type": "code",
   "execution_count": 96,
   "id": "681145c5",
   "metadata": {},
   "outputs": [
    {
     "name": "stdout",
     "output_type": "stream",
     "text": [
      "variable(5.0)\n"
     ]
    }
   ],
   "source": [
    "x = Variable(np.array(2.0))\n",
    "y = x + 3.0\n",
    "print(y)"
   ]
  },
  {
   "cell_type": "markdown",
   "id": "8a411c76",
   "metadata": {},
   "source": [
    "하지만 위의 방식에는 두 가지 문제가 있음"
   ]
  },
  {
   "cell_type": "markdown",
   "id": "9b348e7d",
   "metadata": {},
   "source": [
    "__문제 1 : 첫 번째 인수가 float나 int인 경우__"
   ]
  },
  {
   "cell_type": "code",
   "execution_count": 79,
   "id": "12365981",
   "metadata": {},
   "outputs": [
    {
     "ename": "TypeError",
     "evalue": "unsupported operand type(s) for *: 'float' and 'Variable'",
     "output_type": "error",
     "traceback": [
      "\u001b[0;31m---------------------------------------------------------------------------\u001b[0m",
      "\u001b[0;31mTypeError\u001b[0m                                 Traceback (most recent call last)",
      "\u001b[0;32m/var/folders/gs/xm5833ws6f7361xlj18d2j140000gn/T/ipykernel_1949/3972524523.py\u001b[0m in \u001b[0;36m<module>\u001b[0;34m\u001b[0m\n\u001b[0;32m----> 1\u001b[0;31m \u001b[0my\u001b[0m \u001b[0;34m=\u001b[0m \u001b[0;36m2.0\u001b[0m \u001b[0;34m*\u001b[0m \u001b[0mx\u001b[0m \u001b[0;31m# 오류 발생\u001b[0m\u001b[0;34m\u001b[0m\u001b[0;34m\u001b[0m\u001b[0m\n\u001b[0m",
      "\u001b[0;31mTypeError\u001b[0m: unsupported operand type(s) for *: 'float' and 'Variable'"
     ]
    }
   ],
   "source": [
    "y = 2.0 * x # 오류 발생"
   ]
  },
  {
   "cell_type": "markdown",
   "id": "54368bfa",
   "metadata": {},
   "source": [
    "오류가 발생하는 과정은 다음과 같음  \n",
    "  \n",
    "1. 연산자 왼쪽에 있는 2.0의 \\_\\_mul__ 메서드를 호출하려 시도함\n",
    "2. 하지만 2.0은 float 타입이므로 \\_\\_mul__ 머세드는 구현되어 있지 않음\n",
    "3. 다음은 * 연산자 오른쪽에 있는 x의 특수 메서드를 호출하려고 시도함\n",
    "4. x가 오른쪽에 있기 때문에 \\_\\_rmul__ 메서드를 호출하려 시도함\n",
    "5. 하지만 Variable 인스턴스에는 \\_\\_rmul__ 메서드가 구현되어 있지 않음"
   ]
  },
  {
   "cell_type": "markdown",
   "id": "7ee1f343",
   "metadata": {},
   "source": [
    "곱셈의 경우 피연산자가 좌항이면 \\_\\_mul__ 메서드가 호출되고,  \n",
    "우항이면 \\_\\_rmul__ 메서드가 호출됨  \n",
    "  \n",
    "<img src='./img/2/mul_3.png' width=300>  \n",
    "  \n",
    "위 그림과 같이 \\_\\_rmul__(self, other)의 인수 중 self는 자신인 x에 대응하고, other은 다른 쪽 항인 2.0에 대응함  \n",
    "곰셈과 덧셈의 경우 좌항과 우항을 바꿔도 결과가 같기 때문에 둘을 구별할 필요가 없음  \n",
    "따라서 특수 메서드를 다음과 같이 설정"
   ]
  },
  {
   "cell_type": "code",
   "execution_count": 102,
   "id": "17ee718d",
   "metadata": {},
   "outputs": [],
   "source": [
    "Variable.__add__ = add\n",
    "Variable.__radd__ = add\n",
    "Variable.__mul__ = mul\n",
    "Variable.__rmul__ = mul"
   ]
  },
  {
   "cell_type": "code",
   "execution_count": 98,
   "id": "ef8a7c0d",
   "metadata": {},
   "outputs": [
    {
     "name": "stdout",
     "output_type": "stream",
     "text": [
      "variable(7.0)\n"
     ]
    }
   ],
   "source": [
    "x = Variable(np.array(2.0))\n",
    "y = 3.0 * x + 1.0\n",
    "print(y)"
   ]
  },
  {
   "cell_type": "markdown",
   "id": "28c779cc",
   "metadata": {},
   "source": [
    "__문제2 : 좌항이 ndarray 인스턴스인 경우__  "
   ]
  },
  {
   "cell_type": "code",
   "execution_count": 99,
   "id": "ff828332",
   "metadata": {},
   "outputs": [],
   "source": [
    "x = Variable(np.array([1.0]))\n",
    "y = np.array([2.0]) + x"
   ]
  },
  {
   "cell_type": "markdown",
   "id": "4c0d46df",
   "metadata": {},
   "source": [
    "이런 경우 좌항인 ndarray 인스턴스의 \\_\\_add__ 메서드가 호출됨  \n",
    "우항인 Variable 인스턴스의 \\_\\_radd__ 메서드가 호출되도록 하려면 연산자 우선순위를 지정해야 함  \n",
    "  \n",
    "Variable 인스턴스 속석에 \\_\\_array_priority__를 추가하고 큰 정수로 설정하면 Variable 인스턴스의 연산자 우선순위를 ndarray 인스턴스의 연산자 우선순위보다 높일 수 있음  \n",
    "좌항이 ndarray라 해도 우항인 Variable 인스턴스의 연산자 메서드가 우선적으로 호출됨"
   ]
  },
  {
   "cell_type": "code",
   "execution_count": 100,
   "id": "72d1393a",
   "metadata": {},
   "outputs": [],
   "source": [
    "class Variable:\n",
    "    def __init__(self, data, name=None):\n",
    "        __array_priority__ = 200 # 큰 정수로 설정\n",
    "        \n",
    "        if data is not None: \n",
    "            if not isinstance(data, np.ndarray): \n",
    "                raise TypeError('{}은(는) 지원하지 않습니다.'.format(type(data))) \n",
    "        self.data = data\n",
    "        self.name = name \n",
    "        self.grad = None\n",
    "        self.creator = None\n",
    "        self.generation = 0\n",
    "        \n",
    "    @property\n",
    "    def shape(self): \n",
    "        return self.data.shape\n",
    "\n",
    "    @property\n",
    "    def ndim(self):\n",
    "        return self.data.ndim\n",
    "\n",
    "    @property\n",
    "    def size(self):\n",
    "        return self.data.size\n",
    "\n",
    "    @property\n",
    "    def dtype(self):\n",
    "        return self.data.dtype\n",
    "    \n",
    "    def __len__(self): \n",
    "        return len(self.data)\n",
    "\n",
    "    def __repr__(self): \n",
    "        if self.data is None:\n",
    "            return 'variable(None)'\n",
    "        p = str(self.data).replace('\\n', '\\n' + ' ' * 9) \n",
    "        return 'variable(' + p + ')'\n",
    "        \n",
    "    def set_creator(self, func):\n",
    "        self.creator = func\n",
    "        self.generation = func.generation + 1 \n",
    "        \n",
    "    def backward(self, retain_grad=False): \n",
    "        if self.grad is None:\n",
    "            self.grad = np.ones_like(self.data)\n",
    "            \n",
    "        funcs = [] \n",
    "        seen_set = set() \n",
    "        \n",
    "        def add_func(f):\n",
    "            if f not in seen_set:\n",
    "                funcs.append(f)\n",
    "                seen_set.add(f)\n",
    "                funcs.sort(key=lambda x: x.generation)\n",
    "                \n",
    "        add_func(self.creator) \n",
    "        \n",
    "        while funcs:\n",
    "            f = funcs.pop() \n",
    "            gys = [output().grad for output in f.outputs]\n",
    "            gxs = f.backward(*gys) \n",
    "            if not isinstance(gxs, tuple): \n",
    "                gxs = (gxs,)\n",
    "                \n",
    "            for x, gx in zip(f.inputs, gxs): \n",
    "                if x.grad is None:\n",
    "                    x.grad = gx \n",
    "                else:\n",
    "                    x.grad = x.grad + gx\n",
    "            \n",
    "                if x.creator is not None:\n",
    "                    add_func(x.creator) \n",
    "                    \n",
    "            if not retain_grad:\n",
    "                for y in f.outputs:\n",
    "                    y().grad = None \n",
    "    def cleargrad(self): \n",
    "        self.grad = None"
   ]
  },
  {
   "cell_type": "code",
   "execution_count": 103,
   "id": "dc2f0baa",
   "metadata": {},
   "outputs": [
    {
     "data": {
      "text/plain": [
       "array([variable([3.])], dtype=object)"
      ]
     },
     "execution_count": 103,
     "metadata": {},
     "output_type": "execute_result"
    }
   ],
   "source": [
    "x = Variable(np.array([1.0]))\n",
    "y = np.array([2.0]) + x\n",
    "y"
   ]
  },
  {
   "cell_type": "markdown",
   "id": "7bfcb9ce",
   "metadata": {},
   "source": [
    "# 22단계 연산자 오버로드(3)"
   ]
  },
  {
   "cell_type": "markdown",
   "id": "09c84603",
   "metadata": {},
   "source": [
    "연산자 추가  \n",
    "  \n",
    "특수 메서드|예\n",
    "--------|--\n",
    "\\_\\_neg__(self)|-self\n",
    "\\_\\_sub__(self, other)|self - other\n",
    "\\_\\_rsub__(self, other)|other - self\n",
    "\\_\\_truediv__(self, other)|self / other\n",
    "\\_\\_rtruediv__(self, other)|other / self\n",
    "\\_\\_pow__(self, other)|self ** other  \n",
    "  \n",
    "새로운 연산자 추가하는 순서  \n",
    "  \n",
    "1. Function 클래스를 상속하여 원하는 함수 클래스를 구현함(ex: Mul클래스)\n",
    "2. 파이썬 함수로 사용할 수 있도록 함(ex: mul함수)\n",
    "3. Variable 클래스의 연산자를 오버로드함(ex: Variable.\\_\\_mul__ = mul)"
   ]
  },
  {
   "cell_type": "markdown",
   "id": "10ae004e",
   "metadata": {},
   "source": [
    "__음수(부호 변환)__  \n",
    "  \n",
    "$y=-x$일 때 음수의 미분값은 $\\frac{\\partial{y}}{\\partial{x}}=-1$  \n",
    "따라서 역전파는 상류(출력 쪽)에서 전해지는 미분에 -1을 곱하여 하류로 흘려줌"
   ]
  },
  {
   "cell_type": "code",
   "execution_count": 104,
   "id": "24dc1eed",
   "metadata": {},
   "outputs": [],
   "source": [
    "class Neg(Function):\n",
    "    def forward(self, x):\n",
    "        return -x\n",
    "    \n",
    "    def backward(self, gy):\n",
    "        return -gy\n",
    "    \n",
    "def neg(x):\n",
    "    return Neg()(x)\n",
    "\n",
    "Variable.__neg__ = neg"
   ]
  },
  {
   "cell_type": "code",
   "execution_count": 105,
   "id": "93c2f95b",
   "metadata": {},
   "outputs": [
    {
     "name": "stdout",
     "output_type": "stream",
     "text": [
      "variable(-2.0)\n"
     ]
    }
   ],
   "source": [
    "x = Variable(np.array(2.0))\n",
    "y = -x # 부호를 바꾼다.\n",
    "print(y)"
   ]
  },
  {
   "cell_type": "markdown",
   "id": "9009809d",
   "metadata": {},
   "source": [
    "__뺄셈__  \n",
    "  \n",
    "$y=x_0-x_1$일 때 뺄셈의 미분값은 $\\frac{\\partial{y}}{\\partial{x_0}}=1$, $\\frac{\\partial{y}}{\\partial{x_1}}=-1$  \n",
    "따라서 역전파는 상류(출력 쪽)에서 전해지는 미분에 1을 곱한 값이 $x_0$의 미분 결과,  \n",
    "-1을 곱한 값이 $x_1$의 미분 결과가 됨"
   ]
  },
  {
   "cell_type": "code",
   "execution_count": 106,
   "id": "95269cf0",
   "metadata": {},
   "outputs": [],
   "source": [
    "class Sub(Function):\n",
    "    def forward(self, x0, x1):\n",
    "        y = x0 - x1\n",
    "        return y\n",
    "    \n",
    "    def backward(self, gy):\n",
    "        return gy, -gy\n",
    "    \n",
    "def sub(x0, x1):\n",
    "    x1 = as_array(x1)\n",
    "    return Sub()(x0, x1)\n",
    "\n",
    "Variable.__sub__ = sub"
   ]
  },
  {
   "cell_type": "markdown",
   "id": "feb4ef2a",
   "metadata": {},
   "source": [
    "<img src='./img/2/sub_1.png' width=300>"
   ]
  },
  {
   "cell_type": "markdown",
   "id": "43a3c74c",
   "metadata": {},
   "source": [
    "예를 들어 y = 2.0 - x 같이 $x_0$이 Variable 인스턴스가 아닌 경우에는 제대로 처리가 되지 않음  \n",
    "  \n",
    "뺄셈에서는 좌우를 구별해야하므로 우항을 대상으로 할 경우 따로 함수를 준비해야 함  "
   ]
  },
  {
   "cell_type": "code",
   "execution_count": 107,
   "id": "7512ecac",
   "metadata": {},
   "outputs": [],
   "source": [
    "def rsub(x0, x1):\n",
    "    x1 = as_array(x1)\n",
    "    return Sub()(x1, x0) # x0과 x1의 순서를 바꿈\n",
    "\n",
    "Variable.__rsub__ = rsub"
   ]
  },
  {
   "cell_type": "code",
   "execution_count": 108,
   "id": "1ee3b24a",
   "metadata": {},
   "outputs": [
    {
     "name": "stdout",
     "output_type": "stream",
     "text": [
      "variable(0.0) variable(1.0)\n"
     ]
    }
   ],
   "source": [
    "x = Variable(np.array(2.0))\n",
    "y1 = 2.0 - x\n",
    "y2 = x - 1.0\n",
    "\n",
    "print(y1, y2)"
   ]
  },
  {
   "cell_type": "markdown",
   "id": "9b886b2a",
   "metadata": {},
   "source": [
    "__나눗셈__  \n",
    "  \n",
    "$y=x_0/x_1$일 때 나눗셈의 미분값은 $\\frac{\\partial{y}}{\\partial{x_0}}=\\frac{1}{x_1}$, $\\frac{\\partial{y}}{\\partial{x_1}}=-\\frac{x_0}{(x_1)^2}$  \n",
    "  \n",
    "나눗셈도 뺄셈과 마찬가지로 좌우를 구별해야 함"
   ]
  },
  {
   "cell_type": "code",
   "execution_count": 109,
   "id": "e0013649",
   "metadata": {},
   "outputs": [],
   "source": [
    "class Div(Function):\n",
    "    def forward(self, x0, x1):\n",
    "        y = x0 / x1\n",
    "        return y\n",
    "    \n",
    "    def backward(self, gy):\n",
    "        x0, x1 = self.inputs[0].data, self.inputs[1].data\n",
    "        gx0 = gy / x1\n",
    "        gx1 = gy * (-x0 / x1**2)\n",
    "        return gx0, gx1\n",
    "    \n",
    "def div(x0, x1):\n",
    "    x1 = as_array(x1)\n",
    "    return Div()(x0, x1)\n",
    "\n",
    "def rdiv(x0, x1):\n",
    "    x1 = as_array(x1)\n",
    "    return Div()(x1, x0) # x0과 x1을 바꾼다.\n",
    "\n",
    "Variable.__truediv__ = div\n",
    "Variable.__rtruediv__ = rdiv"
   ]
  },
  {
   "cell_type": "code",
   "execution_count": 110,
   "id": "e8b45d37",
   "metadata": {},
   "outputs": [
    {
     "name": "stdout",
     "output_type": "stream",
     "text": [
      "variable(2.0) variable(4.0)\n"
     ]
    }
   ],
   "source": [
    "x = Variable(np.array(12.0))\n",
    "y1 = 24.0 / x\n",
    "y2 = x / 3.0\n",
    "\n",
    "print(y1, y2)"
   ]
  },
  {
   "cell_type": "markdown",
   "id": "8033bd0b",
   "metadata": {},
   "source": [
    "__거듭제곱__  \n",
    "  \n",
    "$y=x^c$일 때 거듭제곱의 미분값은 $\\frac{\\partial{y}}{\\partial{x}}=cx^{c-1}$  \n",
    "  "
   ]
  },
  {
   "cell_type": "code",
   "execution_count": 111,
   "id": "9b2d7f2f",
   "metadata": {},
   "outputs": [],
   "source": [
    "class Pow(Function):\n",
    "    def __init__(self, c):\n",
    "        self.c = c\n",
    "        \n",
    "    def forward(self, x):\n",
    "        y = x ** self.c\n",
    "        return y\n",
    "    \n",
    "    def backward(self, gy):\n",
    "        x = self.inputs[0].data\n",
    "        c = self.c\n",
    "        gx = c * x ** (c-1) * gy\n",
    "        return gx\n",
    "    \n",
    "def pow(x, c):\n",
    "    return Pow(c)(x)\n",
    "\n",
    "Variable.__pow__ = pow"
   ]
  },
  {
   "cell_type": "code",
   "execution_count": 112,
   "id": "ef567f07",
   "metadata": {},
   "outputs": [
    {
     "name": "stdout",
     "output_type": "stream",
     "text": [
      "variable(8.0)\n"
     ]
    }
   ],
   "source": [
    "x = Variable(np.array(2.0))\n",
    "y = x ** 3\n",
    "print(y)"
   ]
  },
  {
   "cell_type": "markdown",
   "id": "73e4e5ef",
   "metadata": {},
   "source": [
    "# 23단계 패키지로 정리"
   ]
  },
  {
   "cell_type": "markdown",
   "id": "a5561d7e",
   "metadata": {},
   "source": [
    "- 모듈 : 다른 파이썬 프로그램에서 임포트(import)하여 사용하는 것을 가정하고 만들어진 파이썬 파일 \n",
    "- 패키지 : 여러 모듈을 묶은 것. 디렉터리를 만들고 그 안에 모듈(파이썬 파일)을 추가\n",
    "- 라이브러리 : 여러 패키지를 묶은 것. 하나 이상의 디렉터리로 구성됨. 때로는 패키지를 라이브러리라고 부르기도 함"
   ]
  },
  {
   "cell_type": "markdown",
   "id": "58e4f27d",
   "metadata": {},
   "source": [
    "패키지로 정리하기  \n",
    "  \n",
    "__1. 파일 구성__  \n",
    "  \n",
    "dezero라는 공통의 디렉터리 생성  \n",
    "  \n",
    "__2. 코어 클래스로 옮기기__  \n",
    "  \n",
    "step22.py에 정의된 다음 클래스들과 함수들을 코어 파일로 복사(파일명은 core_simple.py)  \n",
    "- 클래스 : Config, Variable, Function, Add(Function), Mul(Function), Neg(Fungtion), Sub(Function), Div(Function), Pow(Function)  \n",
    "- 함수 : using_config, no_grad, as_array, as_variable, add, mul, neg, sub, rsub, div, rdiv, pow  \n",
    "  \n",
    "__3. 연산자 오버로드__  \n",
    "  \n",
    "~~~python\n",
    "def setup_variable():\n",
    "    Variable.__add__ = add\n",
    "    Variable.__radd__ = add\n",
    "    Variable.__mul__ = mul\n",
    "    Variable.__rmul__ = mul\n",
    "    Variable.__neg__ = neg\n",
    "    Variable.__sub__ = sub\n",
    "    Variable.__rsub__ = rsub\n",
    "    Variable.__truediv__ = div\n",
    "    Variable.__rtruediv__ = rdiv\n",
    "    Variable.__pow__ = pow\n",
    "~~~\n",
    "위 코드를 core_simple.py에 추가  \n",
    "이 함수를 호출하면 Variable의 연산자들이 설정됨  \n",
    "\n",
    "이 함수는 dezero/\\_\\_init__.py에서 호출!  \n",
    "\\_\\_init__.py는 모듈을 임포트할 때 가장 먼저 실행되는 파일임  \n",
    "따라서 dezero/\\_\\_init__.py에 다음 코드 작성\n",
    "\n",
    "~~~python\n",
    "from dezero.core_simple import Variable\n",
    "from dezero.core_simple import Function\n",
    "from dezero.core_simple import using_config\n",
    "from dezero.core_simple import no_grad\n",
    "from dezero.core_simple import as_array\n",
    "from dezero.core_simple import as_variable\n",
    "from dezero.core_simple import setup_variable\n",
    "\n",
    "setup_variable()\n",
    "~~~\n",
    "  \n",
    "from dezero.core_simple import (  ) -> 이 코드로 인해  \n",
    "dezero를 이용하는 사용자의 코드는 from dezero import (  ) 와 같이 짧아짐  "
   ]
  },
  {
   "cell_type": "markdown",
   "id": "f14d4e2e",
   "metadata": {},
   "source": [
    "33단계부터는 core_simple.py가 아닌 core.py로 대체할 예정  \n",
    "따라서 \\_\\_init__.py 파일을 다음과 같이 수정  \n",
    "  \n",
    "~~~python\n",
    "is_simple_core = True\n",
    "\n",
    "if is_simple_core:\n",
    "    from dezero.core_simple import Variable\n",
    "    from dezero.core_simple import Function\n",
    "    from dezero.core_simple import using_config\n",
    "    from dezero.core_simple import no_grad\n",
    "    from dezero.core_simple import as_array\n",
    "    from dezero.core_simple import as_variable\n",
    "    from dezero.core_simple import setup_variable\n",
    "\n",
    "else:\n",
    "    from dezero.core import Variable\n",
    "    from dezero.core import Function\n",
    "    from dezero.core import using_config\n",
    "    from dezero.core import no_grad\n",
    "    from dezero.core import as_array\n",
    "    from dezero.core import as_variable\n",
    "    from dezero.core import setup_variable\n",
    "    \n",
    "setup_variable()\n",
    "~~~\n",
    "  \n",
    "(33단계부터 is_simple_core의 값을 False로 바꿔주기!)  \n",
    "  \n",
    "이렇게 dezero라는 패키지가 만들어졌음"
   ]
  },
  {
   "cell_type": "code",
   "execution_count": 113,
   "id": "092d6c50",
   "metadata": {},
   "outputs": [
    {
     "name": "stdout",
     "output_type": "stream",
     "text": [
      "variable(16.0)\n",
      "8.0\n"
     ]
    }
   ],
   "source": [
    "if '__file__' in globals():\n",
    "    import os, sys\n",
    "    sys.path.append(os.path.dirname(__file__), '..') # 파이썬 명령어를 어디에서 실행하든 deero 디렉터리 파일들을 임포트 할 수 있음\n",
    "    \n",
    "import numpy as np\n",
    "from dezero.core_simple import Variable, setup_variable\n",
    "\n",
    "setup_variable()\n",
    "\n",
    "x = Variable(np.array(1.0))\n",
    "y = (x + 3) ** 2\n",
    "y.backward()\n",
    "\n",
    "print(y)\n",
    "print(x.grad)"
   ]
  },
  {
   "cell_type": "markdown",
   "id": "07801c9f",
   "metadata": {},
   "source": [
    "# 24단계 복잡한 함수의 미분"
   ]
  },
  {
   "cell_type": "markdown",
   "id": "6c8cc40c",
   "metadata": {},
   "source": [
    "<img src='./img/2/test.png' width=500>\n",
    "  \n",
    "최적화 문제에서 자주 사용되는 테스트 함수로 Dezero가 미분을 얼마나 잘 계산하는지 확인  "
   ]
  },
  {
   "cell_type": "markdown",
   "id": "fd12b5a1",
   "metadata": {},
   "source": [
    "__Sphere 함수__  \n",
    "  \n",
    "$z =x^2+y^2$  "
   ]
  },
  {
   "cell_type": "code",
   "execution_count": 114,
   "id": "0354cf7f",
   "metadata": {},
   "outputs": [
    {
     "name": "stdout",
     "output_type": "stream",
     "text": [
      "2.0 2.0\n"
     ]
    }
   ],
   "source": [
    "import numpy as np\n",
    "from dezero import Variable\n",
    "\n",
    "def sphere(x, y):\n",
    "    z = x ** 2 + y ** 2\n",
    "    return z\n",
    "\n",
    "x = Variable(np.array(1.0))\n",
    "y = Variable(np.array(1.0))\n",
    "z = sphere(x, y)\n",
    "z.backward()\n",
    "print(x.grad, y.grad)"
   ]
  },
  {
   "cell_type": "markdown",
   "id": "b7e27129",
   "metadata": {},
   "source": [
    "__matyas 함수__  \n",
    "  \n",
    "$z=0.26(x^2+y^2)-0.48xy$"
   ]
  },
  {
   "cell_type": "code",
   "execution_count": 115,
   "id": "a7d54522",
   "metadata": {},
   "outputs": [
    {
     "name": "stdout",
     "output_type": "stream",
     "text": [
      "0.040000000000000036 0.040000000000000036\n"
     ]
    }
   ],
   "source": [
    "def matyas(x, y):\n",
    "    z = 0.26 * (x ** 2 + y ** 2) - 0.48 * x * y\n",
    "    return z\n",
    "\n",
    "x = Variable(np.array(1.0))\n",
    "y = Variable(np.array(1.0))\n",
    "z = matyas(x, y)\n",
    "z.backward()\n",
    "print(x.grad, y.grad)"
   ]
  },
  {
   "cell_type": "markdown",
   "id": "1f13acc1",
   "metadata": {},
   "source": [
    "__Goldstein-Price 함수__  \n",
    "  \n",
    "$f(x,y)=[1+(x+y+1)^2(19-14x+3x^2-14y+6xy+3y^2)]\\\n",
    "    [30+(2x-3y)^2(18-32x+12x^2+48y-36xy+27y^2)]$"
   ]
  },
  {
   "cell_type": "code",
   "execution_count": 116,
   "id": "6e9c141d",
   "metadata": {},
   "outputs": [],
   "source": [
    "def goldstein(x, y):\n",
    "    z = (1 + (x + y + 1)**2 * (19 - 14*x + 3*x**2 - 14*y + 6*x*y + 3*y**2))*\\\n",
    "    (30 + (2*x - 3*y)**2 * (18 -32*x + 12*x**2 + 48*y - 36*x*y + 27*y**2))\n",
    "    return z"
   ]
  },
  {
   "cell_type": "code",
   "execution_count": 117,
   "id": "8d04bf7a",
   "metadata": {},
   "outputs": [
    {
     "name": "stdout",
     "output_type": "stream",
     "text": [
      "-5376.0 8064.0\n"
     ]
    }
   ],
   "source": [
    "x = Variable(np.array(1.0))\n",
    "y = Variable(np.array(1.0))\n",
    "z = goldstein(x, y)\n",
    "z.backward()\n",
    "print(x.grad, y.grad)"
   ]
  },
  {
   "cell_type": "markdown",
   "id": "59ff3754",
   "metadata": {},
   "source": [
    "# APPENDIX A 인플레이스 연산(14단계 보충)"
   ]
  },
  {
   "cell_type": "markdown",
   "id": "63469eed",
   "metadata": {},
   "source": [
    "출력 쪽에서 전해지는 미분값을 그대로 대입하므로 같은 변수를 반복해서 사용하면 전파되는 미분값이 덮어 써지는 문제로 Variable 클래스를 다음과 같이 수정"
   ]
  },
  {
   "cell_type": "code",
   "execution_count": 20,
   "id": "303f7554",
   "metadata": {},
   "outputs": [],
   "source": [
    "class Variable:\n",
    "    def __init__(self, data):\n",
    "        if data is not None: \n",
    "            if not isinstance(data, np.ndarray): \n",
    "                raise TypeError('{}은(는) 지원하지 않습니다.'.format(type(data))) \n",
    "        self.data = data\n",
    "        self.grad = None\n",
    "        self.creator = None\n",
    "        \n",
    "    def set_creator(self, func):\n",
    "        self.creator = func\n",
    "        \n",
    "    def backward(self):\n",
    "        if self.grad is None:\n",
    "            self.grad = np.ones_like(self.data)\n",
    "            \n",
    "        funcs = [self.creator]\n",
    "        while funcs:\n",
    "            f = funcs.pop() \n",
    "            gys = [output.grad for output in f.outputs] \n",
    "            gxs = f.backward(*gys) \n",
    "            if not isinstance(gxs, tuple): \n",
    "                gxs = (gxs,)\n",
    "                \n",
    "            for x, gx in zip(f.inputs, gxs): \n",
    "                if x.grad is None:\n",
    "                    x.grad = gx \n",
    "                else:\n",
    "                    x.grad = x.grad + gx # 다음번부터는 전달된 미분값을 더해줌\n",
    "                    # x.grad += gx 라고 쓰면 문제 발생 -> 부록 A 참고\n",
    "            \n",
    "                if x.creator is not None:\n",
    "                    funcs.append(x.creator)"
   ]
  },
  {
   "cell_type": "markdown",
   "id": "a04e8951",
   "metadata": {},
   "source": [
    "1차 미분의 결과(기울기)가 전파됐을 때는 x.grad = gx로 대입하고, 그 이후로는 x.grad = x.grad + gx로 '누적'하는 부분에서  \n",
    "x.grad += gx 라고 쓰면 문제가 됨"
   ]
  },
  {
   "cell_type": "code",
   "execution_count": 21,
   "id": "13ec7a96",
   "metadata": {},
   "outputs": [
    {
     "name": "stdout",
     "output_type": "stream",
     "text": [
      "140195406241488\n",
      "140195406241488\n",
      "140194859145264\n"
     ]
    }
   ],
   "source": [
    "import numpy as np\n",
    "x = np.array(1)\n",
    "print(id(x)) \n",
    "\n",
    "x += x # 덮어 쓰기\n",
    "print(id(x))\n",
    "\n",
    "x = x + x # 복사(새로 생성)\n",
    "print(id(x))"
   ]
  },
  {
   "cell_type": "markdown",
   "id": "a87e9b81",
   "metadata": {},
   "source": [
    "위 예시와 같이 누적 대입 연산자인 +=를 사용하면 x의 객체ID가 변하지 않음(메모리 위치가 동일). 즉, 값만 덮어 쓴 것임  \n",
    "이처럼 복사하지 않고 메모리의 값을 직접 덮어 쓰는 연산을 인플레이스 연산(in-place operation)이라고 함  \n",
    "  \n",
    "한편 x = x + x를 실행했을 때는 객체ID가 달라졌음  \n",
    "다른 위치에 새로운 ndarray 인스턴스가 생성(복사)됨  \n",
    "  \n",
    "메모리 효율 측면에서는 인플레이스 연산을 사용하는게 바람직할 수 있으나,  \n",
    "역전파에서 문제가 생김  \n",
    "  \n",
    "인플레이스 연산으로 덮어쓰는 방식으로 진행하면 다음과 같다."
   ]
  },
  {
   "cell_type": "code",
   "execution_count": 22,
   "id": "e85bde79",
   "metadata": {},
   "outputs": [],
   "source": [
    "# 잘못된 예시\n",
    "class Variable:\n",
    "    def __init__(self, data):\n",
    "        if data is not None: \n",
    "            if not isinstance(data, np.ndarray): \n",
    "                raise TypeError('{}은(는) 지원하지 않습니다.'.format(type(data))) \n",
    "        self.data = data\n",
    "        self.grad = None\n",
    "        self.creator = None\n",
    "        \n",
    "    def set_creator(self, func):\n",
    "        self.creator = func\n",
    "        \n",
    "    def backward(self):\n",
    "        if self.grad is None:\n",
    "            self.grad = np.ones_like(self.data)\n",
    "            \n",
    "        funcs = [self.creator]\n",
    "        while funcs:\n",
    "            f = funcs.pop() \n",
    "            gys = [output.grad for output in f.outputs] \n",
    "            gxs = f.backward(*gys) \n",
    "            if not isinstance(gxs, tuple): \n",
    "                gxs = (gxs,)\n",
    "                \n",
    "            for x, gx in zip(f.inputs, gxs): \n",
    "                if x.grad is None:\n",
    "                    x.grad = gx \n",
    "                else:\n",
    "#                     x.grad = x.grad + gx \n",
    "                    x.grad += gx # 문제 발생함\n",
    "            \n",
    "                if x.creator is not None:\n",
    "                    funcs.append(x.creator)"
   ]
  },
  {
   "cell_type": "code",
   "execution_count": 23,
   "id": "fb069732",
   "metadata": {},
   "outputs": [
    {
     "name": "stdout",
     "output_type": "stream",
     "text": [
      "y.grad: 2(140195404855312)\n",
      "x.grad: 2(140195404855312)\n"
     ]
    }
   ],
   "source": [
    "x = Variable(np.array(3))\n",
    "y = add(x,x)\n",
    "y.backward()\n",
    "\n",
    "print('y.grad: {}({})'.format(y.grad, id(y.grad))) # 1\n",
    "print('x.grad: {}({})'.format(x.grad, id(x.grad)))"
   ]
  },
  {
   "cell_type": "markdown",
   "id": "c8c9dece",
   "metadata": {},
   "source": [
    "인플레이스 연산이 갚을 덮어 썼기 때문에 y.grad와 x.grad가 같은 값을 참조하게 되어 잘못된 결과가 나옴.  \n",
    "따라서 x.grad = x.grad + gx로 사용해야 함"
   ]
  },
  {
   "cell_type": "code",
   "execution_count": 24,
   "id": "77d7b46f",
   "metadata": {},
   "outputs": [],
   "source": [
    "# 바른 예시\n",
    "class Variable:\n",
    "    def __init__(self, data):\n",
    "        if data is not None: \n",
    "            if not isinstance(data, np.ndarray): \n",
    "                raise TypeError('{}은(는) 지원하지 않습니다.'.format(type(data))) \n",
    "        self.data = data\n",
    "        self.grad = None\n",
    "        self.creator = None\n",
    "        \n",
    "    def set_creator(self, func):\n",
    "        self.creator = func\n",
    "        \n",
    "    def backward(self):\n",
    "        if self.grad is None:\n",
    "            self.grad = np.ones_like(self.data)\n",
    "            \n",
    "        funcs = [self.creator]\n",
    "        while funcs:\n",
    "            f = funcs.pop() \n",
    "            gys = [output.grad for output in f.outputs] \n",
    "            gxs = f.backward(*gys) \n",
    "            if not isinstance(gxs, tuple): \n",
    "                gxs = (gxs,)\n",
    "                \n",
    "            for x, gx in zip(f.inputs, gxs): \n",
    "                if x.grad is None:\n",
    "                    x.grad = gx \n",
    "                else:\n",
    "                    x.grad = x.grad + gx \n",
    "#                     x.grad += gx # 문제 발생함\n",
    "            \n",
    "                if x.creator is not None:\n",
    "                    funcs.append(x.creator)"
   ]
  },
  {
   "cell_type": "code",
   "execution_count": 25,
   "id": "5c335047",
   "metadata": {},
   "outputs": [
    {
     "name": "stdout",
     "output_type": "stream",
     "text": [
      "y.grad: 1(140194859328976)\n",
      "x.grad: 2(140194859143632)\n"
     ]
    }
   ],
   "source": [
    "x = Variable(np.array(3))\n",
    "y = add(x,x)\n",
    "y.backward()\n",
    "\n",
    "print('y.grad: {}({})'.format(y.grad, id(y.grad))) # 1\n",
    "print('x.grad: {}({})'.format(x.grad, id(x.grad)))"
   ]
  }
 ],
 "metadata": {
  "kernelspec": {
   "display_name": "Python 3 (ipykernel)",
   "language": "python",
   "name": "python3"
  },
  "language_info": {
   "codemirror_mode": {
    "name": "ipython",
    "version": 3
   },
   "file_extension": ".py",
   "mimetype": "text/x-python",
   "name": "python",
   "nbconvert_exporter": "python",
   "pygments_lexer": "ipython3",
   "version": "3.8.8"
  }
 },
 "nbformat": 4,
 "nbformat_minor": 5
}
