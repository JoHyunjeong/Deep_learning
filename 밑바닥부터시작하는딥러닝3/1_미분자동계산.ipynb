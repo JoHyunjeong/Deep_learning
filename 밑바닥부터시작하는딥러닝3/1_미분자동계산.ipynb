{
 "cells": [
  {
   "cell_type": "markdown",
   "id": "9d06e5f3",
   "metadata": {},
   "source": [
    "# <center>제1고지 미분 자동 계산</center>"
   ]
  },
  {
   "cell_type": "markdown",
   "id": "89d47f16",
   "metadata": {},
   "source": [
    "# 1단계 상자로서의 변수"
   ]
  },
  {
   "cell_type": "markdown",
   "id": "c48843f9",
   "metadata": {},
   "source": [
    "변수의 성질  \n",
    "- 변수와 데이터는 별개다.\n",
    "- 변수에는 데이터가 들어간다(대입 혹은 할당한다).\n",
    "- 변수 속을 들여다보면 데이터를 알 수 있다(참조한다)."
   ]
  },
  {
   "cell_type": "markdown",
   "id": "10962fe4",
   "metadata": {},
   "source": [
    "데이터를 담는 변수(variable) 클래스"
   ]
  },
  {
   "cell_type": "code",
   "execution_count": 1,
   "id": "1772706b",
   "metadata": {},
   "outputs": [],
   "source": [
    "class Variable:\n",
    "    def __init__(self, data):\n",
    "        self.data = data"
   ]
  },
  {
   "cell_type": "code",
   "execution_count": 2,
   "id": "5c642cf9",
   "metadata": {},
   "outputs": [
    {
     "name": "stdout",
     "output_type": "stream",
     "text": [
      "1.0\n"
     ]
    }
   ],
   "source": [
    "import numpy as np\n",
    "\n",
    "data = np.array(1.0)\n",
    "x = Variable(data)\n",
    "print(x.data)"
   ]
  },
  {
   "cell_type": "markdown",
   "id": "69272a80",
   "metadata": {},
   "source": [
    "여기서 x는 Variable의 인스턴스  \n",
    "x는 데이터 자체가 아니라 데이터를 담은 상자  "
   ]
  },
  {
   "cell_type": "code",
   "execution_count": 3,
   "id": "e8005397",
   "metadata": {},
   "outputs": [
    {
     "name": "stdout",
     "output_type": "stream",
     "text": [
      "2.0\n"
     ]
    }
   ],
   "source": [
    "x.data = np.array(2.0)\n",
    "print(x.data)"
   ]
  },
  {
   "cell_type": "markdown",
   "id": "3a9d92a7",
   "metadata": {},
   "source": [
    "<img src='./img/1/dimension.png' width=500>"
   ]
  },
  {
   "cell_type": "markdown",
   "id": "aa02d0df",
   "metadata": {},
   "source": [
    "넘파이의 다차원 배열의 예  \n",
    "  \n",
    "다차원 배열에서 원소의 순서에는 방향이 있고, 이 방향을 차원(dimension) 혹은 축(axis)라고 함  \n",
    "위 그림의 왼쪽부터 0차원 배열, 1차원 배열, 2차원 배열이며,  \n",
    "차례대로 스칼라(scalar), 벡터(vector), 행렬(matrix)라고 함  \n",
    "또한, 다차원 배열을 텐서(tensor)라고도 함  \n",
    "  \n",
    "넘파이의 ndim(number fo dimension)이라는 인스턴스 변수를 사용하여 다차원 배열의 차원 수를 확인할 수 있음"
   ]
  },
  {
   "cell_type": "code",
   "execution_count": 4,
   "id": "c3e46291",
   "metadata": {},
   "outputs": [
    {
     "name": "stdout",
     "output_type": "stream",
     "text": [
      "0\n",
      "1\n",
      "2\n"
     ]
    }
   ],
   "source": [
    "import numpy as  np\n",
    "x = np.array(1)\n",
    "print(x.ndim)\n",
    "\n",
    "x = np.array([1,2,3])\n",
    "print(x.ndim)\n",
    "\n",
    "x = np.array([[1,2,3],[4,5,6]])\n",
    "print(x.ndim)"
   ]
  },
  {
   "cell_type": "markdown",
   "id": "9add49ec",
   "metadata": {},
   "source": [
    "- 벡터의 차원 : 벡터의 원소 수   \n",
    "- 배열의 차원 : 축의 수"
   ]
  },
  {
   "cell_type": "markdown",
   "id": "bfbf972c",
   "metadata": {},
   "source": [
    "# 2단계 변수를 낳는 함수"
   ]
  },
  {
   "cell_type": "markdown",
   "id": "a1c0aa2c",
   "metadata": {},
   "source": [
    "<img src='./img/1/function_1.png' width=500>  \n",
    "  \n",
    "함수 : 어떤 변수로부터 다른 변수로의 대응 관계를 정한 것  \n",
    "  \n",
    "위 그림처럼 노드(node)와 에지(edge)로 계산 과정을 표현한 그림을 계산 그래프(computational graph)라고 함"
   ]
  },
  {
   "cell_type": "markdown",
   "id": "af299529",
   "metadata": {},
   "source": [
    "앞서 구현한 Variable 인스턴스를 변수로 다룰 수 있는 함수를 Function 클래스로 구현  \n",
    "- Function 클래스는 Variable 인스턴스를 입력받아 Variable 인스턴스를 출력함 \n",
    "- Variable 인스턴스의 실제 데이터는 인스턴스 변수인 data에 있음  "
   ]
  },
  {
   "cell_type": "code",
   "execution_count": 5,
   "id": "88c967a2",
   "metadata": {},
   "outputs": [],
   "source": [
    "class Function:\n",
    "    def __call__(self, input): # input은 Variable 인스턴스\n",
    "        x = input.data # 데이터를 꺼낸다.\n",
    "        y = x ** 2 # 실제 계산\n",
    "        output = Variable(y) # Variable 형태로 되돌린다.\n",
    "        return output"
   ]
  },
  {
   "cell_type": "markdown",
   "id": "6bb7632a",
   "metadata": {},
   "source": [
    "__call__ 메서드는 파이썬의 특수 메서드로  \n",
    "이 메서드를 정의하면 f=Function() 형태로 함수의 인스턴스를 변수 f에 대입해두고  \n",
    "나중에 f(...)의 형태로 \\_\\_call__ 메서드를 호출할 수 있음"
   ]
  },
  {
   "cell_type": "code",
   "execution_count": 6,
   "id": "5915e608",
   "metadata": {},
   "outputs": [
    {
     "name": "stdout",
     "output_type": "stream",
     "text": [
      "<class '__main__.Variable'>\n",
      "100\n"
     ]
    }
   ],
   "source": [
    "x = Variable(np.array(10))\n",
    "f = Function()\n",
    "y = f(x)\n",
    "\n",
    "print(type(y))\n",
    "print(y.data)"
   ]
  },
  {
   "cell_type": "markdown",
   "id": "a02bee27",
   "metadata": {},
   "source": [
    "Function 클래스를 기반 클래스로 두고 DeZero의 모든 함수가 공통적으로 제공하는 기능만 담아두도록 수정  \n",
    "- Function 클래스는 기반 클래스로서, 모든 함수에 공통되는 기능을 구현  \n",
    "- 구체적인 함수는 Function 클래스를 상속한 클래스에서 구현  "
   ]
  },
  {
   "cell_type": "code",
   "execution_count": 7,
   "id": "2745d7d1",
   "metadata": {},
   "outputs": [],
   "source": [
    "class Function:\n",
    "    def __call__(self, input):\n",
    "        x = input.data\n",
    "        y = self.forward(x)\n",
    "        output = Variable(y)\n",
    "        return output\n",
    "    \n",
    "    def forward(self, x):\n",
    "        raise NotImplementedError()"
   ]
  },
  {
   "cell_type": "markdown",
   "id": "eb8c4c44",
   "metadata": {},
   "source": [
    "\\_\\_call__ 메서드는 'Variable에서 데이터 찾기'와 '계산 결과를 Variable에 포장하기' 수행  \n",
    "구체적인 계산은 forward 메서드를 호출하여 수행"
   ]
  },
  {
   "cell_type": "code",
   "execution_count": 8,
   "id": "7f3c1828",
   "metadata": {},
   "outputs": [],
   "source": [
    "class Square(Function):\n",
    "    def forward(self, x):\n",
    "        return x ** 2"
   ]
  },
  {
   "cell_type": "markdown",
   "id": "1a03e4af",
   "metadata": {},
   "source": [
    "square 클래스는 Function 클래스를 상속받기 때문에 \\_\\_call__ 메서드는 그대로 계승됨"
   ]
  },
  {
   "cell_type": "code",
   "execution_count": 9,
   "id": "c459db9a",
   "metadata": {},
   "outputs": [
    {
     "name": "stdout",
     "output_type": "stream",
     "text": [
      "<class '__main__.Variable'>\n",
      "100\n"
     ]
    }
   ],
   "source": [
    "x = Variable(np.array(10))\n",
    "f = Square()\n",
    "y = f(x)\n",
    "print(type(y))\n",
    "print(y.data)"
   ]
  },
  {
   "cell_type": "markdown",
   "id": "7abf7d98",
   "metadata": {},
   "source": [
    "# 3단계 함수 연결"
   ]
  },
  {
   "cell_type": "markdown",
   "id": "ac2e61c1",
   "metadata": {},
   "source": [
    "$y=e^x$를 계산하는 함수 추가  \n",
    "여기서 e는 자연로그의 밑으로 구체적인 값은 2.718...(오일러의 수 혹은 네이피어 상수라고 함)"
   ]
  },
  {
   "cell_type": "code",
   "execution_count": 10,
   "id": "4ce4797b",
   "metadata": {},
   "outputs": [],
   "source": [
    "class Exp(Function):\n",
    "    def forward(self, x):\n",
    "        return np.exp(x)"
   ]
  },
  {
   "cell_type": "markdown",
   "id": "67028c84",
   "metadata": {},
   "source": [
    "함수 연이어 사용하기(합성 함수(composite function)  \n",
    "Function 클래스의 \\_\\_call__ 메서드의 입출력이 Variable 인스턴스로 통일되어 있어서 여러 함수를 연속하여 적용할 수 있음\n",
    "  \n",
    "<img src='./img/1/function_2.png' width=800>\n",
    "$y=(e^{x^2})^2$ 계산"
   ]
  },
  {
   "cell_type": "code",
   "execution_count": 11,
   "id": "e24905f7",
   "metadata": {},
   "outputs": [
    {
     "name": "stdout",
     "output_type": "stream",
     "text": [
      "1.648721270700128\n"
     ]
    }
   ],
   "source": [
    "A = Square()\n",
    "B = Exp()\n",
    "C = Square()\n",
    "\n",
    "x = Variable(np.array(0.5))\n",
    "a = A(x)\n",
    "b = B(a)\n",
    "y = C(b)\n",
    "print(y.data)"
   ]
  },
  {
   "cell_type": "markdown",
   "id": "79580120",
   "metadata": {},
   "source": [
    "# 4단계 수치 미분"
   ]
  },
  {
   "cell_type": "markdown",
   "id": "57b0e2f9",
   "metadata": {},
   "source": [
    "미분이란 '극한으로 짧은 시간(순간)'에서의 변화량을 뜻함  \n",
    "수식으로 표현하면 다음과 같다.  \n",
    "  \n",
    "$f'(x)=lim_{h\\rightarrow 0}\\frac{f(x+h)-f(x)}{h}$  \n",
    "  \n",
    "$x$와 $x+h$라는 두 점에서 함수 $f(x)$의 변화 비율은 $lim_{h\\rightarrow 0}\\frac{f(x+h)-f(x)}{h}$  \n",
    "여기서 폭 $h$를 한없이 0에 가깝게 줄여 $x$의 변화율을 구하면 그 것이 미분 값이 됨  \n",
    "$y=f(x)$가 어떤 구간에서 미분 가능하다면 해당 구간의 '모든 x'에서 성립  \n",
    "$f'(x)$는 $f(x)$의 도함수라고 함"
   ]
  },
  {
   "cell_type": "markdown",
   "id": "72a081d4",
   "metadata": {},
   "source": [
    "컴퓨터는 극한을 취급할 수 없어 h를 근한화 비슷한 매우 작은 값을 이용  \n",
    "이런 미세한 차이를 이용하여 함수의 변화량을 구하는 방법을 __수치 미분(numerical differentiation)__이라고 함  \n",
    "  \n",
    "수치 미분은 작은 값을 사용하여 '진정한 미분'을 근사함  \n",
    "어쩔 수 없이 오차가 포함되는데, 이 오차를 줄이는 방법으로 '중앙차분(centered difference)'이 있음  \n",
    "  \n",
    "중앙차분은 $f(x)$와 $f(x+h)$의 차이를 구하는 대신 $f(x-h)$와 $f(x+h)$의 차이를 구함  \n",
    "($f(x)$와 $f(x+h)$ 지점에서의 기울기를 구하는 방법은 '전진차분(forward difference)'라고 함)  \n",
    "중앙차분은 전진차분에 비해 상대적으로 오차가 적음  \n",
    "  \n",
    "중앙차분에서 직선의 기울기는 $\\frac{f(x+h)-f(x-h)}{2h}$가 된다.  \n",
    "  \n",
    "중앙차분을 이용하여 수치 미분을 계산하는 함수 구현  \n",
    "- 인수목록  \n",
    "    * f : 미분의 대상이 되는 함수이자 Function의 인스턴스\n",
    "    * x : 미분을 계산하는 변수\n",
    "    * eps : epsilon(엡실론)의 약어로, 작은 값을 나타냄"
   ]
  },
  {
   "cell_type": "code",
   "execution_count": 12,
   "id": "bdd3b363",
   "metadata": {},
   "outputs": [],
   "source": [
    "def numerical_diff(f, x, eps=1e-4):\n",
    "    x0 = Variable(x.data - eps)\n",
    "    x1 = Variable(x.data + eps)\n",
    "    y0 = f(x0)\n",
    "    y1 = f(x1)\n",
    "    return (y1.data - y0.data) / (2*eps)"
   ]
  },
  {
   "cell_type": "markdown",
   "id": "744acc13",
   "metadata": {},
   "source": [
    "Square 클래스를 대상으로 미분"
   ]
  },
  {
   "cell_type": "code",
   "execution_count": 13,
   "id": "0a17d10a",
   "metadata": {},
   "outputs": [
    {
     "name": "stdout",
     "output_type": "stream",
     "text": [
      "4.000000000004\n"
     ]
    }
   ],
   "source": [
    "f = Square()\n",
    "x = Variable(np.array(2.0))\n",
    "dy = numerical_diff(f, x)\n",
    "print(dy)"
   ]
  },
  {
   "cell_type": "markdown",
   "id": "b5acc489",
   "metadata": {},
   "source": [
    "< 참고 >  \n",
    "  \n",
    "해석적으로 계산하는 방법 : 수식 변형만으로 답을 유도함  \n",
    "따라서 오차를 포함하지 않는 정확한 값"
   ]
  },
  {
   "cell_type": "markdown",
   "id": "f9e167cd",
   "metadata": {},
   "source": [
    "$y=(e^{x^2})^2$ 미분"
   ]
  },
  {
   "cell_type": "code",
   "execution_count": 14,
   "id": "412c8378",
   "metadata": {},
   "outputs": [
    {
     "name": "stdout",
     "output_type": "stream",
     "text": [
      "3.2974426293330694\n"
     ]
    }
   ],
   "source": [
    "def f(x):\n",
    "    A = Square()\n",
    "    B = Exp()\n",
    "    C = Square()\n",
    "    return C(B(A(x)))\n",
    "\n",
    "x = Variable(np.array(0.5))\n",
    "dy = numerical_diff(f, x)\n",
    "print(dy)"
   ]
  },
  {
   "cell_type": "markdown",
   "id": "2e2ba417",
   "metadata": {},
   "source": [
    "파이썬에서는 함수도 객체이기 때문에 다른 함수에 인수로 전달할 수 있음"
   ]
  },
  {
   "cell_type": "markdown",
   "id": "0781ed7d",
   "metadata": {},
   "source": [
    "하지만 수치 미분은 자릿수 누락이 발생하여 유효 자릿수가 줄어들 수 있고, 따라서 오차가 포함되기 쉬움  \n",
    "또한, 수치 미분은 계산량이 많음  \n",
    "  \n",
    "따라서 역전파를 사용하는데,  \n",
    "수치 미분은 구현하기 쉽고 거의 정확한 값을 얻을 수 있는 반면  \n",
    "역전파는 복잡한 알고리즘으로 구현 중 버그가 섞여 들어가기 쉬움  \n",
    "그래서 역전파를 정확하게 구현했는지를 확인하기 위해 수치 미분의 결과를 이용하곤 함  \n",
    "이를 기울기 확인(gradient checking)이라고 함  "
   ]
  },
  {
   "cell_type": "markdown",
   "id": "ba974222",
   "metadata": {},
   "source": [
    "# 5단계 역전파 이론"
   ]
  },
  {
   "cell_type": "markdown",
   "id": "fcfd9c27",
   "metadata": {},
   "source": [
    "역전파(backpropagation, 오차역전파법)을 이용하면 미분을 효율적으로 계산할 수 있고 결괏값의 오차도 더 작음  \n",
    "  \n",
    "연쇄 법칙(chain rule) : 합성 함수(여러 함수가 연결된 함수)의 미분은 구성 함수 각각의 미분을 곱한 것과 같다.  \n",
    "  \n",
    "<img src='./img/1/function_2.png' width=800>  \n",
    "  \n",
    "위 그림처럼 $y=F(x)$라는 함수는 $a=A(x)$, $b=B(a)$, $y=C(b)$라는 세 함수로 구성되어있다고 할 때, \n",
    "x에 대한 y의 미분은 다음과 같다.  \n",
    "  \n",
    "$\\frac{\\partial{y}}{\\partial{x}}=\\frac{\\partial{y}}{\\partial{b}}\\frac{\\partial{b}}{\\partial{a}}\\frac{\\partial{a}}{\\partial{x}}$  \n",
    "  \n",
    "x에 대한 y의 미분은 구성 함수 각각의 미분값을 모두 곱한 값과 같기 때문에,  \n",
    "합성 함수의 미분은 각 함수의 국소적인 미분들로 분해할 수 있다.  \n",
    "  \n",
    "계산의 흐름은 출력에서 입력 방향으로, 보토으이 계산과는 반대 방향으로 미분을 계산함  \n",
    "역전파 계산 그래프를 예를 들어 $A'(x)$의 곱셈을 $A'(x)$노드로 간략하게 표현하면 다음과 같다.  \n",
    "  \n",
    "<img src='./img/1/backpropagation.png' width=800>  \n",
    "  \n",
    "전파되는 데이터는 모두 'y의 미분값'임  \n",
    "머신러닝은 주로 대량의 매개변수를 입력받고 마지막에 손실 함수(loss function)을 거쳐 출력을 내는 형태로 진행되는데,  \n",
    "손실 함수의 출력은 '중요 요소'로, 손실 함수의 각 매개변수에 대한 미분을 계산해야 함  \n",
    "이런 경우 미분값을 출력에서 입력 방향으로 전파하면 한 번의 전파만으로 모든 매개변수에 대한 미분을 계산할 수 있음  \n",
    "따라서 계산이 효율적으로 이뤄지는 반대 방향으로 전파하는 방식인 역전파를 이용함  \n",
    "  \n",
    "역전파에서는 순전파 시 이용한 데이터가 필요하므로  \n",
    "먼저 순전파를 하고, 이때 각 함수가 입력 변수의 값을 기억해둬야 함"
   ]
  },
  {
   "cell_type": "markdown",
   "id": "8332e113",
   "metadata": {},
   "source": [
    "# 6단계 수동 역전파"
   ]
  },
  {
   "cell_type": "markdown",
   "id": "59a4bdbb",
   "metadata": {},
   "source": [
    "역전파에 대응하는 Variable 클래스를 구현하기 위해 통상값(data)와 더불어 그에 대응하는 미분값(grad)도 저장하도록 확장  \n",
    "  \n",
    "< 참고 > 벡터나 행렬 등 다변수에 대한 미분은 기울기(gradient)라고 함"
   ]
  },
  {
   "cell_type": "code",
   "execution_count": 15,
   "id": "af616787",
   "metadata": {},
   "outputs": [],
   "source": [
    "class Variable:\n",
    "    def __init__(self, data):\n",
    "        self.data = data\n",
    "        self.grad = None"
   ]
  },
  {
   "cell_type": "markdown",
   "id": "cb1ee4b2",
   "metadata": {},
   "source": [
    "Function 클래스에 두 기능을 추가  \n",
    "- 미분을 계산하는 역전파(backward 메서드)  \n",
    "    backward 메서드의 인수 중 dy는 출력 쪽에서 전해지는 미분값을 전달하는 역할  \n",
    "- forward 메서드 호출 시 건네받은 Variable 인스턴스 유지  "
   ]
  },
  {
   "cell_type": "code",
   "execution_count": 16,
   "id": "c4b8c9b3",
   "metadata": {},
   "outputs": [],
   "source": [
    "class Function:\n",
    "    def __call__(self, input):\n",
    "        x = input.data\n",
    "        y =self.forward(x)\n",
    "        output = Variable(y)\n",
    "        self.input = input # 입력 변수를 기억(보관)\n",
    "        return output\n",
    "    \n",
    "    def forward(self, x):\n",
    "        raise NotImplementError()\n",
    "        \n",
    "    def backward(Self, gy):\n",
    "        raise NotImplementError()"
   ]
  },
  {
   "cell_type": "markdown",
   "id": "7e577f86",
   "metadata": {},
   "source": [
    "Square 클래스 추가 구현"
   ]
  },
  {
   "cell_type": "code",
   "execution_count": 24,
   "id": "52d642c9",
   "metadata": {},
   "outputs": [],
   "source": [
    "class Square(Function):\n",
    "    def forward(self, x):\n",
    "        y = x ** 2\n",
    "        return y\n",
    "    \n",
    "    def backward(self, gy):\n",
    "        x = self.input.data\n",
    "        gx = 2 * x * gy\n",
    "        return gx"
   ]
  },
  {
   "cell_type": "markdown",
   "id": "e20f734b",
   "metadata": {},
   "source": [
    "Exp 클래스 추가 구현  \n",
    "  \n",
    "$y=e^x$의 미분은 $\\frac{\\partial{y}}{\\partial{x}}=e^x$"
   ]
  },
  {
   "cell_type": "code",
   "execution_count": 25,
   "id": "b65697a7",
   "metadata": {},
   "outputs": [],
   "source": [
    "class Exp(Function):\n",
    "    def forward(self, x):\n",
    "        y = np.exp(x)\n",
    "        return y\n",
    "    \n",
    "    def backward(self, gy):\n",
    "        x = self.input.data\n",
    "        gx = np.exp(x) * gy\n",
    "        return gx"
   ]
  },
  {
   "cell_type": "markdown",
   "id": "728e1142",
   "metadata": {},
   "source": [
    "<img src='./img/1/forward_ex1.png' width=800>"
   ]
  },
  {
   "cell_type": "markdown",
   "id": "3dddab40",
   "metadata": {},
   "source": [
    "위 그림의 계산을 순전파"
   ]
  },
  {
   "cell_type": "code",
   "execution_count": 19,
   "id": "38440b75",
   "metadata": {},
   "outputs": [],
   "source": [
    "A = Square()\n",
    "B = Exp()\n",
    "C = Square()\n",
    "\n",
    "x = Variable(np.array(0.5))\n",
    "a = A(x)\n",
    "b = B(a)\n",
    "y = C(b)"
   ]
  },
  {
   "cell_type": "markdown",
   "id": "c1d88409",
   "metadata": {},
   "source": [
    "<img src='./img/1/backward_ex1.png' width=800>"
   ]
  },
  {
   "cell_type": "markdown",
   "id": "39049705",
   "metadata": {},
   "source": [
    "역전파 코드"
   ]
  },
  {
   "cell_type": "code",
   "execution_count": 20,
   "id": "947beb1d",
   "metadata": {},
   "outputs": [
    {
     "name": "stdout",
     "output_type": "stream",
     "text": [
      "3.297442541400256\n"
     ]
    }
   ],
   "source": [
    "y.grad = np.array(1.0) # 자기 자신의 미분은 1\n",
    "b.grad = C.backward(y.grad)\n",
    "a.grad = B.backward(b.grad)\n",
    "x.grad = A.backward(a.grad)\n",
    "print(x.grad)"
   ]
  },
  {
   "cell_type": "markdown",
   "id": "9ab0f3b5",
   "metadata": {},
   "source": [
    "4단계에서 수치 미분으로 구한 값 : 3.2974426293330694  \n",
    "수치 미분으로 구한 값과 역전파로 구한 값이 거의 같음"
   ]
  },
  {
   "cell_type": "markdown",
   "id": "16a28cf1",
   "metadata": {},
   "source": [
    "# 7단계 역전파 자동화"
   ]
  },
  {
   "cell_type": "markdown",
   "id": "cfddcf82",
   "metadata": {},
   "source": [
    "Define-bt-Run이란 딥러닝에서 수행하는 계산들을 계산 시점에 '연결'하는 방식으로, '동적 계산 그래프'라고도 함  \n",
    "  \n",
    "일반적인 계산(순전파)을 한 번만 해주면 역전파가 자동으로 이뤄지는 구조로 자동화  \n",
    "  \n",
    "함수의 순서를 리스트 형태로 저장해두면 나중에 거꾸로 추적하는 식으로 역전파를 자동화할 수 있음  \n",
    "리스트 데이터 구조를 응용하면 수행한 계산을 리스트에 추가해 나가는 것만으로 어떠한 계산 그래프의 역전파도 제대로 해낼 수 있음! 이 데이터 구조를 웬거트 리스트(Wengert List) 혹은 테이프(tape)라고 함  \n",
    "  \n",
    "<img src='./img/1/variable_function_1.png' width=600>  \n",
    "  \n",
    "변수와 함수의 '관계'를 보면,  \n",
    "함수 입장에서 변수는 '입력'과 '출력'에 쓰이고,  \n",
    "변수 입장에서 함수는 '창조자' 혹은 '부모'다.  \n",
    "창조자인 함수가 존재하지 않는 변수는 사용자에 의해 만들어진 변수로 간주됨  \n",
    "  \n",
    "이 관계를 맺어주도록 Variable 클래스와 Function 클래스를 수정"
   ]
  },
  {
   "cell_type": "code",
   "execution_count": 21,
   "id": "05b64c3e",
   "metadata": {},
   "outputs": [],
   "source": [
    "class Variable:\n",
    "    def __init__(self, data):\n",
    "        self.data = data\n",
    "        self.grad = None\n",
    "        self.creator = None\n",
    "\n",
    "    def set_creator(self, func):\n",
    "        self.creator = func # 창조자 설정"
   ]
  },
  {
   "cell_type": "code",
   "execution_count": 22,
   "id": "a2d1a35c",
   "metadata": {},
   "outputs": [],
   "source": [
    "class Function:\n",
    "    def __call__(self, input):\n",
    "        x = input.data\n",
    "        y = self.forward(x)\n",
    "        output = Variable(y)\n",
    "        output.set_creator(self) # 출력 변수에 창조자를 설정\n",
    "        self.input = input\n",
    "        self.output = output # 출력 저장\n",
    "        return output\n",
    "    \n",
    "    def forward(self, x):\n",
    "        raise NotImplementError()\n",
    "        \n",
    "    def backward(Self, gy):\n",
    "        raise NotImplementError()"
   ]
  },
  {
   "cell_type": "markdown",
   "id": "9acb955d",
   "metadata": {},
   "source": [
    "순전파를 계산하면 그 결과로 output이라는 Variable 인스턴스가 생성되고,  \n",
    "이 때 생성된 output에 '창조자'를 기억시킴  \n",
    "이 연결이 동적으로 만드는 기법의 핵심!  \n",
    "이를 통해 계산 그래프를 거꾸로 올라갈 수 있음"
   ]
  },
  {
   "cell_type": "markdown",
   "id": "6cc75cd5",
   "metadata": {},
   "source": [
    "아래 코드 실행 전 Square 클래스와 Exp 클래스 다시 실행해주기(수정된 Function 클래스 상속받도록 적용)"
   ]
  },
  {
   "cell_type": "code",
   "execution_count": 26,
   "id": "04e01cac",
   "metadata": {},
   "outputs": [],
   "source": [
    "A = Square()\n",
    "B = Exp()\n",
    "C = Square()\n",
    "\n",
    "x = Variable(np.array(0.5))\n",
    "a = A(x)\n",
    "b = B(a)\n",
    "y = C(b)\n",
    "\n",
    "# 계산 그래프의 노드들을 거꾸로 거슬러 올라감\n",
    "assert y.creator == C\n",
    "assert y.creator.input == b\n",
    "assert y.creator.input.creator == B\n",
    "assert y.creator.input.creator.input == a\n",
    "assert y.creator.input.creator.input.creator == A\n",
    "assert y.creator.input.creator.input.creator.input == x"
   ]
  },
  {
   "cell_type": "markdown",
   "id": "0def5e66",
   "metadata": {},
   "source": [
    "여기서, assert 는 결과가 True가 아니면 예외가 발생함  \n",
    "따라서 assert 문은 조건을 충족하는지 여부를 확인하는데 사용할 수 있음  \n",
    "  \n",
    "<img src='./img/1/variable_function_2.png' width=600>  "
   ]
  },
  {
   "cell_type": "markdown",
   "id": "396d9f64",
   "metadata": {},
   "source": [
    "함수와 변수 사이의 연결은 실제로 계산을 수행하는 시점에(순전파로 데이터를 흘려보낼 때) 만들어짐  \n",
    "이러한 특성에 이름을 붙인 것이 Define-by-Run  \n",
    "데이터를 흘려보냄으로써(Run) 연결이 규정(Define)된다는 뜻  \n",
    "  \n",
    "또한 위 그림과 같이 노드들의 연결로 이루어진 데이터 구조를 '링크드 리스트(linked list)'라고 함  \n",
    "노드는 그래프를 구성하는 요소를,  \n",
    "링크는 다른 노드를 가리키는 참조를 뜻함  \n",
    "  \n",
    "변수와 함수의 관계를 이용하여 역전파 구현  \n",
    "순서는 다음과 같다.  \n",
    "1. 함수를 가져온다.\n",
    "2. 함수의 입력을 가져온다.\n",
    "3. 함수의 backward 메서드를 호출한다."
   ]
  },
  {
   "cell_type": "code",
   "execution_count": 27,
   "id": "6c705abf",
   "metadata": {},
   "outputs": [
    {
     "name": "stdout",
     "output_type": "stream",
     "text": [
      "3.297442541400256\n"
     ]
    }
   ],
   "source": [
    "y.grad = np.array(1.0)\n",
    "\n",
    "C = y.creator # 1. 함수를 가져옴\n",
    "b = C.input # 2. 함수의 입력을 가져옴\n",
    "b.grad = C.backward(y.grad) # 3. 함수의 backward 메서드를 호출\n",
    "\n",
    "B = b.creator\n",
    "a = B.input\n",
    "a.grad = B.backward(b.grad)\n",
    "A = a.creator\n",
    "x = A.input\n",
    "x.grad = A.backward(a.grad)\n",
    "print(x.grad)"
   ]
  },
  {
   "cell_type": "markdown",
   "id": "7449428b",
   "metadata": {},
   "source": [
    "위에서 구현한 반복 작업을 자동화할 수 있도록 Variable 클래스에 backward라는 새로운 메서드 추가"
   ]
  },
  {
   "cell_type": "code",
   "execution_count": 28,
   "id": "c7553682",
   "metadata": {},
   "outputs": [],
   "source": [
    "class Variable:\n",
    "    def __init__(self, data):\n",
    "        self.data = data\n",
    "        self.grad = None\n",
    "        self.creator = None\n",
    "        \n",
    "    def set_creator(self, func):\n",
    "        self.creator = func\n",
    "        \n",
    "    def backward(self):\n",
    "        f = self.creator # 1. 함수를 가져옴\n",
    "        if f is not None:\n",
    "            x = f.input # 2. 함수의 입력을 가져옴\n",
    "            x.grad = f.backward(self.grad) # 3. 함수의 backward 메서드를 호출\n",
    "            x.backward() # 하나 앞 변수의 backward 메서드를 호출(재귀)            "
   ]
  },
  {
   "cell_type": "code",
   "execution_count": 29,
   "id": "f0d2a821",
   "metadata": {},
   "outputs": [
    {
     "name": "stdout",
     "output_type": "stream",
     "text": [
      "3.297442541400256\n"
     ]
    }
   ],
   "source": [
    "A = Square()\n",
    "B = Exp()\n",
    "C = Square()\n",
    "\n",
    "x = Variable(np.array(0.5))\n",
    "a = A(x)\n",
    "b = B(a)\n",
    "y = C(b)\n",
    "\n",
    "# 역전파\n",
    "y.grad = np.array(1.0)\n",
    "y.backward()\n",
    "print(x.grad)"
   ]
  },
  {
   "cell_type": "markdown",
   "id": "eda1391a",
   "metadata": {},
   "source": [
    "# 8단계 재귀에서 반복문으로"
   ]
  },
  {
   "cell_type": "markdown",
   "id": "41208dd8",
   "metadata": {},
   "source": [
    "위에서 구현한 Variable의 backward 메서드는 self.creator가 None인 변수가 나올 때까지  \n",
    "backward 메서드에서 backward 메서드를 호출하고, 호출된 backward 메서드에서 또다른 backward 메서드를 호출하는 과정이 반복됨  \n",
    "이러한 구조를 재귀라고 함  \n",
    "  \n",
    "재귀를 사용한 구현에서 반복문을 이용한 구현 수정  "
   ]
  },
  {
   "cell_type": "code",
   "execution_count": 30,
   "id": "a91f7cb2",
   "metadata": {},
   "outputs": [],
   "source": [
    "class Variable:\n",
    "    def __init__(self, data):\n",
    "        self.data = data\n",
    "        self.grad = None\n",
    "        self.creator = None\n",
    "        \n",
    "    def set_creator(self, func):\n",
    "        self.creator = func\n",
    "        \n",
    "    def backward(self):\n",
    "        funcs = [self.creator]\n",
    "        while funcs:\n",
    "            f = funcs.pop() # 함수를 가져옴\n",
    "            x, y = f.input, f.output # 함수의 입력과 출력을 가져옴\n",
    "            x.grad = f.backward(y.grad) # backward 메서드를 호출\n",
    "            \n",
    "            if x.creator is not None:\n",
    "                funcs.append(x.creator) # 하나 앞의 함수를 리스트에 추가"
   ]
  },
  {
   "cell_type": "code",
   "execution_count": 31,
   "id": "76e2d6d8",
   "metadata": {},
   "outputs": [
    {
     "name": "stdout",
     "output_type": "stream",
     "text": [
      "3.297442541400256\n"
     ]
    }
   ],
   "source": [
    "A = Square()\n",
    "B = Exp()\n",
    "C = Square()\n",
    "\n",
    "x = Variable(np.array(0.5))\n",
    "a = A(x)\n",
    "b = B(a)\n",
    "y = C(b)\n",
    "\n",
    "# 역전파\n",
    "y.grad = np.array(1.0)\n",
    "y.backward()\n",
    "print(x.grad)"
   ]
  },
  {
   "cell_type": "markdown",
   "id": "f4bc0ec5",
   "metadata": {},
   "source": [
    "재귀는 함수를 호출할 때마다 중간 결과를 메모리에 유지하면서(스택에 쌓으면서) 처리를 이어가기 때문에 일반적으로 반복문 방식이 처리 효율이 더 좋음"
   ]
  },
  {
   "cell_type": "markdown",
   "id": "8931329f",
   "metadata": {},
   "source": [
    "# 9단계 함수를 더 편리하게"
   ]
  },
  {
   "cell_type": "markdown",
   "id": "8a8b0bd0",
   "metadata": {},
   "source": [
    "### 파이썬 함수로 이용하기  \n",
    "  \n",
    "지금까지 구현한건 Square 클래스를 사용하는 계산을 하기 위해 다음과 같이 3줄의 코드가 필요함  \n",
    "~~~python\n",
    "x = Variable(np.array(0.5))\n",
    "f = Square()\n",
    "y = f(x)\n",
    "~~~\n",
    "\n",
    "'파이썬 함수'로 구현하면 더 간단하게 구현할 수 있음  "
   ]
  },
  {
   "cell_type": "code",
   "execution_count": 32,
   "id": "a4d0b68d",
   "metadata": {},
   "outputs": [],
   "source": [
    "def square(x):\n",
    "    f = Square()\n",
    "    return f(x)\n",
    "\n",
    "def exp(x):\n",
    "    f = Exp()\n",
    "    return f(x)"
   ]
  },
  {
   "cell_type": "markdown",
   "id": "f3f2b0da",
   "metadata": {},
   "source": [
    "더 줄여서 한 줄로 구현할 수 있음"
   ]
  },
  {
   "cell_type": "code",
   "execution_count": 33,
   "id": "b1282c62",
   "metadata": {},
   "outputs": [],
   "source": [
    "def square(x):\n",
    "    return Square()(x)\n",
    "\n",
    "def exp(x):\n",
    "    return Exp()(x)"
   ]
  },
  {
   "cell_type": "code",
   "execution_count": 34,
   "id": "698122c9",
   "metadata": {},
   "outputs": [
    {
     "name": "stdout",
     "output_type": "stream",
     "text": [
      "3.297442541400256\n"
     ]
    }
   ],
   "source": [
    "x = Variable(np.array(0.5))\n",
    "a = square(x)\n",
    "b = exp(a)\n",
    "y = square(b)\n",
    "\n",
    "y.grad = np.array(1.0)\n",
    "y.backward()\n",
    "print(x.grad)"
   ]
  },
  {
   "cell_type": "code",
   "execution_count": 35,
   "id": "374bea69",
   "metadata": {},
   "outputs": [
    {
     "name": "stdout",
     "output_type": "stream",
     "text": [
      "3.297442541400256\n"
     ]
    }
   ],
   "source": [
    "x = Variable(np.array(0.5))\n",
    "y = square(exp(square(x))) # 연속하여 적용\n",
    "\n",
    "y.grad = np.array(1.0)\n",
    "y.backward()\n",
    "print(x.grad)"
   ]
  },
  {
   "cell_type": "markdown",
   "id": "f67a5d0e",
   "metadata": {},
   "source": [
    "### backward 메서드 간소화"
   ]
  },
  {
   "cell_type": "markdown",
   "id": "5d70cc63",
   "metadata": {},
   "source": [
    "역전파할 때마다 작성했던\n",
    "~~~python\n",
    "y.grad = np.array(1.0)\n",
    "~~~\n",
    "이 부분 생략하기 위해 Variable의 backward 메서드 수정"
   ]
  },
  {
   "cell_type": "code",
   "execution_count": 36,
   "id": "bba2fad4",
   "metadata": {},
   "outputs": [],
   "source": [
    "class Variable:\n",
    "    def __init__(self, data):\n",
    "        self.data = data\n",
    "        self.grad = None\n",
    "        self.creator = None\n",
    "        \n",
    "    def set_creator(self, func):\n",
    "        self.creator = func\n",
    "        \n",
    "    def backward(self):\n",
    "        if self.grad is None:\n",
    "            self.grad = np.ones_like(self.data) # grad가 None이면 self.data와 같은 형상과 데이터 타입으로 1로 채워서 돌려줌\n",
    "            \n",
    "        funcs = [self.creator]\n",
    "        while funcs:\n",
    "            f = funcs.pop()\n",
    "            x, y = f.input, f.output\n",
    "            x.grad = f.backward(y.grad)\n",
    "            \n",
    "            if x.creator is not None:\n",
    "                funcs.append(x.creator)"
   ]
  },
  {
   "cell_type": "code",
   "execution_count": 37,
   "id": "11f50973",
   "metadata": {},
   "outputs": [
    {
     "name": "stdout",
     "output_type": "stream",
     "text": [
      "3.297442541400256\n"
     ]
    }
   ],
   "source": [
    "x = Variable(np.array(0.5))\n",
    "y = square(exp(square(x)))\n",
    "\n",
    "y.backward()\n",
    "print(x.grad)"
   ]
  },
  {
   "cell_type": "markdown",
   "id": "049ef0ac",
   "metadata": {},
   "source": [
    "DeZero의 Variable은 데이터로 ndarry 인스턴스만 취급하게끔 의도했기 때문에,  \n",
    "Variable에 ndarray 인스턴스 외의 데이터를 넣을 경우 즉시 오류를 일으키도록 하여  \n",
    "문제를 조기에 발견할 수 있게끔 수정"
   ]
  },
  {
   "cell_type": "code",
   "execution_count": 38,
   "id": "6aca42cf",
   "metadata": {},
   "outputs": [],
   "source": [
    "class Variable:\n",
    "    def __init__(self, data):\n",
    "        if data is not None: # 데이터가 None이 아니고\n",
    "            if not isinstance(data, np.ndarray): # ndarray 인스턴스도 아니면\n",
    "                raise TypeError('{}은(는) 지원하지 않습니다.'.format(type(data))) # TypeError라는 예외 발생\n",
    "        self.data = data\n",
    "        self.grad = None\n",
    "        self.creator = None\n",
    "        \n",
    "    def set_creator(self, func):\n",
    "        self.creator = func\n",
    "        \n",
    "    def backward(self):\n",
    "        if self.grad is None:\n",
    "            self.grad = np.ones_like(self.data)\n",
    "            \n",
    "        funcs = [self.creator]\n",
    "        while funcs:\n",
    "            f = funcs.pop() \n",
    "            x, y = f.input, f.output\n",
    "            x.grad = f.backward(y.grad) \n",
    "            \n",
    "            if x.creator is not None:\n",
    "                funcs.append(x.creator)"
   ]
  },
  {
   "cell_type": "code",
   "execution_count": 39,
   "id": "7f2bf808",
   "metadata": {},
   "outputs": [],
   "source": [
    "x = Variable(np.array(1.0))"
   ]
  },
  {
   "cell_type": "code",
   "execution_count": 40,
   "id": "24f8a05b",
   "metadata": {},
   "outputs": [],
   "source": [
    "x = Variable(None)"
   ]
  },
  {
   "cell_type": "code",
   "execution_count": 41,
   "id": "fbf4c084",
   "metadata": {},
   "outputs": [
    {
     "ename": "TypeError",
     "evalue": "<class 'float'>은(는) 지원하지 않습니다.",
     "output_type": "error",
     "traceback": [
      "\u001b[0;31m---------------------------------------------------------------------------\u001b[0m",
      "\u001b[0;31mTypeError\u001b[0m                                 Traceback (most recent call last)",
      "\u001b[0;32m/var/folders/gs/xm5833ws6f7361xlj18d2j140000gn/T/ipykernel_2756/3526010526.py\u001b[0m in \u001b[0;36m<module>\u001b[0;34m\u001b[0m\n\u001b[0;32m----> 1\u001b[0;31m \u001b[0mx\u001b[0m \u001b[0;34m=\u001b[0m \u001b[0mVariable\u001b[0m\u001b[0;34m(\u001b[0m\u001b[0;36m1.0\u001b[0m\u001b[0;34m)\u001b[0m \u001b[0;31m# 오류 발생\u001b[0m\u001b[0;34m\u001b[0m\u001b[0;34m\u001b[0m\u001b[0m\n\u001b[0m",
      "\u001b[0;32m/var/folders/gs/xm5833ws6f7361xlj18d2j140000gn/T/ipykernel_2756/1713175400.py\u001b[0m in \u001b[0;36m__init__\u001b[0;34m(self, data)\u001b[0m\n\u001b[1;32m      3\u001b[0m         \u001b[0;32mif\u001b[0m \u001b[0mdata\u001b[0m \u001b[0;32mis\u001b[0m \u001b[0;32mnot\u001b[0m \u001b[0;32mNone\u001b[0m\u001b[0;34m:\u001b[0m \u001b[0;31m# 데이터가 None이 아니고\u001b[0m\u001b[0;34m\u001b[0m\u001b[0;34m\u001b[0m\u001b[0m\n\u001b[1;32m      4\u001b[0m             \u001b[0;32mif\u001b[0m \u001b[0;32mnot\u001b[0m \u001b[0misinstance\u001b[0m\u001b[0;34m(\u001b[0m\u001b[0mdata\u001b[0m\u001b[0;34m,\u001b[0m \u001b[0mnp\u001b[0m\u001b[0;34m.\u001b[0m\u001b[0mndarray\u001b[0m\u001b[0;34m)\u001b[0m\u001b[0;34m:\u001b[0m \u001b[0;31m# ndarray 인스턴스도 아니면\u001b[0m\u001b[0;34m\u001b[0m\u001b[0;34m\u001b[0m\u001b[0m\n\u001b[0;32m----> 5\u001b[0;31m                 \u001b[0;32mraise\u001b[0m \u001b[0mTypeError\u001b[0m\u001b[0;34m(\u001b[0m\u001b[0;34m'{}은(는) 지원하지 않습니다.'\u001b[0m\u001b[0;34m.\u001b[0m\u001b[0mformat\u001b[0m\u001b[0;34m(\u001b[0m\u001b[0mtype\u001b[0m\u001b[0;34m(\u001b[0m\u001b[0mdata\u001b[0m\u001b[0;34m)\u001b[0m\u001b[0;34m)\u001b[0m\u001b[0;34m)\u001b[0m \u001b[0;31m# TypeError라는 예외 발생\u001b[0m\u001b[0;34m\u001b[0m\u001b[0;34m\u001b[0m\u001b[0m\n\u001b[0m\u001b[1;32m      6\u001b[0m         \u001b[0mself\u001b[0m\u001b[0;34m.\u001b[0m\u001b[0mdata\u001b[0m \u001b[0;34m=\u001b[0m \u001b[0mdata\u001b[0m\u001b[0;34m\u001b[0m\u001b[0;34m\u001b[0m\u001b[0m\n\u001b[1;32m      7\u001b[0m         \u001b[0mself\u001b[0m\u001b[0;34m.\u001b[0m\u001b[0mgrad\u001b[0m \u001b[0;34m=\u001b[0m \u001b[0;32mNone\u001b[0m\u001b[0;34m\u001b[0m\u001b[0;34m\u001b[0m\u001b[0m\n",
      "\u001b[0;31mTypeError\u001b[0m: <class 'float'>은(는) 지원하지 않습니다."
     ]
    }
   ],
   "source": [
    "x = Variable(1.0) # 오류 발생"
   ]
  },
  {
   "cell_type": "markdown",
   "id": "7af45ef7",
   "metadata": {},
   "source": [
    "하지만 위에서 수정한 부분에는 문제가 있음"
   ]
  },
  {
   "cell_type": "code",
   "execution_count": 42,
   "id": "6c82fb24",
   "metadata": {},
   "outputs": [
    {
     "name": "stdout",
     "output_type": "stream",
     "text": [
      "<class 'numpy.ndarray'> 1\n",
      "<class 'numpy.ndarray'>\n"
     ]
    }
   ],
   "source": [
    "x = np.array([1.0]) # 1차원 ndarray\n",
    "y = x ** 2\n",
    "print(type(x), x.ndim)\n",
    "print(type(y)) # 1차원 ndarray에 제곱을 해도 ndarray"
   ]
  },
  {
   "cell_type": "code",
   "execution_count": 43,
   "id": "df650a61",
   "metadata": {},
   "outputs": [
    {
     "name": "stdout",
     "output_type": "stream",
     "text": [
      "<class 'numpy.ndarray'> 0\n",
      "<class 'numpy.float64'>\n"
     ]
    }
   ],
   "source": [
    "x = np.array(1.0) # 0차원 ndarray\n",
    "y = x ** 2\n",
    "print(type(x), x.ndim)\n",
    "print(type(y)) # 0차원 ndarray에 제곱을 하면 np.float64가 됨 "
   ]
  },
  {
   "cell_type": "markdown",
   "id": "c6934ec6",
   "metadata": {},
   "source": [
    "0차원 ndarray 인스턴스를 사용하여 계산하면 데이터 타입이 numpy.float64나 numpy.float32 등으로 달라짐  "
   ]
  },
  {
   "cell_type": "markdown",
   "id": "6df580c4",
   "metadata": {},
   "source": [
    "np.isscalar는 입력 데이터가 numpy.float64 같은 스칼라 타입인지 확인해주는 함수  \n",
    "(파이썬의 int와 float 타입도 스칼라로 판단)  "
   ]
  },
  {
   "cell_type": "code",
   "execution_count": 44,
   "id": "6c6e7cd2",
   "metadata": {},
   "outputs": [
    {
     "data": {
      "text/plain": [
       "True"
      ]
     },
     "execution_count": 44,
     "metadata": {},
     "output_type": "execute_result"
    }
   ],
   "source": [
    "import numpy as np\n",
    "np.isscalar(np.float64(1.0))"
   ]
  },
  {
   "cell_type": "code",
   "execution_count": 45,
   "id": "79d9162a",
   "metadata": {},
   "outputs": [
    {
     "data": {
      "text/plain": [
       "True"
      ]
     },
     "execution_count": 45,
     "metadata": {},
     "output_type": "execute_result"
    }
   ],
   "source": [
    "np.isscalar(2.0)"
   ]
  },
  {
   "cell_type": "code",
   "execution_count": 46,
   "id": "959eaec8",
   "metadata": {},
   "outputs": [
    {
     "data": {
      "text/plain": [
       "False"
      ]
     },
     "execution_count": 46,
     "metadata": {},
     "output_type": "execute_result"
    }
   ],
   "source": [
    "np.isscalar(np.array(1.0))"
   ]
  },
  {
   "cell_type": "code",
   "execution_count": 47,
   "id": "9b6ea8f2",
   "metadata": {},
   "outputs": [
    {
     "data": {
      "text/plain": [
       "False"
      ]
     },
     "execution_count": 47,
     "metadata": {},
     "output_type": "execute_result"
    }
   ],
   "source": [
    "np.isscalar(np.array([1,2,3]))"
   ]
  },
  {
   "cell_type": "markdown",
   "id": "59189a13",
   "metadata": {},
   "source": [
    "위 예시처럼 x가 스칼라 타입인지 쉽게 확인할 수 있으며,  \n",
    "이를 이용하여 입력이 스칼라인 경우 ndarray 인스턴스로 변환해주는 함수 구현"
   ]
  },
  {
   "cell_type": "code",
   "execution_count": 48,
   "id": "ea3b45b9",
   "metadata": {},
   "outputs": [],
   "source": [
    "def as_array(x):\n",
    "    if np.isscalar(x):\n",
    "        return np.array(x)\n",
    "    return x"
   ]
  },
  {
   "cell_type": "markdown",
   "id": "b331fe2d",
   "metadata": {},
   "source": [
    "as_array 함수를 Function 클래스에 추가"
   ]
  },
  {
   "cell_type": "code",
   "execution_count": 49,
   "id": "d9a0910d",
   "metadata": {},
   "outputs": [],
   "source": [
    "class Function:\n",
    "    def __call__(self, input):\n",
    "        x = input.data\n",
    "        y = self.forward(x)\n",
    "        output = Variable(as_array(y)) # as_array 함수 적용\n",
    "        output.set_creator(self)\n",
    "        self.input = input\n",
    "        self.output = output\n",
    "        return output\n",
    "    \n",
    "    def forward(self, x):\n",
    "        raise NotImplementError()\n",
    "        \n",
    "    def backward(Self, gy):\n",
    "        raise NotImplementError()"
   ]
  },
  {
   "cell_type": "markdown",
   "id": "9187a9b7",
   "metadata": {},
   "source": [
    "# 10단계 테스트"
   ]
  },
  {
   "cell_type": "markdown",
   "id": "82f57f58",
   "metadata": {},
   "source": [
    "파이썬으로 테스트할 때는 표준 라이브러리에 포함된 unittest를 사용할 수 있음  \n",
    "\n",
    "unittest.TestCase를 상속한 SquareTest 클래스 구현  \n",
    "  \n",
    "(규칙)  \n",
    "테스트할 때는 이름이 test로 시작하는 메서드를 만들고  \n",
    "그 안에 테스트할 내용을 적음  \n",
    "아래 테스트는 square 함수의 출력과 기댓값이 같은지 확인  \n",
    "self.assertEqual 메스드는 함수의 출력과 기댓값, 두 객체가 동일한지 여부를 판정함  "
   ]
  },
  {
   "cell_type": "code",
   "execution_count": 56,
   "id": "1245be08",
   "metadata": {},
   "outputs": [],
   "source": [
    "import unittest\n",
    "\n",
    "class SquareTest(unittest.TestCase):\n",
    "    def test_forward(self):\n",
    "        x = Variable(np.array(2.0))\n",
    "        y = square(x)\n",
    "        expected = np.array(4.0)\n",
    "        self.assertEqual(y.data, expected)"
   ]
  },
  {
   "cell_type": "code",
   "execution_count": 55,
   "id": "1bbb046d",
   "metadata": {},
   "outputs": [],
   "source": [
    "# test할 파일 저장(test1.py)\n",
    "\n",
    "with open('test1.py', 'w') as f:\n",
    "    f.write(\"\"\"\n",
    "import unittest\n",
    "import numpy as np\n",
    "\n",
    "class Variable:\n",
    "    def __init__(self, data):\n",
    "        if data is not None: # 데이터가 None이 아니고\n",
    "            if not isinstance(data, np.ndarray): # ndarray 인스턴스도 아니면\n",
    "                raise TypeError('{}은(는) 지원하지 않습니다.'.format(type(data))) # TypeError라는 예외 발생\n",
    "        self.data = data\n",
    "        self.grad = None\n",
    "        self.creator = None\n",
    "        \n",
    "    def set_creator(self, func):\n",
    "        self.creator = func\n",
    "        \n",
    "    def backward(self):\n",
    "        if self.grad is None:\n",
    "            self.grad = np.ones_like(self.data)\n",
    "            \n",
    "        funcs = [self.creator]\n",
    "        while funcs:\n",
    "            f = funcs.pop() \n",
    "            x, y = f.input, f.output\n",
    "            x.grad = f.backward(y.grad) \n",
    "            \n",
    "            if x.creator is not None:\n",
    "                funcs.append(x.creator)\n",
    "                \n",
    "def as_array(x):\n",
    "    if np.isscalar(x):\n",
    "        return np.array(x)\n",
    "    return x\n",
    "\n",
    "class Function:\n",
    "    def __call__(self, input):\n",
    "        x = input.data\n",
    "        y = self.forward(x)\n",
    "        output = Variable(as_array(y)) \n",
    "        output.set_creator(self)\n",
    "        self.input = input\n",
    "        self.output = output\n",
    "        return output\n",
    "    \n",
    "    def forward(self, x):\n",
    "        raise NotImplementError()\n",
    "        \n",
    "    def backward(Self, gy):\n",
    "        raise NotImplementError()\n",
    "        \n",
    "class Square(Function):\n",
    "    def forward(self, x):\n",
    "        y = x ** 2\n",
    "        return y\n",
    "    \n",
    "    def backward(self, gy):\n",
    "        x = self.input.data\n",
    "        gx = 2 * x * gy\n",
    "        return gx\n",
    "    \n",
    "def square(x):\n",
    "    return Square()(x)\n",
    "\n",
    "class SquareTest(unittest.TestCase):\n",
    "    def test_forward(self):\n",
    "        x = Variable(np.array(2.0))\n",
    "        y = square(x)\n",
    "        expected = np.array(4.0)\n",
    "        self.assertEqual(y.data, expected)\n",
    "\"\"\")"
   ]
  },
  {
   "cell_type": "markdown",
   "id": "09832f2a",
   "metadata": {},
   "source": [
    "테스트 코드가 test1.py 파일에 있다면  \n",
    "터미널에서 다음 명령을 실행  \n",
    "  \n",
    "\\$ python -m unittest test1.py  \n",
    "  \n",
    "-----  \n",
    "  \n",
    "(python 명령을 실행할 때 앞의 예처럼 -m unittest 인수를 제공하면 파이썬 파일을 테스트 모드로 실행할 수 있음. 혹은 steps10.py 파일 끝에  \n",
    "\n",
    "~~~python\n",
    "# test1.py\n",
    "unittest.main()\n",
    "~~~\n",
    "  \n",
    "위 코드를 추가하면 python test1.py만 입력해도 테스트를 수행할 수 있음)  \n",
    "  \n",
    "-----  \n",
    "  \n",
    "\n",
    "Ran 1 test in 0.000s   \n",
    "   \n",
    "OK   \n",
    "\n",
    "위와 같이 2 줄이 출력됨  \n",
    "이는 '1개의 테스트를 실행했고, 결과는 OK다'라는 뜻"
   ]
  },
  {
   "cell_type": "markdown",
   "id": "a41e0baf",
   "metadata": {},
   "source": [
    "이어서 square 함수의 역전파도 테스트하기 위해  \n",
    "SquareTest 클래스에 다음 코드를 추가"
   ]
  },
  {
   "cell_type": "code",
   "execution_count": 57,
   "id": "a90a1033",
   "metadata": {},
   "outputs": [],
   "source": [
    "import unittest\n",
    "\n",
    "class SquareTest(unittest.TestCase):\n",
    "    def test_forward(self):\n",
    "        x = Variable(np.array(2.0))\n",
    "        y = square(x)\n",
    "        expected = np.array(4.0)\n",
    "        self.assertEqual(y.data, expected)\n",
    "        \n",
    "    def test_backward(self):\n",
    "        x = Variable(np.array(3.0))\n",
    "        y = square(x)\n",
    "        y.backward()\n",
    "        expected = np.array(6.0)\n",
    "        self.assertEqual(x.grad, expected)"
   ]
  },
  {
   "cell_type": "code",
   "execution_count": 58,
   "id": "ad76aa2b",
   "metadata": {},
   "outputs": [],
   "source": [
    "# test할 파일 저장(test2.py)\n",
    "\n",
    "with open('test2.py', 'w') as f:\n",
    "    f.write(\"\"\"\n",
    "import unittest\n",
    "import numpy as np\n",
    "\n",
    "class Variable:\n",
    "    def __init__(self, data):\n",
    "        if data is not None: # 데이터가 None이 아니고\n",
    "            if not isinstance(data, np.ndarray): # ndarray 인스턴스도 아니면\n",
    "                raise TypeError('{}은(는) 지원하지 않습니다.'.format(type(data))) # TypeError라는 예외 발생\n",
    "        self.data = data\n",
    "        self.grad = None\n",
    "        self.creator = None\n",
    "        \n",
    "    def set_creator(self, func):\n",
    "        self.creator = func\n",
    "        \n",
    "    def backward(self):\n",
    "        if self.grad is None:\n",
    "            self.grad = np.ones_like(self.data)\n",
    "            \n",
    "        funcs = [self.creator]\n",
    "        while funcs:\n",
    "            f = funcs.pop() \n",
    "            x, y = f.input, f.output\n",
    "            x.grad = f.backward(y.grad) \n",
    "            \n",
    "            if x.creator is not None:\n",
    "                funcs.append(x.creator)\n",
    "                \n",
    "def as_array(x):\n",
    "    if np.isscalar(x):\n",
    "        return np.array(x)\n",
    "    return x\n",
    "\n",
    "class Function:\n",
    "    def __call__(self, input):\n",
    "        x = input.data\n",
    "        y = self.forward(x)\n",
    "        output = Variable(as_array(y))\n",
    "        output.set_creator(self)\n",
    "        self.input = input\n",
    "        self.output = output\n",
    "        return output\n",
    "    \n",
    "    def forward(self, x):\n",
    "        raise NotImplementError()\n",
    "        \n",
    "    def backward(Self, gy):\n",
    "        raise NotImplementError()\n",
    "        \n",
    "class Square(Function):\n",
    "    def forward(self, x):\n",
    "        y = x ** 2\n",
    "        return y\n",
    "    \n",
    "    def backward(self, gy):\n",
    "        x = self.input.data\n",
    "        gx = 2 * x * gy\n",
    "        return gx\n",
    "    \n",
    "def square(x):\n",
    "    return Square()(x)\n",
    "\n",
    "class SquareTest(unittest.TestCase):\n",
    "    def test_forward(self):\n",
    "        x = Variable(np.array(2.0))\n",
    "        y = square(x)\n",
    "        expected = np.array(4.0)\n",
    "        self.assertEqual(y.data, expected)\n",
    "        \n",
    "    def test_backward(self):\n",
    "        x = Variable(np.array(3.0))\n",
    "        y = square(x)\n",
    "        y.backward()\n",
    "        expected = np.array(6.0)\n",
    "        self.assertEqual(x.grad, expected)\n",
    "\"\"\")"
   ]
  },
  {
   "cell_type": "markdown",
   "id": "de77f91d",
   "metadata": {},
   "source": [
    "이처럼 코드를 수정할 때마다 즉시 테스트를 실행해주면 함수의 상태를 반복해서 확인할 수 있음"
   ]
  },
  {
   "cell_type": "markdown",
   "id": "883bad40",
   "metadata": {},
   "source": [
    "앞에서는 역전파 테스트할 때 미분의 기댓값을 손으로 계산해 입력함  \n",
    "이 부분은 기울기 확인(gradient checking)이라는 방법을 통해 자동화할 수 있음  \n",
    "기울기확인이란 수치 미분으로 구한 결과와 역전파로 구한 결과를 비교하여 차이가 크면 구현에 문제가 있다고 판단하는 검증 기법  \n",
    "  \n",
    "4단계에서 수치 미분을 구하기 위해 구현한 numerical_diff 함수를 사용하고  \n",
    "테스트에 함수 추가"
   ]
  },
  {
   "cell_type": "code",
   "execution_count": 59,
   "id": "fc01044f",
   "metadata": {},
   "outputs": [],
   "source": [
    "class SquareTest(unittest.TestCase):\n",
    "    def test_forward(self):\n",
    "        x = Variable(np.array(2.0))\n",
    "        y = square(x)\n",
    "        expected = np.array(4.0)\n",
    "        self.assertEqual(y.data, expected)\n",
    "        \n",
    "    def test_backward(self):\n",
    "        x = Variable(np.array(3.0))\n",
    "        y = square(x)\n",
    "        y.backward()\n",
    "        expected = np.array(6.0)\n",
    "        self.assertEqual(x.grad, expected)\n",
    "        \n",
    "    def test_gradient_check(self):\n",
    "        x = Variable(np.random.randn(1)) # 무작위 입력값 생성\n",
    "        y = square(x)\n",
    "        y.backward()\n",
    "        num_grad = numerical_diff(square, x) # 수치 미분\n",
    "        flg = np.allclose(x.grad, num_grad)\n",
    "        self.assertTrue(flg)"
   ]
  },
  {
   "cell_type": "markdown",
   "id": "4b96db09",
   "metadata": {},
   "source": [
    "여기서는 np.allclose 함수 사용  \n",
    "np.allclose(a,b)는 ndarray 인스턴스인 a와 b의 값이 얼마나 가까운지 판정함  \n",
    "'얼마나'에 해당하는건 np.allclose(a, b, rtol=1e-5, atol=1e-8)과 같이  \n",
    "인수 rtol과 atol로 지정할 수 있음  \n",
    "  \n",
    "$|a-b|\\leq (atol+rtol *|b|)$  \n",
    "  \n",
    "위 식의 조건을 만족하면 True를 반환함  \n",
    "함수에 따라 atol과 rtol의 값을 미세하게 조정해야 할 수도 있음  "
   ]
  },
  {
   "cell_type": "code",
   "execution_count": 60,
   "id": "058768c3",
   "metadata": {},
   "outputs": [],
   "source": [
    "# test할 파일 저장(test3.py)\n",
    "\n",
    "with open('test3.py', 'w') as f:\n",
    "    f.write(\"\"\"\n",
    "import unittest\n",
    "import numpy as np\n",
    "\n",
    "class Variable:\n",
    "    def __init__(self, data):\n",
    "        if data is not None: # 데이터가 None이 아니고\n",
    "            if not isinstance(data, np.ndarray): # ndarray 인스턴스도 아니면\n",
    "                raise TypeError('{}은(는) 지원하지 않습니다.'.format(type(data))) # TypeError라는 예외 발생\n",
    "        self.data = data\n",
    "        self.grad = None\n",
    "        self.creator = None\n",
    "        \n",
    "    def set_creator(self, func):\n",
    "        self.creator = func\n",
    "        \n",
    "    def backward(self):\n",
    "        if self.grad is None:\n",
    "            self.grad = np.ones_like(self.data)\n",
    "            \n",
    "        funcs = [self.creator]\n",
    "        while funcs:\n",
    "            f = funcs.pop() \n",
    "            x, y = f.input, f.output\n",
    "            x.grad = f.backward(y.grad) \n",
    "            \n",
    "            if x.creator is not None:\n",
    "                funcs.append(x.creator)\n",
    "                \n",
    "def as_array(x):\n",
    "    if np.isscalar(x):\n",
    "        return np.array(x)\n",
    "    return x\n",
    "\n",
    "class Function:\n",
    "    def __call__(self, input):\n",
    "        x = input.data\n",
    "        y = self.forward(x)\n",
    "        output = Variable(as_array(y)) \n",
    "        output.set_creator(self)\n",
    "        self.input = input\n",
    "        self.output = output\n",
    "        return output\n",
    "    \n",
    "    def forward(self, x):\n",
    "        raise NotImplementError()\n",
    "        \n",
    "    def backward(Self, gy):\n",
    "        raise NotImplementError()\n",
    "        \n",
    "class Square(Function):\n",
    "    def forward(self, x):\n",
    "        y = x ** 2\n",
    "        return y\n",
    "    \n",
    "    def backward(self, gy):\n",
    "        x = self.input.data\n",
    "        gx = 2 * x * gy\n",
    "        return gx\n",
    "    \n",
    "def square(x):\n",
    "    return Square()(x)\n",
    "    \n",
    "def numerical_diff(f, x, eps=1e-4):\n",
    "    x0 = Variable(x.data - eps)\n",
    "    x1 = Variable(x.data + eps)\n",
    "    y0 = f(x0)\n",
    "    y1 = f(x1)\n",
    "    return (y1.data - y0.data) / (2 * eps)\n",
    "\n",
    "class SquareTest(unittest.TestCase):\n",
    "    def test_forward(self):\n",
    "        x = Variable(np.array(2.0))\n",
    "        y = square(x)\n",
    "        expected = np.array(4.0)\n",
    "        self.assertEqual(y.data, expected)\n",
    "        \n",
    "    def test_backward(self):\n",
    "        x = Variable(np.array(3.0))\n",
    "        y = square(x)\n",
    "        y.backward()\n",
    "        expected = np.array(6.0)\n",
    "        self.assertEqual(x.grad, expected)\n",
    "        \n",
    "    def test_gradient_check(self):\n",
    "        x = Variable(np.random.randn(1))\n",
    "        y = square(x)\n",
    "        y.backward()\n",
    "        num_grad = numerical_diff(square, x)\n",
    "        flg = np.allclose(x.grad, num_grad)\n",
    "        self.assertTrue(flg)\n",
    "\"\"\")"
   ]
  },
  {
   "cell_type": "markdown",
   "id": "02c5b5b2",
   "metadata": {},
   "source": [
    "테스트 파일들은 한 장소에 모아 관리하는 것이 일반적  \n",
    "  \n",
    "$ python -m unittest discover tests  \n",
    "  \n",
    "discover라는 하위 명령을 사용하면 discover 다음에 지정한 디렉터리에서 테스트 파일이 있는지 검색 후  \n",
    "발견한 모든 파일을 실행함  \n",
    "기본적으로는 지정한 디렉터리에서 이름이 'test*.py'형태인 파일을 테스트 파일로 인식함(변경 가능)  \n",
    "따라서 위 명령으로 테스트 파일들을 한꺼번에 실행할 수 있음"
   ]
  }
 ],
 "metadata": {
  "kernelspec": {
   "display_name": "Python 3 (ipykernel)",
   "language": "python",
   "name": "python3"
  },
  "language_info": {
   "codemirror_mode": {
    "name": "ipython",
    "version": 3
   },
   "file_extension": ".py",
   "mimetype": "text/x-python",
   "name": "python",
   "nbconvert_exporter": "python",
   "pygments_lexer": "ipython3",
   "version": "3.8.8"
  }
 },
 "nbformat": 4,
 "nbformat_minor": 5
}
