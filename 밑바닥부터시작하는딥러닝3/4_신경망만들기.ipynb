{
 "cells": [
  {
   "cell_type": "markdown",
   "id": "227e88a0",
   "metadata": {},
   "source": [
    "# <center>제4고지 신경망 만들기</center>"
   ]
  },
  {
   "cell_type": "markdown",
   "id": "8c556620",
   "metadata": {},
   "source": [
    "# 37단계 텐서를 다루다"
   ]
  },
  {
   "cell_type": "markdown",
   "id": "7d88768f",
   "metadata": {},
   "source": [
    "지금까지는 변수로 주로 '스칼라'를 다뤘으나 머신러닝 데이터로는 벡터나 행렬 등의 '텐서'가 주로 쓰이므로  \n",
    "텐서를 사용할 때의 주의점을 알아보면서 DeZero의 확장을 준비"
   ]
  },
  {
   "cell_type": "markdown",
   "id": "168b0d52",
   "metadata": {},
   "source": [
    "전에 구현한 add, mul 등의 함수는 원소별 계산이 이뤄짐"
   ]
  },
  {
   "cell_type": "code",
   "execution_count": 1,
   "id": "c006bb1a",
   "metadata": {},
   "outputs": [
    {
     "name": "stdout",
     "output_type": "stream",
     "text": [
      "variable([[ 0.84147098  0.90929743  0.14112001]\n",
      "          [-0.7568025  -0.95892427 -0.2794155 ]])\n"
     ]
    }
   ],
   "source": [
    "# example 1\n",
    "import numpy as np\n",
    "from dezero import Variable\n",
    "import dezero.functions as F\n",
    "\n",
    "x = Variable(np.array([[1,2,3],[4,5,6]]))\n",
    "y = F.sin(x)\n",
    "print(y)"
   ]
  },
  {
   "cell_type": "code",
   "execution_count": 2,
   "id": "cb12e9b1",
   "metadata": {},
   "outputs": [
    {
     "name": "stdout",
     "output_type": "stream",
     "text": [
      "variable([[11 22 33]\n",
      "          [44 55 66]])\n"
     ]
    }
   ],
   "source": [
    "# example 2\n",
    "x = Variable(np.array([[1,2,3],[4,5,6]]))\n",
    "c = Variable(np.array([[10,20,30],[40,50,60]]))\n",
    "y = x + c\n",
    "print(y)"
   ]
  },
  {
   "cell_type": "markdown",
   "id": "db4b53a5",
   "metadata": {},
   "source": [
    "텐서를 이용해 역전파를 계산해도 문제 없음!  \n",
    "이유는 다음과 같음\n",
    "- 지금까지 구현한 DeZero 함수에 '텐서'를 건네면 텐서의 원소마다 '스칼라'로 계산함\n",
    "- 텐서의 원소별 '스칼라' 계산이 이루어지면 '스칼라'를 가정해 구현한 역전파는 '텐서'의 원소별 계산에서도 성립함"
   ]
  },
  {
   "cell_type": "markdown",
   "id": "1c98c02a",
   "metadata": {},
   "source": [
    "텐서의 미분을 머신러닝에서는 '기울기'라고 함  \n",
    "기울기의 형상과 데이터(순전파 때의 데이터)의 형상은 일치함  "
   ]
  },
  {
   "cell_type": "markdown",
   "id": "3b394e91",
   "metadata": {},
   "source": [
    "__[보충] 텐서 사용 시의 역전파__"
   ]
  },
  {
   "cell_type": "markdown",
   "id": "0a57ec9f",
   "metadata": {},
   "source": [
    "x와 y는 벡터이고, 두 벡터 모두 원소 수가 n개라고 가정하였을 때  \n",
    "$y=F(x)$ 함수의 y의 x에 대한 미분은 다음과 같다.  \n",
    "  \n",
    "$\\frac{\\partial{y}}{\\partial{x}}=\\begin{pmatrix}\n",
    "\\frac{\\partial{y_1}}{\\partial{x_1}} & \\frac{\\partial{y_1}}{\\partial{x_2}} & \\cdots & \\frac{\\partial{y_1}}{\\partial{x_n}}\\\\\n",
    "\\frac{\\partial{y_2}}{\\partial{x_1}} & \\frac{\\partial{y_2}}{\\partial{x_2}} & \\cdots & \\frac{\\partial{y_2}}{\\partial{x_n}}\\\\\n",
    "\\vdots & \\vdots & \\ddots & \\vdots \\\\\n",
    "\\frac{\\partial{y_n}}{\\partial{x_1}} & \\frac{\\partial{y_n}}{\\partial{x_2}} & \\cdots & \\frac{\\partial{y_n}}{\\partial{x_n}}\n",
    "\\end{pmatrix}$  \n",
    "  \n",
    "x, y 모두 벡터이므로 그 미분은 위와 같이 '행렬'의 형태가 됨  \n",
    "이 행렬을 야코비 행렬(Jacobian matrix)라고 함  \n",
    "  \n",
    "만약 y가 스칼라면 y의 x에 대한 미분은 다음과 같음  \n",
    "$\\frac{\\partial{y}}{\\partial{x}}=\\begin{pmatrix}\n",
    "\\frac{\\partial{y}}{\\partial{x_1}} & \\frac{\\partial{y}}{\\partial{x_1}} & \\cdots & \\frac{\\partial{y}}{\\partial{x_1}}\n",
    "\\end{pmatrix}$  \n",
    "  \n",
    "이는 1 $\\times$ n의 야코비 행렬이며, 행 벡터(가로로 나열된 벡터)로 간주할 수 있음  \n",
    "  \n",
    "합성 함수 $y=F(x)$가 $a=A(x), b=B(a), y=C(b)$라는 3개의 함수로 구성되어 있고, x, a, b는 벡터이며 원소수가 모두 n개라고 가정하였을 때  \n",
    "y의 x에 대한 미분은 연쇄 법칙에 의해 다음과 같음  \n",
    "  \n",
    "$\\frac{\\partial{y}}{\\partial{x}}=\\frac{\\partial{y}}{\\partial{b}}\\frac{\\partial{b}}{\\partial{a}}\\frac{\\partial{a}}{\\partial{x}}$  \n",
    "  \n",
    "여기서, $\\frac{\\partial{y}}{\\partial{b}}\\frac{\\partial{b}}{\\partial{a}}$는 야코비 행렬을 나타내며 '행렬의 곱'으로 계산함  \n",
    "  \n",
    "행렬곱을 계산하는 순서에는 두 가지 방법이 있음  \n",
    "1. 자동 미분의 forward 모드 : 입력 쪽에서 출력 쪽으로 괄호를 친다.  \n",
    "  \n",
    "<img src='./img/4/forward_mode.png' width=400>  \n",
    "  \n",
    "중간의 행렬 곱의 결과가 다시 행렬이 됨  \n",
    "ex) $\\frac{\\partial{b}}{\\partial{a}}\\frac{\\partial{a}}{\\partial{x}}$의 결과는 n $\\times$ n 행렬  \n",
    "  \n",
    "2. 자동 미분의 reverse 모드 : 출력 쪽에서 입력 쪽으로 괄호를 친다.  \n",
    "  \n",
    "<img src='./img/4/reverse_mode.png' width=400>  \n",
    "  \n",
    "y가 스칼라이므로 중간의 행렬 곱의 결과는 모두 백터(행 벡터)가 됨  \n",
    "따라서 벡터와 야코비 행렬의 곱으로 구성됨\n",
    "ex) $\\frac{\\partial{y}}{\\partial{b}}\\frac{\\partial{b}}{\\partial{a}}$의 결과는 n개의 원소로 구성된 벡터  \n",
    "  \n",
    "행렬과 행렬의 곱보다 벡터와 행렬의 곱의 계산량이 적으므로 reverse 모드, 즉 역전파 쪽의 계산 효율이 좋음  \n",
    "그렇기 때문에 역전파에서는 각 함수에 대해 벡터와 야코비 행렬의 곱을 계산함  \n",
    "  \n"
   ]
  },
  {
   "cell_type": "markdown",
   "id": "659b73c7",
   "metadata": {},
   "source": [
    "결과만 필요한 상황이라면 야코비 행렬을 구하여 '행렬의 곱'을 계산할 필요가 없음  \n",
    "  \n",
    "$a=A(x)$가 원소별 연산을 수행한 경우를 가정(ex: a=sin(x))  \n",
    "이 함수의 야코비 행렬은 다음과 같음  \n",
    "  \n",
    "$\\begin{pmatrix}\n",
    "\\frac{\\partial{a_1}}{\\partial{x_1}} & 0 & \\cdots & 0\\\\\n",
    "0 & \\frac{\\partial{a_2}}{\\partial{x_2}} & \\cdots & 0\\\\\n",
    "\\vdots & \\vdots & \\ddots & \\vdots \\\\\n",
    "0 & 0 & \\cdots & \\frac{\\partial{a_n}}{\\partial{x_n}}\n",
    "\\end{pmatrix}$\n",
    "  \n",
    "위와 같이 원소별 연산의 야코비 행렬은 대각 행렬(대각 성분 외에는 모두 0인 행렬)이 됨  \n",
    "$x_i$는 $a_i$에만 영향을 주기 때문  \n",
    "  \n",
    "또한, 야코비 행렬이 대각 행렬이라면 벡터와 야코비 행렬의 곱은 다음과 같음  \n",
    "  \n",
    "$\\frac{\\partial{y}}{\\partial{a}}\\frac{\\partial{a}}{\\partial{x}}=\n",
    "\\begin{pmatrix}\n",
    "\\frac{\\partial{y}}{\\partial{a_1}} & \\frac{\\partial{y}}{\\partial{a_2}} & \\cdots & \\frac{\\partial{y}}{\\partial{a_n}}\n",
    "\\end{pmatrix} \n",
    "\\begin{pmatrix}\n",
    "\\frac{\\partial{a_1}}{\\partial{x_1}} & 0 & \\cdots & 0\\\\\n",
    "0 & \\frac{\\partial{a_2}}{\\partial{x_2}} & \\cdots & 0\\\\\n",
    "\\vdots & \\vdots & \\ddots & \\vdots \\\\\n",
    "0 & 0 & \\cdots & \\frac{\\partial{a_n}}{\\partial{x_n}}\n",
    "\\end{pmatrix}\n",
    "=\\begin{pmatrix}\n",
    "\\frac{\\partial{y}}{\\partial{a_1}}\\frac{\\partial{a_1}}{\\partial{x_1}} & \\frac{\\partial{y}}{\\partial{a_2}}\\frac{\\partial{a_2}}{\\partial{x_2}} & \\cdots & \\frac{\\partial{y}}{\\partial{a_n}}\\frac{\\partial{a_n}}{\\partial{x_n}}\n",
    "\\end{pmatrix}$  \n",
    "  \n",
    "위 식과 같이 최종 결과는 원소별 미분을 계산한 다음 그 결과값을 원소별로 곱하면 얻을 수 있음  \n",
    "야코비 행렬을 구하여 '행렬의 곱'을 계산할 필요 없이 단순히 원소별로 곱하여 구할 수 있으며,  \n",
    "따라서 더 효율적으로 계산(구현)할 수 있음\n"
   ]
  },
  {
   "cell_type": "markdown",
   "id": "38e01ece",
   "metadata": {},
   "source": [
    "# 38단계 형상 변환 함수"
   ]
  },
  {
   "cell_type": "markdown",
   "id": "3312e070",
   "metadata": {},
   "source": [
    "원소별로 계산하지 않는 함수  \n",
    "\\* dezero/functions.py 에 추가\n",
    "  \n",
    "__reshape 함수 구현__  \n",
    "  \n",
    "텐서의 형상을 바꾸는 함수  \n",
    "텐서의 원소 수는 같고 형상만 바뀜"
   ]
  },
  {
   "cell_type": "code",
   "execution_count": 3,
   "id": "ef61c997",
   "metadata": {},
   "outputs": [
    {
     "name": "stdout",
     "output_type": "stream",
     "text": [
      "[[1 2 3]\n",
      " [4 5 6]]\n",
      "[1 2 3 4 5 6]\n"
     ]
    }
   ],
   "source": [
    "import numpy as np\n",
    "\n",
    "x = np.array([[1,2,3],[4,5,6]])\n",
    "print(x)\n",
    "y = np.reshape(x,(6,))\n",
    "print(y)"
   ]
  },
  {
   "cell_type": "markdown",
   "id": "b6734712",
   "metadata": {},
   "source": [
    "<img src='./img/4/reshape.png' width=400>"
   ]
  },
  {
   "cell_type": "markdown",
   "id": "a653bfb0",
   "metadata": {},
   "source": [
    "reshape 함수는 구체적인 계산 없이 단순히 형상만 변환함  \n",
    "따라서 역전파도 기울기에 계산 없이 흘려보내는데, 변수의 데이터와 기울기의 형상이 일치해야 함  \n",
    "ex) x가 Variable 인스턴스 일 때, x.data.shape == x.grad.shape이 만족할 수 있도록 역전파를 구현  \n",
    "즉, 입력 변수 쪽의 형상에 맞게 변환하는 것이 reshape 함수의 역전파"
   ]
  },
  {
   "cell_type": "markdown",
   "id": "6446b55c",
   "metadata": {},
   "source": [
    "~~~python\n",
    "class Reshape(Function):\n",
    "    def __init__(self, shape):\n",
    "        self.shape = shape\n",
    "        \n",
    "    def forward(self, x):\n",
    "        self.x_shape = x.shape\n",
    "        y = x.reshape(self.shape)\n",
    "        return y\n",
    "    \n",
    "    def backward(self, gy):\n",
    "        return reshape(gy, self.x_shape)\n",
    "    \n",
    "from dezero.core import as_variable\n",
    "\n",
    "def reshape(x, shape):\n",
    "    if x.shape == shape:\n",
    "        return as_variable(x)\n",
    "    return Reshape(shape)(x)\n",
    "~~~"
   ]
  },
  {
   "cell_type": "code",
   "execution_count": 4,
   "id": "37c2c672",
   "metadata": {},
   "outputs": [
    {
     "name": "stdout",
     "output_type": "stream",
     "text": [
      "variable([[1 1 1]\n",
      "          [1 1 1]])\n"
     ]
    }
   ],
   "source": [
    "import numpy as np\n",
    "from dezero import Variable\n",
    "import dezero.functions as F\n",
    "\n",
    "x = Variable(np.array([[1,2,3],[4,5,6]]))\n",
    "y = F.reshape(x, (6,))\n",
    "y.backward(retain_grad=True)\n",
    "print(x.grad)"
   ]
  },
  {
   "cell_type": "markdown",
   "id": "eff0d524",
   "metadata": {},
   "source": [
    "넘파이의 reshape은 다음과 같이 사용할 수도 있음"
   ]
  },
  {
   "cell_type": "code",
   "execution_count": 5,
   "id": "ca60ab78",
   "metadata": {},
   "outputs": [],
   "source": [
    "x = np.random.rand(1,2,3)\n",
    "\n",
    "y = x.reshape((2,3)) # 튜플로 받기\n",
    "y = x.reshape([2,3]) # 리스트로 받기\n",
    "y = x.reshape(2,3) # 인수를 풀어서 받기"
   ]
  },
  {
   "cell_type": "markdown",
   "id": "ea6e4f84",
   "metadata": {},
   "source": [
    "DeZero에서도 똑같은 용법을 제공하기 위해 Variable 클래스를 수정"
   ]
  },
  {
   "cell_type": "markdown",
   "id": "085bd305",
   "metadata": {},
   "source": [
    "~~~python\n",
    "class Variable:\n",
    "    ...\n",
    "    \n",
    "    def reshape(self, *shape): # 추가\n",
    "        if len(shape) == 1 and isinstance(shape[0], (tuple, list)):\n",
    "            shape = shape[0]\n",
    "        return dezero.functions.reshape(self, shape)\n",
    "~~~"
   ]
  },
  {
   "cell_type": "code",
   "execution_count": 6,
   "id": "b221faa7",
   "metadata": {},
   "outputs": [],
   "source": [
    "x = Variable(np.random.randn(1,2,3))\n",
    "y = x.reshape((2,3))\n",
    "y = x.reshape(2,3)"
   ]
  },
  {
   "cell_type": "markdown",
   "id": "4260b430",
   "metadata": {},
   "source": [
    "__행렬의 전치 함수 구현__  \n",
    "  \n",
    "행렬을 전치하면 행렬의 형상이 다음과 같이 변함  \n",
    "  \n",
    "ex)  \n",
    "$x=\\begin{pmatrix}x_{11} & x_{12} & x_{13}\\\\\n",
    "x_{21} & x_{22} & x_{23}\\end{pmatrix}$  \n",
    "  \n",
    "$x^T=\\begin{pmatrix}x_{11} & x_{21}\\\\\n",
    "x_{12} & x_{22}\\\\\n",
    "x_{13} & x_{23}\\end{pmatrix}$"
   ]
  },
  {
   "cell_type": "code",
   "execution_count": 7,
   "id": "8fd2b3e2",
   "metadata": {},
   "outputs": [
    {
     "name": "stdout",
     "output_type": "stream",
     "text": [
      "[[1 4]\n",
      " [2 5]\n",
      " [3 6]]\n"
     ]
    }
   ],
   "source": [
    "# 넘파이의 transpose gkatn\n",
    "x = np.array([[1,2,3],[4,5,6]])\n",
    "y = np.transpose(x)\n",
    "print(y)"
   ]
  },
  {
   "cell_type": "markdown",
   "id": "8519c819",
   "metadata": {},
   "source": [
    "텐서의 원소 자체는 그대로이고 형상만 바뀜  \n",
    "따라서 역전파에서도 출력 쪽에서 전해지는 기울기의 형상만 순전파 때의 반대로 변경함  \n",
    "\\* 지금은 입력 변수가 행렬(2차원 텐서)일 때로 한정하여 구현"
   ]
  },
  {
   "cell_type": "markdown",
   "id": "559b9e42",
   "metadata": {},
   "source": [
    "~~~python\n",
    "class Transpose(Function):\n",
    "    def forward(self, x):\n",
    "        y = np.transpose(x)\n",
    "        return y\n",
    "    \n",
    "    def backward(self, gy):\n",
    "        gx = transpose(gy)\n",
    "        return gx\n",
    "    \n",
    "def transpose(x):\n",
    "    return Transpose()(x)\n",
    "~~~"
   ]
  },
  {
   "cell_type": "code",
   "execution_count": 8,
   "id": "d411d07e",
   "metadata": {},
   "outputs": [
    {
     "name": "stdout",
     "output_type": "stream",
     "text": [
      "variable([[1 1 1]\n",
      "          [1 1 1]])\n"
     ]
    }
   ],
   "source": [
    "x = Variable(np.array([[1,2,3],[4,5,6]]))\n",
    "y = F.transpose(x)\n",
    "y.backward()\n",
    "print(x.grad)"
   ]
  },
  {
   "cell_type": "markdown",
   "id": "d6b4bbd0",
   "metadata": {},
   "source": [
    "Variable 인스턴스에서도 transpose 함수를 사용할 수 있도록 수정"
   ]
  },
  {
   "cell_type": "markdown",
   "id": "3bfca83a",
   "metadata": {},
   "source": [
    "~~~python\n",
    "class Variable:\n",
    "    ...\n",
    "    \n",
    "    def transpose(self):\n",
    "        return dezero.functions.transpose(self)\n",
    "    \n",
    "    @property # 인스턴스 변수로 사용할 수 있게 해주는 데코레이터\n",
    "    def T(self):\n",
    "        return dezero.functions.transpose(self)\n",
    "~~~"
   ]
  },
  {
   "cell_type": "code",
   "execution_count": 9,
   "id": "639a84ed",
   "metadata": {},
   "outputs": [],
   "source": [
    "x = Variable(np.random.rand(2,3))\n",
    "y = x.transpose()\n",
    "y = x.T"
   ]
  },
  {
   "cell_type": "markdown",
   "id": "35230d8f",
   "metadata": {},
   "source": [
    "# [보충] 실제 transpose 함수  \n",
    "  \n",
    "넘파이의 np.transpose 함수는 다음과 같이 축의 데이터 순서를 바꿀 수 있음"
   ]
  },
  {
   "cell_type": "markdown",
   "id": "3155d639",
   "metadata": {},
   "source": [
    "<img src='./img/4/transpose.png' width=500>"
   ]
  },
  {
   "cell_type": "code",
   "execution_count": 10,
   "id": "fea45800",
   "metadata": {},
   "outputs": [
    {
     "name": "stdout",
     "output_type": "stream",
     "text": [
      "(1, 2, 3, 4)\n",
      "(2, 1, 4, 3)\n"
     ]
    }
   ],
   "source": [
    "A, B, C, D = 1, 2, 3, 4\n",
    "x = np.random.rand(A, B, C, D)\n",
    "print(x.shape)\n",
    "y = x.transpose(1, 0, 3, 2) # 인덱스\n",
    "print(y.shape)"
   ]
  },
  {
   "cell_type": "markdown",
   "id": "157569ac",
   "metadata": {},
   "source": [
    "위 코드에서 np.transpose에 건네지는 인수는 변환 후의 축 순서(인덱스)임  \n",
    "인수를 None으로 주면 축이 역순으로 정렬됨(None이 기본값)  \n",
    "  \n",
    "Dezero에도 이를 반영"
   ]
  },
  {
   "cell_type": "markdown",
   "id": "938dc37c",
   "metadata": {},
   "source": [
    "~~~python\n",
    "class Transpose(Function):\n",
    "    def __init__(self, axes=None):\n",
    "        self.axes = axes\n",
    "\n",
    "    def forward(self, x):\n",
    "        y = x.transpose(self.axes)\n",
    "        return y\n",
    "\n",
    "    def backward(self, gy):\n",
    "        if self.axes is None:\n",
    "            return transpose(gy)\n",
    "\n",
    "        axes_len = len(self.axes)\n",
    "        inv_axes = tuple(np.argsort([ax % axes_len for ax in self.axes])) ### ???\n",
    "        return transpose(gy, inv_axes)\n",
    "\n",
    "\n",
    "def transpose(x, axes=None):\n",
    "    return Transpose(axes)(x)\n",
    "~~~"
   ]
  },
  {
   "cell_type": "markdown",
   "id": "08ba3ea6",
   "metadata": {},
   "source": [
    "# 39단계 합계 함수"
   ]
  },
  {
   "cell_type": "markdown",
   "id": "ed1b4f98",
   "metadata": {},
   "source": [
    "<img src='./img/4/add.png' width=400>"
   ]
  },
  {
   "cell_type": "markdown",
   "id": "ab1f0f6f",
   "metadata": {},
   "source": [
    "덧셈의 역전파는 출력 쪽에서 전해지는 기울기를 두 개로 '복사'하여 전달함  \n",
    "이는 원소가 2개인 벡터를 사용해도 동일하게 이뤄짐"
   ]
  },
  {
   "cell_type": "markdown",
   "id": "6fd2f6a3",
   "metadata": {},
   "source": [
    "<img src='./img/4/sum_1.png' width=400>"
   ]
  },
  {
   "cell_type": "markdown",
   "id": "7ed5fffa",
   "metadata": {},
   "source": [
    "위 그림은 2개의 원소로 구성된 벡터이며,  \n",
    "이 벡터에 sum 함수를 적용하면 스칼라를 출력함  "
   ]
  },
  {
   "cell_type": "markdown",
   "id": "59964edc",
   "metadata": {},
   "source": [
    "<img src='./img/4/sum_2.png' width=400>"
   ]
  },
  {
   "cell_type": "markdown",
   "id": "6a123e95",
   "metadata": {},
   "source": [
    "원소가 2개 이상인 벡터에서도 위 그림과 같이  \n",
    "역전파에서 기울기를 입력 변수의 형상과 같아지도록 복사하여 벡터로 확장해 전파함  \n",
    "입력 변수가 2차원 이상의 배열일 때도 동일하게 적용됨  \n",
    "이것이 sum 함수의 역전파"
   ]
  },
  {
   "cell_type": "markdown",
   "id": "30da5d99",
   "metadata": {},
   "source": [
    "\\* sum 함수의 역전파에서 Variable 인스턴스를 사용하므로 복사 작업도 DeZero 함수로 해야하며,  \n",
    "넘파이의 브로드캐스트와 같은 기능인 지정한 형상에 맞게 원소를 복사하는 작업은  \n",
    "다음 단계에서 broadcast_to(x.shape)라는 함수로 구현할 예정  \n",
    "sum 함수 구현을 위해 미리 사용함"
   ]
  },
  {
   "cell_type": "markdown",
   "id": "3e7fc583",
   "metadata": {},
   "source": [
    "~~~python\n",
    "class Sum(Function):\n",
    "    def forward(self, x):\n",
    "        self.x_shape = x.shape\n",
    "        y = x.sum()\n",
    "        return y\n",
    "    \n",
    "    def backward(self, gy):\n",
    "        gx = broadcast_to(gy, self.x_shape)\n",
    "        return gx\n",
    "    \n",
    "def sum(x):\n",
    "    return Sum()(x)\n",
    "~~~"
   ]
  },
  {
   "cell_type": "code",
   "execution_count": 11,
   "id": "8eb10c8e",
   "metadata": {},
   "outputs": [
    {
     "name": "stdout",
     "output_type": "stream",
     "text": [
      "variable(21)\n",
      "variable([1 1 1 1 1 1])\n"
     ]
    }
   ],
   "source": [
    "import numpy as np\n",
    "from dezero import Variable\n",
    "import dezero.functions as F\n",
    "\n",
    "x = Variable(np.array([1,2,3,4,5,6]))\n",
    "y = F.sum(x)\n",
    "y.backward()\n",
    "print(y)\n",
    "print(x.grad)"
   ]
  },
  {
   "cell_type": "code",
   "execution_count": 12,
   "id": "800e3383",
   "metadata": {},
   "outputs": [
    {
     "name": "stdout",
     "output_type": "stream",
     "text": [
      "variable(21)\n",
      "variable([[1 1 1]\n",
      "          [1 1 1]])\n"
     ]
    }
   ],
   "source": [
    "x = Variable(np.array([[1,2,3],[4,5,6]]))\n",
    "y = F.sum(x)\n",
    "y.backward()\n",
    "print(y)\n",
    "print(x.grad)"
   ]
  },
  {
   "cell_type": "markdown",
   "id": "d3d063e6",
   "metadata": {},
   "source": [
    "넘파이의 np.sum 함수는 합계를 구할 때 '축'을 지정하여 합계를 구할 방향을 정할 수 있음  \n",
    "기본값인 None일 경우 모든 원소를 다 더한 값 하나를 스칼라로 출력하며,  \n",
    "튜플로 지정하면 해당 튜플에서 지정한 축 모두에 대한 합계를 계산하고,  \n",
    "0과 1일 경우는 아래 그림과 같음\n",
    "  \n",
    "<img src='./img/4/sum_3.png' width=400>"
   ]
  },
  {
   "cell_type": "code",
   "execution_count": 13,
   "id": "d90aa114",
   "metadata": {},
   "outputs": [
    {
     "name": "stdout",
     "output_type": "stream",
     "text": [
      "[5 7 9]\n",
      "(2, 3) -> (3,)\n"
     ]
    }
   ],
   "source": [
    "x = np.array([[1,2,3],[4,5,6]])\n",
    "y = np.sum(x, axis=0)\n",
    "print(y)\n",
    "print(x.shape, '->', y.shape)"
   ]
  },
  {
   "cell_type": "markdown",
   "id": "a87a7d8f",
   "metadata": {},
   "source": [
    "또한 np.sum 함수는 keepdims라는 출력의 차원 수(축 수)를 동일하게 유지할지 정하는 인수도 받음  "
   ]
  },
  {
   "cell_type": "code",
   "execution_count": 14,
   "id": "6b46599a",
   "metadata": {},
   "outputs": [
    {
     "name": "stdout",
     "output_type": "stream",
     "text": [
      "[5 7 9]\n",
      "[[5 7 9]]\n",
      "[5 7 9]\n"
     ]
    }
   ],
   "source": [
    "x = np.array([[1,2,3],[4,5,6]])\n",
    "y = np.sum(x, axis=0)\n",
    "print(y)\n",
    "y = np.sum(x, keepdims=True, axis=0)\n",
    "print(y)\n",
    "y = np.sum(x, keepdims=False, axis=0)\n",
    "print(y)"
   ]
  },
  {
   "cell_type": "markdown",
   "id": "c0a7f221",
   "metadata": {},
   "source": [
    "위 두가지를 반영하여 Sum 클래스와 sum 함수를 수정"
   ]
  },
  {
   "cell_type": "markdown",
   "id": "688ca706",
   "metadata": {},
   "source": [
    "~~~python\n",
    "from dezero import utils\n",
    "\n",
    "class Sum(Function):\n",
    "    def __init__(self, axis, keepdims):\n",
    "        self.axis = axis\n",
    "        self.keepdims = keepdims\n",
    "        \n",
    "    def forward(self, x):\n",
    "        self.x_shape = x.shape\n",
    "        y = x.sum(axis=self.axis, keepdims=self.keepdims)\n",
    "        return y\n",
    "    \n",
    "    def backward(self, gy):\n",
    "        gy = utils.reshape_sum_backward(gy, self.x_shape, self.axis, self.keepdims)\n",
    "        gx = broadcast_to(gy, self.x_shape)\n",
    "        return gx\n",
    "    \n",
    "def sum(x, axis=None, keepdims=False):\n",
    "    return Sum(axis, keepdims)(x)\n",
    "~~~"
   ]
  },
  {
   "cell_type": "markdown",
   "id": "51636b16",
   "metadata": {},
   "source": [
    "utils.reshape_sum_backward 함수는 gy의 형상을 미세하게 조정함  \n",
    "(axis와 keepdims를 지원하게 되면서 기울기의 형상을 변환하는 경우가 생기기 때문에 그에 대응하는 함수)"
   ]
  },
  {
   "cell_type": "markdown",
   "id": "0707609f",
   "metadata": {},
   "source": [
    "~~~python\n",
    "def reshape_sum_backward(gy, x_shape, axis, keepdims):\n",
    "    ndim = len(x_shape)\n",
    "    tupled_axis = axis\n",
    "    if axis is None:\n",
    "        tupled_axis = None\n",
    "    elif not isinstance(axis, tuple):\n",
    "        tupled_axis = (axis,)\n",
    "\n",
    "    if not (ndim == 0 or tupled_axis is None or keepdims):\n",
    "        actual_axis = [a if a >= 0 else a + ndim for a in tupled_axis]\n",
    "        shape = list(gy.shape)\n",
    "        for a in sorted(actual_axis):\n",
    "            shape.insert(a, 1)\n",
    "    else:\n",
    "        shape = gy.shape\n",
    "\n",
    "    gy = gy.reshape(shape)  # reshape\n",
    "    return gy\n",
    "~~~"
   ]
  },
  {
   "cell_type": "markdown",
   "id": "0907a44b",
   "metadata": {},
   "source": [
    "sum 함수를 Variable 메서드로 사용할 수 있도록 Variable 클래스에 다음 코드 추가"
   ]
  },
  {
   "cell_type": "markdown",
   "id": "50e18d78",
   "metadata": {},
   "source": [
    "~~~python\n",
    "class Variable:\n",
    "    ...\n",
    "    \n",
    "    def sum(self, axis=None, keepdims=False):\n",
    "        return dezero.functions.sum(self, axis, keepdims)\n",
    "~~~"
   ]
  },
  {
   "cell_type": "code",
   "execution_count": 1,
   "id": "893a5291",
   "metadata": {},
   "outputs": [
    {
     "name": "stdout",
     "output_type": "stream",
     "text": [
      "variable([5 7 9])\n",
      "variable([[1 1 1]\n",
      "          [1 1 1]])\n",
      "(1, 1, 1, 1)\n"
     ]
    }
   ],
   "source": [
    "import numpy as np\n",
    "from dezero import Variable\n",
    "import dezero.functions as F\n",
    "\n",
    "x = Variable(np.array([[1,2,3],[4,5,6]]))\n",
    "y = F.sum(x, axis=0)\n",
    "y.backward()\n",
    "print(y)\n",
    "print(x.grad)\n",
    "\n",
    "x = Variable(np.random.randn(2,3,4,5))\n",
    "y = x.sum(keepdims=True) # 차원 수 고정\n",
    "print(y.shape)"
   ]
  },
  {
   "cell_type": "markdown",
   "id": "cd1d6724",
   "metadata": {},
   "source": [
    "# 40단계 브로드캐스트 함수"
   ]
  },
  {
   "cell_type": "markdown",
   "id": "c507b271",
   "metadata": {},
   "source": [
    "__넘파이의 np.broadcast_to(x, shape)__  \n",
    "  \n",
    "이 함수는 ndarray 인스턴스인 x의 원소를 복제하여 shape 인수로 지정한 형상이 되도록 해줌  "
   ]
  },
  {
   "cell_type": "code",
   "execution_count": 3,
   "id": "0ca13bed",
   "metadata": {},
   "outputs": [
    {
     "name": "stdout",
     "output_type": "stream",
     "text": [
      "[[1 2 3]\n",
      " [1 2 3]]\n"
     ]
    }
   ],
   "source": [
    "import numpy as np\n",
    "\n",
    "x = np.array([1,2,3])\n",
    "y = np.broadcast_to(x, (2,3))\n",
    "print(y)"
   ]
  },
  {
   "cell_type": "markdown",
   "id": "42531467",
   "metadata": {},
   "source": [
    "<img src='./img/4/broadcast_1.png' width=500>"
   ]
  },
  {
   "cell_type": "markdown",
   "id": "c0e24b48",
   "metadata": {},
   "source": [
    "원소 복사가 일어날 경우 역전파에서는 기울기의 '합'을 구함  \n",
    "따라서 broadcast_to 함수의 역전파는 입력 x의 형상과 같아지도록 기울기의 합을 구함  \n",
    "  \n",
    "이를 위해 dezero/utils.py 에 sum_to 함수를 구현함  \n",
    "sum_to 함수는 shape 형상이 되도록 합을 계산함  "
   ]
  },
  {
   "cell_type": "markdown",
   "id": "3d809bf7",
   "metadata": {},
   "source": [
    "~~~python\n",
    "def sum_to(x, shape):\n",
    "    ndim = len(shape)\n",
    "    lead = x.ndim - ndim\n",
    "    lead_axis = tuple(range(lead))\n",
    "\n",
    "    axis = tuple([i + lead for i, sx in enumerate(shape) if sx == 1])\n",
    "    y = x.sum(lead_axis + axis, keepdims=True)\n",
    "    if lead > 0:\n",
    "        y = y.squeeze(lead_axis)\n",
    "    return y\n",
    "~~~"
   ]
  },
  {
   "cell_type": "code",
   "execution_count": 1,
   "id": "889fdb46",
   "metadata": {},
   "outputs": [
    {
     "name": "stdout",
     "output_type": "stream",
     "text": [
      "[[5 7 9]]\n",
      "[[ 6]\n",
      " [15]]\n"
     ]
    }
   ],
   "source": [
    "import numpy as np\n",
    "from dezero.utils import sum_to\n",
    "\n",
    "x = np.array([[1,2,3],[4,5,6]])\n",
    "y = sum_to(x, (1, 3))\n",
    "print(y)\n",
    "\n",
    "y = sum_to(x, (2, 1))\n",
    "print(y)"
   ]
  },
  {
   "cell_type": "markdown",
   "id": "6e18c685",
   "metadata": {},
   "source": [
    "<img src='./img/4/sum_to.png' width=500>"
   ]
  },
  {
   "cell_type": "markdown",
   "id": "a4570d7f",
   "metadata": {},
   "source": [
    "sum_to 함수의 역전파는 위 그림과 같이 broadcast_to 함수를 사용하여 입력 x의 형상과 같아지도록 기울기의 원소를 복제함 "
   ]
  },
  {
   "cell_type": "markdown",
   "id": "c5c4be2c",
   "metadata": {},
   "source": [
    "DeZero의 BroadcastTo 클래스와 broadcast_to 함수 구현"
   ]
  },
  {
   "cell_type": "markdown",
   "id": "be788b70",
   "metadata": {},
   "source": [
    "~~~python\n",
    "class BroadcastTo(Function):\n",
    "    def __init__(self, shape):\n",
    "        self.shape = shape\n",
    "        \n",
    "    def forward(self, x):\n",
    "        self.x_shape = x.shape\n",
    "        y = np.broadcast_to(x, self.shape)\n",
    "        return y\n",
    "    \n",
    "    def backward(self, gy):\n",
    "        gx = sum_to(gy, self.x_shape)\n",
    "        reutrn gx\n",
    "        \n",
    "def broadcast_to(x, shape):\n",
    "    if x.shape == shape:\n",
    "        return as_variable(x)\n",
    "    return BroadcastTo(shape)(x)\n",
    "~~~"
   ]
  },
  {
   "cell_type": "markdown",
   "id": "cda95420",
   "metadata": {},
   "source": [
    "DeZero의 SumTo 클래스와 sum_to 함수 구현"
   ]
  },
  {
   "cell_type": "markdown",
   "id": "134fc52d",
   "metadata": {},
   "source": [
    "~~~python\n",
    "from dezero import utils\n",
    "\n",
    "class SumTo(Function):\n",
    "    def __init__(self, shape):\n",
    "        self.shape = shape\n",
    "        \n",
    "    def forward(self, x):\n",
    "        self.x_shape = x.shape\n",
    "        y = utils.sum_to(x, self.shape)\n",
    "        return y\n",
    "    \n",
    "    def backward(self, gy):\n",
    "        gx = broadcast_to(gy, self.x_shape)\n",
    "        return gx\n",
    "    \n",
    "def sum_to(x, shape):\n",
    "    if x.shape == shape:\n",
    "        return as_variable(x)\n",
    "    return SumTo(shape)(x)\n",
    "~~~"
   ]
  },
  {
   "cell_type": "markdown",
   "id": "968764a3",
   "metadata": {},
   "source": [
    "브로드캐스트란 형상이 다른 다차원 배열끼리의 연산을 가능하게 하는 넘파이의 기능  "
   ]
  },
  {
   "cell_type": "code",
   "execution_count": 2,
   "id": "2f1cefe1",
   "metadata": {},
   "outputs": [
    {
     "name": "stdout",
     "output_type": "stream",
     "text": [
      "[11 12 13]\n"
     ]
    }
   ],
   "source": [
    "x0 = np.array([1,2,3])\n",
    "x1 = np.array([10])\n",
    "y = x0 + x1\n",
    "print(y)"
   ]
  },
  {
   "cell_type": "markdown",
   "id": "f2451bc5",
   "metadata": {},
   "source": [
    "위 예시에서 x0과 x1의 형상이 다르나, x1의 원소가 x0 형상에 맞게 복제되었음  "
   ]
  },
  {
   "cell_type": "code",
   "execution_count": 4,
   "id": "ce9b0862",
   "metadata": {},
   "outputs": [
    {
     "name": "stdout",
     "output_type": "stream",
     "text": [
      "variable([11 12 13])\n"
     ]
    }
   ],
   "source": [
    "from dezero import Variable\n",
    "\n",
    "x0 = Variable(np.array([1,2,3]))\n",
    "x1 = Variable(np.array([10]))\n",
    "y = x0 + x1\n",
    "print(y)"
   ]
  },
  {
   "cell_type": "code",
   "execution_count": 6,
   "id": "8232fc67",
   "metadata": {},
   "outputs": [
    {
     "name": "stdout",
     "output_type": "stream",
     "text": [
      "None\n"
     ]
    }
   ],
   "source": [
    "print(y.backward())"
   ]
  },
  {
   "cell_type": "markdown",
   "id": "a1bb0852",
   "metadata": {},
   "source": [
    "Dezero에서도 브로드캐스트의 순전파는 잘 진행되었지만,  \n",
    "역전파는 전혀 일어나지 않음  \n",
    "  \n",
    "이를 해결하기 위해 Add 클래스의 경우 다음의 수정을 반영  \n",
    "기울기 gx0은 x0의 형상이 되도록 합을 구하고,  \n",
    "기울기 gx1은 x1의 형상이 되도록 합을 구함  \n",
    "  \n",
    "Mul, Sub, Div 클래스 등 사칙연산 클래스에 모두 같은 수정 반영"
   ]
  },
  {
   "cell_type": "markdown",
   "id": "932957c2",
   "metadata": {},
   "source": [
    "~~~python\n",
    "class Add(Function):\n",
    "    def forward(self, x0, x1):\n",
    "        self.x0_shape, self.x1_shape = x0.shape, x1.shape\n",
    "        y = x0 + x1\n",
    "        return y\n",
    "    \n",
    "    def backward(self, gy):\n",
    "        gx0, gx1 = gy, gy\n",
    "        if self.x0_shape != self.x1_shape:\n",
    "            gx0 = dezero.functions.sum_to(gx0, self.x0_shape)\n",
    "            gx1 = dezero.functions.sum_to(gx1, self.x1_shape)\n",
    "        return gx0, gx1\n",
    "~~~"
   ]
  },
  {
   "cell_type": "code",
   "execution_count": 1,
   "id": "8e11d494",
   "metadata": {},
   "outputs": [
    {
     "name": "stdout",
     "output_type": "stream",
     "text": [
      "variable([11 12 13])\n",
      "variable([1 1 1])\n",
      "variable([3])\n"
     ]
    }
   ],
   "source": [
    "import numpy as np\n",
    "from dezero import Variable\n",
    "import dezero.functions as F\n",
    "\n",
    "x0 = Variable(np.array([1,2,3]))\n",
    "x1 = Variable(np.array([10]))\n",
    "y = x0 + x1\n",
    "print(y)\n",
    "\n",
    "y.backward()\n",
    "print(x0.grad)\n",
    "print(x1.grad)"
   ]
  },
  {
   "cell_type": "markdown",
   "id": "2abe6ab7",
   "metadata": {},
   "source": [
    "# 41단계 행렬의 곱"
   ]
  },
  {
   "cell_type": "markdown",
   "id": "ebc76bf7",
   "metadata": {},
   "source": [
    "벡터 $a=(a_1,\\cdots,a_n)$, $b=(b_1,\\cdots,b_n)$이 있을 때, 두 벡터의 내적은 다음과 같음  \n",
    "  \n",
    "$ab=a_1b_1+a_2b_2+\\cdots +a_nb_n$  \n",
    "  \n",
    "위의 식과 같이 벡터의 내적은 두 벡터 사이의 대응 원소의 곱을 모두 합한 값임  \n",
    "  \n",
    "행렬의 곱은 아래 그림과 같이 계산함  \n",
    "  \n",
    "<img src='./img/4/matmul_1.png' width=300>  \n",
    "  \n",
    "왼쪽 행렬의 '가로 방향 벡터'와 오른 쪽 행렬의 '세로 방향 벡터' 사이의 내적을 계산하여  \n",
    "그 결과가 새로운 행렬의 원소가 되는 방식으로 계산함  "
   ]
  },
  {
   "cell_type": "markdown",
   "id": "48551d89",
   "metadata": {},
   "source": [
    "<img src='./img/4/matmul_2.png' width=300>  \n",
    "  \n",
    "행렬의 곱에서는 대응하는 차원(축)의 원소 수가 일치해야 함  \n",
    "행렬 a와 b의 행렬 곱의 결과로 만들어진 행렬 c의 형상은 행렬 a와 같은 수의 행, 행렬 b와 같은 수의 열을 갖게 됨  \n",
    "  \n",
    "벡터의 내적과 행렬의 곱 계산은 넘파에의 np.dot 함수로 모두 처리할 수 있음"
   ]
  },
  {
   "cell_type": "code",
   "execution_count": 2,
   "id": "42551690",
   "metadata": {},
   "outputs": [
    {
     "name": "stdout",
     "output_type": "stream",
     "text": [
      "32\n",
      "[[19 22]\n",
      " [43 50]]\n"
     ]
    }
   ],
   "source": [
    "import numpy as np\n",
    "\n",
    "# 벡터의 내적\n",
    "a = np.array([1,2,3])\n",
    "b = np.array([4,5,6])\n",
    "c = np.dot(a,b)\n",
    "print(c)\n",
    "\n",
    "# 행렬의 곱\n",
    "a = np.array([[1,2],[3,4]])\n",
    "b = np.array([[5,6],[7,8]])\n",
    "c = np.dot(a,b)\n",
    "print(c)"
   ]
  },
  {
   "cell_type": "markdown",
   "id": "b9c29242",
   "metadata": {},
   "source": [
    "ex) $y = xW$ 계산  \n",
    "x, W, y의 형상은 1$\\times$D, D$\\times$H, 1$\\times$H 일 때,\n",
    "  \n",
    "<img src='./img/4/matmul_3.png' width=400>\n",
    "  \n",
    "x의 i번째 원소에 대한 미분은 다음과 같음  \n",
    "  \n",
    "$\\frac{\\partial{L}}{\\partial{x_i}}=\\sum_j\\frac{\\partial{L}}{\\partial{y_j}}\\frac{\\partial{y_j}}{\\partial{x_i}}$  \n",
    "  \n",
    "여기서, $y_j=x_1W_{1j}+x_2W_{2j}+\\cdots+x_iW+{ij}+\\cdots+x_HW_{Hj}$이므로,  \n",
    "$\\frac{\\partial{y_j}}{\\partial{x_i}}=W_{ij}$가 성립하므로 위 식을 다음과 같이 정리할 수 있다.  \n",
    "  \n",
    "$\\frac{\\partial{L}}{\\partial{x_i}}=\\sum_j\\frac{\\partial{L}}{\\partial{y_j}}\\frac{\\partial{y_j}}{\\partial{x_i}}=\n",
    "\\sum_j\\frac{\\partial{L}}{\\partial{y_j}}W_{ij}$  \n",
    "  \n",
    "따라서 $\\frac{\\partial{L}}{\\partial{x}}$은 벡터 $\\frac{\\partial{L}}{\\partial{y}}$와 $W$의 i행 벡터의 내적으로 구해지는 것을 알 수 있음. 다시 정리하면 다음과 같음  \n",
    "  \n",
    "$\\frac{\\partial{L}}{\\partial{x}}=\\frac{\\partial{L}}{\\partial{y}}W^T$  \n",
    "  \n",
    "위 식의 형상체크는 다음과 같다.  \n",
    "  \n",
    "<img src='./img/4/matmul_4.png' width=300>  "
   ]
  },
  {
   "cell_type": "markdown",
   "id": "bc65b2e7",
   "metadata": {},
   "source": [
    "이번엔 $y=xW$라는 행렬 곱 계산에서 \n",
    "x, W, y의 형상이 N$\\times$D, D$\\times$H, N$\\times$H 라고 할 때,  \n",
    "역전파의 계산 그래프와 형상을 고려한 행렬 곱의 식은 아래 그림과 같음  \n",
    "  \n",
    "<img src='./img/4/matmul_5.png' width=500>  \n",
    "  \n",
    "<img src='./img/4/matmul_6.png' width=400>  \n",
    "  \n",
    "이를 고려하여 DeZero의 행렬 곱을 수행하는 MatMul 클래스와 matmul 함수 구현"
   ]
  },
  {
   "cell_type": "markdown",
   "id": "61d42847",
   "metadata": {},
   "source": [
    "~~~python\n",
    "class MatMul(Function):\n",
    "    def forward(self, x, W):\n",
    "        y = x.dot(W)\n",
    "        return y\n",
    "    \n",
    "    def backward(self, gy):\n",
    "        x, W = self.inputs\n",
    "        gx = matmul(gy, W.T)\n",
    "        gW = matmul(x.T, gy)\n",
    "        return gx, gW\n",
    "    \n",
    "def matmul(x, W):\n",
    "    return MatMul()(x,W)\n",
    "~~~"
   ]
  },
  {
   "cell_type": "code",
   "execution_count": 3,
   "id": "00adf451",
   "metadata": {},
   "outputs": [
    {
     "name": "stdout",
     "output_type": "stream",
     "text": [
      "(2, 3)\n",
      "(3, 4)\n"
     ]
    }
   ],
   "source": [
    "import numpy as np\n",
    "from dezero import Variable\n",
    "import dezero.functions as F\n",
    "\n",
    "x = Variable(np.random.randn(2,3))\n",
    "W = Variable(np.random.randn(3,4))\n",
    "y = F.matmul(x, W)\n",
    "y.backward()\n",
    "\n",
    "print(x.grad.shape) # x와 형상 동일\n",
    "print(W.grad.shape) # W와 형상 동일"
   ]
  },
  {
   "cell_type": "markdown",
   "id": "bec043f9",
   "metadata": {},
   "source": [
    "# 42단계 선형 회귀"
   ]
  },
  {
   "cell_type": "markdown",
   "id": "4fc9fe2f",
   "metadata": {},
   "source": [
    "x로부터 실숫값 y를 예측하는 것을 회귀(regression)이라고 하며,  \n",
    "회귀 모델 중 예측값이 선형(직선)을 이루는 것을 '선형 회귀(linear regression)이라고 함  \n",
    "  \n",
    "머신러닝의 가장 기본이 되는 선형 회귀를 구현하기 위해 실험용 데이터셋 만듦"
   ]
  },
  {
   "cell_type": "code",
   "execution_count": 1,
   "id": "12831255",
   "metadata": {},
   "outputs": [
    {
     "data": {
      "image/png": "[encoded data removed]",
      "text/plain": [
       "<Figure size 432x288 with 1 Axes>"
      ]
     },
     "metadata": {
      "needs_background": "light"
     },
     "output_type": "display_data"
    }
   ],
   "source": [
    "# 토이 데이터셋\n",
    "import numpy as np\n",
    "import matplotlib.pyplot as plt\n",
    "\n",
    "np.random.seed(0) # 시드값 고정\n",
    "x = np.random.randn(100, 1)\n",
    "y = 5 + 2 * x + np.random.rand(100,1) # y에 무작위 노이즈 추가\n",
    "\n",
    "plt.scatter(x,y)\n",
    "plt.show()"
   ]
  },
  {
   "cell_type": "markdown",
   "id": "1f2d2da0",
   "metadata": {},
   "source": [
    "위 토이 데이터셋의 x와 y는 선형 관계이나 y에 노이즈가 추가되어 있음  \n",
    "  \n",
    "x값이 주어지면 y값을 예측하는 모델(수식)을 만들어야 함  \n",
    "  \n",
    "이 문제에서 x와 y가 선형 관계라고 가정하기 때문에 $y=Wx+b$로 표현할 수 있음  \n",
    "회귀에서는 데이터와 예측치의 차이인 잔차(residual)을 최소화하는 직선 $y=Wx+b$를 찾는 것이 목표이며,  \n",
    "예측치(모델)와 데이터의 오차를 나타내는 지표는 다음 식으로 정의함  \n",
    "  \n",
    "$L=\\frac{1}{N}\\sum^N_{i=1}(f(x_i)-y_i)^2$  \n",
    "  \n",
    "이는 평균 제곱 오차(mean squared error)로 총 N개의 점에 대해($x_i, y_i$)의 각 점에서 제곱 오차를 구한 다음 모두 더하고 $\\frac{1}{N}$을 곱하여 평균을 구한 값임  \n",
    "선형 회귀에서는 손실 함수로 평균 제곱 오차를 이용함  \n",
    "  \n",
    "따라서, 손실 함수의 출력을 최소화하는 W와 b를 찾는 함수 최적화 문제라고 할 수 있음  \n",
    "이를 경사하강법을 이용하여 구현하면 다음과 같음"
   ]
  },
  {
   "cell_type": "code",
   "execution_count": 2,
   "id": "7f80745b",
   "metadata": {
    "scrolled": true
   },
   "outputs": [
    {
     "name": "stdout",
     "output_type": "stream",
     "text": [
      "variable([[0.47225324]]) variable([1.12285597]) variable(35.639227142413375)\n",
      "variable([[0.83479198]]) variable([2.01549184]) variable(22.352525843294014)\n",
      "variable([[1.11273871]]) variable([2.72526399]) variable(14.03968744103063)\n",
      "variable([[1.32552745]]) variable([3.28975702]) variable(8.835506148369609)\n",
      "variable([[1.48818042]]) variable([3.73880616]) variable(5.575369864173143)\n",
      "variable([[1.61230024]]) variable([4.09609987]) variable(3.531709851601136)\n",
      "variable([[1.70684062]]) variable([4.38045017]) variable(2.2497326621513265)\n",
      "variable([[1.77870475]]) variable([4.60679956]) variable(1.4449848960136873)\n",
      "variable([[1.83320966]]) variable([4.78701945]) variable(0.9394443499151088)\n",
      "variable([[1.87444636]]) variable([4.93054341]) variable(0.6216269868304265)\n",
      "variable([[1.90555891]]) variable([5.04486931]) variable(0.4216716133545497)\n",
      "variable([[1.92896069]]) variable([5.13595788]) variable(0.2957702354273312)\n",
      "variable([[1.94650174]]) variable([5.20854881]) variable(0.21643290401114082)\n",
      "variable([[1.9595982]]) variable([5.26641174]) variable(0.1663969996947845)\n",
      "variable([[1.96933241]]) variable([5.31254542]) variable(0.13481425337581832)\n",
      "variable([[1.97653017]]) variable([5.34933594]) variable(0.11486216172148211)\n",
      "variable([[1.98182037]]) variable([5.37868225]) variable(0.10224669654520369)\n",
      "variable([[1.98568097]]) variable([5.40209602]) variable(0.09426307877493928)\n",
      "variable([[1.98847441]]) variable([5.42078086]) variable(0.08920619981134527)\n",
      "variable([[1.99047481]]) variable([5.43569531]) variable(0.08600025658335106)\n",
      "variable([[1.99188897]]) variable([5.44760295]) variable(0.08396591926215162)\n",
      "variable([[1.99287238]]) variable([5.45711215]) variable(0.08267384727308037)\n",
      "variable([[1.99354154]]) variable([5.46470774]) variable(0.08185245788461916)\n",
      "variable([[1.99398342]]) variable([5.47077621]) variable(0.0813298073518988)\n",
      "variable([[1.99426262]]) variable([5.4756257]) variable(0.08099693769542457)\n",
      "variable([[1.99442689]]) variable([5.47950195]) variable(0.08078474161913704)\n",
      "variable([[1.9945113]]) variable([5.48260099]) variable(0.08064934746462228)\n",
      "variable([[1.99454143]]) variable([5.48507921]) variable(0.08056287849824387)\n",
      "variable([[1.99453578]]) variable([5.48706142]) variable(0.0805076051143417)\n",
      "variable([[1.99450757]]) variable([5.48864726]) variable(0.08047224088352652)\n",
      "variable([[1.99446614]]) variable([5.48991627]) variable(0.0804495943871521)\n",
      "variable([[1.99441797]]) variable([5.49093197]) variable(0.08043507921860017)\n",
      "variable([[1.99436748]]) variable([5.49174511]) variable(0.08042576765978131)\n",
      "variable([[1.99431756]]) variable([5.49239623]) variable(0.08041978910313484)\n",
      "variable([[1.99427002]]) variable([5.49291772]) variable(0.08041594727609158)\n",
      "variable([[1.99422594]]) variable([5.49333548]) variable(0.08041347646173187)\n",
      "variable([[1.99418585]]) variable([5.49367021]) variable(0.08041188609915911)\n",
      "variable([[1.99414993]]) variable([5.49393848]) variable(0.08041086163126797)\n",
      "variable([[1.99411812]]) variable([5.49415352]) variable(0.08041020118300123)\n",
      "variable([[1.99409023]]) variable([5.49432594]) variable(0.08040977508524431)\n",
      "variable([[1.99406596]]) variable([5.4944642]) variable(0.08040949997856489)\n",
      "variable([[1.99404499]]) variable([5.49457511]) variable(0.080409322230174)\n",
      "variable([[1.99402696]]) variable([5.49466408]) variable(0.08040920730533824)\n",
      "variable([[1.99401155]]) variable([5.49473548]) variable(0.0804091329492323)\n",
      "variable([[1.99399842]]) variable([5.49479278]) variable(0.08040908480938995)\n",
      "variable([[1.99398729]]) variable([5.49483877]) variable(0.08040905362274552)\n",
      "variable([[1.99397787]]) variable([5.4948757]) variable(0.08040903340655912)\n",
      "variable([[1.99396993]]) variable([5.49490536]) variable(0.08040902029401203)\n",
      "variable([[1.99396326]]) variable([5.49492918]) variable(0.08040901178414428)\n",
      "variable([[1.99395766]]) variable([5.49494832]) variable(0.08040900625831802)\n",
      "variable([[1.99395298]]) variable([5.49496369]) variable(0.08040900266826266)\n",
      "variable([[1.99394906]]) variable([5.49497605]) variable(0.08040900033466752)\n",
      "variable([[1.9939458]]) variable([5.49498598]) variable(0.08040899881705313)\n",
      "variable([[1.99394308]]) variable([5.49499397]) variable(0.08040899782963704)\n",
      "variable([[1.99394082]]) variable([5.49500039]) variable(0.08040899718690023)\n",
      "variable([[1.99393895]]) variable([5.49500555]) variable(0.08040899676834572)\n",
      "variable([[1.99393739]]) variable([5.4950097]) variable(0.08040899649566864)\n",
      "variable([[1.9939361]]) variable([5.49501305]) variable(0.08040899631795732)\n",
      "variable([[1.99393504]]) variable([5.49501573]) variable(0.08040899620209466)\n",
      "variable([[1.99393416]]) variable([5.4950179]) variable(0.08040899612652863)\n",
      "variable([[1.99393343]]) variable([5.49501964]) variable(0.08040899607722748)\n",
      "variable([[1.99393283]]) variable([5.49502104]) variable(0.08040899604505183)\n",
      "variable([[1.99393234]]) variable([5.49502217]) variable(0.08040899602404633)\n",
      "variable([[1.99393193]]) variable([5.49502308]) variable(0.0804089960103292)\n",
      "variable([[1.9939316]]) variable([5.49502381]) variable(0.08040899600136905)\n",
      "variable([[1.99393132]]) variable([5.4950244]) variable(0.08040899599551464)\n",
      "variable([[1.9939311]]) variable([5.49502487]) variable(0.08040899599168853)\n",
      "variable([[1.99393091]]) variable([5.49502526]) variable(0.08040899598918738)\n",
      "variable([[1.99393076]]) variable([5.49502556]) variable(0.080408995987552)\n",
      "variable([[1.99393064]]) variable([5.49502581]) variable(0.08040899598648245)\n",
      "variable([[1.99393053]]) variable([5.49502601]) variable(0.08040899598578291)\n",
      "variable([[1.99393045]]) variable([5.49502617]) variable(0.08040899598532518)\n",
      "variable([[1.99393038]]) variable([5.4950263]) variable(0.08040899598502564)\n",
      "variable([[1.99393032]]) variable([5.49502641]) variable(0.08040899598482962)\n",
      "variable([[1.99393028]]) variable([5.49502649]) variable(0.0804089959847013)\n",
      "variable([[1.99393024]]) variable([5.49502656]) variable(0.08040899598461732)\n",
      "variable([[1.99393021]]) variable([5.49502662]) variable(0.08040899598456232)\n",
      "variable([[1.99393018]]) variable([5.49502666]) variable(0.08040899598452628)\n",
      "variable([[1.99393016]]) variable([5.4950267]) variable(0.08040899598450268)\n",
      "variable([[1.99393015]]) variable([5.49502673]) variable(0.08040899598448722)\n",
      "variable([[1.99393013]]) variable([5.49502675]) variable(0.08040899598447711)\n",
      "variable([[1.99393012]]) variable([5.49502677]) variable(0.08040899598447043)\n",
      "variable([[1.99393011]]) variable([5.49502678]) variable(0.08040899598446614)\n",
      "variable([[1.99393011]]) variable([5.4950268]) variable(0.08040899598446323)\n",
      "variable([[1.9939301]]) variable([5.49502681]) variable(0.08040899598446143)\n",
      "variable([[1.99393009]]) variable([5.49502681]) variable(0.08040899598446016)\n",
      "variable([[1.99393009]]) variable([5.49502682]) variable(0.08040899598445937)\n",
      "variable([[1.99393009]]) variable([5.49502683]) variable(0.08040899598445886)\n",
      "variable([[1.99393008]]) variable([5.49502683]) variable(0.08040899598445848)\n",
      "variable([[1.99393008]]) variable([5.49502683]) variable(0.08040899598445829)\n",
      "variable([[1.99393008]]) variable([5.49502684]) variable(0.08040899598445814)\n",
      "variable([[1.99393008]]) variable([5.49502684]) variable(0.08040899598445804)\n",
      "variable([[1.99393008]]) variable([5.49502684]) variable(0.08040899598445796)\n",
      "variable([[1.99393008]]) variable([5.49502684]) variable(0.08040899598445791)\n",
      "variable([[1.99393008]]) variable([5.49502684]) variable(0.0804089959844579)\n",
      "variable([[1.99393008]]) variable([5.49502684]) variable(0.08040899598445787)\n",
      "variable([[1.99393007]]) variable([5.49502684]) variable(0.08040899598445787)\n",
      "variable([[1.99393007]]) variable([5.49502685]) variable(0.08040899598445785)\n",
      "variable([[1.99393007]]) variable([5.49502685]) variable(0.08040899598445787)\n",
      "variable([[1.99393007]]) variable([5.49502685]) variable(0.08040899598445787)\n"
     ]
    }
   ],
   "source": [
    "import numpy as np\n",
    "from dezero import Variable\n",
    "import dezero.functions as F\n",
    "\n",
    "# 토이 데이터셋\n",
    "np.random.seed(0) \n",
    "x = np.random.randn(100, 1)\n",
    "y = 5 + 2 * x + np.random.rand(100,1)\n",
    "x, y = Variable(x), Variable(y)\n",
    "\n",
    "W = Variable(np.zeros((1,1)))\n",
    "b = Variable(np.zeros(1))\n",
    "\n",
    "def predict(x):\n",
    "    y = F.matmul(x, W) + b\n",
    "    return y\n",
    "\n",
    "def mean_squared_error(x0, x1):\n",
    "    diff = x0 - x1\n",
    "    return F.sum(diff ** 2) / len(diff)\n",
    "\n",
    "lr = 0.1\n",
    "iters = 100\n",
    "\n",
    "for i in range(iters):\n",
    "    y_pred = predict(x)\n",
    "    loss = mean_squared_error(y, y_pred)\n",
    "    \n",
    "    W.cleargrad()\n",
    "    b.cleargrad()\n",
    "    loss.backward()\n",
    "    \n",
    "    W.data -= lr * W.grad.data\n",
    "    b.data -= lr * b.grad.data\n",
    "    print(W, b, loss)"
   ]
  },
  {
   "cell_type": "code",
   "execution_count": 6,
   "id": "602eb64c",
   "metadata": {},
   "outputs": [
    {
     "data": {
      "text/plain": [
       "[<matplotlib.lines.Line2D at 0x7f9330d0b400>]"
      ]
     },
     "execution_count": 6,
     "metadata": {},
     "output_type": "execute_result"
    },
    {
     "data": {
      "image/png": "[encoded data removed]",
      "text/plain": [
       "<Figure size 432x288 with 1 Axes>"
      ]
     },
     "metadata": {
      "needs_background": "light"
     },
     "output_type": "display_data"
    }
   ],
   "source": [
    "x = np.random.randn(100, 1)\n",
    "y = 5 + 2 * x + np.random.rand(100,1)\n",
    "y_n = x * W.data + b.data\n",
    "\n",
    "plt.scatter(x,y)\n",
    "plt.plot(x,y_n,color='red')"
   ]
  },
  {
   "cell_type": "markdown",
   "id": "7b0320e5",
   "metadata": {},
   "source": [
    "위에서 사용한 predict 함수는 matmul 함수를 사용하여 행렬 곱을 계산하므로 여러 데이터를 모아서 한 번에 계산할 수 있음  \n",
    "\\* x.shape[1]과 W.shape[0]이 일치해야 행렬 곱이 제대로 계산됨"
   ]
  },
  {
   "cell_type": "markdown",
   "id": "96ec0985",
   "metadata": {},
   "source": [
    "# [보충] DeZero의 mean_squared_error 함수  "
   ]
  },
  {
   "cell_type": "markdown",
   "id": "6113d2ae",
   "metadata": {},
   "source": [
    "<img src='./img/4/mse.png' width=700>"
   ]
  },
  {
   "cell_type": "markdown",
   "id": "4ff7f0ad",
   "metadata": {},
   "source": [
    "위에서 구현한 평균 제곱 오차를 구하는 함수에서는 위 계산 그래프에서 중간에 나오는 이름 없는 변수 세 개가 계산 그래프가 존재하는 동안 메모리에 계속 살아있음  \n",
    "메모리를 덜 사용할 수 있도록 forward 메서드의 범위를 벗어나는 순간 메모리에 삭제되도록 수정하여 dezero/functions.py에 추가"
   ]
  },
  {
   "cell_type": "markdown",
   "id": "ff848f57",
   "metadata": {},
   "source": [
    "~~~python\n",
    "class MeanSquaredError(Function):\n",
    "    def forward(self, x0, x1):\n",
    "        diff = x0, x1\n",
    "        y = (diff ** 2).sum() / len(diff)\n",
    "        return y\n",
    "    \n",
    "    def backward(self, gy):\n",
    "        x0, x1 = self.inputs\n",
    "        diff = x0 - x1\n",
    "        gx0 = gy * diff * (2. / len(diff))\n",
    "        gx1 = -gx0\n",
    "        return gx0, gx1\n",
    "    \n",
    "def mean_squared_error(x0, x1):\n",
    "    return MeanSquaredError()(x0, x1)\n",
    "~~~"
   ]
  },
  {
   "cell_type": "markdown",
   "id": "f172228b",
   "metadata": {},
   "source": [
    "# 43단계 신경망"
   ]
  },
  {
   "cell_type": "markdown",
   "id": "9233cbdc",
   "metadata": {},
   "source": [
    "42단계에서 선형 회귀로 수행한 계산은 (손실 함수를 제외하면) 입력 x와 매개변수 W 사이에서 행렬 곱을 구하고, b를 더해줬음  \n",
    "이 변환을 선형 변환(linear transformation) 혹은 아핀 변환(affine transformation)이라고 함  \n",
    "(정확히는 선형 변환은 b는 포함되지 않으나 신경망 분야에서는 b 더하는 계산까지 포함하는 연산을 선형 변환이라고 부르는 것이 일반적)  \n",
    "선형 변환은 신경망에서는 완전연결계층(fully connected layer)에 해당하며,  \n",
    "매개변수 W는 가중치(Weight), 매개변수 b는 편향(bias)이라고 함  \n",
    "  \n",
    "위 계산을 수행하는 linear 함수 구현하는 방법은 두 가지가 있음  \n",
    "  \n",
    "__첫 번째 방법. linear_simple 함수__  \n",
    "  \n",
    "<img src='./img/4/linearregression_1.png' width=500>  \n",
    "  \n",
    "변수 t의 데이터는 역전파 시 필요하지 않음  \n",
    "따라서 $y=t+b$ 계산 후 t.data=None으로 설정하여 t의 데이터를 메모리에서 삭제"
   ]
  },
  {
   "cell_type": "markdown",
   "id": "1ffef03f",
   "metadata": {},
   "source": [
    "~~~python\n",
    "def linear_simple(x, W, b=None):\n",
    "    t = matmul(x, W)\n",
    "    if b is None:\n",
    "        return t\n",
    "    \n",
    "    y = t + b\n",
    "    t.data = None # t의 데이터 삭제\n",
    "    return y\n",
    "~~~"
   ]
  },
  {
   "cell_type": "markdown",
   "id": "7eccaa65",
   "metadata": {},
   "source": [
    "__두 번째 방법. linear_simple 함수__  \n",
    "  \n",
    "<img src='./img/4/linearregression_2.png' width=300>  \n",
    "  \n",
    "Function 클래스를 상속하여 Linear 클래스를 구현  \n",
    "중간 결과가 Variable 인스턴스로 보존되지 않기 때문에 순전파 시 사용하던 중간 데이터는 순전파가 끝나는 즉시 삭제됨   "
   ]
  },
  {
   "cell_type": "markdown",
   "id": "1ed3c950",
   "metadata": {},
   "source": [
    "~~~python\n",
    "class Linear(Function):\n",
    "    def forward(self, x, W, b):\n",
    "        y = x.dot(W)\n",
    "        if b is not None:\n",
    "            y += b\n",
    "        return y\n",
    "\n",
    "    def backward(self, gy):\n",
    "        x, W, b = self.inputs\n",
    "        gb = None if b.data is None else sum_to(gy, b.shape)\n",
    "        gx = matmul(gy, W.T)\n",
    "        gW = matmul(x.T, gy)\n",
    "        return gx, gW, gb\n",
    "\n",
    "\n",
    "def linear(x, W, b=None):\n",
    "    return Linear()(x, W, b)\n",
    "~~~"
   ]
  },
  {
   "cell_type": "markdown",
   "id": "73b03852",
   "metadata": {},
   "source": [
    "비선형 데이터셋"
   ]
  },
  {
   "cell_type": "code",
   "execution_count": 2,
   "id": "4f38dc5c",
   "metadata": {},
   "outputs": [
    {
     "data": {
      "text/plain": [
       "<matplotlib.collections.PathCollection at 0x7fca094f12b0>"
      ]
     },
     "execution_count": 2,
     "metadata": {},
     "output_type": "execute_result"
    },
    {
     "data": {
      "image/png": "[encoded data removed]",
      "text/plain": [
       "<Figure size 432x288 with 1 Axes>"
      ]
     },
     "metadata": {
      "needs_background": "light"
     },
     "output_type": "display_data"
    }
   ],
   "source": [
    "import numpy as np\n",
    "import matplotlib.pyplot as plt\n",
    "\n",
    "np.random.seed(0)\n",
    "x = np.random.rand(100, 1)\n",
    "y = np.sin(2 * np.pi * x) + np.random.rand(100,1) # 데이터 생성에 sin 함수 이용\n",
    "plt.scatter(x, y)"
   ]
  },
  {
   "cell_type": "markdown",
   "id": "7430a25e",
   "metadata": {},
   "source": [
    "비선형 데이터셋은 선형 회귀로는 풀 수 없음  \n",
    "신경망에선 선형 변환의 출력에 비선형 변환을 텐서에 각 원소에 적용  \n",
    "비선형 변환을 활성화 함수(activation function)이라고 하며, 대표적으로 ReLU 함수, 시그모이드 함수 등이 있음  \n",
    "  \n",
    "이번 예시에서 활성화 함수로 시그모이드 함수를 사용!  \n",
    "시그모이드 함수의 식은 다음과 같음  \n",
    "$y = \\frac{1}{1+exp(-x)}$"
   ]
  },
  {
   "cell_type": "markdown",
   "id": "9c23a874",
   "metadata": {},
   "source": [
    "~~~python\n",
    "def sigmoid_simple(x):\n",
    "    x = as_variable(x)\n",
    "    y = 1 / (1 + exp(-x))\n",
    "    return y\n",
    "~~~"
   ]
  },
  {
   "cell_type": "markdown",
   "id": "c95329f2",
   "metadata": {},
   "source": [
    "Function 클래스를 상속한 Sigmoid 클래스 구현은 다음과 같음  \n",
    "(이 방법으로 하면 클래스를 하나의 단위로 하여 기울기 계산 효율을 높일 수 있음)"
   ]
  },
  {
   "cell_type": "markdown",
   "id": "923d75cd",
   "metadata": {},
   "source": [
    "~~~python\n",
    "class Sigmoid(Function):\n",
    "    def forward(self, x):\n",
    "        y = 1 / (1 + np.exp(-x))\n",
    "        return y\n",
    "\n",
    "    def backward(self, gy):\n",
    "        y = self.outputs[0]()\n",
    "        gx = gy * y * (1 - y)\n",
    "        return gx\n",
    "\n",
    "\n",
    "def sigmoid(x):\n",
    "    return Sigmoid()(x)\n",
    "~~~"
   ]
  },
  {
   "cell_type": "markdown",
   "id": "a363fecd",
   "metadata": {},
   "source": [
    "__신경망 구현__  \n",
    "  \n",
    "일반적인 신경망은 '선형 변환$\\rightarrow$활성화 함수$\\rightarrow$선형 변환$\\rightarrow$활성화 함수$\\rightarrow$선형 변환$\\rightarrow$...' 형태로 '선형 변환'과 '활성화 함수'를 순서대로 적용하여 연속적으로 변환을 수행함. 이것이 신경망 추론(predict) 코드  \n",
    "  \n",
    "신경망 학습에서는 추론을 처리한 후 손실 함수를 추가하고,  \n",
    "손실 함수의 출력을 최소화하는 매개변수를 찾음  \n"
   ]
  },
  {
   "cell_type": "code",
   "execution_count": 3,
   "id": "e98048fc",
   "metadata": {
    "scrolled": false
   },
   "outputs": [
    {
     "name": "stdout",
     "output_type": "stream",
     "text": [
      "variable(0.8473695850105871)\n",
      "variable(0.2514286285183606)\n",
      "variable(0.2475948546674987)\n",
      "variable(0.23786120447054812)\n",
      "variable(0.21222231333102923)\n",
      "variable(0.1674218111783417)\n",
      "variable(0.09681932619992654)\n",
      "variable(0.07849528290602327)\n",
      "variable(0.07749729552991153)\n",
      "variable(0.07722132399559316)\n"
     ]
    },
    {
     "data": {
      "image/png": "[encoded data removed]",
      "text/plain": [
       "<Figure size 432x288 with 1 Axes>"
      ]
     },
     "metadata": {
      "needs_background": "light"
     },
     "output_type": "display_data"
    }
   ],
   "source": [
    "### 신경망 학습\n",
    "\n",
    "import numpy as np\n",
    "from dezero import Variable\n",
    "import dezero.functions as F\n",
    "\n",
    "# 데이터셋\n",
    "np.random.seed(0)\n",
    "x = np.random.rand(100, 1)\n",
    "y = np.sin(2 * np.pi * x) + np.random.rand(100, 1)\n",
    "\n",
    "# 1. 가중치 초기화\n",
    "I, H, O = 1, 10, 1\n",
    "W1 = Variable(0.01 * np.random.randn(I, H))\n",
    "b1 = Variable(np.zeros(H))\n",
    "W2 = Variable(0.01 * np.random.randn(H, O))\n",
    "b2 = Variable(np.zeros(O))\n",
    "\n",
    "# 2. 신경망 추론\n",
    "def predict(x):\n",
    "    y = F.linear(x, W1, b1)\n",
    "    y = F.sigmoid(y)\n",
    "    y = F.linear(y, W2, b2)\n",
    "    return y\n",
    "\n",
    "lr = 0.2\n",
    "iters = 10000\n",
    "\n",
    "# 3. 신경망 학습\n",
    "for i in range(iters):\n",
    "    y_pred = predict(x)\n",
    "    loss = F.mean_squared_error(y, y_pred)\n",
    "\n",
    "    W1.cleargrad()\n",
    "    b1.cleargrad()\n",
    "    W2.cleargrad()\n",
    "    b2.cleargrad()\n",
    "    loss.backward()\n",
    "\n",
    "    W1.data -= lr * W1.grad.data\n",
    "    b1.data -= lr * b1.grad.data\n",
    "    W2.data -= lr * W2.grad.data\n",
    "    b2.data -= lr * b2.grad.data\n",
    "    if i % 1000 == 0:\n",
    "        print(loss)\n",
    "        \n",
    "# Plot\n",
    "plt.scatter(x, y, s=10)\n",
    "plt.xlabel('x')\n",
    "plt.ylabel('y')\n",
    "t = np.arange(0, 1, .01)[:, np.newaxis]\n",
    "y_pred = predict(t)\n",
    "plt.plot(t, y_pred.data, color='r')\n",
    "plt.show()"
   ]
  },
  {
   "cell_type": "markdown",
   "id": "fcedb270",
   "metadata": {},
   "source": [
    "# 44단계 매개변수를 모아두는 계층"
   ]
  },
  {
   "cell_type": "markdown",
   "id": "cfade55d",
   "metadata": {},
   "source": [
    "매개변수란 경사하강법 등의 최적화 기법에 의해 갱신되는 변수로, '가중치', '편향'이 해당됨  \n",
    "  \n",
    "매개변수를 담는 구조를 만들어 매개변수 관리를 자동화하기 위해 Parameter와 Layer라는 클래스를 구현  \n",
    "  \n",
    "__Pamameter 클래스 구현__  \n",
    "  \n",
    "~~~python\n",
    "class Parameter(Variable):\n",
    "    pass\n",
    "~~~\n",
    "  \n",
    "Parameter 클래스를 dezero/core.py에 추가하고  \n",
    "dezero/\\_\\_init__.py에 from dezero import Parameter 추가  \n",
    "  "
   ]
  },
  {
   "cell_type": "code",
   "execution_count": 1,
   "id": "166c9f01",
   "metadata": {},
   "outputs": [
    {
     "name": "stdout",
     "output_type": "stream",
     "text": [
      "True\n",
      "False\n",
      "False\n"
     ]
    }
   ],
   "source": [
    "import numpy as np\n",
    "from dezero import Variable, Parameter\n",
    "\n",
    "x = Variable(np.array(1.0))\n",
    "p = Parameter(np.array(2.0))\n",
    "y = x * p\n",
    "\n",
    "print(isinstance(p, Parameter))\n",
    "print(isinstance(x, Parameter))\n",
    "print(isinstance(y, Parameter))"
   ]
  },
  {
   "cell_type": "markdown",
   "id": "c4e5744f",
   "metadata": {},
   "source": [
    "__Layer 클래스 구현__  \n",
    "  \n",
    "Function 클래스와 마찬가지로 변수를 변환하는 클래스이나,  \n",
    "매개변수를 유지하고 매개변수를 사용하여 변환을 함  \n",
    "Layer 클래스를 기반 클래스로 두고 구체적인 변환은 자식 클래스에서 구현  \n",
    "dezero/layers.py 에 저장\n",
    "  \n",
    "~~~python\n",
    "from dezero.core import Parameter\n",
    "\n",
    "class Layer:\n",
    "    def __init__(self):\n",
    "        self._params = set()\n",
    "        \n",
    "    def __setattr__(self, name, value):\n",
    "        if isinstance(value, Parameter):\n",
    "            self._params.add(name)\n",
    "        super().__setattr__(name, value)\n",
    "~~~  \n",
    "  \n",
    "\\_params 인스턴스 변수는 매개변수를 보관함, 타입이 집합(set)으로 원소들에 순서가 없고, ID가 같은 객체를 중복 저장할 수 없음  \n",
    " "
   ]
  },
  {
   "cell_type": "code",
   "execution_count": 5,
   "id": "31f633de",
   "metadata": {},
   "outputs": [
    {
     "name": "stdout",
     "output_type": "stream",
     "text": [
      "{'p1', 'p2'}\n",
      "-----------------\n",
      "p1 variable(1)\n",
      "p2 variable(2)\n"
     ]
    }
   ],
   "source": [
    "from dezero.layers import Layer\n",
    "from dezero import Variable\n",
    "from dezero import Parameter\n",
    "import numpy as np\n",
    "\n",
    "layer = Layer()\n",
    "\n",
    "layer.p1 = Parameter(np.array(1))\n",
    "layer.p2 = Parameter(np.array(2))\n",
    "layer.p3 = Variable(np.array(3))\n",
    "layer.p4 = 'test'\n",
    "\n",
    "print(layer._params)\n",
    "print('-----------------')\n",
    "\n",
    "for name in layer._params:\n",
    "    print(name, layer.__dict__[name])"
   ]
  },
  {
   "cell_type": "markdown",
   "id": "ef6be92f",
   "metadata": {},
   "source": [
    "Parameter 인스턴스를 보유하고 있는 인스턴스 변수 이름만 layer.\\_params에 추가되며, 인스턴스 변수 \\_\\_dict__에는 모든 모든 인스턴스 변수가 딕셔너리 타입으로 저장됨  \n",
    "  \n",
    "Layer 클래스에 다음 4개의 메서드 추가  \n",
    "  \n",
    "~~~python\n",
    "import weakref\n",
    "\n",
    "class Layer:\n",
    "    ...\n",
    "    \n",
    "    def __call__(self, *inputs):\n",
    "        outputs = self.forward(*inputs)\n",
    "        if not isinstance(outputs, tuple):\n",
    "            outputs = (outputs,)\n",
    "        self.inputs = [weakref.ref(x) for x in inputs]\n",
    "        self.outputs = [weakref.ref(y) for y in outputs]\n",
    "        return outputs if len(outputs) > 1 else outputs[0]\n",
    "    \n",
    "    def forward(self, inputs): # 자식 클래스에서 구현\n",
    "        raise NotImplementedError()\n",
    "        \n",
    "    def params(self):\n",
    "        for name in self._params:\n",
    "            yield self.__dict__[name]\n",
    "            \n",
    "    def cleargrads(self): # 기울기 재설정\n",
    "        for param in self.params():\n",
    "            param.cleargrad()\n",
    "~~~  \n",
    "  \n",
    "< 참고 >  \n",
    "  \n",
    "return은 처리를 종료하고 값을 반환하는 반면 yield는 처리를 일시 중지하고 값을 반환하므로 작업을 재개할 수 있음  \n",
    "따라서, yield를 for문과 함께 사용하여 매개변수를 순차적으로 꺼낼 수 있음"
   ]
  },
  {
   "cell_type": "markdown",
   "id": "c4c489bc",
   "metadata": {},
   "source": [
    "__Linear 클래스 구현__  \n",
    "  \n",
    "~~~python\n",
    "import numpy as np\n",
    "import dezero functions as F\n",
    "from dezero.core import Parameter\n",
    "\n",
    "class Linear(Layer):\n",
    "    def __init__(self, in_size, out_size, nobias=False, dtype=np.float32):\n",
    "        super().__init__()\n",
    "        \n",
    "        I, O = in_size, out_size\n",
    "        W_data = np.random.randn(I, O).astype(dtype) * np.sqrt(1 / I)\n",
    "        self.W = Parameter(W_data, name ='W')\n",
    "        if nobias:\n",
    "            self.b = None\n",
    "        else:\n",
    "            self.b = Parameter(np.zeros(0, dtype=dtype), name='b')\n",
    "    \n",
    "    def forward(self, x):\n",
    "        y = F.linear(x, self.W, self.b)\n",
    "        return y\n",
    "~~~"
   ]
  },
  {
   "cell_type": "markdown",
   "id": "2c008d42",
   "metadata": {},
   "source": [
    "가중치를 초기화 메서드가 아닌 forward 메서드에서 생성함으로써 Linear 클래스의 입력 크기를 사용자가 지정하지 않고 자동으로 결정되도록 수정"
   ]
  },
  {
   "cell_type": "markdown",
   "id": "b51b0887",
   "metadata": {},
   "source": [
    "~~~python\n",
    "import numpy as np\n",
    "import dezero.functions as F\n",
    "from dezero.core import Parameter\n",
    "\n",
    "class Linear(Layer):\n",
    "    def __init__(self, out_size, nobias=False, dtype=np.float32, in_size=None):\n",
    "        super().__init__()        \n",
    "        self.in_size = in_size\n",
    "        self.out_size = out_size\n",
    "        self.dtype = dtype\n",
    "        \n",
    "        self.W = Parameter(None, name='W')\n",
    "        if self.in_size is not None: # in_size가 지정되어 있지 않다면 나중으로 연기\n",
    "            self._init_W()\n",
    "            \n",
    "        if nobias:\n",
    "            self.b = None\n",
    "        else:\n",
    "            self.b = Parameter(np.zeros(out_size, dtype=dtype), name='b')\n",
    "            \n",
    "    def _init_W(self):\n",
    "        I, O = self.in_size, self.out_size\n",
    "        W_data = np.random.randn(I, O).astype(self.dtype) * np.sqrt(1 / I)\n",
    "        self.W.data = W_data\n",
    "        \n",
    "    def forward(self, x):\n",
    "        # 데이터를 흘려보내는 시점에 가중치 초기화\n",
    "        if self.W.data is None:\n",
    "            self.in_size = x.shape[1]\n",
    "            self._init_W()\n",
    "            \n",
    "        y = F.linear(x, self.W, self.b)\n",
    "        return y\n",
    "~~~"
   ]
  },
  {
   "cell_type": "markdown",
   "id": "222f8cf3",
   "metadata": {},
   "source": [
    "Layer를 이용한 신경망 구현"
   ]
  },
  {
   "cell_type": "code",
   "execution_count": 1,
   "id": "740bf849",
   "metadata": {},
   "outputs": [
    {
     "name": "stdout",
     "output_type": "stream",
     "text": [
      "variable(0.8165178492839196)\n",
      "variable(0.24990280802148895)\n",
      "variable(0.24609876581126014)\n",
      "variable(0.2372159081431807)\n",
      "variable(0.20793216413350168)\n",
      "variable(0.1231190572064935)\n",
      "variable(0.07888166506355149)\n",
      "variable(0.07655073683421632)\n",
      "variable(0.07637803086238223)\n",
      "variable(0.0761876413118557)\n"
     ]
    }
   ],
   "source": [
    "import numpy as np\n",
    "from dezero import Variable\n",
    "import dezero.functions as F\n",
    "import dezero.layers as L # L로 임포트\n",
    "\n",
    "# 데이터셋\n",
    "np.random.seed(0)\n",
    "x = np.random.rand(100, 1)\n",
    "y = np.sin(2 * np.pi * x) + np.random.rand(100, 1)\n",
    "\n",
    "l1 = L.Linear(10) # 출력 크기 지정\n",
    "l2 = L.Linear(1)\n",
    "\n",
    "def predict(x):\n",
    "    y = l1(x)\n",
    "    y = F.sigmoid(y)\n",
    "    y = l2(y)\n",
    "    return y\n",
    "\n",
    "lr = 0.2\n",
    "iters = 10000\n",
    "\n",
    "for i in range(iters):\n",
    "    y_pred = predict(x)\n",
    "    loss = F.mean_squared_error(y, y_pred)\n",
    "    \n",
    "    l1.cleargrads()\n",
    "    l2.cleargrads()\n",
    "    loss.backward()\n",
    "    \n",
    "    for l in [l1, l2]:\n",
    "        for p in l.params():\n",
    "            p.data -= lr * p.grad.data\n",
    "            \n",
    "    if i % 1000 == 0:\n",
    "        print(loss)"
   ]
  },
  {
   "cell_type": "markdown",
   "id": "f46e674a",
   "metadata": {},
   "source": [
    "다음 단계에서는 여러 Layer를 개별적으로 다루지 않고 하나의 클래스로 묶어서 관리하도록 개선!"
   ]
  },
  {
   "cell_type": "markdown",
   "id": "377eef09",
   "metadata": {},
   "source": [
    "# 45단계 계층을 모아두는 계층"
   ]
  },
  {
   "cell_type": "markdown",
   "id": "e74488ab",
   "metadata": {},
   "source": [
    "__Layer 클래스에 다른 Layer도 담을 수 있도록 확장__  \n",
    "- Layer 인스턴스의 이름도 \\_params에 추가\n",
    "- params 메서드, \\_params에서 name을 꺼내 그 name에 해당하는 객체를 obj로 꺼내며,  \n",
    "    obj가 Layer라면 Layer에서 매개변수를 재귀적으로 꺼냄\n",
    "  \n",
    "< 참고 >  \n",
    "  \n",
    "yield를 사용한 함수를 제너레이터(generator)라고 하며, 제너레이터를 사요하여 또 다른 제너레이터를 만들 때는 yield from을 사용함  \n",
    "  \n",
    "~~~python\n",
    "class Layer:\n",
    "    def __init__(self):\n",
    "        self._params = set()\n",
    "        \n",
    "    def __setattr__(self, name, value):\n",
    "        if isinstance(value, (Parameter, Layer)): # 1. Layer도 추가\n",
    "            self._params.add(name)\n",
    "        super().__setattr__(name, value)\n",
    "        \n",
    "    def params(self):\n",
    "        for name in self._params:\n",
    "            obj = self.__dict__[name]\n",
    "            \n",
    "            if isinstance(obj, Layer): # 2. Layer에서 매개변수 꺼내기\n",
    "                yield from obj.params()\n",
    "            else:\n",
    "                yield obj\n",
    "~~~  \n",
    "  \n"
   ]
  },
  {
   "cell_type": "markdown",
   "id": "a564ce6a",
   "metadata": {},
   "source": [
    "__새로운 Layer 클래스를 사용하여 신경망 구현__  \n",
    "  \n",
    "model = Layer()에서 인스턴스를 생성하여 model의 인스턴스 변수로 Linear 인스턴스를 추가  \n",
    "따라서 model.params()로 model 내에 존재하는 모든 매개변수에 접근하거나  \n",
    "model.cleargrads()로 모든 매개변수의 기울기를 재설정하는 식으로  \n",
    "신경망에서 사용하는 매개변수를 한꺼번에 관리할 수 있음"
   ]
  },
  {
   "cell_type": "code",
   "execution_count": 2,
   "id": "350b7ba6",
   "metadata": {},
   "outputs": [
    {
     "name": "stdout",
     "output_type": "stream",
     "text": [
      "variable([0. 0. 0. 0. 0.])\n",
      "variable(None)\n",
      "variable([0. 0. 0.])\n",
      "variable(None)\n"
     ]
    }
   ],
   "source": [
    "import dezero.layers as L\n",
    "import dezero.functions as F\n",
    "from dezero import Layer\n",
    "\n",
    "model = Layer()\n",
    "model.l1 = L.Linear(5) # 출력 크기만 지정\n",
    "model.l2 = L.Linear(3)\n",
    "\n",
    "# 추론을 수행하는 함수\n",
    "def predict(model, x):\n",
    "    y = model.l1(x)\n",
    "    y = F.sigmoid(y)\n",
    "    y = model.l2(y)\n",
    "    return y\n",
    "\n",
    "# 모든 매개변수에 접근\n",
    "for p in model.params():\n",
    "    print(p)\n",
    "    \n",
    "# 모든 매개변수의 기울기를 재설정\n",
    "model.cleargrads()"
   ]
  },
  {
   "cell_type": "markdown",
   "id": "a0bb6f48",
   "metadata": {},
   "source": [
    "__Layer 클래스를 상속하여 모델 전체를 하나의 '클래스'로 정의하는 더 편리한 방식으로 구현__  \n",
    "  \n",
    "모델을 클래스 단위로 정의한 객체지향식 모델 정의 방법은 체이너가 최초로 제안했고, 그 후 파이토치와 텐서플로 등 많은 다른 프레임워크에서 보편적으로 사용하는 방식으로 굳어졌음!\n",
    "  \n",
    "~~~python\n",
    "class TwoLayerNet(Layer):\n",
    "    def __init__(self, hidden_size, out_size):\n",
    "        super().__init__()\n",
    "        self.l1 = L.Linear(hidden_size)\n",
    "        self.l2 = L.Linear(out_size)\n",
    "        \n",
    "    def forward(self, x):\n",
    "        y = F.sigmoid(self.l1(x))\n",
    "        y = self.l2(y)\n",
    "        return y\n",
    "~~~"
   ]
  },
  {
   "cell_type": "markdown",
   "id": "52cbd83d",
   "metadata": {},
   "source": [
    "__Model 클래스 구현__  \n",
    "  \n",
    "모델 : 복잡한 패턴이나 규칙이 숨어있는 현상을 수식을 사용하여 단순하게 표현한 것  \n",
    "  \n",
    "~~~python\n",
    "from dezero import Layer\n",
    "from dezero import utils\n",
    "\n",
    "class Model(Layer):\n",
    "    def plot(self, *inputs, to_file='model.png'):\n",
    "             y = self.forward(*inputs)\n",
    "             return utils.plot_dot_graph(y, verbose=True, to_file=to_file)\n",
    "~~~\n",
    "\n",
    "dezero/models.py 추가 및 dezero/\\_\\_init__.py에 from dezero.models import Model 추가"
   ]
  },
  {
   "cell_type": "code",
   "execution_count": 1,
   "id": "1635daae",
   "metadata": {},
   "outputs": [
    {
     "data": {
      "image/png": "[encoded data removed]",
      "text/plain": [
       "<IPython.core.display.Image object>"
      ]
     },
     "execution_count": 1,
     "metadata": {},
     "output_type": "execute_result"
    }
   ],
   "source": [
    "import numpy as np\n",
    "from dezero import Variable, Model\n",
    "import dezero.layers as L\n",
    "import dezero.functions as F\n",
    "\n",
    "class TwoLayerNet(Model):\n",
    "    def __init__(self, hidden_size, out_size):\n",
    "        super().__init__()\n",
    "        self.l1 = L.Linear(hidden_size)\n",
    "        self.l2 = L.Linear(out_size)\n",
    "        \n",
    "    def forward(self, x):\n",
    "        y = F.sigmoid(self.l1(x))\n",
    "        y = self.l2(y)\n",
    "        return y\n",
    "    \n",
    "x = Variable(np.random.randn(5, 10), name='x')\n",
    "model = TwoLayerNet(100, 10)\n",
    "model.plot(x) # 계산 그래프"
   ]
  },
  {
   "cell_type": "markdown",
   "id": "e8616417",
   "metadata": {},
   "source": [
    "__Model 클래스를 이용하여 sin 함수 데이터셋 회귀문제 풀기__  "
   ]
  },
  {
   "cell_type": "code",
   "execution_count": 4,
   "id": "c841e58f",
   "metadata": {},
   "outputs": [
    {
     "name": "stdout",
     "output_type": "stream",
     "text": [
      "variable(0.8165178492839196)\n",
      "variable(0.24990280802148895)\n",
      "variable(0.24609876581126014)\n",
      "variable(0.2372159081431807)\n",
      "variable(0.20793216413350168)\n",
      "variable(0.1231190572064935)\n",
      "variable(0.07888166506355149)\n",
      "variable(0.07655073683421632)\n",
      "variable(0.07637803086238223)\n",
      "variable(0.0761876413118557)\n"
     ]
    }
   ],
   "source": [
    "import numpy as np\n",
    "from dezero import Variable, Model\n",
    "import dezero.layers as L\n",
    "import dezero.functions as F\n",
    "\n",
    "# 데이터셋 생성\n",
    "np.random.seed(0)\n",
    "x = np.random.rand(100, 1)\n",
    "y = np.sin(2 * np.pi * x) + np.random.rand(100, 1)\n",
    "\n",
    "# 하이퍼파라미터 설정\n",
    "lr = 0.2\n",
    "max_iter = 10000\n",
    "hidden_size = 10\n",
    "\n",
    "# 모델 정의\n",
    "class TwoLayerNet(Model):\n",
    "    def __init__(self, hidden_size, out_size):\n",
    "        super().__init__()\n",
    "        self.l1 = L.Linear(hidden_size)\n",
    "        self.l2 = L.Linear(out_size)\n",
    "        \n",
    "    def forward(self, x):\n",
    "        y = F.sigmoid(self.l1(x))\n",
    "        y = self.l2(y)\n",
    "        return y\n",
    "    \n",
    "model = TwoLayerNet(hidden_size, 1)\n",
    "\n",
    "# 학습 시작\n",
    "for i in range(max_iter):\n",
    "    y_pred = model(x)\n",
    "    loss = F.mean_squared_error(y, y_pred)\n",
    "    \n",
    "    model.cleargrads()\n",
    "    loss.backward()\n",
    "    \n",
    "    for p in model.params():\n",
    "        p.data -= lr * p.grad.data\n",
    "    if i % 1000 == 0 :\n",
    "        print(loss)"
   ]
  },
  {
   "cell_type": "markdown",
   "id": "db82c392",
   "metadata": {},
   "source": [
    "MLP(Multi-Layer Perceptron, '다층 퍼셉트론') 클래스 구현  \n",
    "  \n",
    "앞에서는 2층 신경망을 구현했으나,  \n",
    "이번에는 더 범용적인 다층 완전연결계층 신경망 구현  \n",
    "\\* MLP는 완전연결계층 신경망의 별칭으로 흔히 쓰임  \n",
    "  \n",
    "dezero/models.py 에 추가"
   ]
  },
  {
   "cell_type": "markdown",
   "id": "783777a2",
   "metadata": {},
   "source": [
    "~~~python\n",
    "import dezero.functions as F\n",
    "import dezero.layers as L\n",
    "\n",
    "class MLP(Model):\n",
    "    def __init__(self, fc_output_sizes, activation=F.sigmoid): # fc_output_sizes의 fc는 fully connection(완전연결)의 약자\n",
    "        super().__init__()\n",
    "        self.activation = activation\n",
    "        self.layers = []\n",
    "        \n",
    "        for i, out_size in enumerate(fc_output_sizes):\n",
    "            layer = L.Linear(out_size)\n",
    "            setattr(self, 'l' + str(i), layer)\n",
    "            self.layers.append(layer)\n",
    "            \n",
    "    def forward(self, x):\n",
    "        for l in self.layers[:-1]:\n",
    "            x = self.activation(l(x))\n",
    "        return self.layers[-1](x)\n",
    "~~~"
   ]
  },
  {
   "cell_type": "code",
   "execution_count": 1,
   "id": "c35b9efc",
   "metadata": {},
   "outputs": [],
   "source": [
    "from dezero.models import MLP\n",
    "\n",
    "\n",
    "model = MLP((10, 1)) # 2층\n",
    "model = MLP((10, 20, 30, 40, 1)) # 5층"
   ]
  },
  {
   "cell_type": "markdown",
   "id": "12df396d",
   "metadata": {},
   "source": [
    "# 46단계 Optimizer로 수행하는 매개변수 갱신"
   ]
  },
  {
   "cell_type": "markdown",
   "id": "b61dff02",
   "metadata": {},
   "source": [
    "__Optimizer 클래스 구현__  \n",
    "  \n",
    "매개변수 갱신 작업을 모듈화하고 쉽게 다른 모듈로 대체할 수 있는 구조를 만들기 위해  \n",
    "매개변수 갱신을 위한 기반 클래스인 Optimizer 클래스 구현  \n",
    "구체적인 최적화 기법은 Optimizer 클래스를 상속한 자식 클래스에서 구현  \n",
    "  \n",
    "- setup 메서드 : 매개변수를 갖는 클래스(Model 또는 Layer)를 인스턴스 변수인 target으로 설정  \n",
    "  \n",
    "- update_one 메서드 : 구체적인 매개변수 갱신 수행, 이 메서드는 Optimizer의 자식 클래스에서 재정의해야 함  \n",
    "  \n",
    "- add_hook 메서드 : 가중치 감소, 기울기 클리핑 등의 전처리를 수행할 수 있게 하는 함수  \n",
    "  \n",
    "dezero/optimizers.py 추가"
   ]
  },
  {
   "cell_type": "markdown",
   "id": "139e34fa",
   "metadata": {},
   "source": [
    "~~~python\n",
    "class Optimizer:\n",
    "    def __init__(self):\n",
    "        self.target = None\n",
    "        self.hooks = []\n",
    "        \n",
    "    def setup(self, target):\n",
    "        self.target = target\n",
    "        return self\n",
    "    \n",
    "    def update(self):\n",
    "        # None 이외의 매개변수를 리스트에 모아둠\n",
    "        params = [p for p in self.target.params() if p.grad is not None]\n",
    "        \n",
    "        # 전처리(옵션)\n",
    "        for f in self.hooks:\n",
    "            f(params)\n",
    "            \n",
    "        # 매개변수 갱신\n",
    "        for param in params:\n",
    "            self.update_one(param)\n",
    "            \n",
    "    def update_one(self, param):\n",
    "        raise NotImplementedError()\n",
    "        \n",
    "    def add_hook(self, f):\n",
    "        self.hooks.append(f)\n",
    "~~~"
   ]
  },
  {
   "cell_type": "markdown",
   "id": "a35633ab",
   "metadata": {},
   "source": [
    "__SGD(Stochastic Gradient Descent, 확률적경사하강법) 클래스 구현__  \n",
    "  \n",
    "경사하강법으로 매개변수 갱신하는 클래스 구현  \n",
    "  \n",
    "dezero/optimizers.py에 추가  \n",
    "  \n",
    "~~~python\n",
    "class SGD(Optimizer):\n",
    "    def __init__(self, lr=0.01):\n",
    "        super().__init__()\n",
    "        self.lr = lr\n",
    "        \n",
    "    def update_one(self, param):\n",
    "        param.data -= self.lr * param.grad.data\n",
    "~~~"
   ]
  },
  {
   "cell_type": "markdown",
   "id": "df12f72b",
   "metadata": {},
   "source": [
    "SGD 클래스를 사용한 sin 함수 데이터셋 회귀문제 풀기"
   ]
  },
  {
   "cell_type": "code",
   "execution_count": 1,
   "id": "35e26517",
   "metadata": {},
   "outputs": [
    {
     "name": "stdout",
     "output_type": "stream",
     "text": [
      "variable(0.8165178492839196)\n",
      "variable(0.24990280802148895)\n",
      "variable(0.24609876581126014)\n",
      "variable(0.2372159081431807)\n",
      "variable(0.20793216413350168)\n",
      "variable(0.1231190572064935)\n",
      "variable(0.07888166506355149)\n",
      "variable(0.07655073683421632)\n",
      "variable(0.07637803086238223)\n",
      "variable(0.0761876413118557)\n"
     ]
    }
   ],
   "source": [
    "import numpy as np\n",
    "from dezero import Variable\n",
    "from dezero import optimizers\n",
    "import dezero.functions as F\n",
    "from dezero.models import MLP\n",
    "\n",
    "np.random.seed(0)\n",
    "x = np.random.rand(100, 1)\n",
    "y = np.sin(2 * np.pi * x) + np.random.rand(100, 1)\n",
    "\n",
    "lr = 0.2\n",
    "max_iter = 10000\n",
    "hidden_size = 10\n",
    "\n",
    "model = MLP((hidden_size, 1))\n",
    "optimizer = optimizers.SGD(lr)\n",
    "optimizer.setup(model)\n",
    "\n",
    "# 또는 다음처럼 한 줄로 합칠 수 있음\n",
    "# optimizer = optimizers.SGD(lr).setup(model)\n",
    "\n",
    "for i in range(max_iter):\n",
    "    y_pred = model(x)\n",
    "    loss = F.mean_squared_error(y, y_pred)\n",
    "    \n",
    "    model.cleargrads()\n",
    "    loss.backward()\n",
    "    \n",
    "    optimizer.update() # 매개변수 갱신\n",
    "    if i % 1000 == 0:\n",
    "        print(loss)"
   ]
  },
  {
   "cell_type": "markdown",
   "id": "ef4a1af7",
   "metadata": {},
   "source": [
    "__최적화 기법 Momentum 클래스 구현__  \n",
    "  \n",
    "Momentum 수식  \n",
    "  \n",
    "$v \\leftarrow \\alpha v-\\eta\\frac{\\partial{L}}{\\partial{W}}$  \n",
    "  \n",
    "$W \\leftarrow W + v$  \n",
    "  \n",
    "- W : 갱신할 가중치 매개변수\n",
    "- $\\frac{\\partial{L}}{\\partial{W}}$ : W에 관한 손실함수 L의 기울기\n",
    "- $\\eta$ : 학습률\n",
    "- v : 속도  \n",
    "  \n",
    "위 식은 물체가 기울기 방향으로 힘을 받아 가속된다는 물리 법칙을 나타내며,  \n",
    "이 식에 의해 속도만큼 위치(매개변수)가 이동함  \n",
    "$\\alpha v$항은 물체가 아무런 힘을 받지 않을 때 서서히 감속시키는 역할을 하며, $\\alpha$의 값은 0.9 등으로 설정함  "
   ]
  },
  {
   "cell_type": "markdown",
   "id": "9651cda9",
   "metadata": {},
   "source": [
    "~~~python\n",
    "import numpy as np\n",
    "\n",
    "class MomentumSGD(Optimizers):\n",
    "    def __init__(self, lr=0.01, momentum=0.9):\n",
    "        super().__init__()\n",
    "        self.lr = lr\n",
    "        self.momentum = momentum\n",
    "        self.vs = {} # 속도\n",
    "        \n",
    "    def update_one(self, param):\n",
    "        v_key = id(param)\n",
    "        if v_key not in self.vs:\n",
    "            self.vs[v_key] = np.zeros_like(param.data)\n",
    "            \n",
    "        v = self.vs[v_key]\n",
    "        v *= self.momentum\n",
    "        v -= self.lr *param.grad.data\n",
    "        param.data += v\n",
    "~~~"
   ]
  },
  {
   "cell_type": "markdown",
   "id": "a5ec94ee",
   "metadata": {},
   "source": [
    "__AdaGrad 클래스 구현__"
   ]
  },
  {
   "cell_type": "markdown",
   "id": "8aacb2df",
   "metadata": {},
   "source": [
    "(밑바닥부터 시작하는 딥러닝 6장 참고)  \n",
    "신경망 학습에서는 학습률($\\eta$) 값이 너무 작으면 학습 시간이 너무 길어지고, 반대로 너무 크면 발산하여 학습이 제대로 이뤄지지 않음  \n",
    "  \n",
    "학습률 감소(learning rate decay) : 학습을 진행하면서 학습률을 점차 줄여가는 방법,  \n",
    "처음에는 크게 학습하다가 조금씩 작게 학습  \n",
    "  \n",
    "AdaGrad는 개별 매개변수에 적응적으로 학습률을 조정하면서 학습을 진행함  \n",
    "  \n",
    "$h \\leftarrow h+\\frac{\\partial{L}}{\\partial{W}}\t\\odot \\frac{\\partial{L}}{\\partial{W}}$  \n",
    "\n",
    "$W \\leftarrow W-\\eta\\frac{1}{\\sqrt{h}}\\frac{\\partial{L}}{\\partial{W}}$  \n",
    "  \n",
    "- W : 갱신할 가중치 매개변수  \n",
    "- $\\frac{\\partial{L}}{\\partial{W}}$ : W에 대한 손실 함수의 기울기\n",
    "- $\\eta$ : 학습률\n",
    "- h : 기존 기울기 값을 제곱하여 계속 더해줌($\\odot$기호는 행렬의 원소별 곱셈을 의미),  \n",
    "    그리고 매개변수를 갱신할 때 $\\frac{1}{\\sqrt{h}}$을 곱해 학습률을 조정함  \n",
    "    매개변수의 원소 중에서 많이 움직인(크게 갱신된) 원소는 학습률이 낮아진다는 뜻  \n",
    "    다시 말해 학습률 감소가 매개변수의 원소마다 다르게 적용됨을 뜻함"
   ]
  },
  {
   "cell_type": "markdown",
   "id": "8d763a02",
   "metadata": {},
   "source": [
    "~~~python\n",
    "class AdaGrad(Optimizer):\n",
    "    def __init__(self, lr=0.001, eps=1e-8):\n",
    "        super().__init__()\n",
    "        self.lr = lr\n",
    "        self.eps = eps\n",
    "        self.hs = {}\n",
    "\n",
    "    def update_one(self, param):\n",
    "        h_key = id(param)\n",
    "        if h_key not in self.hs:\n",
    "            self.hs[h_key] = np.zeros_like(param.data)\n",
    "            \n",
    "        lr = self.lr\n",
    "        eps = self.eps\n",
    "        grad = param.grad.data\n",
    "        h = self.hs[h_key]\n",
    "\n",
    "        h += grad * grad\n",
    "        param.data -= lr * grad / (np.sqrt(h) + eps)\n",
    "~~~"
   ]
  },
  {
   "cell_type": "markdown",
   "id": "61d76256",
   "metadata": {},
   "source": [
    "__AdaDelta 클래스 구현__"
   ]
  },
  {
   "cell_type": "markdown",
   "id": "912d63a7",
   "metadata": {},
   "source": [
    "AdaGrad의 gradient vanishing 문제를 보완하기 위해 제안된 옵티마이저로,  \n",
    "스텝 크기를 학습률이 아닌 스텝 크기의 변화 값의 제곱하여 지수 평균값을 계산함  "
   ]
  },
  {
   "cell_type": "markdown",
   "id": "79c03e49",
   "metadata": {},
   "source": [
    "~~~python\n",
    "class AdaDelta(Optimizer):\n",
    "    def __init__(self, rho=0.95, eps=1e-6):\n",
    "        super().__init__()\n",
    "        self.rho = rho\n",
    "        self.eps = eps\n",
    "        self.msg = {}\n",
    "        self.msdx = {}\n",
    "\n",
    "    def update_one(self, param):\n",
    "        key = id(param)\n",
    "        if key not in self.msg:\n",
    "            self.msg[key] = np.zeros_like(param.data)\n",
    "            self.msdx[key] = np.zeros_like(param.data)\n",
    "\n",
    "        msg, msdx = self.msg[key], self.msdx[key]\n",
    "        rho = self.rho\n",
    "        eps = self.eps\n",
    "        grad = param.grad.data\n",
    "\n",
    "        msg *= rho\n",
    "        msg += (1 - rho) * grad * grad\n",
    "        dx = np.sqrt((msdx + eps) / (msg + eps)) * grad\n",
    "        msdx *= rho\n",
    "        msdx += (1 - rho) * dx * dx\n",
    "        param.data -= dx\n",
    "~~~"
   ]
  },
  {
   "cell_type": "markdown",
   "id": "a05bf54a",
   "metadata": {},
   "source": [
    "__Adam 클래스 구현__"
   ]
  },
  {
   "cell_type": "markdown",
   "id": "4e3b4d28",
   "metadata": {},
   "source": [
    "(밑바닥부터 시작하는 딥러닝 6장 참고)  \n",
    "모멘텀은 공이 그릇 바닥을 구르는 듯한 움직임을 보임\n",
    "AdaGrad는 매개변수의 원소마다 적응적으로 갱신 정도를 조정했음\n",
    "이 두 기법을 융합한 듯한 방법이 Adam\n",
    "또, 하이퍼파라미터의 '편향 보정'이 진행된다는 특징도 있음\n",
    "\n"
   ]
  },
  {
   "cell_type": "markdown",
   "id": "e683285a",
   "metadata": {},
   "source": [
    "~~~python\n",
    "class Adam(Optimizer):\n",
    "    def __init__(self, alpha=0.001, beta1=0.9, beta2=0.999, eps=1e-8):\n",
    "        super().__init__()\n",
    "        self.t = 0\n",
    "        self.alpha = alpha\n",
    "        self.beta1 = beta1\n",
    "        self.beta2 = beta2\n",
    "        self.eps = eps\n",
    "        self.ms = {}\n",
    "        self.vs = {}\n",
    "\n",
    "    def update(self, *args, **kwargs):\n",
    "        self.t += 1\n",
    "        super().update(*args, **kwargs)\n",
    "\n",
    "    @property\n",
    "    def lr(self):\n",
    "        fix1 = 1. - math.pow(self.beta1, self.t)\n",
    "        fix2 = 1. - math.pow(self.beta2, self.t)\n",
    "        return self.alpha * math.sqrt(fix2) / fix1\n",
    "\n",
    "    def update_one(self, param):\n",
    "\n",
    "        key = id(param)\n",
    "        if key not in self.ms:\n",
    "            self.ms[key] = np.zeros_like(param.data)\n",
    "            self.vs[key] = np.zeros_like(param.data)\n",
    "\n",
    "        m, v = self.ms[key], self.vs[key]\n",
    "        beta1, beta2, eps = self.beta1, self.beta2, self.eps\n",
    "        grad = param.grad.data\n",
    "\n",
    "        m += (1 - beta1) * (grad - m)\n",
    "        v += (1 - beta2) * (grad * grad - v)\n",
    "        param.data -= self.lr * m / (np.sqrt(v) + eps)\n",
    "~~~"
   ]
  },
  {
   "cell_type": "markdown",
   "id": "e7ffebf2",
   "metadata": {},
   "source": [
    "# 47단계 소프트맥스 함수와 교차 엔트로피 오차"
   ]
  },
  {
   "cell_type": "markdown",
   "id": "44e0f7c5",
   "metadata": {},
   "source": [
    "지금까지 다룬 회귀 문제가 아닌 다중 클래스 분류(multi-class classification) 문제를 다루기 위한 사전 준비  \n",
    "  \n",
    "__get_item 함수__  \n",
    "  \n",
    "구현은 부록 B 참고(dezero/functions.py 에 추가함)  \n",
    "  \n",
    "get_item 함수는 Variable의 다차원 배열 중 일부를 슬라이스하여 뽑아줌  \n",
    "역전파는 원래의 다차원 배열에서 데이터가 추출된 위치에 해당 기울기를 설정하고, 그 외에는 0으로 설정함  \n",
    "  \n",
    "\\* 다차원 배열의 일부를 추출하는 작업을 '슬라이스'라고 함\n",
    "  \n",
    "<img src='./img/4/getitem.png' width=500>"
   ]
  },
  {
   "cell_type": "code",
   "execution_count": 1,
   "id": "36788958",
   "metadata": {},
   "outputs": [
    {
     "name": "stdout",
     "output_type": "stream",
     "text": [
      "variable([4 5 6])\n"
     ]
    }
   ],
   "source": [
    "import numpy as np\n",
    "from dezero import Variable\n",
    "import dezero.functions as F\n",
    "\n",
    "x = Variable(np.array([[1,2,3],[4,5,6]]))\n",
    "y = F.get_item(x, 1)\n",
    "print(y)"
   ]
  },
  {
   "cell_type": "code",
   "execution_count": 2,
   "id": "ac46203e",
   "metadata": {},
   "outputs": [
    {
     "name": "stdout",
     "output_type": "stream",
     "text": [
      "variable([[0. 0. 0.]\n",
      "          [1. 1. 1.]])\n"
     ]
    }
   ],
   "source": [
    "y.backward() # 역전파\n",
    "print(x.grad)"
   ]
  },
  {
   "cell_type": "markdown",
   "id": "61c9b298",
   "metadata": {},
   "source": [
    "인덱스를 반복 지정하여 동일한 원소를 여러 번 빼낼 수 있음 "
   ]
  },
  {
   "cell_type": "code",
   "execution_count": 3,
   "id": "7479b078",
   "metadata": {},
   "outputs": [
    {
     "name": "stdout",
     "output_type": "stream",
     "text": [
      "variable([[1 2 3]\n",
      "          [1 2 3]\n",
      "          [4 5 6]])\n"
     ]
    }
   ],
   "source": [
    "x = Variable(np.array([[1,2,3],[4,5,6]]))\n",
    "indices = np.array([0,0,1])\n",
    "y = F.get_item(x, indices)\n",
    "print(y)"
   ]
  },
  {
   "cell_type": "markdown",
   "id": "f62d0aae",
   "metadata": {},
   "source": [
    "get_item 함수를 Variable의 메서드로도 사용할 수 있도록 특수 메서드로 설정"
   ]
  },
  {
   "cell_type": "code",
   "execution_count": 5,
   "id": "87e95574",
   "metadata": {},
   "outputs": [
    {
     "name": "stdout",
     "output_type": "stream",
     "text": [
      "variable([4 5 6])\n",
      "variable([3 6])\n"
     ]
    }
   ],
   "source": [
    "Variable.__getitem__ = F.get_item # Variabledml aptjemfh tjfwjd\n",
    "\n",
    "y = x[1]\n",
    "print(y)\n",
    "\n",
    "y = x[:,2]\n",
    "print(y)"
   ]
  },
  {
   "cell_type": "markdown",
   "id": "a6d9946e",
   "metadata": {},
   "source": [
    "__소프트맥스 함수__"
   ]
  },
  {
   "cell_type": "markdown",
   "id": "72aeb9df",
   "metadata": {},
   "source": [
    "이미 구현한 신경망을 그대로 다중 클래스 분류에서도 사용할 수 있음  \n",
    "  \n",
    "ex) 입력 데이터 차원 수 2, 3개의 클래스로 분류하는 문제"
   ]
  },
  {
   "cell_type": "code",
   "execution_count": 1,
   "id": "7b990390",
   "metadata": {},
   "outputs": [],
   "source": [
    "from dezero.models import MLP\n",
    "import numpy as np\n",
    "\n",
    "model = MLP((10,3)) # 2층으로 이루어진 완전연결계층"
   ]
  },
  {
   "cell_type": "code",
   "execution_count": 2,
   "id": "ad1dfede",
   "metadata": {},
   "outputs": [
    {
     "name": "stdout",
     "output_type": "stream",
     "text": [
      "variable([[-0.26106594 -0.59399635  0.34780657]])\n"
     ]
    }
   ],
   "source": [
    "x = np.array([[0.2, -.04]])\n",
    "y = model(x)\n",
    "print(y)"
   ]
  },
  {
   "cell_type": "markdown",
   "id": "0740d520",
   "metadata": {},
   "source": [
    "출력된 3차원 벡터의 원소 각각이 하나의 클래스에 해당하며,  \n",
    "출력된 벡터에서 값이 가장 큰 원소의 인덱스가 이 모델이 분류한(예측한) 클래스가 됨  \n"
   ]
  },
  {
   "cell_type": "markdown",
   "id": "edc0280c",
   "metadata": {},
   "source": [
    "여러 개의 입력 데이터를 한번에 처리할 수 있음 \n",
    "  \n",
    "ex) 입력 데이터 4개 한번에 처리"
   ]
  },
  {
   "cell_type": "code",
   "execution_count": 3,
   "id": "2fc26d65",
   "metadata": {},
   "outputs": [
    {
     "name": "stdout",
     "output_type": "stream",
     "text": [
      "variable([[-0.22418196 -0.6658777   0.38897529]\n",
      "          [-0.33190307 -0.44997993  0.27934484]\n",
      "          [-0.01702671 -0.66961947  0.5498054 ]\n",
      "          [-0.62322019 -0.09944109  0.23457456]])\n"
     ]
    }
   ],
   "source": [
    "x = np.array([[0.2, -0.4],[0.3, 0.5],[1.3,-3.2],[2.1,0.3]])\n",
    "y = model(x)\n",
    "print(y)"
   ]
  },
  {
   "cell_type": "markdown",
   "id": "146421eb",
   "metadata": {},
   "source": [
    "y의 형상은 (4,3)이 되며, i번째 입력 데이터는 x[i]가 되고, 그에 대응하는 출력은 y[i]가 됨"
   ]
  },
  {
   "cell_type": "markdown",
   "id": "8bc679ab",
   "metadata": {},
   "source": [
    "신경망의 출력은 단순히 수치이지만,  \n",
    "소프트맥스 함수를 통해 확률로 변환할 수 있음  \n",
    "소프트맥스 함수의 수식은 다음과 같음  \n",
    "  \n",
    "$p_k = \\frac{exp(y_k)}{\\sum_{i=1}^n exp(y_1}$  \n",
    "  \n",
    "여기서, $y_k$는 입력, n은 클래스 수이며, k번째 출력 $p_k$를 구함  \n",
    "  \n",
    "소프트맥스 함수는 $0\\leq p_i\\leq 1$이고, $p_1+p_2+\\cdots+p_n=1$이 성립하여  \n",
    "$(p_1, p_2, \\cdots, p_n)$의 원소 각각을 확률로 해석할 수 있음  \n",
    "  \n",
    "샘플 데이터가 하나인 경우에 한정한 소프트맥스 함수의 구현은 다음과 같음"
   ]
  },
  {
   "cell_type": "code",
   "execution_count": 4,
   "id": "23da49ab",
   "metadata": {},
   "outputs": [],
   "source": [
    "from dezero import Variable, as_variable\n",
    "import dezero.functions as F\n",
    "\n",
    "def softmax1d(x):\n",
    "    x = as_variable(x)\n",
    "    y = F.exp(x)\n",
    "    sum_y = F.sum(y)\n",
    "    return y / sum_y"
   ]
  },
  {
   "cell_type": "code",
   "execution_count": 5,
   "id": "af491f67",
   "metadata": {},
   "outputs": [
    {
     "name": "stdout",
     "output_type": "stream",
     "text": [
      "variable([[-0.22418196 -0.6658777   0.38897529]])\n",
      "variable([[0.28659893 0.18426742 0.52913365]])\n"
     ]
    }
   ],
   "source": [
    "x = Variable(np.array([[0.2, -0.4]]))\n",
    "y = model(x)\n",
    "p = softmax1d(y)\n",
    "print(y)\n",
    "print(p)"
   ]
  },
  {
   "cell_type": "markdown",
   "id": "3a0a4727",
   "metadata": {},
   "source": [
    "소프트맥스 함수의 계산은 지수 함수로 이뤄져 결과값이 너무 커지거나 작아지기 쉬우므로 오버플로 문제에 잘 대처해야 함.  \n",
    "밑바닥부터 시작하는 딥러닝 3장 소프트맥스 함수 구현시 주의점 참고!"
   ]
  },
  {
   "cell_type": "markdown",
   "id": "c318b04b",
   "metadata": {},
   "source": [
    "__배치 데이터도 처리할 수 있는 소프트맥스 함수 구현__"
   ]
  },
  {
   "cell_type": "markdown",
   "id": "5025db49",
   "metadata": {},
   "source": [
    "~~~python\n",
    "def softmax_simple(x, axis=1):\n",
    "    x = as_variable(x)\n",
    "    y = exp(x)\n",
    "    sum_y = sum(y, axis=axis, keepdims=True)\n",
    "    return y / sum_y\n",
    "~~~"
   ]
  },
  {
   "cell_type": "markdown",
   "id": "84c2234f",
   "metadata": {},
   "source": [
    "__Function 클래스를 상속하여 Softmax 클래스로 구현하고 파이썬 함수 softmax 구현__"
   ]
  },
  {
   "cell_type": "markdown",
   "id": "a03efe18",
   "metadata": {},
   "source": [
    "~~~python\n",
    "class Softmax(Function):\n",
    "    def __init__(self, axis=1):\n",
    "        self.axis = axis\n",
    "\n",
    "    def forward(self, x):\n",
    "        y = x - x.max(axis=self.axis, keepdims=True) # 오버플로 대책\n",
    "        y = np.exp(y)\n",
    "        y /= y.sum(axis=self.axis, keepdims=True)\n",
    "        return y\n",
    "\n",
    "    def backward(self, gy):\n",
    "        y = self.outputs[0]()\n",
    "        gx = y * gy\n",
    "        sumdx = gx.sum(axis=self.axis, keepdims=True)\n",
    "        gx -= y * sumdx\n",
    "        return gx\n",
    "\n",
    "\n",
    "def softmax(x, axis=1):\n",
    "    return Softmax(axis)(x)\n",
    "~~~"
   ]
  },
  {
   "cell_type": "markdown",
   "id": "029c79fc",
   "metadata": {},
   "source": [
    "__교차 엔트로피 오차__"
   ]
  },
  {
   "cell_type": "markdown",
   "id": "75f4f4b4",
   "metadata": {},
   "source": [
    "선형 회귀에서는 손실 함수로 평균 제곱 오차를 이용하나,  \n",
    "다중 클래스 분류에서는 교차 엔트로피 오차(cross entropy error)를 사용함  \n",
    "  \n",
    "$L = -\\sum_{k}t_klogp_k$  \n",
    "  \n",
    "- $t_k$ : k 차원째 정답 데이터의 값. 원핫 벡터(one hot vector)로 표현되어 있음(해당되면 1, 아니면 0)  \n",
    "  \n",
    "- $p_k$ : 신경망에서 소프트맥스 함수를 적용한 후의 출력  \n",
    "  \n",
    "이는 정답 클래스에 해당하는 번호가 t로 주어지면 해당하는 번호의 확률 p를 추출함으로써 다음과 같이 계산할 수 있음  \n",
    "  \n",
    "$L = -logp[t]$  \n",
    "  \n",
    "- p[t] : 벡터 p에서 t번째 요소만을 추출한다는 뜻  \n",
    "\n",
    "  \n"
   ]
  },
  {
   "cell_type": "markdown",
   "id": "19258cf6",
   "metadata": {},
   "source": [
    "교차 엔트로피 오차의 구현은 다음과 같음  \n",
    "  \n",
    "- x : 신경망에서 소프트맥스 함수를 적용하기 전의 출력\n",
    "- t : 정답 레이블(원핫 벡터가 아닌 정답 클래스 번호(레이블))\n",
    "\n",
    "log_p[np.arange(N), t.data]코드는 log_p[0, t.data[0]], log_p[1, t.data[1]], ...와 정답 데이터(t.data)에 대응하는 모델의 출력을 구하고, 그 값을 1차원 배열에 담아줌"
   ]
  },
  {
   "cell_type": "markdown",
   "id": "5542534b",
   "metadata": {},
   "source": [
    "~~~python\n",
    "def softmax_cross_entropy_simple(x, t):\n",
    "    x, t = as_variable(x), as_variable(t)\n",
    "    N = x.shape[0]\n",
    "    \n",
    "    p = softmax(x)\n",
    "    p = clip(p, 1e-15, 1.0) # log(0)을 방지하기 위해 p의 값을 1e-15 이상으로 설정\n",
    "    log_p = log(p)\n",
    "    tlog_p = log_p[np.arange(N), t.data]\n",
    "    y = -1 * sum(tlog_p) / N\n",
    "    return y\n",
    "\n",
    "\n",
    "\n",
    "class Max(Function):\n",
    "    def __init__(self, axis=None, keepdims=False):\n",
    "        self.axis = axis\n",
    "        self.keepdims = keepdims\n",
    "\n",
    "    def forward(self, x):\n",
    "        y = x.max(axis=self.axis, keepdims=self.keepdims)\n",
    "        return y\n",
    "\n",
    "    def backward(self, gy):\n",
    "        x = self.inputs[0]\n",
    "        y = self.outputs[0]()  # weakref\n",
    "\n",
    "        shape = utils.max_backward_shape(x, self.axis)\n",
    "        gy = reshape(gy, shape)\n",
    "        y = reshape(y, shape)\n",
    "        cond = (x.data == y.data)\n",
    "        gy = broadcast_to(gy, cond.shape)\n",
    "        return gy * cond\n",
    "\n",
    "\n",
    "class Min(Max):\n",
    "    def forward(self, x):\n",
    "        y = x.min(axis=self.axis, keepdims=self.keepdims)\n",
    "        return y\n",
    "\n",
    "\n",
    "def max(x, axis=None, keepdims=False):\n",
    "    return Max(axis, keepdims)(x)\n",
    "\n",
    "\n",
    "def min(x, axis=None, keepdims=False):\n",
    "    return Min(axis, keepdims)(x)\n",
    "\n",
    "\n",
    "class Clip(Function):\n",
    "    def __init__(self, x_min, x_max):\n",
    "        self.x_min = x_min\n",
    "        self.x_max = x_max\n",
    "\n",
    "    def forward(self, x):\n",
    "        y = np.clip(x, self.x_min, self.x_max)\n",
    "        return y\n",
    "\n",
    "    def backward(self, gy):\n",
    "        x, = self.inputs\n",
    "        mask = (x.data >= self.x_min) * (x.data <= self.x_max)\n",
    "        gx = gy * mask\n",
    "        return gx\n",
    "\n",
    "\n",
    "def clip(x, x_min, x_max):\n",
    "    return Clip(x_min, x_max)(x)\n",
    "~~~"
   ]
  },
  {
   "cell_type": "markdown",
   "id": "195436b6",
   "metadata": {},
   "source": [
    "clip 함수는 x의 원소가 x_min 이하이면 x_min으로 변환, x_max 이상이면 x_max로 변환해줌"
   ]
  },
  {
   "cell_type": "code",
   "execution_count": 1,
   "id": "72614802",
   "metadata": {},
   "outputs": [
    {
     "name": "stdout",
     "output_type": "stream",
     "text": [
      "variable(1.059585216699765)\n"
     ]
    }
   ],
   "source": [
    "import numpy as np\n",
    "from dezero import Variable\n",
    "import dezero.functions as F\n",
    "from dezero.models import MLP\n",
    "\n",
    "model = MLP((10,3)) \n",
    "x = np.array([[0.2, -0.4],[0.3, 0.5],[1.3,-3.2],[2.1,0.3]])\n",
    "t = np.array([2,0,1,0]) # 정답 레이블\n",
    "y = model(x)\n",
    "loss = F.softmax_cross_entropy_simple(y, t)\n",
    "print(loss)"
   ]
  },
  {
   "cell_type": "markdown",
   "id": "3a03a94e",
   "metadata": {},
   "source": [
    "__Function 클래스를 상속하여 SoftmaxCrossEntropy 클래스로 구현__"
   ]
  },
  {
   "cell_type": "markdown",
   "id": "aab5657f",
   "metadata": {},
   "source": [
    "~~~python\n",
    "class SoftmaxCrossEntropy(Function):\n",
    "    def forward(self, x, t):\n",
    "        N = x.shape[0]\n",
    "        log_z = utils.logsumexp(x, axis=1)\n",
    "        log_p = x - log_z\n",
    "        log_p = log_p[np.arange(N), t.ravel()]\n",
    "        y = -log_p.sum() / np.float32(N)\n",
    "        return y\n",
    "\n",
    "    def backward(self, gy):\n",
    "        x, t = self.inputs\n",
    "        N, CLS_NUM = x.shape\n",
    "\n",
    "        gy *= 1/N\n",
    "        y = softmax(x)\n",
    "        # convert to one-hot\n",
    "        t_onehot = np.eye(CLS_NUM, dtype=t.dtype)[t.data]\n",
    "        y = (y - t_onehot) * gy\n",
    "        return y\n",
    "\n",
    "\n",
    "def softmax_cross_entropy(x, t):\n",
    "    return SoftmaxCrossEntropy()(x, t)\n",
    "~~~"
   ]
  },
  {
   "cell_type": "markdown",
   "id": "8e16c6f1",
   "metadata": {},
   "source": [
    "# 48단계 다중 클래스 분류"
   ]
  },
  {
   "cell_type": "markdown",
   "id": "6902e933",
   "metadata": {},
   "source": [
    "__스파이럴 데이터셋__  \n",
    "  \n",
    "dezero/datasets.py에 들어있는 스파이럴 데이터셋 확인"
   ]
  },
  {
   "cell_type": "code",
   "execution_count": 1,
   "id": "9d2b7b73",
   "metadata": {},
   "outputs": [
    {
     "name": "stdout",
     "output_type": "stream",
     "text": [
      "(300, 2)\n",
      "(300,)\n",
      "[-0.12995958 -0.00324155] 1\n",
      "[ 0.3282343  -0.54941994] 0\n"
     ]
    }
   ],
   "source": [
    "import dezero\n",
    "\n",
    "x, t = dezero.datasets.get_spiral(train=True)\n",
    "print(x.shape)\n",
    "print(t.shape)\n",
    "\n",
    "print(x[10], t[10])\n",
    "print(x[110], t[110])"
   ]
  },
  {
   "cell_type": "markdown",
   "id": "adb72633",
   "metadata": {},
   "source": [
    "3 클래스 분류 문제이며, 스파이럴 데이터셋을 그래프로 표현하면 아래 그림과 같이 소용돌이 모양으로 분포함      \n",
    "\n",
    "<img src='./img/4/spiral_dataset.png' width=300>"
   ]
  },
  {
   "cell_type": "markdown",
   "id": "3e3e8490",
   "metadata": {},
   "source": [
    "__클래스 분류 학습 코드__  \n",
    "  \n",
    "데이터가 많을 때는 모든 데이터를 한꺼번에 처리하는 대신 조금씩 무작위로 모아서 처리함  \n",
    "이 때의 '데이터 뭉치'를 미니배치라고 함  "
   ]
  },
  {
   "cell_type": "code",
   "execution_count": 2,
   "id": "afcd8d11",
   "metadata": {},
   "outputs": [
    {
     "name": "stdout",
     "output_type": "stream",
     "text": [
      "epoch 1, loss 1.13\n",
      "epoch 2, loss 1.05\n",
      "epoch 3, loss 0.95\n",
      "epoch 4, loss 0.92\n",
      "epoch 5, loss 0.87\n",
      "epoch 6, loss 0.89\n",
      "epoch 7, loss 0.84\n",
      "epoch 8, loss 0.78\n",
      "epoch 9, loss 0.80\n",
      "epoch 10, loss 0.79\n",
      "epoch 11, loss 0.78\n",
      "epoch 12, loss 0.76\n",
      "epoch 13, loss 0.77\n",
      "epoch 14, loss 0.76\n",
      "epoch 15, loss 0.76\n",
      "epoch 16, loss 0.77\n",
      "epoch 17, loss 0.78\n",
      "epoch 18, loss 0.74\n",
      "epoch 19, loss 0.74\n",
      "epoch 20, loss 0.72\n",
      "epoch 21, loss 0.73\n",
      "epoch 22, loss 0.74\n",
      "epoch 23, loss 0.77\n",
      "epoch 24, loss 0.73\n",
      "epoch 25, loss 0.74\n",
      "epoch 26, loss 0.74\n",
      "epoch 27, loss 0.72\n",
      "epoch 28, loss 0.72\n",
      "epoch 29, loss 0.72\n",
      "epoch 30, loss 0.73\n",
      "epoch 31, loss 0.71\n",
      "epoch 32, loss 0.72\n",
      "epoch 33, loss 0.72\n",
      "epoch 34, loss 0.71\n",
      "epoch 35, loss 0.72\n",
      "epoch 36, loss 0.71\n",
      "epoch 37, loss 0.71\n",
      "epoch 38, loss 0.70\n",
      "epoch 39, loss 0.71\n",
      "epoch 40, loss 0.70\n",
      "epoch 41, loss 0.71\n",
      "epoch 42, loss 0.70\n",
      "epoch 43, loss 0.70\n",
      "epoch 44, loss 0.70\n",
      "epoch 45, loss 0.69\n",
      "epoch 46, loss 0.69\n",
      "epoch 47, loss 0.71\n",
      "epoch 48, loss 0.70\n",
      "epoch 49, loss 0.69\n",
      "epoch 50, loss 0.69\n",
      "epoch 51, loss 0.68\n",
      "epoch 52, loss 0.67\n",
      "epoch 53, loss 0.68\n",
      "epoch 54, loss 0.70\n",
      "epoch 55, loss 0.68\n",
      "epoch 56, loss 0.66\n",
      "epoch 57, loss 0.67\n",
      "epoch 58, loss 0.66\n",
      "epoch 59, loss 0.64\n",
      "epoch 60, loss 0.64\n",
      "epoch 61, loss 0.64\n",
      "epoch 62, loss 0.63\n",
      "epoch 63, loss 0.63\n",
      "epoch 64, loss 0.61\n",
      "epoch 65, loss 0.61\n",
      "epoch 66, loss 0.60\n",
      "epoch 67, loss 0.62\n",
      "epoch 68, loss 0.59\n",
      "epoch 69, loss 0.60\n",
      "epoch 70, loss 0.57\n",
      "epoch 71, loss 0.58\n",
      "epoch 72, loss 0.57\n",
      "epoch 73, loss 0.56\n",
      "epoch 74, loss 0.56\n",
      "epoch 75, loss 0.55\n",
      "epoch 76, loss 0.55\n",
      "epoch 77, loss 0.55\n",
      "epoch 78, loss 0.54\n",
      "epoch 79, loss 0.53\n",
      "epoch 80, loss 0.53\n",
      "epoch 81, loss 0.52\n",
      "epoch 82, loss 0.53\n",
      "epoch 83, loss 0.52\n",
      "epoch 84, loss 0.49\n",
      "epoch 85, loss 0.50\n",
      "epoch 86, loss 0.49\n",
      "epoch 87, loss 0.49\n",
      "epoch 88, loss 0.48\n",
      "epoch 89, loss 0.47\n",
      "epoch 90, loss 0.47\n",
      "epoch 91, loss 0.46\n",
      "epoch 92, loss 0.46\n",
      "epoch 93, loss 0.45\n",
      "epoch 94, loss 0.44\n",
      "epoch 95, loss 0.45\n",
      "epoch 96, loss 0.44\n",
      "epoch 97, loss 0.43\n",
      "epoch 98, loss 0.43\n",
      "epoch 99, loss 0.42\n",
      "epoch 100, loss 0.43\n",
      "epoch 101, loss 0.42\n",
      "epoch 102, loss 0.41\n",
      "epoch 103, loss 0.42\n",
      "epoch 104, loss 0.41\n",
      "epoch 105, loss 0.40\n",
      "epoch 106, loss 0.40\n",
      "epoch 107, loss 0.40\n",
      "epoch 108, loss 0.39\n",
      "epoch 109, loss 0.38\n",
      "epoch 110, loss 0.39\n",
      "epoch 111, loss 0.38\n",
      "epoch 112, loss 0.38\n",
      "epoch 113, loss 0.38\n",
      "epoch 114, loss 0.36\n",
      "epoch 115, loss 0.36\n",
      "epoch 116, loss 0.36\n",
      "epoch 117, loss 0.36\n",
      "epoch 118, loss 0.36\n",
      "epoch 119, loss 0.35\n",
      "epoch 120, loss 0.35\n",
      "epoch 121, loss 0.36\n",
      "epoch 122, loss 0.34\n",
      "epoch 123, loss 0.35\n",
      "epoch 124, loss 0.33\n",
      "epoch 125, loss 0.33\n",
      "epoch 126, loss 0.32\n",
      "epoch 127, loss 0.34\n",
      "epoch 128, loss 0.32\n",
      "epoch 129, loss 0.33\n",
      "epoch 130, loss 0.31\n",
      "epoch 131, loss 0.30\n",
      "epoch 132, loss 0.31\n",
      "epoch 133, loss 0.31\n",
      "epoch 134, loss 0.30\n",
      "epoch 135, loss 0.29\n",
      "epoch 136, loss 0.29\n",
      "epoch 137, loss 0.29\n",
      "epoch 138, loss 0.28\n",
      "epoch 139, loss 0.29\n",
      "epoch 140, loss 0.28\n",
      "epoch 141, loss 0.27\n",
      "epoch 142, loss 0.27\n",
      "epoch 143, loss 0.28\n",
      "epoch 144, loss 0.27\n",
      "epoch 145, loss 0.27\n",
      "epoch 146, loss 0.26\n",
      "epoch 147, loss 0.26\n",
      "epoch 148, loss 0.26\n",
      "epoch 149, loss 0.26\n",
      "epoch 150, loss 0.25\n",
      "epoch 151, loss 0.25\n",
      "epoch 152, loss 0.25\n",
      "epoch 153, loss 0.24\n",
      "epoch 154, loss 0.24\n",
      "epoch 155, loss 0.24\n",
      "epoch 156, loss 0.24\n",
      "epoch 157, loss 0.24\n",
      "epoch 158, loss 0.24\n",
      "epoch 159, loss 0.23\n",
      "epoch 160, loss 0.23\n",
      "epoch 161, loss 0.23\n",
      "epoch 162, loss 0.23\n",
      "epoch 163, loss 0.23\n",
      "epoch 164, loss 0.22\n",
      "epoch 165, loss 0.22\n",
      "epoch 166, loss 0.22\n",
      "epoch 167, loss 0.21\n",
      "epoch 168, loss 0.22\n",
      "epoch 169, loss 0.22\n",
      "epoch 170, loss 0.21\n",
      "epoch 171, loss 0.21\n",
      "epoch 172, loss 0.22\n",
      "epoch 173, loss 0.22\n",
      "epoch 174, loss 0.21\n",
      "epoch 175, loss 0.21\n",
      "epoch 176, loss 0.20\n",
      "epoch 177, loss 0.21\n",
      "epoch 178, loss 0.20\n",
      "epoch 179, loss 0.20\n",
      "epoch 180, loss 0.20\n",
      "epoch 181, loss 0.20\n",
      "epoch 182, loss 0.19\n",
      "epoch 183, loss 0.20\n",
      "epoch 184, loss 0.19\n",
      "epoch 185, loss 0.19\n",
      "epoch 186, loss 0.19\n",
      "epoch 187, loss 0.19\n",
      "epoch 188, loss 0.19\n",
      "epoch 189, loss 0.19\n",
      "epoch 190, loss 0.19\n",
      "epoch 191, loss 0.19\n",
      "epoch 192, loss 0.19\n",
      "epoch 193, loss 0.18\n",
      "epoch 194, loss 0.19\n",
      "epoch 195, loss 0.18\n",
      "epoch 196, loss 0.18\n",
      "epoch 197, loss 0.18\n",
      "epoch 198, loss 0.18\n",
      "epoch 199, loss 0.19\n",
      "epoch 200, loss 0.18\n",
      "epoch 201, loss 0.17\n",
      "epoch 202, loss 0.18\n",
      "epoch 203, loss 0.18\n",
      "epoch 204, loss 0.17\n",
      "epoch 205, loss 0.18\n",
      "epoch 206, loss 0.17\n",
      "epoch 207, loss 0.17\n",
      "epoch 208, loss 0.17\n",
      "epoch 209, loss 0.17\n",
      "epoch 210, loss 0.17\n",
      "epoch 211, loss 0.17\n",
      "epoch 212, loss 0.17\n",
      "epoch 213, loss 0.18\n",
      "epoch 214, loss 0.17\n",
      "epoch 215, loss 0.17\n",
      "epoch 216, loss 0.17\n",
      "epoch 217, loss 0.17\n",
      "epoch 218, loss 0.17\n",
      "epoch 219, loss 0.16\n",
      "epoch 220, loss 0.17\n",
      "epoch 221, loss 0.16\n",
      "epoch 222, loss 0.16\n",
      "epoch 223, loss 0.16\n",
      "epoch 224, loss 0.16\n",
      "epoch 225, loss 0.16\n",
      "epoch 226, loss 0.16\n",
      "epoch 227, loss 0.17\n",
      "epoch 228, loss 0.18\n",
      "epoch 229, loss 0.16\n",
      "epoch 230, loss 0.16\n",
      "epoch 231, loss 0.15\n",
      "epoch 232, loss 0.16\n",
      "epoch 233, loss 0.17\n",
      "epoch 234, loss 0.16\n",
      "epoch 235, loss 0.16\n",
      "epoch 236, loss 0.15\n",
      "epoch 237, loss 0.16\n",
      "epoch 238, loss 0.16\n",
      "epoch 239, loss 0.16\n",
      "epoch 240, loss 0.16\n",
      "epoch 241, loss 0.15\n",
      "epoch 242, loss 0.15\n",
      "epoch 243, loss 0.15\n",
      "epoch 244, loss 0.15\n",
      "epoch 245, loss 0.15\n",
      "epoch 246, loss 0.15\n",
      "epoch 247, loss 0.15\n",
      "epoch 248, loss 0.15\n",
      "epoch 249, loss 0.15\n",
      "epoch 250, loss 0.15\n",
      "epoch 251, loss 0.15\n",
      "epoch 252, loss 0.15\n",
      "epoch 253, loss 0.15\n",
      "epoch 254, loss 0.15\n",
      "epoch 255, loss 0.15\n",
      "epoch 256, loss 0.15\n",
      "epoch 257, loss 0.14\n",
      "epoch 258, loss 0.15\n",
      "epoch 259, loss 0.14\n",
      "epoch 260, loss 0.15\n",
      "epoch 261, loss 0.15\n",
      "epoch 262, loss 0.15\n",
      "epoch 263, loss 0.14\n",
      "epoch 264, loss 0.14\n",
      "epoch 265, loss 0.14\n",
      "epoch 266, loss 0.14\n",
      "epoch 267, loss 0.14\n",
      "epoch 268, loss 0.14\n",
      "epoch 269, loss 0.14\n",
      "epoch 270, loss 0.14\n",
      "epoch 271, loss 0.14\n",
      "epoch 272, loss 0.14\n",
      "epoch 273, loss 0.14\n",
      "epoch 274, loss 0.14\n",
      "epoch 275, loss 0.14\n",
      "epoch 276, loss 0.14\n",
      "epoch 277, loss 0.14\n",
      "epoch 278, loss 0.14\n",
      "epoch 279, loss 0.14\n",
      "epoch 280, loss 0.13\n",
      "epoch 281, loss 0.13\n",
      "epoch 282, loss 0.14\n",
      "epoch 283, loss 0.13\n",
      "epoch 284, loss 0.13\n",
      "epoch 285, loss 0.13\n",
      "epoch 286, loss 0.13\n",
      "epoch 287, loss 0.14\n",
      "epoch 288, loss 0.13\n",
      "epoch 289, loss 0.13\n",
      "epoch 290, loss 0.13\n",
      "epoch 291, loss 0.13\n",
      "epoch 292, loss 0.13\n",
      "epoch 293, loss 0.14\n",
      "epoch 294, loss 0.13\n",
      "epoch 295, loss 0.13\n",
      "epoch 296, loss 0.13\n",
      "epoch 297, loss 0.13\n",
      "epoch 298, loss 0.12\n",
      "epoch 299, loss 0.13\n",
      "epoch 300, loss 0.13\n"
     ]
    },
    {
     "data": {
      "image/png": "[encoded data removed]",
      "text/plain": [
       "<Figure size 432x288 with 1 Axes>"
      ]
     },
     "metadata": {
      "needs_background": "light"
     },
     "output_type": "display_data"
    }
   ],
   "source": [
    "import math\n",
    "import numpy as np\n",
    "import dezero\n",
    "from dezero import optimizers\n",
    "import dezero.functions as F\n",
    "from dezero.models import MLP\n",
    "import matplotlib.pyplot as plt\n",
    "\n",
    "# 1. 하이퍼파라미터 설정\n",
    "max_epoch = 300\n",
    "batch_size = 30\n",
    "hidden_size = 10\n",
    "lr = 1.0\n",
    "\n",
    "# 2. 데이터 읽기 / 모델, 옵티마이저 생성\n",
    "x, t = dezero.datasets.get_spiral(train=True)\n",
    "model = MLP((hidden_size, 3))\n",
    "optimizer = optimizers.SGD(lr).setup(model)\n",
    "\n",
    "data_size = len(x)\n",
    "max_iter = math.ceil(data_size / batch_size) # 소수점 반올림\n",
    "avg_loss_li = []\n",
    "\n",
    "for epoch in range(max_epoch):\n",
    "    # 3. 데이터셋의 인덱스 뒤섞기\n",
    "    index = np.random.permutation(data_size)\n",
    "    sum_loss = 0\n",
    "    \n",
    "    for i in range(max_iter):\n",
    "        # 4. 미니배치 생성\n",
    "        batch_index = index[i * batch_size:(i + 1) * batch_size]\n",
    "        batch_x = x[batch_index]\n",
    "        batch_t = t[batch_index]\n",
    "        \n",
    "        # 5. 기울기 산출 / 매개변수 갱신\n",
    "        y = model(batch_x)\n",
    "        loss = F.softmax_cross_entropy(y, batch_t)\n",
    "        model.cleargrads()\n",
    "        loss.backward()\n",
    "        optimizer.update()\n",
    "        sum_loss += float(loss.data) * len(batch_t)\n",
    "        \n",
    "    # 6. 에포크마다 학습 경과 출력\n",
    "    avg_loss = sum_loss / data_size\n",
    "    avg_loss_li.append(avg_loss)\n",
    "    print('epoch %d, loss %.2f' % (epoch + 1, avg_loss))\n",
    "    \n",
    "plt.plot(np.arange(max_epoch), avg_loss_li) # 에폭별 loss 시각화ㅁ\n",
    "plt.show()"
   ]
  },
  {
   "cell_type": "markdown",
   "id": "370c798f",
   "metadata": {},
   "source": [
    "# 49단계 Dataset 클래스와 전처리"
   ]
  },
  {
   "cell_type": "markdown",
   "id": "092f0d6c",
   "metadata": {},
   "source": [
    "데이터셋의 크기가 커졌을 때 데이터를 하나의 ndarray 인스턴스로 처리하면 모든 원소를 한꺼번에 메모리에 올리게 됨  \n",
    "이러한 문제에 대응할 수 있도록 데이터셋 전용 클래스인 Dataset 클래스 구현  \n",
    "또한, Dataset 클래스를 이용함으로써 통일된 인터페이스로 데이터셋을 다룰 수 있음\n",
    "  \n",
    "__Dataset 클래스 구현__  \n",
    "  \n",
    "Dataset 클래스는 기반 클래스로서의 역할을 하고, 실제 사용하는 데이터셋은 이를 상속하여 구현  \n",
    "prepare 메서드는 자식클레스에서 데이터 준비 작업을 구현  \n",
    "\n",
    "  \n",
    "~~~python\n",
    "import numpy as np\n",
    "class Dataset:\n",
    "    def __init__(self, train=True):\n",
    "        self.train = train\n",
    "        self.data = None\n",
    "        self.label = None\n",
    "        self.prepare()\n",
    "    \n",
    "    def __getitem__(self, index):\n",
    "        assert np.isscalar(index) # index는 정수(스칼라)만 지원\n",
    "        if self.label is None:\n",
    "            return self.data[index], None\n",
    "        else:\n",
    "            return self.data[index], self.label[index]\n",
    "        \n",
    "    def __len__(self):\n",
    "        return len(self.data)\n",
    "    \n",
    "    def prepare(self):\n",
    "        pass\n",
    "~~~"
   ]
  },
  {
   "cell_type": "markdown",
   "id": "e441cf6f",
   "metadata": {},
   "source": [
    "__스파이럴 데이터셋 구현__  \n",
    "  \n",
    "~~~python \n",
    "class Spiral(Dataset):\n",
    "    def prepare(self):\n",
    "        self.data, self.label = get_spiral(self.train)\n",
    "~~~"
   ]
  },
  {
   "cell_type": "code",
   "execution_count": 22,
   "id": "70b092ab",
   "metadata": {},
   "outputs": [
    {
     "name": "stdout",
     "output_type": "stream",
     "text": [
      "(array([-0.13981389, -0.00721657], dtype=float32), 1)\n",
      "300\n"
     ]
    }
   ],
   "source": [
    "import dezero\n",
    "\n",
    "train_set = dezero.datasets.Spiral(train=True)\n",
    "print(train_set[0])\n",
    "print(len(train_set))"
   ]
  },
  {
   "cell_type": "markdown",
   "id": "1354e54e",
   "metadata": {},
   "source": [
    "__데이터 이어 붙이기__  \n",
    "  \n",
    "신경망을 학습시킬 때는 데이터셋 중 일부를 미니배치로 꺼내 사용함  "
   ]
  },
  {
   "cell_type": "code",
   "execution_count": 23,
   "id": "a54b471b",
   "metadata": {},
   "outputs": [],
   "source": [
    "train_set = dezero.datasets.Spiral()\n",
    "\n",
    "batch_index = [0,1,2] # 0에서 2번째까지의 데이터를 꺼냄\n",
    "batch = [train_set[i] for i in batch_index]\n",
    "\n",
    "# batch = [(data_0, label_0), (data_1, label_1), (data_2, label_2)]"
   ]
  },
  {
   "cell_type": "markdown",
   "id": "6672d730",
   "metadata": {},
   "source": [
    "이 데이터를 DeZero의 신경망에 입력하려면 하나의 ndarray 인스턴스로 변환해야 함  \n",
    "아래 코드와 같이 하나의 ndarray 인스턴스로 이어붙일 수 있음"
   ]
  },
  {
   "cell_type": "code",
   "execution_count": 25,
   "id": "ce3f2279",
   "metadata": {},
   "outputs": [
    {
     "name": "stdout",
     "output_type": "stream",
     "text": [
      "(3, 2)\n",
      "(3,)\n"
     ]
    }
   ],
   "source": [
    "x = np.array([example[0] for example in batch])\n",
    "t = np.array([example[1] for example in batch])\n",
    "\n",
    "print(x.shape)\n",
    "print(t.shape)"
   ]
  },
  {
   "cell_type": "markdown",
   "id": "c83d0ca9",
   "metadata": {},
   "source": [
    "__Spiral 클래스를 사용한 학습__"
   ]
  },
  {
   "cell_type": "code",
   "execution_count": 26,
   "id": "438725bf",
   "metadata": {},
   "outputs": [
    {
     "name": "stdout",
     "output_type": "stream",
     "text": [
      "epoch 1, loss 1.13\n",
      "epoch 2, loss 1.05\n",
      "epoch 3, loss 0.95\n",
      "epoch 4, loss 0.92\n",
      "epoch 5, loss 0.87\n",
      "epoch 6, loss 0.89\n",
      "epoch 7, loss 0.84\n",
      "epoch 8, loss 0.78\n",
      "epoch 9, loss 0.80\n",
      "epoch 10, loss 0.79\n",
      "epoch 11, loss 0.78\n",
      "epoch 12, loss 0.76\n",
      "epoch 13, loss 0.77\n",
      "epoch 14, loss 0.76\n",
      "epoch 15, loss 0.76\n",
      "epoch 16, loss 0.77\n",
      "epoch 17, loss 0.78\n",
      "epoch 18, loss 0.74\n",
      "epoch 19, loss 0.74\n",
      "epoch 20, loss 0.72\n",
      "epoch 21, loss 0.73\n",
      "epoch 22, loss 0.74\n",
      "epoch 23, loss 0.77\n",
      "epoch 24, loss 0.73\n",
      "epoch 25, loss 0.74\n",
      "epoch 26, loss 0.74\n",
      "epoch 27, loss 0.72\n",
      "epoch 28, loss 0.72\n",
      "epoch 29, loss 0.72\n",
      "epoch 30, loss 0.73\n",
      "epoch 31, loss 0.71\n",
      "epoch 32, loss 0.72\n",
      "epoch 33, loss 0.72\n",
      "epoch 34, loss 0.71\n",
      "epoch 35, loss 0.72\n",
      "epoch 36, loss 0.71\n",
      "epoch 37, loss 0.71\n",
      "epoch 38, loss 0.70\n",
      "epoch 39, loss 0.71\n",
      "epoch 40, loss 0.70\n",
      "epoch 41, loss 0.71\n",
      "epoch 42, loss 0.70\n",
      "epoch 43, loss 0.70\n",
      "epoch 44, loss 0.70\n",
      "epoch 45, loss 0.69\n",
      "epoch 46, loss 0.69\n",
      "epoch 47, loss 0.71\n",
      "epoch 48, loss 0.70\n",
      "epoch 49, loss 0.69\n",
      "epoch 50, loss 0.69\n",
      "epoch 51, loss 0.68\n",
      "epoch 52, loss 0.67\n",
      "epoch 53, loss 0.68\n",
      "epoch 54, loss 0.70\n",
      "epoch 55, loss 0.68\n",
      "epoch 56, loss 0.66\n",
      "epoch 57, loss 0.67\n",
      "epoch 58, loss 0.66\n",
      "epoch 59, loss 0.64\n",
      "epoch 60, loss 0.64\n",
      "epoch 61, loss 0.64\n",
      "epoch 62, loss 0.63\n",
      "epoch 63, loss 0.63\n",
      "epoch 64, loss 0.61\n",
      "epoch 65, loss 0.61\n",
      "epoch 66, loss 0.60\n",
      "epoch 67, loss 0.62\n",
      "epoch 68, loss 0.59\n",
      "epoch 69, loss 0.60\n",
      "epoch 70, loss 0.57\n",
      "epoch 71, loss 0.58\n",
      "epoch 72, loss 0.57\n",
      "epoch 73, loss 0.56\n",
      "epoch 74, loss 0.56\n",
      "epoch 75, loss 0.55\n",
      "epoch 76, loss 0.55\n",
      "epoch 77, loss 0.55\n",
      "epoch 78, loss 0.54\n",
      "epoch 79, loss 0.53\n",
      "epoch 80, loss 0.53\n",
      "epoch 81, loss 0.52\n",
      "epoch 82, loss 0.53\n",
      "epoch 83, loss 0.52\n",
      "epoch 84, loss 0.49\n",
      "epoch 85, loss 0.50\n",
      "epoch 86, loss 0.49\n",
      "epoch 87, loss 0.49\n",
      "epoch 88, loss 0.48\n",
      "epoch 89, loss 0.47\n",
      "epoch 90, loss 0.47\n",
      "epoch 91, loss 0.46\n",
      "epoch 92, loss 0.46\n",
      "epoch 93, loss 0.45\n",
      "epoch 94, loss 0.44\n",
      "epoch 95, loss 0.45\n",
      "epoch 96, loss 0.44\n",
      "epoch 97, loss 0.43\n",
      "epoch 98, loss 0.43\n",
      "epoch 99, loss 0.42\n",
      "epoch 100, loss 0.43\n",
      "epoch 101, loss 0.42\n",
      "epoch 102, loss 0.41\n",
      "epoch 103, loss 0.42\n",
      "epoch 104, loss 0.41\n",
      "epoch 105, loss 0.40\n",
      "epoch 106, loss 0.40\n",
      "epoch 107, loss 0.40\n",
      "epoch 108, loss 0.39\n",
      "epoch 109, loss 0.38\n",
      "epoch 110, loss 0.39\n",
      "epoch 111, loss 0.38\n",
      "epoch 112, loss 0.38\n",
      "epoch 113, loss 0.38\n",
      "epoch 114, loss 0.36\n",
      "epoch 115, loss 0.36\n",
      "epoch 116, loss 0.36\n",
      "epoch 117, loss 0.36\n",
      "epoch 118, loss 0.36\n",
      "epoch 119, loss 0.35\n",
      "epoch 120, loss 0.35\n",
      "epoch 121, loss 0.36\n",
      "epoch 122, loss 0.34\n",
      "epoch 123, loss 0.35\n",
      "epoch 124, loss 0.33\n",
      "epoch 125, loss 0.33\n",
      "epoch 126, loss 0.32\n",
      "epoch 127, loss 0.34\n",
      "epoch 128, loss 0.32\n",
      "epoch 129, loss 0.33\n",
      "epoch 130, loss 0.31\n",
      "epoch 131, loss 0.30\n",
      "epoch 132, loss 0.31\n",
      "epoch 133, loss 0.31\n",
      "epoch 134, loss 0.30\n",
      "epoch 135, loss 0.29\n",
      "epoch 136, loss 0.29\n",
      "epoch 137, loss 0.29\n",
      "epoch 138, loss 0.28\n",
      "epoch 139, loss 0.29\n",
      "epoch 140, loss 0.28\n",
      "epoch 141, loss 0.27\n",
      "epoch 142, loss 0.27\n",
      "epoch 143, loss 0.28\n",
      "epoch 144, loss 0.27\n",
      "epoch 145, loss 0.27\n",
      "epoch 146, loss 0.26\n",
      "epoch 147, loss 0.26\n",
      "epoch 148, loss 0.26\n",
      "epoch 149, loss 0.26\n",
      "epoch 150, loss 0.25\n",
      "epoch 151, loss 0.25\n",
      "epoch 152, loss 0.25\n",
      "epoch 153, loss 0.24\n",
      "epoch 154, loss 0.24\n",
      "epoch 155, loss 0.24\n",
      "epoch 156, loss 0.24\n",
      "epoch 157, loss 0.24\n",
      "epoch 158, loss 0.24\n",
      "epoch 159, loss 0.23\n",
      "epoch 160, loss 0.23\n",
      "epoch 161, loss 0.23\n",
      "epoch 162, loss 0.23\n",
      "epoch 163, loss 0.23\n",
      "epoch 164, loss 0.22\n",
      "epoch 165, loss 0.22\n",
      "epoch 166, loss 0.22\n",
      "epoch 167, loss 0.21\n",
      "epoch 168, loss 0.22\n",
      "epoch 169, loss 0.22\n",
      "epoch 170, loss 0.21\n",
      "epoch 171, loss 0.21\n",
      "epoch 172, loss 0.22\n",
      "epoch 173, loss 0.22\n",
      "epoch 174, loss 0.21\n",
      "epoch 175, loss 0.21\n",
      "epoch 176, loss 0.20\n",
      "epoch 177, loss 0.21\n",
      "epoch 178, loss 0.20\n",
      "epoch 179, loss 0.20\n",
      "epoch 180, loss 0.20\n",
      "epoch 181, loss 0.20\n",
      "epoch 182, loss 0.19\n",
      "epoch 183, loss 0.20\n",
      "epoch 184, loss 0.19\n",
      "epoch 185, loss 0.19\n",
      "epoch 186, loss 0.19\n",
      "epoch 187, loss 0.19\n",
      "epoch 188, loss 0.19\n",
      "epoch 189, loss 0.19\n",
      "epoch 190, loss 0.19\n",
      "epoch 191, loss 0.19\n",
      "epoch 192, loss 0.19\n",
      "epoch 193, loss 0.18\n",
      "epoch 194, loss 0.19\n",
      "epoch 195, loss 0.18\n",
      "epoch 196, loss 0.18\n",
      "epoch 197, loss 0.18\n",
      "epoch 198, loss 0.18\n",
      "epoch 199, loss 0.19\n",
      "epoch 200, loss 0.18\n",
      "epoch 201, loss 0.17\n",
      "epoch 202, loss 0.18\n",
      "epoch 203, loss 0.18\n",
      "epoch 204, loss 0.17\n",
      "epoch 205, loss 0.18\n",
      "epoch 206, loss 0.17\n",
      "epoch 207, loss 0.17\n",
      "epoch 208, loss 0.17\n",
      "epoch 209, loss 0.17\n",
      "epoch 210, loss 0.17\n",
      "epoch 211, loss 0.17\n",
      "epoch 212, loss 0.17\n",
      "epoch 213, loss 0.18\n",
      "epoch 214, loss 0.17\n",
      "epoch 215, loss 0.17\n",
      "epoch 216, loss 0.17\n",
      "epoch 217, loss 0.17\n",
      "epoch 218, loss 0.17\n",
      "epoch 219, loss 0.16\n",
      "epoch 220, loss 0.17\n",
      "epoch 221, loss 0.16\n",
      "epoch 222, loss 0.16\n",
      "epoch 223, loss 0.16\n",
      "epoch 224, loss 0.16\n",
      "epoch 225, loss 0.16\n",
      "epoch 226, loss 0.16\n",
      "epoch 227, loss 0.17\n",
      "epoch 228, loss 0.18\n",
      "epoch 229, loss 0.16\n",
      "epoch 230, loss 0.16\n",
      "epoch 231, loss 0.15\n",
      "epoch 232, loss 0.16\n",
      "epoch 233, loss 0.17\n",
      "epoch 234, loss 0.16\n",
      "epoch 235, loss 0.16\n",
      "epoch 236, loss 0.15\n",
      "epoch 237, loss 0.16\n",
      "epoch 238, loss 0.16\n",
      "epoch 239, loss 0.16\n",
      "epoch 240, loss 0.16\n",
      "epoch 241, loss 0.15\n",
      "epoch 242, loss 0.15\n",
      "epoch 243, loss 0.15\n",
      "epoch 244, loss 0.15\n",
      "epoch 245, loss 0.15\n",
      "epoch 246, loss 0.15\n",
      "epoch 247, loss 0.15\n",
      "epoch 248, loss 0.15\n",
      "epoch 249, loss 0.15\n",
      "epoch 250, loss 0.15\n",
      "epoch 251, loss 0.15\n",
      "epoch 252, loss 0.15\n",
      "epoch 253, loss 0.15\n",
      "epoch 254, loss 0.15\n",
      "epoch 255, loss 0.15\n",
      "epoch 256, loss 0.15\n",
      "epoch 257, loss 0.14\n",
      "epoch 258, loss 0.15\n",
      "epoch 259, loss 0.14\n",
      "epoch 260, loss 0.15\n",
      "epoch 261, loss 0.15\n",
      "epoch 262, loss 0.15\n",
      "epoch 263, loss 0.14\n",
      "epoch 264, loss 0.14\n",
      "epoch 265, loss 0.14\n",
      "epoch 266, loss 0.14\n",
      "epoch 267, loss 0.14\n",
      "epoch 268, loss 0.14\n",
      "epoch 269, loss 0.14\n",
      "epoch 270, loss 0.14\n",
      "epoch 271, loss 0.14\n",
      "epoch 272, loss 0.14\n",
      "epoch 273, loss 0.14\n",
      "epoch 274, loss 0.14\n",
      "epoch 275, loss 0.14\n",
      "epoch 276, loss 0.14\n",
      "epoch 277, loss 0.14\n",
      "epoch 278, loss 0.14\n",
      "epoch 279, loss 0.14\n",
      "epoch 280, loss 0.13\n",
      "epoch 281, loss 0.13\n",
      "epoch 282, loss 0.14\n",
      "epoch 283, loss 0.13\n",
      "epoch 284, loss 0.13\n",
      "epoch 285, loss 0.13\n",
      "epoch 286, loss 0.13\n",
      "epoch 287, loss 0.14\n",
      "epoch 288, loss 0.13\n",
      "epoch 289, loss 0.13\n",
      "epoch 290, loss 0.13\n",
      "epoch 291, loss 0.13\n",
      "epoch 292, loss 0.13\n",
      "epoch 293, loss 0.14\n",
      "epoch 294, loss 0.13\n",
      "epoch 295, loss 0.13\n",
      "epoch 296, loss 0.13\n",
      "epoch 297, loss 0.13\n",
      "epoch 298, loss 0.12\n",
      "epoch 299, loss 0.13\n",
      "epoch 300, loss 0.13\n"
     ]
    }
   ],
   "source": [
    "max_epoch = 300\n",
    "batch_size = 30\n",
    "hidden_size = 10\n",
    "lr = 1.0\n",
    "\n",
    "train_set = dezero.datasets.Spiral()\n",
    "model = MLP((hidden_size, 3))\n",
    "optimizer = optimizers.SGD(lr).setup(model)\n",
    "\n",
    "data_size = len(train_set)\n",
    "max_iter = math.ceil(data_size / batch_size)\n",
    "\n",
    "for epoch in range(max_epoch):\n",
    "    index = np.random.permutation(data_size)\n",
    "    sum_loss = 0\n",
    "    \n",
    "    for i in range(max_iter):\n",
    "        # 미니배치 꺼내기(수정)\n",
    "        batch_index = index[i * batch_size : (i+1) * batch_size]\n",
    "        batch = [train_set[i] for i in batch_index]\n",
    "        batch_x = np.array([example[0] for example in batch])\n",
    "        batch_t = np.array([example[1] for example in batch])\n",
    "        \n",
    "        y = model(batch_x)\n",
    "        loss = F.softmax_cross_entropy(y, batch_t)\n",
    "        model.cleargrads()\n",
    "        loss.backward()\n",
    "        optimizer.update()\n",
    "        \n",
    "        sum_loss += float(loss.data) * len(batch_t)\n",
    "        \n",
    "    # 에포크마다 손실 출력\n",
    "    avg_loss = sum_loss / data_size\n",
    "    print('epoch %d, loss %.2f' % (epoch+1, avg_loss))"
   ]
  },
  {
   "cell_type": "markdown",
   "id": "b01884db",
   "metadata": {},
   "source": [
    "__데이터 전처리(및 데이터 확장)에 대응하기 위해 Dataset 클래스에 전처리 기능 추가__  \n",
    "  \n",
    "transform과 target_transform이라는 새로운 인수를 받음  \n",
    "이 인수들은 호출 가능한 객체(ex. 파이썬 함수 등)를 받음  \n"
   ]
  },
  {
   "cell_type": "markdown",
   "id": "f6d237fb",
   "metadata": {},
   "source": [
    "~~~python\n",
    "class Dataset:\n",
    "    def __init__(self, train=True, transform=None, target_transform=None):\n",
    "        self.train = train\n",
    "        self.transform = transform # 추가\n",
    "        self.target_transform = target_transform # 추가\n",
    "        if self.transform is None: # 추가\n",
    "            self.transform = lambda x: x\n",
    "        if self.target_transform is None: # 추가\n",
    "            self.target_transform = lambda x: x\n",
    "            \n",
    "        self.data = None\n",
    "        self.label = None\n",
    "        self.prepare()\n",
    "\n",
    "    def __getitem__(self, index):\n",
    "        assert np.isscalar(index) \n",
    "        if self.label is None:\n",
    "            return self.transform(self.data[index]), None # 수정\n",
    "        else:\n",
    "            return self.transform(self.data[index]),\\ # 수정\n",
    "                   self.target_transform(self.label[index])\n",
    "\n",
    "    def __len__(self):\n",
    "        return len(self.data)\n",
    "\n",
    "    def prepare(self):\n",
    "        pass\n",
    "~~~"
   ]
  },
  {
   "cell_type": "markdown",
   "id": "b08c80e8",
   "metadata": {},
   "source": [
    "전처리 예시"
   ]
  },
  {
   "cell_type": "code",
   "execution_count": 27,
   "id": "c6691db6",
   "metadata": {},
   "outputs": [],
   "source": [
    "def f(x):\n",
    "    y = x / 2.0\n",
    "    return y\n",
    "\n",
    "train_set = dezero.datasets.Spiral(transform=f)"
   ]
  },
  {
   "cell_type": "markdown",
   "id": "04d819d7",
   "metadata": {},
   "source": [
    "__자주 사용되는 전처리 함수__  \n",
    "  \n",
    "dezero/transforms.py 에 저장되어 있음"
   ]
  },
  {
   "cell_type": "markdown",
   "id": "d48addaa",
   "metadata": {},
   "source": [
    "__정규화__"
   ]
  },
  {
   "cell_type": "markdown",
   "id": "1adbab4c",
   "metadata": {},
   "source": [
    "~~~python\n",
    "class Normalize:\n",
    "    def __init__(self, mean=0, std=1):\n",
    "        self.mean = mean\n",
    "        self.std = std\n",
    "\n",
    "    def __call__(self, array):\n",
    "        mean, std = self.mean, self.std\n",
    "\n",
    "        if not np.isscalar(mean):\n",
    "            mshape = [1] * array.ndim\n",
    "            mshape[0] = len(array) if len(self.mean) == 1 else len(self.mean)\n",
    "            mean = np.array(self.mean, dtype=array.dtype).reshape(*mshape)\n",
    "        if not np.isscalar(std):\n",
    "            rshape = [1] * array.ndim\n",
    "            rshape[0] = len(array) if len(self.std) == 1 else len(self.std)\n",
    "            std = np.array(self.std, dtype=array.dtype).reshape(*rshape)\n",
    "        return (array - mean) / std\n",
    "~~~"
   ]
  },
  {
   "cell_type": "code",
   "execution_count": 28,
   "id": "28e704bf",
   "metadata": {},
   "outputs": [],
   "source": [
    "from dezero import transforms\n",
    "\n",
    "f = transforms.Normalize(mean=0.0, std=2.0)\n",
    "train_set = dezero.datasets.Spiral(transform=f)"
   ]
  },
  {
   "cell_type": "markdown",
   "id": "41ce330e",
   "metadata": {},
   "source": [
    "아래 Compose 클래스를 이용하여 여러 변환 처리를 연달아 수행하는 것도 할 수 있음  \n",
    "transforms.Compose 클래스는 주어진 변환 목록을 앞에서부터 순서대로 처리함"
   ]
  },
  {
   "cell_type": "markdown",
   "id": "8297292a",
   "metadata": {},
   "source": [
    "~~~python\n",
    "class Compose:\n",
    "    def __init__(self, transforms=[]):\n",
    "        self.transforms = transforms\n",
    "\n",
    "    def __call__(self, img):\n",
    "        if not self.transforms:\n",
    "            return img\n",
    "        for t in self.transforms:\n",
    "            img = t(img)\n",
    "        return img\n",
    "~~~"
   ]
  },
  {
   "cell_type": "code",
   "execution_count": 29,
   "id": "e895b523",
   "metadata": {},
   "outputs": [],
   "source": [
    "f = transforms.Compose([transforms.Normalize(mean=0.0, std=2.0),\n",
    "                       transforms.AsType(np.float64)])"
   ]
  },
  {
   "cell_type": "markdown",
   "id": "6837066c",
   "metadata": {},
   "source": [
    "# 50단계 미니배치를 뽑아주는 DataLoader"
   ]
  },
  {
   "cell_type": "markdown",
   "id": "0c6b85c1",
   "metadata": {},
   "source": [
    "반복자(iterator) : 원소를 반복하여 꺼내줌  \n",
    "파이썬의 반복자는 리스트나 튜플 등 여러 원소를 담고 있는 데이터 타입으로부터 데이터를 순차적으로 추출함  "
   ]
  },
  {
   "cell_type": "code",
   "execution_count": 30,
   "id": "e111cf9f",
   "metadata": {},
   "outputs": [
    {
     "data": {
      "text/plain": [
       "1"
      ]
     },
     "execution_count": 30,
     "metadata": {},
     "output_type": "execute_result"
    }
   ],
   "source": [
    "t = [1,2,3]\n",
    "x = iter(t) # 리스트를 반복자로 변환\n",
    "next(x)"
   ]
  },
  {
   "cell_type": "code",
   "execution_count": 31,
   "id": "3fe6b822",
   "metadata": {},
   "outputs": [
    {
     "data": {
      "text/plain": [
       "2"
      ]
     },
     "execution_count": 31,
     "metadata": {},
     "output_type": "execute_result"
    }
   ],
   "source": [
    "next(x)"
   ]
  },
  {
   "cell_type": "code",
   "execution_count": 32,
   "id": "aa46cb76",
   "metadata": {},
   "outputs": [
    {
     "data": {
      "text/plain": [
       "3"
      ]
     },
     "execution_count": 32,
     "metadata": {},
     "output_type": "execute_result"
    }
   ],
   "source": [
    "next(x)"
   ]
  },
  {
   "cell_type": "code",
   "execution_count": 33,
   "id": "bf736036",
   "metadata": {},
   "outputs": [
    {
     "ename": "StopIteration",
     "evalue": "",
     "output_type": "error",
     "traceback": [
      "\u001b[0;31m---------------------------------------------------------------------------\u001b[0m",
      "\u001b[0;31mStopIteration\u001b[0m                             Traceback (most recent call last)",
      "\u001b[0;32m/var/folders/gs/xm5833ws6f7361xlj18d2j140000gn/T/ipykernel_1598/3485793935.py\u001b[0m in \u001b[0;36m<module>\u001b[0;34m\u001b[0m\n\u001b[0;32m----> 1\u001b[0;31m \u001b[0mnext\u001b[0m\u001b[0;34m(\u001b[0m\u001b[0mx\u001b[0m\u001b[0;34m)\u001b[0m\u001b[0;34m\u001b[0m\u001b[0;34m\u001b[0m\u001b[0m\n\u001b[0m",
      "\u001b[0;31mStopIteration\u001b[0m: "
     ]
    }
   ],
   "source": [
    "next(x) # 더 꺼낼 원소가 없음"
   ]
  },
  {
   "cell_type": "markdown",
   "id": "6ddfa1d0",
   "metadata": {},
   "source": [
    "반복자 클래스 구현"
   ]
  },
  {
   "cell_type": "code",
   "execution_count": 34,
   "id": "b380650f",
   "metadata": {},
   "outputs": [],
   "source": [
    "class MyIterator:\n",
    "    def __init__(self, max_cnt):\n",
    "        self.max_cnt = max_cnt\n",
    "        self.cnt = 0\n",
    "        \n",
    "    def __iter__(self):\n",
    "        return self\n",
    "    \n",
    "    def __next__(self):\n",
    "        if self.cnt == self.max_cnt:\n",
    "            raise StopIteration()\n",
    "            \n",
    "        self.cnt += 1\n",
    "        return self.cnt"
   ]
  },
  {
   "cell_type": "code",
   "execution_count": 35,
   "id": "74d20ca6",
   "metadata": {},
   "outputs": [
    {
     "name": "stdout",
     "output_type": "stream",
     "text": [
      "1\n",
      "2\n",
      "3\n",
      "4\n",
      "5\n"
     ]
    }
   ],
   "source": [
    "obj = MyIterator(5)\n",
    "for x in obj:\n",
    "    print(x)"
   ]
  },
  {
   "cell_type": "markdown",
   "id": "738523d4",
   "metadata": {},
   "source": [
    "반복자 구조를 이용하여 __미니배치를 뽑아주는 DataLoader 클래스 구현__  \n",
    "  \n",
    "dezero.dataloaders.py 추가 및 dezero.\\_\\_init__.py에 from dezero.dataloaders import DataLoader 추가"
   ]
  },
  {
   "cell_type": "markdown",
   "id": "3b1bac77",
   "metadata": {},
   "source": [
    "~~~python\n",
    "import math\n",
    "import random\n",
    "import numpy as np\n",
    "\n",
    "class DataLoader:\n",
    "    def __init__(self, dataset, batch_size, shuffle=True):\n",
    "        self.dataset = dataset\n",
    "        self.batch_size = batch_size\n",
    "        self.shuffle = shuffle\n",
    "        self.data_size = len(dataset)\n",
    "        self.max_iter = math.ceil(self.data_size / batch_size)\n",
    "        \n",
    "        self.reset()\n",
    "        \n",
    "    def reset(self):\n",
    "        self.iteration = 0 # 반복 횟수 초기화\n",
    "        if self.shuffle:\n",
    "            self.index = np.random.permutation(len(self.dataset)) # 데이터 뒤섞기\n",
    "        else:\n",
    "            self.index = np.arange(len(self.dataset))\n",
    "            \n",
    "    def __iter__(self):\n",
    "        return self\n",
    "    \n",
    "    def __next__(self):\n",
    "        if self.iteration >= self.max_iter:\n",
    "            self.reset()\n",
    "            raise StopIteration\n",
    "            \n",
    "        i, batch_size = self.iteration, self.batch_size\n",
    "        batch_index = self.index[i * batch_size:(i+1) * batch_size]\n",
    "        batch = [self.dataset[i] for i in batch_index]\n",
    "        x = np.array([example[0] for example in batch])\n",
    "        t = np.array([example[1] for example in batch])\n",
    "        \n",
    "        self.iteration += 1\n",
    "        return x, t\n",
    "    \n",
    "    def next(self):\n",
    "        return self.__next__()\n",
    "\n",
    "~~~"
   ]
  },
  {
   "cell_type": "markdown",
   "id": "4739c3a7",
   "metadata": {},
   "source": [
    "DataLoader 클래스를 사용하여 미니배치 꺼내오기"
   ]
  },
  {
   "cell_type": "code",
   "execution_count": 1,
   "id": "909ce86b",
   "metadata": {},
   "outputs": [
    {
     "name": "stdout",
     "output_type": "stream",
     "text": [
      "(10, 2) (10,)\n",
      "(10, 2) (10,)\n"
     ]
    }
   ],
   "source": [
    "from dezero.datasets import Spiral\n",
    "from dezero import DataLoader\n",
    "\n",
    "batch_size = 10\n",
    "max_epoch = 1\n",
    "\n",
    "train_set = Spiral(train = True)\n",
    "test_set = Spiral(train = False)\n",
    "train_loader = DataLoader(train_set, batch_size)\n",
    "test_loader = DataLoader(test_set, batch_size, shuffle=False)\n",
    "\n",
    "for epoch in range(max_epoch):\n",
    "    for x, t in train_loader:\n",
    "        print(x.shape, t.shape) # x, t는 훈련 데이터\n",
    "        break\n",
    "        \n",
    "    # 에포크 끝에서 테스트 데이터를 꺼냄\n",
    "    for x, t in test_loader:\n",
    "        print(x.shape, t.shape) # x, t는 테스트 데이터\n",
    "        break"
   ]
  },
  {
   "cell_type": "markdown",
   "id": "a3e4e4db",
   "metadata": {},
   "source": [
    "__accuracy 함수 구현__  \n",
    "  \n",
    "\\* accuracy 함수는 ndarray 인스턴스를 사용해 수행하므로 미분은 할 수 없음"
   ]
  },
  {
   "cell_type": "markdown",
   "id": "73b150ff",
   "metadata": {},
   "source": [
    "~~~python\n",
    "def accuracy(y, t):\n",
    "    y, t = as_variable(y), as_variable(t)\n",
    "    \n",
    "    pred = y.data.argmax(axis=1).reshape(t.shape)\n",
    "    result = (pred == t.data)\n",
    "    acc = result.mean()\n",
    "    return Variable(as_array(acc))\n",
    "~~~"
   ]
  },
  {
   "cell_type": "code",
   "execution_count": 1,
   "id": "15bb0f38",
   "metadata": {},
   "outputs": [
    {
     "name": "stdout",
     "output_type": "stream",
     "text": [
      "variable(0.6666666666666666)\n"
     ]
    }
   ],
   "source": [
    "import numpy as np\n",
    "import dezero.functions as F\n",
    "\n",
    "y = np.array([[0.2, 0.8, 0], [0.1, 0.9, 0], [0.8, 0.1, 0.1]])\n",
    "t = np.array([1, 2, 0])\n",
    "acc = F.accuracy(y, t)\n",
    "print(acc)"
   ]
  },
  {
   "cell_type": "markdown",
   "id": "47a37d95",
   "metadata": {},
   "source": [
    "__스파이럴 데이터셋 학습__"
   ]
  },
  {
   "cell_type": "code",
   "execution_count": 6,
   "id": "fd9551b1",
   "metadata": {},
   "outputs": [
    {
     "name": "stdout",
     "output_type": "stream",
     "text": [
      "epoch: 1\n",
      "train loss: 1.0944, accuracy: 0.4033\n",
      "test loss: 1.0468, accuracy: 0.3267\n",
      "epoch: 2\n",
      "train loss: 0.9882, accuracy: 0.4933\n",
      "test loss: 0.9729, accuracy: 0.4333\n",
      "epoch: 3\n",
      "train loss: 0.9403, accuracy: 0.5133\n",
      "test loss: 0.8965, accuracy: 0.6233\n",
      "epoch: 4\n",
      "train loss: 0.8820, accuracy: 0.5700\n",
      "test loss: 0.8771, accuracy: 0.5967\n",
      "epoch: 5\n",
      "train loss: 0.8617, accuracy: 0.5600\n",
      "test loss: 0.8670, accuracy: 0.5867\n",
      "epoch: 6\n",
      "train loss: 0.8313, accuracy: 0.5300\n",
      "test loss: 0.8654, accuracy: 0.6000\n",
      "epoch: 7\n",
      "train loss: 0.8086, accuracy: 0.5833\n",
      "test loss: 0.7950, accuracy: 0.5600\n",
      "epoch: 8\n",
      "train loss: 0.7948, accuracy: 0.5733\n",
      "test loss: 0.7921, accuracy: 0.5900\n",
      "epoch: 9\n",
      "train loss: 0.7728, accuracy: 0.5500\n",
      "test loss: 0.7718, accuracy: 0.5300\n",
      "epoch: 10\n",
      "train loss: 0.7643, accuracy: 0.5633\n",
      "test loss: 0.7796, accuracy: 0.5800\n",
      "epoch: 11\n",
      "train loss: 0.7862, accuracy: 0.5600\n",
      "test loss: 0.7701, accuracy: 0.5633\n",
      "epoch: 12\n",
      "train loss: 0.7914, accuracy: 0.5500\n",
      "test loss: 0.8218, accuracy: 0.6067\n",
      "epoch: 13\n",
      "train loss: 0.7633, accuracy: 0.5567\n",
      "test loss: 0.7757, accuracy: 0.5800\n",
      "epoch: 14\n",
      "train loss: 0.7612, accuracy: 0.5833\n",
      "test loss: 0.7800, accuracy: 0.5667\n",
      "epoch: 15\n",
      "train loss: 0.7408, accuracy: 0.5667\n",
      "test loss: 0.7654, accuracy: 0.5867\n",
      "epoch: 16\n",
      "train loss: 0.7453, accuracy: 0.5733\n",
      "test loss: 0.7648, accuracy: 0.6033\n",
      "epoch: 17\n",
      "train loss: 0.7843, accuracy: 0.5667\n",
      "test loss: 0.7415, accuracy: 0.5267\n",
      "epoch: 18\n",
      "train loss: 0.7592, accuracy: 0.5633\n",
      "test loss: 0.7388, accuracy: 0.5267\n",
      "epoch: 19\n",
      "train loss: 0.7396, accuracy: 0.5567\n",
      "test loss: 0.7791, accuracy: 0.5667\n",
      "epoch: 20\n",
      "train loss: 0.7376, accuracy: 0.5533\n",
      "test loss: 0.7478, accuracy: 0.5200\n",
      "epoch: 21\n",
      "train loss: 0.7469, accuracy: 0.5600\n",
      "test loss: 0.7617, accuracy: 0.6100\n",
      "epoch: 22\n",
      "train loss: 0.7349, accuracy: 0.5667\n",
      "test loss: 0.7476, accuracy: 0.5967\n",
      "epoch: 23\n",
      "train loss: 0.7650, accuracy: 0.5600\n",
      "test loss: 0.7336, accuracy: 0.5433\n",
      "epoch: 24\n",
      "train loss: 0.7495, accuracy: 0.5667\n",
      "test loss: 0.7366, accuracy: 0.5500\n",
      "epoch: 25\n",
      "train loss: 0.7414, accuracy: 0.5700\n",
      "test loss: 0.7516, accuracy: 0.6133\n",
      "epoch: 26\n",
      "train loss: 0.7298, accuracy: 0.5900\n",
      "test loss: 0.7327, accuracy: 0.5533\n",
      "epoch: 27\n",
      "train loss: 0.7297, accuracy: 0.5700\n",
      "test loss: 0.7356, accuracy: 0.5933\n",
      "epoch: 28\n",
      "train loss: 0.7267, accuracy: 0.5900\n",
      "test loss: 0.7240, accuracy: 0.5233\n",
      "epoch: 29\n",
      "train loss: 0.7359, accuracy: 0.5800\n",
      "test loss: 0.7203, accuracy: 0.5533\n",
      "epoch: 30\n",
      "train loss: 0.7273, accuracy: 0.5600\n",
      "test loss: 0.7382, accuracy: 0.5433\n",
      "epoch: 31\n",
      "train loss: 0.7338, accuracy: 0.5867\n",
      "test loss: 0.7492, accuracy: 0.5933\n",
      "epoch: 32\n",
      "train loss: 0.7092, accuracy: 0.5900\n",
      "test loss: 0.7241, accuracy: 0.5500\n",
      "epoch: 33\n",
      "train loss: 0.6970, accuracy: 0.5767\n",
      "test loss: 0.7483, accuracy: 0.6167\n",
      "epoch: 34\n",
      "train loss: 0.7048, accuracy: 0.5967\n",
      "test loss: 0.7170, accuracy: 0.5433\n",
      "epoch: 35\n",
      "train loss: 0.7069, accuracy: 0.5967\n",
      "test loss: 0.7164, accuracy: 0.5467\n",
      "epoch: 36\n",
      "train loss: 0.7199, accuracy: 0.5800\n",
      "test loss: 0.7318, accuracy: 0.6133\n",
      "epoch: 37\n",
      "train loss: 0.7035, accuracy: 0.6167\n",
      "test loss: 0.7266, accuracy: 0.5900\n",
      "epoch: 38\n",
      "train loss: 0.6992, accuracy: 0.5767\n",
      "test loss: 0.7419, accuracy: 0.6000\n",
      "epoch: 39\n",
      "train loss: 0.7103, accuracy: 0.6000\n",
      "test loss: 0.7077, accuracy: 0.5333\n",
      "epoch: 40\n",
      "train loss: 0.7064, accuracy: 0.5733\n",
      "test loss: 0.7335, accuracy: 0.5900\n",
      "epoch: 41\n",
      "train loss: 0.7022, accuracy: 0.5767\n",
      "test loss: 0.7087, accuracy: 0.6100\n",
      "epoch: 42\n",
      "train loss: 0.7047, accuracy: 0.6000\n",
      "test loss: 0.6951, accuracy: 0.5800\n",
      "epoch: 43\n",
      "train loss: 0.7071, accuracy: 0.6000\n",
      "test loss: 0.7009, accuracy: 0.6133\n",
      "epoch: 44\n",
      "train loss: 0.7041, accuracy: 0.6033\n",
      "test loss: 0.6914, accuracy: 0.5833\n",
      "epoch: 45\n",
      "train loss: 0.6854, accuracy: 0.5767\n",
      "test loss: 0.7122, accuracy: 0.6100\n",
      "epoch: 46\n",
      "train loss: 0.6771, accuracy: 0.6067\n",
      "test loss: 0.6874, accuracy: 0.5600\n",
      "epoch: 47\n",
      "train loss: 0.6781, accuracy: 0.5900\n",
      "test loss: 0.6995, accuracy: 0.6467\n",
      "epoch: 48\n",
      "train loss: 0.6875, accuracy: 0.5933\n",
      "test loss: 0.7021, accuracy: 0.6300\n",
      "epoch: 49\n",
      "train loss: 0.6641, accuracy: 0.6000\n",
      "test loss: 0.6897, accuracy: 0.6000\n",
      "epoch: 50\n",
      "train loss: 0.6683, accuracy: 0.6200\n",
      "test loss: 0.6850, accuracy: 0.5867\n",
      "epoch: 51\n",
      "train loss: 0.6554, accuracy: 0.6033\n",
      "test loss: 0.6698, accuracy: 0.6367\n",
      "epoch: 52\n",
      "train loss: 0.6528, accuracy: 0.6200\n",
      "test loss: 0.6789, accuracy: 0.5800\n",
      "epoch: 53\n",
      "train loss: 0.6500, accuracy: 0.6467\n",
      "test loss: 0.6691, accuracy: 0.6467\n",
      "epoch: 54\n",
      "train loss: 0.6449, accuracy: 0.6267\n",
      "test loss: 0.6562, accuracy: 0.6633\n",
      "epoch: 55\n",
      "train loss: 0.6549, accuracy: 0.6500\n",
      "test loss: 0.6892, accuracy: 0.6467\n",
      "epoch: 56\n",
      "train loss: 0.6504, accuracy: 0.6400\n",
      "test loss: 0.6421, accuracy: 0.6167\n",
      "epoch: 57\n",
      "train loss: 0.6396, accuracy: 0.6667\n",
      "test loss: 0.6451, accuracy: 0.6167\n",
      "epoch: 58\n",
      "train loss: 0.6251, accuracy: 0.6733\n",
      "test loss: 0.6415, accuracy: 0.6200\n",
      "epoch: 59\n",
      "train loss: 0.6150, accuracy: 0.6433\n",
      "test loss: 0.6285, accuracy: 0.6267\n",
      "epoch: 60\n",
      "train loss: 0.6122, accuracy: 0.6633\n",
      "test loss: 0.6169, accuracy: 0.6400\n",
      "epoch: 61\n",
      "train loss: 0.5987, accuracy: 0.6767\n",
      "test loss: 0.6183, accuracy: 0.6167\n",
      "epoch: 62\n",
      "train loss: 0.5920, accuracy: 0.6667\n",
      "test loss: 0.6076, accuracy: 0.6967\n",
      "epoch: 63\n",
      "train loss: 0.5914, accuracy: 0.6700\n",
      "test loss: 0.6020, accuracy: 0.6300\n",
      "epoch: 64\n",
      "train loss: 0.5911, accuracy: 0.6867\n",
      "test loss: 0.5981, accuracy: 0.6533\n",
      "epoch: 65\n",
      "train loss: 0.5626, accuracy: 0.7000\n",
      "test loss: 0.6124, accuracy: 0.7100\n",
      "epoch: 66\n",
      "train loss: 0.5707, accuracy: 0.7067\n",
      "test loss: 0.5760, accuracy: 0.6567\n",
      "epoch: 67\n",
      "train loss: 0.5574, accuracy: 0.6900\n",
      "test loss: 0.5834, accuracy: 0.6967\n",
      "epoch: 68\n",
      "train loss: 0.5560, accuracy: 0.7133\n",
      "test loss: 0.5589, accuracy: 0.6933\n",
      "epoch: 69\n",
      "train loss: 0.5355, accuracy: 0.7267\n",
      "test loss: 0.5530, accuracy: 0.6967\n",
      "epoch: 70\n",
      "train loss: 0.5303, accuracy: 0.7300\n",
      "test loss: 0.5380, accuracy: 0.7267\n",
      "epoch: 71\n",
      "train loss: 0.5207, accuracy: 0.7167\n",
      "test loss: 0.5315, accuracy: 0.7367\n",
      "epoch: 72\n",
      "train loss: 0.5094, accuracy: 0.7533\n",
      "test loss: 0.5340, accuracy: 0.7367\n",
      "epoch: 73\n",
      "train loss: 0.5110, accuracy: 0.7400\n",
      "test loss: 0.5127, accuracy: 0.7433\n",
      "epoch: 74\n",
      "train loss: 0.4921, accuracy: 0.7500\n",
      "test loss: 0.5051, accuracy: 0.7400\n",
      "epoch: 75\n",
      "train loss: 0.4882, accuracy: 0.7700\n",
      "test loss: 0.5268, accuracy: 0.7467\n",
      "epoch: 76\n",
      "train loss: 0.4859, accuracy: 0.7533\n",
      "test loss: 0.4997, accuracy: 0.7400\n",
      "epoch: 77\n",
      "train loss: 0.4701, accuracy: 0.7767\n",
      "test loss: 0.4814, accuracy: 0.7800\n",
      "epoch: 78\n",
      "train loss: 0.4574, accuracy: 0.7733\n",
      "test loss: 0.4736, accuracy: 0.7700\n",
      "epoch: 79\n",
      "train loss: 0.4547, accuracy: 0.7533\n",
      "test loss: 0.4665, accuracy: 0.7900\n",
      "epoch: 80\n",
      "train loss: 0.4533, accuracy: 0.7667\n",
      "test loss: 0.4601, accuracy: 0.7900\n",
      "epoch: 81\n",
      "train loss: 0.4431, accuracy: 0.7967\n",
      "test loss: 0.4496, accuracy: 0.7900\n",
      "epoch: 82\n",
      "train loss: 0.4309, accuracy: 0.8167\n",
      "test loss: 0.4421, accuracy: 0.7867\n",
      "epoch: 83\n",
      "train loss: 0.4282, accuracy: 0.8167\n",
      "test loss: 0.4431, accuracy: 0.7833\n",
      "epoch: 84\n",
      "train loss: 0.4132, accuracy: 0.8167\n",
      "test loss: 0.4353, accuracy: 0.8200\n",
      "epoch: 85\n",
      "train loss: 0.4132, accuracy: 0.8167\n",
      "test loss: 0.4260, accuracy: 0.8367\n",
      "epoch: 86\n",
      "train loss: 0.4047, accuracy: 0.8167\n",
      "test loss: 0.4248, accuracy: 0.8400\n",
      "epoch: 87\n",
      "train loss: 0.3968, accuracy: 0.8367\n",
      "test loss: 0.4031, accuracy: 0.8333\n",
      "epoch: 88\n",
      "train loss: 0.3942, accuracy: 0.8267\n",
      "test loss: 0.4091, accuracy: 0.8333\n",
      "epoch: 89\n",
      "train loss: 0.3746, accuracy: 0.8333\n",
      "test loss: 0.3962, accuracy: 0.8100\n",
      "epoch: 90\n",
      "train loss: 0.3772, accuracy: 0.8333\n",
      "test loss: 0.3831, accuracy: 0.8300\n",
      "epoch: 91\n",
      "train loss: 0.3669, accuracy: 0.8467\n",
      "test loss: 0.3844, accuracy: 0.8433\n",
      "epoch: 92\n",
      "train loss: 0.3554, accuracy: 0.8600\n",
      "test loss: 0.3752, accuracy: 0.8567\n",
      "epoch: 93\n",
      "train loss: 0.3491, accuracy: 0.8700\n",
      "test loss: 0.3720, accuracy: 0.8400\n",
      "epoch: 94\n",
      "train loss: 0.3440, accuracy: 0.8533\n",
      "test loss: 0.3595, accuracy: 0.8600\n",
      "epoch: 95\n",
      "train loss: 0.3408, accuracy: 0.8633\n",
      "test loss: 0.3533, accuracy: 0.8700\n",
      "epoch: 96\n",
      "train loss: 0.3336, accuracy: 0.8600\n",
      "test loss: 0.3515, accuracy: 0.8800\n",
      "epoch: 97\n",
      "train loss: 0.3295, accuracy: 0.8700\n",
      "test loss: 0.3437, accuracy: 0.8933\n",
      "epoch: 98\n",
      "train loss: 0.3208, accuracy: 0.9133\n",
      "test loss: 0.3433, accuracy: 0.8533\n",
      "epoch: 99\n",
      "train loss: 0.3212, accuracy: 0.8667\n",
      "test loss: 0.3302, accuracy: 0.8633\n",
      "epoch: 100\n",
      "train loss: 0.3146, accuracy: 0.8700\n",
      "test loss: 0.3248, accuracy: 0.8600\n",
      "epoch: 101\n",
      "train loss: 0.3090, accuracy: 0.8633\n",
      "test loss: 0.3268, accuracy: 0.8833\n",
      "epoch: 102\n",
      "train loss: 0.3024, accuracy: 0.8933\n",
      "test loss: 0.3195, accuracy: 0.8533\n",
      "epoch: 103\n",
      "train loss: 0.3009, accuracy: 0.8933\n",
      "test loss: 0.3122, accuracy: 0.8900\n",
      "epoch: 104\n",
      "train loss: 0.2930, accuracy: 0.9067\n",
      "test loss: 0.3087, accuracy: 0.8633\n",
      "epoch: 105\n",
      "train loss: 0.2881, accuracy: 0.9067\n",
      "test loss: 0.3111, accuracy: 0.8567\n",
      "epoch: 106\n",
      "train loss: 0.2785, accuracy: 0.9167\n",
      "test loss: 0.3026, accuracy: 0.8867\n",
      "epoch: 107\n",
      "train loss: 0.2786, accuracy: 0.8933\n",
      "test loss: 0.2952, accuracy: 0.8833\n",
      "epoch: 108\n",
      "train loss: 0.2756, accuracy: 0.9100\n",
      "test loss: 0.2912, accuracy: 0.8800\n",
      "epoch: 109\n",
      "train loss: 0.2744, accuracy: 0.9200\n",
      "test loss: 0.2965, accuracy: 0.8667\n",
      "epoch: 110\n",
      "train loss: 0.2705, accuracy: 0.9267\n",
      "test loss: 0.2856, accuracy: 0.8933\n",
      "epoch: 111\n",
      "train loss: 0.2645, accuracy: 0.9067\n",
      "test loss: 0.2814, accuracy: 0.8867\n",
      "epoch: 112\n",
      "train loss: 0.2624, accuracy: 0.9100\n",
      "test loss: 0.2835, accuracy: 0.8700\n",
      "epoch: 113\n",
      "train loss: 0.2608, accuracy: 0.9067\n",
      "test loss: 0.2752, accuracy: 0.8933\n",
      "epoch: 114\n",
      "train loss: 0.2524, accuracy: 0.9167\n",
      "test loss: 0.2740, accuracy: 0.9033\n",
      "epoch: 115\n",
      "train loss: 0.2484, accuracy: 0.9167\n",
      "test loss: 0.2688, accuracy: 0.8967\n",
      "epoch: 116\n",
      "train loss: 0.2480, accuracy: 0.9200\n",
      "test loss: 0.2768, accuracy: 0.8600\n",
      "epoch: 117\n",
      "train loss: 0.2445, accuracy: 0.9133\n",
      "test loss: 0.2635, accuracy: 0.9067\n",
      "epoch: 118\n",
      "train loss: 0.2444, accuracy: 0.9267\n",
      "test loss: 0.2593, accuracy: 0.8967\n",
      "epoch: 119\n",
      "train loss: 0.2379, accuracy: 0.9267\n",
      "test loss: 0.2576, accuracy: 0.8867\n",
      "epoch: 120\n",
      "train loss: 0.2361, accuracy: 0.9200\n",
      "test loss: 0.2573, accuracy: 0.9200\n",
      "epoch: 121\n",
      "train loss: 0.2372, accuracy: 0.9333\n",
      "test loss: 0.2534, accuracy: 0.9067\n",
      "epoch: 122\n",
      "train loss: 0.2305, accuracy: 0.9333\n",
      "test loss: 0.2511, accuracy: 0.8867\n",
      "epoch: 123\n",
      "train loss: 0.2277, accuracy: 0.9367\n",
      "test loss: 0.2531, accuracy: 0.9000\n",
      "epoch: 124\n",
      "train loss: 0.2318, accuracy: 0.9233\n",
      "test loss: 0.2456, accuracy: 0.9067\n",
      "epoch: 125\n",
      "train loss: 0.2248, accuracy: 0.9400\n",
      "test loss: 0.2454, accuracy: 0.9133\n",
      "epoch: 126\n",
      "train loss: 0.2229, accuracy: 0.9433\n",
      "test loss: 0.2427, accuracy: 0.9033\n",
      "epoch: 127\n",
      "train loss: 0.2264, accuracy: 0.9167\n",
      "test loss: 0.2433, accuracy: 0.9000\n",
      "epoch: 128\n",
      "train loss: 0.2152, accuracy: 0.9333\n",
      "test loss: 0.2373, accuracy: 0.9133\n",
      "epoch: 129\n",
      "train loss: 0.2176, accuracy: 0.9367\n",
      "test loss: 0.2402, accuracy: 0.8967\n",
      "epoch: 130\n",
      "train loss: 0.2149, accuracy: 0.9200\n",
      "test loss: 0.2332, accuracy: 0.9033\n",
      "epoch: 131\n",
      "train loss: 0.2136, accuracy: 0.9333\n",
      "test loss: 0.2377, accuracy: 0.8933\n",
      "epoch: 132\n",
      "train loss: 0.2143, accuracy: 0.9200\n",
      "test loss: 0.2304, accuracy: 0.9167\n",
      "epoch: 133\n",
      "train loss: 0.2141, accuracy: 0.9267\n",
      "test loss: 0.2449, accuracy: 0.8833\n",
      "epoch: 134\n",
      "train loss: 0.2088, accuracy: 0.9133\n",
      "test loss: 0.2362, accuracy: 0.8900\n",
      "epoch: 135\n",
      "train loss: 0.2046, accuracy: 0.9333\n",
      "test loss: 0.2278, accuracy: 0.9133\n",
      "epoch: 136\n",
      "train loss: 0.2021, accuracy: 0.9333\n",
      "test loss: 0.2275, accuracy: 0.9200\n",
      "epoch: 137\n",
      "train loss: 0.2046, accuracy: 0.9333\n",
      "test loss: 0.2236, accuracy: 0.9167\n",
      "epoch: 138\n",
      "train loss: 0.1991, accuracy: 0.9267\n",
      "test loss: 0.2207, accuracy: 0.9233\n"
     ]
    },
    {
     "name": "stdout",
     "output_type": "stream",
     "text": [
      "epoch: 139\n",
      "train loss: 0.1960, accuracy: 0.9433\n",
      "test loss: 0.2216, accuracy: 0.9267\n",
      "epoch: 140\n",
      "train loss: 0.1981, accuracy: 0.9333\n",
      "test loss: 0.2178, accuracy: 0.9233\n",
      "epoch: 141\n",
      "train loss: 0.1945, accuracy: 0.9367\n",
      "test loss: 0.2194, accuracy: 0.9200\n",
      "epoch: 142\n",
      "train loss: 0.1969, accuracy: 0.9233\n",
      "test loss: 0.2158, accuracy: 0.9233\n",
      "epoch: 143\n",
      "train loss: 0.1942, accuracy: 0.9333\n",
      "test loss: 0.2127, accuracy: 0.9167\n",
      "epoch: 144\n",
      "train loss: 0.1886, accuracy: 0.9433\n",
      "test loss: 0.2288, accuracy: 0.8933\n",
      "epoch: 145\n",
      "train loss: 0.1966, accuracy: 0.9133\n",
      "test loss: 0.2103, accuracy: 0.9167\n",
      "epoch: 146\n",
      "train loss: 0.1899, accuracy: 0.9300\n",
      "test loss: 0.2124, accuracy: 0.9100\n",
      "epoch: 147\n",
      "train loss: 0.1890, accuracy: 0.9400\n",
      "test loss: 0.2104, accuracy: 0.9200\n",
      "epoch: 148\n",
      "train loss: 0.1865, accuracy: 0.9333\n",
      "test loss: 0.2080, accuracy: 0.9267\n",
      "epoch: 149\n",
      "train loss: 0.1825, accuracy: 0.9367\n",
      "test loss: 0.2285, accuracy: 0.8967\n",
      "epoch: 150\n",
      "train loss: 0.1890, accuracy: 0.9233\n",
      "test loss: 0.2152, accuracy: 0.9067\n",
      "epoch: 151\n",
      "train loss: 0.1828, accuracy: 0.9400\n",
      "test loss: 0.2042, accuracy: 0.9300\n",
      "epoch: 152\n",
      "train loss: 0.1807, accuracy: 0.9467\n",
      "test loss: 0.2136, accuracy: 0.9067\n",
      "epoch: 153\n",
      "train loss: 0.1795, accuracy: 0.9333\n",
      "test loss: 0.2076, accuracy: 0.9033\n",
      "epoch: 154\n",
      "train loss: 0.1797, accuracy: 0.9300\n",
      "test loss: 0.2052, accuracy: 0.9200\n",
      "epoch: 155\n",
      "train loss: 0.1816, accuracy: 0.9400\n",
      "test loss: 0.2015, accuracy: 0.9233\n",
      "epoch: 156\n",
      "train loss: 0.1791, accuracy: 0.9300\n",
      "test loss: 0.2012, accuracy: 0.9333\n",
      "epoch: 157\n",
      "train loss: 0.1791, accuracy: 0.9367\n",
      "test loss: 0.1978, accuracy: 0.9267\n",
      "epoch: 158\n",
      "train loss: 0.1751, accuracy: 0.9400\n",
      "test loss: 0.2046, accuracy: 0.9033\n",
      "epoch: 159\n",
      "train loss: 0.1719, accuracy: 0.9433\n",
      "test loss: 0.2039, accuracy: 0.9067\n",
      "epoch: 160\n",
      "train loss: 0.1730, accuracy: 0.9433\n",
      "test loss: 0.1963, accuracy: 0.9300\n",
      "epoch: 161\n",
      "train loss: 0.1690, accuracy: 0.9467\n",
      "test loss: 0.1973, accuracy: 0.9267\n",
      "epoch: 162\n",
      "train loss: 0.1676, accuracy: 0.9567\n",
      "test loss: 0.1951, accuracy: 0.9400\n",
      "epoch: 163\n",
      "train loss: 0.1734, accuracy: 0.9433\n",
      "test loss: 0.1941, accuracy: 0.9300\n",
      "epoch: 164\n",
      "train loss: 0.1725, accuracy: 0.9233\n",
      "test loss: 0.1922, accuracy: 0.9367\n",
      "epoch: 165\n",
      "train loss: 0.1665, accuracy: 0.9433\n",
      "test loss: 0.1951, accuracy: 0.9233\n",
      "epoch: 166\n",
      "train loss: 0.1698, accuracy: 0.9433\n",
      "test loss: 0.1907, accuracy: 0.9333\n",
      "epoch: 167\n",
      "train loss: 0.1737, accuracy: 0.9300\n",
      "test loss: 0.1923, accuracy: 0.9300\n",
      "epoch: 168\n",
      "train loss: 0.1661, accuracy: 0.9367\n",
      "test loss: 0.1944, accuracy: 0.9300\n",
      "epoch: 169\n",
      "train loss: 0.1635, accuracy: 0.9567\n",
      "test loss: 0.1894, accuracy: 0.9233\n",
      "epoch: 170\n",
      "train loss: 0.1688, accuracy: 0.9400\n",
      "test loss: 0.1878, accuracy: 0.9300\n",
      "epoch: 171\n",
      "train loss: 0.1675, accuracy: 0.9300\n",
      "test loss: 0.1899, accuracy: 0.9367\n",
      "epoch: 172\n",
      "train loss: 0.1602, accuracy: 0.9500\n",
      "test loss: 0.1859, accuracy: 0.9400\n",
      "epoch: 173\n",
      "train loss: 0.1644, accuracy: 0.9433\n",
      "test loss: 0.1901, accuracy: 0.9267\n",
      "epoch: 174\n",
      "train loss: 0.1597, accuracy: 0.9500\n",
      "test loss: 0.1878, accuracy: 0.9267\n",
      "epoch: 175\n",
      "train loss: 0.1599, accuracy: 0.9400\n",
      "test loss: 0.1840, accuracy: 0.9367\n",
      "epoch: 176\n",
      "train loss: 0.1612, accuracy: 0.9533\n",
      "test loss: 0.1909, accuracy: 0.9200\n",
      "epoch: 177\n",
      "train loss: 0.1582, accuracy: 0.9500\n",
      "test loss: 0.1829, accuracy: 0.9433\n",
      "epoch: 178\n",
      "train loss: 0.1599, accuracy: 0.9433\n",
      "test loss: 0.1847, accuracy: 0.9333\n",
      "epoch: 179\n",
      "train loss: 0.1541, accuracy: 0.9400\n",
      "test loss: 0.1892, accuracy: 0.9267\n",
      "epoch: 180\n",
      "train loss: 0.1539, accuracy: 0.9500\n",
      "test loss: 0.1814, accuracy: 0.9367\n",
      "epoch: 181\n",
      "train loss: 0.1572, accuracy: 0.9400\n",
      "test loss: 0.1960, accuracy: 0.9333\n",
      "epoch: 182\n",
      "train loss: 0.1612, accuracy: 0.9400\n",
      "test loss: 0.1824, accuracy: 0.9367\n",
      "epoch: 183\n",
      "train loss: 0.1533, accuracy: 0.9533\n",
      "test loss: 0.1836, accuracy: 0.9233\n",
      "epoch: 184\n",
      "train loss: 0.1526, accuracy: 0.9533\n",
      "test loss: 0.1787, accuracy: 0.9433\n",
      "epoch: 185\n",
      "train loss: 0.1530, accuracy: 0.9533\n",
      "test loss: 0.1892, accuracy: 0.9100\n",
      "epoch: 186\n",
      "train loss: 0.1558, accuracy: 0.9433\n",
      "test loss: 0.1840, accuracy: 0.9267\n",
      "epoch: 187\n",
      "train loss: 0.1559, accuracy: 0.9400\n",
      "test loss: 0.1775, accuracy: 0.9367\n",
      "epoch: 188\n",
      "train loss: 0.1513, accuracy: 0.9500\n",
      "test loss: 0.1775, accuracy: 0.9367\n",
      "epoch: 189\n",
      "train loss: 0.1491, accuracy: 0.9533\n",
      "test loss: 0.1850, accuracy: 0.9267\n",
      "epoch: 190\n",
      "train loss: 0.1488, accuracy: 0.9500\n",
      "test loss: 0.1790, accuracy: 0.9333\n",
      "epoch: 191\n",
      "train loss: 0.1499, accuracy: 0.9467\n",
      "test loss: 0.1755, accuracy: 0.9400\n",
      "epoch: 192\n",
      "train loss: 0.1469, accuracy: 0.9433\n",
      "test loss: 0.1788, accuracy: 0.9267\n",
      "epoch: 193\n",
      "train loss: 0.1528, accuracy: 0.9433\n",
      "test loss: 0.1769, accuracy: 0.9367\n",
      "epoch: 194\n",
      "train loss: 0.1482, accuracy: 0.9433\n",
      "test loss: 0.1737, accuracy: 0.9467\n",
      "epoch: 195\n",
      "train loss: 0.1425, accuracy: 0.9533\n",
      "test loss: 0.1770, accuracy: 0.9333\n",
      "epoch: 196\n",
      "train loss: 0.1493, accuracy: 0.9433\n",
      "test loss: 0.1757, accuracy: 0.9300\n",
      "epoch: 197\n",
      "train loss: 0.1436, accuracy: 0.9467\n",
      "test loss: 0.1752, accuracy: 0.9300\n",
      "epoch: 198\n",
      "train loss: 0.1449, accuracy: 0.9433\n",
      "test loss: 0.1721, accuracy: 0.9433\n",
      "epoch: 199\n",
      "train loss: 0.1456, accuracy: 0.9467\n",
      "test loss: 0.1734, accuracy: 0.9300\n",
      "epoch: 200\n",
      "train loss: 0.1447, accuracy: 0.9500\n",
      "test loss: 0.1710, accuracy: 0.9433\n",
      "epoch: 201\n",
      "train loss: 0.1426, accuracy: 0.9500\n",
      "test loss: 0.1707, accuracy: 0.9433\n",
      "epoch: 202\n",
      "train loss: 0.1406, accuracy: 0.9600\n",
      "test loss: 0.1733, accuracy: 0.9400\n",
      "epoch: 203\n",
      "train loss: 0.1388, accuracy: 0.9667\n",
      "test loss: 0.1760, accuracy: 0.9333\n",
      "epoch: 204\n",
      "train loss: 0.1427, accuracy: 0.9433\n",
      "test loss: 0.1696, accuracy: 0.9467\n",
      "epoch: 205\n",
      "train loss: 0.1403, accuracy: 0.9567\n",
      "test loss: 0.1754, accuracy: 0.9433\n",
      "epoch: 206\n",
      "train loss: 0.1436, accuracy: 0.9400\n",
      "test loss: 0.1698, accuracy: 0.9433\n",
      "epoch: 207\n",
      "train loss: 0.1410, accuracy: 0.9567\n",
      "test loss: 0.1723, accuracy: 0.9333\n",
      "epoch: 208\n",
      "train loss: 0.1418, accuracy: 0.9567\n",
      "test loss: 0.1685, accuracy: 0.9400\n",
      "epoch: 209\n",
      "train loss: 0.1408, accuracy: 0.9467\n",
      "test loss: 0.1695, accuracy: 0.9367\n",
      "epoch: 210\n",
      "train loss: 0.1382, accuracy: 0.9533\n",
      "test loss: 0.1676, accuracy: 0.9467\n",
      "epoch: 211\n",
      "train loss: 0.1359, accuracy: 0.9633\n",
      "test loss: 0.1815, accuracy: 0.9367\n",
      "epoch: 212\n",
      "train loss: 0.1377, accuracy: 0.9600\n",
      "test loss: 0.1677, accuracy: 0.9433\n",
      "epoch: 213\n",
      "train loss: 0.1350, accuracy: 0.9467\n",
      "test loss: 0.1669, accuracy: 0.9467\n",
      "epoch: 214\n",
      "train loss: 0.1340, accuracy: 0.9600\n",
      "test loss: 0.1727, accuracy: 0.9367\n",
      "epoch: 215\n",
      "train loss: 0.1425, accuracy: 0.9567\n",
      "test loss: 0.1654, accuracy: 0.9467\n",
      "epoch: 216\n",
      "train loss: 0.1404, accuracy: 0.9533\n",
      "test loss: 0.1685, accuracy: 0.9333\n",
      "epoch: 217\n",
      "train loss: 0.1349, accuracy: 0.9567\n",
      "test loss: 0.1688, accuracy: 0.9367\n",
      "epoch: 218\n",
      "train loss: 0.1410, accuracy: 0.9533\n",
      "test loss: 0.1678, accuracy: 0.9300\n",
      "epoch: 219\n",
      "train loss: 0.1342, accuracy: 0.9533\n",
      "test loss: 0.1663, accuracy: 0.9400\n",
      "epoch: 220\n",
      "train loss: 0.1361, accuracy: 0.9500\n",
      "test loss: 0.1649, accuracy: 0.9433\n",
      "epoch: 221\n",
      "train loss: 0.1361, accuracy: 0.9500\n",
      "test loss: 0.1632, accuracy: 0.9533\n",
      "epoch: 222\n",
      "train loss: 0.1318, accuracy: 0.9633\n",
      "test loss: 0.1661, accuracy: 0.9433\n",
      "epoch: 223\n",
      "train loss: 0.1345, accuracy: 0.9567\n",
      "test loss: 0.1629, accuracy: 0.9467\n",
      "epoch: 224\n",
      "train loss: 0.1319, accuracy: 0.9600\n",
      "test loss: 0.1629, accuracy: 0.9533\n",
      "epoch: 225\n",
      "train loss: 0.1334, accuracy: 0.9533\n",
      "test loss: 0.1620, accuracy: 0.9500\n",
      "epoch: 226\n",
      "train loss: 0.1339, accuracy: 0.9633\n",
      "test loss: 0.1675, accuracy: 0.9367\n",
      "epoch: 227\n",
      "train loss: 0.1364, accuracy: 0.9467\n",
      "test loss: 0.1613, accuracy: 0.9467\n",
      "epoch: 228\n",
      "train loss: 0.1319, accuracy: 0.9533\n",
      "test loss: 0.1616, accuracy: 0.9467\n",
      "epoch: 229\n",
      "train loss: 0.1301, accuracy: 0.9600\n",
      "test loss: 0.1640, accuracy: 0.9300\n",
      "epoch: 230\n",
      "train loss: 0.1298, accuracy: 0.9467\n",
      "test loss: 0.1656, accuracy: 0.9333\n",
      "epoch: 231\n",
      "train loss: 0.1289, accuracy: 0.9567\n",
      "test loss: 0.1633, accuracy: 0.9500\n",
      "epoch: 232\n",
      "train loss: 0.1276, accuracy: 0.9600\n",
      "test loss: 0.1632, accuracy: 0.9433\n",
      "epoch: 233\n",
      "train loss: 0.1269, accuracy: 0.9567\n",
      "test loss: 0.1675, accuracy: 0.9333\n",
      "epoch: 234\n",
      "train loss: 0.1311, accuracy: 0.9600\n",
      "test loss: 0.1630, accuracy: 0.9433\n",
      "epoch: 235\n",
      "train loss: 0.1335, accuracy: 0.9500\n",
      "test loss: 0.1602, accuracy: 0.9467\n",
      "epoch: 236\n",
      "train loss: 0.1275, accuracy: 0.9633\n",
      "test loss: 0.1596, accuracy: 0.9500\n",
      "epoch: 237\n",
      "train loss: 0.1227, accuracy: 0.9633\n",
      "test loss: 0.1619, accuracy: 0.9467\n",
      "epoch: 238\n",
      "train loss: 0.1275, accuracy: 0.9600\n",
      "test loss: 0.1588, accuracy: 0.9433\n",
      "epoch: 239\n",
      "train loss: 0.1270, accuracy: 0.9533\n",
      "test loss: 0.1657, accuracy: 0.9367\n",
      "epoch: 240\n",
      "train loss: 0.1251, accuracy: 0.9500\n",
      "test loss: 0.1583, accuracy: 0.9433\n",
      "epoch: 241\n",
      "train loss: 0.1273, accuracy: 0.9533\n",
      "test loss: 0.1589, accuracy: 0.9500\n",
      "epoch: 242\n",
      "train loss: 0.1268, accuracy: 0.9567\n",
      "test loss: 0.1584, accuracy: 0.9500\n",
      "epoch: 243\n",
      "train loss: 0.1242, accuracy: 0.9633\n",
      "test loss: 0.1580, accuracy: 0.9433\n",
      "epoch: 244\n",
      "train loss: 0.1232, accuracy: 0.9633\n",
      "test loss: 0.1642, accuracy: 0.9433\n",
      "epoch: 245\n",
      "train loss: 0.1247, accuracy: 0.9600\n",
      "test loss: 0.1562, accuracy: 0.9500\n",
      "epoch: 246\n",
      "train loss: 0.1273, accuracy: 0.9567\n",
      "test loss: 0.1555, accuracy: 0.9500\n",
      "epoch: 247\n",
      "train loss: 0.1305, accuracy: 0.9500\n",
      "test loss: 0.1552, accuracy: 0.9533\n",
      "epoch: 248\n",
      "train loss: 0.1274, accuracy: 0.9500\n",
      "test loss: 0.1579, accuracy: 0.9467\n",
      "epoch: 249\n",
      "train loss: 0.1282, accuracy: 0.9500\n",
      "test loss: 0.1589, accuracy: 0.9500\n",
      "epoch: 250\n",
      "train loss: 0.1286, accuracy: 0.9600\n",
      "test loss: 0.1548, accuracy: 0.9533\n",
      "epoch: 251\n",
      "train loss: 0.1251, accuracy: 0.9667\n",
      "test loss: 0.1566, accuracy: 0.9400\n",
      "epoch: 252\n",
      "train loss: 0.1213, accuracy: 0.9533\n",
      "test loss: 0.1615, accuracy: 0.9167\n",
      "epoch: 253\n",
      "train loss: 0.1232, accuracy: 0.9633\n",
      "test loss: 0.1588, accuracy: 0.9433\n",
      "epoch: 254\n",
      "train loss: 0.1238, accuracy: 0.9567\n",
      "test loss: 0.1564, accuracy: 0.9400\n",
      "epoch: 255\n",
      "train loss: 0.1212, accuracy: 0.9633\n",
      "test loss: 0.1571, accuracy: 0.9533\n",
      "epoch: 256\n",
      "train loss: 0.1261, accuracy: 0.9600\n",
      "test loss: 0.1546, accuracy: 0.9433\n",
      "epoch: 257\n",
      "train loss: 0.1238, accuracy: 0.9600\n",
      "test loss: 0.1575, accuracy: 0.9533\n",
      "epoch: 258\n",
      "train loss: 0.1224, accuracy: 0.9633\n",
      "test loss: 0.1583, accuracy: 0.9333\n",
      "epoch: 259\n",
      "train loss: 0.1239, accuracy: 0.9533\n",
      "test loss: 0.1534, accuracy: 0.9467\n",
      "epoch: 260\n",
      "train loss: 0.1288, accuracy: 0.9567\n",
      "test loss: 0.1522, accuracy: 0.9500\n",
      "epoch: 261\n",
      "train loss: 0.1245, accuracy: 0.9567\n",
      "test loss: 0.1530, accuracy: 0.9500\n",
      "epoch: 262\n",
      "train loss: 0.1225, accuracy: 0.9600\n",
      "test loss: 0.1549, accuracy: 0.9433\n",
      "epoch: 263\n",
      "train loss: 0.1193, accuracy: 0.9533\n",
      "test loss: 0.1523, accuracy: 0.9533\n",
      "epoch: 264\n",
      "train loss: 0.1177, accuracy: 0.9633\n",
      "test loss: 0.1553, accuracy: 0.9433\n",
      "epoch: 265\n",
      "train loss: 0.1140, accuracy: 0.9633\n",
      "test loss: 0.1566, accuracy: 0.9500\n",
      "epoch: 266\n",
      "train loss: 0.1210, accuracy: 0.9500\n",
      "test loss: 0.1507, accuracy: 0.9533\n",
      "epoch: 267\n",
      "train loss: 0.1224, accuracy: 0.9567\n",
      "test loss: 0.1511, accuracy: 0.9500\n",
      "epoch: 268\n",
      "train loss: 0.1234, accuracy: 0.9500\n",
      "test loss: 0.1504, accuracy: 0.9533\n",
      "epoch: 269\n",
      "train loss: 0.1163, accuracy: 0.9567\n",
      "test loss: 0.1511, accuracy: 0.9500\n",
      "epoch: 270\n",
      "train loss: 0.1191, accuracy: 0.9567\n",
      "test loss: 0.1507, accuracy: 0.9533\n",
      "epoch: 271\n",
      "train loss: 0.1187, accuracy: 0.9567\n",
      "test loss: 0.1543, accuracy: 0.9367\n",
      "epoch: 272\n",
      "train loss: 0.1182, accuracy: 0.9633\n",
      "test loss: 0.1567, accuracy: 0.9267\n",
      "epoch: 273\n",
      "train loss: 0.1137, accuracy: 0.9567\n",
      "test loss: 0.1490, accuracy: 0.9533\n",
      "epoch: 274\n",
      "train loss: 0.1205, accuracy: 0.9467\n",
      "test loss: 0.1541, accuracy: 0.9400\n",
      "epoch: 275\n",
      "train loss: 0.1159, accuracy: 0.9633\n",
      "test loss: 0.1508, accuracy: 0.9467\n",
      "epoch: 276\n",
      "train loss: 0.1151, accuracy: 0.9633\n",
      "test loss: 0.1518, accuracy: 0.9533\n",
      "epoch: 277\n",
      "train loss: 0.1166, accuracy: 0.9633\n",
      "test loss: 0.1578, accuracy: 0.9233\n",
      "epoch: 278\n",
      "train loss: 0.1172, accuracy: 0.9667\n",
      "test loss: 0.1548, accuracy: 0.9400\n",
      "epoch: 279\n",
      "train loss: 0.1134, accuracy: 0.9633\n",
      "test loss: 0.1499, accuracy: 0.9533\n",
      "epoch: 280\n",
      "train loss: 0.1162, accuracy: 0.9533\n",
      "test loss: 0.1506, accuracy: 0.9500\n",
      "epoch: 281\n",
      "train loss: 0.1189, accuracy: 0.9700\n",
      "test loss: 0.1478, accuracy: 0.9567\n",
      "epoch: 282\n",
      "train loss: 0.1188, accuracy: 0.9600\n",
      "test loss: 0.1484, accuracy: 0.9533\n"
     ]
    },
    {
     "name": "stdout",
     "output_type": "stream",
     "text": [
      "epoch: 283\n",
      "train loss: 0.1142, accuracy: 0.9667\n",
      "test loss: 0.1524, accuracy: 0.9433\n",
      "epoch: 284\n",
      "train loss: 0.1123, accuracy: 0.9700\n",
      "test loss: 0.1500, accuracy: 0.9433\n",
      "epoch: 285\n",
      "train loss: 0.1192, accuracy: 0.9600\n",
      "test loss: 0.1508, accuracy: 0.9467\n",
      "epoch: 286\n",
      "train loss: 0.1114, accuracy: 0.9600\n",
      "test loss: 0.1471, accuracy: 0.9533\n",
      "epoch: 287\n",
      "train loss: 0.1109, accuracy: 0.9633\n",
      "test loss: 0.1481, accuracy: 0.9567\n",
      "epoch: 288\n",
      "train loss: 0.1143, accuracy: 0.9533\n",
      "test loss: 0.1534, accuracy: 0.9467\n",
      "epoch: 289\n",
      "train loss: 0.1126, accuracy: 0.9600\n",
      "test loss: 0.1486, accuracy: 0.9500\n",
      "epoch: 290\n",
      "train loss: 0.1125, accuracy: 0.9733\n",
      "test loss: 0.1485, accuracy: 0.9533\n",
      "epoch: 291\n",
      "train loss: 0.1136, accuracy: 0.9700\n",
      "test loss: 0.1472, accuracy: 0.9500\n",
      "epoch: 292\n",
      "train loss: 0.1130, accuracy: 0.9600\n",
      "test loss: 0.1495, accuracy: 0.9433\n",
      "epoch: 293\n",
      "train loss: 0.1118, accuracy: 0.9700\n",
      "test loss: 0.1456, accuracy: 0.9533\n",
      "epoch: 294\n",
      "train loss: 0.1111, accuracy: 0.9600\n",
      "test loss: 0.1591, accuracy: 0.9367\n",
      "epoch: 295\n",
      "train loss: 0.1170, accuracy: 0.9533\n",
      "test loss: 0.1451, accuracy: 0.9533\n",
      "epoch: 296\n",
      "train loss: 0.1115, accuracy: 0.9567\n",
      "test loss: 0.1459, accuracy: 0.9567\n",
      "epoch: 297\n",
      "train loss: 0.1096, accuracy: 0.9667\n",
      "test loss: 0.1464, accuracy: 0.9533\n",
      "epoch: 298\n",
      "train loss: 0.1128, accuracy: 0.9500\n",
      "test loss: 0.1476, accuracy: 0.9533\n",
      "epoch: 299\n",
      "train loss: 0.1090, accuracy: 0.9633\n",
      "test loss: 0.1471, accuracy: 0.9467\n",
      "epoch: 300\n",
      "train loss: 0.1082, accuracy: 0.9667\n",
      "test loss: 0.1458, accuracy: 0.9600\n"
     ]
    }
   ],
   "source": [
    "import numpy as np\n",
    "import dezero\n",
    "from dezero import Variable\n",
    "from dezero import DataLoader\n",
    "from dezero.models import MLP\n",
    "from dezero import optimizers\n",
    "import dezero.functions as F\n",
    "\n",
    "max_epoch = 300\n",
    "batch_size = 30\n",
    "hidden_size = 10\n",
    "lr = 1.0\n",
    "\n",
    "train_set = dezero.datasets.Spiral(train=True)\n",
    "test_set = dezero.datasets.Spiral(train=False)\n",
    "train_loader = DataLoader(train_set, batch_size)\n",
    "test_loader = DataLoader(test_set, batch_size, shuffle=False)\n",
    "\n",
    "model = MLP((hidden_size, 3))\n",
    "optimizer = optimizers.SGD(lr).setup(model)\n",
    "\n",
    "for epoch in range(max_epoch):\n",
    "    sum_loss, sum_acc = 0, 0\n",
    "    \n",
    "    for x, t in train_loader: # 1. 훈련용 미니배치 데이터\n",
    "        y = model(x)\n",
    "        loss = F.softmax_cross_entropy(y, t)\n",
    "        acc = F.accuracy(y, t) # 2. 훈련 데이터의 인식 정확도\n",
    "        model.cleargrads()\n",
    "        loss.backward()\n",
    "        optimizer.update()\n",
    "        sum_loss += float(loss.data) * len(t)\n",
    "        sum_acc += float(acc.data) * len(t)\n",
    "        \n",
    "        \n",
    "    print('epoch: {}'.format(epoch + 1))\n",
    "    print('train loss: {:.4f}, accuracy: {:.4f}'.format(\n",
    "        sum_loss / len(train_set), sum_acc / len(train_set)))\n",
    "    \n",
    "    sum_loss, sum_acc = 0, 0\n",
    "    with dezero.no_grad(): # 3. 기울기 불필요 모드\n",
    "        for x, t in test_loader: # 4. 테스트용 미니배치 데이터\n",
    "            y = model(x)\n",
    "            loss = F.softmax_cross_entropy(y, t)\n",
    "            acc = F.accuracy(y, t) # 5. 테스트 데이터의 인식 정확도\n",
    "            sum_loss += float(loss.data) * len(t)\n",
    "            sum_acc += float(acc.data) * len(t)\n",
    "            \n",
    "    print('test loss: {:.4f}, accuracy: {:.4f}'.format(\n",
    "        sum_loss / len(test_set), sum_acc / len(test_set)))"
   ]
  },
  {
   "cell_type": "markdown",
   "id": "72042dff",
   "metadata": {},
   "source": [
    "에포크가 진행됨에 따라 손실이 낮아지고 인식 정확도는 상승함  \n",
    "훈련과 테스트의 차이가 작으므로 모델이 과적합을 일으키지 않은 것을 알 수 있음"
   ]
  },
  {
   "cell_type": "markdown",
   "id": "44992b01",
   "metadata": {},
   "source": [
    "# 51단계 MNIST 학습"
   ]
  },
  {
   "cell_type": "markdown",
   "id": "ac54acc8",
   "metadata": {},
   "source": [
    "MNIST 데이터셋은 0\\~9까지 숫자를 나타내는 손글씨 이미지 데이터로, \n",
    "입력 데이터 형상은 (1, 28, 28), 즉 1채널(그레이스케일)의 28$\\times$28 픽셀 이미지 데이터이며,\n",
    "레이블에는 정답 숫자의 인덱스(0\\~9)가 들어 있음"
   ]
  },
  {
   "cell_type": "code",
   "execution_count": 1,
   "id": "4f3e7a96",
   "metadata": {},
   "outputs": [
    {
     "name": "stdout",
     "output_type": "stream",
     "text": [
      "Downloading: train-images-idx3-ubyte.gz\n",
      "[##############################] 100.00% Done\n",
      "Downloading: train-labels-idx1-ubyte.gz\n",
      "[##############################] 100.00% Done\n",
      "Downloading: t10k-images-idx3-ubyte.gz\n",
      "[##############################] 100.00% Done\n",
      "Downloading: t10k-labels-idx1-ubyte.gz\n",
      "[##############################] 100.00% Done\n",
      "60000\n",
      "10000\n"
     ]
    }
   ],
   "source": [
    "import dezero\n",
    "\n",
    "train_set = dezero.datasets.MNIST(train=True, transform=None)\n",
    "test_set = dezero.datasets.MNIST(train=False, transform=None)\n",
    "\n",
    "print(len(train_set))\n",
    "print(len(test_set))"
   ]
  },
  {
   "cell_type": "code",
   "execution_count": 2,
   "id": "423627aa",
   "metadata": {},
   "outputs": [
    {
     "name": "stdout",
     "output_type": "stream",
     "text": [
      "<class 'numpy.ndarray'> (1, 28, 28)\n",
      "5\n"
     ]
    }
   ],
   "source": [
    "x, t = train_set[0]\n",
    "print(type(x), x.shape)\n",
    "print(t)"
   ]
  },
  {
   "cell_type": "markdown",
   "id": "618d5943",
   "metadata": {},
   "source": [
    "입력 데이터 시각화"
   ]
  },
  {
   "cell_type": "code",
   "execution_count": 3,
   "id": "eafdebcf",
   "metadata": {},
   "outputs": [
    {
     "data": {
      "image/png": "[encoded data removed]",
      "text/plain": [
       "<Figure size 432x288 with 1 Axes>"
      ]
     },
     "metadata": {
      "needs_background": "light"
     },
     "output_type": "display_data"
    },
    {
     "name": "stdout",
     "output_type": "stream",
     "text": [
      "label: 5\n"
     ]
    }
   ],
   "source": [
    "import matplotlib.pyplot as plt\n",
    "\n",
    "# 데이터 예시\n",
    "x, t = train_set[0] # 0번째(data, label) 추출\n",
    "plt.imshow(x.reshape(28, 28), cmap='gray')\n",
    "plt.axis('off')\n",
    "plt.show()\n",
    "print('label:',t)"
   ]
  },
  {
   "cell_type": "markdown",
   "id": "a5142108",
   "metadata": {},
   "source": [
    "데이터 전처리"
   ]
  },
  {
   "cell_type": "code",
   "execution_count": 5,
   "id": "aad4e324",
   "metadata": {},
   "outputs": [],
   "source": [
    "def f(x):\n",
    "    x = x.flatten() # 입력 데이터를 1열로 나열(평탄화) -> (784,) 형상\n",
    "    x = x.astype(np.float32)\n",
    "    x /= 255.0 # 0.0 ~ 1.0 사이 부동소수점\n",
    "    return x\n",
    "\n",
    "train_set = dezero.datasets.MNIST(train=True, transform=f)\n",
    "test_set = dezero.datasets.MNIST(train=False, transform=f)"
   ]
  },
  {
   "cell_type": "markdown",
   "id": "92adfe69",
   "metadata": {},
   "source": [
    "MNIST 클래스는 위 전처리가 기본으로 설정되어 있어 호출하면 자동으로 수행됨"
   ]
  },
  {
   "cell_type": "markdown",
   "id": "a0a89c2b",
   "metadata": {},
   "source": [
    "MNIST 학습"
   ]
  },
  {
   "cell_type": "code",
   "execution_count": 7,
   "id": "cefba0d4",
   "metadata": {},
   "outputs": [
    {
     "name": "stdout",
     "output_type": "stream",
     "text": [
      "epoch: 1\n",
      "train loss: 1.9288, accuracy: 0.5452\n",
      "test loss: 1.5528, accuracy: 0.7374\n",
      "epoch: 2\n",
      "train loss: 1.2940, accuracy: 0.7671\n",
      "test loss: 1.0518, accuracy: 0.8122\n",
      "epoch: 3\n",
      "train loss: 0.9306, accuracy: 0.8143\n",
      "test loss: 0.7999, accuracy: 0.8352\n",
      "epoch: 4\n",
      "train loss: 0.7443, accuracy: 0.8384\n",
      "test loss: 0.6604, accuracy: 0.8527\n",
      "epoch: 5\n",
      "train loss: 0.6383, accuracy: 0.8521\n",
      "test loss: 0.5795, accuracy: 0.8673\n"
     ]
    }
   ],
   "source": [
    "import numpy as np\n",
    "import dezero\n",
    "from dezero import Variable\n",
    "from dezero import DataLoader\n",
    "from dezero.models import MLP\n",
    "from dezero import optimizers\n",
    "import dezero.functions as F\n",
    "\n",
    "\n",
    "max_epoch = 5\n",
    "batch_size = 100\n",
    "hidden_size = 1000\n",
    "\n",
    "train_set = dezero.datasets.MNIST(train=True)\n",
    "test_set = dezero.datasets.MNIST(train=False)\n",
    "train_loader = DataLoader(train_set, batch_size)\n",
    "test_loader = DataLoader(test_set, batch_size, shuffle=False)\n",
    "\n",
    "model = MLP((hidden_size, 10))\n",
    "optimizer = optimizers.SGD().setup(model)\n",
    "\n",
    "for epoch in range(max_epoch):\n",
    "    sum_loss, sum_acc = 0, 0\n",
    "    \n",
    "    for x, t in train_loader:\n",
    "        y = model(x)\n",
    "        loss = F.softmax_cross_entropy(y, t)\n",
    "        acc = F.accuracy(y, t)\n",
    "        model.cleargrads()\n",
    "        loss.backward()\n",
    "        optimizer.update()\n",
    "        \n",
    "        sum_loss += float(loss.data) * len(t)\n",
    "        sum_acc += float(acc.data) * len(t)\n",
    "        \n",
    "    print('epoch: {}'.format(epoch+1))\n",
    "    print('train loss: {:.4f}, accuracy: {:.4f}'.format(\n",
    "        sum_loss / len(train_set), sum_acc / len(train_set)))\n",
    "    \n",
    "    sum_loss, sum_acc = 0, 0\n",
    "    with dezero.no_grad():\n",
    "        for x, t in test_loader:\n",
    "            y = model(x)\n",
    "            loss = F.softmax_cross_entropy(y, t)\n",
    "            acc = F.accuracy(y, t)\n",
    "            sum_loss += float(loss.data) * len(t)\n",
    "            sum_acc += float(acc.data) * len(t)\n",
    "            \n",
    "    print('test loss: {:.4f}, accuracy: {:.4f}'.format(\n",
    "        sum_loss / len(test_set), sum_acc / len(test_set)))"
   ]
  },
  {
   "cell_type": "markdown",
   "id": "c77c7b14",
   "metadata": {},
   "source": [
    "모델 개선  \n",
    "  \n",
    "1. 활성화 함수 : 시그모이드 함수 $\\rightarrow$ ReLU 함수  \n",
    "  \n",
    "    여기서, ReLU(rectified linear unit) 함수는 입력이 0보다 크면 그대로 출력하고, 0 이하면 0을 출력하는 함수이며,  역전파에서는 순전파 시 신호를 통과시킨 원소라면 해당 역전파 시 기울기를 그대로 통과시키고, 순전파 시 신호가 막힌 원소(0 이하)는 기울기도 0이 됨  \n",
    "    $h(x)= \\Bigg\\{ \\begin{matrix} x (x>0)\\\\\n",
    "    0 (x\\geq0) \\end{matrix}$  \n",
    "  \n",
    "~~~python\n",
    "class ReLU(Function):\n",
    "    def forward(self, x):\n",
    "        y = np.maximum(x, 0.0) \n",
    "        return y\n",
    "    \n",
    "    def backward(self, gy):\n",
    "        x, = self.inputs\n",
    "        mask = x.data > 0\n",
    "        gx = gy * mask\n",
    "        return gx\n",
    "    \n",
    "def relu(x):\n",
    "    return ReLU()(x)\n",
    "~~~\n",
    "  \n",
    "2. 2층 신경망 $\\rightarrow$ 3층 신경망\n",
    "3. 최적화 기법 : SGD $\\rightarrow$ Adam"
   ]
  },
  {
   "cell_type": "code",
   "execution_count": 1,
   "id": "7ad89184",
   "metadata": {},
   "outputs": [
    {
     "name": "stdout",
     "output_type": "stream",
     "text": [
      "epoch: 1\n",
      "train loss: 0.1916, accuracy: 0.9426\n",
      "test loss: 0.1017, accuracy: 0.9686\n",
      "epoch: 2\n",
      "train loss: 0.0744, accuracy: 0.9766\n",
      "test loss: 0.0825, accuracy: 0.9730\n",
      "epoch: 3\n",
      "train loss: 0.0477, accuracy: 0.9843\n",
      "test loss: 0.0813, accuracy: 0.9755\n",
      "epoch: 4\n",
      "train loss: 0.0354, accuracy: 0.9886\n",
      "test loss: 0.0659, accuracy: 0.9813\n",
      "epoch: 5\n",
      "train loss: 0.0275, accuracy: 0.9912\n",
      "test loss: 0.0740, accuracy: 0.9806\n",
      "epoch: 6\n",
      "train loss: 0.0259, accuracy: 0.9911\n",
      "test loss: 0.0772, accuracy: 0.9808\n",
      "epoch: 7\n",
      "train loss: 0.0217, accuracy: 0.9930\n",
      "test loss: 0.0741, accuracy: 0.9813\n",
      "epoch: 8\n",
      "train loss: 0.0166, accuracy: 0.9948\n",
      "test loss: 0.0737, accuracy: 0.9807\n",
      "epoch: 9\n",
      "train loss: 0.0168, accuracy: 0.9945\n",
      "test loss: 0.0928, accuracy: 0.9792\n",
      "epoch: 10\n",
      "train loss: 0.0146, accuracy: 0.9953\n",
      "test loss: 0.0805, accuracy: 0.9816\n"
     ]
    }
   ],
   "source": [
    "import numpy as np\n",
    "import dezero\n",
    "from dezero import Variable\n",
    "from dezero import DataLoader\n",
    "from dezero.models import MLP\n",
    "from dezero import optimizers\n",
    "import dezero.functions as F\n",
    "\n",
    "\n",
    "max_epoch = 10\n",
    "batch_size = 100\n",
    "hidden_size = 1000\n",
    "\n",
    "train_set = dezero.datasets.MNIST(train=True)\n",
    "test_set = dezero.datasets.MNIST(train=False)\n",
    "train_loader = DataLoader(train_set, batch_size)\n",
    "test_loader = DataLoader(test_set, batch_size, shuffle=False)\n",
    "\n",
    "model = MLP((hidden_size, hidden_size, 10), activation=F.relu)\n",
    "optimizer = optimizers.Adam().setup(model)\n",
    "\n",
    "for epoch in range(max_epoch):\n",
    "    sum_loss, sum_acc = 0, 0\n",
    "    \n",
    "    for x, t in train_loader:\n",
    "        y = model(x)\n",
    "        loss = F.softmax_cross_entropy(y, t)\n",
    "        acc = F.accuracy(y, t)\n",
    "        model.cleargrads()\n",
    "        loss.backward()\n",
    "        optimizer.update()\n",
    "        \n",
    "        sum_loss += float(loss.data) * len(t)\n",
    "        sum_acc += float(acc.data) * len(t)\n",
    "        \n",
    "    print('epoch: {}'.format(epoch+1))\n",
    "    print('train loss: {:.4f}, accuracy: {:.4f}'.format(\n",
    "        sum_loss / len(train_set), sum_acc / len(train_set)))\n",
    "    \n",
    "    sum_loss, sum_acc = 0, 0\n",
    "    with dezero.no_grad():\n",
    "        for x, t in test_loader:\n",
    "            y = model(x)\n",
    "            loss = F.softmax_cross_entropy(y, t)\n",
    "            acc = F.accuracy(y, t)\n",
    "            sum_loss += float(loss.data) * len(t)\n",
    "            sum_acc += float(acc.data) * len(t)\n",
    "            \n",
    "    print('test loss: {:.4f}, accuracy: {:.4f}'.format(\n",
    "        sum_loss / len(test_set), sum_acc / len(test_set)))"
   ]
  },
  {
   "cell_type": "markdown",
   "id": "5db377b3",
   "metadata": {},
   "source": [
    "# APPENDIX B get_item 함수 구현(47단계 보충)"
   ]
  },
  {
   "cell_type": "markdown",
   "id": "d2a83cb8",
   "metadata": {},
   "source": [
    "GetItem 클래스와 get_item 함수 코드  \n",
    "  \n",
    "forward(x) 메서드에서 단순히 원소를 추출함  "
   ]
  },
  {
   "cell_type": "markdown",
   "id": "eef95df8",
   "metadata": {},
   "source": [
    "~~~python \n",
    "class GetItem(Function):\n",
    "    def __init__(self, slices):\n",
    "        self.slices = slices\n",
    "        \n",
    "    def forward(self, x):\n",
    "        y = x[self.slices]\n",
    "        return y\n",
    "    \n",
    "    def backward(self, gy):\n",
    "        x, = self.inputs\n",
    "        f = GetItemGrad(self.slices, x.shape)\n",
    "        return f(gy)\n",
    "    \n",
    "def get_item(x, slices):\n",
    "    return GetItem(slices)(x)\n",
    "~~~"
   ]
  },
  {
   "cell_type": "markdown",
   "id": "94173f78",
   "metadata": {},
   "source": [
    "역전파 계산을 위해 GetItemGrad 클래스 구현  "
   ]
  },
  {
   "cell_type": "markdown",
   "id": "30e40432",
   "metadata": {},
   "source": [
    "~~~python\n",
    "class GetItemGrad(Function):\n",
    "    def __init__(self, slices, in_shape):\n",
    "        self.slices = slices\n",
    "        self.in_shape = in_shape\n",
    "        \n",
    "    def forward(self, gy):\n",
    "        gx = np.zeros(self.in_shape)\n",
    "        np.add.at(gx, self.slices, gy)\n",
    "        return gx\n",
    "    \n",
    "    def backward(self, ggx):\n",
    "        return get_item(ggx, self.slices)\n",
    "~~~"
   ]
  },
  {
   "cell_type": "markdown",
   "id": "de80c829",
   "metadata": {},
   "source": [
    "다차원 배열을 슬라이스하여 여러 원소가 한 번에 추출된 경우 역전파 시 대응하는 기울기를 더해줘야 함  \n",
    "np.add.at 함수로 기울기를 더해줌  \n",
    "np.add.at 사용 예시는 다음과 같음"
   ]
  },
  {
   "cell_type": "code",
   "execution_count": 3,
   "id": "c96d69ef",
   "metadata": {},
   "outputs": [
    {
     "data": {
      "text/plain": [
       "array([[0., 0., 0.],\n",
       "       [0., 0., 0.]])"
      ]
     },
     "execution_count": 3,
     "metadata": {},
     "output_type": "execute_result"
    }
   ],
   "source": [
    "import numpy as np\n",
    "a = np.zeros((2, 3))\n",
    "a"
   ]
  },
  {
   "cell_type": "code",
   "execution_count": 4,
   "id": "06775504",
   "metadata": {},
   "outputs": [
    {
     "data": {
      "text/plain": [
       "array([1., 1., 1.])"
      ]
     },
     "execution_count": 4,
     "metadata": {},
     "output_type": "execute_result"
    }
   ],
   "source": [
    "b = np.ones(3,)\n",
    "b"
   ]
  },
  {
   "cell_type": "code",
   "execution_count": 5,
   "id": "824ef438",
   "metadata": {},
   "outputs": [
    {
     "data": {
      "text/plain": [
       "array([[0., 0., 0.],\n",
       "       [1., 1., 1.]])"
      ]
     },
     "execution_count": 5,
     "metadata": {},
     "output_type": "execute_result"
    }
   ],
   "source": [
    "slices = 1\n",
    "np.add.at(a, slices, b)\n",
    "a"
   ]
  }
 ],
 "metadata": {
  "kernelspec": {
   "display_name": "Python 3 (ipykernel)",
   "language": "python",
   "name": "python3"
  },
  "language_info": {
   "codemirror_mode": {
    "name": "ipython",
    "version": 3
   },
   "file_extension": ".py",
   "mimetype": "text/x-python",
   "name": "python",
   "nbconvert_exporter": "python",
   "pygments_lexer": "ipython3",
   "version": "3.8.2"
  }
 },
 "nbformat": 4,
 "nbformat_minor": 5
}
