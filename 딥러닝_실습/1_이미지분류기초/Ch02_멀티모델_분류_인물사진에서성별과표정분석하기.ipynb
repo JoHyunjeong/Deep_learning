{
  "nbformat": 4,
  "nbformat_minor": 0,
  "metadata": {
    "colab": {
      "name": "[실습]Part1_Ch02_멀티모델 분류 - 인물 사진에서 성별과 표정 분석하기.ipynb",
      "provenance": [],
      "collapsed_sections": [],
      "include_colab_link": true
    },
    "kernelspec": {
      "name": "python3",
      "display_name": "Python 3"
    },
    "accelerator": "GPU",
    "widgets": {
      "application/vnd.jupyter.widget-state+json": {
        "9fd5c47432af42e0a8476d022b277759": {
          "model_module": "@jupyter-widgets/controls",
          "model_name": "HBoxModel",
          "model_module_version": "1.5.0",
          "state": {
            "_view_name": "HBoxView",
            "_dom_classes": [],
            "_model_name": "HBoxModel",
            "_view_module": "@jupyter-widgets/controls",
            "_model_module_version": "1.5.0",
            "_view_count": null,
            "_view_module_version": "1.5.0",
            "box_style": "",
            "layout": "IPY_MODEL_b463fe78350043638fa535d6deafd734",
            "_model_module": "@jupyter-widgets/controls",
            "children": [
              "IPY_MODEL_4bdccdb3337f4c28b22790523608c04a",
              "IPY_MODEL_3a0de42c57934ee2a1a56cde56c2944e",
              "IPY_MODEL_ad51ad4a6281456182affd8dc819dacc"
            ]
          }
        },
        "b463fe78350043638fa535d6deafd734": {
          "model_module": "@jupyter-widgets/base",
          "model_name": "LayoutModel",
          "model_module_version": "1.2.0",
          "state": {
            "_view_name": "LayoutView",
            "grid_template_rows": null,
            "right": null,
            "justify_content": null,
            "_view_module": "@jupyter-widgets/base",
            "overflow": null,
            "_model_module_version": "1.2.0",
            "_view_count": null,
            "flex_flow": null,
            "width": null,
            "min_width": null,
            "border": null,
            "align_items": null,
            "bottom": null,
            "_model_module": "@jupyter-widgets/base",
            "top": null,
            "grid_column": null,
            "overflow_y": null,
            "overflow_x": null,
            "grid_auto_flow": null,
            "grid_area": null,
            "grid_template_columns": null,
            "flex": null,
            "_model_name": "LayoutModel",
            "justify_items": null,
            "grid_row": null,
            "max_height": null,
            "align_content": null,
            "visibility": null,
            "align_self": null,
            "height": null,
            "min_height": null,
            "padding": null,
            "grid_auto_rows": null,
            "grid_gap": null,
            "max_width": null,
            "order": null,
            "_view_module_version": "1.2.0",
            "grid_template_areas": null,
            "object_position": null,
            "object_fit": null,
            "grid_auto_columns": null,
            "margin": null,
            "display": null,
            "left": null
          }
        },
        "4bdccdb3337f4c28b22790523608c04a": {
          "model_module": "@jupyter-widgets/controls",
          "model_name": "HTMLModel",
          "model_module_version": "1.5.0",
          "state": {
            "_view_name": "HTMLView",
            "style": "IPY_MODEL_6e4ecc65ec074be5ab4f682d94eecfc5",
            "_dom_classes": [],
            "description": "",
            "_model_name": "HTMLModel",
            "placeholder": "​",
            "_view_module": "@jupyter-widgets/controls",
            "_model_module_version": "1.5.0",
            "value": "Dl Completed...:   0%",
            "_view_count": null,
            "_view_module_version": "1.5.0",
            "description_tooltip": null,
            "_model_module": "@jupyter-widgets/controls",
            "layout": "IPY_MODEL_0d92713f64f546d4b186339f787cd03b"
          }
        },
        "3a0de42c57934ee2a1a56cde56c2944e": {
          "model_module": "@jupyter-widgets/controls",
          "model_name": "FloatProgressModel",
          "model_module_version": "1.5.0",
          "state": {
            "_view_name": "ProgressView",
            "style": "IPY_MODEL_8239a8ec3dc54f26b5e36a0d2f0a6904",
            "_dom_classes": [],
            "description": "",
            "_model_name": "FloatProgressModel",
            "bar_style": "danger",
            "max": 1,
            "_view_module": "@jupyter-widgets/controls",
            "_model_module_version": "1.5.0",
            "value": 0,
            "_view_count": null,
            "_view_module_version": "1.5.0",
            "orientation": "horizontal",
            "min": 0,
            "description_tooltip": null,
            "_model_module": "@jupyter-widgets/controls",
            "layout": "IPY_MODEL_3c3daa6e52d44c86b8fb1c5bb1c0111e"
          }
        },
        "ad51ad4a6281456182affd8dc819dacc": {
          "model_module": "@jupyter-widgets/controls",
          "model_name": "HTMLModel",
          "model_module_version": "1.5.0",
          "state": {
            "_view_name": "HTMLView",
            "style": "IPY_MODEL_10135834001b4658bfdcadabe91c0369",
            "_dom_classes": [],
            "description": "",
            "_model_name": "HTMLModel",
            "placeholder": "​",
            "_view_module": "@jupyter-widgets/controls",
            "_model_module_version": "1.5.0",
            "value": " 0/3 [00:00&lt;?, ? url/s]",
            "_view_count": null,
            "_view_module_version": "1.5.0",
            "description_tooltip": null,
            "_model_module": "@jupyter-widgets/controls",
            "layout": "IPY_MODEL_66d8bc96c72246c6bb407ff7321942b6"
          }
        },
        "6e4ecc65ec074be5ab4f682d94eecfc5": {
          "model_module": "@jupyter-widgets/controls",
          "model_name": "DescriptionStyleModel",
          "model_module_version": "1.5.0",
          "state": {
            "_view_name": "StyleView",
            "_model_name": "DescriptionStyleModel",
            "description_width": "",
            "_view_module": "@jupyter-widgets/base",
            "_model_module_version": "1.5.0",
            "_view_count": null,
            "_view_module_version": "1.2.0",
            "_model_module": "@jupyter-widgets/controls"
          }
        },
        "0d92713f64f546d4b186339f787cd03b": {
          "model_module": "@jupyter-widgets/base",
          "model_name": "LayoutModel",
          "model_module_version": "1.2.0",
          "state": {
            "_view_name": "LayoutView",
            "grid_template_rows": null,
            "right": null,
            "justify_content": null,
            "_view_module": "@jupyter-widgets/base",
            "overflow": null,
            "_model_module_version": "1.2.0",
            "_view_count": null,
            "flex_flow": null,
            "width": null,
            "min_width": null,
            "border": null,
            "align_items": null,
            "bottom": null,
            "_model_module": "@jupyter-widgets/base",
            "top": null,
            "grid_column": null,
            "overflow_y": null,
            "overflow_x": null,
            "grid_auto_flow": null,
            "grid_area": null,
            "grid_template_columns": null,
            "flex": null,
            "_model_name": "LayoutModel",
            "justify_items": null,
            "grid_row": null,
            "max_height": null,
            "align_content": null,
            "visibility": null,
            "align_self": null,
            "height": null,
            "min_height": null,
            "padding": null,
            "grid_auto_rows": null,
            "grid_gap": null,
            "max_width": null,
            "order": null,
            "_view_module_version": "1.2.0",
            "grid_template_areas": null,
            "object_position": null,
            "object_fit": null,
            "grid_auto_columns": null,
            "margin": null,
            "display": null,
            "left": null
          }
        },
        "8239a8ec3dc54f26b5e36a0d2f0a6904": {
          "model_module": "@jupyter-widgets/controls",
          "model_name": "ProgressStyleModel",
          "model_module_version": "1.5.0",
          "state": {
            "_view_name": "StyleView",
            "_model_name": "ProgressStyleModel",
            "description_width": "",
            "_view_module": "@jupyter-widgets/base",
            "_model_module_version": "1.5.0",
            "_view_count": null,
            "_view_module_version": "1.2.0",
            "bar_color": null,
            "_model_module": "@jupyter-widgets/controls"
          }
        },
        "3c3daa6e52d44c86b8fb1c5bb1c0111e": {
          "model_module": "@jupyter-widgets/base",
          "model_name": "LayoutModel",
          "model_module_version": "1.2.0",
          "state": {
            "_view_name": "LayoutView",
            "grid_template_rows": null,
            "right": null,
            "justify_content": null,
            "_view_module": "@jupyter-widgets/base",
            "overflow": null,
            "_model_module_version": "1.2.0",
            "_view_count": null,
            "flex_flow": null,
            "width": "20px",
            "min_width": null,
            "border": null,
            "align_items": null,
            "bottom": null,
            "_model_module": "@jupyter-widgets/base",
            "top": null,
            "grid_column": null,
            "overflow_y": null,
            "overflow_x": null,
            "grid_auto_flow": null,
            "grid_area": null,
            "grid_template_columns": null,
            "flex": null,
            "_model_name": "LayoutModel",
            "justify_items": null,
            "grid_row": null,
            "max_height": null,
            "align_content": null,
            "visibility": null,
            "align_self": null,
            "height": null,
            "min_height": null,
            "padding": null,
            "grid_auto_rows": null,
            "grid_gap": null,
            "max_width": null,
            "order": null,
            "_view_module_version": "1.2.0",
            "grid_template_areas": null,
            "object_position": null,
            "object_fit": null,
            "grid_auto_columns": null,
            "margin": null,
            "display": null,
            "left": null
          }
        },
        "10135834001b4658bfdcadabe91c0369": {
          "model_module": "@jupyter-widgets/controls",
          "model_name": "DescriptionStyleModel",
          "model_module_version": "1.5.0",
          "state": {
            "_view_name": "StyleView",
            "_model_name": "DescriptionStyleModel",
            "description_width": "",
            "_view_module": "@jupyter-widgets/base",
            "_model_module_version": "1.5.0",
            "_view_count": null,
            "_view_module_version": "1.2.0",
            "_model_module": "@jupyter-widgets/controls"
          }
        },
        "66d8bc96c72246c6bb407ff7321942b6": {
          "model_module": "@jupyter-widgets/base",
          "model_name": "LayoutModel",
          "model_module_version": "1.2.0",
          "state": {
            "_view_name": "LayoutView",
            "grid_template_rows": null,
            "right": null,
            "justify_content": null,
            "_view_module": "@jupyter-widgets/base",
            "overflow": null,
            "_model_module_version": "1.2.0",
            "_view_count": null,
            "flex_flow": null,
            "width": null,
            "min_width": null,
            "border": null,
            "align_items": null,
            "bottom": null,
            "_model_module": "@jupyter-widgets/base",
            "top": null,
            "grid_column": null,
            "overflow_y": null,
            "overflow_x": null,
            "grid_auto_flow": null,
            "grid_area": null,
            "grid_template_columns": null,
            "flex": null,
            "_model_name": "LayoutModel",
            "justify_items": null,
            "grid_row": null,
            "max_height": null,
            "align_content": null,
            "visibility": null,
            "align_self": null,
            "height": null,
            "min_height": null,
            "padding": null,
            "grid_auto_rows": null,
            "grid_gap": null,
            "max_width": null,
            "order": null,
            "_view_module_version": "1.2.0",
            "grid_template_areas": null,
            "object_position": null,
            "object_fit": null,
            "grid_auto_columns": null,
            "margin": null,
            "display": null,
            "left": null
          }
        },
        "358da9f5c08749b6982cdd704078d692": {
          "model_module": "@jupyter-widgets/controls",
          "model_name": "HBoxModel",
          "model_module_version": "1.5.0",
          "state": {
            "_view_name": "HBoxView",
            "_dom_classes": [],
            "_model_name": "HBoxModel",
            "_view_module": "@jupyter-widgets/controls",
            "_model_module_version": "1.5.0",
            "_view_count": null,
            "_view_module_version": "1.5.0",
            "box_style": "",
            "layout": "IPY_MODEL_0e7146eced7443f5852743ef8ec64d5a",
            "_model_module": "@jupyter-widgets/controls",
            "children": [
              "IPY_MODEL_267b9850ce36488eb3df48dc33e05a3f",
              "IPY_MODEL_3a71277c637f4991a9a9fa2bc7d8cf0c",
              "IPY_MODEL_8b18665c9b244b24bbdd80a56eb90536"
            ]
          }
        },
        "0e7146eced7443f5852743ef8ec64d5a": {
          "model_module": "@jupyter-widgets/base",
          "model_name": "LayoutModel",
          "model_module_version": "1.2.0",
          "state": {
            "_view_name": "LayoutView",
            "grid_template_rows": null,
            "right": null,
            "justify_content": null,
            "_view_module": "@jupyter-widgets/base",
            "overflow": null,
            "_model_module_version": "1.2.0",
            "_view_count": null,
            "flex_flow": null,
            "width": null,
            "min_width": null,
            "border": null,
            "align_items": null,
            "bottom": null,
            "_model_module": "@jupyter-widgets/base",
            "top": null,
            "grid_column": null,
            "overflow_y": null,
            "overflow_x": null,
            "grid_auto_flow": null,
            "grid_area": null,
            "grid_template_columns": null,
            "flex": null,
            "_model_name": "LayoutModel",
            "justify_items": null,
            "grid_row": null,
            "max_height": null,
            "align_content": null,
            "visibility": null,
            "align_self": null,
            "height": null,
            "min_height": null,
            "padding": null,
            "grid_auto_rows": null,
            "grid_gap": null,
            "max_width": null,
            "order": null,
            "_view_module_version": "1.2.0",
            "grid_template_areas": null,
            "object_position": null,
            "object_fit": null,
            "grid_auto_columns": null,
            "margin": null,
            "display": null,
            "left": null
          }
        },
        "267b9850ce36488eb3df48dc33e05a3f": {
          "model_module": "@jupyter-widgets/controls",
          "model_name": "HTMLModel",
          "model_module_version": "1.5.0",
          "state": {
            "_view_name": "HTMLView",
            "style": "IPY_MODEL_2b9b7fc9aeba448e8dda69acd4e0f16e",
            "_dom_classes": [],
            "description": "",
            "_model_name": "HTMLModel",
            "placeholder": "​",
            "_view_module": "@jupyter-widgets/controls",
            "_model_module_version": "1.5.0",
            "value": "Dl Size...: ",
            "_view_count": null,
            "_view_module_version": "1.5.0",
            "description_tooltip": null,
            "_model_module": "@jupyter-widgets/controls",
            "layout": "IPY_MODEL_81f6f8dcd3a847b28c0135aae7e0dff6"
          }
        },
        "3a71277c637f4991a9a9fa2bc7d8cf0c": {
          "model_module": "@jupyter-widgets/controls",
          "model_name": "FloatProgressModel",
          "model_module_version": "1.5.0",
          "state": {
            "_view_name": "ProgressView",
            "style": "IPY_MODEL_fb9f5115481c4d50a73537fba67c2952",
            "_dom_classes": [],
            "description": "",
            "_model_name": "FloatProgressModel",
            "bar_style": "success",
            "max": 1,
            "_view_module": "@jupyter-widgets/controls",
            "_model_module_version": "1.5.0",
            "value": 0,
            "_view_count": null,
            "_view_module_version": "1.5.0",
            "orientation": "horizontal",
            "min": 0,
            "description_tooltip": null,
            "_model_module": "@jupyter-widgets/controls",
            "layout": "IPY_MODEL_5ba329406bbc4ddfae8ce5681a8b51e2"
          }
        },
        "8b18665c9b244b24bbdd80a56eb90536": {
          "model_module": "@jupyter-widgets/controls",
          "model_name": "HTMLModel",
          "model_module_version": "1.5.0",
          "state": {
            "_view_name": "HTMLView",
            "style": "IPY_MODEL_d416539f3e5742b1a62872d2007d7837",
            "_dom_classes": [],
            "description": "",
            "_model_name": "HTMLModel",
            "placeholder": "​",
            "_view_module": "@jupyter-widgets/controls",
            "_model_module_version": "1.5.0",
            "value": " 0/0 [00:00&lt;?, ? MiB/s]",
            "_view_count": null,
            "_view_module_version": "1.5.0",
            "description_tooltip": null,
            "_model_module": "@jupyter-widgets/controls",
            "layout": "IPY_MODEL_8c9422e942f14c4c9f1fb001918b0763"
          }
        },
        "2b9b7fc9aeba448e8dda69acd4e0f16e": {
          "model_module": "@jupyter-widgets/controls",
          "model_name": "DescriptionStyleModel",
          "model_module_version": "1.5.0",
          "state": {
            "_view_name": "StyleView",
            "_model_name": "DescriptionStyleModel",
            "description_width": "",
            "_view_module": "@jupyter-widgets/base",
            "_model_module_version": "1.5.0",
            "_view_count": null,
            "_view_module_version": "1.2.0",
            "_model_module": "@jupyter-widgets/controls"
          }
        },
        "81f6f8dcd3a847b28c0135aae7e0dff6": {
          "model_module": "@jupyter-widgets/base",
          "model_name": "LayoutModel",
          "model_module_version": "1.2.0",
          "state": {
            "_view_name": "LayoutView",
            "grid_template_rows": null,
            "right": null,
            "justify_content": null,
            "_view_module": "@jupyter-widgets/base",
            "overflow": null,
            "_model_module_version": "1.2.0",
            "_view_count": null,
            "flex_flow": null,
            "width": null,
            "min_width": null,
            "border": null,
            "align_items": null,
            "bottom": null,
            "_model_module": "@jupyter-widgets/base",
            "top": null,
            "grid_column": null,
            "overflow_y": null,
            "overflow_x": null,
            "grid_auto_flow": null,
            "grid_area": null,
            "grid_template_columns": null,
            "flex": null,
            "_model_name": "LayoutModel",
            "justify_items": null,
            "grid_row": null,
            "max_height": null,
            "align_content": null,
            "visibility": null,
            "align_self": null,
            "height": null,
            "min_height": null,
            "padding": null,
            "grid_auto_rows": null,
            "grid_gap": null,
            "max_width": null,
            "order": null,
            "_view_module_version": "1.2.0",
            "grid_template_areas": null,
            "object_position": null,
            "object_fit": null,
            "grid_auto_columns": null,
            "margin": null,
            "display": null,
            "left": null
          }
        },
        "fb9f5115481c4d50a73537fba67c2952": {
          "model_module": "@jupyter-widgets/controls",
          "model_name": "ProgressStyleModel",
          "model_module_version": "1.5.0",
          "state": {
            "_view_name": "StyleView",
            "_model_name": "ProgressStyleModel",
            "description_width": "",
            "_view_module": "@jupyter-widgets/base",
            "_model_module_version": "1.5.0",
            "_view_count": null,
            "_view_module_version": "1.2.0",
            "bar_color": null,
            "_model_module": "@jupyter-widgets/controls"
          }
        },
        "5ba329406bbc4ddfae8ce5681a8b51e2": {
          "model_module": "@jupyter-widgets/base",
          "model_name": "LayoutModel",
          "model_module_version": "1.2.0",
          "state": {
            "_view_name": "LayoutView",
            "grid_template_rows": null,
            "right": null,
            "justify_content": null,
            "_view_module": "@jupyter-widgets/base",
            "overflow": null,
            "_model_module_version": "1.2.0",
            "_view_count": null,
            "flex_flow": null,
            "width": "20px",
            "min_width": null,
            "border": null,
            "align_items": null,
            "bottom": null,
            "_model_module": "@jupyter-widgets/base",
            "top": null,
            "grid_column": null,
            "overflow_y": null,
            "overflow_x": null,
            "grid_auto_flow": null,
            "grid_area": null,
            "grid_template_columns": null,
            "flex": null,
            "_model_name": "LayoutModel",
            "justify_items": null,
            "grid_row": null,
            "max_height": null,
            "align_content": null,
            "visibility": null,
            "align_self": null,
            "height": null,
            "min_height": null,
            "padding": null,
            "grid_auto_rows": null,
            "grid_gap": null,
            "max_width": null,
            "order": null,
            "_view_module_version": "1.2.0",
            "grid_template_areas": null,
            "object_position": null,
            "object_fit": null,
            "grid_auto_columns": null,
            "margin": null,
            "display": null,
            "left": null
          }
        },
        "d416539f3e5742b1a62872d2007d7837": {
          "model_module": "@jupyter-widgets/controls",
          "model_name": "DescriptionStyleModel",
          "model_module_version": "1.5.0",
          "state": {
            "_view_name": "StyleView",
            "_model_name": "DescriptionStyleModel",
            "description_width": "",
            "_view_module": "@jupyter-widgets/base",
            "_model_module_version": "1.5.0",
            "_view_count": null,
            "_view_module_version": "1.2.0",
            "_model_module": "@jupyter-widgets/controls"
          }
        },
        "8c9422e942f14c4c9f1fb001918b0763": {
          "model_module": "@jupyter-widgets/base",
          "model_name": "LayoutModel",
          "model_module_version": "1.2.0",
          "state": {
            "_view_name": "LayoutView",
            "grid_template_rows": null,
            "right": null,
            "justify_content": null,
            "_view_module": "@jupyter-widgets/base",
            "overflow": null,
            "_model_module_version": "1.2.0",
            "_view_count": null,
            "flex_flow": null,
            "width": null,
            "min_width": null,
            "border": null,
            "align_items": null,
            "bottom": null,
            "_model_module": "@jupyter-widgets/base",
            "top": null,
            "grid_column": null,
            "overflow_y": null,
            "overflow_x": null,
            "grid_auto_flow": null,
            "grid_area": null,
            "grid_template_columns": null,
            "flex": null,
            "_model_name": "LayoutModel",
            "justify_items": null,
            "grid_row": null,
            "max_height": null,
            "align_content": null,
            "visibility": null,
            "align_self": null,
            "height": null,
            "min_height": null,
            "padding": null,
            "grid_auto_rows": null,
            "grid_gap": null,
            "max_width": null,
            "order": null,
            "_view_module_version": "1.2.0",
            "grid_template_areas": null,
            "object_position": null,
            "object_fit": null,
            "grid_auto_columns": null,
            "margin": null,
            "display": null,
            "left": null
          }
        }
      }
    }
  },
  "cells": [
    {
      "cell_type": "markdown",
      "metadata": {
        "id": "view-in-github",
        "colab_type": "text"
      },
      "source": [
        "<a href=\"https://colab.research.google.com/github/JoHyunjeong/Deep_learning/blob/main/%EB%94%A5%EB%9F%AC%EB%8B%9D_%EC%8B%A4%EC%8A%B5/1_%EC%9D%B4%EB%AF%B8%EC%A7%80%EB%B6%84%EB%A5%98%EA%B8%B0%EC%B4%88/Ch02_%E1%84%86%E1%85%A5%E1%86%AF%E1%84%90%E1%85%B5%E1%84%86%E1%85%A9%E1%84%83%E1%85%A6%E1%86%AF_%E1%84%87%E1%85%AE%E1%86%AB%E1%84%85%E1%85%B2_%E1%84%8B%E1%85%B5%E1%86%AB%E1%84%86%E1%85%AE%E1%86%AF%E1%84%89%E1%85%A1%E1%84%8C%E1%85%B5%E1%86%AB%E1%84%8B%E1%85%A6%E1%84%89%E1%85%A5%E1%84%89%E1%85%A5%E1%86%BC%E1%84%87%E1%85%A7%E1%86%AF%E1%84%80%E1%85%AA%E1%84%91%E1%85%AD%E1%84%8C%E1%85%A5%E1%86%BC%E1%84%87%E1%85%AE%E1%86%AB%E1%84%89%E1%85%A5%E1%86%A8%E1%84%92%E1%85%A1%E1%84%80%E1%85%B5.ipynb\" target=\"_parent\"><img src=\"https://colab.research.google.com/assets/colab-badge.svg\" alt=\"Open In Colab\"/></a>"
      ]
    },
    {
      "cell_type": "markdown",
      "metadata": {
        "id": "BDT9i8QLzfXg"
      },
      "source": [
        "# 주제 : 성별과 웃음 여부를 동시에 판단하는 모델을 만들어보자\n",
        "--------------\n",
        "## 실습 가이드\n",
        "    1. 데이터를 다운로드하여 Colab에 불러옵니다.\n",
        "    2. 필요한 라이브러리는 모두 코드로 작성되어 있습니다.\n",
        "    3. 코드는 위에서부터 아래로 순서대로 실행합니다.\n",
        "    4. 전체 문제 구성은 좌측 첫 번째 아이콘을 통해 확인할 수 있습니다.\n",
        "\n",
        "## 데이터 소개\n",
        "    - 이번 주제의 데이터는 얼굴 데이터로 유명한 celeba dataset을 이용합니다.\n",
        "  ![celeba dataset](https://storage.googleapis.com/tfds-data/visualization/fig/celeb_a-2.0.1.png)\n",
        "\n",
        "     위의 이미지는 다음과 같은 것을 보여줍니다.  \n",
        "    - 10,177 개의 신원 \n",
        "    - 얼굴 이미지 수 202,599 개\n",
        "    - 5 개의 랜드 마크 위치, 이미지 당 40 개의 바이너리 속성 주석\n",
        "      - 성별\n",
        "      - 큰 코\n",
        "      - 매력적\n",
        "      - 젊음\n",
        "      - 웃음 여부\n",
        "      - 모자 착용 여부\n",
        "      - 안경 착용 여부\n",
        "      - etc\n",
        "\n",
        "\n",
        "\n",
        "- 데이터 출처:\n",
        " - [celeba dataset](https://www.tensorflow.org/datasets/catalog/celeb_a)\n",
        " - [celeba small](https://drive.google.com/file/d/1t2qIgpWdWX_n5OC8P2ZiDfPIQ98NY_PB/view?usp=sharing)\n",
        "\n",
        "## 최종 목표\n",
        "\n",
        "    - 작게 줄인 celeba 데이터를 이용하여 웃음, 성별 동시 구분\n",
        "    - 한 모델에서 여러 결과에 대한 분석을 하는 방법\n",
        "    - 큰 사진을 작게 줄이기\n",
        "\n",
        "* 출제자 : 손근영 강사\n",
        "---------------\n"
      ]
    },
    {
      "cell_type": "code",
      "metadata": {
        "id": "mUteMBoWzfXn"
      },
      "source": [
        "import tensorflow as tf\n",
        "from tensorflow import keras\n",
        "from keras.layers import Dense\n",
        "from keras.models import Sequential\n",
        "\n",
        "import pandas as pd\n",
        "import numpy as np\n",
        "import matplotlib.pyplot as plt\n",
        "import seaborn as sns\n",
        "import warnings \n",
        "from IPython.display import Image\n",
        "\n",
        "warnings.filterwarnings('ignore')\n",
        "%matplotlib inline\n",
        "\n",
        "SEED = 34"
      ],
      "execution_count": null,
      "outputs": []
    },
    {
      "cell_type": "markdown",
      "metadata": {
        "id": "A5NviQ1BzfXo"
      },
      "source": [
        "## Step 1. 도입전 기본 처리"
      ]
    },
    {
      "cell_type": "markdown",
      "metadata": {
        "id": "EmGJVKBrzfXo"
      },
      "source": [
        "### 문제 1. tfds를 이용하여 데이터셋 사용하기"
      ]
    },
    {
      "cell_type": "code",
      "metadata": {
        "id": "vgjOE7bMzfXo"
      },
      "source": [
        "# tfds를 이용하여 데이터셋 사용하기 # tfds : tensorflowdataset"
      ],
      "execution_count": null,
      "outputs": []
    },
    {
      "cell_type": "code",
      "source": [
        "import tensorflow_datasets as tfds"
      ],
      "metadata": {
        "id": "iFFF1fcx5HSn"
      },
      "execution_count": null,
      "outputs": []
    },
    {
      "cell_type": "code",
      "source": [
        "tfds.list_builders() # hq는 고해상도"
      ],
      "metadata": {
        "colab": {
          "base_uri": "https://localhost:8080/"
        },
        "id": "E1U26ySX5cdV",
        "outputId": "12341652-94af-43fa-9564-42d5b74dd71e"
      },
      "execution_count": null,
      "outputs": [
        {
          "output_type": "execute_result",
          "data": {
            "text/plain": [
              "['abstract_reasoning',\n",
              " 'accentdb',\n",
              " 'aeslc',\n",
              " 'aflw2k3d',\n",
              " 'ag_news_subset',\n",
              " 'ai2_arc',\n",
              " 'ai2_arc_with_ir',\n",
              " 'amazon_us_reviews',\n",
              " 'anli',\n",
              " 'arc',\n",
              " 'bair_robot_pushing_small',\n",
              " 'bccd',\n",
              " 'beans',\n",
              " 'big_patent',\n",
              " 'bigearthnet',\n",
              " 'billsum',\n",
              " 'binarized_mnist',\n",
              " 'binary_alpha_digits',\n",
              " 'blimp',\n",
              " 'bool_q',\n",
              " 'c4',\n",
              " 'caltech101',\n",
              " 'caltech_birds2010',\n",
              " 'caltech_birds2011',\n",
              " 'cars196',\n",
              " 'cassava',\n",
              " 'cats_vs_dogs',\n",
              " 'celeb_a',\n",
              " 'celeb_a_hq',\n",
              " 'cfq',\n",
              " 'chexpert',\n",
              " 'cifar10',\n",
              " 'cifar100',\n",
              " 'cifar10_1',\n",
              " 'cifar10_corrupted',\n",
              " 'citrus_leaves',\n",
              " 'cityscapes',\n",
              " 'civil_comments',\n",
              " 'clevr',\n",
              " 'clic',\n",
              " 'clinc_oos',\n",
              " 'cmaterdb',\n",
              " 'cnn_dailymail',\n",
              " 'coco',\n",
              " 'coco_captions',\n",
              " 'coil100',\n",
              " 'colorectal_histology',\n",
              " 'colorectal_histology_large',\n",
              " 'common_voice',\n",
              " 'coqa',\n",
              " 'cos_e',\n",
              " 'cosmos_qa',\n",
              " 'covid19sum',\n",
              " 'crema_d',\n",
              " 'curated_breast_imaging_ddsm',\n",
              " 'cycle_gan',\n",
              " 'deep_weeds',\n",
              " 'definite_pronoun_resolution',\n",
              " 'dementiabank',\n",
              " 'diabetic_retinopathy_detection',\n",
              " 'div2k',\n",
              " 'dmlab',\n",
              " 'downsampled_imagenet',\n",
              " 'dsprites',\n",
              " 'dtd',\n",
              " 'duke_ultrasound',\n",
              " 'emnist',\n",
              " 'eraser_multi_rc',\n",
              " 'esnli',\n",
              " 'eurosat',\n",
              " 'fashion_mnist',\n",
              " 'flic',\n",
              " 'flores',\n",
              " 'food101',\n",
              " 'forest_fires',\n",
              " 'fuss',\n",
              " 'gap',\n",
              " 'geirhos_conflict_stimuli',\n",
              " 'genomics_ood',\n",
              " 'german_credit_numeric',\n",
              " 'gigaword',\n",
              " 'glue',\n",
              " 'goemotions',\n",
              " 'gpt3',\n",
              " 'groove',\n",
              " 'gtzan',\n",
              " 'gtzan_music_speech',\n",
              " 'hellaswag',\n",
              " 'higgs',\n",
              " 'horses_or_humans',\n",
              " 'i_naturalist2017',\n",
              " 'imagenet2012',\n",
              " 'imagenet2012_corrupted',\n",
              " 'imagenet2012_real',\n",
              " 'imagenet2012_subset',\n",
              " 'imagenet_a',\n",
              " 'imagenet_r',\n",
              " 'imagenet_resized',\n",
              " 'imagenet_v2',\n",
              " 'imagenette',\n",
              " 'imagewang',\n",
              " 'imdb_reviews',\n",
              " 'irc_disentanglement',\n",
              " 'iris',\n",
              " 'kitti',\n",
              " 'kmnist',\n",
              " 'lfw',\n",
              " 'librispeech',\n",
              " 'librispeech_lm',\n",
              " 'libritts',\n",
              " 'ljspeech',\n",
              " 'lm1b',\n",
              " 'lost_and_found',\n",
              " 'lsun',\n",
              " 'malaria',\n",
              " 'math_dataset',\n",
              " 'mctaco',\n",
              " 'mnist',\n",
              " 'mnist_corrupted',\n",
              " 'movie_lens',\n",
              " 'movie_rationales',\n",
              " 'movielens',\n",
              " 'moving_mnist',\n",
              " 'multi_news',\n",
              " 'multi_nli',\n",
              " 'multi_nli_mismatch',\n",
              " 'natural_questions',\n",
              " 'natural_questions_open',\n",
              " 'newsroom',\n",
              " 'nsynth',\n",
              " 'nyu_depth_v2',\n",
              " 'omniglot',\n",
              " 'open_images_challenge2019_detection',\n",
              " 'open_images_v4',\n",
              " 'openbookqa',\n",
              " 'opinion_abstracts',\n",
              " 'opinosis',\n",
              " 'opus',\n",
              " 'oxford_flowers102',\n",
              " 'oxford_iiit_pet',\n",
              " 'para_crawl',\n",
              " 'patch_camelyon',\n",
              " 'paws_wiki',\n",
              " 'paws_x_wiki',\n",
              " 'pet_finder',\n",
              " 'pg19',\n",
              " 'places365_small',\n",
              " 'plant_leaves',\n",
              " 'plant_village',\n",
              " 'plantae_k',\n",
              " 'qa4mre',\n",
              " 'qasc',\n",
              " 'quickdraw_bitmap',\n",
              " 'radon',\n",
              " 'reddit',\n",
              " 'reddit_disentanglement',\n",
              " 'reddit_tifu',\n",
              " 'resisc45',\n",
              " 'robonet',\n",
              " 'rock_paper_scissors',\n",
              " 'rock_you',\n",
              " 'salient_span_wikipedia',\n",
              " 'samsum',\n",
              " 'savee',\n",
              " 'scan',\n",
              " 'scene_parse150',\n",
              " 'scicite',\n",
              " 'scientific_papers',\n",
              " 'sentiment140',\n",
              " 'shapes3d',\n",
              " 'smallnorb',\n",
              " 'snli',\n",
              " 'so2sat',\n",
              " 'speech_commands',\n",
              " 'spoken_digit',\n",
              " 'squad',\n",
              " 'stanford_dogs',\n",
              " 'stanford_online_products',\n",
              " 'starcraft_video',\n",
              " 'stl10',\n",
              " 'sun397',\n",
              " 'super_glue',\n",
              " 'svhn_cropped',\n",
              " 'ted_hrlr_translate',\n",
              " 'ted_multi_translate',\n",
              " 'tedlium',\n",
              " 'tf_flowers',\n",
              " 'the300w_lp',\n",
              " 'tiny_shakespeare',\n",
              " 'titanic',\n",
              " 'trec',\n",
              " 'trivia_qa',\n",
              " 'tydi_qa',\n",
              " 'uc_merced',\n",
              " 'ucf101',\n",
              " 'vctk',\n",
              " 'vgg_face2',\n",
              " 'visual_domain_decathlon',\n",
              " 'voc',\n",
              " 'voxceleb',\n",
              " 'voxforge',\n",
              " 'waymo_open_dataset',\n",
              " 'web_questions',\n",
              " 'wider_face',\n",
              " 'wiki40b',\n",
              " 'wikihow',\n",
              " 'wikipedia',\n",
              " 'wikipedia_toxicity_subtypes',\n",
              " 'wine_quality',\n",
              " 'winogrande',\n",
              " 'wmt14_translate',\n",
              " 'wmt15_translate',\n",
              " 'wmt16_translate',\n",
              " 'wmt17_translate',\n",
              " 'wmt18_translate',\n",
              " 'wmt19_translate',\n",
              " 'wmt_t2t_translate',\n",
              " 'wmt_translate',\n",
              " 'wordnet',\n",
              " 'xnli',\n",
              " 'xquad',\n",
              " 'xsum',\n",
              " 'yelp_polarity_reviews',\n",
              " 'yes_no']"
            ]
          },
          "metadata": {},
          "execution_count": 4
        }
      ]
    },
    {
      "cell_type": "markdown",
      "metadata": {
        "id": "MrGNvmdSzfXp"
      },
      "source": [
        "### 문제 2. celeba의 정보중 이용할 데이터만 추출"
      ]
    },
    {
      "cell_type": "code",
      "metadata": {
        "id": "dBVjCFEXzfXp"
      },
      "source": [
        "# celeba의 정보중 이용할 데이터만 추출"
      ],
      "execution_count": null,
      "outputs": []
    },
    {
      "cell_type": "code",
      "source": [
        "celeb_a = tfds.load('celeb_a') # 사용량 많으면 에러남"
      ],
      "metadata": {
        "id": "nOojM8Ny5sc1",
        "colab": {
          "base_uri": "https://localhost:8080/",
          "height": 402,
          "referenced_widgets": [
            "9fd5c47432af42e0a8476d022b277759",
            "b463fe78350043638fa535d6deafd734",
            "4bdccdb3337f4c28b22790523608c04a",
            "3a0de42c57934ee2a1a56cde56c2944e",
            "ad51ad4a6281456182affd8dc819dacc",
            "6e4ecc65ec074be5ab4f682d94eecfc5",
            "0d92713f64f546d4b186339f787cd03b",
            "8239a8ec3dc54f26b5e36a0d2f0a6904",
            "3c3daa6e52d44c86b8fb1c5bb1c0111e",
            "10135834001b4658bfdcadabe91c0369",
            "66d8bc96c72246c6bb407ff7321942b6",
            "358da9f5c08749b6982cdd704078d692",
            "0e7146eced7443f5852743ef8ec64d5a",
            "267b9850ce36488eb3df48dc33e05a3f",
            "3a71277c637f4991a9a9fa2bc7d8cf0c",
            "8b18665c9b244b24bbdd80a56eb90536",
            "2b9b7fc9aeba448e8dda69acd4e0f16e",
            "81f6f8dcd3a847b28c0135aae7e0dff6",
            "fb9f5115481c4d50a73537fba67c2952",
            "5ba329406bbc4ddfae8ce5681a8b51e2",
            "d416539f3e5742b1a62872d2007d7837",
            "8c9422e942f14c4c9f1fb001918b0763"
          ]
        },
        "outputId": "5f7fb85d-d37c-41a8-fb3f-b05f36da79cc"
      },
      "execution_count": null,
      "outputs": [
        {
          "output_type": "stream",
          "name": "stdout",
          "text": [
            "\u001b[1mDownloading and preparing dataset celeb_a/2.0.1 (download: 1.38 GiB, generated: 1.62 GiB, total: 3.00 GiB) to /root/tensorflow_datasets/celeb_a/2.0.1...\u001b[0m\n"
          ]
        },
        {
          "output_type": "display_data",
          "data": {
            "application/vnd.jupyter.widget-view+json": {
              "model_id": "9fd5c47432af42e0a8476d022b277759",
              "version_minor": 0,
              "version_major": 2
            },
            "text/plain": [
              "Dl Completed...: 0 url [00:00, ? url/s]"
            ]
          },
          "metadata": {}
        },
        {
          "output_type": "display_data",
          "data": {
            "application/vnd.jupyter.widget-view+json": {
              "model_id": "358da9f5c08749b6982cdd704078d692",
              "version_minor": 0,
              "version_major": 2
            },
            "text/plain": [
              "Dl Size...: 0 MiB [00:00, ? MiB/s]"
            ]
          },
          "metadata": {}
        },
        {
          "output_type": "error",
          "ename": "DownloadError",
          "evalue": "ignored",
          "traceback": [
            "\u001b[0;31m---------------------------------------------------------------------------\u001b[0m",
            "\u001b[0;31mDownloadError\u001b[0m                             Traceback (most recent call last)",
            "\u001b[0;32m<ipython-input-6-87dbede4eee4>\u001b[0m in \u001b[0;36m<module>\u001b[0;34m()\u001b[0m\n\u001b[0;32m----> 1\u001b[0;31m \u001b[0mceleb_a\u001b[0m \u001b[0;34m=\u001b[0m \u001b[0mtfds\u001b[0m\u001b[0;34m.\u001b[0m\u001b[0mload\u001b[0m\u001b[0;34m(\u001b[0m\u001b[0;34m'celeb_a'\u001b[0m\u001b[0;34m)\u001b[0m \u001b[0;31m# 사용량 많으면 에러남\u001b[0m\u001b[0;34m\u001b[0m\u001b[0;34m\u001b[0m\u001b[0m\n\u001b[0m",
            "\u001b[0;32m/usr/local/lib/python3.7/dist-packages/tensorflow_datasets/core/load.py\u001b[0m in \u001b[0;36mload\u001b[0;34m(name, split, data_dir, batch_size, shuffle_files, download, as_supervised, decoders, read_config, with_info, builder_kwargs, download_and_prepare_kwargs, as_dataset_kwargs, try_gcs)\u001b[0m\n\u001b[1;32m    342\u001b[0m   \u001b[0;32mif\u001b[0m \u001b[0mdownload\u001b[0m\u001b[0;34m:\u001b[0m\u001b[0;34m\u001b[0m\u001b[0;34m\u001b[0m\u001b[0m\n\u001b[1;32m    343\u001b[0m     \u001b[0mdownload_and_prepare_kwargs\u001b[0m \u001b[0;34m=\u001b[0m \u001b[0mdownload_and_prepare_kwargs\u001b[0m \u001b[0;32mor\u001b[0m \u001b[0;34m{\u001b[0m\u001b[0;34m}\u001b[0m\u001b[0;34m\u001b[0m\u001b[0;34m\u001b[0m\u001b[0m\n\u001b[0;32m--> 344\u001b[0;31m     \u001b[0mdbuilder\u001b[0m\u001b[0;34m.\u001b[0m\u001b[0mdownload_and_prepare\u001b[0m\u001b[0;34m(\u001b[0m\u001b[0;34m**\u001b[0m\u001b[0mdownload_and_prepare_kwargs\u001b[0m\u001b[0;34m)\u001b[0m\u001b[0;34m\u001b[0m\u001b[0;34m\u001b[0m\u001b[0m\n\u001b[0m\u001b[1;32m    345\u001b[0m \u001b[0;34m\u001b[0m\u001b[0m\n\u001b[1;32m    346\u001b[0m   \u001b[0;32mif\u001b[0m \u001b[0mas_dataset_kwargs\u001b[0m \u001b[0;32mis\u001b[0m \u001b[0;32mNone\u001b[0m\u001b[0;34m:\u001b[0m\u001b[0;34m\u001b[0m\u001b[0;34m\u001b[0m\u001b[0m\n",
            "\u001b[0;32m/usr/local/lib/python3.7/dist-packages/tensorflow_datasets/core/dataset_builder.py\u001b[0m in \u001b[0;36mdownload_and_prepare\u001b[0;34m(self, download_dir, download_config)\u001b[0m\n\u001b[1;32m    385\u001b[0m           self._download_and_prepare(\n\u001b[1;32m    386\u001b[0m               \u001b[0mdl_manager\u001b[0m\u001b[0;34m=\u001b[0m\u001b[0mdl_manager\u001b[0m\u001b[0;34m,\u001b[0m\u001b[0;34m\u001b[0m\u001b[0;34m\u001b[0m\u001b[0m\n\u001b[0;32m--> 387\u001b[0;31m               download_config=download_config)\n\u001b[0m\u001b[1;32m    388\u001b[0m \u001b[0;34m\u001b[0m\u001b[0m\n\u001b[1;32m    389\u001b[0m           \u001b[0;31m# NOTE: If modifying the lines below to put additional information in\u001b[0m\u001b[0;34m\u001b[0m\u001b[0;34m\u001b[0m\u001b[0;34m\u001b[0m\u001b[0m\n",
            "\u001b[0;32m/usr/local/lib/python3.7/dist-packages/tensorflow_datasets/core/dataset_builder.py\u001b[0m in \u001b[0;36m_download_and_prepare\u001b[0;34m(self, dl_manager, download_config)\u001b[0m\n\u001b[1;32m   1022\u001b[0m     super(GeneratorBasedBuilder, self)._download_and_prepare(\n\u001b[1;32m   1023\u001b[0m         \u001b[0mdl_manager\u001b[0m\u001b[0;34m=\u001b[0m\u001b[0mdl_manager\u001b[0m\u001b[0;34m,\u001b[0m\u001b[0;34m\u001b[0m\u001b[0;34m\u001b[0m\u001b[0m\n\u001b[0;32m-> 1024\u001b[0;31m         \u001b[0mmax_examples_per_split\u001b[0m\u001b[0;34m=\u001b[0m\u001b[0mdownload_config\u001b[0m\u001b[0;34m.\u001b[0m\u001b[0mmax_examples_per_split\u001b[0m\u001b[0;34m,\u001b[0m\u001b[0;34m\u001b[0m\u001b[0;34m\u001b[0m\u001b[0m\n\u001b[0m\u001b[1;32m   1025\u001b[0m     )\n\u001b[1;32m   1026\u001b[0m \u001b[0;34m\u001b[0m\u001b[0m\n",
            "\u001b[0;32m/usr/local/lib/python3.7/dist-packages/tensorflow_datasets/core/dataset_builder.py\u001b[0m in \u001b[0;36m_download_and_prepare\u001b[0;34m(self, dl_manager, **prepare_split_kwargs)\u001b[0m\n\u001b[1;32m    960\u001b[0m         prepare_split_kwargs)\n\u001b[1;32m    961\u001b[0m     for split_generator in self._split_generators(\n\u001b[0;32m--> 962\u001b[0;31m         dl_manager, **split_generators_kwargs):\n\u001b[0m\u001b[1;32m    963\u001b[0m       \u001b[0;32mif\u001b[0m \u001b[0mstr\u001b[0m\u001b[0;34m(\u001b[0m\u001b[0msplit_generator\u001b[0m\u001b[0;34m.\u001b[0m\u001b[0msplit_info\u001b[0m\u001b[0;34m.\u001b[0m\u001b[0mname\u001b[0m\u001b[0;34m)\u001b[0m\u001b[0;34m.\u001b[0m\u001b[0mlower\u001b[0m\u001b[0;34m(\u001b[0m\u001b[0;34m)\u001b[0m \u001b[0;34m==\u001b[0m \u001b[0;34m\"all\"\u001b[0m\u001b[0;34m:\u001b[0m\u001b[0;34m\u001b[0m\u001b[0;34m\u001b[0m\u001b[0m\n\u001b[1;32m    964\u001b[0m         raise ValueError(\n",
            "\u001b[0;32m/usr/local/lib/python3.7/dist-packages/tensorflow_datasets/image/celeba.py\u001b[0m in \u001b[0;36m_split_generators\u001b[0;34m(self, dl_manager)\u001b[0m\n\u001b[1;32m    130\u001b[0m         \u001b[0;34m\"list_eval_partition\"\u001b[0m\u001b[0;34m:\u001b[0m \u001b[0mEVAL_LIST\u001b[0m\u001b[0;34m,\u001b[0m\u001b[0;34m\u001b[0m\u001b[0;34m\u001b[0m\u001b[0m\n\u001b[1;32m    131\u001b[0m         \u001b[0;34m\"list_attr_celeba\"\u001b[0m\u001b[0;34m:\u001b[0m \u001b[0mATTR_DATA\u001b[0m\u001b[0;34m,\u001b[0m\u001b[0;34m\u001b[0m\u001b[0;34m\u001b[0m\u001b[0m\n\u001b[0;32m--> 132\u001b[0;31m         \u001b[0;34m\"landmarks_celeba\"\u001b[0m\u001b[0;34m:\u001b[0m \u001b[0mLANDMARKS_DATA\u001b[0m\u001b[0;34m,\u001b[0m\u001b[0;34m\u001b[0m\u001b[0;34m\u001b[0m\u001b[0m\n\u001b[0m\u001b[1;32m    133\u001b[0m     })\n\u001b[1;32m    134\u001b[0m \u001b[0;34m\u001b[0m\u001b[0m\n",
            "\u001b[0;32m/usr/local/lib/python3.7/dist-packages/tensorflow_datasets/core/download/download_manager.py\u001b[0m in \u001b[0;36mdownload\u001b[0;34m(self, url_or_urls)\u001b[0m\n\u001b[1;32m    543\u001b[0m     \u001b[0;31m# Add progress bar to follow the download state\u001b[0m\u001b[0;34m\u001b[0m\u001b[0;34m\u001b[0m\u001b[0;34m\u001b[0m\u001b[0m\n\u001b[1;32m    544\u001b[0m     \u001b[0;32mwith\u001b[0m \u001b[0mself\u001b[0m\u001b[0;34m.\u001b[0m\u001b[0m_downloader\u001b[0m\u001b[0;34m.\u001b[0m\u001b[0mtqdm\u001b[0m\u001b[0;34m(\u001b[0m\u001b[0;34m)\u001b[0m\u001b[0;34m:\u001b[0m\u001b[0;34m\u001b[0m\u001b[0;34m\u001b[0m\u001b[0m\n\u001b[0;32m--> 545\u001b[0;31m       \u001b[0;32mreturn\u001b[0m \u001b[0m_map_promise\u001b[0m\u001b[0;34m(\u001b[0m\u001b[0mself\u001b[0m\u001b[0;34m.\u001b[0m\u001b[0m_download\u001b[0m\u001b[0;34m,\u001b[0m \u001b[0murl_or_urls\u001b[0m\u001b[0;34m)\u001b[0m\u001b[0;34m\u001b[0m\u001b[0;34m\u001b[0m\u001b[0m\n\u001b[0m\u001b[1;32m    546\u001b[0m \u001b[0;34m\u001b[0m\u001b[0m\n\u001b[1;32m    547\u001b[0m   \u001b[0;32mdef\u001b[0m \u001b[0miter_archive\u001b[0m\u001b[0;34m(\u001b[0m\u001b[0mself\u001b[0m\u001b[0;34m,\u001b[0m \u001b[0mresource\u001b[0m\u001b[0;34m)\u001b[0m\u001b[0;34m:\u001b[0m\u001b[0;34m\u001b[0m\u001b[0;34m\u001b[0m\u001b[0m\n",
            "\u001b[0;32m/usr/local/lib/python3.7/dist-packages/tensorflow_datasets/core/download/download_manager.py\u001b[0m in \u001b[0;36m_map_promise\u001b[0;34m(map_fn, all_inputs)\u001b[0m\n\u001b[1;32m    634\u001b[0m   \u001b[0;34m\"\"\"Map the function into each element and resolve the promise.\"\"\"\u001b[0m\u001b[0;34m\u001b[0m\u001b[0;34m\u001b[0m\u001b[0m\n\u001b[1;32m    635\u001b[0m   \u001b[0mall_promises\u001b[0m \u001b[0;34m=\u001b[0m \u001b[0mtf\u001b[0m\u001b[0;34m.\u001b[0m\u001b[0mnest\u001b[0m\u001b[0;34m.\u001b[0m\u001b[0mmap_structure\u001b[0m\u001b[0;34m(\u001b[0m\u001b[0mmap_fn\u001b[0m\u001b[0;34m,\u001b[0m \u001b[0mall_inputs\u001b[0m\u001b[0;34m)\u001b[0m  \u001b[0;31m# Apply the function\u001b[0m\u001b[0;34m\u001b[0m\u001b[0;34m\u001b[0m\u001b[0m\n\u001b[0;32m--> 636\u001b[0;31m   \u001b[0mres\u001b[0m \u001b[0;34m=\u001b[0m \u001b[0mtf\u001b[0m\u001b[0;34m.\u001b[0m\u001b[0mnest\u001b[0m\u001b[0;34m.\u001b[0m\u001b[0mmap_structure\u001b[0m\u001b[0;34m(\u001b[0m\u001b[0;32mlambda\u001b[0m \u001b[0mp\u001b[0m\u001b[0;34m:\u001b[0m \u001b[0mp\u001b[0m\u001b[0;34m.\u001b[0m\u001b[0mget\u001b[0m\u001b[0;34m(\u001b[0m\u001b[0;34m)\u001b[0m\u001b[0;34m,\u001b[0m \u001b[0mall_promises\u001b[0m\u001b[0;34m)\u001b[0m  \u001b[0;31m# Wait promises\u001b[0m\u001b[0;34m\u001b[0m\u001b[0;34m\u001b[0m\u001b[0m\n\u001b[0m\u001b[1;32m    637\u001b[0m   \u001b[0;32mreturn\u001b[0m \u001b[0mres\u001b[0m\u001b[0;34m\u001b[0m\u001b[0;34m\u001b[0m\u001b[0m\n",
            "\u001b[0;32m/usr/local/lib/python3.7/dist-packages/tensorflow/python/util/nest.py\u001b[0m in \u001b[0;36mmap_structure\u001b[0;34m(func, *structure, **kwargs)\u001b[0m\n\u001b[1;32m    867\u001b[0m \u001b[0;34m\u001b[0m\u001b[0m\n\u001b[1;32m    868\u001b[0m   return pack_sequence_as(\n\u001b[0;32m--> 869\u001b[0;31m       \u001b[0mstructure\u001b[0m\u001b[0;34m[\u001b[0m\u001b[0;36m0\u001b[0m\u001b[0;34m]\u001b[0m\u001b[0;34m,\u001b[0m \u001b[0;34m[\u001b[0m\u001b[0mfunc\u001b[0m\u001b[0;34m(\u001b[0m\u001b[0;34m*\u001b[0m\u001b[0mx\u001b[0m\u001b[0;34m)\u001b[0m \u001b[0;32mfor\u001b[0m \u001b[0mx\u001b[0m \u001b[0;32min\u001b[0m \u001b[0mentries\u001b[0m\u001b[0;34m]\u001b[0m\u001b[0;34m,\u001b[0m\u001b[0;34m\u001b[0m\u001b[0;34m\u001b[0m\u001b[0m\n\u001b[0m\u001b[1;32m    870\u001b[0m       expand_composites=expand_composites)\n\u001b[1;32m    871\u001b[0m \u001b[0;34m\u001b[0m\u001b[0m\n",
            "\u001b[0;32m/usr/local/lib/python3.7/dist-packages/tensorflow/python/util/nest.py\u001b[0m in \u001b[0;36m<listcomp>\u001b[0;34m(.0)\u001b[0m\n\u001b[1;32m    867\u001b[0m \u001b[0;34m\u001b[0m\u001b[0m\n\u001b[1;32m    868\u001b[0m   return pack_sequence_as(\n\u001b[0;32m--> 869\u001b[0;31m       \u001b[0mstructure\u001b[0m\u001b[0;34m[\u001b[0m\u001b[0;36m0\u001b[0m\u001b[0;34m]\u001b[0m\u001b[0;34m,\u001b[0m \u001b[0;34m[\u001b[0m\u001b[0mfunc\u001b[0m\u001b[0;34m(\u001b[0m\u001b[0;34m*\u001b[0m\u001b[0mx\u001b[0m\u001b[0;34m)\u001b[0m \u001b[0;32mfor\u001b[0m \u001b[0mx\u001b[0m \u001b[0;32min\u001b[0m \u001b[0mentries\u001b[0m\u001b[0;34m]\u001b[0m\u001b[0;34m,\u001b[0m\u001b[0;34m\u001b[0m\u001b[0;34m\u001b[0m\u001b[0m\n\u001b[0m\u001b[1;32m    870\u001b[0m       expand_composites=expand_composites)\n\u001b[1;32m    871\u001b[0m \u001b[0;34m\u001b[0m\u001b[0m\n",
            "\u001b[0;32m/usr/local/lib/python3.7/dist-packages/tensorflow_datasets/core/download/download_manager.py\u001b[0m in \u001b[0;36m<lambda>\u001b[0;34m(p)\u001b[0m\n\u001b[1;32m    634\u001b[0m   \u001b[0;34m\"\"\"Map the function into each element and resolve the promise.\"\"\"\u001b[0m\u001b[0;34m\u001b[0m\u001b[0;34m\u001b[0m\u001b[0m\n\u001b[1;32m    635\u001b[0m   \u001b[0mall_promises\u001b[0m \u001b[0;34m=\u001b[0m \u001b[0mtf\u001b[0m\u001b[0;34m.\u001b[0m\u001b[0mnest\u001b[0m\u001b[0;34m.\u001b[0m\u001b[0mmap_structure\u001b[0m\u001b[0;34m(\u001b[0m\u001b[0mmap_fn\u001b[0m\u001b[0;34m,\u001b[0m \u001b[0mall_inputs\u001b[0m\u001b[0;34m)\u001b[0m  \u001b[0;31m# Apply the function\u001b[0m\u001b[0;34m\u001b[0m\u001b[0;34m\u001b[0m\u001b[0m\n\u001b[0;32m--> 636\u001b[0;31m   \u001b[0mres\u001b[0m \u001b[0;34m=\u001b[0m \u001b[0mtf\u001b[0m\u001b[0;34m.\u001b[0m\u001b[0mnest\u001b[0m\u001b[0;34m.\u001b[0m\u001b[0mmap_structure\u001b[0m\u001b[0;34m(\u001b[0m\u001b[0;32mlambda\u001b[0m \u001b[0mp\u001b[0m\u001b[0;34m:\u001b[0m \u001b[0mp\u001b[0m\u001b[0;34m.\u001b[0m\u001b[0mget\u001b[0m\u001b[0;34m(\u001b[0m\u001b[0;34m)\u001b[0m\u001b[0;34m,\u001b[0m \u001b[0mall_promises\u001b[0m\u001b[0;34m)\u001b[0m  \u001b[0;31m# Wait promises\u001b[0m\u001b[0;34m\u001b[0m\u001b[0;34m\u001b[0m\u001b[0m\n\u001b[0m\u001b[1;32m    637\u001b[0m   \u001b[0;32mreturn\u001b[0m \u001b[0mres\u001b[0m\u001b[0;34m\u001b[0m\u001b[0;34m\u001b[0m\u001b[0m\n",
            "\u001b[0;32m/usr/local/lib/python3.7/dist-packages/promise/promise.py\u001b[0m in \u001b[0;36mget\u001b[0;34m(self, timeout)\u001b[0m\n\u001b[1;32m    510\u001b[0m         \u001b[0mtarget\u001b[0m \u001b[0;34m=\u001b[0m \u001b[0mself\u001b[0m\u001b[0;34m.\u001b[0m\u001b[0m_target\u001b[0m\u001b[0;34m(\u001b[0m\u001b[0;34m)\u001b[0m\u001b[0;34m\u001b[0m\u001b[0;34m\u001b[0m\u001b[0m\n\u001b[1;32m    511\u001b[0m         \u001b[0mself\u001b[0m\u001b[0;34m.\u001b[0m\u001b[0m_wait\u001b[0m\u001b[0;34m(\u001b[0m\u001b[0mtimeout\u001b[0m \u001b[0;32mor\u001b[0m \u001b[0mDEFAULT_TIMEOUT\u001b[0m\u001b[0;34m)\u001b[0m\u001b[0;34m\u001b[0m\u001b[0;34m\u001b[0m\u001b[0m\n\u001b[0;32m--> 512\u001b[0;31m         \u001b[0;32mreturn\u001b[0m \u001b[0mself\u001b[0m\u001b[0;34m.\u001b[0m\u001b[0m_target_settled_value\u001b[0m\u001b[0;34m(\u001b[0m\u001b[0m_raise\u001b[0m\u001b[0;34m=\u001b[0m\u001b[0;32mTrue\u001b[0m\u001b[0;34m)\u001b[0m\u001b[0;34m\u001b[0m\u001b[0;34m\u001b[0m\u001b[0m\n\u001b[0m\u001b[1;32m    513\u001b[0m \u001b[0;34m\u001b[0m\u001b[0m\n\u001b[1;32m    514\u001b[0m     \u001b[0;32mdef\u001b[0m \u001b[0m_target_settled_value\u001b[0m\u001b[0;34m(\u001b[0m\u001b[0mself\u001b[0m\u001b[0;34m,\u001b[0m \u001b[0m_raise\u001b[0m\u001b[0;34m=\u001b[0m\u001b[0;32mFalse\u001b[0m\u001b[0;34m)\u001b[0m\u001b[0;34m:\u001b[0m\u001b[0;34m\u001b[0m\u001b[0;34m\u001b[0m\u001b[0m\n",
            "\u001b[0;32m/usr/local/lib/python3.7/dist-packages/promise/promise.py\u001b[0m in \u001b[0;36m_target_settled_value\u001b[0;34m(self, _raise)\u001b[0m\n\u001b[1;32m    514\u001b[0m     \u001b[0;32mdef\u001b[0m \u001b[0m_target_settled_value\u001b[0m\u001b[0;34m(\u001b[0m\u001b[0mself\u001b[0m\u001b[0;34m,\u001b[0m \u001b[0m_raise\u001b[0m\u001b[0;34m=\u001b[0m\u001b[0;32mFalse\u001b[0m\u001b[0;34m)\u001b[0m\u001b[0;34m:\u001b[0m\u001b[0;34m\u001b[0m\u001b[0;34m\u001b[0m\u001b[0m\n\u001b[1;32m    515\u001b[0m         \u001b[0;31m# type: (bool) -> Any\u001b[0m\u001b[0;34m\u001b[0m\u001b[0;34m\u001b[0m\u001b[0;34m\u001b[0m\u001b[0m\n\u001b[0;32m--> 516\u001b[0;31m         \u001b[0;32mreturn\u001b[0m \u001b[0mself\u001b[0m\u001b[0;34m.\u001b[0m\u001b[0m_target\u001b[0m\u001b[0;34m(\u001b[0m\u001b[0;34m)\u001b[0m\u001b[0;34m.\u001b[0m\u001b[0m_settled_value\u001b[0m\u001b[0;34m(\u001b[0m\u001b[0m_raise\u001b[0m\u001b[0;34m)\u001b[0m\u001b[0;34m\u001b[0m\u001b[0;34m\u001b[0m\u001b[0m\n\u001b[0m\u001b[1;32m    517\u001b[0m \u001b[0;34m\u001b[0m\u001b[0m\n\u001b[1;32m    518\u001b[0m     \u001b[0m_value\u001b[0m \u001b[0;34m=\u001b[0m \u001b[0m_reason\u001b[0m \u001b[0;34m=\u001b[0m \u001b[0m_target_settled_value\u001b[0m\u001b[0;34m\u001b[0m\u001b[0;34m\u001b[0m\u001b[0m\n",
            "\u001b[0;32m/usr/local/lib/python3.7/dist-packages/promise/promise.py\u001b[0m in \u001b[0;36m_settled_value\u001b[0;34m(self, _raise)\u001b[0m\n\u001b[1;32m    224\u001b[0m             \u001b[0;32mif\u001b[0m \u001b[0m_raise\u001b[0m\u001b[0;34m:\u001b[0m\u001b[0;34m\u001b[0m\u001b[0;34m\u001b[0m\u001b[0m\n\u001b[1;32m    225\u001b[0m                 \u001b[0mraise_val\u001b[0m \u001b[0;34m=\u001b[0m \u001b[0mself\u001b[0m\u001b[0;34m.\u001b[0m\u001b[0m_fulfillment_handler0\u001b[0m\u001b[0;34m\u001b[0m\u001b[0;34m\u001b[0m\u001b[0m\n\u001b[0;32m--> 226\u001b[0;31m                 \u001b[0mreraise\u001b[0m\u001b[0;34m(\u001b[0m\u001b[0mtype\u001b[0m\u001b[0;34m(\u001b[0m\u001b[0mraise_val\u001b[0m\u001b[0;34m)\u001b[0m\u001b[0;34m,\u001b[0m \u001b[0mraise_val\u001b[0m\u001b[0;34m,\u001b[0m \u001b[0mself\u001b[0m\u001b[0;34m.\u001b[0m\u001b[0m_traceback\u001b[0m\u001b[0;34m)\u001b[0m\u001b[0;34m\u001b[0m\u001b[0;34m\u001b[0m\u001b[0m\n\u001b[0m\u001b[1;32m    227\u001b[0m             \u001b[0;32mreturn\u001b[0m \u001b[0mself\u001b[0m\u001b[0;34m.\u001b[0m\u001b[0m_fulfillment_handler0\u001b[0m\u001b[0;34m\u001b[0m\u001b[0;34m\u001b[0m\u001b[0m\n\u001b[1;32m    228\u001b[0m \u001b[0;34m\u001b[0m\u001b[0m\n",
            "\u001b[0;32m/usr/local/lib/python3.7/dist-packages/six.py\u001b[0m in \u001b[0;36mreraise\u001b[0;34m(tp, value, tb)\u001b[0m\n\u001b[1;32m    701\u001b[0m             \u001b[0;32mif\u001b[0m \u001b[0mvalue\u001b[0m\u001b[0;34m.\u001b[0m\u001b[0m__traceback__\u001b[0m \u001b[0;32mis\u001b[0m \u001b[0;32mnot\u001b[0m \u001b[0mtb\u001b[0m\u001b[0;34m:\u001b[0m\u001b[0;34m\u001b[0m\u001b[0;34m\u001b[0m\u001b[0m\n\u001b[1;32m    702\u001b[0m                 \u001b[0;32mraise\u001b[0m \u001b[0mvalue\u001b[0m\u001b[0;34m.\u001b[0m\u001b[0mwith_traceback\u001b[0m\u001b[0;34m(\u001b[0m\u001b[0mtb\u001b[0m\u001b[0;34m)\u001b[0m\u001b[0;34m\u001b[0m\u001b[0;34m\u001b[0m\u001b[0m\n\u001b[0;32m--> 703\u001b[0;31m             \u001b[0;32mraise\u001b[0m \u001b[0mvalue\u001b[0m\u001b[0;34m\u001b[0m\u001b[0;34m\u001b[0m\u001b[0m\n\u001b[0m\u001b[1;32m    704\u001b[0m         \u001b[0;32mfinally\u001b[0m\u001b[0;34m:\u001b[0m\u001b[0;34m\u001b[0m\u001b[0;34m\u001b[0m\u001b[0m\n\u001b[1;32m    705\u001b[0m             \u001b[0mvalue\u001b[0m \u001b[0;34m=\u001b[0m \u001b[0;32mNone\u001b[0m\u001b[0;34m\u001b[0m\u001b[0;34m\u001b[0m\u001b[0m\n",
            "\u001b[0;32m/usr/local/lib/python3.7/dist-packages/promise/promise.py\u001b[0m in \u001b[0;36mhandle_future_result\u001b[0;34m(future)\u001b[0m\n\u001b[1;32m    842\u001b[0m         \u001b[0;31m# type: (Any) -> None\u001b[0m\u001b[0;34m\u001b[0m\u001b[0;34m\u001b[0m\u001b[0;34m\u001b[0m\u001b[0m\n\u001b[1;32m    843\u001b[0m         \u001b[0;32mtry\u001b[0m\u001b[0;34m:\u001b[0m\u001b[0;34m\u001b[0m\u001b[0;34m\u001b[0m\u001b[0m\n\u001b[0;32m--> 844\u001b[0;31m             \u001b[0mresolve\u001b[0m\u001b[0;34m(\u001b[0m\u001b[0mfuture\u001b[0m\u001b[0;34m.\u001b[0m\u001b[0mresult\u001b[0m\u001b[0;34m(\u001b[0m\u001b[0;34m)\u001b[0m\u001b[0;34m)\u001b[0m\u001b[0;34m\u001b[0m\u001b[0;34m\u001b[0m\u001b[0m\n\u001b[0m\u001b[1;32m    845\u001b[0m         \u001b[0;32mexcept\u001b[0m \u001b[0mException\u001b[0m \u001b[0;32mas\u001b[0m \u001b[0me\u001b[0m\u001b[0;34m:\u001b[0m\u001b[0;34m\u001b[0m\u001b[0;34m\u001b[0m\u001b[0m\n\u001b[1;32m    846\u001b[0m             \u001b[0mtb\u001b[0m \u001b[0;34m=\u001b[0m \u001b[0mexc_info\u001b[0m\u001b[0;34m(\u001b[0m\u001b[0;34m)\u001b[0m\u001b[0;34m[\u001b[0m\u001b[0;36m2\u001b[0m\u001b[0;34m]\u001b[0m\u001b[0;34m\u001b[0m\u001b[0;34m\u001b[0m\u001b[0m\n",
            "\u001b[0;32m/usr/lib/python3.7/concurrent/futures/_base.py\u001b[0m in \u001b[0;36mresult\u001b[0;34m(self, timeout)\u001b[0m\n\u001b[1;32m    426\u001b[0m                 \u001b[0;32mraise\u001b[0m \u001b[0mCancelledError\u001b[0m\u001b[0;34m(\u001b[0m\u001b[0;34m)\u001b[0m\u001b[0;34m\u001b[0m\u001b[0;34m\u001b[0m\u001b[0m\n\u001b[1;32m    427\u001b[0m             \u001b[0;32melif\u001b[0m \u001b[0mself\u001b[0m\u001b[0;34m.\u001b[0m\u001b[0m_state\u001b[0m \u001b[0;34m==\u001b[0m \u001b[0mFINISHED\u001b[0m\u001b[0;34m:\u001b[0m\u001b[0;34m\u001b[0m\u001b[0;34m\u001b[0m\u001b[0m\n\u001b[0;32m--> 428\u001b[0;31m                 \u001b[0;32mreturn\u001b[0m \u001b[0mself\u001b[0m\u001b[0;34m.\u001b[0m\u001b[0m__get_result\u001b[0m\u001b[0;34m(\u001b[0m\u001b[0;34m)\u001b[0m\u001b[0;34m\u001b[0m\u001b[0;34m\u001b[0m\u001b[0m\n\u001b[0m\u001b[1;32m    429\u001b[0m \u001b[0;34m\u001b[0m\u001b[0m\n\u001b[1;32m    430\u001b[0m             \u001b[0mself\u001b[0m\u001b[0;34m.\u001b[0m\u001b[0m_condition\u001b[0m\u001b[0;34m.\u001b[0m\u001b[0mwait\u001b[0m\u001b[0;34m(\u001b[0m\u001b[0mtimeout\u001b[0m\u001b[0;34m)\u001b[0m\u001b[0;34m\u001b[0m\u001b[0;34m\u001b[0m\u001b[0m\n",
            "\u001b[0;32m/usr/lib/python3.7/concurrent/futures/_base.py\u001b[0m in \u001b[0;36m__get_result\u001b[0;34m(self)\u001b[0m\n\u001b[1;32m    382\u001b[0m     \u001b[0;32mdef\u001b[0m \u001b[0m__get_result\u001b[0m\u001b[0;34m(\u001b[0m\u001b[0mself\u001b[0m\u001b[0;34m)\u001b[0m\u001b[0;34m:\u001b[0m\u001b[0;34m\u001b[0m\u001b[0;34m\u001b[0m\u001b[0m\n\u001b[1;32m    383\u001b[0m         \u001b[0;32mif\u001b[0m \u001b[0mself\u001b[0m\u001b[0;34m.\u001b[0m\u001b[0m_exception\u001b[0m\u001b[0;34m:\u001b[0m\u001b[0;34m\u001b[0m\u001b[0;34m\u001b[0m\u001b[0m\n\u001b[0;32m--> 384\u001b[0;31m             \u001b[0;32mraise\u001b[0m \u001b[0mself\u001b[0m\u001b[0;34m.\u001b[0m\u001b[0m_exception\u001b[0m\u001b[0;34m\u001b[0m\u001b[0;34m\u001b[0m\u001b[0m\n\u001b[0m\u001b[1;32m    385\u001b[0m         \u001b[0;32melse\u001b[0m\u001b[0;34m:\u001b[0m\u001b[0;34m\u001b[0m\u001b[0;34m\u001b[0m\u001b[0m\n\u001b[1;32m    386\u001b[0m             \u001b[0;32mreturn\u001b[0m \u001b[0mself\u001b[0m\u001b[0;34m.\u001b[0m\u001b[0m_result\u001b[0m\u001b[0;34m\u001b[0m\u001b[0;34m\u001b[0m\u001b[0m\n",
            "\u001b[0;32m/usr/lib/python3.7/concurrent/futures/thread.py\u001b[0m in \u001b[0;36mrun\u001b[0;34m(self)\u001b[0m\n\u001b[1;32m     55\u001b[0m \u001b[0;34m\u001b[0m\u001b[0m\n\u001b[1;32m     56\u001b[0m         \u001b[0;32mtry\u001b[0m\u001b[0;34m:\u001b[0m\u001b[0;34m\u001b[0m\u001b[0;34m\u001b[0m\u001b[0m\n\u001b[0;32m---> 57\u001b[0;31m             \u001b[0mresult\u001b[0m \u001b[0;34m=\u001b[0m \u001b[0mself\u001b[0m\u001b[0;34m.\u001b[0m\u001b[0mfn\u001b[0m\u001b[0;34m(\u001b[0m\u001b[0;34m*\u001b[0m\u001b[0mself\u001b[0m\u001b[0;34m.\u001b[0m\u001b[0margs\u001b[0m\u001b[0;34m,\u001b[0m \u001b[0;34m**\u001b[0m\u001b[0mself\u001b[0m\u001b[0;34m.\u001b[0m\u001b[0mkwargs\u001b[0m\u001b[0;34m)\u001b[0m\u001b[0;34m\u001b[0m\u001b[0;34m\u001b[0m\u001b[0m\n\u001b[0m\u001b[1;32m     58\u001b[0m         \u001b[0;32mexcept\u001b[0m \u001b[0mBaseException\u001b[0m \u001b[0;32mas\u001b[0m \u001b[0mexc\u001b[0m\u001b[0;34m:\u001b[0m\u001b[0;34m\u001b[0m\u001b[0;34m\u001b[0m\u001b[0m\n\u001b[1;32m     59\u001b[0m             \u001b[0mself\u001b[0m\u001b[0;34m.\u001b[0m\u001b[0mfuture\u001b[0m\u001b[0;34m.\u001b[0m\u001b[0mset_exception\u001b[0m\u001b[0;34m(\u001b[0m\u001b[0mexc\u001b[0m\u001b[0;34m)\u001b[0m\u001b[0;34m\u001b[0m\u001b[0;34m\u001b[0m\u001b[0m\n",
            "\u001b[0;32m/usr/local/lib/python3.7/dist-packages/tensorflow_datasets/core/download/downloader.py\u001b[0m in \u001b[0;36m_sync_download\u001b[0;34m(self, url, destination_path)\u001b[0m\n\u001b[1;32m    182\u001b[0m       \u001b[0;32mpass\u001b[0m\u001b[0;34m\u001b[0m\u001b[0;34m\u001b[0m\u001b[0m\n\u001b[1;32m    183\u001b[0m \u001b[0;34m\u001b[0m\u001b[0m\n\u001b[0;32m--> 184\u001b[0;31m     \u001b[0;32mwith\u001b[0m \u001b[0m_open_url\u001b[0m\u001b[0;34m(\u001b[0m\u001b[0murl\u001b[0m\u001b[0;34m)\u001b[0m \u001b[0;32mas\u001b[0m \u001b[0;34m(\u001b[0m\u001b[0mresponse\u001b[0m\u001b[0;34m,\u001b[0m \u001b[0miter_content\u001b[0m\u001b[0;34m)\u001b[0m\u001b[0;34m:\u001b[0m\u001b[0;34m\u001b[0m\u001b[0;34m\u001b[0m\u001b[0m\n\u001b[0m\u001b[1;32m    185\u001b[0m       \u001b[0mfname\u001b[0m \u001b[0;34m=\u001b[0m \u001b[0m_get_filename\u001b[0m\u001b[0;34m(\u001b[0m\u001b[0mresponse\u001b[0m\u001b[0;34m)\u001b[0m\u001b[0;34m\u001b[0m\u001b[0;34m\u001b[0m\u001b[0m\n\u001b[1;32m    186\u001b[0m       \u001b[0mpath\u001b[0m \u001b[0;34m=\u001b[0m \u001b[0mos\u001b[0m\u001b[0;34m.\u001b[0m\u001b[0mpath\u001b[0m\u001b[0;34m.\u001b[0m\u001b[0mjoin\u001b[0m\u001b[0;34m(\u001b[0m\u001b[0mdestination_path\u001b[0m\u001b[0;34m,\u001b[0m \u001b[0mfname\u001b[0m\u001b[0;34m)\u001b[0m\u001b[0;34m\u001b[0m\u001b[0;34m\u001b[0m\u001b[0m\n",
            "\u001b[0;32m/usr/lib/python3.7/contextlib.py\u001b[0m in \u001b[0;36m__enter__\u001b[0;34m(self)\u001b[0m\n\u001b[1;32m    110\u001b[0m         \u001b[0;32mdel\u001b[0m \u001b[0mself\u001b[0m\u001b[0;34m.\u001b[0m\u001b[0margs\u001b[0m\u001b[0;34m,\u001b[0m \u001b[0mself\u001b[0m\u001b[0;34m.\u001b[0m\u001b[0mkwds\u001b[0m\u001b[0;34m,\u001b[0m \u001b[0mself\u001b[0m\u001b[0;34m.\u001b[0m\u001b[0mfunc\u001b[0m\u001b[0;34m\u001b[0m\u001b[0;34m\u001b[0m\u001b[0m\n\u001b[1;32m    111\u001b[0m         \u001b[0;32mtry\u001b[0m\u001b[0;34m:\u001b[0m\u001b[0;34m\u001b[0m\u001b[0;34m\u001b[0m\u001b[0m\n\u001b[0;32m--> 112\u001b[0;31m             \u001b[0;32mreturn\u001b[0m \u001b[0mnext\u001b[0m\u001b[0;34m(\u001b[0m\u001b[0mself\u001b[0m\u001b[0;34m.\u001b[0m\u001b[0mgen\u001b[0m\u001b[0;34m)\u001b[0m\u001b[0;34m\u001b[0m\u001b[0;34m\u001b[0m\u001b[0m\n\u001b[0m\u001b[1;32m    113\u001b[0m         \u001b[0;32mexcept\u001b[0m \u001b[0mStopIteration\u001b[0m\u001b[0;34m:\u001b[0m\u001b[0;34m\u001b[0m\u001b[0;34m\u001b[0m\u001b[0m\n\u001b[1;32m    114\u001b[0m             \u001b[0;32mraise\u001b[0m \u001b[0mRuntimeError\u001b[0m\u001b[0;34m(\u001b[0m\u001b[0;34m\"generator didn't yield\"\u001b[0m\u001b[0;34m)\u001b[0m \u001b[0;32mfrom\u001b[0m \u001b[0;32mNone\u001b[0m\u001b[0;34m\u001b[0m\u001b[0;34m\u001b[0m\u001b[0m\n",
            "\u001b[0;32m/usr/local/lib/python3.7/dist-packages/tensorflow_datasets/core/download/downloader.py\u001b[0m in \u001b[0;36m_open_with_requests\u001b[0;34m(url)\u001b[0m\n\u001b[1;32m    227\u001b[0m   \u001b[0;32mwith\u001b[0m \u001b[0mrequests\u001b[0m\u001b[0;34m.\u001b[0m\u001b[0mSession\u001b[0m\u001b[0;34m(\u001b[0m\u001b[0;34m)\u001b[0m \u001b[0;32mas\u001b[0m \u001b[0msession\u001b[0m\u001b[0;34m:\u001b[0m\u001b[0;34m\u001b[0m\u001b[0;34m\u001b[0m\u001b[0m\n\u001b[1;32m    228\u001b[0m     \u001b[0;32mif\u001b[0m \u001b[0m_DRIVE_URL\u001b[0m\u001b[0;34m.\u001b[0m\u001b[0mmatch\u001b[0m\u001b[0;34m(\u001b[0m\u001b[0murl\u001b[0m\u001b[0;34m)\u001b[0m\u001b[0;34m:\u001b[0m\u001b[0;34m\u001b[0m\u001b[0;34m\u001b[0m\u001b[0m\n\u001b[0;32m--> 229\u001b[0;31m       \u001b[0murl\u001b[0m \u001b[0;34m=\u001b[0m \u001b[0m_get_drive_url\u001b[0m\u001b[0;34m(\u001b[0m\u001b[0murl\u001b[0m\u001b[0;34m,\u001b[0m \u001b[0msession\u001b[0m\u001b[0;34m)\u001b[0m\u001b[0;34m\u001b[0m\u001b[0;34m\u001b[0m\u001b[0m\n\u001b[0m\u001b[1;32m    230\u001b[0m     \u001b[0;32mwith\u001b[0m \u001b[0msession\u001b[0m\u001b[0;34m.\u001b[0m\u001b[0mget\u001b[0m\u001b[0;34m(\u001b[0m\u001b[0murl\u001b[0m\u001b[0;34m,\u001b[0m \u001b[0mstream\u001b[0m\u001b[0;34m=\u001b[0m\u001b[0;32mTrue\u001b[0m\u001b[0;34m)\u001b[0m \u001b[0;32mas\u001b[0m \u001b[0mresponse\u001b[0m\u001b[0;34m:\u001b[0m\u001b[0;34m\u001b[0m\u001b[0;34m\u001b[0m\u001b[0m\n\u001b[1;32m    231\u001b[0m       \u001b[0m_assert_status\u001b[0m\u001b[0;34m(\u001b[0m\u001b[0mresponse\u001b[0m\u001b[0;34m)\u001b[0m\u001b[0;34m\u001b[0m\u001b[0;34m\u001b[0m\u001b[0m\n",
            "\u001b[0;32m/usr/local/lib/python3.7/dist-packages/tensorflow_datasets/core/download/downloader.py\u001b[0m in \u001b[0;36m_get_drive_url\u001b[0;34m(url, session)\u001b[0m\n\u001b[1;32m    245\u001b[0m   \u001b[0;34m\"\"\"Returns url, possibly with confirmation token.\"\"\"\u001b[0m\u001b[0;34m\u001b[0m\u001b[0;34m\u001b[0m\u001b[0m\n\u001b[1;32m    246\u001b[0m   \u001b[0;32mwith\u001b[0m \u001b[0msession\u001b[0m\u001b[0;34m.\u001b[0m\u001b[0mget\u001b[0m\u001b[0;34m(\u001b[0m\u001b[0murl\u001b[0m\u001b[0;34m,\u001b[0m \u001b[0mstream\u001b[0m\u001b[0;34m=\u001b[0m\u001b[0;32mTrue\u001b[0m\u001b[0;34m)\u001b[0m \u001b[0;32mas\u001b[0m \u001b[0mresponse\u001b[0m\u001b[0;34m:\u001b[0m\u001b[0;34m\u001b[0m\u001b[0;34m\u001b[0m\u001b[0m\n\u001b[0;32m--> 247\u001b[0;31m     \u001b[0m_assert_status\u001b[0m\u001b[0;34m(\u001b[0m\u001b[0mresponse\u001b[0m\u001b[0;34m)\u001b[0m\u001b[0;34m\u001b[0m\u001b[0;34m\u001b[0m\u001b[0m\n\u001b[0m\u001b[1;32m    248\u001b[0m     \u001b[0;32mfor\u001b[0m \u001b[0mk\u001b[0m\u001b[0;34m,\u001b[0m \u001b[0mv\u001b[0m \u001b[0;32min\u001b[0m \u001b[0mresponse\u001b[0m\u001b[0;34m.\u001b[0m\u001b[0mcookies\u001b[0m\u001b[0;34m.\u001b[0m\u001b[0mitems\u001b[0m\u001b[0;34m(\u001b[0m\u001b[0;34m)\u001b[0m\u001b[0;34m:\u001b[0m\u001b[0;34m\u001b[0m\u001b[0;34m\u001b[0m\u001b[0m\n\u001b[1;32m    249\u001b[0m       \u001b[0;32mif\u001b[0m \u001b[0mk\u001b[0m\u001b[0;34m.\u001b[0m\u001b[0mstartswith\u001b[0m\u001b[0;34m(\u001b[0m\u001b[0;34m'download_warning'\u001b[0m\u001b[0;34m)\u001b[0m\u001b[0;34m:\u001b[0m\u001b[0;34m\u001b[0m\u001b[0;34m\u001b[0m\u001b[0m\n",
            "\u001b[0;32m/usr/local/lib/python3.7/dist-packages/tensorflow_datasets/core/download/downloader.py\u001b[0m in \u001b[0;36m_assert_status\u001b[0;34m(response)\u001b[0m\n\u001b[1;32m    257\u001b[0m   \u001b[0;32mif\u001b[0m \u001b[0mresponse\u001b[0m\u001b[0;34m.\u001b[0m\u001b[0mstatus_code\u001b[0m \u001b[0;34m!=\u001b[0m \u001b[0;36m200\u001b[0m\u001b[0;34m:\u001b[0m\u001b[0;34m\u001b[0m\u001b[0;34m\u001b[0m\u001b[0m\n\u001b[1;32m    258\u001b[0m     raise DownloadError('Failed to get url {}. HTTP code: {}.'.format(\n\u001b[0;32m--> 259\u001b[0;31m         response.url, response.status_code))\n\u001b[0m",
            "\u001b[0;31mDownloadError\u001b[0m: Failed to get url https://drive.google.com/uc?export=download&id=0B7EVK8r0v71pZjFTYXZWM3FlRnM. HTTP code: 404."
          ]
        }
      ]
    },
    {
      "cell_type": "code",
      "source": [
        "import imageio # 이미지 출력을 쉽게 해줌\n",
        "from skimage.transform import resize # 사이즈 바꾸기\n",
        "\n",
        "# train dataset은 너무 커서 안쓰고 validation dataset을 train dataset으로, test dataset은 test dataset으로 사용\n",
        "\n",
        "celeb_a_train, celeb_a_test = celeb_a['validation'], celeb_a['test'] \n",
        "\n",
        "train_images = []\n",
        "train_labels = []\n",
        "\n",
        "for tensor in tfds.as_numpy(celeb_a_train): # numpy로 바꿔서 저장\n",
        "  isMale = tensor['attributes']['Male']\n",
        "  isSmiling = tensor['attributes']['Smiling']\n",
        "\n",
        "  label = np.array([isMale, isSmiling]).astype(np.int) # label 만들기\n",
        "\n",
        "  img = resize(tensor['image'], (190//1.5, 89//1.5)) # 원본 shape = (218, 178, 3) -> (126.0, 59.0)으로 resize\n",
        "  \n",
        "  train_images.append(img)\n",
        "  train_labels.append(label)\n",
        "\n",
        "test_images = []\n",
        "test_labels = []\n",
        "\n",
        "for tensor in tfds.as_numpy(celeb_a_test):\n",
        "  isMale = tensor['attributes']['Male']\n",
        "  isSmiling = tensor['attributes']['Smiling']\n",
        "\n",
        "  label = np.array([isMale, isSmiling]).astype(np.int) \n",
        "\n",
        "  img = resize(tensor['image'], (190//1.5, 89//1.5))\n",
        "\n",
        "  test_images.append(img)\n",
        "  test_labels.append(label)"
      ],
      "metadata": {
        "id": "3qdpuQwZJxBY"
      },
      "execution_count": null,
      "outputs": []
    },
    {
      "cell_type": "code",
      "source": [
        "len(test_images), len(train_images)"
      ],
      "metadata": {
        "id": "PX0diBmkMNT7"
      },
      "execution_count": null,
      "outputs": []
    },
    {
      "cell_type": "markdown",
      "metadata": {
        "id": "y2gc2vB8zfXp"
      },
      "source": [
        "### 문제 3. 데이터량 축소"
      ]
    },
    {
      "cell_type": "code",
      "metadata": {
        "id": "CerWeQM1zfXp"
      },
      "source": [
        "# 데이터량 축소"
      ],
      "execution_count": null,
      "outputs": []
    },
    {
      "cell_type": "code",
      "source": [
        "from token import DEDENT\n",
        "# 데이터가 불균형하면 학습이 어려움. 따라서 imbalance -> balance 되도록 분포를 맞춰서 데이터량을 축소\n",
        "\n",
        "m_s = [] # man, smiling\n",
        "f_s = [] # female, smiling\n",
        "m_n = []\n",
        "f_n = []\n",
        "\n",
        "for a, b in zip(test_images, test_labels): # zip으로 돌리면 두 개가 한 쌍이 됨\n",
        "  if b[0] and b[1]: # Male과 Smiling 모두 참인 경우\n",
        "    m_s.append((a,b))\n",
        "  elif not b[0] and b[1]: # Male이 거짓, Smiling이 참인 경우\n",
        "    f_s.append((a,b))\n",
        "  elif b[0] and not b[1]: # Male이 참, Smiling이 거짓인 경우\n",
        "    m_n.append((a,b))\n",
        "  elif not b[0] and not b[1]: # Male, Smiling 모두 거짓인 경우\n",
        "    f_n.append((a,b))"
      ],
      "metadata": {
        "id": "RUJcHAjx5s8z"
      },
      "execution_count": null,
      "outputs": []
    },
    {
      "cell_type": "code",
      "source": [
        "len(m_s), len(f_s), len(m_n), len(f_n)"
      ],
      "metadata": {
        "id": "UEXH2DNMMXch"
      },
      "execution_count": null,
      "outputs": []
    },
    {
      "cell_type": "code",
      "source": [
        "# 각 데이터를 550개씩으로 축소\n",
        "total = m_s[:550], f_s[:550], m_n[:550], f_n[:550]\n",
        "len(total) # 2200개"
      ],
      "metadata": {
        "id": "ZgU7oSP-MbVA"
      },
      "execution_count": null,
      "outputs": []
    },
    {
      "cell_type": "code",
      "source": [
        "# test를 trains, tests로 분할\n",
        "import random\n",
        "\n",
        "random.shuffle(total) # 무작위로 섞어주기\n",
        "trains = total[:2000]\n",
        "tests = total[2000:]\n",
        "len(trains), len(tests) # 2000개, 200개"
      ],
      "metadata": {
        "id": "5MJ6nSlRMvD_"
      },
      "execution_count": null,
      "outputs": []
    },
    {
      "cell_type": "code",
      "source": [
        "trains[0] # image와 label이 같이 들어있음"
      ],
      "metadata": {
        "id": "Jm-U1-irNAPU"
      },
      "execution_count": null,
      "outputs": []
    },
    {
      "cell_type": "code",
      "source": [
        "train_images, train_labels = list(zip(*trains)) # image와 label 분리\n",
        "test_images, test_labels = list(zip(*tests))\n",
        "\n",
        "train_images = np.array(train_images) # list -> np.array\n",
        "train_labels = np.array(train_labels)\n",
        "test_images = np.array(test_images)\n",
        "test_labels = np.array(test_labels)"
      ],
      "metadata": {
        "id": "CuUmMZVGNUbD"
      },
      "execution_count": null,
      "outputs": []
    },
    {
      "cell_type": "code",
      "source": [
        "from google.colab import drive\n",
        "drive.mount('/content/drive')"
      ],
      "metadata": {
        "colab": {
          "base_uri": "https://localhost:8080/"
        },
        "id": "eERhQ1PXPWME",
        "outputId": "ba5a457f-15bf-4769-c5ca-953aafa3d33f"
      },
      "execution_count": null,
      "outputs": [
        {
          "output_type": "stream",
          "name": "stdout",
          "text": [
            "Mounted at /content/drive\n"
          ]
        }
      ]
    },
    {
      "cell_type": "code",
      "source": [
        "# 데이터 저장\n",
        "np.savez('/content/drive/MyDrive/패스트캠퍼스/Part 1/celeba_small.npz', train_images=train_images, train_labels=train_labels, test_images=test_images, test_labels=test_labels)"
      ],
      "metadata": {
        "id": "QCr1wMGpO0z6"
      },
      "execution_count": null,
      "outputs": []
    },
    {
      "cell_type": "markdown",
      "metadata": {
        "id": "6_IiB2H3zfXq"
      },
      "source": [
        "### 문제 4. 사전 저장된 celeba small 데이터 확인"
      ]
    },
    {
      "cell_type": "code",
      "metadata": {
        "id": "jeVP1QF4zfXq"
      },
      "source": [
        "# 이미 저장된 celeba 데이터를 이용"
      ],
      "execution_count": null,
      "outputs": []
    },
    {
      "cell_type": "code",
      "metadata": {
        "id": "vbICbiKPmKk2",
        "colab": {
          "base_uri": "https://localhost:8080/"
        },
        "outputId": "563148d8-e1bb-4f5d-dfb6-f5182bcaa270"
      },
      "source": [
        "from google.colab import drive\n",
        "drive.mount('/content/drive')"
      ],
      "execution_count": null,
      "outputs": [
        {
          "output_type": "stream",
          "name": "stdout",
          "text": [
            "Drive already mounted at /content/drive; to attempt to forcibly remount, call drive.mount(\"/content/drive\", force_remount=True).\n"
          ]
        }
      ]
    },
    {
      "cell_type": "code",
      "source": [
        "# 리눅스 코드를 통해 확인\n",
        "!ls -al '/content/drive/My Drive/패스트캠퍼스/Part 1'"
      ],
      "metadata": {
        "id": "NSK9AASj5uWG",
        "colab": {
          "base_uri": "https://localhost:8080/"
        },
        "outputId": "cb19bc64-a86a-4218-99d4-777057705797"
      },
      "execution_count": null,
      "outputs": [
        {
          "output_type": "stream",
          "name": "stdout",
          "text": [
            "total 171561\n",
            "-rw------- 1 root root 173961605 Feb 14 15:40  celeba_small.npz\n",
            "drwx------ 2 root root      4096 Feb 15 07:21  .ipynb_checkpoints\n",
            "-rw------- 1 root root    364345 Feb 14 15:26 '[실습]Part1_Ch01_이미지 분류 - RNN으로 손글씨 이미지 분류하기.ipynb'\n",
            "-rw------- 1 root root    211657 Feb 14 12:40 'Part1_Ch01_이미지 분류 - RNN으로 손글씨 이미지 분류하기.ipynb'\n",
            "-rw------- 1 root root    241152 Feb 15 10:57 '[실습]Part1_Ch02_멀티모델 분류 - 인물 사진에서 성별과 표정 분석하기.ipynb'\n",
            "-rw------- 1 root root    491518 Feb 14 12:40 'Part1_Ch02_멀티모델 분류 - 인물 사진에서 성별과 표정 분석하기.ipynb'\n",
            "-rw------- 1 root root     19063 Mar 26  2021 '[실습]Part1_Ch03_멀티레이블 분류 - 여러 의상 사진에서 옷 종류 구분하기.ipynb'\n",
            "-rw------- 1 root root    383661 Feb 14 12:40 'Part1_Ch03_멀티레이블 분류 - 여러 의상 사진에서 옷 종류 구분하기.ipynb'\n"
          ]
        }
      ]
    },
    {
      "cell_type": "code",
      "source": [
        "# 다운로드 받아서 사용하는 방법\n",
        "# https://drive.google.com/file/d/1t2qIgpWdWX_n5OC8P2ZiDfPIQ98NY_PB/view\n",
        "!gdown --id 1t2qIgpWdWX_n5OC8P2ZiDfPIQ98NY_PB"
      ],
      "metadata": {
        "colab": {
          "base_uri": "https://localhost:8080/"
        },
        "id": "QFMuIR11QlUY",
        "outputId": "044ef58a-dfc5-4711-e601-ba4b7cbe0f9f"
      },
      "execution_count": null,
      "outputs": [
        {
          "output_type": "stream",
          "name": "stdout",
          "text": [
            "Access denied with the following error:\n",
            "\n",
            " \tCannot retrieve the public link of the file. You may need to change\n",
            "\tthe permission to 'Anyone with the link', or have had many accesses. \n",
            "\n",
            "You may still be able to access the file from the browser:\n",
            "\n",
            "\t https://drive.google.com/uc?id=1t2qIgpWdWX_n5OC8P2ZiDfPIQ98NY_PB \n",
            "\n"
          ]
        }
      ]
    },
    {
      "cell_type": "markdown",
      "metadata": {
        "id": "pFQzrtS9zfXr"
      },
      "source": [
        "### 문제 5. celeba_small 데이터 살펴보기"
      ]
    },
    {
      "cell_type": "code",
      "metadata": {
        "id": "il6cKcv4zfXr"
      },
      "source": [
        "# 데이터를 train에서 사람 이미지 한장과 label 정보 한개를 불러오는 코드를 작성해주세요. (x, y로 변수 대입)"
      ],
      "execution_count": null,
      "outputs": []
    },
    {
      "cell_type": "code",
      "source": [
        "celeba_small = np.load('/content/drive/MyDrive/패스트캠퍼스/Part 1/celeba_small.npz')\n",
        "list(celeba_small.keys())"
      ],
      "metadata": {
        "colab": {
          "base_uri": "https://localhost:8080/"
        },
        "id": "DflKfQIeRhgh",
        "outputId": "ac4dee26-bcaa-4f5b-fa3d-040afbeba846"
      },
      "execution_count": null,
      "outputs": [
        {
          "output_type": "execute_result",
          "data": {
            "text/plain": [
              "['train_images', 'train_labels', 'test_images', 'test_labels']"
            ]
          },
          "metadata": {},
          "execution_count": 11
        }
      ]
    },
    {
      "cell_type": "code",
      "source": [
        "x = celeba_small['train_images'][3]\n",
        "y = celeba_small['train_labels'][3]"
      ],
      "metadata": {
        "id": "dZqZJ7IPR1Av"
      },
      "execution_count": null,
      "outputs": []
    },
    {
      "cell_type": "markdown",
      "metadata": {
        "id": "GCA5cjoczfXr"
      },
      "source": [
        "### 문제 6. x와 y의 shape을 출력해보세요."
      ]
    },
    {
      "cell_type": "code",
      "metadata": {
        "id": "VID5ngH3zfXr"
      },
      "source": [
        "# 데이터의 크기를 shape 함수를 통해 출력해주세요."
      ],
      "execution_count": null,
      "outputs": []
    },
    {
      "cell_type": "code",
      "source": [
        "x.shape, y.shape # x shape : height, width, color"
      ],
      "metadata": {
        "colab": {
          "base_uri": "https://localhost:8080/"
        },
        "id": "9dneiJ3GSPpd",
        "outputId": "dfda26d4-38f0-490b-d1b5-2856974b73ac"
      },
      "execution_count": null,
      "outputs": [
        {
          "output_type": "execute_result",
          "data": {
            "text/plain": [
              "((72, 59, 3), (2,))"
            ]
          },
          "metadata": {},
          "execution_count": 14
        }
      ]
    },
    {
      "cell_type": "markdown",
      "metadata": {
        "id": "oWWZjiR5zfXs"
      },
      "source": [
        "### 문제 7. x를 각각 plt를 통하여 출력하세요."
      ]
    },
    {
      "cell_type": "code",
      "metadata": {
        "id": "zCD8YxAFzfXs"
      },
      "source": [
        "# x를 plt를 이용하여 출력하는 코드를 작성해보세요"
      ],
      "execution_count": null,
      "outputs": []
    },
    {
      "cell_type": "code",
      "source": [
        "plt.imshow(x)\n",
        "plt.show()\n",
        "print(y)"
      ],
      "metadata": {
        "colab": {
          "base_uri": "https://localhost:8080/",
          "height": 286
        },
        "id": "HGZggVa1STB6",
        "outputId": "7eadc823-cde1-4440-abe6-91919c802f52"
      },
      "execution_count": null,
      "outputs": [
        {
          "output_type": "display_data",
          "data": {
            "image/png": "[encoded data removed]",
            "text/plain": [
              "<Figure size 432x288 with 1 Axes>"
            ]
          },
          "metadata": {
            "needs_background": "light"
          }
        },
        {
          "output_type": "stream",
          "name": "stdout",
          "text": [
            "[1 1]\n"
          ]
        }
      ]
    },
    {
      "cell_type": "markdown",
      "metadata": {
        "id": "oblQdV_KzfXs"
      },
      "source": [
        "### 문제 8. celeba_small.npz 데이터에서 학습, 테스트 데이터를 로드하세요."
      ]
    },
    {
      "cell_type": "code",
      "metadata": {
        "id": "UbqJxnEKzfXs"
      },
      "source": [
        "# celeba_small.npz에서 train_images, test_images, train_labels, test_labels를 np array로 로드하세요."
      ],
      "execution_count": null,
      "outputs": []
    },
    {
      "cell_type": "code",
      "source": [
        "train_images = celeba_small['train_images']\n",
        "train_labels = celeba_small['train_labels']\n",
        "\n",
        "test_images = celeba_small['test_images']\n",
        "test_labels = celeba_small['test_labels']"
      ],
      "metadata": {
        "id": "jA3-UjSQSrSZ"
      },
      "execution_count": null,
      "outputs": []
    },
    {
      "cell_type": "markdown",
      "metadata": {
        "id": "7KrxMSX1zfXs"
      },
      "source": [
        "### 문제 9. train_images에서 0이 아닌 값들을 출력해보세요."
      ]
    },
    {
      "cell_type": "code",
      "metadata": {
        "id": "gzVkaWY_zfXs"
      },
      "source": [
        "# 하나의 이미지에 대한 모든 0이 아닌 값을 출력하는 코드를 작성하세요."
      ],
      "execution_count": null,
      "outputs": []
    },
    {
      "cell_type": "code",
      "source": [
        "train_images[train_images != 0][:10]"
      ],
      "metadata": {
        "colab": {
          "base_uri": "https://localhost:8080/"
        },
        "id": "A60xsHVMSrst",
        "outputId": "aeb7f2e5-7aa0-4103-be5e-29a849263a88"
      },
      "execution_count": null,
      "outputs": [
        {
          "output_type": "execute_result",
          "data": {
            "text/plain": [
              "array([0.02352941, 0.04313725, 0.05490196, 0.01960784, 0.03921569,\n",
              "       0.05490196, 0.01977401, 0.03921569, 0.05114656, 0.02352941])"
            ]
          },
          "metadata": {},
          "execution_count": 20
        }
      ]
    },
    {
      "cell_type": "code",
      "source": [
        "plt.imshow(train_images[0])\n",
        "plt.colorbar() # 컬러바를 통해 보기\n",
        "plt.show()"
      ],
      "metadata": {
        "colab": {
          "base_uri": "https://localhost:8080/",
          "height": 268
        },
        "id": "D99MgbCYbAbt",
        "outputId": "130a34c9-3953-44e9-83d3-527be749fddc"
      },
      "execution_count": null,
      "outputs": [
        {
          "output_type": "display_data",
          "data": {
            "image/png": "[encoded data removed]",
            "text/plain": [
              "<Figure size 432x288 with 2 Axes>"
            ]
          },
          "metadata": {
            "needs_background": "light"
          }
        }
      ]
    },
    {
      "cell_type": "markdown",
      "metadata": {
        "id": "ZHPt_38HzfXt"
      },
      "source": [
        "### 문제 10. train_images의 dtype을 출력해보세요."
      ]
    },
    {
      "cell_type": "code",
      "metadata": {
        "id": "U0CsxiLqzfXt"
      },
      "source": [
        "# dtype을 이용하여 이미지의 np array type을 확인해보세요."
      ],
      "execution_count": null,
      "outputs": []
    },
    {
      "cell_type": "code",
      "source": [
        "train_images.dtype"
      ],
      "metadata": {
        "colab": {
          "base_uri": "https://localhost:8080/"
        },
        "id": "EngHLqV5a_E7",
        "outputId": "c9c9001e-4ef7-421a-89e9-b8ec155aa443"
      },
      "execution_count": null,
      "outputs": [
        {
          "output_type": "execute_result",
          "data": {
            "text/plain": [
              "dtype('float64')"
            ]
          },
          "metadata": {},
          "execution_count": 23
        }
      ]
    },
    {
      "cell_type": "markdown",
      "metadata": {
        "id": "WTLJMKtgzfXt"
      },
      "source": [
        "## Step 2. 전처리"
      ]
    },
    {
      "cell_type": "markdown",
      "metadata": {
        "id": "RGSJWe6wzfXt"
      },
      "source": [
        "### 문제 11. 이미지 데이터의 범위 확인"
      ]
    },
    {
      "cell_type": "code",
      "metadata": {
        "id": "vmU5DLMWzfXt"
      },
      "source": [
        "# train_images, train_labels의 shape과 dtype, 0이 아닌 숫자를 출력하는 코드를 작성하세요."
      ],
      "execution_count": null,
      "outputs": []
    },
    {
      "cell_type": "code",
      "source": [
        "print(train_images.shape, train_images.dtype)\n",
        "print(train_images[train_images != 0][:10])\n",
        "\n",
        "print(train_labels.shape, train_labels.dtype)\n",
        "print(train_labels[train_labels != 0][:10])"
      ],
      "metadata": {
        "colab": {
          "base_uri": "https://localhost:8080/"
        },
        "id": "jFWjHt1bbK_m",
        "outputId": "0a154314-5938-4ba8-a948-416661ee787f"
      },
      "execution_count": null,
      "outputs": [
        {
          "output_type": "stream",
          "name": "stdout",
          "text": [
            "(2000, 72, 59, 3) float64\n",
            "[0.02352941 0.04313725 0.05490196 0.01960784 0.03921569 0.05490196\n",
            " 0.01977401 0.03921569 0.05114656 0.02352941]\n",
            "(2000, 2) int8\n",
            "[1 1 1 1 1 1 1 1 1 1]\n"
          ]
        }
      ]
    },
    {
      "cell_type": "markdown",
      "metadata": {
        "id": "UqAC_4r5zfXu"
      },
      "source": [
        "### 문제 12. images/labels 이미지 데이터의 최소/최대값을 출력"
      ]
    },
    {
      "cell_type": "code",
      "metadata": {
        "id": "ZYyRj1TkzfXu"
      },
      "source": [
        "# train/test 전체 데이터에서 각 images, labels의 min, max를 출력하는 코드를 작성하세요."
      ],
      "execution_count": null,
      "outputs": []
    },
    {
      "cell_type": "code",
      "source": [
        "print(train_images.min(), train_images.max())\n",
        "print(train_labels.min(), train_labels.max()) \n",
        "\n",
        "print(test_images.min(), test_images.max())\n",
        "print(test_labels.min(), test_labels.max()) "
      ],
      "metadata": {
        "colab": {
          "base_uri": "https://localhost:8080/"
        },
        "id": "nZ8HlNN1bLPy",
        "outputId": "560e2b12-ecb5-478d-fb2f-48960251d0b9"
      },
      "execution_count": null,
      "outputs": [
        {
          "output_type": "stream",
          "name": "stdout",
          "text": [
            "0.0 1.0\n",
            "0 1\n",
            "0.0 1.0\n",
            "0 1\n"
          ]
        }
      ]
    },
    {
      "cell_type": "markdown",
      "metadata": {
        "id": "IWWfvi8FzfXu"
      },
      "source": [
        "### 문제 13. labels의 shape을 (배치, 2)에서 (배치, 2), (배치, 2)으로 변경하세요.  \n",
        "(배치, (성별,웃음)) => (배치, 남자, 여자), (배치, 웃음, 안웃음)"
      ]
    },
    {
      "cell_type": "code",
      "metadata": {
        "id": "wuSOXHEEzfXu"
      },
      "source": [
        "# (배치, 2)의 labels shape을 (배치, 1)의 shape의 2개의 array로 분리하는 코드를 추가하세요."
      ],
      "execution_count": null,
      "outputs": []
    },
    {
      "cell_type": "code",
      "source": [
        "train_labels.shape"
      ],
      "metadata": {
        "colab": {
          "base_uri": "https://localhost:8080/"
        },
        "id": "6pzhju8fbLqb",
        "outputId": "1992a056-bad2-4c34-e16b-bfbd808ecdc5"
      },
      "execution_count": null,
      "outputs": [
        {
          "output_type": "execute_result",
          "data": {
            "text/plain": [
              "(2000, 2)"
            ]
          },
          "metadata": {},
          "execution_count": 29
        }
      ]
    },
    {
      "cell_type": "code",
      "source": [
        "from keras.utils.np_utils import to_categorical\n",
        "\n",
        "train_male_labels, train_smile_labels = np.split(train_labels, 2, axis=1) # 나누기\n",
        "test_male_labels, test_smile_labels = np.split(test_labels, 2, axis=1)\n",
        "\n",
        "print(train_labels[0], train_male_labels[0], train_smile_labels[0])\n",
        "print(train_labels[1], train_male_labels[1], train_smile_labels[1])"
      ],
      "metadata": {
        "colab": {
          "base_uri": "https://localhost:8080/"
        },
        "id": "SDiv_vxXc8sT",
        "outputId": "b0a0f39f-8f2d-422f-9bea-bfc8935bc53e"
      },
      "execution_count": null,
      "outputs": [
        {
          "output_type": "stream",
          "name": "stdout",
          "text": [
            "[0 0] [0] [0]\n",
            "[1 1] [1] [1]\n"
          ]
        }
      ]
    },
    {
      "cell_type": "code",
      "source": [
        "# (배치, 2) -> (배치, 1), (배치, 1) -> (배치, 2), (배치, 2)\n",
        "train_male_labels = to_categorical(train_male_labels, 2)\n",
        "train_smile_labels = to_categorical(train_smile_labels, 2)\n",
        "test_male_labels = to_categorical(test_male_labels, 2)\n",
        "test_smile_labels = to_categorical(test_smile_labels, 2)"
      ],
      "metadata": {
        "id": "cSblWkZ6d50_"
      },
      "execution_count": null,
      "outputs": []
    },
    {
      "cell_type": "code",
      "source": [
        "print(train_male_labels.shape, train_smile_labels.shape)\n",
        "print(test_male_labels.shape, test_smile_labels.shape)"
      ],
      "metadata": {
        "colab": {
          "base_uri": "https://localhost:8080/"
        },
        "id": "Qb__2sR7ezHh",
        "outputId": "1fcdaa96-f75f-419b-a1ce-8b7d7b03ddb7"
      },
      "execution_count": null,
      "outputs": [
        {
          "output_type": "stream",
          "name": "stdout",
          "text": [
            "(2000, 2) (2000, 2)\n",
            "(200, 2) (200, 2)\n"
          ]
        }
      ]
    },
    {
      "cell_type": "markdown",
      "metadata": {
        "id": "8K0Z0kU8zfXu"
      },
      "source": [
        "### 문제 14. labels의 shape을 (배치, 2), (배치, 2)에서 (배치, 4)로 합쳐보세요."
      ]
    },
    {
      "cell_type": "code",
      "metadata": {
        "id": "b_fdgA-WzfXv"
      },
      "source": [
        "# (배치, 2), (배치, 2)의 labels를 (배치, 4)로 합치는 코드를 작성하세요.\n",
        "# (배치, 남성여부, 웃음여부) => (배치, 남성여부), (배치, 웃음여부) => (배치, 여자여부, 남자여부), (배치, 안웃음여부, 웃음여부) => (배치, 여자여부, 남자여부, 안웃음여부, 웃음여부)"
      ],
      "execution_count": null,
      "outputs": []
    },
    {
      "cell_type": "code",
      "source": [
        "train_labels2 = np.concatenate([train_male_labels, train_smile_labels], axis=1)\n",
        "test_labels2 = np.concatenate([test_male_labels, test_smile_labels], axis=1)"
      ],
      "metadata": {
        "id": "q_hAJ696bMD0"
      },
      "execution_count": null,
      "outputs": []
    },
    {
      "cell_type": "code",
      "source": [
        "train_labels2.shape, test_labels2.shape"
      ],
      "metadata": {
        "colab": {
          "base_uri": "https://localhost:8080/"
        },
        "id": "Hcqt4Cf5fiuc",
        "outputId": "c42029e7-ecd6-40b2-f951-626fa73451c5"
      },
      "execution_count": null,
      "outputs": [
        {
          "output_type": "execute_result",
          "data": {
            "text/plain": [
              "((2000, 4), (200, 4))"
            ]
          },
          "metadata": {},
          "execution_count": 35
        }
      ]
    },
    {
      "cell_type": "markdown",
      "metadata": {
        "id": "3XcXNvJCzfXv"
      },
      "source": [
        "## Step 3. 시각화 방법"
      ]
    },
    {
      "cell_type": "markdown",
      "metadata": {
        "id": "E4-KNKc4zfXv"
      },
      "source": [
        "### 문제 15. train_image의 이미지를 5장 획득하여 (5, 세로, 가로, 3)의 shape을 출력하세요."
      ]
    },
    {
      "cell_type": "code",
      "metadata": {
        "id": "DNV-8ovuzfXv"
      },
      "source": [
        "# (배치, 세로, 가로, 3)인 train_images에서 (5, 세로, 가로, 3)을 획득하는 코드를 작성하세요."
      ],
      "execution_count": null,
      "outputs": []
    },
    {
      "cell_type": "code",
      "source": [
        "train_images[:5].shape"
      ],
      "metadata": {
        "colab": {
          "base_uri": "https://localhost:8080/"
        },
        "id": "0hvN0XiebMf1",
        "outputId": "90536989-d03c-49b6-eab8-de3519050235"
      },
      "execution_count": null,
      "outputs": [
        {
          "output_type": "execute_result",
          "data": {
            "text/plain": [
              "(5, 72, 59, 3)"
            ]
          },
          "metadata": {},
          "execution_count": 37
        }
      ]
    },
    {
      "cell_type": "markdown",
      "metadata": {
        "id": "NEFpns-jzfXv"
      },
      "source": [
        "### 문제 16. 획득한 5장의 의미지를 (세로, 가로 * 5, 3)의 shape으로 변경해보세요."
      ]
    },
    {
      "cell_type": "code",
      "metadata": {
        "id": "SpajpXewzfXv"
      },
      "source": [
        "# np.hstack은 height 방향의 배열을 풀어서 width 방향으로 연결해줍니다.\n",
        "# 해당 기능을 쓰면 (height, image_height, image_width, color)의 shape을 (image_height, image_width * height, color)으로 바꿔 줄 수 있습니다.\n",
        "# 코드를 작성해보세요."
      ],
      "execution_count": null,
      "outputs": []
    },
    {
      "cell_type": "code",
      "source": [
        "np.hstack(train_images[:5]).shape"
      ],
      "metadata": {
        "colab": {
          "base_uri": "https://localhost:8080/"
        },
        "id": "ukASyf32bM6c",
        "outputId": "55e545b9-012f-4d8f-a9a5-d52bb3e638a6"
      },
      "execution_count": null,
      "outputs": [
        {
          "output_type": "execute_result",
          "data": {
            "text/plain": [
              "(72, 295, 3)"
            ]
          },
          "metadata": {},
          "execution_count": 39
        }
      ]
    },
    {
      "cell_type": "markdown",
      "metadata": {
        "id": "cFn1q_0jzfXw"
      },
      "source": [
        "### 문제 17. np.hstack은 tensorflow에서 제공하는 방법이 아니므로 transpose 함수를 이용하여 (세로, 가로 * 5, 3)로 shape을 변경해보세요."
      ]
    },
    {
      "cell_type": "code",
      "metadata": {
        "id": "22VKC444zfXw"
      },
      "source": [
        "# transpose는 tensor의 axis를 섞는 기능을 합니다.\n",
        "# 해당 기능을 이용해서 (세로, 가로 * 5, 3)을 작성하는 코드를 작성해보세요."
      ],
      "execution_count": null,
      "outputs": []
    },
    {
      "cell_type": "code",
      "source": [
        "np.transpose(train_images[:5], (1,0,2,3)).reshape((72,-1,3)).shape"
      ],
      "metadata": {
        "colab": {
          "base_uri": "https://localhost:8080/"
        },
        "id": "sixg-DQqbNS1",
        "outputId": "f9403e6f-5b30-43c4-88de-e5c54b84edcb"
      },
      "execution_count": null,
      "outputs": [
        {
          "output_type": "execute_result",
          "data": {
            "text/plain": [
              "(72, 295, 3)"
            ]
          },
          "metadata": {},
          "execution_count": 41
        }
      ]
    },
    {
      "cell_type": "markdown",
      "metadata": {
        "id": "M4VjTp8FzfXw"
      },
      "source": [
        "### 문제 18. (72, 295, 3)이 된 tensor를 plt로 출력해보세요."
      ]
    },
    {
      "cell_type": "code",
      "metadata": {
        "id": "gMgv1J0-zfXw"
      },
      "source": [
        "# (72, 295, 3)의 이미지를 plt로 출력해보세요."
      ],
      "execution_count": null,
      "outputs": []
    },
    {
      "cell_type": "code",
      "source": [
        "plt.imshow(np.transpose(train_images[:5], (1,0,2,3)).reshape((72,-1,3)))\n",
        "plt.show()\n",
        "print(train_labels2[:5])"
      ],
      "metadata": {
        "colab": {
          "base_uri": "https://localhost:8080/",
          "height": 222
        },
        "id": "plL3uoknbNpZ",
        "outputId": "29c9e071-53cd-4e3e-ac0f-857a8ebeb612"
      },
      "execution_count": null,
      "outputs": [
        {
          "output_type": "display_data",
          "data": {
            "image/png": "[encoded data removed]",
            "text/plain": [
              "<Figure size 432x288 with 1 Axes>"
            ]
          },
          "metadata": {
            "needs_background": "light"
          }
        },
        {
          "output_type": "stream",
          "name": "stdout",
          "text": [
            "[[1. 0. 1. 0.]\n",
            " [0. 1. 0. 1.]\n",
            " [0. 1. 1. 0.]\n",
            " [0. 1. 0. 1.]\n",
            " [0. 1. 0. 1.]]\n"
          ]
        }
      ]
    },
    {
      "cell_type": "markdown",
      "metadata": {
        "id": "aXxgfeGdzfXw"
      },
      "source": [
        "### 문제 19. smile, male label도 5개 출력해보세요."
      ]
    },
    {
      "cell_type": "code",
      "metadata": {
        "id": "cE5mCP_GzfXx"
      },
      "source": [
        "# smile, male label을 5개 출력하는 코드를 작성해보세요."
      ],
      "execution_count": null,
      "outputs": []
    },
    {
      "cell_type": "code",
      "source": [
        "for male, smile in zip(train_male_labels[:5],train_smile_labels[:5]):\n",
        "  print(male, smile)"
      ],
      "metadata": {
        "colab": {
          "base_uri": "https://localhost:8080/"
        },
        "id": "HVn6qgLabft0",
        "outputId": "f6185774-3ad3-42a2-af8d-cfad899cd3c1"
      },
      "execution_count": null,
      "outputs": [
        {
          "output_type": "stream",
          "name": "stdout",
          "text": [
            "[1. 0.] [1. 0.]\n",
            "[0. 1.] [0. 1.]\n",
            "[0. 1.] [1. 0.]\n",
            "[0. 1.] [0. 1.]\n",
            "[0. 1.] [0. 1.]\n"
          ]
        }
      ]
    },
    {
      "cell_type": "markdown",
      "metadata": {
        "id": "4x0KU_BzzfXx"
      },
      "source": [
        "### 문제 20. smile, male이 각각 몇개 있는지 측정해보세요."
      ]
    },
    {
      "cell_type": "code",
      "metadata": {
        "id": "VDnSgzzKzfXx"
      },
      "source": [
        "# pandas를 smile, male이 각각 몇개 있는지 plt를 통하여 출력하는 코드를 작성하세요."
      ],
      "execution_count": null,
      "outputs": []
    },
    {
      "cell_type": "code",
      "source": [
        "df = pd.DataFrame(train_labels, columns=['gender','smile'])\n",
        "df.groupby(['gender','smile']).size()"
      ],
      "metadata": {
        "colab": {
          "base_uri": "https://localhost:8080/"
        },
        "id": "nxttm8dgbgcJ",
        "outputId": "9544245b-53a7-455b-949a-6e1723903105"
      },
      "execution_count": null,
      "outputs": [
        {
          "output_type": "execute_result",
          "data": {
            "text/plain": [
              "gender  smile\n",
              "0       0        499\n",
              "        1        507\n",
              "1       0        504\n",
              "        1        490\n",
              "dtype: int64"
            ]
          },
          "metadata": {},
          "execution_count": 47
        }
      ]
    },
    {
      "cell_type": "code",
      "source": [
        "df.groupby(['gender','smile']).size().unstack().plot(kind='bar', stacked=True)"
      ],
      "metadata": {
        "colab": {
          "base_uri": "https://localhost:8080/",
          "height": 294
        },
        "id": "TgDR0f9eiZ-I",
        "outputId": "024b4a67-5bf6-4fdb-c995-0f169f162481"
      },
      "execution_count": null,
      "outputs": [
        {
          "output_type": "execute_result",
          "data": {
            "text/plain": [
              "<matplotlib.axes._subplots.AxesSubplot at 0x7f7a5c2f57d0>"
            ]
          },
          "metadata": {},
          "execution_count": 48
        },
        {
          "output_type": "display_data",
          "data": {
            "image/png": "[encoded data removed]",
            "text/plain": [
              "<Figure size 432x288 with 1 Axes>"
            ]
          },
          "metadata": {
            "needs_background": "light"
          }
        }
      ]
    },
    {
      "cell_type": "markdown",
      "metadata": {
        "id": "odqpEsI0iH1f"
      },
      "source": [
        "## Step 4. 각각 모델링"
      ]
    },
    {
      "cell_type": "markdown",
      "metadata": {
        "id": "VRJJjjSLiH1h"
      },
      "source": [
        "### 문제 21. smile과 gender 학습셋을 각 각 처리하는 이미지 classification 모델 2개를 작성하세요. (단 label을 각각 따로 처리)"
      ]
    },
    {
      "cell_type": "code",
      "metadata": {
        "id": "-y-r6Wc0iH1h"
      },
      "source": [
        "# input (배치, 72, 59, 3), output (배치, 2)을 처리할 수 있는 모양의 모델 2개를 작성하세요. (gender 모델, smile 모델)"
      ],
      "execution_count": null,
      "outputs": []
    },
    {
      "cell_type": "code",
      "source": [
        "from keras.models import Model\n",
        "from keras.layers import Conv2D, MaxPool2D, Input, Flatten\n",
        "\n",
        "def simple_model(): # gender, smile 둘다 같은 모델을 그대로 사용하므로 함수로 만들기\n",
        "  # 레이어 생성\n",
        "  inputs = Input((72,59,3))\n",
        "\n",
        "  x = Conv2D(32, 3, 1, activation='relu')(inputs) # filter, kernel, stride\n",
        "  x = MaxPool2D(2)(x) # 2배 작게\n",
        "  x = Conv2D(64, 3, 1, activation='relu')(x)\n",
        "  x = MaxPool2D(2)(x)\n",
        "  x = Conv2D(64, 3, 1, activation='relu')(x)\n",
        "  x = MaxPool2D(2)(x)\n",
        "\n",
        "  x = Flatten()(x)\n",
        "  x = Dense(64, activation='relu')(x)\n",
        "\n",
        "  outputs = Dense(2, activation='softmax')(x) # 두 개 중 하나를 맞추는 문제\n",
        "\n",
        "  # 모델 생성\n",
        "  model = Model(inputs, outputs)\n",
        "  return model"
      ],
      "metadata": {
        "id": "dsb2W2f-iwsV"
      },
      "execution_count": null,
      "outputs": []
    },
    {
      "cell_type": "markdown",
      "metadata": {
        "id": "wGQPwl5iiH1i"
      },
      "source": [
        "### 문제 22. 2개의 모델을 할당 받고 서머리를 출력해보세요.\n"
      ]
    },
    {
      "cell_type": "code",
      "metadata": {
        "id": "Fxc4Uu7viH1i"
      },
      "source": [
        "# simple_model() 모델을 2번 할당 받고 서머리를 출력하는 코드를 작성하세요."
      ],
      "execution_count": null,
      "outputs": []
    },
    {
      "cell_type": "code",
      "source": [
        "gender_model = simple_model()\n",
        "smile_model = simple_model()"
      ],
      "metadata": {
        "id": "ExxrxpmFmz4U"
      },
      "execution_count": null,
      "outputs": []
    },
    {
      "cell_type": "code",
      "source": [
        "print(gender_model.summary()) # padding 때문에 사이즈가 줄었음"
      ],
      "metadata": {
        "colab": {
          "base_uri": "https://localhost:8080/"
        },
        "id": "m1OS3bilnEEO",
        "outputId": "218d624c-e2ea-4b2e-fe42-2ef9c0537c89"
      },
      "execution_count": null,
      "outputs": [
        {
          "output_type": "stream",
          "name": "stdout",
          "text": [
            "Model: \"model\"\n",
            "_________________________________________________________________\n",
            " Layer (type)                Output Shape              Param #   \n",
            "=================================================================\n",
            " input_1 (InputLayer)        [(None, 72, 59, 3)]       0         \n",
            "                                                                 \n",
            " conv2d (Conv2D)             (None, 70, 57, 32)        896       \n",
            "                                                                 \n",
            " max_pooling2d (MaxPooling2D  (None, 35, 28, 32)       0         \n",
            " )                                                               \n",
            "                                                                 \n",
            " conv2d_1 (Conv2D)           (None, 33, 26, 64)        18496     \n",
            "                                                                 \n",
            " max_pooling2d_1 (MaxPooling  (None, 16, 13, 64)       0         \n",
            " 2D)                                                             \n",
            "                                                                 \n",
            " conv2d_2 (Conv2D)           (None, 14, 11, 64)        36928     \n",
            "                                                                 \n",
            " max_pooling2d_2 (MaxPooling  (None, 7, 5, 64)         0         \n",
            " 2D)                                                             \n",
            "                                                                 \n",
            " flatten (Flatten)           (None, 2240)              0         \n",
            "                                                                 \n",
            " dense (Dense)               (None, 64)                143424    \n",
            "                                                                 \n",
            " dense_1 (Dense)             (None, 2)                 130       \n",
            "                                                                 \n",
            "=================================================================\n",
            "Total params: 199,874\n",
            "Trainable params: 199,874\n",
            "Non-trainable params: 0\n",
            "_________________________________________________________________\n",
            "None\n"
          ]
        }
      ]
    },
    {
      "cell_type": "code",
      "source": [
        "print(smile_model.summary())"
      ],
      "metadata": {
        "colab": {
          "base_uri": "https://localhost:8080/"
        },
        "id": "Ub29ut7RnFAu",
        "outputId": "56147736-f3e1-4214-cbe6-767a232c2021"
      },
      "execution_count": null,
      "outputs": [
        {
          "output_type": "stream",
          "name": "stdout",
          "text": [
            "Model: \"model_1\"\n",
            "_________________________________________________________________\n",
            " Layer (type)                Output Shape              Param #   \n",
            "=================================================================\n",
            " input_2 (InputLayer)        [(None, 72, 59, 3)]       0         \n",
            "                                                                 \n",
            " conv2d_3 (Conv2D)           (None, 70, 57, 32)        896       \n",
            "                                                                 \n",
            " max_pooling2d_3 (MaxPooling  (None, 35, 28, 32)       0         \n",
            " 2D)                                                             \n",
            "                                                                 \n",
            " conv2d_4 (Conv2D)           (None, 33, 26, 64)        18496     \n",
            "                                                                 \n",
            " max_pooling2d_4 (MaxPooling  (None, 16, 13, 64)       0         \n",
            " 2D)                                                             \n",
            "                                                                 \n",
            " conv2d_5 (Conv2D)           (None, 14, 11, 64)        36928     \n",
            "                                                                 \n",
            " max_pooling2d_5 (MaxPooling  (None, 7, 5, 64)         0         \n",
            " 2D)                                                             \n",
            "                                                                 \n",
            " flatten_1 (Flatten)         (None, 2240)              0         \n",
            "                                                                 \n",
            " dense_2 (Dense)             (None, 64)                143424    \n",
            "                                                                 \n",
            " dense_3 (Dense)             (None, 2)                 130       \n",
            "                                                                 \n",
            "=================================================================\n",
            "Total params: 199,874\n",
            "Trainable params: 199,874\n",
            "Non-trainable params: 0\n",
            "_________________________________________________________________\n",
            "None\n"
          ]
        }
      ]
    },
    {
      "cell_type": "markdown",
      "metadata": {
        "id": "LVykKLdfiH1j"
      },
      "source": [
        "### 문제 23. 만든 모델에 로스와 옵티마이저, 메트릭을 설정하세요."
      ]
    },
    {
      "cell_type": "code",
      "metadata": {
        "id": "IQU8Qq6iiH1j"
      },
      "source": [
        "# 만든 모델에 loss는 categorical_crossentropy, optimizer는 adam 매트릭은 accuracy으로 설정하는 코드를 작성하세요."
      ],
      "execution_count": null,
      "outputs": []
    },
    {
      "cell_type": "code",
      "source": [
        "gender_model.compile(loss='categorical_crossentropy', optimizer='adam', metrics=['accuracy'])\n",
        "smile_model.compile(loss='categorical_crossentropy', optimizer='adam', metrics=['accuracy'])"
      ],
      "metadata": {
        "id": "CHrKvamz_fJz"
      },
      "execution_count": null,
      "outputs": []
    },
    {
      "cell_type": "markdown",
      "metadata": {
        "id": "vs4MHjKkiH1j"
      },
      "source": [
        "### 문제 24. 만든 모델에 train_images를 학습시켜 보세요."
      ]
    },
    {
      "cell_type": "code",
      "metadata": {
        "id": "UiYocbdmiH1j"
      },
      "source": [
        "# train_images 학습시키고 15 epochs을 돌리고 그 진행 사항을 hist에 저장하는 코드를 작성하세요."
      ],
      "execution_count": null,
      "outputs": []
    },
    {
      "cell_type": "code",
      "source": [
        "# 학습 전 gender 모델의 weights\n",
        "gender_model.get_weights()[0][0][0][0]"
      ],
      "metadata": {
        "colab": {
          "base_uri": "https://localhost:8080/"
        },
        "id": "A0w07RmgApOh",
        "outputId": "3171e7c2-140c-46bf-c967-821862b0c038"
      },
      "execution_count": null,
      "outputs": [
        {
          "output_type": "execute_result",
          "data": {
            "text/plain": [
              "array([-7.61541873e-02, -1.05097562e-01,  2.69652307e-02,  8.73102248e-02,\n",
              "       -1.46240219e-02,  1.37946919e-01, -2.05324888e-02, -1.01127222e-01,\n",
              "       -1.09299153e-01,  6.78972900e-03, -8.71432051e-02, -1.22904405e-01,\n",
              "        1.26336232e-01, -8.32764506e-02,  1.34055570e-01, -8.25124681e-02,\n",
              "       -1.37736246e-01, -2.38354132e-02, -3.71476486e-02,  8.89696479e-02,\n",
              "       -5.00530005e-05,  1.25352889e-02,  5.21456301e-02, -1.13621831e-01,\n",
              "       -3.32056731e-02, -1.18538581e-01, -3.19957584e-02,  1.15217119e-02,\n",
              "       -4.70747054e-03, -8.08913410e-02,  7.73203969e-02, -1.94732770e-02],\n",
              "      dtype=float32)"
            ]
          },
          "metadata": {},
          "execution_count": 58
        }
      ]
    },
    {
      "cell_type": "code",
      "source": [
        "# 학습 전 smile 모델의 weights\n",
        "smile_model.get_weights()[0][0][0][0]"
      ],
      "metadata": {
        "colab": {
          "base_uri": "https://localhost:8080/"
        },
        "id": "-svox67wA4Rn",
        "outputId": "89b8d5e0-d2a1-4aab-8bda-161944486e20"
      },
      "execution_count": null,
      "outputs": [
        {
          "output_type": "execute_result",
          "data": {
            "text/plain": [
              "array([-0.08359583,  0.03454392,  0.03191109, -0.12676431,  0.07094495,\n",
              "        0.10980141, -0.00449534, -0.12756827,  0.11441778, -0.08119871,\n",
              "       -0.106428  ,  0.10138565, -0.02368507,  0.04865311, -0.0676467 ,\n",
              "        0.03609358, -0.06349088, -0.0426605 ,  0.05541112, -0.03741332,\n",
              "       -0.04226808, -0.12790667, -0.06536688, -0.0804979 , -0.08721855,\n",
              "        0.127501  ,  0.13293557, -0.03675009, -0.12194772, -0.07803161,\n",
              "        0.02029634,  0.10830063], dtype=float32)"
            ]
          },
          "metadata": {},
          "execution_count": 59
        }
      ]
    },
    {
      "cell_type": "code",
      "source": [
        "gender_hist = gender_model.fit(train_images, train_male_labels, validation_data=(test_images, test_male_labels), epochs=15, verbose=1)"
      ],
      "metadata": {
        "colab": {
          "base_uri": "https://localhost:8080/"
        },
        "id": "PnOwL9M-iymK",
        "outputId": "1c0d8e12-c7c5-4fe3-a2f3-1cc1018c0413"
      },
      "execution_count": null,
      "outputs": [
        {
          "output_type": "stream",
          "name": "stdout",
          "text": [
            "Epoch 1/15\n",
            "63/63 [==============================] - 3s 21ms/step - loss: 0.5842 - accuracy: 0.6925 - val_loss: 0.5693 - val_accuracy: 0.7400\n",
            "Epoch 2/15\n",
            "63/63 [==============================] - 1s 13ms/step - loss: 0.4330 - accuracy: 0.8115 - val_loss: 0.4757 - val_accuracy: 0.7750\n",
            "Epoch 3/15\n",
            "63/63 [==============================] - 1s 13ms/step - loss: 0.2704 - accuracy: 0.8890 - val_loss: 0.3421 - val_accuracy: 0.8900\n",
            "Epoch 4/15\n",
            "63/63 [==============================] - 1s 13ms/step - loss: 0.1968 - accuracy: 0.9185 - val_loss: 0.2507 - val_accuracy: 0.9250\n",
            "Epoch 5/15\n",
            "63/63 [==============================] - 1s 13ms/step - loss: 0.1406 - accuracy: 0.9415 - val_loss: 0.2171 - val_accuracy: 0.9300\n",
            "Epoch 6/15\n",
            "63/63 [==============================] - 1s 13ms/step - loss: 0.0988 - accuracy: 0.9615 - val_loss: 0.1965 - val_accuracy: 0.9200\n",
            "Epoch 7/15\n",
            "63/63 [==============================] - 1s 12ms/step - loss: 0.0787 - accuracy: 0.9720 - val_loss: 0.2090 - val_accuracy: 0.9300\n",
            "Epoch 8/15\n",
            "63/63 [==============================] - 1s 13ms/step - loss: 0.0619 - accuracy: 0.9770 - val_loss: 0.2604 - val_accuracy: 0.9200\n",
            "Epoch 9/15\n",
            "63/63 [==============================] - 1s 13ms/step - loss: 0.0540 - accuracy: 0.9785 - val_loss: 0.2392 - val_accuracy: 0.9250\n",
            "Epoch 10/15\n",
            "63/63 [==============================] - 1s 13ms/step - loss: 0.0245 - accuracy: 0.9930 - val_loss: 0.2086 - val_accuracy: 0.9350\n",
            "Epoch 11/15\n",
            "63/63 [==============================] - 1s 13ms/step - loss: 0.0129 - accuracy: 0.9965 - val_loss: 0.4336 - val_accuracy: 0.9300\n",
            "Epoch 12/15\n",
            "63/63 [==============================] - 1s 12ms/step - loss: 0.0421 - accuracy: 0.9825 - val_loss: 0.2370 - val_accuracy: 0.9250\n",
            "Epoch 13/15\n",
            "63/63 [==============================] - 1s 13ms/step - loss: 0.0268 - accuracy: 0.9905 - val_loss: 0.2848 - val_accuracy: 0.9100\n",
            "Epoch 14/15\n",
            "63/63 [==============================] - 1s 12ms/step - loss: 0.0163 - accuracy: 0.9955 - val_loss: 0.3257 - val_accuracy: 0.9250\n",
            "Epoch 15/15\n",
            "63/63 [==============================] - 1s 13ms/step - loss: 0.0352 - accuracy: 0.9870 - val_loss: 0.4048 - val_accuracy: 0.9200\n"
          ]
        }
      ]
    },
    {
      "cell_type": "code",
      "source": [
        "smile_hist = smile_model.fit(train_images, train_smile_labels, validation_data=(test_images, test_smile_labels), epochs=15, verbose=1)"
      ],
      "metadata": {
        "colab": {
          "base_uri": "https://localhost:8080/"
        },
        "id": "d8HvJ0-JBWnx",
        "outputId": "87c65366-c06c-4c49-d565-7b6803a99fe2"
      },
      "execution_count": null,
      "outputs": [
        {
          "output_type": "stream",
          "name": "stdout",
          "text": [
            "Epoch 1/15\n",
            "63/63 [==============================] - 2s 18ms/step - loss: 0.6947 - accuracy: 0.5270 - val_loss: 0.6852 - val_accuracy: 0.5350\n",
            "Epoch 2/15\n",
            "63/63 [==============================] - 1s 14ms/step - loss: 0.6609 - accuracy: 0.6065 - val_loss: 0.6134 - val_accuracy: 0.6950\n",
            "Epoch 3/15\n",
            "63/63 [==============================] - 1s 13ms/step - loss: 0.5225 - accuracy: 0.7445 - val_loss: 0.4274 - val_accuracy: 0.8150\n",
            "Epoch 4/15\n",
            "63/63 [==============================] - 1s 12ms/step - loss: 0.3733 - accuracy: 0.8385 - val_loss: 0.3132 - val_accuracy: 0.8850\n",
            "Epoch 5/15\n",
            "63/63 [==============================] - 1s 13ms/step - loss: 0.2958 - accuracy: 0.8720 - val_loss: 0.2701 - val_accuracy: 0.8950\n",
            "Epoch 6/15\n",
            "63/63 [==============================] - 1s 13ms/step - loss: 0.2586 - accuracy: 0.8865 - val_loss: 0.2336 - val_accuracy: 0.8950\n",
            "Epoch 7/15\n",
            "63/63 [==============================] - 1s 13ms/step - loss: 0.2200 - accuracy: 0.9095 - val_loss: 0.2594 - val_accuracy: 0.8850\n",
            "Epoch 8/15\n",
            "63/63 [==============================] - 1s 12ms/step - loss: 0.2047 - accuracy: 0.9160 - val_loss: 0.2205 - val_accuracy: 0.9200\n",
            "Epoch 9/15\n",
            "63/63 [==============================] - 1s 13ms/step - loss: 0.1867 - accuracy: 0.9220 - val_loss: 0.2427 - val_accuracy: 0.8750\n",
            "Epoch 10/15\n",
            "63/63 [==============================] - 1s 13ms/step - loss: 0.1683 - accuracy: 0.9275 - val_loss: 0.2847 - val_accuracy: 0.9000\n",
            "Epoch 11/15\n",
            "63/63 [==============================] - 1s 13ms/step - loss: 0.1290 - accuracy: 0.9520 - val_loss: 0.2715 - val_accuracy: 0.8950\n",
            "Epoch 12/15\n",
            "63/63 [==============================] - 1s 13ms/step - loss: 0.1010 - accuracy: 0.9600 - val_loss: 0.2765 - val_accuracy: 0.8950\n",
            "Epoch 13/15\n",
            "63/63 [==============================] - 1s 13ms/step - loss: 0.0813 - accuracy: 0.9710 - val_loss: 0.3829 - val_accuracy: 0.8750\n",
            "Epoch 14/15\n",
            "63/63 [==============================] - 1s 13ms/step - loss: 0.0705 - accuracy: 0.9755 - val_loss: 0.3314 - val_accuracy: 0.9000\n",
            "Epoch 15/15\n",
            "63/63 [==============================] - 1s 13ms/step - loss: 0.0547 - accuracy: 0.9835 - val_loss: 0.3116 - val_accuracy: 0.9150\n"
          ]
        }
      ]
    },
    {
      "cell_type": "code",
      "source": [
        "# 학습 후 gender 모델의 weights\n",
        "gender_model.get_weights()[0][0][0][0]"
      ],
      "metadata": {
        "colab": {
          "base_uri": "https://localhost:8080/"
        },
        "id": "GoqLodNQA-ao",
        "outputId": "ca4974a6-71c3-4d05-8506-f4ac7b917f18"
      },
      "execution_count": null,
      "outputs": [
        {
          "output_type": "execute_result",
          "data": {
            "text/plain": [
              "array([-0.10675938, -0.12709777, -0.00038103,  0.09969935, -0.03034081,\n",
              "        0.16513985,  0.01547536, -0.14305307, -0.23217082,  0.04856693,\n",
              "       -0.0953981 , -0.1369514 ,  0.07667679, -0.13964052,  0.10515979,\n",
              "       -0.13250749, -0.13582173, -0.01533079, -0.07673589,  0.15216896,\n",
              "        0.01583387,  0.01440236,  0.07457203, -0.05533534, -0.05336501,\n",
              "       -0.16881827,  0.00526018,  0.02817575,  0.01246897, -0.01961101,\n",
              "        0.19063778,  0.01597786], dtype=float32)"
            ]
          },
          "metadata": {},
          "execution_count": 62
        }
      ]
    },
    {
      "cell_type": "code",
      "source": [
        "# 학습 후 smile 모델의 weights\n",
        "smile_model.get_weights()[0][0][0][0]"
      ],
      "metadata": {
        "colab": {
          "base_uri": "https://localhost:8080/"
        },
        "id": "9Hxq3H7QBBch",
        "outputId": "b18e2c8d-73cf-455c-e498-ea5a3eadc86b"
      },
      "execution_count": null,
      "outputs": [
        {
          "output_type": "execute_result",
          "data": {
            "text/plain": [
              "array([-0.14666158,  0.03977313,  0.07401393, -0.1655989 ,  0.13158801,\n",
              "        0.13765687, -0.03922817, -0.16230242,  0.09982673, -0.10003189,\n",
              "       -0.10180923,  0.12031964,  0.01994949,  0.0223778 , -0.06592489,\n",
              "        0.02932189, -0.06686773, -0.07375249, -0.0009822 , -0.04790062,\n",
              "       -0.11570406, -0.10990095, -0.01131858, -0.08660504, -0.14200282,\n",
              "        0.16736709,  0.16170198, -0.06922332, -0.17758583, -0.12653182,\n",
              "        0.01783561,  0.11766284], dtype=float32)"
            ]
          },
          "metadata": {},
          "execution_count": 63
        }
      ]
    },
    {
      "cell_type": "markdown",
      "metadata": {
        "id": "gPfI5Io9iH1k"
      },
      "source": [
        "### 문제 25. 학습 진행 사항을 plt으로 출력하세요."
      ]
    },
    {
      "cell_type": "code",
      "metadata": {
        "id": "tYG-XR-DiH1k"
      },
      "source": [
        "# hist의 accuracy plt의 plot을 이용하여 출력하는 코드를 작성하세요."
      ],
      "execution_count": null,
      "outputs": []
    },
    {
      "cell_type": "code",
      "source": [
        "plt.plot(gender_hist.history['accuracy'], label='gender_accuracy', color='red')\n",
        "plt.plot(gender_hist.history['loss'], label='gender_loss', color='royalblue')\n",
        "plt.plot(gender_hist.history['val_accuracy'], label='gender_val_accuracy', color='C3')\n",
        "plt.plot(gender_hist.history['val_loss'], label='gender_val_loss', color='cornflowerblue')\n",
        "\n",
        "plt.plot(smile_hist.history['accuracy'], label='smile_accuracy', color='orange')\n",
        "plt.plot(smile_hist.history['loss'], label='smile_loss', color='green')\n",
        "plt.plot(smile_hist.history['val_accuracy'], label='smile_val_accuracy', color='gold')\n",
        "plt.plot(smile_hist.history['val_loss'], label='smile_val_loss', color='darkgreen')\n",
        "\n",
        "plt.legend(loc='upper left')\n",
        "plt.show()"
      ],
      "metadata": {
        "colab": {
          "base_uri": "https://localhost:8080/",
          "height": 265
        },
        "id": "N8zg8xSPizAb",
        "outputId": "bc4dfba6-67f9-4528-a544-6dd118ce4c81"
      },
      "execution_count": null,
      "outputs": [
        {
          "output_type": "display_data",
          "data": {
            "image/png": "[encoded data removed]",
            "text/plain": [
              "<Figure size 432x288 with 1 Axes>"
            ]
          },
          "metadata": {
            "needs_background": "light"
          }
        }
      ]
    },
    {
      "cell_type": "markdown",
      "metadata": {
        "id": "HWwSu6rGiH1k"
      },
      "source": [
        "## Step 5. 결과 확인"
      ]
    },
    {
      "cell_type": "markdown",
      "metadata": {
        "id": "upv45GO-iH1k"
      },
      "source": [
        "### 문제 26. 완성된 모델에서 test_image를 1장 넣고 결과를 res 변수에 저정하세요."
      ]
    },
    {
      "cell_type": "code",
      "metadata": {
        "id": "JpeC60ONiH1l"
      },
      "source": [
        "# 모델에 test_images 중 1장을 넣고 결과를 받는 코드를 작성하세요."
      ],
      "execution_count": null,
      "outputs": []
    },
    {
      "cell_type": "code",
      "source": [
        "gender_res = gender_model.predict(np.array([test_images[1]]))\n",
        "smile_res = smile_model.predict(np.array([test_images[1]]))"
      ],
      "metadata": {
        "id": "MShgzXviizeg"
      },
      "execution_count": null,
      "outputs": []
    },
    {
      "cell_type": "markdown",
      "metadata": {
        "id": "j-YjXYk_iH1l"
      },
      "source": [
        "### 문제 27. res와 test_images[1]을 plt로 출력하세요"
      ]
    },
    {
      "cell_type": "code",
      "metadata": {
        "id": "yo8smPFiiH1l"
      },
      "source": [
        "# res와 test_images[1]을 print와 plt로 출력하는 코드를 작성하세요."
      ],
      "execution_count": null,
      "outputs": []
    },
    {
      "cell_type": "code",
      "source": [
        "plt.bar(range(2), gender_res[0]) # gender_res[0]은 배치 축 없애줌\n",
        "plt.bar(np.array(range(2))+0.3, test_male_labels[1])\n",
        "plt.show()\n",
        "\n",
        "print(gender_res)"
      ],
      "metadata": {
        "colab": {
          "base_uri": "https://localhost:8080/",
          "height": 283
        },
        "id": "OgaPC2fFG4gK",
        "outputId": "6b7a6f19-6709-4b96-ce59-0637badd9e44"
      },
      "execution_count": null,
      "outputs": [
        {
          "output_type": "display_data",
          "data": {
            "image/png": "[encoded data removed]",
            "text/plain": [
              "<Figure size 432x288 with 1 Axes>"
            ]
          },
          "metadata": {
            "needs_background": "light"
          }
        },
        {
          "output_type": "stream",
          "name": "stdout",
          "text": [
            "[[9.9999309e-01 6.9091498e-06]]\n"
          ]
        }
      ]
    },
    {
      "cell_type": "code",
      "source": [
        "plt.bar(range(2), smile_res[0]) # gender_res[0]은 배치 축 없애줌\n",
        "plt.bar(np.array(range(2))+0.3, test_smile_labels[1])\n",
        "plt.show()\n",
        "\n",
        "print(smile_res)"
      ],
      "metadata": {
        "colab": {
          "base_uri": "https://localhost:8080/",
          "height": 283
        },
        "id": "VWOs5ca7HczI",
        "outputId": "fb44416d-c45a-4dc9-8c63-990a073d181e"
      },
      "execution_count": null,
      "outputs": [
        {
          "output_type": "display_data",
          "data": {
            "image/png": "[encoded data removed]",
            "text/plain": [
              "<Figure size 432x288 with 1 Axes>"
            ]
          },
          "metadata": {
            "needs_background": "light"
          }
        },
        {
          "output_type": "stream",
          "name": "stdout",
          "text": [
            "[[0.79374164 0.20625836]]\n"
          ]
        }
      ]
    },
    {
      "cell_type": "code",
      "source": [
        "gender_res = gender_model.predict(np.array([test_images[1]])).argmax()\n",
        "smile_res = smile_model.predict(np.array([test_images[1]])).argmax()\n",
        "\n",
        "plt.imshow(test_images[1])\n",
        "plt.show()\n",
        "\n",
        "print(gender_res, smile_res)\n",
        "print(test_labels[1])"
      ],
      "metadata": {
        "colab": {
          "base_uri": "https://localhost:8080/",
          "height": 303
        },
        "id": "TilhoJTHHdJG",
        "outputId": "4875a4f1-a85b-41e5-f018-fdc05e9d7161"
      },
      "execution_count": null,
      "outputs": [
        {
          "output_type": "display_data",
          "data": {
            "image/png": "[encoded data removed]",
            "text/plain": [
              "<Figure size 432x288 with 1 Axes>"
            ]
          },
          "metadata": {
            "needs_background": "light"
          }
        },
        {
          "output_type": "stream",
          "name": "stdout",
          "text": [
            "0 0\n",
            "[0 0]\n"
          ]
        }
      ]
    },
    {
      "cell_type": "markdown",
      "metadata": {
        "id": "eNkdDgr0zfX1"
      },
      "source": [
        "## Step 6. 멀티 아웃풋 모델링"
      ]
    },
    {
      "cell_type": "markdown",
      "metadata": {
        "id": "QG159d2rzfX1"
      },
      "source": [
        "### 문제 28. 해당 학습셋을 처리하는 이미지 classification 모델을 작성하세요. (단 label을 2개 동시에 처리)"
      ]
    },
    {
      "cell_type": "code",
      "metadata": {
        "id": "9wZKFa_QzfX1"
      },
      "source": [
        "# input (배치, 72, 59, 3), output (배치, 4)을 처리할 수 있는 모양의 모델을 작성하세요."
      ],
      "execution_count": null,
      "outputs": []
    },
    {
      "cell_type": "code",
      "source": [
        " from keras.models import Model\n",
        "from keras.layers import Conv2D, MaxPool2D, Input, Flatten, Concatenate\n",
        "\n",
        "def multi_model(): \n",
        "  # 레이어 생성\n",
        "  inputs = Input((72,59,3))\n",
        "\n",
        "  l1 = Conv2D(32, 3, 1, activation='relu')(inputs) # filter, kernel, stride\n",
        "  l2 = MaxPool2D(2)(l1) # 2배 작게\n",
        "  l3 = Conv2D(64, 3, 1, activation='relu')(l2)\n",
        "  l4 = MaxPool2D(2)(l3)\n",
        "  l5 = Conv2D(64, 3, 1, activation='relu')(l4)\n",
        "  l6 = MaxPool2D(2)(l5)\n",
        "\n",
        "  l7 = Flatten()(l6)\n",
        "  latent_vector = Dense(64, activation='relu')(l7) # 여기까지는 공유\n",
        "\n",
        "  # 분기\n",
        "  gender_outputs = Dense(2, activation='softmax')(latent_vector)\n",
        "  smile_outputs = Dense(2, activation='softmax')(latent_vector)\n",
        "\n",
        "  # Concatenate (이 방법 사용!)\n",
        "  outputs = Concatenate(axis=1)([gender_outputs, smile_outputs])\n",
        "  model = Model(inputs, outputs)\n",
        "\n",
        "  # 멀티 outputs 이용\n",
        "  # model = Model(inputs, [gender_outputs, smile_outputs])\n",
        "\n",
        "  return model"
      ],
      "metadata": {
        "id": "Fg4DYwl3i1gB"
      },
      "execution_count": null,
      "outputs": []
    },
    {
      "cell_type": "markdown",
      "metadata": {
        "id": "-caAUep7zfX2"
      },
      "source": [
        "### 문제 29. 모델을 할당 받고 서머리를 출력해보세요."
      ]
    },
    {
      "cell_type": "code",
      "metadata": {
        "id": "guruR7iezfX2"
      },
      "source": [
        "# multi_model() 모델을 할당 받고 서머리를 출력하는 코드를 작성하세요."
      ],
      "execution_count": null,
      "outputs": []
    },
    {
      "cell_type": "code",
      "source": [
        "model = multi_model()\n",
        "model.summary()\n",
        "\n",
        "'''\n",
        "Model: \"model_1\" # 위에서 만든 개별 모델\n",
        "_________________________________________________________________\n",
        " Layer (type)                Output Shape              Param #   \n",
        "=================================================================\n",
        " input_2 (InputLayer)        [(None, 72, 59, 3)]       0         \n",
        " conv2d_3 (Conv2D)           (None, 70, 57, 32)        896       \n",
        " max_pooling2d_3 (MaxPooling  (None, 35, 28, 32)       0         \n",
        " 2D)                                                             \n",
        " conv2d_4 (Conv2D)           (None, 33, 26, 64)        18496       \n",
        " max_pooling2d_4 (MaxPooling  (None, 16, 13, 64)       0         \n",
        " 2D)                                                             \n",
        " conv2d_5 (Conv2D)           (None, 14, 11, 64)        36928             \n",
        " max_pooling2d_5 (MaxPooling  (None, 7, 5, 64)         0                                                             \n",
        " flatten_1 (Flatten)         (None, 2240)              0           \n",
        " dense_2 (Dense)             (None, 64)                143424     \n",
        " dense_3 (Dense)             (None, 2)                 130                        \n",
        "=================================================================\n",
        "Total params: 199,874\n",
        "Trainable params: 199,874\n",
        "Non-trainable params: 0\n",
        "_________________________________________________________________\n",
        "None\n",
        "'''"
      ],
      "metadata": {
        "colab": {
          "base_uri": "https://localhost:8080/",
          "height": 821
        },
        "id": "hh5RY5M2i16X",
        "outputId": "79823cbe-78e3-4a45-edee-0bfad798cdfd"
      },
      "execution_count": null,
      "outputs": [
        {
          "output_type": "stream",
          "name": "stdout",
          "text": [
            "Model: \"model_4\"\n",
            "__________________________________________________________________________________________________\n",
            " Layer (type)                   Output Shape         Param #     Connected to                     \n",
            "==================================================================================================\n",
            " input_10 (InputLayer)          [(None, 72, 59, 3)]  0           []                               \n",
            "                                                                                                  \n",
            " conv2d_27 (Conv2D)             (None, 70, 57, 32)   896         ['input_10[0][0]']               \n",
            "                                                                                                  \n",
            " max_pooling2d_27 (MaxPooling2D  (None, 35, 28, 32)  0           ['conv2d_27[0][0]']              \n",
            " )                                                                                                \n",
            "                                                                                                  \n",
            " conv2d_28 (Conv2D)             (None, 33, 26, 64)   18496       ['max_pooling2d_27[0][0]']       \n",
            "                                                                                                  \n",
            " max_pooling2d_28 (MaxPooling2D  (None, 16, 13, 64)  0           ['conv2d_28[0][0]']              \n",
            " )                                                                                                \n",
            "                                                                                                  \n",
            " conv2d_29 (Conv2D)             (None, 14, 11, 64)   36928       ['max_pooling2d_28[0][0]']       \n",
            "                                                                                                  \n",
            " max_pooling2d_29 (MaxPooling2D  (None, 7, 5, 64)    0           ['conv2d_29[0][0]']              \n",
            " )                                                                                                \n",
            "                                                                                                  \n",
            " flatten_9 (Flatten)            (None, 2240)         0           ['max_pooling2d_29[0][0]']       \n",
            "                                                                                                  \n",
            " dense_23 (Dense)               (None, 64)           143424      ['flatten_9[0][0]']              \n",
            "                                                                                                  \n",
            " dense_24 (Dense)               (None, 2)            130         ['dense_23[0][0]']               \n",
            "                                                                                                  \n",
            " dense_25 (Dense)               (None, 2)            130         ['dense_23[0][0]']               \n",
            "                                                                                                  \n",
            " concatenate_1 (Concatenate)    (None, 4)            0           ['dense_24[0][0]',               \n",
            "                                                                  'dense_25[0][0]']               \n",
            "                                                                                                  \n",
            "==================================================================================================\n",
            "Total params: 200,004\n",
            "Trainable params: 200,004\n",
            "Non-trainable params: 0\n",
            "__________________________________________________________________________________________________\n"
          ]
        },
        {
          "output_type": "execute_result",
          "data": {
            "application/vnd.google.colaboratory.intrinsic+json": {
              "type": "string"
            },
            "text/plain": [
              "'\\nModel: \"model_1\" # 위에서 만든 개별 모델\\n_________________________________________________________________\\n Layer (type)                Output Shape              Param #   \\n=================================================================\\n input_2 (InputLayer)        [(None, 72, 59, 3)]       0         \\n conv2d_3 (Conv2D)           (None, 70, 57, 32)        896       \\n max_pooling2d_3 (MaxPooling  (None, 35, 28, 32)       0         \\n 2D)                                                             \\n conv2d_4 (Conv2D)           (None, 33, 26, 64)        18496       \\n max_pooling2d_4 (MaxPooling  (None, 16, 13, 64)       0         \\n 2D)                                                             \\n conv2d_5 (Conv2D)           (None, 14, 11, 64)        36928             \\n max_pooling2d_5 (MaxPooling  (None, 7, 5, 64)         0                                                             \\n flatten_1 (Flatten)         (None, 2240)              0           \\n dense_2 (Dense)             (None, 64)                143424     \\n dense_3 (Dense)             (None, 2)                 130                        \\n=================================================================\\nTotal params: 199,874\\nTrainable params: 199,874\\nNon-trainable params: 0\\n_________________________________________________________________\\nNone\\n'"
            ]
          },
          "metadata": {},
          "execution_count": 133
        }
      ]
    },
    {
      "cell_type": "code",
      "source": [
        " from keras.models import Model\n",
        "from keras.layers import Conv2D, MaxPool2D, Input, Flatten\n",
        "\n",
        "def multi_model2(): \n",
        "  # 레이어 생성\n",
        "  inputs = Input((72,59,3))\n",
        "\n",
        "  l1 = Conv2D(32, 3, 1, activation='relu')(inputs) # filter, kernel, stride\n",
        "  l2 = MaxPool2D(2)(l1) # 2배 작게\n",
        "  l3 = Conv2D(64, 3, 1, activation='relu')(l2)\n",
        "  l4 = MaxPool2D(2)(l3)\n",
        "  l5 = Conv2D(64, 3, 1, activation='relu')(l4)\n",
        "  l6 = MaxPool2D(2)(l5)\n",
        "\n",
        "  l7 = Flatten()(l6)\n",
        "  latent_vector = Dense(64, activation='relu')(l7) # 여기까지는 공유\n",
        "\n",
        "  # 분기\n",
        "  gender_outputs = Dense(2, activation='softmax')(latent_vector)\n",
        "  smile_outputs = Dense(2, activation='softmax')(latent_vector)\n",
        "\n",
        "  # outputs = Concatenate(axis=1)([gender_outputs, smile_outputs])\n",
        "  # model = Model(inputs, outputs)\n",
        "\n",
        "  # 멀티 outputs 이용\n",
        "  model = Model(inputs, [gender_outputs, smile_outputs])\n",
        "\n",
        "  return model"
      ],
      "metadata": {
        "id": "iB36mAsTUxrD"
      },
      "execution_count": null,
      "outputs": []
    },
    {
      "cell_type": "code",
      "source": [
        "model2 = multi_model2()\n",
        "model2.summary()"
      ],
      "metadata": {
        "colab": {
          "base_uri": "https://localhost:8080/"
        },
        "id": "NW4xleRgU3JK",
        "outputId": "547fa3a9-c56b-4ddb-be12-58e5ffbac5f9"
      },
      "execution_count": null,
      "outputs": [
        {
          "output_type": "stream",
          "name": "stdout",
          "text": [
            "Model: \"model_5\"\n",
            "__________________________________________________________________________________________________\n",
            " Layer (type)                   Output Shape         Param #     Connected to                     \n",
            "==================================================================================================\n",
            " input_11 (InputLayer)          [(None, 72, 59, 3)]  0           []                               \n",
            "                                                                                                  \n",
            " conv2d_30 (Conv2D)             (None, 70, 57, 32)   896         ['input_11[0][0]']               \n",
            "                                                                                                  \n",
            " max_pooling2d_30 (MaxPooling2D  (None, 35, 28, 32)  0           ['conv2d_30[0][0]']              \n",
            " )                                                                                                \n",
            "                                                                                                  \n",
            " conv2d_31 (Conv2D)             (None, 33, 26, 64)   18496       ['max_pooling2d_30[0][0]']       \n",
            "                                                                                                  \n",
            " max_pooling2d_31 (MaxPooling2D  (None, 16, 13, 64)  0           ['conv2d_31[0][0]']              \n",
            " )                                                                                                \n",
            "                                                                                                  \n",
            " conv2d_32 (Conv2D)             (None, 14, 11, 64)   36928       ['max_pooling2d_31[0][0]']       \n",
            "                                                                                                  \n",
            " max_pooling2d_32 (MaxPooling2D  (None, 7, 5, 64)    0           ['conv2d_32[0][0]']              \n",
            " )                                                                                                \n",
            "                                                                                                  \n",
            " flatten_10 (Flatten)           (None, 2240)         0           ['max_pooling2d_32[0][0]']       \n",
            "                                                                                                  \n",
            " dense_26 (Dense)               (None, 64)           143424      ['flatten_10[0][0]']             \n",
            "                                                                                                  \n",
            " dense_27 (Dense)               (None, 2)            130         ['dense_26[0][0]']               \n",
            "                                                                                                  \n",
            " dense_28 (Dense)               (None, 2)            130         ['dense_26[0][0]']               \n",
            "                                                                                                  \n",
            "==================================================================================================\n",
            "Total params: 200,004\n",
            "Trainable params: 200,004\n",
            "Non-trainable params: 0\n",
            "__________________________________________________________________________________________________\n"
          ]
        }
      ]
    },
    {
      "cell_type": "markdown",
      "metadata": {
        "id": "lp8dbD_FzfX2"
      },
      "source": [
        "\n",
        "### 문제 30. 만든 모델에 로스와 옵티마이저, 메트릭을 설정하세요."
      ]
    },
    {
      "cell_type": "code",
      "metadata": {
        "id": "jXJEdlQ6zfX2"
      },
      "source": [
        "# 만든 모델에 loss는 categorical_crossentropy, optimizer는 adam 매트릭은 accuracy으로 설정하는 코드를 작성하세요."
      ],
      "execution_count": null,
      "outputs": []
    },
    {
      "cell_type": "code",
      "source": [
        "model.compile(loss='categorical_crossentropy', optimizer='adam', metrics=['accuracy'])"
      ],
      "metadata": {
        "id": "4DZ6TGtGi2TV"
      },
      "execution_count": null,
      "outputs": []
    },
    {
      "cell_type": "code",
      "source": [
        "model2.compile(loss='categorical_crossentropy', optimizer='adam', metrics=['accuracy'])"
      ],
      "metadata": {
        "id": "wwk6UQnNViPQ"
      },
      "execution_count": null,
      "outputs": []
    },
    {
      "cell_type": "markdown",
      "metadata": {
        "id": "_C6Nk21yzfX3"
      },
      "source": [
        "### 문제 31. 만든 모델에 train_images를 학습시켜 보세요."
      ]
    },
    {
      "cell_type": "code",
      "metadata": {
        "id": "kv4tEjc9zfX3"
      },
      "source": [
        "# train_images 학습시키고 15 epochs을 돌리고 그 진행 사항을 hist에 저장하는 코드를 작성하세요."
      ],
      "execution_count": null,
      "outputs": []
    },
    {
      "cell_type": "code",
      "source": [
        "test_labels2.shape # gender, smile 순서 맞아야 학습이 제대로 됨!"
      ],
      "metadata": {
        "colab": {
          "base_uri": "https://localhost:8080/"
        },
        "id": "GcN3V4zoVs6a",
        "outputId": "adc0c828-672b-4bf5-a701-dac07626d22b"
      },
      "execution_count": null,
      "outputs": [
        {
          "output_type": "execute_result",
          "data": {
            "text/plain": [
              "(200, 4)"
            ]
          },
          "metadata": {},
          "execution_count": 140
        }
      ]
    },
    {
      "cell_type": "code",
      "source": [
        "hist1 = model.fit(train_images, train_labels2, validation_data=(test_images, test_labels2), epochs=15, verbose=1)"
      ],
      "metadata": {
        "colab": {
          "base_uri": "https://localhost:8080/"
        },
        "id": "ihtEv4fki2hJ",
        "outputId": "deb86705-0b7f-46a4-8b90-13e768f19ce8"
      },
      "execution_count": null,
      "outputs": [
        {
          "output_type": "stream",
          "name": "stdout",
          "text": [
            "Epoch 1/15\n",
            "63/63 [==============================] - 2s 18ms/step - loss: 2.6959 - accuracy: 0.4765 - val_loss: 2.7197 - val_accuracy: 0.4750\n",
            "Epoch 2/15\n",
            "63/63 [==============================] - 1s 15ms/step - loss: 2.5213 - accuracy: 0.6005 - val_loss: 2.5298 - val_accuracy: 0.5600\n",
            "Epoch 3/15\n",
            "63/63 [==============================] - 1s 13ms/step - loss: 2.2929 - accuracy: 0.6620 - val_loss: 2.1789 - val_accuracy: 0.6200\n",
            "Epoch 4/15\n",
            "63/63 [==============================] - 1s 13ms/step - loss: 2.0378 - accuracy: 0.6450 - val_loss: 1.9952 - val_accuracy: 0.5600\n",
            "Epoch 5/15\n",
            "63/63 [==============================] - 1s 14ms/step - loss: 1.9243 - accuracy: 0.6110 - val_loss: 1.9522 - val_accuracy: 0.5600\n",
            "Epoch 6/15\n",
            "63/63 [==============================] - 1s 13ms/step - loss: 1.8291 - accuracy: 0.6280 - val_loss: 1.9966 - val_accuracy: 0.6000\n",
            "Epoch 7/15\n",
            "63/63 [==============================] - 1s 13ms/step - loss: 1.7765 - accuracy: 0.6390 - val_loss: 1.9966 - val_accuracy: 0.5400\n",
            "Epoch 8/15\n",
            "63/63 [==============================] - 1s 13ms/step - loss: 1.7376 - accuracy: 0.6475 - val_loss: 2.1101 - val_accuracy: 0.5850\n",
            "Epoch 9/15\n",
            "63/63 [==============================] - 1s 13ms/step - loss: 1.6784 - accuracy: 0.6670 - val_loss: 1.9720 - val_accuracy: 0.5350\n",
            "Epoch 10/15\n",
            "63/63 [==============================] - 1s 14ms/step - loss: 1.6365 - accuracy: 0.6415 - val_loss: 1.9543 - val_accuracy: 0.5950\n",
            "Epoch 11/15\n",
            "63/63 [==============================] - 1s 14ms/step - loss: 1.5988 - accuracy: 0.6440 - val_loss: 2.0241 - val_accuracy: 0.5600\n",
            "Epoch 12/15\n",
            "63/63 [==============================] - 1s 14ms/step - loss: 1.5735 - accuracy: 0.6520 - val_loss: 2.0190 - val_accuracy: 0.5750\n",
            "Epoch 13/15\n",
            "63/63 [==============================] - 1s 13ms/step - loss: 1.5428 - accuracy: 0.6405 - val_loss: 1.9679 - val_accuracy: 0.5800\n",
            "Epoch 14/15\n",
            "63/63 [==============================] - 1s 13ms/step - loss: 1.5042 - accuracy: 0.6480 - val_loss: 2.2129 - val_accuracy: 0.5700\n",
            "Epoch 15/15\n",
            "63/63 [==============================] - 1s 13ms/step - loss: 1.5027 - accuracy: 0.6470 - val_loss: 2.1315 - val_accuracy: 0.5900\n"
          ]
        }
      ]
    },
    {
      "cell_type": "markdown",
      "source": [
        "결과가 썩 좋지 않음 🙄"
      ],
      "metadata": {
        "id": "uCfS6h3jW_jY"
      }
    },
    {
      "cell_type": "code",
      "source": [
        "hist2 = model2.fit(train_images, [train_male_labels, train_smile_labels], validation_data=(test_images, [test_male_labels, test_smile_labels]), epochs=15, verbose=1)\n",
        "# 이 경우 output이 리스트로 두 개를 주기 때문에, \n",
        "# 학습할 때도 리스트로 두 개를 줘야 함"
      ],
      "metadata": {
        "colab": {
          "base_uri": "https://localhost:8080/"
        },
        "id": "RLzdR0tzWUSx",
        "outputId": "ffb2327f-e125-43a4-dbab-ae2ba9601529"
      },
      "execution_count": null,
      "outputs": [
        {
          "output_type": "stream",
          "name": "stdout",
          "text": [
            "Epoch 1/15\n",
            "63/63 [==============================] - 3s 24ms/step - loss: 1.3153 - dense_27_loss: 0.6251 - dense_28_loss: 0.6901 - dense_27_accuracy: 0.6545 - dense_28_accuracy: 0.5325 - val_loss: 1.3229 - val_dense_27_loss: 0.6138 - val_dense_28_loss: 0.7092 - val_dense_27_accuracy: 0.6600 - val_dense_28_accuracy: 0.5000\n",
            "Epoch 2/15\n",
            "63/63 [==============================] - 1s 16ms/step - loss: 1.1031 - dense_27_loss: 0.4701 - dense_28_loss: 0.6329 - dense_27_accuracy: 0.7775 - dense_28_accuracy: 0.6420 - val_loss: 0.9929 - val_dense_27_loss: 0.4245 - val_dense_28_loss: 0.5683 - val_dense_27_accuracy: 0.8400 - val_dense_28_accuracy: 0.6850\n",
            "Epoch 3/15\n",
            "63/63 [==============================] - 1s 16ms/step - loss: 0.7931 - dense_27_loss: 0.3161 - dense_28_loss: 0.4771 - dense_27_accuracy: 0.8675 - dense_28_accuracy: 0.7750 - val_loss: 0.6363 - val_dense_27_loss: 0.2798 - val_dense_28_loss: 0.3566 - val_dense_27_accuracy: 0.9150 - val_dense_28_accuracy: 0.8550\n",
            "Epoch 4/15\n",
            "63/63 [==============================] - 1s 15ms/step - loss: 0.5731 - dense_27_loss: 0.2289 - dense_28_loss: 0.3442 - dense_27_accuracy: 0.9055 - dense_28_accuracy: 0.8525 - val_loss: 0.6067 - val_dense_27_loss: 0.2888 - val_dense_28_loss: 0.3178 - val_dense_27_accuracy: 0.9200 - val_dense_28_accuracy: 0.8550\n",
            "Epoch 5/15\n",
            "63/63 [==============================] - 1s 15ms/step - loss: 0.4748 - dense_27_loss: 0.1755 - dense_28_loss: 0.2993 - dense_27_accuracy: 0.9350 - dense_28_accuracy: 0.8725 - val_loss: 0.5980 - val_dense_27_loss: 0.2644 - val_dense_28_loss: 0.3335 - val_dense_27_accuracy: 0.9150 - val_dense_28_accuracy: 0.8700\n",
            "Epoch 6/15\n",
            "63/63 [==============================] - 1s 15ms/step - loss: 0.3880 - dense_27_loss: 0.1324 - dense_28_loss: 0.2555 - dense_27_accuracy: 0.9490 - dense_28_accuracy: 0.8925 - val_loss: 0.6185 - val_dense_27_loss: 0.2351 - val_dense_28_loss: 0.3834 - val_dense_27_accuracy: 0.9300 - val_dense_28_accuracy: 0.8550\n",
            "Epoch 7/15\n",
            "63/63 [==============================] - 1s 15ms/step - loss: 0.3655 - dense_27_loss: 0.1167 - dense_28_loss: 0.2489 - dense_27_accuracy: 0.9610 - dense_28_accuracy: 0.8955 - val_loss: 0.5452 - val_dense_27_loss: 0.2548 - val_dense_28_loss: 0.2904 - val_dense_27_accuracy: 0.9250 - val_dense_28_accuracy: 0.9000\n",
            "Epoch 8/15\n",
            "63/63 [==============================] - 1s 15ms/step - loss: 0.2988 - dense_27_loss: 0.0958 - dense_28_loss: 0.2030 - dense_27_accuracy: 0.9580 - dense_28_accuracy: 0.9180 - val_loss: 0.5589 - val_dense_27_loss: 0.2529 - val_dense_28_loss: 0.3060 - val_dense_27_accuracy: 0.9250 - val_dense_28_accuracy: 0.9000\n",
            "Epoch 9/15\n",
            "63/63 [==============================] - 1s 15ms/step - loss: 0.2581 - dense_27_loss: 0.0708 - dense_28_loss: 0.1873 - dense_27_accuracy: 0.9765 - dense_28_accuracy: 0.9280 - val_loss: 0.6781 - val_dense_27_loss: 0.2614 - val_dense_28_loss: 0.4167 - val_dense_27_accuracy: 0.9200 - val_dense_28_accuracy: 0.8150\n",
            "Epoch 10/15\n",
            "63/63 [==============================] - 1s 15ms/step - loss: 0.2530 - dense_27_loss: 0.0619 - dense_28_loss: 0.1910 - dense_27_accuracy: 0.9805 - dense_28_accuracy: 0.9180 - val_loss: 0.5205 - val_dense_27_loss: 0.2366 - val_dense_28_loss: 0.2839 - val_dense_27_accuracy: 0.9350 - val_dense_28_accuracy: 0.8900\n",
            "Epoch 11/15\n",
            "63/63 [==============================] - 1s 15ms/step - loss: 0.1857 - dense_27_loss: 0.0474 - dense_28_loss: 0.1383 - dense_27_accuracy: 0.9855 - dense_28_accuracy: 0.9460 - val_loss: 0.6044 - val_dense_27_loss: 0.3180 - val_dense_28_loss: 0.2864 - val_dense_27_accuracy: 0.9200 - val_dense_28_accuracy: 0.8950\n",
            "Epoch 12/15\n",
            "63/63 [==============================] - 1s 15ms/step - loss: 0.1343 - dense_27_loss: 0.0328 - dense_28_loss: 0.1015 - dense_27_accuracy: 0.9900 - dense_28_accuracy: 0.9640 - val_loss: 0.6166 - val_dense_27_loss: 0.2970 - val_dense_28_loss: 0.3196 - val_dense_27_accuracy: 0.9150 - val_dense_28_accuracy: 0.8800\n",
            "Epoch 13/15\n",
            "63/63 [==============================] - 1s 15ms/step - loss: 0.1138 - dense_27_loss: 0.0213 - dense_28_loss: 0.0925 - dense_27_accuracy: 0.9960 - dense_28_accuracy: 0.9635 - val_loss: 0.7087 - val_dense_27_loss: 0.3090 - val_dense_28_loss: 0.3997 - val_dense_27_accuracy: 0.9400 - val_dense_28_accuracy: 0.8850\n",
            "Epoch 14/15\n",
            "63/63 [==============================] - 1s 15ms/step - loss: 0.0890 - dense_27_loss: 0.0185 - dense_28_loss: 0.0705 - dense_27_accuracy: 0.9960 - dense_28_accuracy: 0.9765 - val_loss: 0.7188 - val_dense_27_loss: 0.3786 - val_dense_28_loss: 0.3403 - val_dense_27_accuracy: 0.9250 - val_dense_28_accuracy: 0.8950\n",
            "Epoch 15/15\n",
            "63/63 [==============================] - 1s 15ms/step - loss: 0.0624 - dense_27_loss: 0.0125 - dense_28_loss: 0.0499 - dense_27_accuracy: 0.9975 - dense_28_accuracy: 0.9850 - val_loss: 0.7332 - val_dense_27_loss: 0.3473 - val_dense_28_loss: 0.3859 - val_dense_27_accuracy: 0.9150 - val_dense_28_accuracy: 0.8950\n"
          ]
        }
      ]
    },
    {
      "cell_type": "markdown",
      "metadata": {
        "id": "-gtWPhyAzfX3"
      },
      "source": [
        "### 문제 32. 학습 진행 사항을 plt으로 출력하세요."
      ]
    },
    {
      "cell_type": "code",
      "metadata": {
        "id": "63QWAg0lzfX3"
      },
      "source": [
        "# hist의 accuracy plt의 plot을 이용하여 출력하는 코드를 작성하세요."
      ],
      "execution_count": null,
      "outputs": []
    },
    {
      "cell_type": "code",
      "source": [
        "plt.plot(hist1.history['accuracy'], label='accuracy')\n",
        "plt.plot(hist1.history['loss'], label='loss')\n",
        "plt.plot(hist1.history['val_accuracy'], label='val_accuracy')\n",
        "plt.plot(hist1.history['val_loss'], label='val_loss')\n",
        "plt.legend()\n",
        "plt.show()"
      ],
      "metadata": {
        "colab": {
          "base_uri": "https://localhost:8080/",
          "height": 265
        },
        "id": "qgjy-wOEi22f",
        "outputId": "edfe2db3-d001-4bfb-e0af-1a2e0bc449a6"
      },
      "execution_count": null,
      "outputs": [
        {
          "output_type": "display_data",
          "data": {
            "image/png": "[encoded data removed]",
            "text/plain": [
              "<Figure size 432x288 with 1 Axes>"
            ]
          },
          "metadata": {
            "needs_background": "light"
          }
        }
      ]
    },
    {
      "cell_type": "code",
      "source": [
        "plt.plot(hist2.history['dense_27_accuracy'], label='gender_accuracy', color='royalblue')\n",
        "plt.plot(hist2.history['dense_27_loss'], label='gender_loss', color='C3')\n",
        "plt.plot(hist2.history['val_dense_27_accuracy'], label='val_gender_accuracy', color='cornflowerblue')\n",
        "plt.plot(hist2.history['val_dense_27_loss'], label='val_gender_loss', color='red')\n",
        "\n",
        "plt.plot(hist2.history['dense_28_accuracy'], label='smile_accuracy', color='orange')\n",
        "plt.plot(hist2.history['dense_28_loss'], label='smile_loss', color='green')\n",
        "plt.plot(hist2.history['val_dense_28_accuracy'], label='val_smile_accuracy', color='gold')\n",
        "plt.plot(hist2.history['val_dense_28_loss'], label='val_smile_loss', color='darkgreen')\n",
        "\n",
        "plt.legend()\n",
        "plt.show()"
      ],
      "metadata": {
        "colab": {
          "base_uri": "https://localhost:8080/",
          "height": 265
        },
        "id": "IcoNgBNBXPyt",
        "outputId": "66225885-a3f2-4abc-fcb7-617156ee8caf"
      },
      "execution_count": null,
      "outputs": [
        {
          "output_type": "display_data",
          "data": {
            "image/png": "[encoded data removed]",
            "text/plain": [
              "<Figure size 432x288 with 1 Axes>"
            ]
          },
          "metadata": {
            "needs_background": "light"
          }
        }
      ]
    },
    {
      "cell_type": "markdown",
      "metadata": {
        "id": "xQOMfXQOzfX4"
      },
      "source": [
        "## Step 7. 결과 확인"
      ]
    },
    {
      "cell_type": "markdown",
      "metadata": {
        "id": "yWMu-OUGzfX4"
      },
      "source": [
        "### 문제 33. 완성된 모델에서 test_image를 1장 넣고 결과를 res 변수에 저정하세요."
      ]
    },
    {
      "cell_type": "code",
      "metadata": {
        "id": "nvBz3eCEzfX4"
      },
      "source": [
        "# 모델에 test_images 중 1장을 넣고 결과를 받는 코드를 작성하세요."
      ],
      "execution_count": null,
      "outputs": []
    },
    {
      "cell_type": "code",
      "source": [
        "res = model2.predict(test_images[0:1]) # outputs이 두 개 나옴\n",
        "print(res, len(res))\n",
        "print(res[0].shape, res[1].shape)"
      ],
      "metadata": {
        "colab": {
          "base_uri": "https://localhost:8080/"
        },
        "id": "hACEtXlTZV6Z",
        "outputId": "1539b8d0-852d-4520-c371-c74a5da11f78"
      },
      "execution_count": null,
      "outputs": [
        {
          "output_type": "stream",
          "name": "stdout",
          "text": [
            "[array([[0.01152528, 0.9884748 ]], dtype=float32), array([[1.6178825e-06, 9.9999833e-01]], dtype=float32)] 2\n",
            "(1, 2) (1, 2)\n"
          ]
        }
      ]
    },
    {
      "cell_type": "markdown",
      "metadata": {
        "id": "I5UrN6nizfX4"
      },
      "source": [
        "### 문제 34. res와 test_images[1]을 plt로 출력하세요"
      ]
    },
    {
      "cell_type": "code",
      "metadata": {
        "id": "zvcDEcvJzfX5"
      },
      "source": [
        "# res와 test_images[1]을 print와 plt로 출력하는 코드를 작성하세요."
      ],
      "execution_count": null,
      "outputs": []
    },
    {
      "cell_type": "markdown",
      "source": [
        "model"
      ],
      "metadata": {
        "id": "JSyCMvAzb5yu"
      }
    },
    {
      "cell_type": "code",
      "source": [
        "plt.imshow(test_images[3])\n",
        "plt.show()\n",
        "\n",
        "print(test_labels[3])"
      ],
      "metadata": {
        "colab": {
          "base_uri": "https://localhost:8080/",
          "height": 286
        },
        "id": "g0KdrJxKcBL4",
        "outputId": "d4eebfd4-17dd-4e99-b3a1-9bd524ecc3e7"
      },
      "execution_count": null,
      "outputs": [
        {
          "output_type": "display_data",
          "data": {
            "image/png": "[encoded data removed]",
            "text/plain": [
              "<Figure size 432x288 with 1 Axes>"
            ]
          },
          "metadata": {
            "needs_background": "light"
          }
        },
        {
          "output_type": "stream",
          "name": "stdout",
          "text": [
            "[1 1]\n"
          ]
        }
      ]
    },
    {
      "cell_type": "code",
      "source": [
        "res = model.predict(test_images[3:4])\n",
        "res"
      ],
      "metadata": {
        "colab": {
          "base_uri": "https://localhost:8080/"
        },
        "id": "XUyXGrBcb5Xf",
        "outputId": "2b101dbf-ddd6-4859-b134-843c4d26ba1a"
      },
      "execution_count": null,
      "outputs": [
        {
          "output_type": "execute_result",
          "data": {
            "text/plain": [
              "array([[1.2695205e-06, 9.9999869e-01, 7.5871940e-03, 9.9241275e-01]],\n",
              "      dtype=float32)"
            ]
          },
          "metadata": {},
          "execution_count": 176
        }
      ]
    },
    {
      "cell_type": "code",
      "source": [
        "plt.bar(range(2), res[0][:2], label='predict')\n",
        "plt.bar(np.array(range(2))+0.3, test_male_labels[0], label='label')\n",
        "plt.legend()\n",
        "plt.title('male')\n",
        "plt.show()"
      ],
      "metadata": {
        "colab": {
          "base_uri": "https://localhost:8080/",
          "height": 281
        },
        "id": "_Y2UySfCcPxF",
        "outputId": "a295e841-fac9-41b7-d08a-a4c2f493eba8"
      },
      "execution_count": null,
      "outputs": [
        {
          "output_type": "display_data",
          "data": {
            "image/png": "[encoded data removed]",
            "text/plain": [
              "<Figure size 432x288 with 1 Axes>"
            ]
          },
          "metadata": {
            "needs_background": "light"
          }
        }
      ]
    },
    {
      "cell_type": "code",
      "source": [
        "plt.bar(range(2), res[0][2:], label='predict')\n",
        "plt.bar(np.array(range(2))+0.3, test_male_labels[0], label='label')\n",
        "plt.legend()\n",
        "plt.title('smile')\n",
        "plt.show()"
      ],
      "metadata": {
        "colab": {
          "base_uri": "https://localhost:8080/",
          "height": 281
        },
        "id": "qbEIJH60cfY9",
        "outputId": "e86ff3e7-b836-43a1-b3df-8def3d0352ec"
      },
      "execution_count": null,
      "outputs": [
        {
          "output_type": "display_data",
          "data": {
            "image/png": "[encoded data removed]",
            "text/plain": [
              "<Figure size 432x288 with 1 Axes>"
            ]
          },
          "metadata": {
            "needs_background": "light"
          }
        }
      ]
    },
    {
      "cell_type": "markdown",
      "source": [
        "model2"
      ],
      "metadata": {
        "id": "HjpQiAFXb3fW"
      }
    },
    {
      "cell_type": "code",
      "source": [
        "plt.imshow(test_images[0])\n",
        "plt.show()"
      ],
      "metadata": {
        "colab": {
          "base_uri": "https://localhost:8080/",
          "height": 268
        },
        "id": "FZHTAlD9ZoJs",
        "outputId": "8a7259ab-a69a-47f5-fa1e-c6b91ebcfafa"
      },
      "execution_count": null,
      "outputs": [
        {
          "output_type": "display_data",
          "data": {
            "image/png": "[encoded data removed]",
            "text/plain": [
              "<Figure size 432x288 with 1 Axes>"
            ]
          },
          "metadata": {
            "needs_background": "light"
          }
        }
      ]
    },
    {
      "cell_type": "code",
      "source": [
        "plt.bar(range(2), res[0][0], label='predict')\n",
        "plt.bar(np.array(range(2))+0.3, test_male_labels[0], label='label')\n",
        "plt.legend()\n",
        "plt.title('male')\n",
        "plt.show()"
      ],
      "metadata": {
        "colab": {
          "base_uri": "https://localhost:8080/",
          "height": 281
        },
        "id": "Ub0UOfBmaZ9F",
        "outputId": "46bb187f-c18f-47c0-cd37-70a476ad128e"
      },
      "execution_count": null,
      "outputs": [
        {
          "output_type": "display_data",
          "data": {
            "image/png": "[encoded data removed]",
            "text/plain": [
              "<Figure size 432x288 with 1 Axes>"
            ]
          },
          "metadata": {
            "needs_background": "light"
          }
        }
      ]
    },
    {
      "cell_type": "code",
      "source": [
        "plt.bar(range(2), res[1][0], label='predict')\n",
        "plt.bar(np.array(range(2))+0.3, test_smile_labels[0], label='label')\n",
        "plt.legend()\n",
        "plt.title('smile')\n",
        "plt.show()"
      ],
      "metadata": {
        "colab": {
          "base_uri": "https://localhost:8080/",
          "height": 281
        },
        "id": "4Yvn4X-8a6lW",
        "outputId": "6b0f4c84-9a8a-45ba-9fb3-a570588c0a5c"
      },
      "execution_count": null,
      "outputs": [
        {
          "output_type": "display_data",
          "data": {
            "image/png": "[encoded data removed]",
            "text/plain": [
              "<Figure size 432x288 with 1 Axes>"
            ]
          },
          "metadata": {
            "needs_background": "light"
          }
        }
      ]
    },
    {
      "cell_type": "code",
      "source": [
        "res = model2.predict(test_images[1:2])\n",
        "\n",
        "plt.imshow(test_images[1])\n",
        "plt.show()\n",
        "\n",
        "print(test_labels[1])"
      ],
      "metadata": {
        "colab": {
          "base_uri": "https://localhost:8080/",
          "height": 286
        },
        "id": "kt4w5H-tbjVn",
        "outputId": "b2d06103-b0ba-4d51-f057-62b9cc3a0281"
      },
      "execution_count": null,
      "outputs": [
        {
          "output_type": "display_data",
          "data": {
            "image/png": "[encoded data removed]",
            "text/plain": [
              "<Figure size 432x288 with 1 Axes>"
            ]
          },
          "metadata": {
            "needs_background": "light"
          }
        },
        {
          "output_type": "stream",
          "name": "stdout",
          "text": [
            "[0 0]\n"
          ]
        }
      ]
    },
    {
      "cell_type": "code",
      "source": [
        "plt.bar(range(2), res[0][0], label='predict')\n",
        "plt.bar(np.array(range(2))+0.3, test_male_labels[1], label='label')\n",
        "plt.legend()\n",
        "plt.title('male')\n",
        "plt.show()"
      ],
      "metadata": {
        "colab": {
          "base_uri": "https://localhost:8080/",
          "height": 281
        },
        "id": "2x6K-Bkxbrx4",
        "outputId": "6388d889-18d8-4249-836f-4debbbcba0f2"
      },
      "execution_count": null,
      "outputs": [
        {
          "output_type": "display_data",
          "data": {
            "image/png": "[encoded data removed]",
            "text/plain": [
              "<Figure size 432x288 with 1 Axes>"
            ]
          },
          "metadata": {
            "needs_background": "light"
          }
        }
      ]
    },
    {
      "cell_type": "code",
      "source": [
        "plt.bar(range(2), res[1][0], label='predict')\n",
        "plt.bar(np.array(range(2))+0.3, test_smile_labels[1], label='label')\n",
        "plt.legend()\n",
        "plt.title('smile')\n",
        "plt.show()"
      ],
      "metadata": {
        "colab": {
          "base_uri": "https://localhost:8080/",
          "height": 281
        },
        "id": "-1n0hCMhbuGX",
        "outputId": "f13727ec-e865-4aab-eace-2df957212af2"
      },
      "execution_count": null,
      "outputs": [
        {
          "output_type": "display_data",
          "data": {
            "image/png": "[encoded data removed]",
            "text/plain": [
              "<Figure size 432x288 with 1 Axes>"
            ]
          },
          "metadata": {
            "needs_background": "light"
          }
        }
      ]
    },
    {
      "cell_type": "markdown",
      "metadata": {
        "id": "UiIBTxMizfX5"
      },
      "source": [
        "## Step 8. 모델 분리"
      ]
    },
    {
      "cell_type": "markdown",
      "metadata": {
        "id": "AXCh44v4zfX5"
      },
      "source": [
        "###문제 35. model의 뒷단을 수정하여 성별 모델을 분리해보세요."
      ]
    },
    {
      "cell_type": "code",
      "metadata": {
        "id": "uTZWyAQKzfX5"
      },
      "source": [
        "# model의 뒷단을 수정하여 성별 모델을 분리하고 모델 정보를 확인하는 코드를 작성하세요."
      ],
      "execution_count": null,
      "outputs": []
    },
    {
      "cell_type": "code",
      "source": [
        "model2.summary()"
      ],
      "metadata": {
        "colab": {
          "base_uri": "https://localhost:8080/"
        },
        "id": "k8lYyWCUfKRt",
        "outputId": "3f6994ae-2978-4ff1-e493-8bed7b8f9c27"
      },
      "execution_count": null,
      "outputs": [
        {
          "output_type": "stream",
          "name": "stdout",
          "text": [
            "Model: \"model_5\"\n",
            "__________________________________________________________________________________________________\n",
            " Layer (type)                   Output Shape         Param #     Connected to                     \n",
            "==================================================================================================\n",
            " input_11 (InputLayer)          [(None, 72, 59, 3)]  0           []                               \n",
            "                                                                                                  \n",
            " conv2d_30 (Conv2D)             (None, 70, 57, 32)   896         ['input_11[0][0]']               \n",
            "                                                                                                  \n",
            " max_pooling2d_30 (MaxPooling2D  (None, 35, 28, 32)  0           ['conv2d_30[0][0]']              \n",
            " )                                                                                                \n",
            "                                                                                                  \n",
            " conv2d_31 (Conv2D)             (None, 33, 26, 64)   18496       ['max_pooling2d_30[0][0]']       \n",
            "                                                                                                  \n",
            " max_pooling2d_31 (MaxPooling2D  (None, 16, 13, 64)  0           ['conv2d_31[0][0]']              \n",
            " )                                                                                                \n",
            "                                                                                                  \n",
            " conv2d_32 (Conv2D)             (None, 14, 11, 64)   36928       ['max_pooling2d_31[0][0]']       \n",
            "                                                                                                  \n",
            " max_pooling2d_32 (MaxPooling2D  (None, 7, 5, 64)    0           ['conv2d_32[0][0]']              \n",
            " )                                                                                                \n",
            "                                                                                                  \n",
            " flatten_10 (Flatten)           (None, 2240)         0           ['max_pooling2d_32[0][0]']       \n",
            "                                                                                                  \n",
            " dense_26 (Dense)               (None, 64)           143424      ['flatten_10[0][0]']             \n",
            "                                                                                                  \n",
            " dense_27 (Dense)               (None, 2)            130         ['dense_26[0][0]']               \n",
            "                                                                                                  \n",
            " dense_28 (Dense)               (None, 2)            130         ['dense_26[0][0]']               \n",
            "                                                                                                  \n",
            "==================================================================================================\n",
            "Total params: 200,004\n",
            "Trainable params: 200,004\n",
            "Non-trainable params: 0\n",
            "__________________________________________________________________________________________________\n"
          ]
        }
      ]
    },
    {
      "cell_type": "code",
      "source": [
        "gender_model2 = Model(inputs = model2.input, outputs = model2.get_layer('dense_27').output)\n",
        "gender_model2.summary()"
      ],
      "metadata": {
        "colab": {
          "base_uri": "https://localhost:8080/"
        },
        "id": "FNMXCjIZj0xe",
        "outputId": "41b6c5f9-2776-4c25-bf09-81199e2d4118"
      },
      "execution_count": null,
      "outputs": [
        {
          "output_type": "stream",
          "name": "stdout",
          "text": [
            "Model: \"model_9\"\n",
            "_________________________________________________________________\n",
            " Layer (type)                Output Shape              Param #   \n",
            "=================================================================\n",
            " input_11 (InputLayer)       [(None, 72, 59, 3)]       0         \n",
            "                                                                 \n",
            " conv2d_30 (Conv2D)          (None, 70, 57, 32)        896       \n",
            "                                                                 \n",
            " max_pooling2d_30 (MaxPoolin  (None, 35, 28, 32)       0         \n",
            " g2D)                                                            \n",
            "                                                                 \n",
            " conv2d_31 (Conv2D)          (None, 33, 26, 64)        18496     \n",
            "                                                                 \n",
            " max_pooling2d_31 (MaxPoolin  (None, 16, 13, 64)       0         \n",
            " g2D)                                                            \n",
            "                                                                 \n",
            " conv2d_32 (Conv2D)          (None, 14, 11, 64)        36928     \n",
            "                                                                 \n",
            " max_pooling2d_32 (MaxPoolin  (None, 7, 5, 64)         0         \n",
            " g2D)                                                            \n",
            "                                                                 \n",
            " flatten_10 (Flatten)        (None, 2240)              0         \n",
            "                                                                 \n",
            " dense_26 (Dense)            (None, 64)                143424    \n",
            "                                                                 \n",
            " dense_27 (Dense)            (None, 2)                 130       \n",
            "                                                                 \n",
            "=================================================================\n",
            "Total params: 199,874\n",
            "Trainable params: 199,874\n",
            "Non-trainable params: 0\n",
            "_________________________________________________________________\n"
          ]
        }
      ]
    },
    {
      "cell_type": "code",
      "source": [
        "gender_model2.get_weights()[0][0][0][0] # gender_model2와 smile_model2의 앞 부분은 같은 weight를 공유함(뒤 쪽은 다름)"
      ],
      "metadata": {
        "colab": {
          "base_uri": "https://localhost:8080/"
        },
        "id": "JfoVR6YOkida",
        "outputId": "1f5e8cc9-a4b8-4c20-9904-db19ad0f39fb"
      },
      "execution_count": null,
      "outputs": [
        {
          "output_type": "execute_result",
          "data": {
            "text/plain": [
              "array([-0.04863748, -0.04911394, -0.10476077,  0.06551343,  0.16855793,\n",
              "       -0.11579783,  0.09418778,  0.15595812, -0.04549252, -0.12835097,\n",
              "       -0.0023206 , -0.00600409,  0.15541595,  0.18771298,  0.12836045,\n",
              "        0.20149015, -0.12537065,  0.01611782,  0.18435946, -0.0018772 ,\n",
              "        0.16798006,  0.06473882, -0.04009569, -0.08518829, -0.0838763 ,\n",
              "        0.12234601,  0.00661798,  0.0328041 ,  0.02761539,  0.01789257,\n",
              "       -0.06629802,  0.08330103], dtype=float32)"
            ]
          },
          "metadata": {},
          "execution_count": 203
        }
      ]
    },
    {
      "cell_type": "markdown",
      "metadata": {
        "id": "m_bmyR1FzfX6"
      },
      "source": [
        "### 문제 36. 성별모델에서 테스트 데이터 확인"
      ]
    },
    {
      "cell_type": "code",
      "metadata": {
        "id": "AHhv_4NDzfX6"
      },
      "source": [
        "# 성별모델에서 테스트 데이터 확인"
      ],
      "execution_count": null,
      "outputs": []
    },
    {
      "cell_type": "code",
      "source": [
        "plt.imshow(test_images[0])\n",
        "plt.show()\n",
        "\n",
        "print(test_labels[0])"
      ],
      "metadata": {
        "colab": {
          "base_uri": "https://localhost:8080/",
          "height": 286
        },
        "id": "dqtbDkMol6fo",
        "outputId": "613666c2-c217-476b-ba69-2ce248ed99d7"
      },
      "execution_count": null,
      "outputs": [
        {
          "output_type": "display_data",
          "data": {
            "image/png": "[encoded data removed]",
            "text/plain": [
              "<Figure size 432x288 with 1 Axes>"
            ]
          },
          "metadata": {
            "needs_background": "light"
          }
        },
        {
          "output_type": "stream",
          "name": "stdout",
          "text": [
            "[1 1]\n"
          ]
        }
      ]
    },
    {
      "cell_type": "code",
      "source": [
        "x1 = gender_model2.predict(test_images[0:1])\n",
        "x1.argmax()"
      ],
      "metadata": {
        "colab": {
          "base_uri": "https://localhost:8080/"
        },
        "id": "0XZepoy8fKso",
        "outputId": "d4321b4d-9c93-43f5-ae75-f51b95c279fe"
      },
      "execution_count": null,
      "outputs": [
        {
          "output_type": "execute_result",
          "data": {
            "text/plain": [
              "1"
            ]
          },
          "metadata": {},
          "execution_count": 204
        }
      ]
    },
    {
      "cell_type": "markdown",
      "metadata": {
        "id": "agZArRLlzfX6"
      },
      "source": [
        "### 문제 37. 뒷단을 수정하여 smile 모델을 분리해보세요."
      ]
    },
    {
      "cell_type": "code",
      "metadata": {
        "id": "teSP_OdezfX7"
      },
      "source": [
        "# model의 뒷단을 수정하여 smile 모델을 분리하고 정보를 확인하는 코드를 작성하세요."
      ],
      "execution_count": null,
      "outputs": []
    },
    {
      "cell_type": "code",
      "source": [
        "smile_model2 = Model(inputs = model2.input, outputs = model2.get_layer('dense_28').output)\n",
        "smile_model2.summary()"
      ],
      "metadata": {
        "colab": {
          "base_uri": "https://localhost:8080/"
        },
        "id": "M7GAkCAlfLJA",
        "outputId": "68d4aeb0-b841-471a-a2fa-ee6d4e9d2889"
      },
      "execution_count": null,
      "outputs": [
        {
          "output_type": "stream",
          "name": "stdout",
          "text": [
            "Model: \"model_10\"\n",
            "_________________________________________________________________\n",
            " Layer (type)                Output Shape              Param #   \n",
            "=================================================================\n",
            " input_11 (InputLayer)       [(None, 72, 59, 3)]       0         \n",
            "                                                                 \n",
            " conv2d_30 (Conv2D)          (None, 70, 57, 32)        896       \n",
            "                                                                 \n",
            " max_pooling2d_30 (MaxPoolin  (None, 35, 28, 32)       0         \n",
            " g2D)                                                            \n",
            "                                                                 \n",
            " conv2d_31 (Conv2D)          (None, 33, 26, 64)        18496     \n",
            "                                                                 \n",
            " max_pooling2d_31 (MaxPoolin  (None, 16, 13, 64)       0         \n",
            " g2D)                                                            \n",
            "                                                                 \n",
            " conv2d_32 (Conv2D)          (None, 14, 11, 64)        36928     \n",
            "                                                                 \n",
            " max_pooling2d_32 (MaxPoolin  (None, 7, 5, 64)         0         \n",
            " g2D)                                                            \n",
            "                                                                 \n",
            " flatten_10 (Flatten)        (None, 2240)              0         \n",
            "                                                                 \n",
            " dense_26 (Dense)            (None, 64)                143424    \n",
            "                                                                 \n",
            " dense_28 (Dense)            (None, 2)                 130       \n",
            "                                                                 \n",
            "=================================================================\n",
            "Total params: 199,874\n",
            "Trainable params: 199,874\n",
            "Non-trainable params: 0\n",
            "_________________________________________________________________\n"
          ]
        }
      ]
    },
    {
      "cell_type": "code",
      "source": [
        "smile_model2.get_weights()[0][0][0][0]"
      ],
      "metadata": {
        "colab": {
          "base_uri": "https://localhost:8080/"
        },
        "id": "c57sCgHQlUfC",
        "outputId": "46866d41-5f71-4375-c73c-6921bb843eb7"
      },
      "execution_count": null,
      "outputs": [
        {
          "output_type": "execute_result",
          "data": {
            "text/plain": [
              "array([-0.04863748, -0.04911394, -0.10476077,  0.06551343,  0.16855793,\n",
              "       -0.11579783,  0.09418778,  0.15595812, -0.04549252, -0.12835097,\n",
              "       -0.0023206 , -0.00600409,  0.15541595,  0.18771298,  0.12836045,\n",
              "        0.20149015, -0.12537065,  0.01611782,  0.18435946, -0.0018772 ,\n",
              "        0.16798006,  0.06473882, -0.04009569, -0.08518829, -0.0838763 ,\n",
              "        0.12234601,  0.00661798,  0.0328041 ,  0.02761539,  0.01789257,\n",
              "       -0.06629802,  0.08330103], dtype=float32)"
            ]
          },
          "metadata": {},
          "execution_count": 208
        }
      ]
    },
    {
      "cell_type": "markdown",
      "metadata": {
        "id": "JtnyEsMJzfX7"
      },
      "source": [
        "### 문제 38. 스마일 모델에서 테스트 데이터 확인"
      ]
    },
    {
      "cell_type": "code",
      "metadata": {
        "id": "g_n7kPKVzfX7"
      },
      "source": [
        "# 스마일 모델에서 테스트 데이터 확인"
      ],
      "execution_count": null,
      "outputs": []
    },
    {
      "cell_type": "code",
      "source": [
        "x2 = smile_model2.predict(test_images[0:1])\n",
        "x2.argmax()"
      ],
      "metadata": {
        "colab": {
          "base_uri": "https://localhost:8080/"
        },
        "id": "hikL5QVNfLhy",
        "outputId": "dcfa1646-0b7b-4ca0-e8be-6f6656008b77"
      },
      "execution_count": null,
      "outputs": [
        {
          "output_type": "execute_result",
          "data": {
            "text/plain": [
              "1"
            ]
          },
          "metadata": {},
          "execution_count": 209
        }
      ]
    },
    {
      "cell_type": "markdown",
      "metadata": {
        "id": "TQqVbazVzfX7"
      },
      "source": [
        "## Step 9. 통합 모델 저장 및 로드, 다운"
      ]
    },
    {
      "cell_type": "markdown",
      "metadata": {
        "id": "o1xMDORMzfX7"
      },
      "source": [
        "### 문제 39. 모델을 저장하세요."
      ]
    },
    {
      "cell_type": "code",
      "metadata": {
        "id": "8SHvKArNzfX8"
      },
      "source": [
        "# 모델을 저장하는 코드를 작성하세요."
      ],
      "execution_count": null,
      "outputs": []
    },
    {
      "cell_type": "code",
      "source": [
        "model2.save('/content/drive/MyDrive/패스트캠퍼스/Part 1/multi_model.h5')"
      ],
      "metadata": {
        "id": "RbiheXtkmy3T"
      },
      "execution_count": null,
      "outputs": []
    },
    {
      "cell_type": "code",
      "source": [
        "!ls -al '/content/drive/MyDrive/패스트캠퍼스/Part 1'"
      ],
      "metadata": {
        "colab": {
          "base_uri": "https://localhost:8080/"
        },
        "id": "LBbgfGPsnTnv",
        "outputId": "371eb9af-0d75-4016-c9d7-1a847a762d2e"
      },
      "execution_count": null,
      "outputs": [
        {
          "output_type": "stream",
          "name": "stdout",
          "text": [
            "total 174282\n",
            "-rw------- 1 root root 173961605 Feb 14 15:40  celeba_small.npz\n",
            "drwx------ 2 root root      4096 Feb 15 07:21  .ipynb_checkpoints\n",
            "-rw------- 1 root root   2462776 Feb 15 13:40  multi_model.h5\n",
            "-rw------- 1 root root    364345 Feb 14 15:26 '[실습]Part1_Ch01_이미지 분류 - RNN으로 손글씨 이미지 분류하기.ipynb'\n",
            "-rw------- 1 root root    211657 Feb 14 12:40 'Part1_Ch01_이미지 분류 - RNN으로 손글씨 이미지 분류하기.ipynb'\n",
            "-rw------- 1 root root    564006 Feb 15 13:40 '[실습]Part1_Ch02_멀티모델 분류 - 인물 사진에서 성별과 표정 분석하기.ipynb'\n",
            "-rw------- 1 root root    491518 Feb 14 12:40 'Part1_Ch02_멀티모델 분류 - 인물 사진에서 성별과 표정 분석하기.ipynb'\n",
            "-rw------- 1 root root     19063 Mar 26  2021 '[실습]Part1_Ch03_멀티레이블 분류 - 여러 의상 사진에서 옷 종류 구분하기.ipynb'\n",
            "-rw------- 1 root root    383661 Feb 14 12:40 'Part1_Ch03_멀티레이블 분류 - 여러 의상 사진에서 옷 종류 구분하기.ipynb'\n"
          ]
        }
      ]
    },
    {
      "cell_type": "markdown",
      "metadata": {
        "id": "CaDQG8wwzfX8"
      },
      "source": [
        "### 문제 40. 모델 파일을 새로운 모델에 로드하세요."
      ]
    },
    {
      "cell_type": "code",
      "metadata": {
        "id": "WjgDiXdPzfX8"
      },
      "source": [
        "# 모델을 로드하는 코드를 작성하세요."
      ],
      "execution_count": null,
      "outputs": []
    },
    {
      "cell_type": "code",
      "source": [
        "model3 = tf.keras.models.load_model('/content/drive/MyDrive/패스트캠퍼스/Part 1/multi_model.h5')"
      ],
      "metadata": {
        "id": "-hFr9e9CmzKY"
      },
      "execution_count": null,
      "outputs": []
    },
    {
      "cell_type": "code",
      "source": [
        "model3.summary()"
      ],
      "metadata": {
        "colab": {
          "base_uri": "https://localhost:8080/"
        },
        "id": "TpMGltzhngp5",
        "outputId": "31a81dc6-72cb-42cb-aaa9-097722eaa87c"
      },
      "execution_count": null,
      "outputs": [
        {
          "output_type": "stream",
          "name": "stdout",
          "text": [
            "Model: \"model_5\"\n",
            "__________________________________________________________________________________________________\n",
            " Layer (type)                   Output Shape         Param #     Connected to                     \n",
            "==================================================================================================\n",
            " input_11 (InputLayer)          [(None, 72, 59, 3)]  0           []                               \n",
            "                                                                                                  \n",
            " conv2d_30 (Conv2D)             (None, 70, 57, 32)   896         ['input_11[0][0]']               \n",
            "                                                                                                  \n",
            " max_pooling2d_30 (MaxPooling2D  (None, 35, 28, 32)  0           ['conv2d_30[0][0]']              \n",
            " )                                                                                                \n",
            "                                                                                                  \n",
            " conv2d_31 (Conv2D)             (None, 33, 26, 64)   18496       ['max_pooling2d_30[0][0]']       \n",
            "                                                                                                  \n",
            " max_pooling2d_31 (MaxPooling2D  (None, 16, 13, 64)  0           ['conv2d_31[0][0]']              \n",
            " )                                                                                                \n",
            "                                                                                                  \n",
            " conv2d_32 (Conv2D)             (None, 14, 11, 64)   36928       ['max_pooling2d_31[0][0]']       \n",
            "                                                                                                  \n",
            " max_pooling2d_32 (MaxPooling2D  (None, 7, 5, 64)    0           ['conv2d_32[0][0]']              \n",
            " )                                                                                                \n",
            "                                                                                                  \n",
            " flatten_10 (Flatten)           (None, 2240)         0           ['max_pooling2d_32[0][0]']       \n",
            "                                                                                                  \n",
            " dense_26 (Dense)               (None, 64)           143424      ['flatten_10[0][0]']             \n",
            "                                                                                                  \n",
            " dense_27 (Dense)               (None, 2)            130         ['dense_26[0][0]']               \n",
            "                                                                                                  \n",
            " dense_28 (Dense)               (None, 2)            130         ['dense_26[0][0]']               \n",
            "                                                                                                  \n",
            "==================================================================================================\n",
            "Total params: 200,004\n",
            "Trainable params: 200,004\n",
            "Non-trainable params: 0\n",
            "__________________________________________________________________________________________________\n"
          ]
        }
      ]
    },
    {
      "cell_type": "code",
      "source": [
        "model3.get_weights()[0][0][0][0]"
      ],
      "metadata": {
        "colab": {
          "base_uri": "https://localhost:8080/"
        },
        "id": "yq5spdkCnlzN",
        "outputId": "acf66d75-595d-44ae-8188-44ded5118b1c"
      },
      "execution_count": null,
      "outputs": [
        {
          "output_type": "execute_result",
          "data": {
            "text/plain": [
              "array([-0.04863748, -0.04911394, -0.10476077,  0.06551343,  0.16855793,\n",
              "       -0.11579783,  0.09418778,  0.15595812, -0.04549252, -0.12835097,\n",
              "       -0.0023206 , -0.00600409,  0.15541595,  0.18771298,  0.12836045,\n",
              "        0.20149015, -0.12537065,  0.01611782,  0.18435946, -0.0018772 ,\n",
              "        0.16798006,  0.06473882, -0.04009569, -0.08518829, -0.0838763 ,\n",
              "        0.12234601,  0.00661798,  0.0328041 ,  0.02761539,  0.01789257,\n",
              "       -0.06629802,  0.08330103], dtype=float32)"
            ]
          },
          "metadata": {},
          "execution_count": 216
        }
      ]
    },
    {
      "cell_type": "markdown",
      "metadata": {
        "id": "RxNAgeE-zfX8"
      },
      "source": [
        "### 문제 41. 로드한 모델을 test 데이터로 평가해보세요.\n"
      ]
    },
    {
      "cell_type": "code",
      "metadata": {
        "id": "wBerZi7HzfX8"
      },
      "source": [
        "# 로드한 모델을 test 데이터로 평가해보세요."
      ],
      "execution_count": null,
      "outputs": []
    },
    {
      "cell_type": "code",
      "source": [
        "model3.evaluate(test_images, (test_male_labels, test_smile_labels))"
      ],
      "metadata": {
        "colab": {
          "base_uri": "https://localhost:8080/"
        },
        "id": "9EqcrhNvmzb-",
        "outputId": "3cc3e47c-2d36-4c18-f11b-b63e6cff73cd"
      },
      "execution_count": null,
      "outputs": [
        {
          "output_type": "stream",
          "name": "stdout",
          "text": [
            "7/7 [==============================] - 1s 9ms/step - loss: 0.7332 - dense_27_loss: 0.3473 - dense_28_loss: 0.3859 - dense_27_accuracy: 0.9150 - dense_28_accuracy: 0.8950\n"
          ]
        },
        {
          "output_type": "execute_result",
          "data": {
            "text/plain": [
              "[0.7332363724708557,\n",
              " 0.34731319546699524,\n",
              " 0.38592323660850525,\n",
              " 0.9150000214576721,\n",
              " 0.8949999809265137]"
            ]
          },
          "metadata": {},
          "execution_count": 218
        }
      ]
    },
    {
      "cell_type": "markdown",
      "metadata": {
        "id": "5Cn2goDdzfX8"
      },
      "source": [
        "### 문제 42. 모델을 내 컴퓨터에 저장해보세요"
      ]
    },
    {
      "cell_type": "code",
      "metadata": {
        "id": "JJVvgXCZzfX8"
      },
      "source": [
        "# 모델을 내 컴퓨터에 저장해보세요."
      ],
      "execution_count": null,
      "outputs": []
    },
    {
      "cell_type": "code",
      "metadata": {
        "id": "k3y7lP30J6f1",
        "colab": {
          "base_uri": "https://localhost:8080/",
          "height": 17
        },
        "outputId": "eef31c72-6b90-439c-bf8e-1ffa80129460"
      },
      "source": [
        "from google.colab import files\n",
        "\n",
        "files.download('/content/drive/MyDrive/패스트캠퍼스/Part 1/multi_model.h5')"
      ],
      "execution_count": null,
      "outputs": [
        {
          "output_type": "display_data",
          "data": {
            "application/javascript": [
              "\n",
              "    async function download(id, filename, size) {\n",
              "      if (!google.colab.kernel.accessAllowed) {\n",
              "        return;\n",
              "      }\n",
              "      const div = document.createElement('div');\n",
              "      const label = document.createElement('label');\n",
              "      label.textContent = `Downloading \"${filename}\": `;\n",
              "      div.appendChild(label);\n",
              "      const progress = document.createElement('progress');\n",
              "      progress.max = size;\n",
              "      div.appendChild(progress);\n",
              "      document.body.appendChild(div);\n",
              "\n",
              "      const buffers = [];\n",
              "      let downloaded = 0;\n",
              "\n",
              "      const channel = await google.colab.kernel.comms.open(id);\n",
              "      // Send a message to notify the kernel that we're ready.\n",
              "      channel.send({})\n",
              "\n",
              "      for await (const message of channel.messages) {\n",
              "        // Send a message to notify the kernel that we're ready.\n",
              "        channel.send({})\n",
              "        if (message.buffers) {\n",
              "          for (const buffer of message.buffers) {\n",
              "            buffers.push(buffer);\n",
              "            downloaded += buffer.byteLength;\n",
              "            progress.value = downloaded;\n",
              "          }\n",
              "        }\n",
              "      }\n",
              "      const blob = new Blob(buffers, {type: 'application/binary'});\n",
              "      const a = document.createElement('a');\n",
              "      a.href = window.URL.createObjectURL(blob);\n",
              "      a.download = filename;\n",
              "      div.appendChild(a);\n",
              "      a.click();\n",
              "      div.remove();\n",
              "    }\n",
              "  "
            ],
            "text/plain": [
              "<IPython.core.display.Javascript object>"
            ]
          },
          "metadata": {}
        },
        {
          "output_type": "display_data",
          "data": {
            "application/javascript": [
              "download(\"download_df020630-3a92-4bfc-b79a-6ce5e58aa631\", \"multi_model.h5\", 2462776)"
            ],
            "text/plain": [
              "<IPython.core.display.Javascript object>"
            ]
          },
          "metadata": {}
        }
      ]
    }
  ]
}