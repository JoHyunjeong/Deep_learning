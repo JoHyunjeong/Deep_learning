{
  "nbformat": 4,
  "nbformat_minor": 0,
  "metadata": {
    "colab": {
      "name": "[실습]Part1_Ch03_멀티레이블 분류 - 여러 의상 사진에서 옷 종류 구분하기.ipynb",
      "provenance": [],
      "collapsed_sections": [],
      "include_colab_link": true
    },
    "kernelspec": {
      "name": "python3",
      "display_name": "Python 3"
    },
    "accelerator": "GPU"
  },
  "cells": [
    {
      "cell_type": "markdown",
      "metadata": {
        "id": "view-in-github",
        "colab_type": "text"
      },
      "source": [
        "<a href=\"https://colab.research.google.com/github/JoHyunjeong/Deep_learning/blob/main/%EB%94%A5%EB%9F%AC%EB%8B%9D_%EC%8B%A4%EC%8A%B5/1_%EC%9D%B4%EB%AF%B8%EC%A7%80%EB%B6%84%EB%A5%98%EA%B8%B0%EC%B4%88/Ch03_%E1%84%86%E1%85%A5%E1%86%AF%E1%84%90%E1%85%B5%E1%84%85%E1%85%A6%E1%84%8B%E1%85%B5%E1%84%87%E1%85%B3%E1%86%AF_%E1%84%87%E1%85%AE%E1%86%AB%E1%84%85%E1%85%B2_%E1%84%8B%E1%85%A7%E1%84%85%E1%85%A5_%E1%84%8B%E1%85%B4%E1%84%89%E1%85%A1%E1%86%BC_%E1%84%89%E1%85%A1%E1%84%8C%E1%85%B5%E1%86%AB%E1%84%8B%E1%85%A6%E1%84%89%E1%85%A5_%E1%84%8B%E1%85%A9%E1%86%BA_%E1%84%8C%E1%85%A9%E1%86%BC%E1%84%85%E1%85%B2_%E1%84%80%E1%85%AE%E1%84%87%E1%85%AE%E1%86%AB%E1%84%92%E1%85%A1%E1%84%80%E1%85%B5.ipynb\" target=\"_parent\"><img src=\"https://colab.research.google.com/assets/colab-badge.svg\" alt=\"Open In Colab\"/></a>"
      ]
    },
    {
      "cell_type": "markdown",
      "metadata": {
        "id": "oR0VJlz7mi5A"
      },
      "source": [
        "\n",
        "# 주제 : 여러 의상 사진에서 옷 종류 구분하기\n",
        "--------------\n",
        "## 실습 가이드\n",
        "    1. 데이터를 다운로드하여 Colab에 불러옵니다.\n",
        "    2. 필요한 라이브러리는 모두 코드로 작성되어 있습니다.\n",
        "    3. 코드는 위에서부터 아래로 순서대로 실행합니다.\n",
        "    4. 전체 문제 구성은 좌측 첫 번째 아이콘을 통해 확인할 수 있습니다.\n",
        "\n",
        "## 데이터 소개\n",
        "  - 이번 주제의 데이터는 너무나 유명한 fashion MNIST 데이터를 사용합니다.\n",
        "  ![mnist 이미지](https://rviews.rstudio.com/post/2019-10-31-a-comparison-of-methods-for-predicting-clothing-classes-using-the-fashion-mnist-dataset-in-rstudio-and-python-part-1/index_files/figure-html/unnamed-chunk-8-1.png)\n",
        "\n",
        "   위의 이미지는 다음과 같은 것을 보여줍니다.  \n",
        "(a) 28x28의 배열에서 의류의 모습 어떻게 모사되는지   \n",
        "(b) 각 0-9까지의 다양한 의류 그림의 모습들\n",
        "\n",
        "\n",
        "   - 데이터 출처: [fashionmnist](https://www.kaggle.com/zalando-research/fashionmnist)\n",
        "\n",
        "## 최종 목표\n",
        "\n",
        "  - fashion MNIST 이미지를 클래시피케이션 하기\n",
        "  - 멀티 클래스(정답 레이블이 1개)와 멀티레이블(정답 레이블이 0개 ~ 여러개) 구분하기\n",
        "  - 이미지 확장 하기\n",
        "  - 이미지에 객체 삽입하기\n",
        "\n",
        "  - 출제자 : 손근영 강사\n"
      ]
    },
    {
      "cell_type": "code",
      "metadata": {
        "id": "e7kl3hgkikbo"
      },
      "source": [
        "import tensorflow as tf\n",
        "from tensorflow import keras\n",
        "from keras.layers import Dense\n",
        "from keras.models import Sequential\n",
        "\n",
        "import pandas as pd\n",
        "import numpy as np\n",
        "import matplotlib.pyplot as plt\n",
        "import seaborn as sns\n",
        "import warnings \n",
        "from IPython.display import Image\n",
        "\n",
        "warnings.filterwarnings('ignore')\n",
        "%matplotlib inline\n",
        "\n",
        "SEED = 34"
      ],
      "execution_count": null,
      "outputs": []
    },
    {
      "cell_type": "markdown",
      "metadata": {
        "id": "c5uDUVunS1Yk"
      },
      "source": [
        "## Step 1. 도입전 기본 처리"
      ]
    },
    {
      "cell_type": "markdown",
      "metadata": {
        "id": "2Bgf6uZtoBob"
      },
      "source": [
        "### 문제 1. fashion mnist 데이터 살펴보기"
      ]
    },
    {
      "cell_type": "code",
      "metadata": {
        "id": "l2NW5G5nTgsb"
      },
      "source": [
        "# 데이터를 불러오는 코드를 작성해주세요."
      ],
      "execution_count": null,
      "outputs": []
    },
    {
      "cell_type": "code",
      "source": [
        "fashion_mnist = keras.datasets.fashion_mnist\n",
        "((train_images, train_labels), (test_images, test_labels)) = fashion_mnist.load_data()"
      ],
      "metadata": {
        "colab": {
          "base_uri": "https://localhost:8080/"
        },
        "id": "Td8ssSz6OKDH",
        "outputId": "f5add2e2-6caa-458f-ed20-87024b8c192e"
      },
      "execution_count": null,
      "outputs": [
        {
          "output_type": "stream",
          "name": "stdout",
          "text": [
            "Downloading data from https://storage.googleapis.com/tensorflow/tf-keras-datasets/train-labels-idx1-ubyte.gz\n",
            "32768/29515 [=================================] - 0s 0us/step\n",
            "40960/29515 [=========================================] - 0s 0us/step\n",
            "Downloading data from https://storage.googleapis.com/tensorflow/tf-keras-datasets/train-images-idx3-ubyte.gz\n",
            "26427392/26421880 [==============================] - 0s 0us/step\n",
            "26435584/26421880 [==============================] - 0s 0us/step\n",
            "Downloading data from https://storage.googleapis.com/tensorflow/tf-keras-datasets/t10k-labels-idx1-ubyte.gz\n",
            "16384/5148 [===============================================================================================] - 0s 0us/step\n",
            "Downloading data from https://storage.googleapis.com/tensorflow/tf-keras-datasets/t10k-images-idx3-ubyte.gz\n",
            "4423680/4422102 [==============================] - 0s 0us/step\n",
            "4431872/4422102 [==============================] - 0s 0us/step\n"
          ]
        }
      ]
    },
    {
      "cell_type": "markdown",
      "metadata": {
        "id": "ko4D-BpJTq2r"
      },
      "source": [
        "### 문제 2. train_images/labels와 test_images/labes의 shape을 출력해보세요."
      ]
    },
    {
      "cell_type": "code",
      "metadata": {
        "id": "waksbx9aT5tK"
      },
      "source": [
        "# 데이터의 크기를 shape 함수를 통해 출력해주세요."
      ],
      "execution_count": null,
      "outputs": []
    },
    {
      "cell_type": "code",
      "source": [
        "print(f'train_images : {train_images.shape}\\ntrain_labels : {train_labels.shape}')\n",
        "print(f'test_images : {test_images.shape}\\ntest_labels : {test_labels.shape}')"
      ],
      "metadata": {
        "colab": {
          "base_uri": "https://localhost:8080/"
        },
        "id": "Z9CzL6T_OKtp",
        "outputId": "faa56728-7e09-4182-cbba-e1054cbe4c37"
      },
      "execution_count": null,
      "outputs": [
        {
          "output_type": "stream",
          "name": "stdout",
          "text": [
            "train_images : (60000, 28, 28)\n",
            "train_labels : (60000,)\n",
            "test_images : (10000, 28, 28)\n",
            "test_labels : (10000,)\n"
          ]
        }
      ]
    },
    {
      "cell_type": "code",
      "metadata": {
        "id": "KlDtX99RrTBe"
      },
      "source": [
        "# 레이블을 설정해보세요.\n",
        "labels = [\"T-shirt/top\",  # index 0\n",
        "          \"Trouser\",      # index 1\n",
        "          \"Pullover\",     # index 2 \n",
        "          \"Dress\",        # index 3 \n",
        "          \"Coat\",         # index 4\n",
        "          \"Sandal\",       # index 5\n",
        "          \"Shirt\",        # index 6 \n",
        "          \"Sneaker\",      # index 7 \n",
        "          \"Bag\",          # index 8 \n",
        "          \"Ankle boot\"]   # index 9\n",
        "\n",
        "def idx2label(idx): # index -> label\n",
        "  return labels[idx]"
      ],
      "execution_count": null,
      "outputs": []
    },
    {
      "cell_type": "code",
      "source": [
        "idx2label(test_labels[0])"
      ],
      "metadata": {
        "colab": {
          "base_uri": "https://localhost:8080/",
          "height": 36
        },
        "id": "PWeeisdPRM9p",
        "outputId": "65e595e0-4219-4f6f-dc77-8246a4190c79"
      },
      "execution_count": null,
      "outputs": [
        {
          "output_type": "execute_result",
          "data": {
            "application/vnd.google.colaboratory.intrinsic+json": {
              "type": "string"
            },
            "text/plain": [
              "'Ankle boot'"
            ]
          },
          "metadata": {},
          "execution_count": 7
        }
      ]
    },
    {
      "cell_type": "markdown",
      "metadata": {
        "id": "hrmQ7HzEUKrz"
      },
      "source": [
        "### 문제 3. (28, 28) 형태의 이미지를 plt을 이용하여 출력해보세요."
      ]
    },
    {
      "cell_type": "code",
      "metadata": {
        "id": "fVzGHMSYUUKk"
      },
      "source": [
        "# 28x28의 흑백 이미지를 plt를 이용하여 출력하는 코드를 작성해보세요\n",
        "# plt의 title에 label 정보를 출력해보세요."
      ],
      "execution_count": null,
      "outputs": []
    },
    {
      "cell_type": "code",
      "source": [
        "plt.imshow(test_images[0], cmap='gray')\n",
        "plt.title(idx2label(test_labels[0]))\n",
        "plt.show()"
      ],
      "metadata": {
        "colab": {
          "base_uri": "https://localhost:8080/",
          "height": 281
        },
        "id": "SqEhEUKURFrI",
        "outputId": "ccfb98c8-dfc6-4b5d-eb62-b628b098f70c"
      },
      "execution_count": null,
      "outputs": [
        {
          "output_type": "display_data",
          "data": {
            "image/png": "[encoded data removed]",
            "text/plain": [
              "<Figure size 432x288 with 1 Axes>"
            ]
          },
          "metadata": {
            "needs_background": "light"
          }
        }
      ]
    },
    {
      "cell_type": "code",
      "metadata": {
        "id": "dV75uS_1rcpo"
      },
      "source": [
        "def show(idx):\n",
        "  plt.imshow(train_images[idx], cmap='gray')\n",
        "  plt.title(idx2label(train_labels[idx]))\n",
        "  plt.show()"
      ],
      "execution_count": null,
      "outputs": []
    },
    {
      "cell_type": "code",
      "source": [
        "show(0)"
      ],
      "metadata": {
        "colab": {
          "base_uri": "https://localhost:8080/",
          "height": 281
        },
        "id": "kYGgzDUaOMZY",
        "outputId": "23a21dec-16aa-4e3a-a7c4-9a99c584eee2"
      },
      "execution_count": null,
      "outputs": [
        {
          "output_type": "display_data",
          "data": {
            "image/png": "[encoded data removed]",
            "text/plain": [
              "<Figure size 432x288 with 1 Axes>"
            ]
          },
          "metadata": {
            "needs_background": "light"
          }
        }
      ]
    },
    {
      "cell_type": "code",
      "source": [
        "show(12)"
      ],
      "metadata": {
        "colab": {
          "base_uri": "https://localhost:8080/",
          "height": 281
        },
        "id": "oGTWS_BPSOLu",
        "outputId": "80c5efb1-a586-4c28-b693-2d783336d368"
      },
      "execution_count": null,
      "outputs": [
        {
          "output_type": "display_data",
          "data": {
            "image/png": "[encoded data removed]",
            "text/plain": [
              "<Figure size 432x288 with 1 Axes>"
            ]
          },
          "metadata": {
            "needs_background": "light"
          }
        }
      ]
    },
    {
      "cell_type": "markdown",
      "metadata": {
        "id": "vDLHexaGUs17"
      },
      "source": [
        "### 문제 4. train_images에서 0이 아닌 값들을 출력해보세요."
      ]
    },
    {
      "cell_type": "code",
      "metadata": {
        "id": "1NYdCv1yUsKG"
      },
      "source": [
        "# 하나의 이미지에 대한 모든 0이 아닌 값을 출력하는 코드를 작성하세요."
      ],
      "execution_count": null,
      "outputs": []
    },
    {
      "cell_type": "code",
      "source": [
        "# 나쁜 예시. 이렇게 돌리면 오래 걸림\n",
        "# list(filter(lambda x:x!=0, train_images.reshape(-1)))[:10]\n",
        "\n",
        "train_images[train_images != 0][:5]"
      ],
      "metadata": {
        "colab": {
          "base_uri": "https://localhost:8080/"
        },
        "id": "wSIJOoRUSZTz",
        "outputId": "8affcf33-4575-49c0-ceed-12b89a50fc7f"
      },
      "execution_count": null,
      "outputs": [
        {
          "output_type": "execute_result",
          "data": {
            "text/plain": [
              "array([ 1, 13, 73,  1,  4], dtype=uint8)"
            ]
          },
          "metadata": {},
          "execution_count": 14
        }
      ]
    },
    {
      "cell_type": "code",
      "metadata": {
        "id": "iTBMH7M1tfNI"
      },
      "source": [
        "# 이미지의 값이 가장 큰 idx와 작은 idx를 구하여 출력해보세요"
      ],
      "execution_count": null,
      "outputs": []
    },
    {
      "cell_type": "code",
      "source": [
        "train_images.shape"
      ],
      "metadata": {
        "colab": {
          "base_uri": "https://localhost:8080/"
        },
        "id": "uNH9vWJPSfkW",
        "outputId": "36a9e947-38fc-4cbc-b235-148e37666c3d"
      },
      "execution_count": null,
      "outputs": [
        {
          "output_type": "execute_result",
          "data": {
            "text/plain": [
              "(60000, 28, 28)"
            ]
          },
          "metadata": {},
          "execution_count": 16
        }
      ]
    },
    {
      "cell_type": "code",
      "source": [
        "train_images.reshape(60000,-1).shape"
      ],
      "metadata": {
        "colab": {
          "base_uri": "https://localhost:8080/"
        },
        "id": "KGvjmQCWTK4L",
        "outputId": "0341fae9-5782-4b4a-d94a-80e4eebc03dd"
      },
      "execution_count": null,
      "outputs": [
        {
          "output_type": "execute_result",
          "data": {
            "text/plain": [
              "(60000, 784)"
            ]
          },
          "metadata": {},
          "execution_count": 17
        }
      ]
    },
    {
      "cell_type": "code",
      "source": [
        "train_images.reshape(60000,-1).sum(axis=1).shape"
      ],
      "metadata": {
        "colab": {
          "base_uri": "https://localhost:8080/"
        },
        "id": "7ZWbUY49TSIH",
        "outputId": "43dab1c7-66a4-4efa-ebc2-aefd0c1c8c5d"
      },
      "execution_count": null,
      "outputs": [
        {
          "output_type": "execute_result",
          "data": {
            "text/plain": [
              "(60000,)"
            ]
          },
          "metadata": {},
          "execution_count": 18
        }
      ]
    },
    {
      "cell_type": "code",
      "source": [
        "print(train_images.reshape(60000,-1).sum(axis=1).argmax()) # 이미지 값이 가장 큰 idx\n",
        "print(train_images.reshape(60000,-1).sum(axis=1).argmin()) # 이미지 값이 가장 작은 idx"
      ],
      "metadata": {
        "colab": {
          "base_uri": "https://localhost:8080/"
        },
        "id": "e7YuBUf5TaZm",
        "outputId": "3bff6f18-281c-4270-a92b-ec010f094c82"
      },
      "execution_count": null,
      "outputs": [
        {
          "output_type": "stream",
          "name": "stdout",
          "text": [
            "55023\n",
            "9230\n"
          ]
        }
      ]
    },
    {
      "cell_type": "code",
      "source": [
        "print(train_images.reshape(60000,-1).sum(axis=1)[55023])\n",
        "print(train_images.reshape(60000,-1).sum(axis=1)[9230])"
      ],
      "metadata": {
        "colab": {
          "base_uri": "https://localhost:8080/"
        },
        "id": "7Y5bqjOTTld3",
        "outputId": "23b89357-82b1-4f31-c515-482d331c046a"
      },
      "execution_count": null,
      "outputs": [
        {
          "output_type": "stream",
          "name": "stdout",
          "text": [
            "150387\n",
            "3876\n"
          ]
        }
      ]
    },
    {
      "cell_type": "code",
      "source": [
        "show(55023)"
      ],
      "metadata": {
        "colab": {
          "base_uri": "https://localhost:8080/",
          "height": 281
        },
        "id": "4ukVdroeTts2",
        "outputId": "8c24c393-788b-4d40-8269-f3878b1114d4"
      },
      "execution_count": null,
      "outputs": [
        {
          "output_type": "display_data",
          "data": {
            "image/png": "[encoded data removed]",
            "text/plain": [
              "<Figure size 432x288 with 1 Axes>"
            ]
          },
          "metadata": {
            "needs_background": "light"
          }
        }
      ]
    },
    {
      "cell_type": "code",
      "source": [
        "show(9230)"
      ],
      "metadata": {
        "colab": {
          "base_uri": "https://localhost:8080/",
          "height": 281
        },
        "id": "ihYp1-vFTvOg",
        "outputId": "4c5648ee-4eb5-4be0-e57d-2f94b2b53325"
      },
      "execution_count": null,
      "outputs": [
        {
          "output_type": "display_data",
          "data": {
            "image/png": "[encoded data removed]",
            "text/plain": [
              "<Figure size 432x288 with 1 Axes>"
            ]
          },
          "metadata": {
            "needs_background": "light"
          }
        }
      ]
    },
    {
      "cell_type": "markdown",
      "metadata": {
        "id": "CZOhbFOFU_jr"
      },
      "source": [
        "### 문제 5. train_images의 dtype을 출력해보세요."
      ]
    },
    {
      "cell_type": "code",
      "metadata": {
        "id": "nVc4kjgAVNl7"
      },
      "source": [
        "# dtype을 이용하여 이미지의 np array type을 확인해보세요."
      ],
      "execution_count": null,
      "outputs": []
    },
    {
      "cell_type": "code",
      "source": [
        "train_images.dtype"
      ],
      "metadata": {
        "colab": {
          "base_uri": "https://localhost:8080/"
        },
        "id": "ZdfM9tcMRHE5",
        "outputId": "a70213d8-0efb-48ed-c844-70250511c098"
      },
      "execution_count": null,
      "outputs": [
        {
          "output_type": "execute_result",
          "data": {
            "text/plain": [
              "dtype('uint8')"
            ]
          },
          "metadata": {},
          "execution_count": 24
        }
      ]
    },
    {
      "cell_type": "markdown",
      "metadata": {
        "id": "eKv9UoZAxTr6"
      },
      "source": [
        "## Step 2. 전처리"
      ]
    },
    {
      "cell_type": "markdown",
      "metadata": {
        "id": "UTXpP1Imyaad"
      },
      "source": [
        "### 문제 6. train/test 이미지 데이터의 범위 확인"
      ]
    },
    {
      "cell_type": "code",
      "metadata": {
        "id": "Ji6XLxvRy5eJ"
      },
      "source": [
        "# test_images의 shape과 dtype, 0이 아닌 숫자를 출력하는 코드를 작성하세요."
      ],
      "execution_count": null,
      "outputs": []
    },
    {
      "cell_type": "code",
      "source": [
        "print(f'train_images : {train_images[train_images != 0][:10]}')\n",
        "print(f'test_images : {test_images[test_images != 0][:10]}')\n",
        "\n",
        "print(f'train_images : {train_images.shape}')\n",
        "print(f'test_images : {test_images.shape}')\n",
        "\n",
        "print(f'train_images : {train_images.dtype}')\n",
        "print(f'test_images : {test_images.dtype}')"
      ],
      "metadata": {
        "colab": {
          "base_uri": "https://localhost:8080/"
        },
        "id": "ctmXZCDIOo5h",
        "outputId": "b6e0d53e-3f68-446b-f534-cf3dbaef5c87"
      },
      "execution_count": null,
      "outputs": [
        {
          "output_type": "stream",
          "name": "stdout",
          "text": [
            "train_images : [  1  13  73   1   4   1   1   3  36 136]\n",
            "test_images : [  3   1   7  37   1   2  27  84  11 119]\n",
            "train_images : (60000, 28, 28)\n",
            "test_images : (10000, 28, 28)\n",
            "train_images : uint8\n",
            "test_images : uint8\n"
          ]
        }
      ]
    },
    {
      "cell_type": "markdown",
      "metadata": {
        "id": "7OpFGbD6V8Zl"
      },
      "source": [
        "### 문제 7. train/test 이미지 데이터의 최소/최대값을 출력"
      ]
    },
    {
      "cell_type": "code",
      "metadata": {
        "id": "sFOJNRTvYo7d"
      },
      "source": [
        "# train/test 전체 데이터에서 각 images, labels의 min, max를 출력하는 코드를 작성하세요."
      ],
      "execution_count": null,
      "outputs": []
    },
    {
      "cell_type": "code",
      "source": [
        "print(train_images.min(), train_images.max())\n",
        "print(test_images.min(), test_images.max())"
      ],
      "metadata": {
        "id": "Dp6lZZWXT6pX",
        "colab": {
          "base_uri": "https://localhost:8080/"
        },
        "outputId": "d223a421-919f-4ee2-e891-8fe2a36c658a"
      },
      "execution_count": null,
      "outputs": [
        {
          "output_type": "stream",
          "name": "stdout",
          "text": [
            "0 255\n",
            "0 255\n"
          ]
        }
      ]
    },
    {
      "cell_type": "markdown",
      "metadata": {
        "id": "W_xsByHegZhh"
      },
      "source": [
        "### 문제 8. 정수형을 실수형으로 변경 후 dtype으로 비교"
      ]
    },
    {
      "cell_type": "code",
      "metadata": {
        "id": "Y88qmAVChg_Z"
      },
      "source": [
        "# train/test 데이터의 타입을 dtype으로 확인해보고 실수형으로 전환하는 코드를 작성하세요."
      ],
      "execution_count": null,
      "outputs": []
    },
    {
      "cell_type": "code",
      "source": [
        "print(train_images.dtype)\n",
        "print(test_images.dtype)\n",
        "\n",
        "train_images = train_images.astype(np.float64)\n",
        "test_images = test_images.astype(np.float64)\n",
        "\n",
        "print(train_images.dtype)\n",
        "print(test_images.dtype)"
      ],
      "metadata": {
        "id": "e90Q9B1JT7DY",
        "colab": {
          "base_uri": "https://localhost:8080/"
        },
        "outputId": "aa4f1abf-44cf-46d2-fd2e-a9e63c079e06"
      },
      "execution_count": null,
      "outputs": [
        {
          "output_type": "stream",
          "name": "stdout",
          "text": [
            "uint8\n",
            "uint8\n",
            "float64\n",
            "float64\n"
          ]
        }
      ]
    },
    {
      "cell_type": "code",
      "source": [
        "print(train_images.min(), train_images.max())\n",
        "print(test_images.min(), test_images.max())"
      ],
      "metadata": {
        "colab": {
          "base_uri": "https://localhost:8080/"
        },
        "id": "px5xUKHGQ5Xx",
        "outputId": "ef021b9c-7e46-4d73-a13c-0d3649f4cae3"
      },
      "execution_count": null,
      "outputs": [
        {
          "output_type": "stream",
          "name": "stdout",
          "text": [
            "0.0 255.0\n",
            "0.0 255.0\n"
          ]
        }
      ]
    },
    {
      "cell_type": "markdown",
      "metadata": {
        "id": "9iIJK2qsfevX"
      },
      "source": [
        "### 문제 9. 데이터 0-1 노말라이즈 수행\n"
      ]
    },
    {
      "cell_type": "markdown",
      "metadata": {
        "id": "L0f__zuBfotM"
      },
      "source": [
        "#### 힌트\n",
        "\n",
        "일반적으로 0-1사의의 값을 가지게 하기 위해서는 다음 수식을 사용합니다.\n",
        "\n",
        "$$normalize(x) = \\frac{x - 최소값}{최대값 - 최소값}$$\n",
        "\n",
        "이 경우 최소값이 0이기 떄문에 다음과 같이 간편하게 구할 수 있습니다.\n",
        "\n",
        "$$normalize(x) = \\frac{x}{최대값}$$"
      ]
    },
    {
      "cell_type": "code",
      "metadata": {
        "id": "SV2A6JZBf7Ku"
      },
      "source": [
        "# images의 값이 0-1사이의 값을 같도록 코드를 작성해보세요."
      ],
      "execution_count": null,
      "outputs": []
    },
    {
      "cell_type": "code",
      "source": [
        "(train_images / 255.0).min(), (train_images / 255.0).max()"
      ],
      "metadata": {
        "id": "FDzOPvesT7_N",
        "colab": {
          "base_uri": "https://localhost:8080/"
        },
        "outputId": "adc28b7a-2bb2-4bd7-a2fb-63891b9ae183"
      },
      "execution_count": null,
      "outputs": [
        {
          "output_type": "execute_result",
          "data": {
            "text/plain": [
              "(0.0, 1.0)"
            ]
          },
          "metadata": {},
          "execution_count": 33
        }
      ]
    },
    {
      "cell_type": "code",
      "metadata": {
        "id": "-mVAW1rvwoTP"
      },
      "source": [
        "# 임의의 구간으로 노말라이즈 할 수 있는 코드를 작성해보세요"
      ],
      "execution_count": null,
      "outputs": []
    },
    {
      "cell_type": "code",
      "source": [
        "def norm(data):\n",
        "  min_v = data.min()\n",
        "  max_v = data.max()\n",
        "  return (data - min_v) / (max_v - min_v)\n",
        "\n",
        "print(norm(train_images).min(), norm(train_images).max())\n",
        "print(norm(test_images).min(), norm(test_images).max())"
      ],
      "metadata": {
        "id": "BGGFqKcaT8d_",
        "colab": {
          "base_uri": "https://localhost:8080/"
        },
        "outputId": "eaae9dbb-83c5-4ba3-dc20-2252db91c1b4"
      },
      "execution_count": null,
      "outputs": [
        {
          "output_type": "stream",
          "name": "stdout",
          "text": [
            "0.0 1.0\n",
            "0.0 1.0\n"
          ]
        }
      ]
    },
    {
      "cell_type": "code",
      "source": [
        "train_images = norm(train_images)\n",
        "test_images = norm(test_images)"
      ],
      "metadata": {
        "id": "x8vsP6B5SPW0"
      },
      "execution_count": null,
      "outputs": []
    },
    {
      "cell_type": "markdown",
      "metadata": {
        "id": "8QqqdPzDiC3F"
      },
      "source": [
        "### 문제 10. 0-1 노말라이즈 후 데이터의 값이 변경되었는지 문제 6, 7의 방법을 이용하여 확인하세요."
      ]
    },
    {
      "cell_type": "code",
      "metadata": {
        "id": "t-ZKXRKO2rBE"
      },
      "source": [
        "# 노말라이즈 후 min/max, shape, 0이 아닌 값, dtype 등을 확인하는 코드를 작성해보세요. "
      ],
      "execution_count": null,
      "outputs": []
    },
    {
      "cell_type": "code",
      "source": [
        "print(train_images.min(), train_images.max())\n",
        "print(test_images.min(), test_images.max())\n",
        "\n",
        "print(f'train_images : {train_images[train_images != 0][:10]}')\n",
        "print(f'test_images : {test_images[test_images != 0][:10]}')\n",
        "\n",
        "print(f'train_images : {train_images.shape}')\n",
        "print(f'test_images : {test_images.shape}')\n",
        "\n",
        "print(f'train_images : {train_images.dtype}')\n",
        "print(f'test_images : {test_images.dtype}')"
      ],
      "metadata": {
        "id": "_mYUp0B3T87V",
        "colab": {
          "base_uri": "https://localhost:8080/"
        },
        "outputId": "16789f30-16a0-4141-828b-36ff2c524e49"
      },
      "execution_count": null,
      "outputs": [
        {
          "output_type": "stream",
          "name": "stdout",
          "text": [
            "0.0 1.0\n",
            "0.0 1.0\n",
            "train_images : [0.00392157 0.05098039 0.28627451 0.00392157 0.01568627 0.00392157\n",
            " 0.00392157 0.01176471 0.14117647 0.53333333]\n",
            "test_images : [0.01176471 0.00392157 0.02745098 0.14509804 0.00392157 0.00784314\n",
            " 0.10588235 0.32941176 0.04313725 0.46666667]\n",
            "train_images : (60000, 28, 28)\n",
            "test_images : (10000, 28, 28)\n",
            "train_images : float64\n",
            "test_images : float64\n"
          ]
        }
      ]
    },
    {
      "cell_type": "code",
      "metadata": {
        "id": "r855HJjIw7Zv"
      },
      "source": [
        "# 스케일링 범위를 바꿔서 시도해보세요"
      ],
      "execution_count": null,
      "outputs": []
    },
    {
      "cell_type": "code",
      "source": [
        "a = norm(train_images) * 3\n",
        "print(a.min(), a.max())\n",
        "\n",
        "a = norm(train_images) * 4\n",
        "print(a.min(), a.max())"
      ],
      "metadata": {
        "id": "sjMSi6v2T9Qh",
        "colab": {
          "base_uri": "https://localhost:8080/"
        },
        "outputId": "50735503-278d-421a-f94b-7f552be21399"
      },
      "execution_count": null,
      "outputs": [
        {
          "output_type": "stream",
          "name": "stdout",
          "text": [
            "0.0 3.0\n",
            "0.0 4.0\n"
          ]
        }
      ]
    },
    {
      "cell_type": "markdown",
      "metadata": {
        "id": "SMyUArry3UhT"
      },
      "source": [
        "## Step 3. 시각화 방법"
      ]
    },
    {
      "cell_type": "markdown",
      "metadata": {
        "id": "UFga-Bbo6L0E"
      },
      "source": [
        "### 문제 11. train_image의 이미지를 5장 획득하여 (5, 28, 28)의 shape을 출력하세요."
      ]
    },
    {
      "cell_type": "markdown",
      "source": [
        "이미지는 흑백인 경우 2차원 배열이거나, 컬러인 경우 3차원이며, 세번째 차원이 3이어야 함"
      ],
      "metadata": {
        "id": "6ZlmaYb4VA33"
      }
    },
    {
      "cell_type": "code",
      "metadata": {
        "id": "cLaqqwz4i_7D"
      },
      "source": [
        "# (60000, 28, 28)인 train_images에서 (5, 28, 28)을 획득하는 코드를 작성하세요."
      ],
      "execution_count": null,
      "outputs": []
    },
    {
      "cell_type": "code",
      "source": [
        "train_images[:5].shape"
      ],
      "metadata": {
        "colab": {
          "base_uri": "https://localhost:8080/"
        },
        "id": "c9VRT1ImT8xw",
        "outputId": "e86c813c-9974-4e85-d560-b262a3df2e37"
      },
      "execution_count": null,
      "outputs": [
        {
          "output_type": "execute_result",
          "data": {
            "text/plain": [
              "(5, 28, 28)"
            ]
          },
          "metadata": {},
          "execution_count": 42
        }
      ]
    },
    {
      "cell_type": "code",
      "source": [
        "# 별로(?)인 예시\n",
        "# np.concatenate([train_images[0], train_images[1], train_images[2], train_images[3], train_images[4]], axis=0).reshape(5, 28, 28).shape"
      ],
      "metadata": {
        "id": "VLAEtluBUZot"
      },
      "execution_count": null,
      "outputs": []
    },
    {
      "cell_type": "markdown",
      "metadata": {
        "id": "gX8JH97njNNr"
      },
      "source": [
        "### 문제 12. 획득한 5장의 의미지를 (28, 28 * 5)의 shape으로 변경해보세요."
      ]
    },
    {
      "cell_type": "code",
      "metadata": {
        "id": "bxRhMcaKk3Pa"
      },
      "source": [
        "# np.hstack은 height 방향의 배열을 풀어서 width 방향으로 연결해줍니다.\n",
        "# 해당 기능을 쓰면 (height, image_height, image_width)의 shape을 (image_height, image_width * height)으로 바꿔 줄 수 있습니다.\n",
        "# 코드를 작성해보세요."
      ],
      "execution_count": null,
      "outputs": []
    },
    {
      "cell_type": "code",
      "source": [
        "np.hstack(train_images[:5]).shape"
      ],
      "metadata": {
        "colab": {
          "base_uri": "https://localhost:8080/"
        },
        "id": "MR6xo37gT9Af",
        "outputId": "9eff5991-1f62-48f6-bda2-fd68c5ae3b3f"
      },
      "execution_count": null,
      "outputs": [
        {
          "output_type": "execute_result",
          "data": {
            "text/plain": [
              "(28, 140)"
            ]
          },
          "metadata": {},
          "execution_count": 45
        }
      ]
    },
    {
      "cell_type": "markdown",
      "metadata": {
        "id": "xqyaO-5bk-sj"
      },
      "source": [
        "### 문제 13. np.hstack은 tensorflow에서 제공하는 방법이 아니므로 transpose 함수를 이용하여 (28, 28 * 5)로 shape을 변경해보세요."
      ]
    },
    {
      "cell_type": "code",
      "metadata": {
        "id": "SqmKdjlGlqLJ"
      },
      "source": [
        "# transpose는 tensor의 axis를 섞는 기능을 합니다.\n",
        "# 해당 기능을 이용해서 (28, 140)을 작성하는 코드를 작성해보세요."
      ],
      "execution_count": null,
      "outputs": []
    },
    {
      "cell_type": "code",
      "source": [
        "(train_images[:5].transpose((0, 1, 2)) == train_images[:5]).all() # transpose를 통해 축 변형"
      ],
      "metadata": {
        "colab": {
          "base_uri": "https://localhost:8080/"
        },
        "id": "-iMlWWUdVo6j",
        "outputId": "35c4bcd6-2aee-4c05-9c06-14b6faa2a811"
      },
      "execution_count": null,
      "outputs": [
        {
          "output_type": "execute_result",
          "data": {
            "text/plain": [
              "True"
            ]
          },
          "metadata": {},
          "execution_count": 47
        }
      ]
    },
    {
      "cell_type": "code",
      "source": [
        "train_images[:5].transpose((1, 0, 2)).reshape(28, -1).shape"
      ],
      "metadata": {
        "colab": {
          "base_uri": "https://localhost:8080/"
        },
        "id": "hPEWl15VT9V_",
        "outputId": "dd894a93-7843-4585-cf6e-4089d8e400c2"
      },
      "execution_count": null,
      "outputs": [
        {
          "output_type": "execute_result",
          "data": {
            "text/plain": [
              "(28, 140)"
            ]
          },
          "metadata": {},
          "execution_count": 48
        }
      ]
    },
    {
      "cell_type": "markdown",
      "metadata": {
        "id": "T0oaToP6l0Pd"
      },
      "source": [
        "### 문제 14. (28, 140)이 된 tensor를 plt로 출력해보세요."
      ]
    },
    {
      "cell_type": "code",
      "metadata": {
        "id": "ToUpk3oBmIr1"
      },
      "source": [
        "# (28, 140)의 이미지를 plt로 출력해보세요."
      ],
      "execution_count": null,
      "outputs": []
    },
    {
      "cell_type": "code",
      "source": [
        "plt.imshow(train_images[:5].transpose((1, 0, 2)).reshape(28, -1))\n",
        "plt.show()"
      ],
      "metadata": {
        "colab": {
          "base_uri": "https://localhost:8080/",
          "height": 118
        },
        "id": "-0n3uHXTT9s8",
        "outputId": "69a10335-8bc7-48a4-b20d-24a6e7e24f39"
      },
      "execution_count": null,
      "outputs": [
        {
          "output_type": "display_data",
          "data": {
            "image/png": "[encoded data removed]",
            "text/plain": [
              "<Figure size 432x288 with 1 Axes>"
            ]
          },
          "metadata": {
            "needs_background": "light"
          }
        }
      ]
    },
    {
      "cell_type": "code",
      "metadata": {
        "id": "TZAF8OlW1HsT"
      },
      "source": [
        "# 레이블에 따라 5개를 출력하는 함수를 만들어보세요."
      ],
      "execution_count": null,
      "outputs": []
    },
    {
      "cell_type": "code",
      "source": [
        "idx2label(7)"
      ],
      "metadata": {
        "colab": {
          "base_uri": "https://localhost:8080/",
          "height": 36
        },
        "id": "K085xBhVWvGa",
        "outputId": "82db1a35-5545-4080-8ab1-316d568f621f"
      },
      "execution_count": null,
      "outputs": [
        {
          "output_type": "execute_result",
          "data": {
            "application/vnd.google.colaboratory.intrinsic+json": {
              "type": "string"
            },
            "text/plain": [
              "'Sneaker'"
            ]
          },
          "metadata": {},
          "execution_count": 52
        }
      ]
    },
    {
      "cell_type": "code",
      "source": [
        "np.argwhere(train_labels == 7)[:5, ...,0] # argwhere : 특정 조건의 인덱스 반환 / 펴주기 위해 ',..., 0'을 붙임"
      ],
      "metadata": {
        "colab": {
          "base_uri": "https://localhost:8080/"
        },
        "id": "GeogURtOT9_U",
        "outputId": "8185d5ba-0c07-4749-81b6-64d9e2a6abee"
      },
      "execution_count": null,
      "outputs": [
        {
          "output_type": "execute_result",
          "data": {
            "text/plain": [
              "array([ 6, 14, 41, 46, 52])"
            ]
          },
          "metadata": {},
          "execution_count": 53
        }
      ]
    },
    {
      "cell_type": "code",
      "source": [
        "show(6)"
      ],
      "metadata": {
        "colab": {
          "base_uri": "https://localhost:8080/",
          "height": 281
        },
        "id": "Cv-KIQonYNCX",
        "outputId": "cda710f9-83e5-4259-8d16-93e06fd465dc"
      },
      "execution_count": null,
      "outputs": [
        {
          "output_type": "display_data",
          "data": {
            "image/png": "[encoded data removed]",
            "text/plain": [
              "<Figure size 432x288 with 1 Axes>"
            ]
          },
          "metadata": {
            "needs_background": "light"
          }
        }
      ]
    },
    {
      "cell_type": "code",
      "source": [
        "train_images[np.argwhere(train_labels==7)[:5, ...,0]].shape"
      ],
      "metadata": {
        "colab": {
          "base_uri": "https://localhost:8080/"
        },
        "id": "1mseLy3zX9Rg",
        "outputId": "0b2be522-e46a-480e-d36d-ba296ac422ee"
      },
      "execution_count": null,
      "outputs": [
        {
          "output_type": "execute_result",
          "data": {
            "text/plain": [
              "(5, 28, 28)"
            ]
          },
          "metadata": {},
          "execution_count": 55
        }
      ]
    },
    {
      "cell_type": "code",
      "source": [
        "train_images[np.argwhere(train_labels==7)[:5, ...,0]]"
      ],
      "metadata": {
        "colab": {
          "base_uri": "https://localhost:8080/"
        },
        "id": "4ZWJfga1XsES",
        "outputId": "961de9da-85a1-4104-ada5-e2033ec609cc"
      },
      "execution_count": null,
      "outputs": [
        {
          "output_type": "execute_result",
          "data": {
            "text/plain": [
              "array([[[0., 0., 0., ..., 0., 0., 0.],\n",
              "        [0., 0., 0., ..., 0., 0., 0.],\n",
              "        [0., 0., 0., ..., 0., 0., 0.],\n",
              "        ...,\n",
              "        [0., 0., 0., ..., 0., 0., 0.],\n",
              "        [0., 0., 0., ..., 0., 0., 0.],\n",
              "        [0., 0., 0., ..., 0., 0., 0.]],\n",
              "\n",
              "       [[0., 0., 0., ..., 0., 0., 0.],\n",
              "        [0., 0., 0., ..., 0., 0., 0.],\n",
              "        [0., 0., 0., ..., 0., 0., 0.],\n",
              "        ...,\n",
              "        [0., 0., 0., ..., 0., 0., 0.],\n",
              "        [0., 0., 0., ..., 0., 0., 0.],\n",
              "        [0., 0., 0., ..., 0., 0., 0.]],\n",
              "\n",
              "       [[0., 0., 0., ..., 0., 0., 0.],\n",
              "        [0., 0., 0., ..., 0., 0., 0.],\n",
              "        [0., 0., 0., ..., 0., 0., 0.],\n",
              "        ...,\n",
              "        [0., 0., 0., ..., 0., 0., 0.],\n",
              "        [0., 0., 0., ..., 0., 0., 0.],\n",
              "        [0., 0., 0., ..., 0., 0., 0.]],\n",
              "\n",
              "       [[0., 0., 0., ..., 0., 0., 0.],\n",
              "        [0., 0., 0., ..., 0., 0., 0.],\n",
              "        [0., 0., 0., ..., 0., 0., 0.],\n",
              "        ...,\n",
              "        [0., 0., 0., ..., 0., 0., 0.],\n",
              "        [0., 0., 0., ..., 0., 0., 0.],\n",
              "        [0., 0., 0., ..., 0., 0., 0.]],\n",
              "\n",
              "       [[0., 0., 0., ..., 0., 0., 0.],\n",
              "        [0., 0., 0., ..., 0., 0., 0.],\n",
              "        [0., 0., 0., ..., 0., 0., 0.],\n",
              "        ...,\n",
              "        [0., 0., 0., ..., 0., 0., 0.],\n",
              "        [0., 0., 0., ..., 0., 0., 0.],\n",
              "        [0., 0., 0., ..., 0., 0., 0.]]])"
            ]
          },
          "metadata": {},
          "execution_count": 56
        }
      ]
    },
    {
      "cell_type": "code",
      "source": [
        "plt.imshow(train_images[np.argwhere(train_labels==8)[:5, ...,0]].transpose((1, 0, 2)).reshape(28, -1))\n",
        "plt.show()"
      ],
      "metadata": {
        "colab": {
          "base_uri": "https://localhost:8080/",
          "height": 118
        },
        "id": "qQC4KFDiYHRy",
        "outputId": "d284cbaa-7339-4fc6-dee6-c719e4c73101"
      },
      "execution_count": null,
      "outputs": [
        {
          "output_type": "display_data",
          "data": {
            "image/png": "[encoded data removed]",
            "text/plain": [
              "<Figure size 432x288 with 1 Axes>"
            ]
          },
          "metadata": {
            "needs_background": "light"
          }
        }
      ]
    },
    {
      "cell_type": "code",
      "source": [
        "def filter(label, count=5):\n",
        "  imgs = train_images[np.argwhere(train_labels==label)[:count, ...,0]].transpose((1, 0, 2)).reshape(28, -1)\n",
        "  plt.imshow(imgs)\n",
        "  plt.title(idx2label(label))\n",
        "  plt.show()"
      ],
      "metadata": {
        "id": "7IY12cLuYWh5"
      },
      "execution_count": null,
      "outputs": []
    },
    {
      "cell_type": "code",
      "source": [
        "filter(1,10)"
      ],
      "metadata": {
        "colab": {
          "base_uri": "https://localhost:8080/",
          "height": 97
        },
        "id": "zIgPeKgQYf8U",
        "outputId": "ebe0f3cf-22e9-4482-c559-9eafa4d395e9"
      },
      "execution_count": null,
      "outputs": [
        {
          "output_type": "display_data",
          "data": {
            "image/png": "[encoded data removed]",
            "text/plain": [
              "<Figure size 432x288 with 1 Axes>"
            ]
          },
          "metadata": {
            "needs_background": "light"
          }
        }
      ]
    },
    {
      "cell_type": "code",
      "source": [
        "filter(3)"
      ],
      "metadata": {
        "colab": {
          "base_uri": "https://localhost:8080/",
          "height": 131
        },
        "id": "VrNRHvTFYiK-",
        "outputId": "f167dba8-2139-4526-9d56-dcd89f14745b"
      },
      "execution_count": null,
      "outputs": [
        {
          "output_type": "display_data",
          "data": {
            "image/png": "[encoded data removed]",
            "text/plain": [
              "<Figure size 432x288 with 1 Axes>"
            ]
          },
          "metadata": {
            "needs_background": "light"
          }
        }
      ]
    },
    {
      "cell_type": "markdown",
      "metadata": {
        "id": "Kz3kWteP8Kap"
      },
      "source": [
        "## Step 4. Data augmentation - 이미지 확대 및 다객체 추가 방법  \n",
        "  \n",
        "멀티 레이블 문제를 위한 데이터셋 만들기"
      ]
    },
    {
      "cell_type": "markdown",
      "metadata": {
        "id": "fesKKJqio--a"
      },
      "source": [
        "### 문제 15. 이미지 한장의 크기를 4배로 확대하고, 객체는 4분면 영역중 랜덤으로 1공간에 넣는 함수를 작성하여보세요."
      ]
    },
    {
      "cell_type": "code",
      "metadata": {
        "id": "Jsmh1keWpODx"
      },
      "source": [
        "# 이미지 한장의 크기를 4배로 확대하고, 객체는 4분면 영역중 랜덤으로 1공간에 넣는 함수를 작성하여보세요."
      ],
      "execution_count": null,
      "outputs": []
    },
    {
      "cell_type": "code",
      "source": [
        " [np.random.randint(0,4) for _ in range(100)]"
      ],
      "metadata": {
        "colab": {
          "base_uri": "https://localhost:8080/"
        },
        "id": "TZnjYykjcPAg",
        "outputId": "c91f8bec-3f94-46c5-8361-b8d8316fb0fc"
      },
      "execution_count": null,
      "outputs": [
        {
          "output_type": "execute_result",
          "data": {
            "text/plain": [
              "[3,\n",
              " 3,\n",
              " 0,\n",
              " 2,\n",
              " 0,\n",
              " 3,\n",
              " 3,\n",
              " 0,\n",
              " 0,\n",
              " 1,\n",
              " 1,\n",
              " 1,\n",
              " 2,\n",
              " 0,\n",
              " 2,\n",
              " 2,\n",
              " 0,\n",
              " 1,\n",
              " 0,\n",
              " 0,\n",
              " 1,\n",
              " 3,\n",
              " 1,\n",
              " 3,\n",
              " 1,\n",
              " 3,\n",
              " 3,\n",
              " 2,\n",
              " 1,\n",
              " 3,\n",
              " 3,\n",
              " 1,\n",
              " 3,\n",
              " 1,\n",
              " 3,\n",
              " 0,\n",
              " 3,\n",
              " 3,\n",
              " 2,\n",
              " 1,\n",
              " 1,\n",
              " 0,\n",
              " 3,\n",
              " 0,\n",
              " 2,\n",
              " 3,\n",
              " 1,\n",
              " 0,\n",
              " 1,\n",
              " 1,\n",
              " 0,\n",
              " 3,\n",
              " 1,\n",
              " 1,\n",
              " 3,\n",
              " 1,\n",
              " 1,\n",
              " 3,\n",
              " 3,\n",
              " 3,\n",
              " 1,\n",
              " 0,\n",
              " 1,\n",
              " 2,\n",
              " 1,\n",
              " 1,\n",
              " 1,\n",
              " 3,\n",
              " 3,\n",
              " 0,\n",
              " 3,\n",
              " 2,\n",
              " 0,\n",
              " 2,\n",
              " 3,\n",
              " 1,\n",
              " 0,\n",
              " 3,\n",
              " 0,\n",
              " 1,\n",
              " 1,\n",
              " 0,\n",
              " 1,\n",
              " 1,\n",
              " 3,\n",
              " 1,\n",
              " 0,\n",
              " 2,\n",
              " 3,\n",
              " 1,\n",
              " 1,\n",
              " 1,\n",
              " 3,\n",
              " 3,\n",
              " 3,\n",
              " 2,\n",
              " 0,\n",
              " 0,\n",
              " 3,\n",
              " 1]"
            ]
          },
          "metadata": {},
          "execution_count": 62
        }
      ]
    },
    {
      "cell_type": "code",
      "source": [
        "def expand_4times(img):\n",
        "  \"\"\"\n",
        "  4배로 커진 이미지 영역의 4분면 중 임의의 한 분면에 img를 삽입\n",
        "  \"\"\"\n",
        "  bg = np.zeros(img.shape) # background\n",
        "  idx = np.random.randint(0,4)\n",
        "\n",
        "  slots = [bg, bg, bg, bg]\n",
        "  slots[idx] = img\n",
        "  expanded = np.vstack([\n",
        "                        np.hstack(slots[:2]),\n",
        "                        np.hstack(slots[2:])\n",
        "  ])\n",
        "  return expanded"
      ],
      "metadata": {
        "id": "pnhGEUSzZA_d"
      },
      "execution_count": null,
      "outputs": []
    },
    {
      "cell_type": "code",
      "source": [
        "plt.imshow(np.zeros((28, 28)))\n",
        "plt.colorbar()"
      ],
      "metadata": {
        "colab": {
          "base_uri": "https://localhost:8080/",
          "height": 287
        },
        "id": "yufviOY6ety_",
        "outputId": "d01d6544-b682-4212-b953-b8d4d5de2f45"
      },
      "execution_count": null,
      "outputs": [
        {
          "output_type": "execute_result",
          "data": {
            "text/plain": [
              "<matplotlib.colorbar.Colorbar at 0x7f07c7bb8910>"
            ]
          },
          "metadata": {},
          "execution_count": 64
        },
        {
          "output_type": "display_data",
          "data": {
            "image/png": "[encoded data removed]",
            "text/plain": [
              "<Figure size 432x288 with 2 Axes>"
            ]
          },
          "metadata": {
            "needs_background": "light"
          }
        }
      ]
    },
    {
      "cell_type": "code",
      "source": [
        "bg = np.zeros((28, 28))\n",
        "slots = [bg,bg,bg,bg]\n",
        "expanded = np.vstack([\n",
        "                        np.hstack(slots[:2]),\n",
        "                        np.hstack(slots[2:])\n",
        "  ])\n",
        "plt.imshow(expanded)\n",
        "plt.colorbar()\n",
        "plt.show()"
      ],
      "metadata": {
        "colab": {
          "base_uri": "https://localhost:8080/",
          "height": 269
        },
        "id": "_td49oCGew85",
        "outputId": "99ff86f1-f42d-48f9-ce12-6738ac4eac89"
      },
      "execution_count": null,
      "outputs": [
        {
          "output_type": "display_data",
          "data": {
            "image/png": "[encoded data removed]",
            "text/plain": [
              "<Figure size 432x288 with 2 Axes>"
            ]
          },
          "metadata": {
            "needs_background": "light"
          }
        }
      ]
    },
    {
      "cell_type": "code",
      "source": [
        "plt.imshow(train_images[1])\n",
        "plt.colorbar()\n",
        "plt.show()"
      ],
      "metadata": {
        "colab": {
          "base_uri": "https://localhost:8080/",
          "height": 269
        },
        "id": "jFs-DmBtePkv",
        "outputId": "f76a36dc-ed9a-4b36-dae0-ddbdea5d3715"
      },
      "execution_count": null,
      "outputs": [
        {
          "output_type": "display_data",
          "data": {
            "image/png": "[encoded data removed]",
            "text/plain": [
              "<Figure size 432x288 with 2 Axes>"
            ]
          },
          "metadata": {
            "needs_background": "light"
          }
        }
      ]
    },
    {
      "cell_type": "code",
      "source": [
        "plt.imshow(expand_4times(train_images[1]))\n",
        "plt.colorbar()\n",
        "plt.show()"
      ],
      "metadata": {
        "colab": {
          "base_uri": "https://localhost:8080/",
          "height": 269
        },
        "id": "IQfXzeIyc3Qb",
        "outputId": "326c73e8-cb5f-4a52-a9af-5154b3466495"
      },
      "execution_count": null,
      "outputs": [
        {
          "output_type": "display_data",
          "data": {
            "image/png": "[encoded data removed]",
            "text/plain": [
              "<Figure size 432x288 with 2 Axes>"
            ]
          },
          "metadata": {
            "needs_background": "light"
          }
        }
      ]
    },
    {
      "cell_type": "markdown",
      "metadata": {
        "id": "LW3qolQPtpCA"
      },
      "source": [
        "### 문제 16. 4배 이미지 변환을 전체 train/test 데이터에 실행하여 train_expand_images, test_expand_images를 생성하세요."
      ]
    },
    {
      "cell_type": "code",
      "metadata": {
        "id": "lUNMTYsTt4RX"
      },
      "source": [
        "# 4배 이미지 변환을 전체 train/test 데이터에 실행하여 train_expand_images, test_expand_images를 생성하세요."
      ],
      "execution_count": null,
      "outputs": []
    },
    {
      "cell_type": "code",
      "source": [
        "train_expand_images = np.array([expand_4times(img) for img in train_images])\n",
        "test_expand_images = np.array([expand_4times(img) for img in test_images])"
      ],
      "metadata": {
        "id": "rv6rZ5h-ZBQh"
      },
      "execution_count": null,
      "outputs": []
    },
    {
      "cell_type": "code",
      "source": [
        "print(train_expand_images.shape, test_expand_images.shape)\n",
        "\n",
        "print(train_expand_images.dtype, test_expand_images.dtype)\n",
        "\n",
        "print(train_expand_images.min(), train_expand_images.max())\n",
        "print(test_expand_images.min(), test_expand_images.max())"
      ],
      "metadata": {
        "colab": {
          "base_uri": "https://localhost:8080/"
        },
        "id": "GfZCt6PdjbFe",
        "outputId": "709024f9-496a-480b-92dd-89047215ddd0"
      },
      "execution_count": null,
      "outputs": [
        {
          "output_type": "stream",
          "name": "stdout",
          "text": [
            "(60000, 56, 56) (10000, 56, 56)\n",
            "float64 float64\n",
            "0.0 1.0\n",
            "0.0 1.0\n"
          ]
        }
      ]
    },
    {
      "cell_type": "markdown",
      "metadata": {
        "id": "_1NMpB6LqIB5"
      },
      "source": [
        "### 문제 17. 4배 이미지 변환 함수를 수정하여 이미지 사이즈를 4배 확대 시킨 뒤, 객체를 랜덤으로 0~4개, 랜덤 4분면에 위치시키는 함수를 작성하세요."
      ]
    },
    {
      "cell_type": "code",
      "metadata": {
        "id": "U9-NlbEhqhCx"
      },
      "source": [
        "# 4배 이미지 변환 함수를 수정하여 이미지 사이즈를 4배 확대 시킨 뒤, 객체를 랜덤으로 1~4개, 랜덤 4분면에 위치시키는 함수를 작성하세요."
      ],
      "execution_count": null,
      "outputs": []
    },
    {
      "cell_type": "code",
      "source": [
        "def expand_4times2(x_data, y_data):\n",
        "  images = []\n",
        "  labels = []\n",
        "\n",
        "  for _ in range(4):\n",
        "    bg = np.zeros((28, 28)) # background\n",
        "    obj_count = np.random.randint(0,5) \n",
        "    label = np.zeros((10,)) # [0,0,0,0,0, ...]\n",
        "    slots = [bg, bg, bg, bg]\n",
        "\n",
        "    for idx in range(obj_count):\n",
        "      i = np.random.randint(len(x_data))\n",
        "      slots[idx] = x_data[i]\n",
        "      label += tf.keras.utils.to_categorical(y_data[i], 10)\n",
        "\n",
        "    np.random.shuffle(slots)\n",
        "\n",
        "  new_img = np.vstack([\n",
        "                      np.hstack(slots[:2]),\n",
        "                      np.hstack(slots[2:])\n",
        "  ])\n",
        "  images.append(new_img)\n",
        "  labels.append((label >= 1).astype(np.int)) # boolean -> int\n",
        "\n",
        "  return np.array(images), np.array(labels)"
      ],
      "metadata": {
        "id": "weksGAUuZBl8"
      },
      "execution_count": null,
      "outputs": []
    },
    {
      "cell_type": "code",
      "source": [
        "expand_4times2(train_images, train_labels)[0][0].shape"
      ],
      "metadata": {
        "colab": {
          "base_uri": "https://localhost:8080/"
        },
        "id": "gQs382MmpEDT",
        "outputId": "90a80954-b4a4-4c29-d2d7-55f837b79b97"
      },
      "execution_count": null,
      "outputs": [
        {
          "output_type": "execute_result",
          "data": {
            "text/plain": [
              "(56, 56)"
            ]
          },
          "metadata": {},
          "execution_count": 90
        }
      ]
    },
    {
      "cell_type": "code",
      "source": [
        "plt.imshow(expand_4times2(train_images, train_labels)[0][0])\n",
        "plt.show()  "
      ],
      "metadata": {
        "colab": {
          "base_uri": "https://localhost:8080/",
          "height": 267
        },
        "id": "njOWQCBopz1K",
        "outputId": "cbd45774-b0a2-40fb-f0d1-64d1ed42fa2e"
      },
      "execution_count": null,
      "outputs": [
        {
          "output_type": "display_data",
          "data": {
            "image/png": "[encoded data removed]",
            "text/plain": [
              "<Figure size 432x288 with 1 Axes>"
            ]
          },
          "metadata": {
            "needs_background": "light"
          }
        }
      ]
    },
    {
      "cell_type": "code",
      "source": [
        "expand_4times2(train_images, train_labels)[1] # 레이블"
      ],
      "metadata": {
        "colab": {
          "base_uri": "https://localhost:8080/"
        },
        "id": "tguLFAaRqE6W",
        "outputId": "dab2bd5d-ae9e-4f18-dc17-e3dbef94bad2"
      },
      "execution_count": null,
      "outputs": [
        {
          "output_type": "execute_result",
          "data": {
            "text/plain": [
              "array([[0, 1, 0, 0, 0, 0, 0, 0, 1, 0]])"
            ]
          },
          "metadata": {},
          "execution_count": 97
        }
      ]
    },
    {
      "cell_type": "markdown",
      "metadata": {
        "id": "JLSYLZr0qvGI"
      },
      "source": [
        "### 문제 18. 4배 이미지 변환을 전체 train/test 데이터에 실행하여 train_multi_images, test_multi_images, train_multi_labels, train_multi_labels를 생성하세요."
      ]
    },
    {
      "cell_type": "code",
      "metadata": {
        "id": "EsgmHRFSrDX4"
      },
      "source": [
        "# 4배 이미지 변환을 전체 train/test 데이터에 실행하여 train_multi_images, test_multi_images, train_multi_labels, train_multi_labels를 생성하세요."
      ],
      "execution_count": null,
      "outputs": []
    },
    {
      "cell_type": "code",
      "source": [
        "train_multi_images, train_multi_labels = list(zip(*[expand_4times2(train_images, train_labels) for i in train_images]))\n",
        "test_multi_images, test_multi_labels = list(zip(*[expand_4times2(test_images, test_labels) for i in test_images]))"
      ],
      "metadata": {
        "id": "nPbFex3lZB8Y"
      },
      "execution_count": null,
      "outputs": []
    },
    {
      "cell_type": "code",
      "source": [
        "np.array(train_multi_images).shape"
      ],
      "metadata": {
        "colab": {
          "base_uri": "https://localhost:8080/"
        },
        "id": "WQ6KSU6QZCNS",
        "outputId": "b0b5009c-ffcc-4c26-912e-201748b62b47"
      },
      "execution_count": null,
      "outputs": [
        {
          "output_type": "execute_result",
          "data": {
            "text/plain": [
              "(60000, 1, 56, 56)"
            ]
          },
          "metadata": {},
          "execution_count": 99
        }
      ]
    },
    {
      "cell_type": "code",
      "source": [
        "np.array(train_multi_images)[:,0,:,:].shape"
      ],
      "metadata": {
        "colab": {
          "base_uri": "https://localhost:8080/"
        },
        "id": "JtSuG7E1rEhY",
        "outputId": "40166cc1-bc99-460b-fa38-987b1d6052f6"
      },
      "execution_count": null,
      "outputs": [
        {
          "output_type": "execute_result",
          "data": {
            "text/plain": [
              "(60000, 56, 56)"
            ]
          },
          "metadata": {},
          "execution_count": 101
        }
      ]
    },
    {
      "cell_type": "code",
      "source": [
        "np.array(train_multi_images)[:,0,:,:].reshape(-1, 56, 56, 1).shape # 마지막에 1을 붙여주기"
      ],
      "metadata": {
        "colab": {
          "base_uri": "https://localhost:8080/"
        },
        "id": "jvA_D9C9reXo",
        "outputId": "8e5b3abb-4d6c-4f85-e4fe-081bd43df68d"
      },
      "execution_count": null,
      "outputs": [
        {
          "output_type": "execute_result",
          "data": {
            "text/plain": [
              "(60000, 56, 56, 1)"
            ]
          },
          "metadata": {},
          "execution_count": 102
        }
      ]
    },
    {
      "cell_type": "code",
      "source": [
        "np.array(train_multi_labels).shape"
      ],
      "metadata": {
        "colab": {
          "base_uri": "https://localhost:8080/"
        },
        "id": "B9gq-cKFrmpr",
        "outputId": "053e3799-a4d5-4125-eb7a-985c0c0394b2"
      },
      "execution_count": null,
      "outputs": [
        {
          "output_type": "execute_result",
          "data": {
            "text/plain": [
              "(60000, 1, 10)"
            ]
          },
          "metadata": {},
          "execution_count": 103
        }
      ]
    },
    {
      "cell_type": "code",
      "source": [
        "np.array(train_multi_labels)[:,0,:].shape"
      ],
      "metadata": {
        "colab": {
          "base_uri": "https://localhost:8080/"
        },
        "id": "SaXlUNiNrsOk",
        "outputId": "c1b96fec-8533-4959-fea8-cecbc30f937d"
      },
      "execution_count": null,
      "outputs": [
        {
          "output_type": "execute_result",
          "data": {
            "text/plain": [
              "(60000, 10)"
            ]
          },
          "metadata": {},
          "execution_count": 105
        }
      ]
    },
    {
      "cell_type": "code",
      "source": [
        "train_multi_images = np.array(train_multi_images)[:,0,:,:].reshape(-1, 56, 56, 1)\n",
        "train_multi_labels = np.array(train_multi_labels)[:,0,:]\n",
        "\n",
        "test_multi_images = np.array(test_multi_images)[:,0,:,:].reshape(-1, 56, 56, 1)\n",
        "test_multi_labels = np.array(test_multi_labels)[:,0,:]"
      ],
      "metadata": {
        "id": "exRBaF-CrvxO"
      },
      "execution_count": null,
      "outputs": []
    },
    {
      "cell_type": "code",
      "source": [
        "print(train_multi_images.shape, train_multi_labels.shape)\n",
        "print(test_multi_images.shape, test_multi_labels.shape)"
      ],
      "metadata": {
        "colab": {
          "base_uri": "https://localhost:8080/"
        },
        "id": "gLbir8v-r8rL",
        "outputId": "cee1c414-1f14-49f0-abf8-1deafa9c8560"
      },
      "execution_count": null,
      "outputs": [
        {
          "output_type": "stream",
          "name": "stdout",
          "text": [
            "(60000, 56, 56, 1) (60000, 10)\n",
            "(10000, 56, 56, 1) (10000, 10)\n"
          ]
        }
      ]
    },
    {
      "cell_type": "code",
      "source": [
        "# 개수에 따라 연속된 그림을 보여주는 함수를 작성해보세요"
      ],
      "metadata": {
        "id": "97G-pUDcsHnn"
      },
      "execution_count": null,
      "outputs": []
    },
    {
      "cell_type": "code",
      "source": [
        "labels = train_multi_labels.sum(axis=1)\n",
        "print(np.argwhere(labels == 2)[:5].shape) # 뒤에 있는 의미없는 1을 삭제해주기\n",
        "print(np.argwhere(labels == 2)[:5,0].shape)"
      ],
      "metadata": {
        "colab": {
          "base_uri": "https://localhost:8080/"
        },
        "id": "9Rpidtf5s61E",
        "outputId": "729ba2f7-3d98-4bbb-b089-8fea6f50f32e"
      },
      "execution_count": null,
      "outputs": [
        {
          "output_type": "stream",
          "name": "stdout",
          "text": [
            "(5, 1)\n",
            "(5,)\n"
          ]
        }
      ]
    },
    {
      "cell_type": "code",
      "source": [
        "labels = train_multi_labels.sum(axis=1)\n",
        "ids = np.argwhere(labels == 2)[:5, 0]\n",
        "print(train_multi_images[ids].shape)\n",
        "print(train_multi_images[ids][...,0].shape)"
      ],
      "metadata": {
        "colab": {
          "base_uri": "https://localhost:8080/"
        },
        "id": "Uxky33Fbtb7Z",
        "outputId": "a3f76dfb-054d-4581-e4d7-d36eb15ced4f"
      },
      "execution_count": null,
      "outputs": [
        {
          "output_type": "stream",
          "name": "stdout",
          "text": [
            "(5, 56, 56, 1)\n",
            "(5, 56, 56)\n"
          ]
        }
      ]
    },
    {
      "cell_type": "code",
      "source": [
        "def filter2(obj_count, count=5):\n",
        "  labels = train_multi_labels.sum(axis=1)\n",
        "  ids = np.argwhere(labels == obj_count)[:count, 0]\n",
        "  imgs = train_multi_images[ids][...,0].transpose((1,0,2)).reshape((56,-1))\n",
        "\n",
        "  plt.imshow(imgs)\n",
        "  plt.show()"
      ],
      "metadata": {
        "id": "yav2ZrzxsIBG"
      },
      "execution_count": null,
      "outputs": []
    },
    {
      "cell_type": "code",
      "source": [
        "filter2(4, 3) # 4개짜리 사진 3개"
      ],
      "metadata": {
        "colab": {
          "base_uri": "https://localhost:8080/",
          "height": 163
        },
        "id": "IIBU_TLMt9iY",
        "outputId": "da480d51-0092-4a0d-f4e4-8b8362c7fc08"
      },
      "execution_count": null,
      "outputs": [
        {
          "output_type": "display_data",
          "data": {
            "image/png": "[encoded data removed]",
            "text/plain": [
              "<Figure size 432x288 with 1 Axes>"
            ]
          },
          "metadata": {
            "needs_background": "light"
          }
        }
      ]
    },
    {
      "cell_type": "markdown",
      "metadata": {
        "id": "nWy8FKR1AYJU"
      },
      "source": [
        "### 문제 19. multi labels와 train_labels의 값의 형태를 비교해보세요."
      ]
    },
    {
      "cell_type": "code",
      "metadata": {
        "id": "ENpSWYu_stHp"
      },
      "source": [
        "# multi labels와 train_labels의 값의 형태를 비교해보세요."
      ],
      "execution_count": null,
      "outputs": []
    },
    {
      "cell_type": "code",
      "source": [
        "train_labels[0]"
      ],
      "metadata": {
        "colab": {
          "base_uri": "https://localhost:8080/"
        },
        "id": "kpz4gUY7ZCkP",
        "outputId": "2c9358bd-5079-48dc-b0b1-1e4a72b3d0b8"
      },
      "execution_count": null,
      "outputs": [
        {
          "output_type": "execute_result",
          "data": {
            "text/plain": [
              "9"
            ]
          },
          "metadata": {},
          "execution_count": 121
        }
      ]
    },
    {
      "cell_type": "code",
      "source": [
        "tf.keras.utils.to_categorical(train_labels[0], 10)"
      ],
      "metadata": {
        "colab": {
          "base_uri": "https://localhost:8080/"
        },
        "id": "nY0AOi4SuW0C",
        "outputId": "9bc39b69-8713-42b3-f2b4-4984eab8db6e"
      },
      "execution_count": null,
      "outputs": [
        {
          "output_type": "execute_result",
          "data": {
            "text/plain": [
              "array([0., 0., 0., 0., 0., 0., 0., 0., 0., 1.], dtype=float32)"
            ]
          },
          "metadata": {},
          "execution_count": 122
        }
      ]
    },
    {
      "cell_type": "code",
      "source": [
        "# multi label 문제의 label은 0개 또는 여러 개일 수 있음\n",
        "print(train_multi_labels[0])\n",
        "print(train_multi_labels[1])\n",
        "print(train_multi_labels[2])"
      ],
      "metadata": {
        "colab": {
          "base_uri": "https://localhost:8080/"
        },
        "id": "jrrAqfnkucSF",
        "outputId": "b814a8cb-42f2-4b90-e131-a3cf4f459d09"
      },
      "execution_count": null,
      "outputs": [
        {
          "output_type": "stream",
          "name": "stdout",
          "text": [
            "[0 0 0 0 1 0 0 0 1 1]\n",
            "[0 0 0 0 1 1 1 0 0 1]\n",
            "[0 0 0 0 0 0 0 0 0 0]\n"
          ]
        }
      ]
    },
    {
      "cell_type": "markdown",
      "metadata": {
        "id": "_QLtKR5LafGc"
      },
      "source": [
        "### 문제 20. train_labels에서 label들의 분포를 구해보세요."
      ]
    },
    {
      "cell_type": "code",
      "metadata": {
        "id": "1EFMt2SKafGc"
      },
      "source": [
        "# 문제 20. train_labels에서 label들의 분포를 히스토그램으로 구해보세요."
      ],
      "execution_count": null,
      "outputs": []
    },
    {
      "cell_type": "code",
      "source": [
        "plt.bar(np.arange(10), tf.keras.utils.to_categorical(train_labels).sum(axis=0))\n",
        "plt.show()"
      ],
      "metadata": {
        "colab": {
          "base_uri": "https://localhost:8080/",
          "height": 265
        },
        "id": "udWIaDTyZC6K",
        "outputId": "e08441c5-df3a-4728-8347-f54ca0d3cc46"
      },
      "execution_count": null,
      "outputs": [
        {
          "output_type": "display_data",
          "data": {
            "image/png": "[encoded data removed]",
            "text/plain": [
              "<Figure size 432x288 with 1 Axes>"
            ]
          },
          "metadata": {
            "needs_background": "light"
          }
        }
      ]
    },
    {
      "cell_type": "markdown",
      "metadata": {
        "id": "fTvy4VmfYFM5"
      },
      "source": [
        "### 문제 21. multi labels에서 label들의 분포와  multi images에서 평균 사진 개수 분포를 구하세요."
      ]
    },
    {
      "cell_type": "code",
      "metadata": {
        "id": "IFzHUcyBB84T"
      },
      "source": [
        "# 문제 21. multi labels에서 label들의 분포를 히스토그램으로 구해보세요."
      ],
      "execution_count": null,
      "outputs": []
    },
    {
      "cell_type": "code",
      "source": [
        "plt.bar(np.arange(10), train_multi_labels.sum(axis=0))\n",
        "plt.show()"
      ],
      "metadata": {
        "colab": {
          "base_uri": "https://localhost:8080/",
          "height": 265
        },
        "id": "n2eJ0IAcZDPP",
        "outputId": "e574664c-5f07-4c78-dfba-c35036351d6d"
      },
      "execution_count": null,
      "outputs": [
        {
          "output_type": "display_data",
          "data": {
            "image/png": "[encoded data removed]",
            "text/plain": [
              "<Figure size 432x288 with 1 Axes>"
            ]
          },
          "metadata": {
            "needs_background": "light"
          }
        }
      ]
    },
    {
      "cell_type": "code",
      "metadata": {
        "id": "rqYMbI6jyPkn"
      },
      "source": [
        "# 문제 22. multi images에서 평균 사진 개수 분포를 구하세요"
      ],
      "execution_count": null,
      "outputs": []
    },
    {
      "cell_type": "code",
      "source": [
        "plt.hist(train_multi_labels.sum(axis=1))"
      ],
      "metadata": {
        "colab": {
          "base_uri": "https://localhost:8080/",
          "height": 336
        },
        "id": "d44pP0f_ZDjj",
        "outputId": "c09daecc-0a92-49bb-9fd1-355db78a5087"
      },
      "execution_count": null,
      "outputs": [
        {
          "output_type": "execute_result",
          "data": {
            "text/plain": [
              "(array([12131.,     0., 13328.,     0.,     0., 14744.,     0., 13696.,\n",
              "            0.,  6101.]),\n",
              " array([0. , 0.4, 0.8, 1.2, 1.6, 2. , 2.4, 2.8, 3.2, 3.6, 4. ]),\n",
              " <a list of 10 Patch objects>)"
            ]
          },
          "metadata": {},
          "execution_count": 140
        },
        {
          "output_type": "display_data",
          "data": {
            "image/png": "[encoded data removed]",
            "text/plain": [
              "<Figure size 432x288 with 1 Axes>"
            ]
          },
          "metadata": {
            "needs_background": "light"
          }
        }
      ]
    },
    {
      "cell_type": "markdown",
      "metadata": {
        "id": "z67dTPu0xJSu"
      },
      "source": [
        "## Step 5. 모델링"
      ]
    },
    {
      "cell_type": "markdown",
      "source": [
        "전이학습 이용.  \n",
        "멀티 클래스 문제를 먼저 학습 시킨 모델을 멀티 레이블 문제를 추가로 학습할 예정"
      ],
      "metadata": {
        "id": "xSmrfTwmwpK0"
      }
    },
    {
      "cell_type": "markdown",
      "metadata": {
        "id": "20iJHg2gXrC2"
      },
      "source": [
        "### 문제 22. train_expand_images, train_labels로 초벌 모델을 생성해보세요."
      ]
    },
    {
      "cell_type": "code",
      "metadata": {
        "id": "1Q1XtFoxX0eN"
      },
      "source": [
        "# train_expand_images, train_labels로 싱글 label을 처리하는 image classification 초벌 모델을 생성해보세요."
      ],
      "execution_count": null,
      "outputs": []
    },
    {
      "cell_type": "code",
      "source": [
        "# 멀티 클래스 문제\n",
        "from keras.layers import Input, Conv2D, MaxPool2D, Dropout, Dense, Flatten, GlobalAvgPool2D\n",
        "from keras.models import Model"
      ],
      "metadata": {
        "id": "9bL6n8e8wSSS"
      },
      "execution_count": null,
      "outputs": []
    },
    {
      "cell_type": "code",
      "source": [
        "def single_fashion_mnist_model():\n",
        "  inputs = Input((56, 56, 1))\n",
        "  x = Conv2D(16, 2, 1, padding='same', activation='relu')(inputs)\n",
        "  x = MaxPool2D(2)(x)\n",
        "  x = Dropout(0.3)(x)\n",
        "\n",
        "  x = Conv2D(32, 2, 1, padding='same', activation='relu')(x)\n",
        "  x = MaxPool2D(2)(x)\n",
        "  x = Dropout(0.3)(x)\n",
        "  \n",
        "  x = Conv2D(64, 2, 1, padding='same', activation='relu')(x)\n",
        "  x = MaxPool2D(2)(x)\n",
        "  # 마지막 단계는 dropout 빼는게 좋음\n",
        "  x = Flatten()(x)\n",
        "  x = Dense(10, activation='softmax')(x)\n",
        "  return Model(inputs, x)"
      ],
      "metadata": {
        "id": "VdlhkDhrxIBJ"
      },
      "execution_count": null,
      "outputs": []
    },
    {
      "cell_type": "code",
      "source": [
        "from keras.layers.pooling import GlobalAvgPool2D\n",
        "def single_fashion_mnist_model2():\n",
        "  inputs = Input((56, 56, 1))\n",
        "  x = Conv2D(16, 2, 1, padding='same', activation='relu')(inputs)\n",
        "  x = MaxPool2D(2)(x)\n",
        "  x = Dropout(0.3)(x)\n",
        "\n",
        "  x = Conv2D(32, 2, 1, padding='same', activation='relu')(x)\n",
        "  x = MaxPool2D(2)(x)\n",
        "  x = Dropout(0.3)(x)\n",
        "  \n",
        "  x = Conv2D(64, 2, 1, padding='same', activation='relu')(x)\n",
        "  x = MaxPool2D(2)(x)\n",
        "  x = GlobalAvgPool2D()(x) # 요즘은 Flatten보다 GlobalAvgPooling을 많이 쓰는 추세. 필터 갯수만큼 평균값으로 줄여줌. 파라미터 양을 많이 줄일 수 있음\n",
        "  x = Dense(10, activation='softmax')(x)\n",
        "  return Model(inputs, x)"
      ],
      "metadata": {
        "id": "9SimqX1PyV-b"
      },
      "execution_count": null,
      "outputs": []
    },
    {
      "cell_type": "markdown",
      "metadata": {
        "id": "zeALYpCGjHlJ"
      },
      "source": [
        "### 문제 23. 모델을 할당 받고 서머리를 출력해보세요."
      ]
    },
    {
      "cell_type": "code",
      "metadata": {
        "id": "Tc4Xiq7IjVaI"
      },
      "source": [
        "# single_fashin_mnist_model() 모델을 할당 받고 서머리를 출력하는 코드를 작성하세요."
      ],
      "execution_count": null,
      "outputs": []
    },
    {
      "cell_type": "code",
      "source": [
        "model = single_fashion_mnist_model()\n",
        "model.summary()"
      ],
      "metadata": {
        "colab": {
          "base_uri": "https://localhost:8080/"
        },
        "id": "T4VM7OtnwSli",
        "outputId": "2d6b04c0-7d90-4244-e09e-af7ec99f4057"
      },
      "execution_count": null,
      "outputs": [
        {
          "output_type": "stream",
          "name": "stdout",
          "text": [
            "Model: \"model_1\"\n",
            "_________________________________________________________________\n",
            " Layer (type)                Output Shape              Param #   \n",
            "=================================================================\n",
            " input_2 (InputLayer)        [(None, 56, 56, 1)]       0         \n",
            "                                                                 \n",
            " conv2d_3 (Conv2D)           (None, 56, 56, 16)        80        \n",
            "                                                                 \n",
            " max_pooling2d_3 (MaxPooling  (None, 28, 28, 16)       0         \n",
            " 2D)                                                             \n",
            "                                                                 \n",
            " dropout_2 (Dropout)         (None, 28, 28, 16)        0         \n",
            "                                                                 \n",
            " conv2d_4 (Conv2D)           (None, 28, 28, 32)        2080      \n",
            "                                                                 \n",
            " max_pooling2d_4 (MaxPooling  (None, 14, 14, 32)       0         \n",
            " 2D)                                                             \n",
            "                                                                 \n",
            " dropout_3 (Dropout)         (None, 14, 14, 32)        0         \n",
            "                                                                 \n",
            " conv2d_5 (Conv2D)           (None, 14, 14, 64)        8256      \n",
            "                                                                 \n",
            " max_pooling2d_5 (MaxPooling  (None, 7, 7, 64)         0         \n",
            " 2D)                                                             \n",
            "                                                                 \n",
            " flatten_1 (Flatten)         (None, 3136)              0         \n",
            "                                                                 \n",
            " dense_1 (Dense)             (None, 10)                31370     \n",
            "                                                                 \n",
            "=================================================================\n",
            "Total params: 41,786\n",
            "Trainable params: 41,786\n",
            "Non-trainable params: 0\n",
            "_________________________________________________________________\n"
          ]
        }
      ]
    },
    {
      "cell_type": "code",
      "source": [
        "model = single_fashion_mnist_model2()\n",
        "model.summary()"
      ],
      "metadata": {
        "colab": {
          "base_uri": "https://localhost:8080/"
        },
        "id": "qPnk-ad5yj0v",
        "outputId": "364e9837-882d-4b3b-fa88-876e646388a7"
      },
      "execution_count": null,
      "outputs": [
        {
          "output_type": "stream",
          "name": "stdout",
          "text": [
            "Model: \"model_2\"\n",
            "_________________________________________________________________\n",
            " Layer (type)                Output Shape              Param #   \n",
            "=================================================================\n",
            " input_3 (InputLayer)        [(None, 56, 56, 1)]       0         \n",
            "                                                                 \n",
            " conv2d_6 (Conv2D)           (None, 56, 56, 16)        80        \n",
            "                                                                 \n",
            " max_pooling2d_6 (MaxPooling  (None, 28, 28, 16)       0         \n",
            " 2D)                                                             \n",
            "                                                                 \n",
            " dropout_4 (Dropout)         (None, 28, 28, 16)        0         \n",
            "                                                                 \n",
            " conv2d_7 (Conv2D)           (None, 28, 28, 32)        2080      \n",
            "                                                                 \n",
            " max_pooling2d_7 (MaxPooling  (None, 14, 14, 32)       0         \n",
            " 2D)                                                             \n",
            "                                                                 \n",
            " dropout_5 (Dropout)         (None, 14, 14, 32)        0         \n",
            "                                                                 \n",
            " conv2d_8 (Conv2D)           (None, 14, 14, 64)        8256      \n",
            "                                                                 \n",
            " max_pooling2d_8 (MaxPooling  (None, 7, 7, 64)         0         \n",
            " 2D)                                                             \n",
            "                                                                 \n",
            " global_average_pooling2d (G  (None, 64)               0         \n",
            " lobalAveragePooling2D)                                          \n",
            "                                                                 \n",
            " dense_2 (Dense)             (None, 10)                650       \n",
            "                                                                 \n",
            "=================================================================\n",
            "Total params: 11,066\n",
            "Trainable params: 11,066\n",
            "Non-trainable params: 0\n",
            "_________________________________________________________________\n"
          ]
        }
      ]
    },
    {
      "cell_type": "markdown",
      "metadata": {
        "id": "PkOrDR1yam4a"
      },
      "source": [
        "### 문제 24. 만든 모델에 로스와 옵티마이저, 메트릭을 설정하세요."
      ]
    },
    {
      "cell_type": "code",
      "metadata": {
        "id": "nufi0CMyazsF"
      },
      "source": [
        "# 만든 모델에 loss는 categorical_crossentropy, optimizer는 adam 매트릭은 accuracy으로 설정하는 코드를 작성하세요."
      ],
      "execution_count": null,
      "outputs": []
    },
    {
      "cell_type": "code",
      "source": [
        "model.compile(loss='categorical_crossentropy', optimizer='adam', metrics=['accuracy']) # multi class는 categorical crossentropy, softmax"
      ],
      "metadata": {
        "id": "HSwwdoLEwS22"
      },
      "execution_count": null,
      "outputs": []
    },
    {
      "cell_type": "markdown",
      "metadata": {
        "id": "IZRqZC50ZoaE"
      },
      "source": [
        "### 문제 25. 만든 모델에 train_expand_images를 학습시켜 보세요."
      ]
    },
    {
      "cell_type": "code",
      "metadata": {
        "id": "PtpJp3fmaRuA"
      },
      "source": [
        "# train_expand_images, train_labels을 학습시키고 15 epochs을 돌리고 그 진행 사항을 hist에 저장하는 코드를 작성하세요."
      ],
      "execution_count": null,
      "outputs": []
    },
    {
      "cell_type": "code",
      "source": [
        "train_expand_images.shape # 뒤에 1 붙여줘야 함"
      ],
      "metadata": {
        "colab": {
          "base_uri": "https://localhost:8080/"
        },
        "id": "WJWU1zXKzaIO",
        "outputId": "d81809f8-d85d-4974-9908-00fdb097355c"
      },
      "execution_count": null,
      "outputs": [
        {
          "output_type": "execute_result",
          "data": {
            "text/plain": [
              "(60000, 56, 56)"
            ]
          },
          "metadata": {},
          "execution_count": 150
        }
      ]
    },
    {
      "cell_type": "code",
      "source": [
        "hist = model.fit(train_expand_images.reshape((-1, 56, 56, 1)), \n",
        "                 tf.keras.utils.to_categorical(train_labels, 10),\n",
        "                 validation_data=(test_expand_images.reshape((-1, 56, 56, 1)), \n",
        "                                  tf.keras.utils.to_categorical(test_labels, 10)), \n",
        "                 epochs=15,\n",
        "                 verbose=1)"
      ],
      "metadata": {
        "colab": {
          "base_uri": "https://localhost:8080/"
        },
        "id": "mcuF2COlwTbW",
        "outputId": "052ae595-c626-4b61-c597-e8f187b8d103"
      },
      "execution_count": null,
      "outputs": [
        {
          "output_type": "stream",
          "name": "stdout",
          "text": [
            "Epoch 1/15\n",
            "1875/1875 [==============================] - 28s 10ms/step - loss: 1.4314 - accuracy: 0.4773 - val_loss: 1.1030 - val_accuracy: 0.5876\n",
            "Epoch 2/15\n",
            "1875/1875 [==============================] - 18s 10ms/step - loss: 1.0030 - accuracy: 0.6444 - val_loss: 0.8827 - val_accuracy: 0.6810\n",
            "Epoch 3/15\n",
            "1875/1875 [==============================] - 19s 10ms/step - loss: 0.8669 - accuracy: 0.6885 - val_loss: 0.7788 - val_accuracy: 0.7240\n",
            "Epoch 4/15\n",
            "1875/1875 [==============================] - 20s 11ms/step - loss: 0.7837 - accuracy: 0.7180 - val_loss: 0.7043 - val_accuracy: 0.7495\n",
            "Epoch 5/15\n",
            "1875/1875 [==============================] - 22s 12ms/step - loss: 0.7274 - accuracy: 0.7359 - val_loss: 0.6647 - val_accuracy: 0.7598\n",
            "Epoch 6/15\n",
            "1875/1875 [==============================] - 20s 10ms/step - loss: 0.6798 - accuracy: 0.7547 - val_loss: 0.6157 - val_accuracy: 0.7796\n",
            "Epoch 7/15\n",
            "1875/1875 [==============================] - 21s 11ms/step - loss: 0.6514 - accuracy: 0.7647 - val_loss: 0.5744 - val_accuracy: 0.8000\n",
            "Epoch 8/15\n",
            "1875/1875 [==============================] - 17s 9ms/step - loss: 0.6232 - accuracy: 0.7753 - val_loss: 0.5582 - val_accuracy: 0.8039\n",
            "Epoch 9/15\n",
            "1875/1875 [==============================] - 18s 9ms/step - loss: 0.6008 - accuracy: 0.7829 - val_loss: 0.5426 - val_accuracy: 0.8086\n",
            "Epoch 10/15\n",
            "1875/1875 [==============================] - 17s 9ms/step - loss: 0.5803 - accuracy: 0.7911 - val_loss: 0.5173 - val_accuracy: 0.8207\n",
            "Epoch 11/15\n",
            "1875/1875 [==============================] - 17s 9ms/step - loss: 0.5652 - accuracy: 0.7959 - val_loss: 0.5019 - val_accuracy: 0.8225\n",
            "Epoch 12/15\n",
            "1875/1875 [==============================] - 17s 9ms/step - loss: 0.5496 - accuracy: 0.8019 - val_loss: 0.5001 - val_accuracy: 0.8223\n",
            "Epoch 13/15\n",
            "1875/1875 [==============================] - 18s 9ms/step - loss: 0.5356 - accuracy: 0.8069 - val_loss: 0.4685 - val_accuracy: 0.8361\n",
            "Epoch 14/15\n",
            "1875/1875 [==============================] - 17s 9ms/step - loss: 0.5272 - accuracy: 0.8105 - val_loss: 0.4627 - val_accuracy: 0.8403\n",
            "Epoch 15/15\n",
            "1875/1875 [==============================] - 18s 10ms/step - loss: 0.5145 - accuracy: 0.8163 - val_loss: 0.5075 - val_accuracy: 0.8158\n"
          ]
        }
      ]
    },
    {
      "cell_type": "markdown",
      "metadata": {
        "id": "hU3-Lm7Ma_97"
      },
      "source": [
        "### 문제 26. 학습 진행 사항을 출력하세요."
      ]
    },
    {
      "cell_type": "code",
      "metadata": {
        "id": "B6pKz5o3bPIT"
      },
      "source": [
        "# hist의 accuracy plt의 plot을 이용하여 출력하는 코드를 작성하세요."
      ],
      "execution_count": null,
      "outputs": []
    },
    {
      "cell_type": "code",
      "source": [
        "plt.plot(hist.history['accuracy'], label='accuracy')\n",
        "plt.plot(hist.history['loss'], label='loss')\n",
        "plt.plot(hist.history['val_accuracy'], label='val_accuracy')\n",
        "plt.plot(hist.history['val_loss'], label='val_loss')\n",
        "plt.legend(loc='upper left')\n",
        "plt.show()"
      ],
      "metadata": {
        "colab": {
          "base_uri": "https://localhost:8080/",
          "height": 265
        },
        "id": "82ljvTvtwTzk",
        "outputId": "edb45c5c-377e-4e92-e16c-e52a72bd846a"
      },
      "execution_count": null,
      "outputs": [
        {
          "output_type": "display_data",
          "data": {
            "image/png": "[encoded data removed]",
            "text/plain": [
              "<Figure size 432x288 with 1 Axes>"
            ]
          },
          "metadata": {
            "needs_background": "light"
          }
        }
      ]
    },
    {
      "cell_type": "markdown",
      "metadata": {
        "id": "NLdXvBcvDYkm"
      },
      "source": [
        "## Step 6. 결과 확인"
      ]
    },
    {
      "cell_type": "markdown",
      "metadata": {
        "id": "J6nvDS4yOSCD"
      },
      "source": [
        "### 문제 27. 완성된 모델에서 test_expand_images를 1장 넣고 결과를 res 변수에 저정하세요."
      ]
    },
    {
      "cell_type": "code",
      "metadata": {
        "id": "uKFAu5z4QRjR"
      },
      "source": [
        "# 모델에  test_expand_images 중 1장을 넣고 결과를 받는 코드를 작성하세요."
      ],
      "execution_count": null,
      "outputs": []
    },
    {
      "cell_type": "code",
      "source": [
        "res = model.predict(test_expand_images[0].reshape(1, 56, 56, 1))\n",
        "res.shape"
      ],
      "metadata": {
        "colab": {
          "base_uri": "https://localhost:8080/"
        },
        "id": "XGJTt1fQwUVI",
        "outputId": "981bcf1e-d721-450a-84b5-b5647be27155"
      },
      "execution_count": null,
      "outputs": [
        {
          "output_type": "execute_result",
          "data": {
            "text/plain": [
              "(1, 10)"
            ]
          },
          "metadata": {},
          "execution_count": 165
        }
      ]
    },
    {
      "cell_type": "markdown",
      "metadata": {
        "id": "r-U6Uo2d3cFv"
      },
      "source": [
        "### 문제 28. res의 결과와 실제 label을 비교하고 test_exnpand_images[0]을 plt로 출력하세요."
      ]
    },
    {
      "cell_type": "code",
      "metadata": {
        "id": "E8kp1YTf3kfP"
      },
      "source": [
        "# res의 결과와 실제 label을 비교하고 test_exnpand_images[0]을 plt로 출력하세요."
      ],
      "execution_count": null,
      "outputs": []
    },
    {
      "cell_type": "code",
      "source": [
        "plt.bar(np.arange(10)+0.3, tf.keras.utils.to_categorical(test_labels[0], 10), color='k', label='label')\n",
        "plt.bar(np.arange(10), res[0], label='predict')\n",
        "plt.legend()\n",
        "plt.show()\n",
        "\n",
        "print(f'label : {idx2label(test_labels[0])}')\n",
        "print(f'predict : {idx2label(res[0].argmax())}')"
      ],
      "metadata": {
        "colab": {
          "base_uri": "https://localhost:8080/",
          "height": 300
        },
        "id": "CWC2HmEM2Oij",
        "outputId": "6ff7767e-f50a-4f23-fc67-3329ffeae145"
      },
      "execution_count": null,
      "outputs": [
        {
          "output_type": "display_data",
          "data": {
            "image/png": "[encoded data removed]",
            "text/plain": [
              "<Figure size 432x288 with 1 Axes>"
            ]
          },
          "metadata": {
            "needs_background": "light"
          }
        },
        {
          "output_type": "stream",
          "name": "stdout",
          "text": [
            "label : Ankle boot\n",
            "predict : Ankle boot\n"
          ]
        }
      ]
    },
    {
      "cell_type": "code",
      "source": [
        "plt.imshow(test_expand_images[0])\n",
        "plt.show()"
      ],
      "metadata": {
        "colab": {
          "base_uri": "https://localhost:8080/",
          "height": 267
        },
        "id": "yDaT04134Hx1",
        "outputId": "ea08f68e-ea16-470c-bbbb-970c00ece78e"
      },
      "execution_count": null,
      "outputs": [
        {
          "output_type": "display_data",
          "data": {
            "image/png": "[encoded data removed]",
            "text/plain": [
              "<Figure size 432x288 with 1 Axes>"
            ]
          },
          "metadata": {
            "needs_background": "light"
          }
        }
      ]
    },
    {
      "cell_type": "code",
      "source": [
        "idx2label(7)"
      ],
      "metadata": {
        "colab": {
          "base_uri": "https://localhost:8080/",
          "height": 36
        },
        "id": "Xh_EChrS4NWe",
        "outputId": "24b27221-0e11-4e5a-8617-ceec4497e114"
      },
      "execution_count": null,
      "outputs": [
        {
          "output_type": "execute_result",
          "data": {
            "application/vnd.google.colaboratory.intrinsic+json": {
              "type": "string"
            },
            "text/plain": [
              "'Sneaker'"
            ]
          },
          "metadata": {},
          "execution_count": 182
        }
      ]
    },
    {
      "cell_type": "markdown",
      "metadata": {
        "id": "asN220f5D37P"
      },
      "source": [
        "## Step 7. 멀티 레이블 모델링"
      ]
    },
    {
      "cell_type": "markdown",
      "metadata": {
        "id": "om4GrvBdwNe1"
      },
      "source": [
        "### 문제 29. train_multi_images 와 train_multi_labels를 처리 할 수 있는 모델을 작성하세요."
      ]
    },
    {
      "cell_type": "markdown",
      "source": [
        "이미 갖고 있던 모델의 weight를 최대한 유지(추가 학습을 통해 최소한만 변경)"
      ],
      "metadata": {
        "id": "2rYMDYq45TRl"
      }
    },
    {
      "cell_type": "code",
      "metadata": {
        "id": "UrxLmr-EwaDE"
      },
      "source": [
        "# 기존 모델의 마지막 layer에 변환을 줘서 multi labels을 처리할 수 있는 모델을 작성하세요.(transfer learning 이용)"
      ],
      "execution_count": null,
      "outputs": []
    },
    {
      "cell_type": "code",
      "source": [
        "model.summary()"
      ],
      "metadata": {
        "colab": {
          "base_uri": "https://localhost:8080/"
        },
        "id": "GYmtrOfT6C62",
        "outputId": "5664d433-5af3-4a89-ea6e-4b1d1be1e5a2"
      },
      "execution_count": null,
      "outputs": [
        {
          "output_type": "stream",
          "name": "stdout",
          "text": [
            "Model: \"model_2\"\n",
            "_________________________________________________________________\n",
            " Layer (type)                Output Shape              Param #   \n",
            "=================================================================\n",
            " input_3 (InputLayer)        [(None, 56, 56, 1)]       0         \n",
            "                                                                 \n",
            " conv2d_6 (Conv2D)           (None, 56, 56, 16)        80        \n",
            "                                                                 \n",
            " max_pooling2d_6 (MaxPooling  (None, 28, 28, 16)       0         \n",
            " 2D)                                                             \n",
            "                                                                 \n",
            " dropout_4 (Dropout)         (None, 28, 28, 16)        0         \n",
            "                                                                 \n",
            " conv2d_7 (Conv2D)           (None, 28, 28, 32)        2080      \n",
            "                                                                 \n",
            " max_pooling2d_7 (MaxPooling  (None, 14, 14, 32)       0         \n",
            " 2D)                                                             \n",
            "                                                                 \n",
            " dropout_5 (Dropout)         (None, 14, 14, 32)        0         \n",
            "                                                                 \n",
            " conv2d_8 (Conv2D)           (None, 14, 14, 64)        8256      \n",
            "                                                                 \n",
            " max_pooling2d_8 (MaxPooling  (None, 7, 7, 64)         0         \n",
            " 2D)                                                             \n",
            "                                                                 \n",
            " global_average_pooling2d (G  (None, 64)               0         \n",
            " lobalAveragePooling2D)                                          \n",
            "                                                                 \n",
            " dense_2 (Dense)             (None, 10)                650       \n",
            "                                                                 \n",
            "=================================================================\n",
            "Total params: 11,066\n",
            "Trainable params: 11,066\n",
            "Non-trainable params: 0\n",
            "_________________________________________________________________\n"
          ]
        }
      ]
    },
    {
      "cell_type": "code",
      "source": [
        "def multi_fashion_mnist_model(model):\n",
        "  model.trainable = False # 역전파를 거치더라도 weight를 고정함\n",
        "  x = model.layers[-2].output # GlobalAvgPooling2D의 output(여기까지는 그대로 이용)\n",
        "  x = Dense(10, activation='sigmoid')(x) # softmax는 가장 큰걸 부각시켜줌. 각 요소의 합이 1 / sigmoid는 각 요소가 0~1\n",
        "  return Model(model.input, x)"
      ],
      "metadata": {
        "id": "51JZSBjVwV01"
      },
      "execution_count": null,
      "outputs": []
    },
    {
      "cell_type": "markdown",
      "metadata": {
        "id": "m4LUlqPTwo0a"
      },
      "source": [
        "### 문제 30. 기존 모델을 멀티 모델로 변환하여 모델 서머리를 출력하세요."
      ]
    },
    {
      "cell_type": "code",
      "metadata": {
        "id": "_DMtsyLmwtXY"
      },
      "source": [
        "# 기존 모델을 멀티 모델로 변환하여 모델 서머리를 출력하세요."
      ],
      "execution_count": null,
      "outputs": []
    },
    {
      "cell_type": "code",
      "source": [
        "new_model = multi_fashion_mnist_model(model)\n",
        "new_model.summary()"
      ],
      "metadata": {
        "colab": {
          "base_uri": "https://localhost:8080/"
        },
        "id": "MFxWEAMUwWUe",
        "outputId": "a80b7f7a-04f7-4077-a0db-96320ee4b46d"
      },
      "execution_count": null,
      "outputs": [
        {
          "output_type": "stream",
          "name": "stdout",
          "text": [
            "Model: \"model_3\"\n",
            "_________________________________________________________________\n",
            " Layer (type)                Output Shape              Param #   \n",
            "=================================================================\n",
            " input_3 (InputLayer)        [(None, 56, 56, 1)]       0         \n",
            "                                                                 \n",
            " conv2d_6 (Conv2D)           (None, 56, 56, 16)        80        \n",
            "                                                                 \n",
            " max_pooling2d_6 (MaxPooling  (None, 28, 28, 16)       0         \n",
            " 2D)                                                             \n",
            "                                                                 \n",
            " dropout_4 (Dropout)         (None, 28, 28, 16)        0         \n",
            "                                                                 \n",
            " conv2d_7 (Conv2D)           (None, 28, 28, 32)        2080      \n",
            "                                                                 \n",
            " max_pooling2d_7 (MaxPooling  (None, 14, 14, 32)       0         \n",
            " 2D)                                                             \n",
            "                                                                 \n",
            " dropout_5 (Dropout)         (None, 14, 14, 32)        0         \n",
            "                                                                 \n",
            " conv2d_8 (Conv2D)           (None, 14, 14, 64)        8256      \n",
            "                                                                 \n",
            " max_pooling2d_8 (MaxPooling  (None, 7, 7, 64)         0         \n",
            " 2D)                                                             \n",
            "                                                                 \n",
            " global_average_pooling2d (G  (None, 64)               0         \n",
            " lobalAveragePooling2D)                                          \n",
            "                                                                 \n",
            " dense_3 (Dense)             (None, 10)                650       \n",
            "                                                                 \n",
            "=================================================================\n",
            "Total params: 11,066\n",
            "Trainable params: 650\n",
            "Non-trainable params: 10,416\n",
            "_________________________________________________________________\n"
          ]
        }
      ]
    },
    {
      "cell_type": "code",
      "source": [
        "model.get_weights()[0]"
      ],
      "metadata": {
        "colab": {
          "base_uri": "https://localhost:8080/"
        },
        "id": "lIDm3wML65Pv",
        "outputId": "72fc6820-9d52-49f8-c126-4cada959b952"
      },
      "execution_count": null,
      "outputs": [
        {
          "output_type": "execute_result",
          "data": {
            "text/plain": [
              "array([[[[-3.8924067e+00,  6.4063227e-01, -1.5670407e-01,\n",
              "           1.2137860e+00, -1.6280881e-01,  6.7407912e-01,\n",
              "          -5.3893852e-01,  6.0327029e-01,  1.1301885e+00,\n",
              "          -3.0367423e-03, -1.4041357e+00, -4.5314398e+00,\n",
              "           5.0658560e-01, -1.4794736e-01, -4.6021533e-01,\n",
              "          -7.6501918e-01]],\n",
              "\n",
              "        [[-3.4578791e+00,  6.2312424e-01, -1.1986157e-01,\n",
              "           5.3468496e-01,  1.2034843e+00, -5.9604466e-01,\n",
              "           7.2225463e-01,  6.8789083e-01,  2.6082978e-01,\n",
              "           1.3308522e+00, -5.4635644e-01, -3.8312445e+00,\n",
              "          -4.3632859e-01, -1.3811062e-01, -7.1023488e-01,\n",
              "           7.8744555e-01]]],\n",
              "\n",
              "\n",
              "       [[[ 3.2096756e-01, -4.4204977e-01, -1.2649132e-01,\n",
              "           5.4821110e-01, -5.2654135e-01,  5.0838917e-01,\n",
              "          -6.0668796e-01,  7.6115233e-01,  7.0172524e-01,\n",
              "          -4.4725600e-01,  1.2652401e+00, -1.6608244e+00,\n",
              "           6.1894256e-01, -2.5657630e-01,  4.5522490e-01,\n",
              "          -7.8781521e-01]],\n",
              "\n",
              "        [[ 7.7027118e-01, -1.0998322e+00, -1.7344145e-01,\n",
              "           1.3391662e-01,  6.7172796e-01, -5.0806361e-01,\n",
              "           1.4904543e+00,  2.9884937e-01, -3.0254111e-01,\n",
              "           9.6607864e-01,  6.0129559e-01,  8.6219740e-01,\n",
              "          -6.1449337e-01, -2.9928833e-02,  6.8102384e-01,\n",
              "           7.7870339e-01]]]], dtype=float32)"
            ]
          },
          "metadata": {},
          "execution_count": 189
        }
      ]
    },
    {
      "cell_type": "code",
      "source": [
        "new_model.get_weights()[0]"
      ],
      "metadata": {
        "colab": {
          "base_uri": "https://localhost:8080/"
        },
        "id": "wqRV0sFA61ut",
        "outputId": "5d583917-1301-40ec-f013-11f4425de058"
      },
      "execution_count": null,
      "outputs": [
        {
          "output_type": "execute_result",
          "data": {
            "text/plain": [
              "array([[[[-3.8924067e+00,  6.4063227e-01, -1.5670407e-01,\n",
              "           1.2137860e+00, -1.6280881e-01,  6.7407912e-01,\n",
              "          -5.3893852e-01,  6.0327029e-01,  1.1301885e+00,\n",
              "          -3.0367423e-03, -1.4041357e+00, -4.5314398e+00,\n",
              "           5.0658560e-01, -1.4794736e-01, -4.6021533e-01,\n",
              "          -7.6501918e-01]],\n",
              "\n",
              "        [[-3.4578791e+00,  6.2312424e-01, -1.1986157e-01,\n",
              "           5.3468496e-01,  1.2034843e+00, -5.9604466e-01,\n",
              "           7.2225463e-01,  6.8789083e-01,  2.6082978e-01,\n",
              "           1.3308522e+00, -5.4635644e-01, -3.8312445e+00,\n",
              "          -4.3632859e-01, -1.3811062e-01, -7.1023488e-01,\n",
              "           7.8744555e-01]]],\n",
              "\n",
              "\n",
              "       [[[ 3.2096756e-01, -4.4204977e-01, -1.2649132e-01,\n",
              "           5.4821110e-01, -5.2654135e-01,  5.0838917e-01,\n",
              "          -6.0668796e-01,  7.6115233e-01,  7.0172524e-01,\n",
              "          -4.4725600e-01,  1.2652401e+00, -1.6608244e+00,\n",
              "           6.1894256e-01, -2.5657630e-01,  4.5522490e-01,\n",
              "          -7.8781521e-01]],\n",
              "\n",
              "        [[ 7.7027118e-01, -1.0998322e+00, -1.7344145e-01,\n",
              "           1.3391662e-01,  6.7172796e-01, -5.0806361e-01,\n",
              "           1.4904543e+00,  2.9884937e-01, -3.0254111e-01,\n",
              "           9.6607864e-01,  6.0129559e-01,  8.6219740e-01,\n",
              "          -6.1449337e-01, -2.9928833e-02,  6.8102384e-01,\n",
              "           7.7870339e-01]]]], dtype=float32)"
            ]
          },
          "metadata": {},
          "execution_count": 188
        }
      ]
    },
    {
      "cell_type": "markdown",
      "metadata": {
        "id": "JqPCAn2iw4qM"
      },
      "source": [
        "### 문제 31. 문제 25과 같은 세팅으로 train_multi_images를 학습시키세요."
      ]
    },
    {
      "cell_type": "code",
      "metadata": {
        "id": "diDpP7Wqw3O9"
      },
      "source": [
        "# 문제 25과 같은 세팅으로 train_multi_images를 학습시키세요."
      ],
      "execution_count": null,
      "outputs": []
    },
    {
      "cell_type": "code",
      "source": [
        "train_multi_images.shape"
      ],
      "metadata": {
        "colab": {
          "base_uri": "https://localhost:8080/"
        },
        "id": "CfxoMdm37JOJ",
        "outputId": "a87fb0b7-3d62-43f8-bf83-f71e0b3986c7"
      },
      "execution_count": null,
      "outputs": [
        {
          "output_type": "execute_result",
          "data": {
            "text/plain": [
              "(60000, 56, 56, 1)"
            ]
          },
          "metadata": {},
          "execution_count": 190
        }
      ]
    },
    {
      "cell_type": "code",
      "source": [
        "new_model.compile(loss='categorical_crossentropy', optimizer='adam', metrics=['accuracy'])\n",
        "\n",
        "hist2 = new_model.fit(train_multi_images, \n",
        "                     train_multi_labels,\n",
        "                     validation_data=(test_multi_images, test_multi_labels),\n",
        "                     epochs=15,\n",
        "                     verbose=1\n",
        "                     )"
      ],
      "metadata": {
        "colab": {
          "base_uri": "https://localhost:8080/"
        },
        "id": "5fotdUn7wWf7",
        "outputId": "6ee0cdfe-8be5-4ad9-fe2a-d02e7293c30b"
      },
      "execution_count": null,
      "outputs": [
        {
          "output_type": "stream",
          "name": "stdout",
          "text": [
            "Epoch 1/15\n",
            "1875/1875 [==============================] - 15s 7ms/step - loss: 5.3040 - accuracy: 0.1117 - val_loss: 4.1877 - val_accuracy: 0.1583\n",
            "Epoch 2/15\n",
            "1875/1875 [==============================] - 13s 7ms/step - loss: 4.2213 - accuracy: 0.1900 - val_loss: 3.9337 - val_accuracy: 0.2252\n",
            "Epoch 3/15\n",
            "1875/1875 [==============================] - 13s 7ms/step - loss: 4.0312 - accuracy: 0.2413 - val_loss: 3.7496 - val_accuracy: 0.2577\n",
            "Epoch 4/15\n",
            "1875/1875 [==============================] - 12s 6ms/step - loss: 3.9521 - accuracy: 0.2769 - val_loss: 3.7304 - val_accuracy: 0.2925\n",
            "Epoch 5/15\n",
            "1875/1875 [==============================] - 12s 7ms/step - loss: 3.9445 - accuracy: 0.3034 - val_loss: 3.7083 - val_accuracy: 0.3229\n",
            "Epoch 6/15\n",
            "1875/1875 [==============================] - 13s 7ms/step - loss: 3.9655 - accuracy: 0.3187 - val_loss: 3.7105 - val_accuracy: 0.3254\n",
            "Epoch 7/15\n",
            "1875/1875 [==============================] - 13s 7ms/step - loss: 4.0264 - accuracy: 0.3331 - val_loss: 3.7949 - val_accuracy: 0.3349\n",
            "Epoch 8/15\n",
            "1875/1875 [==============================] - 12s 7ms/step - loss: 4.1109 - accuracy: 0.3443 - val_loss: 3.8398 - val_accuracy: 0.3445\n",
            "Epoch 9/15\n",
            "1875/1875 [==============================] - 13s 7ms/step - loss: 4.1941 - accuracy: 0.3498 - val_loss: 4.0216 - val_accuracy: 0.3300\n",
            "Epoch 10/15\n",
            "1875/1875 [==============================] - 13s 7ms/step - loss: 4.3029 - accuracy: 0.3533 - val_loss: 4.0668 - val_accuracy: 0.3425\n",
            "Epoch 11/15\n",
            "1875/1875 [==============================] - 13s 7ms/step - loss: 4.4310 - accuracy: 0.3552 - val_loss: 4.1996 - val_accuracy: 0.3421\n",
            "Epoch 12/15\n",
            "1875/1875 [==============================] - 13s 7ms/step - loss: 4.5402 - accuracy: 0.3595 - val_loss: 4.3696 - val_accuracy: 0.3662\n",
            "Epoch 13/15\n",
            "1875/1875 [==============================] - 12s 7ms/step - loss: 4.6535 - accuracy: 0.3677 - val_loss: 4.4011 - val_accuracy: 0.3505\n",
            "Epoch 14/15\n",
            "1875/1875 [==============================] - 12s 7ms/step - loss: 4.7389 - accuracy: 0.3705 - val_loss: 4.5358 - val_accuracy: 0.3445\n",
            "Epoch 15/15\n",
            "1875/1875 [==============================] - 13s 7ms/step - loss: 4.8360 - accuracy: 0.3640 - val_loss: 4.6016 - val_accuracy: 0.3624\n"
          ]
        }
      ]
    },
    {
      "cell_type": "code",
      "source": [
        "plt.plot(hist2.history['accuracy'], label='acc')\n",
        "plt.plot(hist2.history['loss'], label='loss')\n",
        "plt.plot(hist2.history['val_accuracy'], label='val_acc')\n",
        "plt.plot(hist2.history['val_loss'], label='val_loss')\n",
        "plt.legend(loc='best')\n",
        "plt.show()"
      ],
      "metadata": {
        "colab": {
          "base_uri": "https://localhost:8080/",
          "height": 265
        },
        "id": "F7HUTxDu8doq",
        "outputId": "58683589-19db-4174-9890-8583e1643d85"
      },
      "execution_count": null,
      "outputs": [
        {
          "output_type": "display_data",
          "data": {
            "image/png": "[encoded data removed]",
            "text/plain": [
              "<Figure size 432x288 with 1 Axes>"
            ]
          },
          "metadata": {
            "needs_background": "light"
          }
        }
      ]
    },
    {
      "cell_type": "markdown",
      "metadata": {
        "id": "Gfi5SHaC-Vag"
      },
      "source": [
        "### 문제 32. 완성된 모델에서 test_multi_images를 1장 넣고 결과를 res 변수에 저정한뒤 실제 test_multi_labels와 비교해보세요."
      ]
    },
    {
      "cell_type": "code",
      "metadata": {
        "id": "QKjeOiSZ6Wrr"
      },
      "source": [
        "# 완성된 모델에서 test_multi_images를 1장 넣고 결과를 res 변수에 저정한뒤 실제 test_multi_labels와 비교해보세요."
      ],
      "execution_count": null,
      "outputs": []
    },
    {
      "cell_type": "code",
      "source": [
        "res = new_model.predict(test_multi_images[0].reshape(1, 56, 56, 1))\n",
        "res.shape"
      ],
      "metadata": {
        "colab": {
          "base_uri": "https://localhost:8080/"
        },
        "id": "tJ4lscL2wWsT",
        "outputId": "a2d1546a-8da2-4447-9385-a28fbf651d69"
      },
      "execution_count": null,
      "outputs": [
        {
          "output_type": "execute_result",
          "data": {
            "text/plain": [
              "(1, 10)"
            ]
          },
          "metadata": {},
          "execution_count": 195
        }
      ]
    },
    {
      "cell_type": "code",
      "source": [
        "plt.bar(np.arange(10)+0.3, test_multi_labels[0], color='k', label='label')\n",
        "plt.bar(np.arange(10), res[0], label='predict')\n",
        "plt.legend(loc='upper left')\n",
        "plt.show()\n",
        "\n",
        "print(f'label : {idx2label(test_labels[0])}')\n",
        "print(f'predict : {idx2label(res[0].argmax())}')"
      ],
      "metadata": {
        "colab": {
          "base_uri": "https://localhost:8080/",
          "height": 300
        },
        "id": "N9sSy-av9PY-",
        "outputId": "4446bfc5-6b26-4797-ae52-c63427a38517"
      },
      "execution_count": null,
      "outputs": [
        {
          "output_type": "display_data",
          "data": {
            "image/png": "[encoded data removed]",
            "text/plain": [
              "<Figure size 432x288 with 1 Axes>"
            ]
          },
          "metadata": {
            "needs_background": "light"
          }
        },
        {
          "output_type": "stream",
          "name": "stdout",
          "text": [
            "label : Ankle boot\n",
            "predict : T-shirt/top\n"
          ]
        }
      ]
    },
    {
      "cell_type": "code",
      "source": [
        "res[0]"
      ],
      "metadata": {
        "colab": {
          "base_uri": "https://localhost:8080/"
        },
        "id": "j2Lw1pvn9sKE",
        "outputId": "2d7efb3f-b9fa-4090-dbab-992e8e3d1e22"
      },
      "execution_count": null,
      "outputs": [
        {
          "output_type": "execute_result",
          "data": {
            "text/plain": [
              "array([1., 1., 1., 1., 1., 1., 1., 1., 1., 1.], dtype=float32)"
            ]
          },
          "metadata": {},
          "execution_count": 199
        }
      ]
    },
    {
      "cell_type": "markdown",
      "source": [
        "결과가 이상하게 나와서 다른 방법으로 학습"
      ],
      "metadata": {
        "id": "pHsx0LUF-Ir7"
      }
    },
    {
      "cell_type": "code",
      "source": [
        "# for문 이용하여 학습\n",
        "\n",
        "new_model = multi_fashion_mnist_model(model)\n",
        "\n",
        "epochs = 15\n",
        "batch_size = 32\n",
        "new_model.compile(loss='binary_crossentropy', optimizer='adam', metrics=['accuracy']) # multi lable은 binary_crossentropy, sigmoid 사용!\n",
        "\n",
        "for epoch in range(epochs):\n",
        "  for _ in range(0, len(train_images), batch_size):\n",
        "    batch_x = []\n",
        "    batch_y = []\n",
        "\n",
        "    for _ in range(batch_size):\n",
        "      x, y = expand_4times2(train_images, train_labels) # 돌릴 때마다 이미지를 새로 만듦 -> 성능 향상\n",
        "      batch_x.append(x)\n",
        "      batch_y.append(y)\n",
        "\n",
        "    batch_x = np.array(batch_x).reshape((-1, 56, 56, 1))\n",
        "    batch_y = np.array(batch_y).reshape((-1, 10))\n",
        "    new_model.train_on_batch(batch_x, batch_y)\n",
        "  print(epoch, 'e')"
      ],
      "metadata": {
        "colab": {
          "base_uri": "https://localhost:8080/"
        },
        "id": "h9gFu8An-MHI",
        "outputId": "f87f2f38-d443-44d3-9e77-b05a9e3aa223"
      },
      "execution_count": null,
      "outputs": [
        {
          "output_type": "stream",
          "name": "stdout",
          "text": [
            "0 e\n",
            "1 e\n",
            "2 e\n",
            "3 e\n",
            "4 e\n",
            "5 e\n",
            "6 e\n",
            "7 e\n",
            "8 e\n",
            "9 e\n",
            "10 e\n",
            "11 e\n",
            "12 e\n",
            "13 e\n",
            "14 e\n"
          ]
        }
      ]
    },
    {
      "cell_type": "code",
      "source": [
        "res = new_model.predict(test_multi_images[8].reshape((1,56,56,1)))\n",
        "res.shape"
      ],
      "metadata": {
        "colab": {
          "base_uri": "https://localhost:8080/"
        },
        "id": "ypES1yay_dvE",
        "outputId": "916f6bad-1908-495a-8523-ddeda6ec3c0f"
      },
      "execution_count": null,
      "outputs": [
        {
          "output_type": "execute_result",
          "data": {
            "text/plain": [
              "(1, 10)"
            ]
          },
          "metadata": {},
          "execution_count": 228
        }
      ]
    },
    {
      "cell_type": "code",
      "source": [
        "res"
      ],
      "metadata": {
        "colab": {
          "base_uri": "https://localhost:8080/"
        },
        "id": "jzdJdHPpH2qJ",
        "outputId": "7047acf4-fe7e-4970-ae87-b1ae39106b8d"
      },
      "execution_count": null,
      "outputs": [
        {
          "output_type": "execute_result",
          "data": {
            "text/plain": [
              "array([[0.30769408, 0.96334314, 0.02915821, 0.08250561, 0.01631874,\n",
              "        0.2999612 , 0.05711582, 0.06290406, 0.00729227, 0.02582682]],\n",
              "      dtype=float32)"
            ]
          },
          "metadata": {},
          "execution_count": 229
        }
      ]
    },
    {
      "cell_type": "code",
      "source": [
        "plt.bar(np.arange(10)+0.3, test_multi_labels[8], color='k', label='label')\n",
        "plt.bar(np.arange(10), res[0]>0.2, color='g', label='predict') # 임계치 값을 적당하게 잘 조정해줘야 함\n",
        "plt.legend(loc='upper left')\n",
        "plt.show()"
      ],
      "metadata": {
        "colab": {
          "base_uri": "https://localhost:8080/",
          "height": 265
        },
        "id": "mVMn4qia_mw3",
        "outputId": "f3ce0846-b699-46de-afd6-33ebb8cc51d5"
      },
      "execution_count": null,
      "outputs": [
        {
          "output_type": "display_data",
          "data": {
            "image/png": "[encoded data removed]",
            "text/plain": [
              "<Figure size 432x288 with 1 Axes>"
            ]
          },
          "metadata": {
            "needs_background": "light"
          }
        }
      ]
    },
    {
      "cell_type": "markdown",
      "metadata": {
        "id": "jEMuwUYP71jb"
      },
      "source": [
        "## Step 8. 모델 저장 및 로드, 다운"
      ]
    },
    {
      "cell_type": "markdown",
      "metadata": {
        "id": "c2GZFvCAzFNl"
      },
      "source": [
        "### 문제 33. 모델을 저장하세요."
      ]
    },
    {
      "cell_type": "code",
      "metadata": {
        "id": "YjuCVTNbriVJ"
      },
      "source": [
        "# 모델을 저장하는 코드를 작성하세요."
      ],
      "execution_count": null,
      "outputs": []
    },
    {
      "cell_type": "code",
      "source": [
        "from google.colab import drive\n",
        "drive.mount('/content/drive')"
      ],
      "metadata": {
        "colab": {
          "base_uri": "https://localhost:8080/"
        },
        "id": "mUwbmO9lEBkG",
        "outputId": "19592c0d-cb84-4d42-8776-cb02582b8f90"
      },
      "execution_count": null,
      "outputs": [
        {
          "output_type": "stream",
          "name": "stdout",
          "text": [
            "Mounted at /content/drive\n"
          ]
        }
      ]
    },
    {
      "cell_type": "code",
      "source": [
        "model.save('/content/drive/MyDrive/패스트캠퍼스/Part 1/multi_class.h5')\n",
        "new_model.save('/content/drive/MyDrive/패스트캠퍼스/Part 1/multi_label.h5')"
      ],
      "metadata": {
        "id": "in2c2ppkEDFC"
      },
      "execution_count": null,
      "outputs": []
    },
    {
      "cell_type": "markdown",
      "metadata": {
        "id": "Bj4P3DdzzhyC"
      },
      "source": [
        "### 문제 34. 모델 파일을 새로운 모델에 로드하세요."
      ]
    },
    {
      "cell_type": "code",
      "metadata": {
        "id": "xuRAnBR8zY-X"
      },
      "source": [
        "# 모델을 로드하는 코드를 작성하세요."
      ],
      "execution_count": null,
      "outputs": []
    },
    {
      "cell_type": "code",
      "source": [
        "model2 = tf.keras.models.load_model('/content/drive/MyDrive/패스트캠퍼스/Part 1/multi_class.h5')\n",
        "model3 = tf.keras.models.load_model('/content/drive/MyDrive/패스트캠퍼스/Part 1/multi_label.h5')"
      ],
      "metadata": {
        "colab": {
          "base_uri": "https://localhost:8080/"
        },
        "id": "PiPvaD9AwXb1",
        "outputId": "7700019a-48b9-4a6b-db20-bbbe1bf18803"
      },
      "execution_count": null,
      "outputs": [
        {
          "output_type": "stream",
          "name": "stdout",
          "text": [
            "WARNING:tensorflow:Error in loading the saved optimizer state. As a result, your model is starting with a freshly initialized optimizer.\n"
          ]
        }
      ]
    },
    {
      "cell_type": "markdown",
      "metadata": {
        "id": "ta1I5ZEY1FBR"
      },
      "source": [
        "### 문제 35. 로드한 모델을 test 데이터로 평가해보세요.\n"
      ]
    },
    {
      "cell_type": "code",
      "metadata": {
        "id": "ALrVf_lm0_Bc"
      },
      "source": [
        "# 로드한 모델을 test 데이터로 평가해보세요."
      ],
      "execution_count": null,
      "outputs": []
    },
    {
      "cell_type": "code",
      "source": [
        "loss, acc = model2.evaluate(test_expand_images.reshape((-1,56,56,1)), tf.keras.utils.to_categorical(test_labels,10))\n",
        "print(loss, acc)"
      ],
      "metadata": {
        "colab": {
          "base_uri": "https://localhost:8080/"
        },
        "id": "gSraVctGwXuv",
        "outputId": "cb19f15c-84e3-4b84-8587-b648e0d355ef"
      },
      "execution_count": null,
      "outputs": [
        {
          "output_type": "stream",
          "name": "stdout",
          "text": [
            "313/313 [==============================] - 3s 8ms/step - loss: 0.5075 - accuracy: 0.8158\n",
            "0.5075153112411499 0.8158000111579895\n"
          ]
        }
      ]
    },
    {
      "cell_type": "markdown",
      "metadata": {
        "id": "gfEgY1Vr1T1v"
      },
      "source": [
        "### 문제 36. 모델을 내 컴퓨터에 저장해보세요"
      ]
    },
    {
      "cell_type": "code",
      "metadata": {
        "id": "ASkJv_Ui1RGv"
      },
      "source": [
        "# 모델을 내 컴퓨터에 저장해보세요."
      ],
      "execution_count": null,
      "outputs": []
    },
    {
      "cell_type": "code",
      "metadata": {
        "id": "lJm9QRGXTS-K",
        "colab": {
          "base_uri": "https://localhost:8080/",
          "height": 17
        },
        "outputId": "1194aa9d-bba1-49a4-afdd-2922b49fd9c7"
      },
      "source": [
        "from google.colab import files\n",
        "\n",
        "files.download('/content/drive/MyDrive/패스트캠퍼스/Part 1/multi_class.h5')\n",
        "files.download('/content/drive/MyDrive/패스트캠퍼스/Part 1/multi_label.h5')"
      ],
      "execution_count": null,
      "outputs": [
        {
          "output_type": "display_data",
          "data": {
            "application/javascript": [
              "\n",
              "    async function download(id, filename, size) {\n",
              "      if (!google.colab.kernel.accessAllowed) {\n",
              "        return;\n",
              "      }\n",
              "      const div = document.createElement('div');\n",
              "      const label = document.createElement('label');\n",
              "      label.textContent = `Downloading \"${filename}\": `;\n",
              "      div.appendChild(label);\n",
              "      const progress = document.createElement('progress');\n",
              "      progress.max = size;\n",
              "      div.appendChild(progress);\n",
              "      document.body.appendChild(div);\n",
              "\n",
              "      const buffers = [];\n",
              "      let downloaded = 0;\n",
              "\n",
              "      const channel = await google.colab.kernel.comms.open(id);\n",
              "      // Send a message to notify the kernel that we're ready.\n",
              "      channel.send({})\n",
              "\n",
              "      for await (const message of channel.messages) {\n",
              "        // Send a message to notify the kernel that we're ready.\n",
              "        channel.send({})\n",
              "        if (message.buffers) {\n",
              "          for (const buffer of message.buffers) {\n",
              "            buffers.push(buffer);\n",
              "            downloaded += buffer.byteLength;\n",
              "            progress.value = downloaded;\n",
              "          }\n",
              "        }\n",
              "      }\n",
              "      const blob = new Blob(buffers, {type: 'application/binary'});\n",
              "      const a = document.createElement('a');\n",
              "      a.href = window.URL.createObjectURL(blob);\n",
              "      a.download = filename;\n",
              "      div.appendChild(a);\n",
              "      a.click();\n",
              "      div.remove();\n",
              "    }\n",
              "  "
            ],
            "text/plain": [
              "<IPython.core.display.Javascript object>"
            ]
          },
          "metadata": {}
        },
        {
          "output_type": "display_data",
          "data": {
            "application/javascript": [
              "download(\"download_9b2bdf0d-cb9e-4852-9f26-1ad2ac6dd6e9\", \"multi_class.h5\", 182552)"
            ],
            "text/plain": [
              "<IPython.core.display.Javascript object>"
            ]
          },
          "metadata": {}
        },
        {
          "output_type": "display_data",
          "data": {
            "application/javascript": [
              "\n",
              "    async function download(id, filename, size) {\n",
              "      if (!google.colab.kernel.accessAllowed) {\n",
              "        return;\n",
              "      }\n",
              "      const div = document.createElement('div');\n",
              "      const label = document.createElement('label');\n",
              "      label.textContent = `Downloading \"${filename}\": `;\n",
              "      div.appendChild(label);\n",
              "      const progress = document.createElement('progress');\n",
              "      progress.max = size;\n",
              "      div.appendChild(progress);\n",
              "      document.body.appendChild(div);\n",
              "\n",
              "      const buffers = [];\n",
              "      let downloaded = 0;\n",
              "\n",
              "      const channel = await google.colab.kernel.comms.open(id);\n",
              "      // Send a message to notify the kernel that we're ready.\n",
              "      channel.send({})\n",
              "\n",
              "      for await (const message of channel.messages) {\n",
              "        // Send a message to notify the kernel that we're ready.\n",
              "        channel.send({})\n",
              "        if (message.buffers) {\n",
              "          for (const buffer of message.buffers) {\n",
              "            buffers.push(buffer);\n",
              "            downloaded += buffer.byteLength;\n",
              "            progress.value = downloaded;\n",
              "          }\n",
              "        }\n",
              "      }\n",
              "      const blob = new Blob(buffers, {type: 'application/binary'});\n",
              "      const a = document.createElement('a');\n",
              "      a.href = window.URL.createObjectURL(blob);\n",
              "      a.download = filename;\n",
              "      div.appendChild(a);\n",
              "      a.click();\n",
              "      div.remove();\n",
              "    }\n",
              "  "
            ],
            "text/plain": [
              "<IPython.core.display.Javascript object>"
            ]
          },
          "metadata": {}
        },
        {
          "output_type": "display_data",
          "data": {
            "application/javascript": [
              "download(\"download_b6ea41e5-e805-41a7-bd78-3e6fd10d2ee9\", \"multi_label.h5\", 87144)"
            ],
            "text/plain": [
              "<IPython.core.display.Javascript object>"
            ]
          },
          "metadata": {}
        }
      ]
    }
  ]
}