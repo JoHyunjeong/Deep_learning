{
  "nbformat": 4,
  "nbformat_minor": 0,
  "metadata": {
    "colab": {
      "name": "[실습]Part3_Ch01_시계열 분석 - 딥러닝으로 Seq2Seq 계산기 만들기.ipynb",
      "provenance": [],
      "collapsed_sections": [],
      "include_colab_link": true
    },
    "kernelspec": {
      "name": "python3",
      "display_name": "Python 3"
    },
    "accelerator": "GPU"
  },
  "cells": [
    {
      "cell_type": "markdown",
      "metadata": {
        "id": "view-in-github",
        "colab_type": "text"
      },
      "source": [
        "<a href=\"https://colab.research.google.com/github/JoHyunjeong/Deep_learning/blob/main/%EB%94%A5%EB%9F%AC%EB%8B%9D_%EC%8B%A4%EC%8A%B5/3_%ED%85%8D%EC%8A%A4%ED%8A%B8%EB%B6%84%EB%A5%98%EA%B8%B0%EC%B4%88/Ch01_%E1%84%89%E1%85%B5%E1%84%80%E1%85%A8%E1%84%8B%E1%85%A7%E1%86%AF%E1%84%87%E1%85%AE%E1%86%AB%E1%84%89%E1%85%A5%E1%86%A8_%E1%84%83%E1%85%B5%E1%86%B8%E1%84%85%E1%85%A5%E1%84%82%E1%85%B5%E1%86%BC%E1%84%8B%E1%85%B3%E1%84%85%E1%85%A9Seq2Seq%E1%84%80%E1%85%A8%E1%84%89%E1%85%A1%E1%86%AB%E1%84%80%E1%85%B5%E1%84%86%E1%85%A1%E1%86%AB%E1%84%83%E1%85%B3%E1%86%AF%E1%84%80%E1%85%B5.ipynb\" target=\"_parent\"><img src=\"https://colab.research.google.com/assets/colab-badge.svg\" alt=\"Open In Colab\"/></a>"
      ]
    },
    {
      "cell_type": "markdown",
      "metadata": {
        "id": "oR0VJlz7mi5A"
      },
      "source": [
        "\n",
        "# 주제 : 딥러닝으로 Seq2Seq 계산기 만들기\n",
        "--------------\n",
        "## 실습 가이드\n",
        "    1. 데이터를 다운로드하여 Colab에 불러옵니다.\n",
        "    2. 필요한 라이브러리는 모두 코드로 작성되어 있습니다.\n",
        "    3. 코드는 위에서부터 아래로 순서대로 실행합니다.\n",
        "    4. 전체 문제 구성은 좌측 첫 번째 아이콘을 통해 확인할 수 있습니다.\n",
        "\n",
        "## 데이터 소개\n",
        "    - 이번 주제는 직접 랜덤 생성한 Dataset을 사용합니다.\n",
        "    - 학습 데이터와 정답 데이터는, 각각의 아래와 같습니다.\n",
        "    \n",
        "    1. train_text\n",
        "      23 + 13\n",
        "      1 - 3\n",
        "      32 + 5\n",
        "      1 + 62 ...\n",
        "    \n",
        "    2. train_answer\n",
        "      36\n",
        "      -1\n",
        "      37\n",
        "      63 ...\n",
        "\n",
        "\n",
        "    \n",
        "- 데이터 출처: 없음\n",
        "\n",
        "## 최종 목표\n",
        "    - Seq2Seq 기반 모델의 이해\n",
        "    - word embedding 이해\n",
        "    - 시계열 데이터 학습 이해\n",
        "    \n",
        "  - 출제자 : 손근영 강사\n"
      ]
    },
    {
      "cell_type": "code",
      "metadata": {
        "id": "e7kl3hgkikbo"
      },
      "source": [
        "import tensorflow as tf\n",
        "from tensorflow import keras\n",
        "from keras.layers import Dense\n",
        "from keras.models import Sequential\n",
        "\n",
        "import pandas as pd\n",
        "import numpy as np\n",
        "import matplotlib.pyplot as plt\n",
        "import seaborn as sns\n",
        "import warnings \n",
        "from IPython.display import Image\n",
        "\n",
        "warnings.filterwarnings('ignore')\n",
        "%matplotlib inline\n",
        "\n",
        "SEED = 34"
      ],
      "execution_count": null,
      "outputs": []
    },
    {
      "cell_type": "markdown",
      "metadata": {
        "id": "c5uDUVunS1Yk"
      },
      "source": [
        "## Step 1. 도입전 기본 처리"
      ]
    },
    {
      "cell_type": "markdown",
      "metadata": {
        "id": "2Bgf6uZtoBob"
      },
      "source": [
        "### 문제 1. 랜덤 2자리 더하기 데이터와 정답셋 생성"
      ]
    },
    {
      "cell_type": "code",
      "metadata": {
        "id": "l2NW5G5nTgsb"
      },
      "source": [
        "# 랜덤 2자리 더하기 데이터와 정답셋을 오만쌍 생성해주세요."
      ],
      "execution_count": null,
      "outputs": []
    },
    {
      "cell_type": "code",
      "source": [
        "import random\n",
        "\n",
        "def make_raw_text(count=50000):\n",
        "  train_text = []\n",
        "  train_answer = []\n",
        "\n",
        "  for _ in range(count):\n",
        "    t = random.randint(0, 3)\n",
        "    if t == 0:\n",
        "      a = random.randint(0, 10) # 1자리\n",
        "    else:\n",
        "      a = random.randint(0, 100) # 2자리\n",
        "\n",
        "    t = random.randint(0, 3)\n",
        "    if t == 0:\n",
        "      b = random.randint(0, 10) # 1자리\n",
        "    else:\n",
        "      b = random.randint(0, 100) # 2자리\n",
        "\n",
        "    if random.randint(0, 2) == 0:\n",
        "      train = f'{a} + {b}'\n",
        "      answer = f'{a+b}'\n",
        "    else:\n",
        "      train = f'{a} - {b}'\n",
        "      answer = f'{a-b}'\n",
        "\n",
        "    train_text.append(train)\n",
        "    train_answer.append(answer)\n",
        "  \n",
        "  return train_text, train_answer\n",
        "\n",
        "train_text, train_answer = make_raw_text()"
      ],
      "metadata": {
        "id": "RWhYVfAd95VA"
      },
      "execution_count": null,
      "outputs": []
    },
    {
      "cell_type": "code",
      "source": [
        "len(train_text), len(train_answer)"
      ],
      "metadata": {
        "colab": {
          "base_uri": "https://localhost:8080/"
        },
        "id": "mBW_kvbUqiYY",
        "outputId": "14821655-fecd-4b0b-be23-3f1f596046ec"
      },
      "execution_count": null,
      "outputs": [
        {
          "output_type": "execute_result",
          "data": {
            "text/plain": [
              "(50000, 50000)"
            ]
          },
          "metadata": {},
          "execution_count": 27
        }
      ]
    },
    {
      "cell_type": "code",
      "source": [
        "train_text[0], train_answer[0]"
      ],
      "metadata": {
        "colab": {
          "base_uri": "https://localhost:8080/"
        },
        "id": "zhJCcD_UqpTP",
        "outputId": "a1d71a69-ea53-46b9-e060-0b0b47b57593"
      },
      "execution_count": null,
      "outputs": [
        {
          "output_type": "execute_result",
          "data": {
            "text/plain": [
              "('60 + 84', '144')"
            ]
          },
          "metadata": {},
          "execution_count": 28
        }
      ]
    },
    {
      "cell_type": "markdown",
      "metadata": {
        "id": "eKv9UoZAxTr6"
      },
      "source": [
        "## Step 2. 전처리"
      ]
    },
    {
      "cell_type": "markdown",
      "metadata": {
        "id": "ko4D-BpJTq2r"
      },
      "source": [
        "### 문제 2. train_text, train_anser에서 나오는 모든 token을 map<token, id>형태로 변경"
      ]
    },
    {
      "cell_type": "code",
      "metadata": {
        "id": "waksbx9aT5tK"
      },
      "source": [
        "# train_text, train_anser에서 나오는 모든 token을 map<token, id>형태로 변경하세요. (단, + -> 10, PAD -> 12, EOS -> 13)"
      ],
      "execution_count": null,
      "outputs": []
    },
    {
      "cell_type": "code",
      "source": [
        "vocab = {str(i):i for i in range(10)}\n",
        "vocab.update({'+':10, '-':11, 'PAD':12, 'EOS':13})\n",
        "vocab"
      ],
      "metadata": {
        "id": "1pgeWnKm95pX",
        "colab": {
          "base_uri": "https://localhost:8080/"
        },
        "outputId": "d8114867-e9cc-4167-8283-4ad7052ee06b"
      },
      "execution_count": null,
      "outputs": [
        {
          "output_type": "execute_result",
          "data": {
            "text/plain": [
              "{'+': 10,\n",
              " '-': 11,\n",
              " '0': 0,\n",
              " '1': 1,\n",
              " '2': 2,\n",
              " '3': 3,\n",
              " '4': 4,\n",
              " '5': 5,\n",
              " '6': 6,\n",
              " '7': 7,\n",
              " '8': 8,\n",
              " '9': 9,\n",
              " 'EOS': 13,\n",
              " 'PAD': 12}"
            ]
          },
          "metadata": {},
          "execution_count": 30
        }
      ]
    },
    {
      "cell_type": "markdown",
      "metadata": {
        "id": "eEksTrDQ4cXN"
      },
      "source": [
        "### 문제 3. vocab의 역형태인 map<id, token> 형태도 생성"
      ]
    },
    {
      "cell_type": "code",
      "metadata": {
        "id": "xcs9G5IO4r72"
      },
      "source": [
        "# vocab의 역형태인 <id, token>을 생성하세요."
      ],
      "execution_count": null,
      "outputs": []
    },
    {
      "cell_type": "code",
      "source": [
        "invocab = {i:str(i) for i in range(10)}\n",
        "invocab.update({10:'+', 11:'-', 12:'PAD', 13:'EOS'})\n",
        "invocab"
      ],
      "metadata": {
        "id": "z6fPo2xE9574",
        "colab": {
          "base_uri": "https://localhost:8080/"
        },
        "outputId": "490619a6-ac58-40ef-bede-1e2fe58293f3"
      },
      "execution_count": null,
      "outputs": [
        {
          "output_type": "execute_result",
          "data": {
            "text/plain": [
              "{0: '0',\n",
              " 1: '1',\n",
              " 2: '2',\n",
              " 3: '3',\n",
              " 4: '4',\n",
              " 5: '5',\n",
              " 6: '6',\n",
              " 7: '7',\n",
              " 8: '8',\n",
              " 9: '9',\n",
              " 10: '+',\n",
              " 11: '-',\n",
              " 12: 'PAD',\n",
              " 13: 'EOS'}"
            ]
          },
          "metadata": {},
          "execution_count": 32
        }
      ]
    },
    {
      "cell_type": "code",
      "source": [
        "invocab = {v:k for k, v in vocab.items()}\n",
        "invocab"
      ],
      "metadata": {
        "colab": {
          "base_uri": "https://localhost:8080/"
        },
        "id": "42LVCA__tCup",
        "outputId": "48f3e552-20ed-49e1-fa8b-5fe5e0ef3bb2"
      },
      "execution_count": null,
      "outputs": [
        {
          "output_type": "execute_result",
          "data": {
            "text/plain": [
              "{0: '0',\n",
              " 1: '1',\n",
              " 2: '2',\n",
              " 3: '3',\n",
              " 4: '4',\n",
              " 5: '5',\n",
              " 6: '6',\n",
              " 7: '7',\n",
              " 8: '8',\n",
              " 9: '9',\n",
              " 10: '+',\n",
              " 11: '-',\n",
              " 12: 'PAD',\n",
              " 13: 'EOS'}"
            ]
          },
          "metadata": {},
          "execution_count": 33
        }
      ]
    },
    {
      "cell_type": "markdown",
      "metadata": {
        "id": "hrmQ7HzEUKrz"
      },
      "source": [
        "### 문제 4. train_text와 train_anser를 BOW(Bag of Words) 형태로 변경"
      ]
    },
    {
      "cell_type": "markdown",
      "source": [
        "BOW는 순서나 frequency를 무시하지만 손쉽게 문장을 벡터로 바꿀 수 있음"
      ],
      "metadata": {
        "id": "8mMCcqtPrwG6"
      }
    },
    {
      "cell_type": "code",
      "metadata": {
        "id": "fVzGHMSYUUKk"
      },
      "source": [
        "# train_text와 train_anser를 BOW 형태로 변경하세요."
      ],
      "execution_count": null,
      "outputs": []
    },
    {
      "cell_type": "code",
      "source": [
        "# ex) '10 + 1' => [1, 0, 10, 1]\n",
        "\n",
        "def plain2bow(text, vocab):\n",
        "  return np.array([vocab[ch] for word in text.split() for ch in word] + [vocab['EOS']])\n",
        "\n",
        "train_bow_text = [plain2bow(text, vocab) for text in train_text]\n",
        "train_bow_answer = [plain2bow(text, vocab) for text in train_answer]"
      ],
      "metadata": {
        "id": "yIzxt5nD96O_"
      },
      "execution_count": null,
      "outputs": []
    },
    {
      "cell_type": "code",
      "source": [
        "print(train_bow_text[0])\n",
        "print(train_bow_text[1])"
      ],
      "metadata": {
        "colab": {
          "base_uri": "https://localhost:8080/"
        },
        "id": "1baZtjxjuJFM",
        "outputId": "c6fc0250-ccf4-446d-8314-1602e9d7f396"
      },
      "execution_count": null,
      "outputs": [
        {
          "output_type": "stream",
          "name": "stdout",
          "text": [
            "[ 6  0 10  8  4 13]\n",
            "[ 4  4 11  6 13]\n"
          ]
        }
      ]
    },
    {
      "cell_type": "markdown",
      "metadata": {
        "id": "HaM2PoZpvXJE"
      },
      "source": [
        "### 문제 5. train_bow_text와 train_bow_answer에 padding을 추가하여 완전한 np.array로 변경하세요."
      ]
    },
    {
      "cell_type": "markdown",
      "source": [
        "문제에 따라 길이가 다를 수 있으므로 동일한 길이로 맞춰줌"
      ],
      "metadata": {
        "id": "5LPoCARFuPxe"
      }
    },
    {
      "cell_type": "code",
      "metadata": {
        "id": "wjZ9MeaAve_J"
      },
      "source": [
        "# train_bow_text와 train_bow_answer에 padding을 추가하여 완전한 np.array로 변경하세요."
      ],
      "execution_count": null,
      "outputs": []
    },
    {
      "cell_type": "code",
      "source": [
        "train_bow_text = tf.keras.preprocessing.sequence.pad_sequences(train_bow_text, value=vocab['PAD'])\n",
        "train_bow_answer = tf.keras.preprocessing.sequence.pad_sequences(train_bow_answer, padding='post', value=vocab['PAD']) # 패딩을 뒤쪽에서 줌"
      ],
      "metadata": {
        "id": "GR82cT8e96e7"
      },
      "execution_count": null,
      "outputs": []
    },
    {
      "cell_type": "code",
      "source": [
        "train_bow_text.shape, train_bow_answer.shape"
      ],
      "metadata": {
        "colab": {
          "base_uri": "https://localhost:8080/"
        },
        "id": "fhDGqycMvC9g",
        "outputId": "90e0e095-8a79-43c7-dfec-eb41262a16db"
      },
      "execution_count": null,
      "outputs": [
        {
          "output_type": "execute_result",
          "data": {
            "text/plain": [
              "((50000, 8), (50000, 5))"
            ]
          },
          "metadata": {},
          "execution_count": 43
        }
      ]
    },
    {
      "cell_type": "code",
      "source": [
        "print(train_bow_text[0]) # 앞에 padding 추가됨. decoder에 전달해야하므로 앞에 padding 붙임"
      ],
      "metadata": {
        "colab": {
          "base_uri": "https://localhost:8080/"
        },
        "id": "ZUiaCpaUvIK3",
        "outputId": "b27b0657-c7ba-402b-da93-46429f5a75e0"
      },
      "execution_count": null,
      "outputs": [
        {
          "output_type": "stream",
          "name": "stdout",
          "text": [
            "[12 12  6  0 10  8  4 13]\n"
          ]
        }
      ]
    },
    {
      "cell_type": "code",
      "source": [
        "print(train_bow_answer[0])"
      ],
      "metadata": {
        "colab": {
          "base_uri": "https://localhost:8080/"
        },
        "id": "Z1G6bMC3vOfk",
        "outputId": "c7535cfe-c8bf-41a4-c87d-dba0bd2b6edc"
      },
      "execution_count": null,
      "outputs": [
        {
          "output_type": "stream",
          "name": "stdout",
          "text": [
            "[ 1  4  4 13 12]\n"
          ]
        }
      ]
    },
    {
      "cell_type": "markdown",
      "metadata": {
        "id": "ycjd30D5wgBT"
      },
      "source": [
        "### 문제 6. train_bow_text를 train_data_bow, test_data_bow로 (98%, 2%의 개수) 분리해보세요."
      ]
    },
    {
      "cell_type": "code",
      "metadata": {
        "id": "dKL09gUixRtL"
      },
      "source": [
        "# train_bow_text를 train_bows, test_bows로 (98%, 2%의 개수) 분리해보세요."
      ],
      "execution_count": null,
      "outputs": []
    },
    {
      "cell_type": "code",
      "source": [
        "def getSplit(data, rate):\n",
        "  return int(len(data) * rate)\n",
        "\n",
        "upper_bound = getSplit(train_bow_text, 0.98)\n",
        "\n",
        "train_data_bow = train_bow_text[:upper_bound]\n",
        "train_answer_bow = train_bow_answer[:upper_bound]\n",
        "\n",
        "test_data_bow = train_bow_text[upper_bound:]\n",
        "test_answer_bow = train_bow_answer[upper_bound:]\n",
        "\n",
        "print(train_data_bow.shape, train_answer_bow.shape)\n",
        "print(test_data_bow.shape, test_answer_bow.shape)"
      ],
      "metadata": {
        "id": "S8kqdMdy9657",
        "colab": {
          "base_uri": "https://localhost:8080/"
        },
        "outputId": "bfad0235-c279-461d-ef87-c02802834b61"
      },
      "execution_count": null,
      "outputs": [
        {
          "output_type": "stream",
          "name": "stdout",
          "text": [
            "(49000, 8) (49000, 5)\n",
            "(1000, 8) (1000, 5)\n"
          ]
        }
      ]
    },
    {
      "cell_type": "markdown",
      "metadata": {
        "id": "SMyUArry3UhT"
      },
      "source": [
        "## Step 3. 시각화 방법"
      ]
    },
    {
      "cell_type": "markdown",
      "metadata": {
        "id": "vDLHexaGUs17"
      },
      "source": [
        "### 문제 7. train_data_bow에서 등장하는 token의 분포를 출력해보세요."
      ]
    },
    {
      "cell_type": "code",
      "metadata": {
        "id": "1NYdCv1yUsKG"
      },
      "source": [
        "#  train_data_bow에서 등장하는 token의 분포를 출력해보세요."
      ],
      "execution_count": null,
      "outputs": []
    },
    {
      "cell_type": "code",
      "source": [
        "np.unique(train_data_bow)"
      ],
      "metadata": {
        "id": "su1hunD197OO",
        "colab": {
          "base_uri": "https://localhost:8080/"
        },
        "outputId": "93a036a9-0b04-4322-f072-ed9c47feb9ae"
      },
      "execution_count": null,
      "outputs": [
        {
          "output_type": "execute_result",
          "data": {
            "text/plain": [
              "array([ 0,  1,  2,  3,  4,  5,  6,  7,  8,  9, 10, 11, 12, 13],\n",
              "      dtype=int32)"
            ]
          },
          "metadata": {},
          "execution_count": 51
        }
      ]
    },
    {
      "cell_type": "code",
      "source": [
        "digits, count = np.unique(train_data_bow, return_counts=True)\n",
        "plt.bar(digits, count)\n",
        "plt.show()"
      ],
      "metadata": {
        "colab": {
          "base_uri": "https://localhost:8080/",
          "height": 265
        },
        "id": "K-2gfhHQwkAk",
        "outputId": "7431996f-340f-4d10-a9f3-49d7b209b7fd"
      },
      "execution_count": null,
      "outputs": [
        {
          "output_type": "display_data",
          "data": {
            "image/png": "[encoded data removed]",
            "text/plain": [
              "<Figure size 432x288 with 1 Axes>"
            ]
          },
          "metadata": {
            "needs_background": "light"
          }
        }
      ]
    },
    {
      "cell_type": "markdown",
      "metadata": {
        "id": "ZVFMAQsqzVu0"
      },
      "source": [
        "### 문제 8. train_answer_bow에서 등장하는 token의 분포를 출력해보세요."
      ]
    },
    {
      "cell_type": "code",
      "metadata": {
        "id": "F2a4bsnyzVu1"
      },
      "source": [
        "#  train_answer_bow에서 등장하는 token의 분포를 출력해보세요."
      ],
      "execution_count": null,
      "outputs": []
    },
    {
      "cell_type": "code",
      "source": [
        "digits, count = np.unique(train_answer_bow, return_counts=True)\n",
        "plt.bar(digits, count)\n",
        "plt.show()"
      ],
      "metadata": {
        "id": "tVvnngBU97hx",
        "colab": {
          "base_uri": "https://localhost:8080/",
          "height": 265
        },
        "outputId": "c453423d-0033-433c-c280-be51905f711b"
      },
      "execution_count": null,
      "outputs": [
        {
          "output_type": "display_data",
          "data": {
            "image/png": "[encoded data removed]",
            "text/plain": [
              "<Figure size 432x288 with 1 Axes>"
            ]
          },
          "metadata": {
            "needs_background": "light"
          }
        }
      ]
    },
    {
      "cell_type": "markdown",
      "metadata": {
        "id": "pskeB9JvzNGz"
      },
      "source": [
        "## Step 4. Seq2Seq용 입출력 보정"
      ]
    },
    {
      "cell_type": "markdown",
      "metadata": {
        "id": "SLIaQfQASJdV"
      },
      "source": [
        "### 문제 9. train/test_answer_bow를 한쪽씩 당겨서 decoder에 주입시킬 데이터를 생성해보세요."
      ]
    },
    {
      "cell_type": "markdown",
      "source": [
        "decoder 입력 데이터 만들기  \n",
        "뒤에 붙은 EOS 빼고 앞에 (SOS 대신)PAD 추가"
      ],
      "metadata": {
        "id": "loabrbJo0ZCt"
      }
    },
    {
      "cell_type": "code",
      "metadata": {
        "id": "tRvYANsEYKF9"
      },
      "source": [
        "# train/test_answer_bow를 한쪽씩 당겨서 decoder에 주입시킬 데이터를 생성해보세요."
      ],
      "execution_count": null,
      "outputs": []
    },
    {
      "cell_type": "code",
      "source": [
        "train_answer_bow.shape"
      ],
      "metadata": {
        "id": "33SQH-8g972b",
        "colab": {
          "base_uri": "https://localhost:8080/"
        },
        "outputId": "e1de7a8f-f8ac-4966-c33a-59e8f8d486f4"
      },
      "execution_count": null,
      "outputs": [
        {
          "output_type": "execute_result",
          "data": {
            "text/plain": [
              "(49000, 5)"
            ]
          },
          "metadata": {},
          "execution_count": 62
        }
      ]
    },
    {
      "cell_type": "code",
      "source": [
        "np.ones( (train_answer_bow.shape[0], 1)) * vocab['PAD']"
      ],
      "metadata": {
        "colab": {
          "base_uri": "https://localhost:8080/"
        },
        "id": "RKocWnjfyY92",
        "outputId": "e22e7a8c-19ef-4ce7-99af-9ba12921a1ff"
      },
      "execution_count": null,
      "outputs": [
        {
          "output_type": "execute_result",
          "data": {
            "text/plain": [
              "array([[12.],\n",
              "       [12.],\n",
              "       [12.],\n",
              "       ...,\n",
              "       [12.],\n",
              "       [12.],\n",
              "       [12.]])"
            ]
          },
          "metadata": {},
          "execution_count": 76
        }
      ]
    },
    {
      "cell_type": "code",
      "source": [
        "np.concatenate([np.ones( (train_answer_bow.shape[0], 1)) * vocab['PAD'], train_answer_bow[...,:-1]], axis=1).shape"
      ],
      "metadata": {
        "colab": {
          "base_uri": "https://localhost:8080/"
        },
        "id": "q2xfO32Bzp17",
        "outputId": "8bd0047e-7ec0-4616-d064-331e8276747c"
      },
      "execution_count": null,
      "outputs": [
        {
          "output_type": "execute_result",
          "data": {
            "text/plain": [
              "(49000, 5)"
            ]
          },
          "metadata": {},
          "execution_count": 77
        }
      ]
    },
    {
      "cell_type": "code",
      "source": [
        "train_shift_answer_bow = np.concatenate([np.ones( (train_answer_bow.shape[0], 1)) * vocab['PAD'], train_answer_bow[...,:-1]], axis=1)\n",
        "test_shift_answer_bow = np.concatenate([np.ones( (test_answer_bow.shape[0], 1)) * vocab['PAD'], test_answer_bow[...,:-1]], axis=1)"
      ],
      "metadata": {
        "id": "Z9I2OLEZz4-0"
      },
      "execution_count": null,
      "outputs": []
    },
    {
      "cell_type": "code",
      "source": [
        "train_shift_answer_bow.shape, test_shift_answer_bow.shape"
      ],
      "metadata": {
        "colab": {
          "base_uri": "https://localhost:8080/"
        },
        "id": "tLlet_3f0Gy9",
        "outputId": "110c8188-3ed1-4acd-b2f5-93d940c6b9b3"
      },
      "execution_count": null,
      "outputs": [
        {
          "output_type": "execute_result",
          "data": {
            "text/plain": [
              "((49000, 5), (1000, 5))"
            ]
          },
          "metadata": {},
          "execution_count": 79
        }
      ]
    },
    {
      "cell_type": "markdown",
      "metadata": {
        "id": "ZFiV1MDxc9Ot"
      },
      "source": [
        "### 문제 10. 정답으로 처리될 train/test_answer_bow를 onehot 인코딩으로 바꾸기"
      ]
    },
    {
      "cell_type": "code",
      "metadata": {
        "id": "N4SEGuypdFJM"
      },
      "source": [
        "# train/test_answer_bow를 onehot으로 바꾸는 코드를 작성하세요(직관적으로 보기 위해 사용)"
      ],
      "execution_count": null,
      "outputs": []
    },
    {
      "cell_type": "code",
      "source": [
        "train_answer_bow.shape"
      ],
      "metadata": {
        "colab": {
          "base_uri": "https://localhost:8080/"
        },
        "id": "mAu8zvBA2n00",
        "outputId": "a52d7f40-135e-4dbc-999a-a83b47cd9039"
      },
      "execution_count": null,
      "outputs": [
        {
          "output_type": "execute_result",
          "data": {
            "text/plain": [
              "(49000, 5)"
            ]
          },
          "metadata": {},
          "execution_count": 82
        }
      ]
    },
    {
      "cell_type": "code",
      "source": [
        "tf.keras.utils.to_categorical(train_answer_bow, len(vocab))[0]"
      ],
      "metadata": {
        "id": "Iq2oEZbs98En",
        "colab": {
          "base_uri": "https://localhost:8080/"
        },
        "outputId": "acaa4c9a-26fa-48a0-8f95-550b12a3422a"
      },
      "execution_count": null,
      "outputs": [
        {
          "output_type": "execute_result",
          "data": {
            "text/plain": [
              "array([[0., 1., 0., 0., 0., 0., 0., 0., 0., 0., 0., 0., 0., 0.],\n",
              "       [0., 0., 0., 0., 1., 0., 0., 0., 0., 0., 0., 0., 0., 0.],\n",
              "       [0., 0., 0., 0., 1., 0., 0., 0., 0., 0., 0., 0., 0., 0.],\n",
              "       [0., 0., 0., 0., 0., 0., 0., 0., 0., 0., 0., 0., 0., 1.],\n",
              "       [0., 0., 0., 0., 0., 0., 0., 0., 0., 0., 0., 0., 1., 0.]],\n",
              "      dtype=float32)"
            ]
          },
          "metadata": {},
          "execution_count": 80
        }
      ]
    },
    {
      "cell_type": "code",
      "source": [
        "train_answer_onehot = tf.keras.utils.to_categorical(train_answer_bow, len(vocab))\n",
        "test_answer_onehot = tf.keras.utils.to_categorical(test_answer_bow, len(vocab))\n",
        "\n",
        "print(train_answer_onehot.shape, test_answer_onehot.shape)"
      ],
      "metadata": {
        "colab": {
          "base_uri": "https://localhost:8080/"
        },
        "id": "Ju-6DqIM2RyJ",
        "outputId": "8aea2726-9491-425b-ff66-8bc98df86b76"
      },
      "execution_count": null,
      "outputs": [
        {
          "output_type": "stream",
          "name": "stdout",
          "text": [
            "(49000, 5, 14) (1000, 5, 14)\n"
          ]
        }
      ]
    },
    {
      "cell_type": "markdown",
      "metadata": {
        "id": "ZqAmOsThgojZ"
      },
      "source": [
        "### 문제 11. data_bow, anser_bow, shift_answer_bow, onehot를 1개씩 출력해보세요."
      ]
    },
    {
      "cell_type": "code",
      "metadata": {
        "id": "3OBuVMqAg876"
      },
      "source": [
        "# data_bow, shift_answer_bow, onehot, answer_bow등을 1개씩 출력해보세요"
      ],
      "execution_count": null,
      "outputs": []
    },
    {
      "cell_type": "code",
      "source": [
        "print(train_data_bow[0], train_data_bow.shape)\n",
        "\n",
        "print(train_shift_answer_bow[0], train_shift_answer_bow.shape)\n",
        "\n",
        "print(train_answer_bow[0], train_answer_bow.shape)\n",
        "\n",
        "print(train_answer_onehot[0], train_answer_onehot.shape)"
      ],
      "metadata": {
        "id": "A-lQAtwS98XT",
        "colab": {
          "base_uri": "https://localhost:8080/"
        },
        "outputId": "659fd301-b49d-4ad0-b10d-53b3a5e2aec6"
      },
      "execution_count": null,
      "outputs": [
        {
          "output_type": "stream",
          "name": "stdout",
          "text": [
            "[12 12  6  0 10  8  4 13] (49000, 8)\n",
            "[12.  1.  4.  4. 13.] (49000, 5)\n",
            "[ 1  4  4 13 12] (49000, 5)\n",
            "[[0. 1. 0. 0. 0. 0. 0. 0. 0. 0. 0. 0. 0. 0.]\n",
            " [0. 0. 0. 0. 1. 0. 0. 0. 0. 0. 0. 0. 0. 0.]\n",
            " [0. 0. 0. 0. 1. 0. 0. 0. 0. 0. 0. 0. 0. 0.]\n",
            " [0. 0. 0. 0. 0. 0. 0. 0. 0. 0. 0. 0. 0. 1.]\n",
            " [0. 0. 0. 0. 0. 0. 0. 0. 0. 0. 0. 0. 1. 0.]] (49000, 5, 14)\n"
          ]
        }
      ]
    },
    {
      "cell_type": "markdown",
      "metadata": {
        "id": "k-eV9aAekkPG"
      },
      "source": [
        "### 문제 12. onehot를 readable하게 바꿔주는 함수를 작성해보세요."
      ]
    },
    {
      "cell_type": "code",
      "metadata": {
        "id": "Mn8HP8nez_n-"
      },
      "source": [
        "# onehot을 readable하게 바꿔주는 함수를 작성해보세요. (단, EOS는 .으로 PAD는 공백으로 전환)"
      ],
      "execution_count": null,
      "outputs": []
    },
    {
      "cell_type": "code",
      "source": [
        "def onehot2text(onehot):\n",
        "  return \"\".join(invocab[step.argmax()] for step in onehot).replace('EOS','.').replace('PAD','') # onehot의 위치를 이용하여 변경\n",
        "\n",
        "onehot2text(train_answer_onehot[0])"
      ],
      "metadata": {
        "id": "A7ovOwCb98qy",
        "colab": {
          "base_uri": "https://localhost:8080/",
          "height": 36
        },
        "outputId": "6f008aac-f0b2-40b0-c5f6-f63180b1b126"
      },
      "execution_count": null,
      "outputs": [
        {
          "output_type": "execute_result",
          "data": {
            "application/vnd.google.colaboratory.intrinsic+json": {
              "type": "string"
            },
            "text/plain": [
              "'144.'"
            ]
          },
          "metadata": {},
          "execution_count": 87
        }
      ]
    },
    {
      "cell_type": "code",
      "source": [
        "train_text[0]"
      ],
      "metadata": {
        "colab": {
          "base_uri": "https://localhost:8080/",
          "height": 36
        },
        "id": "JFqCpxFT4RBw",
        "outputId": "7b8478fb-1d0d-45a5-9b3f-ba1acdf4cb27"
      },
      "execution_count": null,
      "outputs": [
        {
          "output_type": "execute_result",
          "data": {
            "application/vnd.google.colaboratory.intrinsic+json": {
              "type": "string"
            },
            "text/plain": [
              "'60 + 84'"
            ]
          },
          "metadata": {},
          "execution_count": 88
        }
      ]
    },
    {
      "cell_type": "markdown",
      "metadata": {
        "id": "sG5Mc0Kll-LS"
      },
      "source": [
        "### 문제 13. bow를 readable하게 바꿔주는 함수를 작성해보세요."
      ]
    },
    {
      "cell_type": "code",
      "metadata": {
        "id": "mvYzrYMqmLts"
      },
      "source": [
        "# bow를 readable하게 바꿔주는 함수를 작성해보세요. (단, EOS는 .으로 PAD는 _으로 전환)"
      ],
      "execution_count": null,
      "outputs": []
    },
    {
      "cell_type": "code",
      "source": [
        "def bow2text(bow):\n",
        "  return \"\".join(invocab[step] for step in bow).replace('EOS','.').replace('PAD','')\n",
        "\n",
        "bow2text(train_data_bow[0])"
      ],
      "metadata": {
        "id": "61fyreO8988R",
        "colab": {
          "base_uri": "https://localhost:8080/",
          "height": 36
        },
        "outputId": "55673dcf-5d87-4375-b98d-e4ae4bff5377"
      },
      "execution_count": null,
      "outputs": [
        {
          "output_type": "execute_result",
          "data": {
            "application/vnd.google.colaboratory.intrinsic+json": {
              "type": "string"
            },
            "text/plain": [
              "'60+84.'"
            ]
          },
          "metadata": {},
          "execution_count": 89
        }
      ]
    },
    {
      "cell_type": "code",
      "source": [
        "bow2text(train_answer_bow[0])"
      ],
      "metadata": {
        "colab": {
          "base_uri": "https://localhost:8080/",
          "height": 36
        },
        "id": "Q1CjC8gp4hCm",
        "outputId": "738150ed-49b4-4f65-d267-ca2391c61db3"
      },
      "execution_count": null,
      "outputs": [
        {
          "output_type": "execute_result",
          "data": {
            "application/vnd.google.colaboratory.intrinsic+json": {
              "type": "string"
            },
            "text/plain": [
              "'144.'"
            ]
          },
          "metadata": {},
          "execution_count": 90
        }
      ]
    },
    {
      "cell_type": "code",
      "source": [
        "bow2text(train_shift_answer_bow[0])"
      ],
      "metadata": {
        "colab": {
          "base_uri": "https://localhost:8080/",
          "height": 36
        },
        "id": "BO4nkbxs4k6c",
        "outputId": "4d9e35d4-a9f3-4574-80a1-2b1643c0e279"
      },
      "execution_count": null,
      "outputs": [
        {
          "output_type": "execute_result",
          "data": {
            "application/vnd.google.colaboratory.intrinsic+json": {
              "type": "string"
            },
            "text/plain": [
              "'144.'"
            ]
          },
          "metadata": {},
          "execution_count": 92
        }
      ]
    },
    {
      "cell_type": "markdown",
      "metadata": {
        "id": "SS-jypo11pEt"
      },
      "source": [
        "## Step 5. Seq2Seq 모델링"
      ]
    },
    {
      "cell_type": "markdown",
      "metadata": {
        "id": "JEy2Yz2dRt3S"
      },
      "source": [
        "### 문제 14. Seq2Seq 모델 구축"
      ]
    },
    {
      "cell_type": "code",
      "metadata": {
        "id": "rDWsD2haRz4y"
      },
      "source": [
        "# seq2seq 모델을 구축하고 학습모델, encoder, decoder를 획득하세요"
      ],
      "execution_count": null,
      "outputs": []
    },
    {
      "cell_type": "code",
      "source": [
        "from keras.layers import Input, Embedding, GRU, Dense\n",
        "from keras.models import Model\n",
        "\n",
        "# 모델, 인코더, 디코더를 반환\n",
        "def seq2seq():\n",
        "  # Encoder\n",
        "  inputs_x_bow = Input((8)) # train_data_bow\n",
        "\n",
        "  embedding = Embedding(len(vocab), 5) # layer / 5개로 압축된 output 반환 / 학습 시 Encoder, Decoder가 weight를 공유\n",
        "\n",
        "  x = embedding(inputs_x_bow)\n",
        "  z = GRU(16)(x) # z는 context\n",
        "\n",
        "  # Decoder\n",
        "  inputs_y_bow = Input(shape=(5,)) # train_shift_answer_bow\n",
        "\n",
        "  y = embedding(inputs_y_bow)\n",
        "\n",
        "  gru = GRU(16, return_sequences=True) # layer / return_sequences -> 하나씩 나오도록\n",
        "\n",
        "  y = gru(y, initial_state=z) # initial_state -> context 넣어주기\n",
        "\n",
        "  softmax = Dense(len(vocab), activation='softmax') # layer\n",
        "\n",
        "  y = softmax(y)\n",
        "\n",
        "  # Model\n",
        "  model = Model([inputs_x_bow, inputs_y_bow], y) # [encoder입력, decoder입력], 출력\n",
        "  model.compile(optimizer='adam', loss='categorical_crossentropy', metrics='accuracy')\n",
        "\n",
        "  # Encoder_model\n",
        "  encoder = Model(inputs_x_bow, z)\n",
        "\n",
        "  # Decoder_model(학습이 아닌 실제 사용 / 1개의 값이 들어가서 1개의 값을 출력)\n",
        "  inputs_y_dec = Input(shape=(1,))\n",
        "  y2 = embedding(inputs_y_dec)\n",
        "  inputs_z = Input(shape=(16,))\n",
        "  \n",
        "  h2 = gru(y2, initial_state=inputs_z)\n",
        "  y2 = softmax(h2)\n",
        "\n",
        "  decoder = Model([inputs_y_dec, inputs_z], [y2, h2])\n",
        "  return model, encoder, decoder"
      ],
      "metadata": {
        "id": "QDh9ewoX99PF"
      },
      "execution_count": null,
      "outputs": []
    },
    {
      "cell_type": "markdown",
      "metadata": {
        "id": "3ZWybbgyfeh-"
      },
      "source": [
        "### 문제 15. 학습 모델을 생성하고 summary를 출력하세요. "
      ]
    },
    {
      "cell_type": "code",
      "metadata": {
        "id": "x0IFoo-Yfxfp"
      },
      "source": [
        "# 학습 모델을 생성하고 summary를 출력하세요."
      ],
      "execution_count": null,
      "outputs": []
    },
    {
      "cell_type": "code",
      "source": [
        "model, encoder, decoder = seq2seq()"
      ],
      "metadata": {
        "id": "z_HTQyTl_Z-n"
      },
      "execution_count": null,
      "outputs": []
    },
    {
      "cell_type": "code",
      "source": [
        "model.summary()"
      ],
      "metadata": {
        "colab": {
          "base_uri": "https://localhost:8080/"
        },
        "id": "3zCAgFT3_kz2",
        "outputId": "a52fbe13-eadc-431a-c883-9554aa28a483"
      },
      "execution_count": null,
      "outputs": [
        {
          "output_type": "stream",
          "name": "stdout",
          "text": [
            "Model: \"model_8\"\n",
            "__________________________________________________________________________________________________\n",
            " Layer (type)                   Output Shape         Param #     Connected to                     \n",
            "==================================================================================================\n",
            " input_16 (InputLayer)          [(None, 5)]          0           []                               \n",
            "                                                                                                  \n",
            " input_15 (InputLayer)          [(None, 8)]          0           []                               \n",
            "                                                                                                  \n",
            " embedding_4 (Embedding)        multiple             70          ['input_15[0][0]',               \n",
            "                                                                  'input_16[0][0]']               \n",
            "                                                                                                  \n",
            " gru_8 (GRU)                    (None, 16)           1104        ['embedding_4[0][0]']            \n",
            "                                                                                                  \n",
            " gru_9 (GRU)                    multiple             1104        ['embedding_4[1][0]',            \n",
            "                                                                  'gru_8[0][0]']                  \n",
            "                                                                                                  \n",
            " dense_4 (Dense)                multiple             238         ['gru_9[0][0]']                  \n",
            "                                                                                                  \n",
            "==================================================================================================\n",
            "Total params: 2,516\n",
            "Trainable params: 2,516\n",
            "Non-trainable params: 0\n",
            "__________________________________________________________________________________________________\n"
          ]
        }
      ]
    },
    {
      "cell_type": "markdown",
      "metadata": {
        "id": "_zJuzRvigNun"
      },
      "source": [
        "### 문제 16. encoder, decoder에 대한 summary를 출력하세요."
      ]
    },
    {
      "cell_type": "code",
      "metadata": {
        "id": "rilgQduwgS_m"
      },
      "source": [
        " # encoder, decoder에 대한 summary를 출력하세요."
      ],
      "execution_count": null,
      "outputs": []
    },
    {
      "cell_type": "code",
      "source": [
        "encoder.summary(), decoder.summary()"
      ],
      "metadata": {
        "id": "lSnFokSM9-5K",
        "colab": {
          "base_uri": "https://localhost:8080/"
        },
        "outputId": "9a140020-4863-4633-fd28-c067c137d7b0"
      },
      "execution_count": null,
      "outputs": [
        {
          "output_type": "stream",
          "name": "stdout",
          "text": [
            "Model: \"model_9\"\n",
            "_________________________________________________________________\n",
            " Layer (type)                Output Shape              Param #   \n",
            "=================================================================\n",
            " input_15 (InputLayer)       [(None, 8)]               0         \n",
            "                                                                 \n",
            " embedding_4 (Embedding)     multiple                  70        \n",
            "                                                                 \n",
            " gru_8 (GRU)                 (None, 16)                1104      \n",
            "                                                                 \n",
            "=================================================================\n",
            "Total params: 1,174\n",
            "Trainable params: 1,174\n",
            "Non-trainable params: 0\n",
            "_________________________________________________________________\n",
            "Model: \"model_10\"\n",
            "__________________________________________________________________________________________________\n",
            " Layer (type)                   Output Shape         Param #     Connected to                     \n",
            "==================================================================================================\n",
            " input_17 (InputLayer)          [(None, 1)]          0           []                               \n",
            "                                                                                                  \n",
            " embedding_4 (Embedding)        multiple             70          ['input_17[0][0]']               \n",
            "                                                                                                  \n",
            " input_18 (InputLayer)          [(None, 16)]         0           []                               \n",
            "                                                                                                  \n",
            " gru_9 (GRU)                    multiple             1104        ['embedding_4[2][0]',            \n",
            "                                                                  'input_18[0][0]']               \n",
            "                                                                                                  \n",
            " dense_4 (Dense)                multiple             238         ['gru_9[1][0]']                  \n",
            "                                                                                                  \n",
            "==================================================================================================\n",
            "Total params: 1,412\n",
            "Trainable params: 1,412\n",
            "Non-trainable params: 0\n",
            "__________________________________________________________________________________________________\n"
          ]
        },
        {
          "output_type": "execute_result",
          "data": {
            "text/plain": [
              "(None, None)"
            ]
          },
          "metadata": {},
          "execution_count": 102
        }
      ]
    },
    {
      "cell_type": "markdown",
      "metadata": {
        "id": "7OpFGbD6V8Zl"
      },
      "source": [
        "### 문제 17. 학습모델을 학습해보세요."
      ]
    },
    {
      "cell_type": "code",
      "metadata": {
        "id": "sFOJNRTvYo7d"
      },
      "source": [
        "# 학습모델을 학습해보세요."
      ],
      "execution_count": null,
      "outputs": []
    },
    {
      "cell_type": "code",
      "source": [
        "hist = model.fit([train_data_bow, train_shift_answer_bow], train_answer_onehot,\n",
        "          validation_data = ([test_data_bow, test_shift_answer_bow], test_answer_onehot),\n",
        "          epochs = 60, verbose=1)"
      ],
      "metadata": {
        "id": "N3UdepBC9_Ud",
        "colab": {
          "base_uri": "https://localhost:8080/"
        },
        "outputId": "ec68018a-ab90-401b-b602-2386a63a13dd"
      },
      "execution_count": null,
      "outputs": [
        {
          "output_type": "stream",
          "name": "stdout",
          "text": [
            "Epoch 1/60\n",
            "1532/1532 [==============================] - 28s 10ms/step - loss: 1.2076 - accuracy: 0.5995 - val_loss: 0.9870 - val_accuracy: 0.6526\n",
            "Epoch 2/60\n",
            "1532/1532 [==============================] - 17s 11ms/step - loss: 0.9013 - accuracy: 0.6704 - val_loss: 0.8482 - val_accuracy: 0.6798\n",
            "Epoch 3/60\n",
            "1532/1532 [==============================] - 21s 14ms/step - loss: 0.8093 - accuracy: 0.7021 - val_loss: 0.7676 - val_accuracy: 0.7228\n",
            "Epoch 4/60\n",
            "1532/1532 [==============================] - 17s 11ms/step - loss: 0.7256 - accuracy: 0.7497 - val_loss: 0.6833 - val_accuracy: 0.7668\n",
            "Epoch 5/60\n",
            "1532/1532 [==============================] - 14s 9ms/step - loss: 0.6518 - accuracy: 0.7803 - val_loss: 0.6233 - val_accuracy: 0.7856\n",
            "Epoch 6/60\n",
            "1532/1532 [==============================] - 15s 10ms/step - loss: 0.6018 - accuracy: 0.7906 - val_loss: 0.5782 - val_accuracy: 0.7924\n",
            "Epoch 7/60\n",
            "1532/1532 [==============================] - 14s 9ms/step - loss: 0.5600 - accuracy: 0.8021 - val_loss: 0.5367 - val_accuracy: 0.8038\n",
            "Epoch 8/60\n",
            "1532/1532 [==============================] - 14s 9ms/step - loss: 0.5253 - accuracy: 0.8143 - val_loss: 0.5014 - val_accuracy: 0.8216\n",
            "Epoch 9/60\n",
            "1532/1532 [==============================] - 14s 9ms/step - loss: 0.4968 - accuracy: 0.8222 - val_loss: 0.4766 - val_accuracy: 0.8232\n",
            "Epoch 10/60\n",
            "1532/1532 [==============================] - 14s 9ms/step - loss: 0.4692 - accuracy: 0.8311 - val_loss: 0.4556 - val_accuracy: 0.8340\n",
            "Epoch 11/60\n",
            "1532/1532 [==============================] - 13s 9ms/step - loss: 0.4447 - accuracy: 0.8383 - val_loss: 0.4409 - val_accuracy: 0.8318\n",
            "Epoch 12/60\n",
            "1532/1532 [==============================] - 14s 9ms/step - loss: 0.4229 - accuracy: 0.8450 - val_loss: 0.4415 - val_accuracy: 0.8334\n",
            "Epoch 13/60\n",
            "1532/1532 [==============================] - 14s 9ms/step - loss: 0.4037 - accuracy: 0.8520 - val_loss: 0.3924 - val_accuracy: 0.8586\n",
            "Epoch 14/60\n",
            "1532/1532 [==============================] - 14s 9ms/step - loss: 0.3881 - accuracy: 0.8572 - val_loss: 0.4160 - val_accuracy: 0.8364\n",
            "Epoch 15/60\n",
            "1532/1532 [==============================] - 14s 9ms/step - loss: 0.3759 - accuracy: 0.8616 - val_loss: 0.3861 - val_accuracy: 0.8598\n",
            "Epoch 16/60\n",
            "1532/1532 [==============================] - 14s 9ms/step - loss: 0.3645 - accuracy: 0.8655 - val_loss: 0.3576 - val_accuracy: 0.8624\n",
            "Epoch 17/60\n",
            "1532/1532 [==============================] - 14s 9ms/step - loss: 0.3527 - accuracy: 0.8699 - val_loss: 0.3441 - val_accuracy: 0.8692\n",
            "Epoch 18/60\n",
            "1532/1532 [==============================] - 14s 9ms/step - loss: 0.3448 - accuracy: 0.8717 - val_loss: 0.3431 - val_accuracy: 0.8666\n",
            "Epoch 19/60\n",
            "1532/1532 [==============================] - 16s 11ms/step - loss: 0.3372 - accuracy: 0.8740 - val_loss: 0.3321 - val_accuracy: 0.8804\n",
            "Epoch 20/60\n",
            "1532/1532 [==============================] - 15s 10ms/step - loss: 0.3280 - accuracy: 0.8793 - val_loss: 0.3348 - val_accuracy: 0.8694\n",
            "Epoch 21/60\n",
            "1532/1532 [==============================] - 18s 12ms/step - loss: 0.3217 - accuracy: 0.8807 - val_loss: 0.3312 - val_accuracy: 0.8746\n",
            "Epoch 22/60\n",
            "1532/1532 [==============================] - 14s 9ms/step - loss: 0.3159 - accuracy: 0.8828 - val_loss: 0.4063 - val_accuracy: 0.8438\n",
            "Epoch 23/60\n",
            "1532/1532 [==============================] - 15s 10ms/step - loss: 0.3083 - accuracy: 0.8865 - val_loss: 0.3130 - val_accuracy: 0.8832\n",
            "Epoch 24/60\n",
            "1532/1532 [==============================] - 14s 9ms/step - loss: 0.3023 - accuracy: 0.8894 - val_loss: 0.2958 - val_accuracy: 0.8940\n",
            "Epoch 25/60\n",
            "1532/1532 [==============================] - 16s 10ms/step - loss: 0.2968 - accuracy: 0.8925 - val_loss: 0.3042 - val_accuracy: 0.8808\n",
            "Epoch 26/60\n",
            "1532/1532 [==============================] - 15s 10ms/step - loss: 0.2923 - accuracy: 0.8940 - val_loss: 0.3002 - val_accuracy: 0.8842\n",
            "Epoch 27/60\n",
            "1532/1532 [==============================] - 14s 9ms/step - loss: 0.2862 - accuracy: 0.8965 - val_loss: 0.2930 - val_accuracy: 0.8908\n",
            "Epoch 28/60\n",
            "1532/1532 [==============================] - 15s 10ms/step - loss: 0.2855 - accuracy: 0.8956 - val_loss: 0.2782 - val_accuracy: 0.9038\n",
            "Epoch 29/60\n",
            "1532/1532 [==============================] - 15s 10ms/step - loss: 0.2771 - accuracy: 0.9002 - val_loss: 0.2943 - val_accuracy: 0.8840\n",
            "Epoch 30/60\n",
            "1532/1532 [==============================] - 14s 9ms/step - loss: 0.2746 - accuracy: 0.9003 - val_loss: 0.2756 - val_accuracy: 0.9016\n",
            "Epoch 31/60\n",
            "1532/1532 [==============================] - 14s 9ms/step - loss: 0.2695 - accuracy: 0.9032 - val_loss: 0.2562 - val_accuracy: 0.9202\n",
            "Epoch 32/60\n",
            "1532/1532 [==============================] - 14s 9ms/step - loss: 0.2669 - accuracy: 0.9044 - val_loss: 0.2501 - val_accuracy: 0.9242\n",
            "Epoch 33/60\n",
            "1532/1532 [==============================] - 17s 11ms/step - loss: 0.2627 - accuracy: 0.9051 - val_loss: 0.2797 - val_accuracy: 0.8978\n",
            "Epoch 34/60\n",
            "1532/1532 [==============================] - 16s 10ms/step - loss: 0.2582 - accuracy: 0.9082 - val_loss: 0.2672 - val_accuracy: 0.9008\n",
            "Epoch 35/60\n",
            "1532/1532 [==============================] - 14s 9ms/step - loss: 0.2575 - accuracy: 0.9077 - val_loss: 0.2524 - val_accuracy: 0.9154\n",
            "Epoch 36/60\n",
            "1532/1532 [==============================] - 15s 10ms/step - loss: 0.2557 - accuracy: 0.9085 - val_loss: 0.2605 - val_accuracy: 0.8978\n",
            "Epoch 37/60\n",
            "1532/1532 [==============================] - 15s 10ms/step - loss: 0.2522 - accuracy: 0.9103 - val_loss: 0.2524 - val_accuracy: 0.9120\n",
            "Epoch 38/60\n",
            "1532/1532 [==============================] - 15s 10ms/step - loss: 0.2459 - accuracy: 0.9129 - val_loss: 0.2333 - val_accuracy: 0.9270\n",
            "Epoch 39/60\n",
            "1532/1532 [==============================] - 14s 9ms/step - loss: 0.2444 - accuracy: 0.9145 - val_loss: 0.2575 - val_accuracy: 0.8978\n",
            "Epoch 40/60\n",
            "1532/1532 [==============================] - 16s 10ms/step - loss: 0.2437 - accuracy: 0.9132 - val_loss: 0.2352 - val_accuracy: 0.9216\n",
            "Epoch 41/60\n",
            "1532/1532 [==============================] - 15s 10ms/step - loss: 0.2397 - accuracy: 0.9155 - val_loss: 0.2255 - val_accuracy: 0.9342\n",
            "Epoch 42/60\n",
            "1532/1532 [==============================] - 18s 12ms/step - loss: 0.2375 - accuracy: 0.9165 - val_loss: 0.2208 - val_accuracy: 0.9312\n",
            "Epoch 43/60\n",
            "1532/1532 [==============================] - 15s 10ms/step - loss: 0.2352 - accuracy: 0.9179 - val_loss: 0.2349 - val_accuracy: 0.9120\n",
            "Epoch 44/60\n",
            "1532/1532 [==============================] - 17s 11ms/step - loss: 0.2333 - accuracy: 0.9185 - val_loss: 0.2216 - val_accuracy: 0.9316\n",
            "Epoch 45/60\n",
            "1532/1532 [==============================] - 14s 9ms/step - loss: 0.2313 - accuracy: 0.9199 - val_loss: 0.2340 - val_accuracy: 0.9174\n",
            "Epoch 46/60\n",
            "1532/1532 [==============================] - 16s 11ms/step - loss: 0.2261 - accuracy: 0.9213 - val_loss: 0.2167 - val_accuracy: 0.9314\n",
            "Epoch 47/60\n",
            "1532/1532 [==============================] - 14s 9ms/step - loss: 0.2240 - accuracy: 0.9225 - val_loss: 0.2611 - val_accuracy: 0.8870\n",
            "Epoch 48/60\n",
            "1532/1532 [==============================] - 14s 9ms/step - loss: 0.2216 - accuracy: 0.9250 - val_loss: 0.2282 - val_accuracy: 0.9220\n",
            "Epoch 49/60\n",
            "1532/1532 [==============================] - 14s 9ms/step - loss: 0.2204 - accuracy: 0.9233 - val_loss: 0.2253 - val_accuracy: 0.9174\n",
            "Epoch 50/60\n",
            "1532/1532 [==============================] - 14s 9ms/step - loss: 0.2178 - accuracy: 0.9253 - val_loss: 0.2091 - val_accuracy: 0.9264\n",
            "Epoch 51/60\n",
            "1532/1532 [==============================] - 14s 9ms/step - loss: 0.2161 - accuracy: 0.9256 - val_loss: 0.2116 - val_accuracy: 0.9252\n",
            "Epoch 52/60\n",
            "1532/1532 [==============================] - 14s 9ms/step - loss: 0.2118 - accuracy: 0.9284 - val_loss: 0.2233 - val_accuracy: 0.9170\n",
            "Epoch 53/60\n",
            "1532/1532 [==============================] - 15s 9ms/step - loss: 0.2166 - accuracy: 0.9241 - val_loss: 0.2027 - val_accuracy: 0.9312\n",
            "Epoch 54/60\n",
            "1532/1532 [==============================] - 14s 9ms/step - loss: 0.2094 - accuracy: 0.9301 - val_loss: 0.2064 - val_accuracy: 0.9274\n",
            "Epoch 55/60\n",
            "1532/1532 [==============================] - 14s 9ms/step - loss: 0.2091 - accuracy: 0.9293 - val_loss: 0.2143 - val_accuracy: 0.9174\n",
            "Epoch 56/60\n",
            "1532/1532 [==============================] - 15s 10ms/step - loss: 0.2045 - accuracy: 0.9315 - val_loss: 0.1906 - val_accuracy: 0.9442\n",
            "Epoch 57/60\n",
            "1532/1532 [==============================] - 18s 12ms/step - loss: 0.2062 - accuracy: 0.9294 - val_loss: 0.1849 - val_accuracy: 0.9464\n",
            "Epoch 58/60\n",
            "1532/1532 [==============================] - 19s 12ms/step - loss: 0.1996 - accuracy: 0.9342 - val_loss: 0.1872 - val_accuracy: 0.9392\n",
            "Epoch 59/60\n",
            "1532/1532 [==============================] - 17s 11ms/step - loss: 0.2030 - accuracy: 0.9304 - val_loss: 0.1860 - val_accuracy: 0.9412\n",
            "Epoch 60/60\n",
            "1532/1532 [==============================] - 16s 10ms/step - loss: 0.1951 - accuracy: 0.9367 - val_loss: 0.1809 - val_accuracy: 0.9478\n"
          ]
        }
      ]
    },
    {
      "cell_type": "markdown",
      "metadata": {
        "id": "-2fgZVGdNU6a"
      },
      "source": [
        "### 문제 18. 학습 진행 사항을 plt으로 출력하세요."
      ]
    },
    {
      "cell_type": "code",
      "metadata": {
        "id": "W4IStqFmNU6a"
      },
      "source": [
        "# hist의 accuracy와 loss를 plt의 plot을 이용하여 출력하는 코드를 작성하세요."
      ],
      "execution_count": null,
      "outputs": []
    },
    {
      "cell_type": "code",
      "source": [
        "plt.plot(hist.history['accuracy'], label='acc')\n",
        "plt.plot(hist.history['loss'], label='loss')\n",
        "plt.plot(hist.history['val_accuracy'], label='val_acc')\n",
        "plt.plot(hist.history['val_loss'], label='val_loss')\n",
        "plt.legend(loc='upper left')\n",
        "plt.show()"
      ],
      "metadata": {
        "id": "hvx49O4F9_m0",
        "colab": {
          "base_uri": "https://localhost:8080/",
          "height": 265
        },
        "outputId": "38612247-b0cf-4d22-99a0-f81dbb99a290"
      },
      "execution_count": null,
      "outputs": [
        {
          "output_type": "display_data",
          "data": {
            "image/png": "[encoded data removed]",
            "text/plain": [
              "<Figure size 432x288 with 1 Axes>"
            ]
          },
          "metadata": {
            "needs_background": "light"
          }
        }
      ]
    },
    {
      "cell_type": "markdown",
      "metadata": {
        "id": "ZNI00Lzv1y4S"
      },
      "source": [
        "## Step 6. 모델 결과 확인"
      ]
    },
    {
      "cell_type": "markdown",
      "metadata": {
        "id": "W_xsByHegZhh"
      },
      "source": [
        "### 문제 19. plain2bow를 이용하여 encoder에 bow를 주입하고 z를 받아보세요."
      ]
    },
    {
      "cell_type": "code",
      "metadata": {
        "id": "Y88qmAVChg_Z"
      },
      "source": [
        "# plain2bow를 이용하여 encoder에 bow를 주입하고 z를 받아보세요."
      ],
      "execution_count": null,
      "outputs": []
    },
    {
      "cell_type": "code",
      "source": [
        "bow = plain2bow('11 - 11', vocab)\n",
        "bow = tf.keras.preprocessing.sequence.pad_sequences(bow[np.newaxis,:], value=vocab['PAD'], maxlen=8)\n",
        "\n",
        "z = encoder(bow)\n",
        "print(bow.shape, bow)\n",
        "print(z.shape, z)"
      ],
      "metadata": {
        "colab": {
          "base_uri": "https://localhost:8080/"
        },
        "id": "AVEKgj1BGnvV",
        "outputId": "0228ecd6-df49-45df-a492-d361220d21f3"
      },
      "execution_count": null,
      "outputs": [
        {
          "output_type": "stream",
          "name": "stdout",
          "text": [
            "(1, 8) [[12 12  1  1 11  1  1 13]]\n",
            "(1, 16) tf.Tensor(\n",
            "[[ 0.9066521  -0.5893686   0.22107495  0.99867195  0.99761087 -0.97939783\n",
            "   0.949906    0.2413212  -0.878217   -0.72362536  0.37907773  0.975865\n",
            "   0.68565875  0.40520516 -0.9749704   0.88576955]], shape=(1, 16), dtype=float32)\n"
          ]
        }
      ]
    },
    {
      "cell_type": "code",
      "source": [
        "bow = plain2bow('11 + 11', vocab)\n",
        "bow = tf.keras.preprocessing.sequence.pad_sequences(bow[np.newaxis,:], value=vocab['PAD'], maxlen=8)\n",
        "# bow[np.newaxis,:] 배치 차원 추가\n",
        "\n",
        "z = encoder(bow)\n",
        "print(bow.shape, bow)\n",
        "print(z.shape, z)"
      ],
      "metadata": {
        "colab": {
          "base_uri": "https://localhost:8080/"
        },
        "id": "shFlMeZaI2f0",
        "outputId": "a3303887-b511-4081-ed50-345e10f65c89"
      },
      "execution_count": null,
      "outputs": [
        {
          "output_type": "stream",
          "name": "stdout",
          "text": [
            "(1, 8) [[12 12  1  1 10  1  1 13]]\n",
            "(1, 16) tf.Tensor(\n",
            "[[ 0.8923364  -0.75816506  0.06385177  0.9611776   0.99458027 -0.9832454\n",
            "   0.53518283  0.762833   -0.39631528 -0.8779046   0.46811435 -0.80561763\n",
            "  -0.74412864 -0.95548713 -0.94079995  0.9085722 ]], shape=(1, 16), dtype=float32)\n"
          ]
        }
      ]
    },
    {
      "cell_type": "markdown",
      "metadata": {
        "id": "zQgQKKCTpv99"
      },
      "source": [
        "### 문제 20. z와 PAD를 이용하여 첫번째 decoder 값을 획득해보세요."
      ]
    },
    {
      "cell_type": "code",
      "metadata": {
        "id": "7TqsGxqogZI0"
      },
      "source": [
        "# z와 PAD를 이용하여 첫번째 decoder 값을 획득해보세요."
      ],
      "execution_count": null,
      "outputs": []
    },
    {
      "cell_type": "code",
      "source": [
        "init = np.array([vocab['PAD']])\n",
        "\n",
        "first_pred, first_z = decoder([init, z])\n",
        "\n",
        "print(first_pred)\n",
        "print(first_z)"
      ],
      "metadata": {
        "id": "yffrvBTH-ALX",
        "colab": {
          "base_uri": "https://localhost:8080/"
        },
        "outputId": "4223eecc-5c89-438f-d87d-ca26075639ce"
      },
      "execution_count": null,
      "outputs": [
        {
          "output_type": "stream",
          "name": "stdout",
          "text": [
            "tf.Tensor(\n",
            "[[[7.7209031e-11 1.1359142e-02 9.8588252e-01 2.7391121e-03 7.8580285e-08\n",
            "   4.9531185e-10 1.1274767e-09 8.7143306e-09 8.3829569e-08 1.9052148e-05\n",
            "   1.6200855e-14 3.6007826e-13 1.1894596e-23 2.1625104e-23]]], shape=(1, 1, 14), dtype=float32)\n",
            "tf.Tensor(\n",
            "[[[ 0.9999982  -0.9999453   0.9691594   0.98565716  0.9944952\n",
            "    0.54233915  0.83479154 -0.8547881   0.9970602  -0.72468966\n",
            "   -0.9998389   0.96553135  0.9998727  -0.9999997  -0.9983635\n",
            "   -0.6526397 ]]], shape=(1, 1, 16), dtype=float32)\n"
          ]
        }
      ]
    },
    {
      "cell_type": "markdown",
      "metadata": {
        "id": "WFZcoocOuUGz"
      },
      "source": [
        "### 문제 21. first_pred에 값이 가장 큰 index를 이용하여 문자로 decoding 하세요."
      ]
    },
    {
      "cell_type": "code",
      "metadata": {
        "id": "ah10xq-vudTi"
      },
      "source": [
        "# first_pred에 값이 가장 큰 index를 이용하여 문자로 decoding 하세요."
      ],
      "execution_count": null,
      "outputs": []
    },
    {
      "cell_type": "code",
      "source": [
        "np.array(first_pred).argmax()"
      ],
      "metadata": {
        "id": "3L1x8CLi-AiP",
        "colab": {
          "base_uri": "https://localhost:8080/"
        },
        "outputId": "3801dde8-5503-4b89-e40a-7462c04fa142"
      },
      "execution_count": null,
      "outputs": [
        {
          "output_type": "execute_result",
          "data": {
            "text/plain": [
              "2"
            ]
          },
          "metadata": {},
          "execution_count": 139
        }
      ]
    },
    {
      "cell_type": "markdown",
      "metadata": {
        "id": "ZlWVzDUirkrQ"
      },
      "source": [
        "### 문제 22. first_z와 first_pred를 이용해서 second_pred를 획득하고 문자로 decoding 해보세요."
      ]
    },
    {
      "cell_type": "code",
      "metadata": {
        "id": "bGy2_g97rwhK"
      },
      "source": [
        "# first_z와 first_pred를 이용해서 second_pred를 획득하고 문자로 decoding 해보세요."
      ],
      "execution_count": null,
      "outputs": []
    },
    {
      "cell_type": "code",
      "source": [
        "second_pred, second_z = decoder([np.array([first_pred.numpy().argmax()]), first_z[0]])"
      ],
      "metadata": {
        "id": "MKJHOylv-AvA"
      },
      "execution_count": null,
      "outputs": []
    },
    {
      "cell_type": "code",
      "source": [
        "np.array(second_pred).argmax()"
      ],
      "metadata": {
        "colab": {
          "base_uri": "https://localhost:8080/"
        },
        "id": "iNq7q5EDIctP",
        "outputId": "b959a165-ae9c-4ce3-dd7b-b58ea078cf4d"
      },
      "execution_count": null,
      "outputs": [
        {
          "output_type": "execute_result",
          "data": {
            "text/plain": [
              "2"
            ]
          },
          "metadata": {},
          "execution_count": 142
        }
      ]
    },
    {
      "cell_type": "code",
      "source": [
        "third_pred, third_z = decoder([np.array([second_pred.numpy().argmax()]), second_z[0]])\n",
        "np.array(third_pred).argmax()"
      ],
      "metadata": {
        "colab": {
          "base_uri": "https://localhost:8080/"
        },
        "id": "99d2WnT2Ig0c",
        "outputId": "995a96a8-6ea2-4853-ffcc-b9fcc8ac9fc4"
      },
      "execution_count": null,
      "outputs": [
        {
          "output_type": "execute_result",
          "data": {
            "text/plain": [
              "13"
            ]
          },
          "metadata": {},
          "execution_count": 146
        }
      ]
    },
    {
      "cell_type": "code",
      "source": [
        "invocab[13]"
      ],
      "metadata": {
        "colab": {
          "base_uri": "https://localhost:8080/",
          "height": 36
        },
        "id": "_v00Lp5wJB5U",
        "outputId": "b71d643d-93e4-4b39-bee8-c0cf636c29b4"
      },
      "execution_count": null,
      "outputs": [
        {
          "output_type": "execute_result",
          "data": {
            "application/vnd.google.colaboratory.intrinsic+json": {
              "type": "string"
            },
            "text/plain": [
              "'EOS'"
            ]
          },
          "metadata": {},
          "execution_count": 147
        }
      ]
    },
    {
      "cell_type": "markdown",
      "metadata": {
        "id": "9iIJK2qsfevX"
      },
      "source": [
        "### 문제 23. 입력 text가 주어지면 bow로 바꾼뒤 pad가 나올 때까지 문자를 decoding하는 함수를 만드세요.\n"
      ]
    },
    {
      "cell_type": "code",
      "metadata": {
        "id": "SV2A6JZBf7Ku"
      },
      "source": [
        "# z와 pad가 주어지면 pad가 나올 때까지 문자를 decoding하는 함수를 만드세요."
      ],
      "execution_count": null,
      "outputs": []
    },
    {
      "cell_type": "code",
      "source": [
        "def decoding(text):\n",
        "  bow = plain2bow(text, vocab)\n",
        "  bow = tf.keras.preprocessing.sequence.pad_sequences(bow[np.newaxis,:], value=vocab['PAD'], maxlen=8)\n",
        "\n",
        "  z = encoder(bow) # 초기 z\n",
        "  word_vec = np.array([vocab['PAD']])\n",
        "\n",
        "  res = []\n",
        "  while True:\n",
        "    word_vec, z = decoder([word_vec, z])\n",
        "    word = invocab[word_vec.numpy().argmax()] # 실제 결과값\n",
        "\n",
        "    if word in ['EOS', 'PAD']: break\n",
        "\n",
        "    res.append(word)\n",
        "    word_vec = np.array([word_vec.numpy().argmax()])\n",
        "    z = z[0]\n",
        "\n",
        "  answer = ''.join(res)\n",
        "  print(f'{text} = {answer}')\n",
        "  return answer"
      ],
      "metadata": {
        "id": "K9nPQLSn-BTI"
      },
      "execution_count": null,
      "outputs": []
    },
    {
      "cell_type": "markdown",
      "metadata": {
        "id": "G70ccEAt6XL9"
      },
      "source": [
        "### 문제 24. decoding으로 몇가지 산술 연산을 테스트해보세요."
      ]
    },
    {
      "cell_type": "code",
      "metadata": {
        "id": "TNimTOWX6iEe"
      },
      "source": [
        "# decoding으로 몇가지 산술 연산을 테스트해보세요"
      ],
      "execution_count": null,
      "outputs": []
    },
    {
      "cell_type": "code",
      "source": [
        "decoding('22 + 22')"
      ],
      "metadata": {
        "id": "aDUZ6znU-Bgl",
        "colab": {
          "base_uri": "https://localhost:8080/",
          "height": 53
        },
        "outputId": "56732cb9-251b-4adb-c770-d57ac378e5b4"
      },
      "execution_count": null,
      "outputs": [
        {
          "output_type": "stream",
          "name": "stdout",
          "text": [
            "22 + 22 = 44\n"
          ]
        },
        {
          "output_type": "execute_result",
          "data": {
            "application/vnd.google.colaboratory.intrinsic+json": {
              "type": "string"
            },
            "text/plain": [
              "'44'"
            ]
          },
          "metadata": {},
          "execution_count": 153
        }
      ]
    },
    {
      "cell_type": "code",
      "source": [
        "decoding('1 + 3') # 틀림"
      ],
      "metadata": {
        "colab": {
          "base_uri": "https://localhost:8080/",
          "height": 53
        },
        "id": "LJbmyqI1Ktv-",
        "outputId": "ba79bdf5-6202-4c0d-a65b-be0261ba3f7c"
      },
      "execution_count": null,
      "outputs": [
        {
          "output_type": "stream",
          "name": "stdout",
          "text": [
            "1 + 3 = 5\n"
          ]
        },
        {
          "output_type": "execute_result",
          "data": {
            "application/vnd.google.colaboratory.intrinsic+json": {
              "type": "string"
            },
            "text/plain": [
              "'5'"
            ]
          },
          "metadata": {},
          "execution_count": 154
        }
      ]
    },
    {
      "cell_type": "code",
      "source": [
        "decoding('3 - 9')"
      ],
      "metadata": {
        "colab": {
          "base_uri": "https://localhost:8080/",
          "height": 53
        },
        "id": "cYJWa-j2KvGB",
        "outputId": "f3b078fb-6bcd-4963-88dd-f7de1e43de73"
      },
      "execution_count": null,
      "outputs": [
        {
          "output_type": "stream",
          "name": "stdout",
          "text": [
            "3 - 9 = -6\n"
          ]
        },
        {
          "output_type": "execute_result",
          "data": {
            "application/vnd.google.colaboratory.intrinsic+json": {
              "type": "string"
            },
            "text/plain": [
              "'-6'"
            ]
          },
          "metadata": {},
          "execution_count": 155
        }
      ]
    },
    {
      "cell_type": "code",
      "source": [
        "decoding('82 - 17')"
      ],
      "metadata": {
        "colab": {
          "base_uri": "https://localhost:8080/",
          "height": 53
        },
        "id": "FhSl_H4tKyUl",
        "outputId": "cf4e0083-2ce9-443e-fae3-4f609aad081c"
      },
      "execution_count": null,
      "outputs": [
        {
          "output_type": "stream",
          "name": "stdout",
          "text": [
            "82 - 17 = 65\n"
          ]
        },
        {
          "output_type": "execute_result",
          "data": {
            "application/vnd.google.colaboratory.intrinsic+json": {
              "type": "string"
            },
            "text/plain": [
              "'65'"
            ]
          },
          "metadata": {},
          "execution_count": 156
        }
      ]
    },
    {
      "cell_type": "markdown",
      "metadata": {
        "id": "gX8JH97njNNr"
      },
      "source": [
        "### 문제 25. 모델을 평가해보세요."
      ]
    },
    {
      "cell_type": "code",
      "metadata": {
        "id": "bxRhMcaKk3Pa"
      },
      "source": [
        "# 모델을 평가해보세요."
      ],
      "execution_count": null,
      "outputs": []
    },
    {
      "cell_type": "code",
      "source": [
        "model.evaluate([test_data_bow, test_shift_answer_bow], test_answer_onehot, verbose=1)"
      ],
      "metadata": {
        "id": "azRnw1WX-B_D",
        "colab": {
          "base_uri": "https://localhost:8080/"
        },
        "outputId": "fe8653c0-40be-407b-ff2f-d8ee4e6089c5"
      },
      "execution_count": null,
      "outputs": [
        {
          "output_type": "stream",
          "name": "stdout",
          "text": [
            "32/32 [==============================] - 0s 8ms/step - loss: 0.1809 - accuracy: 0.9478\n"
          ]
        },
        {
          "output_type": "execute_result",
          "data": {
            "text/plain": [
              "[0.18087701499462128, 0.9477999806404114]"
            ]
          },
          "metadata": {},
          "execution_count": 158
        }
      ]
    },
    {
      "cell_type": "markdown",
      "metadata": {
        "id": "7FQT89oqrdkA"
      },
      "source": [
        "## Step 7. 모델 저장 및 로드, 다운"
      ]
    },
    {
      "cell_type": "markdown",
      "metadata": {
        "id": "c2GZFvCAzFNl"
      },
      "source": [
        "### 문제 26. 모델을 저장하세요."
      ]
    },
    {
      "cell_type": "code",
      "metadata": {
        "id": "YjuCVTNbriVJ"
      },
      "source": [
        "# 모델을 저장하는 코드를 작성하세요."
      ],
      "execution_count": null,
      "outputs": []
    },
    {
      "cell_type": "code",
      "source": [
        "model.save('./seq2seq.h5')\n",
        "encoder.save('./encoder.h5')\n",
        "decoder.save('./decoder.h5')"
      ],
      "metadata": {
        "id": "c-3c8FXH-CNB",
        "colab": {
          "base_uri": "https://localhost:8080/"
        },
        "outputId": "a5188bff-d9d5-4540-826b-42505f4b4071"
      },
      "execution_count": null,
      "outputs": [
        {
          "output_type": "stream",
          "name": "stdout",
          "text": [
            "WARNING:tensorflow:Compiled the loaded model, but the compiled metrics have yet to be built. `model.compile_metrics` will be empty until you train or evaluate the model.\n",
            "WARNING:tensorflow:Compiled the loaded model, but the compiled metrics have yet to be built. `model.compile_metrics` will be empty until you train or evaluate the model.\n"
          ]
        }
      ]
    },
    {
      "cell_type": "markdown",
      "metadata": {
        "id": "Bj4P3DdzzhyC"
      },
      "source": [
        "### 문제 27. 모델 파일을 새로운 모델에 로드하세요."
      ]
    },
    {
      "cell_type": "code",
      "metadata": {
        "id": "xuRAnBR8zY-X"
      },
      "source": [
        "# 모델을 로드하는 코드를 작성하세요."
      ],
      "execution_count": null,
      "outputs": []
    },
    {
      "cell_type": "code",
      "source": [
        "new_model = tf.keras.models.load_model('./seq2seq.h5')\n",
        "new_model.summary()"
      ],
      "metadata": {
        "id": "d8aq_Tpe-ChA",
        "colab": {
          "base_uri": "https://localhost:8080/"
        },
        "outputId": "b24e3f8e-9299-47f0-af10-d44fd7a659a5"
      },
      "execution_count": null,
      "outputs": [
        {
          "output_type": "stream",
          "name": "stdout",
          "text": [
            "Model: \"model_8\"\n",
            "__________________________________________________________________________________________________\n",
            " Layer (type)                   Output Shape         Param #     Connected to                     \n",
            "==================================================================================================\n",
            " input_16 (InputLayer)          [(None, 5)]          0           []                               \n",
            "                                                                                                  \n",
            " input_15 (InputLayer)          [(None, 8)]          0           []                               \n",
            "                                                                                                  \n",
            " embedding_4 (Embedding)        multiple             70          ['input_15[0][0]',               \n",
            "                                                                  'input_16[0][0]']               \n",
            "                                                                                                  \n",
            " gru_8 (GRU)                    (None, 16)           1104        ['embedding_4[0][0]']            \n",
            "                                                                                                  \n",
            " gru_9 (GRU)                    (None, 5, 16)        1104        ['embedding_4[1][0]',            \n",
            "                                                                  'gru_8[0][0]']                  \n",
            "                                                                                                  \n",
            " dense_4 (Dense)                (None, 5, 14)        238         ['gru_9[0][0]']                  \n",
            "                                                                                                  \n",
            "==================================================================================================\n",
            "Total params: 2,516\n",
            "Trainable params: 2,516\n",
            "Non-trainable params: 0\n",
            "__________________________________________________________________________________________________\n"
          ]
        }
      ]
    },
    {
      "cell_type": "markdown",
      "metadata": {
        "id": "ta1I5ZEY1FBR"
      },
      "source": [
        "### 문제 28. 로드한 모델을 test 데이터로 평가해보세요.\n"
      ]
    },
    {
      "cell_type": "code",
      "metadata": {
        "id": "ALrVf_lm0_Bc"
      },
      "source": [
        "# 로드한 모델을 test 데이터로 평가해보세요."
      ],
      "execution_count": null,
      "outputs": []
    },
    {
      "cell_type": "code",
      "source": [
        "new_model.evaluate([test_data_bow, test_shift_answer_bow], test_answer_onehot, verbose=1)"
      ],
      "metadata": {
        "id": "9ExraJ7L-C6k",
        "colab": {
          "base_uri": "https://localhost:8080/"
        },
        "outputId": "bc16aae6-a420-4361-caae-efd631a07a0e"
      },
      "execution_count": null,
      "outputs": [
        {
          "output_type": "stream",
          "name": "stdout",
          "text": [
            "32/32 [==============================] - 1s 6ms/step - loss: 0.1809 - accuracy: 0.9478\n"
          ]
        },
        {
          "output_type": "execute_result",
          "data": {
            "text/plain": [
              "[0.18087701499462128, 0.9477999806404114]"
            ]
          },
          "metadata": {},
          "execution_count": 175
        }
      ]
    },
    {
      "cell_type": "markdown",
      "metadata": {
        "id": "gfEgY1Vr1T1v"
      },
      "source": [
        "### 문제 29. 모델을 내 컴퓨터에 저장해보세요"
      ]
    },
    {
      "cell_type": "code",
      "metadata": {
        "id": "ASkJv_Ui1RGv"
      },
      "source": [
        "# 모델을 내 컴퓨터에 저장해보세요."
      ],
      "execution_count": null,
      "outputs": []
    },
    {
      "cell_type": "code",
      "metadata": {
        "id": "xumq13s87EyR",
        "colab": {
          "base_uri": "https://localhost:8080/",
          "height": 17
        },
        "outputId": "9f79b74a-0ee7-4c7d-bc3e-17e256b8d6b2"
      },
      "source": [
        "from google.colab import files\n",
        "\n",
        "files.download('./seq2seq.h5')"
      ],
      "execution_count": null,
      "outputs": [
        {
          "output_type": "display_data",
          "data": {
            "application/javascript": [
              "\n",
              "    async function download(id, filename, size) {\n",
              "      if (!google.colab.kernel.accessAllowed) {\n",
              "        return;\n",
              "      }\n",
              "      const div = document.createElement('div');\n",
              "      const label = document.createElement('label');\n",
              "      label.textContent = `Downloading \"${filename}\": `;\n",
              "      div.appendChild(label);\n",
              "      const progress = document.createElement('progress');\n",
              "      progress.max = size;\n",
              "      div.appendChild(progress);\n",
              "      document.body.appendChild(div);\n",
              "\n",
              "      const buffers = [];\n",
              "      let downloaded = 0;\n",
              "\n",
              "      const channel = await google.colab.kernel.comms.open(id);\n",
              "      // Send a message to notify the kernel that we're ready.\n",
              "      channel.send({})\n",
              "\n",
              "      for await (const message of channel.messages) {\n",
              "        // Send a message to notify the kernel that we're ready.\n",
              "        channel.send({})\n",
              "        if (message.buffers) {\n",
              "          for (const buffer of message.buffers) {\n",
              "            buffers.push(buffer);\n",
              "            downloaded += buffer.byteLength;\n",
              "            progress.value = downloaded;\n",
              "          }\n",
              "        }\n",
              "      }\n",
              "      const blob = new Blob(buffers, {type: 'application/binary'});\n",
              "      const a = document.createElement('a');\n",
              "      a.href = window.URL.createObjectURL(blob);\n",
              "      a.download = filename;\n",
              "      div.appendChild(a);\n",
              "      a.click();\n",
              "      div.remove();\n",
              "    }\n",
              "  "
            ],
            "text/plain": [
              "<IPython.core.display.Javascript object>"
            ]
          },
          "metadata": {}
        },
        {
          "output_type": "display_data",
          "data": {
            "application/javascript": [
              "download(\"download_2548309b-5b70-4d25-83fd-afb40c6af59a\", \"seq2seq.h5\", 80976)"
            ],
            "text/plain": [
              "<IPython.core.display.Javascript object>"
            ]
          },
          "metadata": {}
        }
      ]
    }
  ]
}