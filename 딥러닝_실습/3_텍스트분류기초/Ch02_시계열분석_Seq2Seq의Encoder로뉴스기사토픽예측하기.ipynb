{
  "nbformat": 4,
  "nbformat_minor": 0,
  "metadata": {
    "colab": {
      "name": "[실습]Part3_Ch02_시계열 분석 - Seq2Seq의 Encoder로 뉴스기사 토픽 예측하기.ipynb",
      "provenance": [],
      "collapsed_sections": [],
      "include_colab_link": true
    },
    "kernelspec": {
      "name": "python3",
      "display_name": "Python 3"
    },
    "accelerator": "GPU"
  },
  "cells": [
    {
      "cell_type": "markdown",
      "metadata": {
        "id": "view-in-github",
        "colab_type": "text"
      },
      "source": [
        "<a href=\"https://colab.research.google.com/github/JoHyunjeong/Deep_learning/blob/main/%EB%94%A5%EB%9F%AC%EB%8B%9D_%EC%8B%A4%EC%8A%B5/3_%ED%85%8D%EC%8A%A4%ED%8A%B8%EB%B6%84%EB%A5%98%EA%B8%B0%EC%B4%88/Ch02_%EC%8B%9C%EA%B3%84%EC%97%B4%EB%B6%84%EC%84%9D_Seq2Seq%EC%9D%98Encoder%EB%A1%9C%EB%89%B4%EC%8A%A4%EA%B8%B0%EC%82%AC%ED%86%A0%ED%94%BD%EC%98%88%EC%B8%A1%ED%95%98%EA%B8%B0.ipynb\" target=\"_parent\"><img src=\"https://colab.research.google.com/assets/colab-badge.svg\" alt=\"Open In Colab\"/></a>"
      ]
    },
    {
      "cell_type": "markdown",
      "metadata": {
        "id": "oR0VJlz7mi5A"
      },
      "source": [
        "\n",
        "# 주제 : Seq2Seq의 Encoder로 뉴스기사 토픽 예측하기\n",
        "--------------\n",
        "## 실습 가이드\n",
        "    1. 데이터를 다운로드하여 Colab에 불러옵니다.\n",
        "    2. 필요한 라이브러리는 모두 코드로 작성되어 있습니다.\n",
        "    3. 코드는 위에서부터 아래로 순서대로 실행합니다.\n",
        "    4. 전체 문제 구성은 좌측 첫 번째 아이콘을 통해 확인할 수 있습니다.\n",
        "\n",
        "## 데이터 소개\n",
        "    - 이번 주제는 뉴스기사 데이터는 reuters Dataset을 사용합니다.\n",
        "    - reuters Dataset은 11,228개의 뉴스기사와 46개의 주제를 가지고 있습니다.\n",
        "    - 모든 단어는 빈도에 따른 정수로 교체 되어있습니다.\n",
        "    - 관례적으로 정수 0은 특정 단어를 나타내는 것으로 사용하지 않습니다.\n",
        "    - 학습 데이터와 정답 데이터는, 각각의 아래와 같습니다.\n",
        "    \n",
        "    1. train_text\n",
        "      [\n",
        "        [1,20, 432, 12, 312, ...],\n",
        "        [42, 21, 111, 1213, ...],\n",
        "        ...\n",
        "      ]\n",
        "    \n",
        "    2. train_answer\n",
        "      [\n",
        "         3,  4,  3, ..., 25,  3\n",
        "      ]\n",
        "\n",
        "    \n",
        "- 데이터 출처: [reuters](https://archive.ics.uci.edu/ml/datasets/reuters-21578+text+categorization+collection)\n",
        "\n",
        "\n",
        "## 최종 목표\n",
        "    - Seq2Seq 기반 모델의 이해\n",
        "    - word embedding 이해\n",
        "    - 시계열 데이터 학습 이해\n",
        "    \n",
        "  - 출제자 : 손근영 강사\n"
      ]
    },
    {
      "cell_type": "code",
      "metadata": {
        "id": "e7kl3hgkikbo"
      },
      "source": [
        "import tensorflow as tf\n",
        "from tensorflow import keras\n",
        "from keras.layers import Dense\n",
        "from keras.models import Sequential\n",
        "\n",
        "import pandas as pd\n",
        "import numpy as np\n",
        "import matplotlib.pyplot as plt\n",
        "import seaborn as sns\n",
        "import warnings \n",
        "from IPython.display import Image\n",
        "\n",
        "warnings.filterwarnings('ignore')\n",
        "%matplotlib inline\n",
        "\n",
        "SEED = 34"
      ],
      "execution_count": null,
      "outputs": []
    },
    {
      "cell_type": "markdown",
      "metadata": {
        "id": "4lgdg5xwPC4x"
      },
      "source": [
        "## Step 1. 도입전 기본 처리"
      ]
    },
    {
      "cell_type": "markdown",
      "metadata": {
        "id": "sxeWYNVxPC43"
      },
      "source": [
        "### 문제 1. reuters 데이터 살펴보기"
      ]
    },
    {
      "cell_type": "code",
      "metadata": {
        "id": "J4NDkmelPC44"
      },
      "source": [
        "# 데이터를 불러오는 코드를 작성해주세요."
      ],
      "execution_count": null,
      "outputs": []
    },
    {
      "cell_type": "code",
      "source": [
        "reuters = keras.datasets.reuters\n",
        "((train_text, train_topic),(test_text, test_topic)) = reuters.load_data()"
      ],
      "metadata": {
        "colab": {
          "base_uri": "https://localhost:8080/"
        },
        "id": "2Gmxi-pQuTCC",
        "outputId": "5bf527dd-3d0a-48ad-c095-02ed25741b04"
      },
      "execution_count": null,
      "outputs": [
        {
          "output_type": "stream",
          "name": "stdout",
          "text": [
            "Downloading data from https://storage.googleapis.com/tensorflow/tf-keras-datasets/reuters.npz\n",
            "2113536/2110848 [==============================] - 0s 0us/step\n",
            "2121728/2110848 [==============================] - 0s 0us/step\n"
          ]
        }
      ]
    },
    {
      "cell_type": "markdown",
      "metadata": {
        "id": "rFpSKytFPC47"
      },
      "source": [
        "### 문제 2. train_text/topic와 test_text/topic의 shape을 출력해보세요."
      ]
    },
    {
      "cell_type": "code",
      "metadata": {
        "id": "xHKWk6YcPC48"
      },
      "source": [
        "# 데이터의 크기를 shape 함수를 통해 출력해주세요."
      ],
      "execution_count": null,
      "outputs": []
    },
    {
      "cell_type": "code",
      "source": [
        "print(train_text.shape, train_topic.shape)\n",
        "print(test_text.shape, test_topic.shape)"
      ],
      "metadata": {
        "colab": {
          "base_uri": "https://localhost:8080/"
        },
        "id": "mlqi1hsuuTTa",
        "outputId": "99cb8625-7f09-4d24-e981-b598508255cf"
      },
      "execution_count": null,
      "outputs": [
        {
          "output_type": "stream",
          "name": "stdout",
          "text": [
            "(8982,) (8982,)\n",
            "(2246,) (2246,)\n"
          ]
        }
      ]
    },
    {
      "cell_type": "code",
      "metadata": {
        "id": "fRJDoM_oPC49"
      },
      "source": [
        "# train_text/topic의 dtype을 출력해보세요."
      ],
      "execution_count": null,
      "outputs": []
    },
    {
      "cell_type": "code",
      "source": [
        "print(train_text.dtype, train_topic.dtype)\n",
        "print(test_text.dtype, test_topic.dtype)"
      ],
      "metadata": {
        "colab": {
          "base_uri": "https://localhost:8080/"
        },
        "id": "hh09VbjCuTef",
        "outputId": "d5c55d1f-ad9a-47c3-88a5-c44872800756"
      },
      "execution_count": null,
      "outputs": [
        {
          "output_type": "stream",
          "name": "stdout",
          "text": [
            "object int64\n",
            "object int64\n"
          ]
        }
      ]
    },
    {
      "cell_type": "markdown",
      "metadata": {
        "id": "rikliX9BPC4-"
      },
      "source": [
        "### 문제 3. train_text에서 각 원소의 길이를 y축으로 bar plot를 그려보세요."
      ]
    },
    {
      "cell_type": "code",
      "metadata": {
        "id": "yllyG8J6PC4-"
      },
      "source": [
        "# train_text에서 각 원소의 길이를 y축으로 bar plot를 그려보세요."
      ],
      "execution_count": null,
      "outputs": []
    },
    {
      "cell_type": "code",
      "source": [
        "plt.bar(range(len(train_text)), [len(text) for text in train_text])\n",
        "plt.show()"
      ],
      "metadata": {
        "colab": {
          "base_uri": "https://localhost:8080/",
          "height": 265
        },
        "id": "Aolc7ka5uTxv",
        "outputId": "32007c9b-483a-4300-f6a3-1f381b0fd1d8"
      },
      "execution_count": null,
      "outputs": [
        {
          "output_type": "display_data",
          "data": {
            "image/png": "[encoded data removed]",
            "text/plain": [
              "<Figure size 432x288 with 1 Axes>"
            ]
          },
          "metadata": {
            "needs_background": "light"
          }
        }
      ]
    },
    {
      "cell_type": "markdown",
      "metadata": {
        "id": "eKv9UoZAxTr6"
      },
      "source": [
        "## Step 2. 전처리"
      ]
    },
    {
      "cell_type": "markdown",
      "metadata": {
        "id": "ko4D-BpJTq2r"
      },
      "source": [
        "### 문제 4. train_text, test_text에서 등장한 정수들을 알아보자"
      ]
    },
    {
      "cell_type": "code",
      "metadata": {
        "id": "waksbx9aT5tK"
      },
      "source": [
        "# train_text, test_text에서 등장한 정수들을 알아보자"
      ],
      "execution_count": null,
      "outputs": []
    },
    {
      "cell_type": "code",
      "source": [
        "len([word for text in train_text for word in text])"
      ],
      "metadata": {
        "colab": {
          "base_uri": "https://localhost:8080/"
        },
        "id": "4YjNEEQvuUJR",
        "outputId": "93233614-558d-40ed-a00d-9201d2f57790"
      },
      "execution_count": null,
      "outputs": [
        {
          "output_type": "execute_result",
          "data": {
            "text/plain": [
              "1307239"
            ]
          },
          "metadata": {},
          "execution_count": 6
        }
      ]
    },
    {
      "cell_type": "code",
      "source": [
        "len(set([word for text in train_text for word in text]))"
      ],
      "metadata": {
        "colab": {
          "base_uri": "https://localhost:8080/"
        },
        "id": "arkHPknQySfi",
        "outputId": "0fdb352d-c0a3-4b53-f415-62b594e0e1c8"
      },
      "execution_count": null,
      "outputs": [
        {
          "output_type": "execute_result",
          "data": {
            "text/plain": [
              "28138"
            ]
          },
          "metadata": {},
          "execution_count": 7
        }
      ]
    },
    {
      "cell_type": "code",
      "source": [
        "len([word for text in test_text for word in text])"
      ],
      "metadata": {
        "colab": {
          "base_uri": "https://localhost:8080/"
        },
        "id": "k2zSBWPtzXaz",
        "outputId": "4ac7c536-bf76-4298-b1ba-7d8c1369977c"
      },
      "execution_count": null,
      "outputs": [
        {
          "output_type": "execute_result",
          "data": {
            "text/plain": [
              "331647"
            ]
          },
          "metadata": {},
          "execution_count": 8
        }
      ]
    },
    {
      "cell_type": "code",
      "source": [
        "len(set([word for text in test_text for word in text]))"
      ],
      "metadata": {
        "colab": {
          "base_uri": "https://localhost:8080/"
        },
        "id": "j-1nCz5czX-l",
        "outputId": "d7bcc7b6-9d51-43a3-828c-b11c3dd516dd"
      },
      "execution_count": null,
      "outputs": [
        {
          "output_type": "execute_result",
          "data": {
            "text/plain": [
              "15681"
            ]
          },
          "metadata": {},
          "execution_count": 9
        }
      ]
    },
    {
      "cell_type": "code",
      "source": [
        "all_words = set([word for text in train_text for word in text]) | set([word for text in test_text for word in text])\n",
        "len(all_words)"
      ],
      "metadata": {
        "colab": {
          "base_uri": "https://localhost:8080/"
        },
        "id": "KTzbUukCzgg6",
        "outputId": "23570a48-055f-4f52-aa26-06fe50b8580f"
      },
      "execution_count": null,
      "outputs": [
        {
          "output_type": "execute_result",
          "data": {
            "text/plain": [
              "30980"
            ]
          },
          "metadata": {},
          "execution_count": 10
        }
      ]
    },
    {
      "cell_type": "code",
      "source": [
        "print(sorted(all_words)[:5]) # 0은 없음\n",
        "print(sorted(all_words)[-5:])"
      ],
      "metadata": {
        "colab": {
          "base_uri": "https://localhost:8080/"
        },
        "id": "Qnq9vAIvzyCj",
        "outputId": "3f9bd9c9-fc4f-4123-b991-745601d219c5"
      },
      "execution_count": null,
      "outputs": [
        {
          "output_type": "stream",
          "name": "stdout",
          "text": [
            "[1, 2, 4, 5, 6]\n",
            "[30977, 30978, 30979, 30980, 30981]\n"
          ]
        }
      ]
    },
    {
      "cell_type": "markdown",
      "metadata": {
        "id": "hrmQ7HzEUKrz"
      },
      "source": [
        "### 문제 5. train_text와 test_text를 BOW 형태로 변경"
      ]
    },
    {
      "cell_type": "code",
      "metadata": {
        "id": "fVzGHMSYUUKk"
      },
      "source": [
        "# train_text와 test_text를 BOW 형태로 변경하세요."
      ],
      "execution_count": null,
      "outputs": []
    },
    {
      "cell_type": "code",
      "source": [
        "train_text_bow = tf.keras.preprocessing.sequence.pad_sequences(train_text, value=0)"
      ],
      "metadata": {
        "id": "J-fuuLVAuUen"
      },
      "execution_count": null,
      "outputs": []
    },
    {
      "cell_type": "code",
      "source": [
        "test_text_bow = tf.keras.preprocessing.sequence.pad_sequences(test_text, value=0)"
      ],
      "metadata": {
        "id": "kDCyFDZU8SKE"
      },
      "execution_count": null,
      "outputs": []
    },
    {
      "cell_type": "code",
      "source": [
        "train_text_bow.shape, test_text_bow.shape # 2차원이 됨"
      ],
      "metadata": {
        "colab": {
          "base_uri": "https://localhost:8080/"
        },
        "id": "JSQn3Lf98bwC",
        "outputId": "b51c908e-a3ab-4de0-bf25-c006fe866d47"
      },
      "execution_count": null,
      "outputs": [
        {
          "output_type": "execute_result",
          "data": {
            "text/plain": [
              "((8982, 2376), (2246, 1032))"
            ]
          },
          "metadata": {},
          "execution_count": 14
        }
      ]
    },
    {
      "cell_type": "markdown",
      "metadata": {
        "id": "py8TgMSoaIDR"
      },
      "source": [
        "### 문제 6. train과 test에 나온 word들의 count를 측정해보자"
      ]
    },
    {
      "cell_type": "code",
      "metadata": {
        "id": "cLl6Zluoaa8M"
      },
      "source": [
        "# train과 test에 나온 word들의 count를 측정해보자"
      ],
      "execution_count": null,
      "outputs": []
    },
    {
      "cell_type": "code",
      "source": [
        "import collections\n",
        "\n",
        "word_count = collections.Counter()\n",
        "for text in train_text:\n",
        "  word_count.update(text)\n",
        "\n",
        "for text in test_text:\n",
        "  word_count.update(text)\n",
        "\n",
        "word_count.most_common(10) # 가장 많이 나온 값"
      ],
      "metadata": {
        "colab": {
          "base_uri": "https://localhost:8080/"
        },
        "id": "mlPB31WNuVG1",
        "outputId": "2393df0f-edfa-4993-a7f9-c10b1ad4e9c7"
      },
      "execution_count": null,
      "outputs": [
        {
          "output_type": "execute_result",
          "data": {
            "text/plain": [
              "[(4, 82723),\n",
              " (5, 42393),\n",
              " (6, 40350),\n",
              " (7, 33157),\n",
              " (8, 29978),\n",
              " (9, 29956),\n",
              " (10, 29581),\n",
              " (11, 20141),\n",
              " (12, 16668),\n",
              " (13, 15224)]"
            ]
          },
          "metadata": {},
          "execution_count": 15
        }
      ]
    },
    {
      "cell_type": "markdown",
      "metadata": {
        "id": "fgpQYeMtMZ5q"
      },
      "source": [
        "### 문제 7. word_count를 이용해서 n번 이하로 나온 word를 삭제하여 train과 test를 구성하여보자."
      ]
    },
    {
      "cell_type": "code",
      "metadata": {
        "id": "dxaLDza9NhUn"
      },
      "source": [
        "# word_count를 이용해서 n번 미만으로 나온 word를 삭제하여 train과 test를 구성하여보자."
      ],
      "execution_count": null,
      "outputs": []
    },
    {
      "cell_type": "code",
      "source": [
        "def cut_by_count(texts, n):\n",
        "  return np.array([[word for word in text if word_count[word] >= n] for text in texts])"
      ],
      "metadata": {
        "id": "X8FxaGiduVgo"
      },
      "execution_count": null,
      "outputs": []
    },
    {
      "cell_type": "code",
      "source": [
        "train_cut_text = cut_by_count(train_text, 20) # 20개 미만 나온건 제외\n",
        "test_cut_text = cut_by_count(test_text, 20)"
      ],
      "metadata": {
        "id": "iuNsevjL-NuB"
      },
      "execution_count": null,
      "outputs": []
    },
    {
      "cell_type": "markdown",
      "metadata": {
        "id": "iMNw3eR8OzZ0"
      },
      "source": [
        "### 문제 8. pad 추가된 bow 형태로 변화하여 width 길이를 확인해보세요."
      ]
    },
    {
      "cell_type": "code",
      "metadata": {
        "id": "ArlSTlZ2PBCz"
      },
      "source": [
        "# bow 형태로 변화하여 width 길이를 확인해보세요."
      ],
      "execution_count": null,
      "outputs": []
    },
    {
      "cell_type": "code",
      "source": [
        "print(train_text_bow.shape, test_text_bow.shape)"
      ],
      "metadata": {
        "colab": {
          "base_uri": "https://localhost:8080/"
        },
        "id": "xJi63Zi4--SS",
        "outputId": "2647efa3-9056-4954-8d44-3345e139d0ec"
      },
      "execution_count": null,
      "outputs": [
        {
          "output_type": "stream",
          "name": "stdout",
          "text": [
            "(8982, 2376) (2246, 1032)\n"
          ]
        }
      ]
    },
    {
      "cell_type": "code",
      "source": [
        "train_cut_bow_text = tf.keras.preprocessing.sequence.pad_sequences(train_cut_text, value=0)\n",
        "test_cut_bow_text = tf.keras.preprocessing.sequence.pad_sequences(test_cut_text, value=0)\n",
        "\n",
        "print(train_cut_bow_text.shape, test_cut_bow_text.shape) # 길이가 줄었음"
      ],
      "metadata": {
        "colab": {
          "base_uri": "https://localhost:8080/"
        },
        "id": "U3KUf1v9uV0V",
        "outputId": "2ab64d3e-463c-4ee2-f6f7-89833f47788f"
      },
      "execution_count": null,
      "outputs": [
        {
          "output_type": "stream",
          "name": "stdout",
          "text": [
            "(8982, 2266) (2246, 995)\n"
          ]
        }
      ]
    },
    {
      "cell_type": "markdown",
      "metadata": {
        "id": "HeB-dqpqdPo7"
      },
      "source": [
        "### 문제 9. train_text/test_text에 길이 제한을 줘서 bow를 생성해보세요."
      ]
    },
    {
      "cell_type": "code",
      "metadata": {
        "id": "vL2tt-E4dal9"
      },
      "source": [
        "# train_text/test_text에 길이 제한을 줘서 bow를 생성해보세요."
      ],
      "execution_count": null,
      "outputs": []
    },
    {
      "cell_type": "code",
      "source": [
        "train_cut_bow_text2 = tf.keras.preprocessing.sequence.pad_sequences(train_text, value=0, maxlen=200) # maxlen으로 길이에 제한을 줌\n",
        "test_cut_bow_text2 = tf.keras.preprocessing.sequence.pad_sequences(test_text, value=0, maxlen=200)"
      ],
      "metadata": {
        "id": "QRoA1qkDuWLn"
      },
      "execution_count": null,
      "outputs": []
    },
    {
      "cell_type": "code",
      "source": [
        "print(train_cut_bow_text2.shape, test_cut_bow_text2.shape)"
      ],
      "metadata": {
        "colab": {
          "base_uri": "https://localhost:8080/"
        },
        "id": "lZIXy18t_OIb",
        "outputId": "b78182aa-04d9-4108-bc9c-d896c244fa15"
      },
      "execution_count": null,
      "outputs": [
        {
          "output_type": "stream",
          "name": "stdout",
          "text": [
            "(8982, 200) (2246, 200)\n"
          ]
        }
      ]
    },
    {
      "cell_type": "markdown",
      "metadata": {
        "id": "aQQ342SmgZIq"
      },
      "source": [
        "### 문제 10. topic을 onehot encoding으로 변경해보세요."
      ]
    },
    {
      "cell_type": "code",
      "metadata": {
        "id": "GuLIzFt5gnCf"
      },
      "source": [
        "# topic을 onehot encoding으로 변경해보세요."
      ],
      "execution_count": null,
      "outputs": []
    },
    {
      "cell_type": "code",
      "source": [
        "len(set(train_topic))"
      ],
      "metadata": {
        "colab": {
          "base_uri": "https://localhost:8080/"
        },
        "id": "hNOACvpJ_qWn",
        "outputId": "f94bbf4e-422e-4ef4-86f0-773da33bf1dd"
      },
      "execution_count": null,
      "outputs": [
        {
          "output_type": "execute_result",
          "data": {
            "text/plain": [
              "46"
            ]
          },
          "metadata": {},
          "execution_count": 22
        }
      ]
    },
    {
      "cell_type": "code",
      "source": [
        "len(np.unique(train_topic))"
      ],
      "metadata": {
        "colab": {
          "base_uri": "https://localhost:8080/"
        },
        "id": "zZqlmFMb_szE",
        "outputId": "0bb50a57-ffd1-4460-c998-4bfe9f7eeed7"
      },
      "execution_count": null,
      "outputs": [
        {
          "output_type": "execute_result",
          "data": {
            "text/plain": [
              "46"
            ]
          },
          "metadata": {},
          "execution_count": 23
        }
      ]
    },
    {
      "cell_type": "code",
      "source": [
        "train_onehot_topic = keras.utils.to_categorical(train_topic)\n",
        "test_onehot_topic = keras.utils.to_categorical(test_topic)\n",
        "\n",
        "print(train_onehot_topic.shape, test_onehot_topic.shape)"
      ],
      "metadata": {
        "colab": {
          "base_uri": "https://localhost:8080/"
        },
        "id": "ho9IRwb2uWc3",
        "outputId": "a683c3f1-0c3e-4d1f-ec3a-101765fef4d1"
      },
      "execution_count": null,
      "outputs": [
        {
          "output_type": "stream",
          "name": "stdout",
          "text": [
            "(8982, 46) (2246, 46)\n"
          ]
        }
      ]
    },
    {
      "cell_type": "markdown",
      "metadata": {
        "id": "9i_IAkM6i2MR"
      },
      "source": [
        "### 문제 11. topic 인덱스를 text label로 변환하는 함수를 만드세요."
      ]
    },
    {
      "cell_type": "code",
      "metadata": {
        "id": "x3aAmNuwi1hS"
      },
      "source": [
        "#topic 인덱스를 text label로 변환하는 함수를 만드세요.\n",
        "raw_labels = ['cocoa','grain','veg-oil','earn','acq','wheat','copper','housing','money-supply',\n",
        "   'coffee','sugar','trade','reserves','ship','cotton','carcass','crude','nat-gas',\n",
        "   'cpi','money-fx','interest','gnp','meal-feed','alum','oilseed','gold','tin',\n",
        "   'strategic-metal','livestock','retail','ipi','iron-steel','rubber','heat','jobs',\n",
        "   'lei','bop','zinc','orange','pet-chem','dlr','gas','silver','wpi','hog','lead']"
      ],
      "execution_count": null,
      "outputs": []
    },
    {
      "cell_type": "code",
      "source": [
        "def topic2label(idx):\n",
        "  return raw_labels[idx]"
      ],
      "metadata": {
        "id": "CSi78eITuWzv"
      },
      "execution_count": null,
      "outputs": []
    },
    {
      "cell_type": "code",
      "source": [
        "raw_labels[0]"
      ],
      "metadata": {
        "colab": {
          "base_uri": "https://localhost:8080/",
          "height": 36
        },
        "id": "UFfxtpt8AQR1",
        "outputId": "4eb4fc12-758e-44fd-aaf2-4626817db225"
      },
      "execution_count": null,
      "outputs": [
        {
          "output_type": "execute_result",
          "data": {
            "application/vnd.google.colaboratory.intrinsic+json": {
              "type": "string"
            },
            "text/plain": [
              "'cocoa'"
            ]
          },
          "metadata": {},
          "execution_count": 27
        }
      ]
    },
    {
      "cell_type": "code",
      "source": [
        "topic2label(0)"
      ],
      "metadata": {
        "colab": {
          "base_uri": "https://localhost:8080/",
          "height": 36
        },
        "id": "lr9gArffAT2r",
        "outputId": "b233e5fc-b2f4-44f2-8d65-44acad0d63c9"
      },
      "execution_count": null,
      "outputs": [
        {
          "output_type": "execute_result",
          "data": {
            "application/vnd.google.colaboratory.intrinsic+json": {
              "type": "string"
            },
            "text/plain": [
              "'cocoa'"
            ]
          },
          "metadata": {},
          "execution_count": 28
        }
      ]
    },
    {
      "cell_type": "markdown",
      "metadata": {
        "id": "SMyUArry3UhT"
      },
      "source": [
        "## Step 3. 시각화 방법"
      ]
    },
    {
      "cell_type": "markdown",
      "metadata": {
        "id": "vDLHexaGUs17"
      },
      "source": [
        "### 문제 12. train_text의 길이 분포를 출력해보세요."
      ]
    },
    {
      "cell_type": "code",
      "metadata": {
        "id": "1NYdCv1yUsKG"
      },
      "source": [
        "# train_text_bow의 길이 분포를 출력해보세요."
      ],
      "execution_count": null,
      "outputs": []
    },
    {
      "cell_type": "code",
      "source": [
        "train_text_bow.shape"
      ],
      "metadata": {
        "colab": {
          "base_uri": "https://localhost:8080/"
        },
        "id": "1EwfcJ-BuXJr",
        "outputId": "8c20018e-c921-4b31-8d9b-91099f8df46a"
      },
      "execution_count": null,
      "outputs": [
        {
          "output_type": "execute_result",
          "data": {
            "text/plain": [
              "(8982, 2376)"
            ]
          },
          "metadata": {},
          "execution_count": 29
        }
      ]
    },
    {
      "cell_type": "code",
      "source": [
        "plt.hist([len(s) for s in train_text], bins=100)\n",
        "plt.show()"
      ],
      "metadata": {
        "colab": {
          "base_uri": "https://localhost:8080/",
          "height": 265
        },
        "id": "_qTRw_GxD1De",
        "outputId": "10370212-4597-4b49-bd15-640cd64d9fd4"
      },
      "execution_count": null,
      "outputs": [
        {
          "output_type": "display_data",
          "data": {
            "image/png": "[encoded data removed]",
            "text/plain": [
              "<Figure size 432x288 with 1 Axes>"
            ]
          },
          "metadata": {
            "needs_background": "light"
          }
        }
      ]
    },
    {
      "cell_type": "markdown",
      "metadata": {
        "id": "LQZNyoQjWCj6"
      },
      "source": [
        "### 문제 13. train_cut_bow_text의 길이 분포를 출력해보세요."
      ]
    },
    {
      "cell_type": "code",
      "metadata": {
        "id": "RJgB4BS2Wayg"
      },
      "source": [
        "# train_cut_bow_text의 길이 분포를 출력해보세요."
      ],
      "execution_count": null,
      "outputs": []
    },
    {
      "cell_type": "code",
      "source": [
        "plt.hist([len(s) for s in train_cut_text], bins=100) # 20개 미만 지운 data\n",
        "plt.show()"
      ],
      "metadata": {
        "colab": {
          "base_uri": "https://localhost:8080/",
          "height": 268
        },
        "id": "MRHTdhKGuXYF",
        "outputId": "f683cc4b-831f-408e-8efd-17480847f0d9"
      },
      "execution_count": null,
      "outputs": [
        {
          "output_type": "display_data",
          "data": {
            "image/png": "[encoded data removed]",
            "text/plain": [
              "<Figure size 432x288 with 1 Axes>"
            ]
          },
          "metadata": {
            "needs_background": "light"
          }
        }
      ]
    },
    {
      "cell_type": "markdown",
      "metadata": {
        "id": "gQTwSPM5dun1"
      },
      "source": [
        "### 문제 14. train_cut_bow_text2의 길이 분포를 출력해보세요."
      ]
    },
    {
      "cell_type": "code",
      "metadata": {
        "id": "eSsC4D6Rd4aA"
      },
      "source": [
        "# train_cut_bow_text2의 길이 분포를 출력해보세요."
      ],
      "execution_count": null,
      "outputs": []
    },
    {
      "cell_type": "code",
      "source": [
        "plt.hist([len(s) for s in train_cut_bow_text2], bins=30) # maxlen으로 길이를 200으로 통일시켰음\n",
        "plt.show()"
      ],
      "metadata": {
        "colab": {
          "base_uri": "https://localhost:8080/",
          "height": 265
        },
        "id": "18b8arzLuXul",
        "outputId": "61333d29-e113-4170-c599-1b43c6460960"
      },
      "execution_count": null,
      "outputs": [
        {
          "output_type": "display_data",
          "data": {
            "image/png": "[encoded data removed]",
            "text/plain": [
              "<Figure size 432x288 with 1 Axes>"
            ]
          },
          "metadata": {
            "needs_background": "light"
          }
        }
      ]
    },
    {
      "cell_type": "markdown",
      "metadata": {
        "id": "ZVFMAQsqzVu0"
      },
      "source": [
        "### 문제 15. label 분포를 출력해보세요."
      ]
    },
    {
      "cell_type": "code",
      "metadata": {
        "id": "F2a4bsnyzVu1"
      },
      "source": [
        "# label 분포를 출력해보세요."
      ],
      "execution_count": null,
      "outputs": []
    },
    {
      "cell_type": "code",
      "source": [
        "import collections\n",
        "\n",
        "# np.unique(train_topic)\n",
        "\n",
        "sorted(collections.Counter(train_topic).items())"
      ],
      "metadata": {
        "colab": {
          "base_uri": "https://localhost:8080/"
        },
        "id": "yIuPWKvzuYCa",
        "outputId": "7fc046b7-be78-441a-f4db-f88a650fdeb1"
      },
      "execution_count": null,
      "outputs": [
        {
          "output_type": "execute_result",
          "data": {
            "text/plain": [
              "[(0, 55),\n",
              " (1, 432),\n",
              " (2, 74),\n",
              " (3, 3159),\n",
              " (4, 1949),\n",
              " (5, 17),\n",
              " (6, 48),\n",
              " (7, 16),\n",
              " (8, 139),\n",
              " (9, 101),\n",
              " (10, 124),\n",
              " (11, 390),\n",
              " (12, 49),\n",
              " (13, 172),\n",
              " (14, 26),\n",
              " (15, 20),\n",
              " (16, 444),\n",
              " (17, 39),\n",
              " (18, 66),\n",
              " (19, 549),\n",
              " (20, 269),\n",
              " (21, 100),\n",
              " (22, 15),\n",
              " (23, 41),\n",
              " (24, 62),\n",
              " (25, 92),\n",
              " (26, 24),\n",
              " (27, 15),\n",
              " (28, 48),\n",
              " (29, 19),\n",
              " (30, 45),\n",
              " (31, 39),\n",
              " (32, 32),\n",
              " (33, 11),\n",
              " (34, 50),\n",
              " (35, 10),\n",
              " (36, 49),\n",
              " (37, 19),\n",
              " (38, 19),\n",
              " (39, 24),\n",
              " (40, 36),\n",
              " (41, 30),\n",
              " (42, 13),\n",
              " (43, 21),\n",
              " (44, 12),\n",
              " (45, 18)]"
            ]
          },
          "metadata": {},
          "execution_count": 33
        }
      ]
    },
    {
      "cell_type": "code",
      "source": [
        "print(list(map(lambda x:x[1], sorted(collections.Counter(train_topic).items()))))"
      ],
      "metadata": {
        "colab": {
          "base_uri": "https://localhost:8080/"
        },
        "id": "SYeoycQwHmf2",
        "outputId": "0426eb0e-0836-46fa-c4c7-831cfce9a25b"
      },
      "execution_count": null,
      "outputs": [
        {
          "output_type": "stream",
          "name": "stdout",
          "text": [
            "[55, 432, 74, 3159, 1949, 17, 48, 16, 139, 101, 124, 390, 49, 172, 26, 20, 444, 39, 66, 549, 269, 100, 15, 41, 62, 92, 24, 15, 48, 19, 45, 39, 32, 11, 50, 10, 49, 19, 19, 24, 36, 30, 13, 21, 12, 18]\n"
          ]
        }
      ]
    },
    {
      "cell_type": "code",
      "source": [
        "plt.bar(np.unique(train_topic), list(map(lambda x:x[1], sorted(collections.Counter(train_topic).items()))))\n",
        "plt.show()"
      ],
      "metadata": {
        "colab": {
          "base_uri": "https://localhost:8080/",
          "height": 265
        },
        "id": "LA0O-kjuHzL2",
        "outputId": "f6ed19c3-ee27-4357-d507-a0b38fad5715"
      },
      "execution_count": null,
      "outputs": [
        {
          "output_type": "display_data",
          "data": {
            "image/png": "[encoded data removed]",
            "text/plain": [
              "<Figure size 432x288 with 1 Axes>"
            ]
          },
          "metadata": {
            "needs_background": "light"
          }
        }
      ]
    },
    {
      "cell_type": "code",
      "source": [
        "plt.bar(*np.unique(train_topic, return_counts=True))\n",
        "plt.show()"
      ],
      "metadata": {
        "colab": {
          "base_uri": "https://localhost:8080/",
          "height": 265
        },
        "id": "kdB_LX4eI6z4",
        "outputId": "6e903359-6ce5-4c41-f451-67db450af789"
      },
      "execution_count": null,
      "outputs": [
        {
          "output_type": "display_data",
          "data": {
            "image/png": "[encoded data removed]",
            "text/plain": [
              "<Figure size 432x288 with 1 Axes>"
            ]
          },
          "metadata": {
            "needs_background": "light"
          }
        }
      ]
    },
    {
      "cell_type": "markdown",
      "metadata": {
        "id": "mArcGUVQ_4Ou"
      },
      "source": [
        "### 문제 16. seabon을 이용하여 label 분포를 출력해보세요."
      ]
    },
    {
      "cell_type": "code",
      "metadata": {
        "id": "Ylp3tzTezVu2"
      },
      "source": [
        "# label 분포를 출력해보세요."
      ],
      "execution_count": null,
      "outputs": []
    },
    {
      "cell_type": "code",
      "source": [
        "import seaborn as sns\n",
        "\n",
        "sns.countplot(train_topic)\n",
        "plt.show()"
      ],
      "metadata": {
        "colab": {
          "base_uri": "https://localhost:8080/",
          "height": 265
        },
        "id": "Dynq_syluYOc",
        "outputId": "cc157932-7389-4686-9f6e-eeedd92951b4"
      },
      "execution_count": null,
      "outputs": [
        {
          "output_type": "display_data",
          "data": {
            "image/png": "[encoded data removed]",
            "text/plain": [
              "<Figure size 432x288 with 1 Axes>"
            ]
          },
          "metadata": {
            "needs_background": "light"
          }
        }
      ]
    },
    {
      "cell_type": "code",
      "source": [
        "sns.countplot(list(map(lambda x: topic2label(x), train_topic)))\n",
        "plt.xticks(rotation=45)\n",
        "fig = plt.gcf()\n",
        "fig.set_size_inches(20, 5)\n",
        "plt.show()"
      ],
      "metadata": {
        "colab": {
          "base_uri": "https://localhost:8080/",
          "height": 351
        },
        "id": "LQtC-MFEJNLZ",
        "outputId": "b22854fc-e0dc-4a17-f8c6-85966a6c459b"
      },
      "execution_count": null,
      "outputs": [
        {
          "output_type": "display_data",
          "data": {
            "image/png": "[encoded data removed]",
            "text/plain": [
              "<Figure size 1440x360 with 1 Axes>"
            ]
          },
          "metadata": {
            "needs_background": "light"
          }
        }
      ]
    },
    {
      "cell_type": "markdown",
      "metadata": {
        "id": "G1lGWgCIZkTF"
      },
      "source": [
        "### 문제 17. reuters.get_word_index()를 이용해서 text를 decode해보세요."
      ]
    },
    {
      "cell_type": "code",
      "metadata": {
        "id": "Q6e8-yQvZqG8"
      },
      "source": [
        "# reuters.get_word_index()를 이용해서 text를 decode해보세요."
      ],
      "execution_count": null,
      "outputs": []
    },
    {
      "cell_type": "code",
      "source": [
        "index_word = {y:x for x, y in reuters.get_word_index().items()}\n",
        "\n",
        "def bow2text(bow):\n",
        "  return ' '.join([index_word[idx] for idx in bow])\n",
        "\n",
        "bow2text(test_text[1])"
      ],
      "metadata": {
        "colab": {
          "base_uri": "https://localhost:8080/",
          "height": 214
        },
        "id": "XVSvS0nDuYku",
        "outputId": "3624394c-73c8-469a-c567-c53df85ad3cd"
      },
      "execution_count": null,
      "outputs": [
        {
          "output_type": "stream",
          "name": "stdout",
          "text": [
            "Downloading data from https://storage.googleapis.com/tensorflow/tf-keras-datasets/reuters_word_index.json\n",
            "557056/550378 [==============================] - 0s 0us/step\n",
            "565248/550378 [==============================] - 0s 0us/step\n"
          ]
        },
        {
          "output_type": "execute_result",
          "data": {
            "application/vnd.google.colaboratory.intrinsic+json": {
              "type": "string"
            },
            "text/plain": [
              "\"the slide both their a in after london adjusted 2 contracts 54 as sales agriculture with from were vs been prices its for benefit from dlrs vs been are 2 both 97 firms deficient i geneen briefly mln briefly week operating for giving 28 in record disappointed spending shr initiative around five farmers in but 18 66 5 efforts scale will t net mln with deal from billion vs been said in after london adjusted 5 will agip it take supplies briefly mln 9 confidence on been 5 will agriculture method it in has would both administration without on been it intended figures 3 total on been 5 will 75 that in into shares net mln january in three subject for system guaranty deficient users and 381 surviving in attempt 5 higher prices producers without on been 57 request in executive in three it at china concentrate as sales priorities paris said in attempt last told showed 1 and 48 deficit be what briefly mln surviving over qtr prices today is said acres agree in one news possible be 9 1988 vs regional briefly mln against while slide sne oil smith and extraordinary investor surviving january in attempt u subject in surviving attempt 5 plc a medium it 9 before on produced increasing medical acquired issuer period said 150 be 240 into both per 3 for galloping take when their north agriculture it in 15 pay a after london share sales disease and export 796 romero his economists in export 5 announcement philippine sandi in market soybean flavor more in march 545 net mln last 25 cts modest 50 balance it 22 north told or institute west discount offered 57 agreement fiscal china supplies subsidiary in 80 bank boosted equilibrium 22 term per briefly mln bankers both u french free viewed it suspension regional april collaspe prices its harcourt regional have 54 briefly mln per oil seasons prices between said telecommunications here in brittany cost and within their told or 50 air valued including canada was in into shares net mln bankers 80 a in diminishes remarks share rawl its interest bessemer 3 hotels common bpd 3 beefing contains 3 compagnia their net mln steam common through group other surviving u two following 88 in both when in brochure system unit milliyet interest rings briefly mln stock bank 1988 both break operations was fiscal division last stock index's 90 said goods 3 hotels their told dutch and rejected are for facility's pattamapong preliminary said in both when net mln 791 over will decision and consisting 3 zero making it briarcliff seattle's 7 making a exchanges dillution four nearly yen 791 nearly usair saudi bank and 1984 both net mln briefly mln in double u shake it for elect said in there both note shr 183 a 84 loss for while both taken told or sound goods and sosnoff for market note shr 5 judgement into per briefly mln january 25 cts 50 note into per he charles will 240 settlement between in who sector cts debtholders at 80 3 inventories both that in money net mln record into per 52 newly with 9 had ministry community april try oil oxford it in double de their days curbs its all and countries community for try january in first produce newly it for 14 with had ministry community his showed in subsidiary and earlier and 9 meeting community for try be in 31 said are 2 net mln briefly mln takeover levels for friendly both shares be region was into supplies donor their net mln both money oil 52 prices chief poul its filled goria 3 term uganda bpd idled last told or 1986 kwacha was in fourth firms net mln currency purhcase told bank sales spokeswoman journalists said both and in has would a johnson four stock upland in administration ago stock yen harsh a can ministers cash lined christian u greenshields 937 initiatives entered and yen take might per and all community for try its sources community in has would seven time have only digiorgio at all five after both news administration its in double and starts deliver german slightly its cie advisor german slightly a but briefly mln chief around 09 results their executive no slide break oil under and mineral markets with deal 17 said in division break oil 1986 consider 28 in but 18 spending net mln told showed corp 7 against quarter and 01 ceiling 28 in around spending pct dlrs\""
            ]
          },
          "metadata": {},
          "execution_count": 39
        }
      ]
    },
    {
      "cell_type": "markdown",
      "metadata": {
        "id": "ow36DKdvxeo3"
      },
      "source": [
        "### 문제 18. train/test 데이터에서 문서당 가장 많은 횟수로 출현한 word 분포를 출력하세요."
      ]
    },
    {
      "cell_type": "code",
      "metadata": {
        "id": "EquGdzbhxoXa"
      },
      "source": [
        "# 문서당 가장 많은 횟수로 출현한 word 분포를 출력하세요."
      ],
      "execution_count": null,
      "outputs": []
    },
    {
      "cell_type": "code",
      "source": [
        "plt.plot(sorted([np.unique(doc, return_counts=True)[1].argmax() for doc in train_text], reverse=True))\n",
        "plt.show()"
      ],
      "metadata": {
        "colab": {
          "base_uri": "https://localhost:8080/",
          "height": 265
        },
        "id": "keYFek_HuYxp",
        "outputId": "501ca681-55c8-450e-ec13-fa79538d2a78"
      },
      "execution_count": null,
      "outputs": [
        {
          "output_type": "display_data",
          "data": {
            "image/png": "[encoded data removed]",
            "text/plain": [
              "<Figure size 432x288 with 1 Axes>"
            ]
          },
          "metadata": {
            "needs_background": "light"
          }
        }
      ]
    },
    {
      "cell_type": "markdown",
      "metadata": {
        "id": "l_cnJEsbzjKQ"
      },
      "source": [
        "### 문제 19. train/test 전체 문서 당 출현이 가장 높은 word 분포를 출력하세요."
      ]
    },
    {
      "cell_type": "code",
      "metadata": {
        "id": "JSo-6vI0zzkq"
      },
      "source": [
        "# train/test 전체 문서 당 출현이 가장 높은 word 분포를 출력하세요."
      ],
      "execution_count": null,
      "outputs": []
    },
    {
      "cell_type": "code",
      "source": [
        "table = np.zeros(len(all_words) + 2)\n",
        "\n",
        "for doc in train_text:\n",
        "  table[np.unique(doc)] += 1\n",
        "\n",
        "plt.plot(sorted(table, reverse=True)[:300])"
      ],
      "metadata": {
        "colab": {
          "base_uri": "https://localhost:8080/",
          "height": 283
        },
        "id": "9-VlU1V6uZqU",
        "outputId": "90ba6795-2d0a-4c56-99a9-32fcfdf35111"
      },
      "execution_count": null,
      "outputs": [
        {
          "output_type": "execute_result",
          "data": {
            "text/plain": [
              "[<matplotlib.lines.Line2D at 0x7f55d1f0ed50>]"
            ]
          },
          "metadata": {},
          "execution_count": 41
        },
        {
          "output_type": "display_data",
          "data": {
            "image/png": "[encoded data removed]",
            "text/plain": [
              "<Figure size 432x288 with 1 Axes>"
            ]
          },
          "metadata": {
            "needs_background": "light"
          }
        }
      ]
    },
    {
      "cell_type": "markdown",
      "metadata": {
        "id": "SS-jypo11pEt"
      },
      "source": [
        "## Step 4. Seq2Seq의 Encoder 이용 모델링"
      ]
    },
    {
      "cell_type": "markdown",
      "metadata": {
        "id": "JEy2Yz2dRt3S"
      },
      "source": [
        "### 문제 20. Encoder이용 classification 모델 구축"
      ]
    },
    {
      "cell_type": "markdown",
      "source": [
        "many to one + one to one"
      ],
      "metadata": {
        "id": "5E6ZsdmNL--k"
      }
    },
    {
      "cell_type": "code",
      "metadata": {
        "id": "rDWsD2haRz4y"
      },
      "source": [
        "# seq2seq 모델을 구축하고 학습모델, encoder를 획득하세요"
      ],
      "execution_count": null,
      "outputs": []
    },
    {
      "cell_type": "code",
      "source": [
        "from keras.layers import Input, Embedding, GRU, Dense\n",
        "from keras.models import Model\n",
        "\n",
        "def seq2seq():\n",
        "  inputs_x_bow = Input((200,)) # 위에서 제한했던 길이\n",
        "  \n",
        "  embedding = Embedding(len(index_word)+1, 120) # layer / 120개로 압축\n",
        "\n",
        "  x = embedding(inputs_x_bow)\n",
        "  z = GRU(64)(x) # context vector\n",
        "  y = Dense(46, activation='softmax')(z)\n",
        "\n",
        "  model = Model(inputs_x_bow, y)\n",
        "  model.compile(loss='categorical_crossentropy', optimizer='adam', metrics=['accuracy'])\n",
        "  return model"
      ],
      "metadata": {
        "id": "6qzLkiiOLbAc"
      },
      "execution_count": null,
      "outputs": []
    },
    {
      "cell_type": "markdown",
      "metadata": {
        "id": "3ZWybbgyfeh-"
      },
      "source": [
        "### 문제 21. 학습 모델을 생성하고 summary를 출력하세요. "
      ]
    },
    {
      "cell_type": "code",
      "metadata": {
        "id": "x0IFoo-Yfxfp"
      },
      "source": [
        "# 학습 모델을 생성하고 summary를 출력하세요."
      ],
      "execution_count": null,
      "outputs": []
    },
    {
      "cell_type": "code",
      "source": [
        "model = seq2seq()\n",
        "model.summary()"
      ],
      "metadata": {
        "colab": {
          "base_uri": "https://localhost:8080/"
        },
        "id": "BzjYIeOWLbTy",
        "outputId": "fe0750b0-c21b-4de5-da2a-9959c793f49e"
      },
      "execution_count": null,
      "outputs": [
        {
          "output_type": "stream",
          "name": "stdout",
          "text": [
            "Model: \"model\"\n",
            "_________________________________________________________________\n",
            " Layer (type)                Output Shape              Param #   \n",
            "=================================================================\n",
            " input_1 (InputLayer)        [(None, 200)]             0         \n",
            "                                                                 \n",
            " embedding (Embedding)       (None, 200, 120)          3717600   \n",
            "                                                                 \n",
            " gru (GRU)                   (None, 64)                35712     \n",
            "                                                                 \n",
            " dense (Dense)               (None, 46)                2990      \n",
            "                                                                 \n",
            "=================================================================\n",
            "Total params: 3,756,302\n",
            "Trainable params: 3,756,302\n",
            "Non-trainable params: 0\n",
            "_________________________________________________________________\n"
          ]
        }
      ]
    },
    {
      "cell_type": "markdown",
      "metadata": {
        "id": "7OpFGbD6V8Zl"
      },
      "source": [
        "### 문제 22. 모델을 학습해보세요."
      ]
    },
    {
      "cell_type": "code",
      "metadata": {
        "id": "sFOJNRTvYo7d"
      },
      "source": [
        "# 학습모델을 학습해보세요."
      ],
      "execution_count": null,
      "outputs": []
    },
    {
      "cell_type": "code",
      "source": [
        "hist = model.fit(train_cut_bow_text2, train_onehot_topic, \n",
        "          validation_data=(test_cut_bow_text2, test_onehot_topic), \n",
        "          epochs=20, verbose=1)"
      ],
      "metadata": {
        "colab": {
          "base_uri": "https://localhost:8080/"
        },
        "id": "9sFpSLlkLben",
        "outputId": "d2d9fbe2-1490-4f6b-94c8-30c1cb96a0c8"
      },
      "execution_count": null,
      "outputs": [
        {
          "output_type": "stream",
          "name": "stdout",
          "text": [
            "Epoch 1/20\n",
            "281/281 [==============================] - 20s 50ms/step - loss: 2.1449 - accuracy: 0.4141 - val_loss: 1.8310 - val_accuracy: 0.4675\n",
            "Epoch 2/20\n",
            "281/281 [==============================] - 14s 48ms/step - loss: 1.6697 - accuracy: 0.5569 - val_loss: 1.6885 - val_accuracy: 0.5726\n",
            "Epoch 3/20\n",
            "281/281 [==============================] - 13s 48ms/step - loss: 1.5054 - accuracy: 0.6109 - val_loss: 1.6702 - val_accuracy: 0.5855\n",
            "Epoch 4/20\n",
            "281/281 [==============================] - 14s 49ms/step - loss: 1.3341 - accuracy: 0.6604 - val_loss: 1.6034 - val_accuracy: 0.6011\n",
            "Epoch 5/20\n",
            "281/281 [==============================] - 14s 49ms/step - loss: 1.1579 - accuracy: 0.7049 - val_loss: 1.5968 - val_accuracy: 0.5984\n",
            "Epoch 6/20\n",
            "281/281 [==============================] - 13s 48ms/step - loss: 1.0022 - accuracy: 0.7505 - val_loss: 1.5986 - val_accuracy: 0.6220\n",
            "Epoch 7/20\n",
            "281/281 [==============================] - 14s 51ms/step - loss: 0.8598 - accuracy: 0.7831 - val_loss: 1.5700 - val_accuracy: 0.6434\n",
            "Epoch 8/20\n",
            "281/281 [==============================] - 15s 55ms/step - loss: 0.7393 - accuracy: 0.8152 - val_loss: 1.6483 - val_accuracy: 0.6264\n",
            "Epoch 9/20\n",
            "281/281 [==============================] - 14s 50ms/step - loss: 0.6443 - accuracy: 0.8391 - val_loss: 1.6393 - val_accuracy: 0.6532\n",
            "Epoch 10/20\n",
            "281/281 [==============================] - 13s 48ms/step - loss: 0.5449 - accuracy: 0.8671 - val_loss: 1.6306 - val_accuracy: 0.6567\n",
            "Epoch 11/20\n",
            "281/281 [==============================] - 14s 49ms/step - loss: 0.4628 - accuracy: 0.8859 - val_loss: 1.6202 - val_accuracy: 0.6768\n",
            "Epoch 12/20\n",
            "281/281 [==============================] - 13s 48ms/step - loss: 0.3834 - accuracy: 0.9090 - val_loss: 1.6845 - val_accuracy: 0.6630\n",
            "Epoch 13/20\n",
            "281/281 [==============================] - 13s 48ms/step - loss: 0.3341 - accuracy: 0.9203 - val_loss: 1.7004 - val_accuracy: 0.6701\n",
            "Epoch 14/20\n",
            "281/281 [==============================] - 13s 48ms/step - loss: 0.2923 - accuracy: 0.9308 - val_loss: 1.7077 - val_accuracy: 0.6857\n",
            "Epoch 15/20\n",
            "281/281 [==============================] - 13s 48ms/step - loss: 0.2615 - accuracy: 0.9358 - val_loss: 1.7649 - val_accuracy: 0.6839\n",
            "Epoch 16/20\n",
            "281/281 [==============================] - 14s 49ms/step - loss: 0.2307 - accuracy: 0.9430 - val_loss: 1.7691 - val_accuracy: 0.6781\n",
            "Epoch 17/20\n",
            "281/281 [==============================] - 14s 48ms/step - loss: 0.2045 - accuracy: 0.9490 - val_loss: 1.7930 - val_accuracy: 0.6803\n",
            "Epoch 18/20\n",
            "281/281 [==============================] - 13s 47ms/step - loss: 0.1921 - accuracy: 0.9483 - val_loss: 1.9301 - val_accuracy: 0.6483\n",
            "Epoch 19/20\n",
            "281/281 [==============================] - 13s 48ms/step - loss: 0.1767 - accuracy: 0.9510 - val_loss: 1.8605 - val_accuracy: 0.6830\n",
            "Epoch 20/20\n",
            "281/281 [==============================] - 14s 49ms/step - loss: 0.1590 - accuracy: 0.9516 - val_loss: 1.8902 - val_accuracy: 0.6674\n"
          ]
        }
      ]
    },
    {
      "cell_type": "markdown",
      "metadata": {
        "id": "-2fgZVGdNU6a"
      },
      "source": [
        "### 문제 23. 학습 진행 사항을 plt으로 출력하세요."
      ]
    },
    {
      "cell_type": "code",
      "metadata": {
        "id": "W4IStqFmNU6a"
      },
      "source": [
        "# hist의 accuracy와 loss를 plt의 plot을 이용하여 출력하는 코드를 작성하세요."
      ],
      "execution_count": null,
      "outputs": []
    },
    {
      "cell_type": "code",
      "source": [
        "plt.plot(hist.history['accuracy'], label='acc')\n",
        "plt.plot(hist.history['loss'], label='loss')\n",
        "plt.plot(hist.history['val_accuracy'], label='val_acc')\n",
        "plt.plot(hist.history['val_loss'], label='val_loss')\n",
        "plt.legend()\n",
        "plt.show()"
      ],
      "metadata": {
        "id": "8NtLZxZLLbzR",
        "colab": {
          "base_uri": "https://localhost:8080/",
          "height": 265
        },
        "outputId": "503c57c0-a9b8-4e1b-f108-d6df0aeff5a2"
      },
      "execution_count": null,
      "outputs": [
        {
          "output_type": "display_data",
          "data": {
            "image/png": "[encoded data removed]",
            "text/plain": [
              "<Figure size 432x288 with 1 Axes>"
            ]
          },
          "metadata": {
            "needs_background": "light"
          }
        }
      ]
    },
    {
      "cell_type": "markdown",
      "metadata": {
        "id": "zFoX6k7CkqaI"
      },
      "source": [
        "### 문제 24. train_cut_bow_text를 위한 학습 모델을 생성하고 summary를 출력하세요. "
      ]
    },
    {
      "cell_type": "code",
      "metadata": {
        "id": "Td3iugCUkqaJ"
      },
      "source": [
        "# 학습 모델을 생성하고 summary를 출력하세요."
      ],
      "execution_count": null,
      "outputs": []
    },
    {
      "cell_type": "code",
      "source": [
        "model2 = seq2seq()\n",
        "model2.summary()"
      ],
      "metadata": {
        "id": "M3dT_m09Lb-_",
        "colab": {
          "base_uri": "https://localhost:8080/"
        },
        "outputId": "f2de46d1-6719-4ee5-fec0-4a799b69f80b"
      },
      "execution_count": null,
      "outputs": [
        {
          "output_type": "stream",
          "name": "stdout",
          "text": [
            "Model: \"model_3\"\n",
            "_________________________________________________________________\n",
            " Layer (type)                Output Shape              Param #   \n",
            "=================================================================\n",
            " input_4 (InputLayer)        [(None, 200)]             0         \n",
            "                                                                 \n",
            " embedding_3 (Embedding)     (None, 200, 120)          3717600   \n",
            "                                                                 \n",
            " gru_3 (GRU)                 (None, 64)                35712     \n",
            "                                                                 \n",
            " dense_3 (Dense)             (None, 46)                2990      \n",
            "                                                                 \n",
            "=================================================================\n",
            "Total params: 3,756,302\n",
            "Trainable params: 3,756,302\n",
            "Non-trainable params: 0\n",
            "_________________________________________________________________\n"
          ]
        }
      ]
    },
    {
      "cell_type": "markdown",
      "metadata": {
        "id": "FWhr7EAukqaK"
      },
      "source": [
        "### 문제 25. 학습모델을 학습해보세요. 단, train_cut_bow_text를 200으로 길이를 수정하고 실행하세요."
      ]
    },
    {
      "cell_type": "markdown",
      "source": [
        "20개 미만 값은 제외한 데이터"
      ],
      "metadata": {
        "id": "SviUNJYLU7Pz"
      }
    },
    {
      "cell_type": "code",
      "metadata": {
        "id": "UC25gz5AkqaK"
      },
      "source": [
        "# 학습모델을 학습해보세요."
      ],
      "execution_count": null,
      "outputs": []
    },
    {
      "cell_type": "code",
      "source": [
        "train_cut_bow_text.shape, train_cut_bow_text2.shape # shape이 다름"
      ],
      "metadata": {
        "colab": {
          "base_uri": "https://localhost:8080/"
        },
        "id": "5q3LiDfcTsWA",
        "outputId": "3c55f6de-f21f-49d6-f258-ee3adf023897"
      },
      "execution_count": null,
      "outputs": [
        {
          "output_type": "execute_result",
          "data": {
            "text/plain": [
              "((8982, 2266), (8982, 200))"
            ]
          },
          "metadata": {},
          "execution_count": 48
        }
      ]
    },
    {
      "cell_type": "code",
      "source": [
        "hist2 = model2.fit(\n",
        "                   train_cut_bow_text[...,-200:], # 앞에서 자를지 뒤에서 자를지는 pad_sequences에 따라 다름\n",
        "                   train_onehot_topic, \n",
        "                   validation_data=(test_cut_bow_text[...,-200:], test_onehot_topic), \n",
        "                   epochs=20, verbose=1)"
      ],
      "metadata": {
        "id": "FPE2t8fSLcZ2",
        "colab": {
          "base_uri": "https://localhost:8080/"
        },
        "outputId": "5a372d1a-1605-4a80-f090-91b847baa829"
      },
      "execution_count": null,
      "outputs": [
        {
          "output_type": "stream",
          "name": "stdout",
          "text": [
            "Epoch 1/20\n",
            "281/281 [==============================] - 16s 50ms/step - loss: 2.1755 - accuracy: 0.4291 - val_loss: 1.7475 - val_accuracy: 0.5579\n",
            "Epoch 2/20\n",
            "281/281 [==============================] - 13s 48ms/step - loss: 1.6363 - accuracy: 0.5853 - val_loss: 1.6364 - val_accuracy: 0.5957\n",
            "Epoch 3/20\n",
            "281/281 [==============================] - 13s 48ms/step - loss: 1.5230 - accuracy: 0.6182 - val_loss: 1.5680 - val_accuracy: 0.6091\n",
            "Epoch 4/20\n",
            "281/281 [==============================] - 13s 48ms/step - loss: 1.3616 - accuracy: 0.6580 - val_loss: 1.4696 - val_accuracy: 0.6264\n",
            "Epoch 5/20\n",
            "281/281 [==============================] - 13s 48ms/step - loss: 1.1906 - accuracy: 0.6962 - val_loss: 1.4151 - val_accuracy: 0.6443\n",
            "Epoch 6/20\n",
            "281/281 [==============================] - 13s 48ms/step - loss: 1.0655 - accuracy: 0.7213 - val_loss: 1.3875 - val_accuracy: 0.6492\n",
            "Epoch 7/20\n",
            "281/281 [==============================] - 13s 48ms/step - loss: 0.9709 - accuracy: 0.7462 - val_loss: 1.3928 - val_accuracy: 0.6594\n",
            "Epoch 8/20\n",
            "281/281 [==============================] - 13s 48ms/step - loss: 0.8548 - accuracy: 0.7776 - val_loss: 1.3893 - val_accuracy: 0.6808\n",
            "Epoch 9/20\n",
            "281/281 [==============================] - 14s 50ms/step - loss: 0.7570 - accuracy: 0.8083 - val_loss: 1.3495 - val_accuracy: 0.6866\n",
            "Epoch 10/20\n",
            "281/281 [==============================] - 14s 49ms/step - loss: 0.6754 - accuracy: 0.8300 - val_loss: 1.3835 - val_accuracy: 0.6950\n",
            "Epoch 11/20\n",
            "281/281 [==============================] - 14s 51ms/step - loss: 0.6013 - accuracy: 0.8519 - val_loss: 1.3935 - val_accuracy: 0.6910\n",
            "Epoch 12/20\n",
            "281/281 [==============================] - 14s 51ms/step - loss: 0.5406 - accuracy: 0.8693 - val_loss: 1.4120 - val_accuracy: 0.7048\n",
            "Epoch 13/20\n",
            "281/281 [==============================] - 14s 49ms/step - loss: 0.4859 - accuracy: 0.8810 - val_loss: 1.4272 - val_accuracy: 0.7048\n",
            "Epoch 14/20\n",
            "281/281 [==============================] - 14s 51ms/step - loss: 0.4253 - accuracy: 0.8989 - val_loss: 1.4543 - val_accuracy: 0.7070\n",
            "Epoch 15/20\n",
            "281/281 [==============================] - 15s 52ms/step - loss: 0.3728 - accuracy: 0.9106 - val_loss: 1.4979 - val_accuracy: 0.7030\n",
            "Epoch 16/20\n",
            "281/281 [==============================] - 14s 51ms/step - loss: 0.3388 - accuracy: 0.9183 - val_loss: 1.4861 - val_accuracy: 0.7044\n",
            "Epoch 17/20\n",
            "281/281 [==============================] - 14s 51ms/step - loss: 0.3091 - accuracy: 0.9227 - val_loss: 1.5536 - val_accuracy: 0.6990\n",
            "Epoch 18/20\n",
            "281/281 [==============================] - 14s 49ms/step - loss: 0.2876 - accuracy: 0.9282 - val_loss: 1.5578 - val_accuracy: 0.7030\n",
            "Epoch 19/20\n",
            "281/281 [==============================] - 13s 48ms/step - loss: 0.2513 - accuracy: 0.9345 - val_loss: 1.5669 - val_accuracy: 0.7061\n",
            "Epoch 20/20\n",
            "281/281 [==============================] - 13s 47ms/step - loss: 0.2230 - accuracy: 0.9405 - val_loss: 1.5816 - val_accuracy: 0.7097\n"
          ]
        }
      ]
    },
    {
      "cell_type": "markdown",
      "metadata": {
        "id": "b_3s4L8OkqaL"
      },
      "source": [
        "### 문제 26. 학습 진행 사항을 plt으로 출력하세요."
      ]
    },
    {
      "cell_type": "code",
      "metadata": {
        "id": "Auttqup0kqaL"
      },
      "source": [
        "# hist2의 accuracy와 loss를 plt의 plot을 이용하여 출력하는 코드를 작성하세요."
      ],
      "execution_count": null,
      "outputs": []
    },
    {
      "cell_type": "code",
      "source": [
        "plt.plot(hist2.history['accuracy'], label='acc')\n",
        "plt.plot(hist2.history['loss'], label='loss')\n",
        "plt.plot(hist2.history['val_accuracy'], label='val_acc')\n",
        "plt.plot(hist2.history['val_loss'], label='val_loss')\n",
        "plt.legend()\n",
        "plt.show()"
      ],
      "metadata": {
        "id": "DgaBE2OsLcr1",
        "colab": {
          "base_uri": "https://localhost:8080/",
          "height": 267
        },
        "outputId": "a0d718ac-ab55-460c-e2da-41b98f8f60eb"
      },
      "execution_count": null,
      "outputs": [
        {
          "output_type": "display_data",
          "data": {
            "image/png": "[encoded data removed]",
            "text/plain": [
              "<Figure size 432x288 with 1 Axes>"
            ]
          },
          "metadata": {
            "needs_background": "light"
          }
        }
      ]
    },
    {
      "cell_type": "markdown",
      "metadata": {
        "id": "ZNI00Lzv1y4S"
      },
      "source": [
        "## Step 5. 모델 결과 확인"
      ]
    },
    {
      "cell_type": "markdown",
      "metadata": {
        "id": "W_xsByHegZhh"
      },
      "source": [
        "### 문제 27. 완성된 모델1, 2에서 test 하나를 예측하고 결과를 res1, res2 변수에 저정하세요."
      ]
    },
    {
      "cell_type": "code",
      "metadata": {
        "id": "Y88qmAVChg_Z"
      },
      "source": [
        "# 완성된 모델에서 test 하나를 예측하고 결과를 res 변수에 저정하세요."
      ],
      "execution_count": null,
      "outputs": []
    },
    {
      "cell_type": "code",
      "source": [
        "res1 = model.predict(test_cut_bow_text2[0:1])\n",
        "res2 = model2.predict(test_cut_bow_text[0:1,-200:])"
      ],
      "metadata": {
        "id": "8wAQetsNVM9G"
      },
      "execution_count": null,
      "outputs": []
    },
    {
      "cell_type": "code",
      "source": [
        "print(res1.shape, res2.shape)"
      ],
      "metadata": {
        "colab": {
          "base_uri": "https://localhost:8080/"
        },
        "id": "lu3dZE2mWd00",
        "outputId": "833b510d-6e9c-4820-e61c-8cf6e9ab6f72"
      },
      "execution_count": null,
      "outputs": [
        {
          "output_type": "stream",
          "name": "stdout",
          "text": [
            "(1, 46) (1, 46)\n"
          ]
        }
      ]
    },
    {
      "cell_type": "markdown",
      "metadata": {
        "id": "zQgQKKCTpv99"
      },
      "source": [
        "### 문제 28. res1, res2의 결과를 확인하세요."
      ]
    },
    {
      "cell_type": "code",
      "metadata": {
        "id": "7TqsGxqogZI0"
      },
      "source": [
        "# res1, res2의 결과를 확인하세요."
      ],
      "execution_count": null,
      "outputs": []
    },
    {
      "cell_type": "code",
      "source": [
        "plt.bar(range(46), res1[0], color='gold')\n",
        "plt.bar(np.array(range(46))+0.5, test_onehot_topic[0], color='red')\n",
        "plt.show()\n",
        "\n",
        "print(test_onehot_topic[0].argmax())\n",
        "print(topic2label(test_onehot_topic[0].argmax()))\n",
        "\n",
        "print(res1[0].argmax())\n",
        "print(topic2label(res1[0].argmax()))"
      ],
      "metadata": {
        "colab": {
          "base_uri": "https://localhost:8080/",
          "height": 336
        },
        "id": "Vjsao9bEVNjS",
        "outputId": "cd6d7729-959a-4bd8-8b83-cd4e45ccf5ba"
      },
      "execution_count": null,
      "outputs": [
        {
          "output_type": "display_data",
          "data": {
            "image/png": "[encoded data removed]",
            "text/plain": [
              "<Figure size 432x288 with 1 Axes>"
            ]
          },
          "metadata": {
            "needs_background": "light"
          }
        },
        {
          "output_type": "stream",
          "name": "stdout",
          "text": [
            "3\n",
            "earn\n",
            "4\n",
            "acq\n"
          ]
        }
      ]
    },
    {
      "cell_type": "code",
      "source": [
        "plt.bar(range(46), res2[0], color='gold')\n",
        "plt.bar(np.array(range(46))+0.5, test_onehot_topic[0], color='red')\n",
        "plt.show()\n",
        "\n",
        "print(test_onehot_topic[0].argmax())\n",
        "print(topic2label(test_onehot_topic[0].argmax()))\n",
        "\n",
        "print(res2[0].argmax())\n",
        "print(topic2label(res2[0].argmax()))"
      ],
      "metadata": {
        "colab": {
          "base_uri": "https://localhost:8080/",
          "height": 336
        },
        "id": "yy73-GsoXF01",
        "outputId": "e82c751e-01fe-4c5d-cf4d-859604bdcfdc"
      },
      "execution_count": null,
      "outputs": [
        {
          "output_type": "display_data",
          "data": {
            "image/png": "[encoded data removed]",
            "text/plain": [
              "<Figure size 432x288 with 1 Axes>"
            ]
          },
          "metadata": {
            "needs_background": "light"
          }
        },
        {
          "output_type": "stream",
          "name": "stdout",
          "text": [
            "3\n",
            "earn\n",
            "3\n",
            "earn\n"
          ]
        }
      ]
    },
    {
      "cell_type": "code",
      "source": [
        "# 모델과 데이터셋을 반대로 예측(학습한 기준이 다름)\n",
        "wrong1 = model.predict(test_cut_bow_text[0:1,-200:])\n",
        "\n",
        "plt.bar(range(46), wrong1[0], color='gold')\n",
        "plt.bar(np.array(range(46))+0.5, test_onehot_topic[0], color='red')\n",
        "plt.show()\n",
        "\n",
        "print(test_onehot_topic[0].argmax())\n",
        "print(topic2label(test_onehot_topic[0].argmax()))\n",
        "\n",
        "print(wrong1[0].argmax())\n",
        "print(topic2label(wrong1[0].argmax()))"
      ],
      "metadata": {
        "colab": {
          "base_uri": "https://localhost:8080/",
          "height": 336
        },
        "id": "TbNzRZUqYcTw",
        "outputId": "631ddd9f-ee3a-4c6c-d6c7-fc8627431838"
      },
      "execution_count": null,
      "outputs": [
        {
          "output_type": "display_data",
          "data": {
            "image/png": "[encoded data removed]",
            "text/plain": [
              "<Figure size 432x288 with 1 Axes>"
            ]
          },
          "metadata": {
            "needs_background": "light"
          }
        },
        {
          "output_type": "stream",
          "name": "stdout",
          "text": [
            "3\n",
            "earn\n",
            "4\n",
            "acq\n"
          ]
        }
      ]
    },
    {
      "cell_type": "code",
      "source": [
        "wrong2 = model.predict(test_cut_bow_text2[0:1])\n",
        "\n",
        "plt.bar(range(46), wrong2[0], color='gold')\n",
        "plt.bar(np.array(range(46))+0.5, test_onehot_topic[0], color='red')\n",
        "plt.show()\n",
        "\n",
        "print(test_onehot_topic[0].argmax())\n",
        "print(topic2label(test_onehot_topic[0].argmax()))\n",
        "\n",
        "print(wrong2[0].argmax())\n",
        "print(topic2label(wrong2[0].argmax()))"
      ],
      "metadata": {
        "colab": {
          "base_uri": "https://localhost:8080/",
          "height": 336
        },
        "id": "nyaMxEN8Y18_",
        "outputId": "290f763a-e2d6-4b71-a889-8f5023075967"
      },
      "execution_count": null,
      "outputs": [
        {
          "output_type": "display_data",
          "data": {
            "image/png": "[encoded data removed]",
            "text/plain": [
              "<Figure size 432x288 with 1 Axes>"
            ]
          },
          "metadata": {
            "needs_background": "light"
          }
        },
        {
          "output_type": "stream",
          "name": "stdout",
          "text": [
            "3\n",
            "earn\n",
            "4\n",
            "acq\n"
          ]
        }
      ]
    },
    {
      "cell_type": "markdown",
      "metadata": {
        "id": "WFZcoocOuUGz"
      },
      "source": [
        "### 문제 29. reuters.get_word_index()를 이용하여 평문을 bow로 변환해보세요. "
      ]
    },
    {
      "cell_type": "code",
      "metadata": {
        "id": "ah10xq-vudTi"
      },
      "source": [
        "# reuters.get_word_index()를 이용하여 평문을 bow로 변환해보세요. (oov는 무시합니다.)"
      ],
      "execution_count": null,
      "outputs": []
    },
    {
      "cell_type": "code",
      "source": [
        "text = bow2text(test_text[0])\n",
        "text"
      ],
      "metadata": {
        "colab": {
          "base_uri": "https://localhost:8080/",
          "height": 125
        },
        "id": "2o1YqzyKVNyq",
        "outputId": "d7adcd00-faec-4a9a-a50e-63723de12d06"
      },
      "execution_count": null,
      "outputs": [
        {
          "output_type": "execute_result",
          "data": {
            "application/vnd.google.colaboratory.intrinsic+json": {
              "type": "string"
            },
            "text/plain": [
              "'the in wants intermediate 3 how types could mln at against 2 guidelines vs end products opec he will will along results and willingly exports 3 purchased each it stubbornly profit 3 avondale profit agreement in around corp should for 3 cannot mln in ended said avondale a 54 but 3 stubbornly a only generally political primarily date other under well a in british rate gain if demand at an div its taking report montreal systems were is and production had vs 000 7 issued year for 0 a in buffer rate loss may results tariffs dlrs is and from 39 s 000 for 3 cannot pre 50 east that in foods products opec last 1 fall change 1 approval in 15 2 said in opec 28 but for 3 cannot cts systems which is half be 6 iffezheim uobm said president amount pct dlrs'"
            ]
          },
          "metadata": {},
          "execution_count": 79
        }
      ]
    },
    {
      "cell_type": "markdown",
      "metadata": {
        "id": "hDKbpAdVf_1-"
      },
      "source": [
        "### 문제 30. text2bow를 이용하여 model1을 통해 결과를 확인하세요."
      ]
    },
    {
      "cell_type": "code",
      "metadata": {
        "id": "S2i-RkhXf8va"
      },
      "source": [
        "# text2bow를 이용하여 model1을 통해 결과를 확인하세요."
      ],
      "execution_count": null,
      "outputs": []
    },
    {
      "cell_type": "code",
      "source": [
        "def text2bow(text, maxlen=400):\n",
        "  word_index = reuters.get_word_index()\n",
        "  seq = np.array([word_index[word] for word in text.lower().replace('\\n', ' ').split() if word in word])\n",
        "  bow = tf.keras.preprocessing.sequence.pad_sequences([seq], value=0, maxlen=maxlen)\n",
        "  return bow"
      ],
      "metadata": {
        "id": "F072pGecVOE-"
      },
      "execution_count": null,
      "outputs": []
    },
    {
      "cell_type": "code",
      "source": [
        "bow1 = text2bow(text)\n",
        "bow1.shape"
      ],
      "metadata": {
        "colab": {
          "base_uri": "https://localhost:8080/"
        },
        "id": "Y6ge8o7PaWSQ",
        "outputId": "887847a4-c7bc-4ddf-91e1-7587dc9a85cb"
      },
      "execution_count": null,
      "outputs": [
        {
          "output_type": "execute_result",
          "data": {
            "text/plain": [
              "(1, 400)"
            ]
          },
          "metadata": {},
          "execution_count": 84
        }
      ]
    },
    {
      "cell_type": "code",
      "source": [
        "bow1"
      ],
      "metadata": {
        "colab": {
          "base_uri": "https://localhost:8080/"
        },
        "id": "5X5_BoHfafpL",
        "outputId": "de15f747-fdfc-433e-9a31-4e187932edd0"
      },
      "execution_count": null,
      "outputs": [
        {
          "output_type": "execute_result",
          "data": {
            "text/plain": [
              "array([[    0,     0,     0,     0,     0,     0,     0,     0,     0,\n",
              "            0,     0,     0,     0,     0,     0,     0,     0,     0,\n",
              "            0,     0,     0,     0,     0,     0,     0,     0,     0,\n",
              "            0,     0,     0,     0,     0,     0,     0,     0,     0,\n",
              "            0,     0,     0,     0,     0,     0,     0,     0,     0,\n",
              "            0,     0,     0,     0,     0,     0,     0,     0,     0,\n",
              "            0,     0,     0,     0,     0,     0,     0,     0,     0,\n",
              "            0,     0,     0,     0,     0,     0,     0,     0,     0,\n",
              "            0,     0,     0,     0,     0,     0,     0,     0,     0,\n",
              "            0,     0,     0,     0,     0,     0,     0,     0,     0,\n",
              "            0,     0,     0,     0,     0,     0,     0,     0,     0,\n",
              "            0,     0,     0,     0,     0,     0,     0,     0,     0,\n",
              "            0,     0,     0,     0,     0,     0,     0,     0,     0,\n",
              "            0,     0,     0,     0,     0,     0,     0,     0,     0,\n",
              "            0,     0,     0,     0,     0,     0,     0,     0,     0,\n",
              "            0,     0,     0,     0,     0,     0,     0,     0,     0,\n",
              "            0,     0,     0,     0,     0,     0,     0,     0,     0,\n",
              "            0,     0,     0,     0,     0,     0,     0,     0,     0,\n",
              "            0,     0,     0,     0,     0,     0,     0,     0,     0,\n",
              "            0,     0,     0,     0,     0,     0,     0,     0,     0,\n",
              "            0,     0,     0,     0,     0,     0,     0,     0,     0,\n",
              "            0,     0,     0,     0,     0,     0,     0,     0,     0,\n",
              "            0,     0,     0,     0,     0,     0,     0,     0,     0,\n",
              "            0,     0,     0,     0,     0,     0,     0,     0,     0,\n",
              "            0,     0,     0,     0,     0,     0,     0,     0,     0,\n",
              "            0,     0,     0,     0,     0,     0,     0,     0,     0,\n",
              "            0,     0,     0,     0,     0,     0,     0,     0,     0,\n",
              "            0,     0,     0,     0,     0,     0,     0,     0,     0,\n",
              "            0,     0,     0,     1,     4,  1378,  2025,     9,   697,\n",
              "         4622,   111,     8,    25,   109,    29,  3650,    11,   150,\n",
              "          244,   364,    33,    30,    30,  1398,   333,     6, 18292,\n",
              "          159,     9,  1084,   363,    13, 19231,    71,     9, 16273,\n",
              "           71,   117,     4,   225,    78,   206,    10,     9,  1214,\n",
              "            8,     4,   270,     5, 16273,     7,   748,    48,     9,\n",
              "        19231,     7,   207,  1451,   966,  1864,   793,    97,   133,\n",
              "          336,     7,     4,   493,    98,   273,   104,   284,    25,\n",
              "           39,   338,    22,   905,   220,  3465,   644,    59,    20,\n",
              "            6,   119,    61,    11,    15,    58,   579,    26,    10,\n",
              "           67,     7,     4,   738,    98,    43,    88,   333,   722,\n",
              "           12,    20,     6,    19,   746,    35,    15,    10,     9,\n",
              "         1214,   855,   129,   783,    21,     4,  2280,   244,   364,\n",
              "           51,    16,   299,   452,    16,   515,     4,    99,    29,\n",
              "            5,     4,   364,   281,    48,    10,     9,  1214,    23,\n",
              "          644,    47,    20,   324,    27,    56, 23406, 28185,     5,\n",
              "          192,   510,    17,    12]], dtype=int32)"
            ]
          },
          "metadata": {},
          "execution_count": 85
        }
      ]
    },
    {
      "cell_type": "code",
      "source": [
        "res3 = model.predict(bow1[..., -200:])\n",
        "plt.bar(np.array(range(len(res3[0]))), res3[0], color='gold')\n",
        "plt.bar(np.array(range(len(res3[0])))+0.5, test_onehot_topic[0], color='red')\n",
        "plt.show()\n",
        "\n",
        "print(test_onehot_topic.argmax())\n",
        "print(res3[0].argmax()) # 성능이 별로 안좋음..."
      ],
      "metadata": {
        "colab": {
          "base_uri": "https://localhost:8080/",
          "height": 300
        },
        "id": "laPYKUbmavln",
        "outputId": "a613bfaa-dce5-4165-9d04-6d2cd9ac27cb"
      },
      "execution_count": null,
      "outputs": [
        {
          "output_type": "display_data",
          "data": {
            "image/png": "[encoded data removed]",
            "text/plain": [
              "<Figure size 432x288 with 1 Axes>"
            ]
          },
          "metadata": {
            "needs_background": "light"
          }
        },
        {
          "output_type": "stream",
          "name": "stdout",
          "text": [
            "3\n",
            "4\n"
          ]
        }
      ]
    },
    {
      "cell_type": "markdown",
      "metadata": {
        "id": "ZlWVzDUirkrQ"
      },
      "source": [
        "### 문제 31. cut_by_count를 이용하여 20회 이상 등장한 word만 사용하는 bow를 만들어보세요"
      ]
    },
    {
      "cell_type": "code",
      "metadata": {
        "id": "bGy2_g97rwhK"
      },
      "source": [
        "# cut_by_count를 이용하여 20회 이상 등장한 word만 사용하는 bow를 만들어보세요"
      ],
      "execution_count": null,
      "outputs": []
    },
    {
      "cell_type": "code",
      "source": [
        "cut_by_count(bow1, 20).shape # 20회 미만 등장한 word는 제외\u001b"
      ],
      "metadata": {
        "colab": {
          "base_uri": "https://localhost:8080/"
        },
        "id": "hMqxMYDIVOO-",
        "outputId": "45368957-8016-4e54-af71-e6ded798c5dd"
      },
      "execution_count": null,
      "outputs": [
        {
          "output_type": "execute_result",
          "data": {
            "text/plain": [
              "(1, 138)"
            ]
          },
          "metadata": {},
          "execution_count": 89
        }
      ]
    },
    {
      "cell_type": "code",
      "source": [
        "tf.keras.preprocessing.sequence.pad_sequences(cut_by_count(bow1, 20), maxlen=200).shape # 패딩으로 길이를 200으로 맞추기"
      ],
      "metadata": {
        "colab": {
          "base_uri": "https://localhost:8080/"
        },
        "id": "o4mLv8XCbZfB",
        "outputId": "55d2cc39-3bd3-4ae8-a6ba-2e0bdb04f6ea"
      },
      "execution_count": null,
      "outputs": [
        {
          "output_type": "execute_result",
          "data": {
            "text/plain": [
              "(1, 200)"
            ]
          },
          "metadata": {},
          "execution_count": 90
        }
      ]
    },
    {
      "cell_type": "code",
      "source": [
        " bow1_cut = tf.keras.preprocessing.sequence.pad_sequences(cut_by_count(bow1, 20), maxlen=200)"
      ],
      "metadata": {
        "id": "M7ATRQqgbh9E"
      },
      "execution_count": null,
      "outputs": []
    },
    {
      "cell_type": "markdown",
      "metadata": {
        "id": "9iIJK2qsfevX"
      },
      "source": [
        "### 문제 32. text2bow를 이용하여 model1을 통해 결과를 확인하세요.\n"
      ]
    },
    {
      "cell_type": "code",
      "metadata": {
        "id": "SV2A6JZBf7Ku"
      },
      "source": [
        "#text2bow를 이용하여 model1을 통해 결과를 확인하세요."
      ],
      "execution_count": null,
      "outputs": []
    },
    {
      "cell_type": "code",
      "source": [
        "res4 = model2.predict(bow1_cut)\n",
        "\n",
        "plt.bar(np.array(range(len(res4[0]))), res4[0], color='gold')\n",
        "plt.bar(np.array(range(len(res4[0])))+0.5, test_onehot_topic[0], color='red')\n",
        "plt.show()\n",
        "\n",
        "print(test_onehot_topic.argmax())\n",
        "print(res4[0].argmax())"
      ],
      "metadata": {
        "colab": {
          "base_uri": "https://localhost:8080/",
          "height": 300
        },
        "id": "ERbuNCu5VOkP",
        "outputId": "03f6eafb-fdad-482c-8f1f-f7090b0d3c9a"
      },
      "execution_count": null,
      "outputs": [
        {
          "output_type": "display_data",
          "data": {
            "image/png": "[encoded data removed]",
            "text/plain": [
              "<Figure size 432x288 with 1 Axes>"
            ]
          },
          "metadata": {
            "needs_background": "light"
          }
        },
        {
          "output_type": "stream",
          "name": "stdout",
          "text": [
            "3\n",
            "3\n"
          ]
        }
      ]
    },
    {
      "cell_type": "markdown",
      "metadata": {
        "id": "G70ccEAt6XL9"
      },
      "source": [
        "### 문제 33. confusion 매트릭스(혼동행렬) 생성"
      ]
    },
    {
      "cell_type": "code",
      "metadata": {
        "id": "TNimTOWX6iEe"
      },
      "source": [
        "# confusion 메트릭스 출력"
      ],
      "execution_count": null,
      "outputs": []
    },
    {
      "cell_type": "code",
      "source": [
        "from sklearn.metrics import confusion_matrix\n",
        "\n",
        "test_onehot_topic.argmax(axis=1) # 정답\n",
        "model.predict(test_cut_bow_text2).argmax(axis=1) # 예측값\n",
        "\n",
        "conf_mat1 = confusion_matrix(test_onehot_topic.argmax(axis=1), model.predict(test_cut_bow_text2).argmax(axis=1))\n",
        "print(conf_mat1, conf_mat1.shape)"
      ],
      "metadata": {
        "colab": {
          "base_uri": "https://localhost:8080/"
        },
        "id": "xyo9LNO3VOyG",
        "outputId": "9684c9a9-deb3-4592-e291-5cd27a624544"
      },
      "execution_count": null,
      "outputs": [
        {
          "output_type": "stream",
          "name": "stdout",
          "text": [
            "[[ 8  0  0 ...  0  0  0]\n",
            " [ 0 74  4 ...  0  0  0]\n",
            " [ 0  5  4 ...  0  0  0]\n",
            " ...\n",
            " [ 0  0  0 ...  3  0  0]\n",
            " [ 0  1  0 ...  0  4  0]\n",
            " [ 0  0  0 ...  0  0  1]] (46, 46)\n"
          ]
        }
      ]
    },
    {
      "cell_type": "code",
      "source": [
        "conf_mat2 = confusion_matrix(test_onehot_topic.argmax(axis=1), model2.predict(test_cut_bow_text[...,-200:]).argmax(axis=1))\n",
        "print(conf_mat2, conf_mat2.shape)"
      ],
      "metadata": {
        "colab": {
          "base_uri": "https://localhost:8080/"
        },
        "id": "ceOJml7Jdx8z",
        "outputId": "500a4ed5-b43a-4019-d9f2-36d406237aac"
      },
      "execution_count": null,
      "outputs": [
        {
          "output_type": "stream",
          "name": "stdout",
          "text": [
            "[[ 9  0  0 ...  0  0  0]\n",
            " [ 0 70  3 ...  0  0  0]\n",
            " [ 0  0  8 ...  0  0  0]\n",
            " ...\n",
            " [ 0  0  0 ...  4  0  0]\n",
            " [ 0  0  1 ...  0  4  0]\n",
            " [ 0  0  0 ...  0  0  0]] (46, 46)\n"
          ]
        }
      ]
    },
    {
      "cell_type": "markdown",
      "metadata": {
        "id": "QMvWeqMUKK8b"
      },
      "source": [
        "### 문제 34. confusion 매트릭스 시각화"
      ]
    },
    {
      "cell_type": "code",
      "metadata": {
        "id": "DDcNSMOmLcgF"
      },
      "source": [
        "# confusion 매트릭스 시각화"
      ],
      "execution_count": null,
      "outputs": []
    },
    {
      "cell_type": "code",
      "source": [
        "# 잘못 표현 예\n",
        "sns.heatmap(conf_mat1)"
      ],
      "metadata": {
        "colab": {
          "base_uri": "https://localhost:8080/",
          "height": 287
        },
        "id": "OKIX-_o8VPFW",
        "outputId": "7e49762c-e172-46c1-d27a-8c10b3a4cf3c"
      },
      "execution_count": null,
      "outputs": [
        {
          "output_type": "execute_result",
          "data": {
            "text/plain": [
              "<matplotlib.axes._subplots.AxesSubplot at 0x7f55d7650cd0>"
            ]
          },
          "metadata": {},
          "execution_count": 105
        },
        {
          "output_type": "display_data",
          "data": {
            "image/png": "[encoded data removed]",
            "text/plain": [
              "<Figure size 432x288 with 2 Axes>"
            ]
          },
          "metadata": {
            "needs_background": "light"
          }
        }
      ]
    },
    {
      "cell_type": "code",
      "source": [
        "sns.heatmap(conf_mat1/conf_mat1.sum(axis=1)) # 0~1사이로 맞춰주기"
      ],
      "metadata": {
        "colab": {
          "base_uri": "https://localhost:8080/",
          "height": 290
        },
        "id": "H5YxhuyKeLUM",
        "outputId": "231b0649-be60-49a8-b08a-038564ad3682"
      },
      "execution_count": null,
      "outputs": [
        {
          "output_type": "execute_result",
          "data": {
            "text/plain": [
              "<matplotlib.axes._subplots.AxesSubplot at 0x7f55d761f390>"
            ]
          },
          "metadata": {},
          "execution_count": 106
        },
        {
          "output_type": "display_data",
          "data": {
            "image/png": "[encoded data removed]",
            "text/plain": [
              "<Figure size 432x288 with 2 Axes>"
            ]
          },
          "metadata": {
            "needs_background": "light"
          }
        }
      ]
    },
    {
      "cell_type": "code",
      "source": [
        "sns.heatmap(conf_mat2/conf_mat2.sum(axis=1))"
      ],
      "metadata": {
        "colab": {
          "base_uri": "https://localhost:8080/",
          "height": 290
        },
        "id": "b9A1y53CeWDT",
        "outputId": "cbe449a0-f57d-47de-a508-fbe82432034e"
      },
      "execution_count": null,
      "outputs": [
        {
          "output_type": "execute_result",
          "data": {
            "text/plain": [
              "<matplotlib.axes._subplots.AxesSubplot at 0x7f55d69dc050>"
            ]
          },
          "metadata": {},
          "execution_count": 107
        },
        {
          "output_type": "display_data",
          "data": {
            "image/png": "[encoded data removed]",
            "text/plain": [
              "<Figure size 432x288 with 2 Axes>"
            ]
          },
          "metadata": {
            "needs_background": "light"
          }
        }
      ]
    },
    {
      "cell_type": "markdown",
      "metadata": {
        "id": "H--fnIJeJs_M"
      },
      "source": [
        "### 문제 35. classification 결과 리포팅"
      ]
    },
    {
      "cell_type": "code",
      "metadata": {
        "id": "8m2wG4CkIMtU"
      },
      "source": [
        "# classification 결과 리포팅"
      ],
      "execution_count": null,
      "outputs": []
    },
    {
      "cell_type": "code",
      "source": [
        "from sklearn.metrics import classification_report\n",
        "\n",
        "print(classification_report(test_onehot_topic.argmax(axis=1), model.predict(test_cut_bow_text2).argmax(axis=1), target_names=raw_labels))"
      ],
      "metadata": {
        "colab": {
          "base_uri": "https://localhost:8080/"
        },
        "id": "b7inXd-vVPTp",
        "outputId": "345ecad7-645c-458f-a557-12647e04c5cb"
      },
      "execution_count": null,
      "outputs": [
        {
          "output_type": "stream",
          "name": "stdout",
          "text": [
            "                 precision    recall  f1-score   support\n",
            "\n",
            "          cocoa       0.47      0.67      0.55        12\n",
            "          grain       0.61      0.70      0.65       105\n",
            "        veg-oil       0.18      0.20      0.19        20\n",
            "           earn       0.90      0.90      0.90       813\n",
            "            acq       0.82      0.71      0.76       474\n",
            "          wheat       0.00      0.00      0.00         5\n",
            "         copper       0.82      0.64      0.72        14\n",
            "        housing       0.20      0.33      0.25         3\n",
            "   money-supply       0.25      0.47      0.33        38\n",
            "         coffee       0.74      0.68      0.71        25\n",
            "          sugar       0.77      0.77      0.77        30\n",
            "          trade       0.41      0.54      0.47        83\n",
            "       reserves       0.33      0.15      0.21        13\n",
            "           ship       0.10      0.11      0.11        37\n",
            "         cotton       0.33      0.50      0.40         2\n",
            "        carcass       0.00      0.00      0.00         9\n",
            "          crude       0.43      0.46      0.44        99\n",
            "        nat-gas       0.15      0.17      0.16        12\n",
            "            cpi       0.28      0.35      0.31        20\n",
            "       money-fx       0.48      0.45      0.46       133\n",
            "       interest       0.35      0.44      0.39        70\n",
            "            gnp       0.27      0.33      0.30        27\n",
            "      meal-feed       0.00      0.00      0.00         7\n",
            "           alum       0.50      0.50      0.50        12\n",
            "        oilseed       0.75      0.47      0.58        19\n",
            "           gold       0.67      0.58      0.62        31\n",
            "            tin       0.80      0.50      0.62         8\n",
            "strategic-metal       1.00      0.25      0.40         4\n",
            "      livestock       0.33      0.10      0.15        10\n",
            "         retail       0.00      0.00      0.00         4\n",
            "            ipi       0.29      0.33      0.31        12\n",
            "     iron-steel       0.22      0.15      0.18        13\n",
            "         rubber       0.33      0.30      0.32        10\n",
            "           heat       0.67      0.80      0.73         5\n",
            "           jobs       0.33      0.14      0.20         7\n",
            "            lei       0.50      0.17      0.25         6\n",
            "            bop       0.17      0.27      0.21        11\n",
            "           zinc       0.00      0.00      0.00         2\n",
            "         orange       0.00      0.00      0.00         3\n",
            "       pet-chem       0.50      0.20      0.29         5\n",
            "            dlr       0.30      0.30      0.30        10\n",
            "            gas       0.40      0.25      0.31         8\n",
            "         silver       0.00      0.00      0.00         3\n",
            "            wpi       0.50      0.50      0.50         6\n",
            "            hog       0.80      0.80      0.80         5\n",
            "           lead       1.00      1.00      1.00         1\n",
            "\n",
            "       accuracy                           0.67      2246\n",
            "      macro avg       0.41      0.37      0.38      2246\n",
            "   weighted avg       0.68      0.67      0.67      2246\n",
            "\n"
          ]
        }
      ]
    },
    {
      "cell_type": "code",
      "source": [
        "print(classification_report(test_onehot_topic.argmax(axis=1), model2.predict(test_cut_bow_text[...,-200:]).argmax(axis=1), target_names=raw_labels))"
      ],
      "metadata": {
        "colab": {
          "base_uri": "https://localhost:8080/"
        },
        "id": "hCAT-5QIfKOh",
        "outputId": "d265fc85-6426-4965-c880-01d7848b7461"
      },
      "execution_count": null,
      "outputs": [
        {
          "output_type": "stream",
          "name": "stdout",
          "text": [
            "                 precision    recall  f1-score   support\n",
            "\n",
            "          cocoa       0.69      0.75      0.72        12\n",
            "          grain       0.72      0.67      0.69       105\n",
            "        veg-oil       0.42      0.40      0.41        20\n",
            "           earn       0.90      0.93      0.91       813\n",
            "            acq       0.83      0.80      0.82       474\n",
            "          wheat       0.00      0.00      0.00         5\n",
            "         copper       0.65      0.79      0.71        14\n",
            "        housing       0.33      0.33      0.33         3\n",
            "   money-supply       0.47      0.39      0.43        38\n",
            "         coffee       0.68      0.68      0.68        25\n",
            "          sugar       0.72      0.77      0.74        30\n",
            "          trade       0.50      0.61      0.55        83\n",
            "       reserves       0.15      0.23      0.18        13\n",
            "           ship       0.36      0.41      0.38        37\n",
            "         cotton       0.20      1.00      0.33         2\n",
            "        carcass       0.00      0.00      0.00         9\n",
            "          crude       0.56      0.45      0.50        99\n",
            "        nat-gas       0.12      0.08      0.10        12\n",
            "            cpi       0.39      0.35      0.37        20\n",
            "       money-fx       0.48      0.59      0.53       133\n",
            "       interest       0.50      0.34      0.41        70\n",
            "            gnp       0.43      0.33      0.38        27\n",
            "      meal-feed       0.00      0.00      0.00         7\n",
            "           alum       0.22      0.33      0.27        12\n",
            "        oilseed       0.53      0.47      0.50        19\n",
            "           gold       0.54      0.65      0.59        31\n",
            "            tin       0.67      0.25      0.36         8\n",
            "strategic-metal       0.50      0.25      0.33         4\n",
            "      livestock       0.12      0.20      0.15        10\n",
            "         retail       0.25      0.25      0.25         4\n",
            "            ipi       0.11      0.17      0.13        12\n",
            "     iron-steel       0.25      0.15      0.19        13\n",
            "         rubber       0.57      0.40      0.47        10\n",
            "           heat       0.00      0.00      0.00         5\n",
            "           jobs       0.75      0.43      0.55         7\n",
            "            lei       0.00      0.00      0.00         6\n",
            "            bop       0.43      0.27      0.33        11\n",
            "           zinc       0.00      0.00      0.00         2\n",
            "         orange       0.00      0.00      0.00         3\n",
            "       pet-chem       0.00      0.00      0.00         5\n",
            "            dlr       0.29      0.20      0.24        10\n",
            "            gas       0.25      0.25      0.25         8\n",
            "         silver       0.50      0.33      0.40         3\n",
            "            wpi       0.57      0.67      0.62         6\n",
            "            hog       0.80      0.80      0.80         5\n",
            "           lead       0.00      0.00      0.00         1\n",
            "\n",
            "       accuracy                           0.71      2246\n",
            "      macro avg       0.38      0.37      0.36      2246\n",
            "   weighted avg       0.71      0.71      0.70      2246\n",
            "\n"
          ]
        }
      ]
    },
    {
      "cell_type": "markdown",
      "metadata": {
        "id": "7FQT89oqrdkA"
      },
      "source": [
        "## Step 6. 모델 저장 및 로드, 다운"
      ]
    },
    {
      "cell_type": "markdown",
      "metadata": {
        "id": "c2GZFvCAzFNl"
      },
      "source": [
        "### 문제 36. 모델을 저장하세요."
      ]
    },
    {
      "cell_type": "code",
      "metadata": {
        "id": "YjuCVTNbriVJ"
      },
      "source": [
        "# 모델을 저장하는 코드를 작성하세요. "
      ],
      "execution_count": null,
      "outputs": []
    },
    {
      "cell_type": "code",
      "source": [
        "model.save('./model.h5')"
      ],
      "metadata": {
        "id": "cpNaIzSQVPqB"
      },
      "execution_count": null,
      "outputs": []
    },
    {
      "cell_type": "markdown",
      "metadata": {
        "id": "Bj4P3DdzzhyC"
      },
      "source": [
        "### 문제 37. 모델 파일을 새로운 모델에 로드하세요."
      ]
    },
    {
      "cell_type": "code",
      "metadata": {
        "id": "xuRAnBR8zY-X"
      },
      "source": [
        "# 모델을 로드하는 코드를 작성하세요."
      ],
      "execution_count": null,
      "outputs": []
    },
    {
      "cell_type": "code",
      "source": [
        "new_model = tf.keras.models.load_model('./model.h5')"
      ],
      "metadata": {
        "id": "lbgOcNP_VQEn"
      },
      "execution_count": null,
      "outputs": []
    },
    {
      "cell_type": "code",
      "source": [
        "new_model.summary()"
      ],
      "metadata": {
        "colab": {
          "base_uri": "https://localhost:8080/"
        },
        "id": "hYb0oqS4VfaN",
        "outputId": "e747f366-cc6d-4be0-e521-53bc159eaf2e"
      },
      "execution_count": null,
      "outputs": [
        {
          "output_type": "stream",
          "name": "stdout",
          "text": [
            "Model: \"model\"\n",
            "_________________________________________________________________\n",
            " Layer (type)                Output Shape              Param #   \n",
            "=================================================================\n",
            " input_1 (InputLayer)        [(None, 200)]             0         \n",
            "                                                                 \n",
            " embedding (Embedding)       (None, 200, 120)          3717600   \n",
            "                                                                 \n",
            " gru (GRU)                   (None, 64)                35712     \n",
            "                                                                 \n",
            " dense (Dense)               (None, 46)                2990      \n",
            "                                                                 \n",
            "=================================================================\n",
            "Total params: 3,756,302\n",
            "Trainable params: 3,756,302\n",
            "Non-trainable params: 0\n",
            "_________________________________________________________________\n"
          ]
        }
      ]
    },
    {
      "cell_type": "markdown",
      "metadata": {
        "id": "ta1I5ZEY1FBR"
      },
      "source": [
        "### 문제 38. 로드한 모델을 test 데이터로 평가해보세요.\n"
      ]
    },
    {
      "cell_type": "code",
      "metadata": {
        "id": "ALrVf_lm0_Bc"
      },
      "source": [
        "# 로드한 모델을 test 데이터로 평가해보세요."
      ],
      "execution_count": null,
      "outputs": []
    },
    {
      "cell_type": "code",
      "source": [
        "acc, loss = new_model.evaluate(test_cut_bow_text2, test_onehot_topic)\n",
        "print(acc, loss)"
      ],
      "metadata": {
        "colab": {
          "base_uri": "https://localhost:8080/"
        },
        "id": "cnvN63MIVQUn",
        "outputId": "f59d4197-300c-4657-b69e-d7f5ad7f5c8d"
      },
      "execution_count": null,
      "outputs": [
        {
          "output_type": "stream",
          "name": "stdout",
          "text": [
            "71/71 [==============================] - 2s 17ms/step - loss: 1.8902 - accuracy: 0.6674\n",
            "1.8901995420455933 0.6674087047576904\n"
          ]
        }
      ]
    },
    {
      "cell_type": "code",
      "source": [
        "acc, loss = model.evaluate(test_cut_bow_text2, test_onehot_topic)\n",
        "print(acc, loss)"
      ],
      "metadata": {
        "colab": {
          "base_uri": "https://localhost:8080/"
        },
        "id": "G3_2sUJtVrIQ",
        "outputId": "71ac0e77-c49d-45e1-a4b6-594eedf3bfac"
      },
      "execution_count": null,
      "outputs": [
        {
          "output_type": "stream",
          "name": "stdout",
          "text": [
            "71/71 [==============================] - 1s 18ms/step - loss: 1.8902 - accuracy: 0.6674\n",
            "1.8901995420455933 0.6674087047576904\n"
          ]
        }
      ]
    },
    {
      "cell_type": "markdown",
      "metadata": {
        "id": "gfEgY1Vr1T1v"
      },
      "source": [
        "### 문제 39. 모델을 내 컴퓨터에 저장해보세요"
      ]
    },
    {
      "cell_type": "code",
      "metadata": {
        "id": "ASkJv_Ui1RGv"
      },
      "source": [
        "# 모델을 내 컴퓨터에 저장해보세요."
      ],
      "execution_count": null,
      "outputs": []
    },
    {
      "cell_type": "code",
      "metadata": {
        "id": "xumq13s87EyR",
        "colab": {
          "base_uri": "https://localhost:8080/",
          "height": 34
        },
        "outputId": "242d4479-c199-41e3-bc7d-b430105160cf"
      },
      "source": [
        "from google.colab import files\n",
        "\n",
        "files.download('./model.h5')"
      ],
      "execution_count": null,
      "outputs": [
        {
          "output_type": "display_data",
          "data": {
            "application/javascript": [
              "\n",
              "    async function download(id, filename, size) {\n",
              "      if (!google.colab.kernel.accessAllowed) {\n",
              "        return;\n",
              "      }\n",
              "      const div = document.createElement('div');\n",
              "      const label = document.createElement('label');\n",
              "      label.textContent = `Downloading \"${filename}\": `;\n",
              "      div.appendChild(label);\n",
              "      const progress = document.createElement('progress');\n",
              "      progress.max = size;\n",
              "      div.appendChild(progress);\n",
              "      document.body.appendChild(div);\n",
              "\n",
              "      const buffers = [];\n",
              "      let downloaded = 0;\n",
              "\n",
              "      const channel = await google.colab.kernel.comms.open(id);\n",
              "      // Send a message to notify the kernel that we're ready.\n",
              "      channel.send({})\n",
              "\n",
              "      for await (const message of channel.messages) {\n",
              "        // Send a message to notify the kernel that we're ready.\n",
              "        channel.send({})\n",
              "        if (message.buffers) {\n",
              "          for (const buffer of message.buffers) {\n",
              "            buffers.push(buffer);\n",
              "            downloaded += buffer.byteLength;\n",
              "            progress.value = downloaded;\n",
              "          }\n",
              "        }\n",
              "      }\n",
              "      const blob = new Blob(buffers, {type: 'application/binary'});\n",
              "      const a = document.createElement('a');\n",
              "      a.href = window.URL.createObjectURL(blob);\n",
              "      a.download = filename;\n",
              "      div.appendChild(a);\n",
              "      a.click();\n",
              "      div.remove();\n",
              "    }\n",
              "  "
            ],
            "text/plain": [
              "<IPython.core.display.Javascript object>"
            ]
          },
          "metadata": {}
        },
        {
          "output_type": "display_data",
          "data": {
            "application/javascript": [
              "download(\"download_cb1eaad5-75da-4bae-9763-030f56f103dd\", \"model.h5\", 45110680)"
            ],
            "text/plain": [
              "<IPython.core.display.Javascript object>"
            ]
          },
          "metadata": {}
        }
      ]
    }
  ]
}