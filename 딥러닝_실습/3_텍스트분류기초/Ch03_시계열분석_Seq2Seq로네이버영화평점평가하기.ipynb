{
  "nbformat": 4,
  "nbformat_minor": 0,
  "metadata": {
    "colab": {
      "name": "[실습]Part3_Ch03_시계열_분석_Seq2Seq로_네이버_영화평점_평가하기.ipynb",
      "provenance": [],
      "collapsed_sections": [],
      "include_colab_link": true
    },
    "kernelspec": {
      "display_name": "Python 3",
      "name": "python3"
    },
    "accelerator": "GPU"
  },
  "cells": [
    {
      "cell_type": "markdown",
      "metadata": {
        "id": "view-in-github",
        "colab_type": "text"
      },
      "source": [
        "<a href=\"https://colab.research.google.com/github/JoHyunjeong/Deep_learning/blob/main/%08%EB%94%A5%EB%9F%AC%EB%8B%9D_%EC%8B%A4%EC%8A%B5/3_%ED%85%8D%EC%8A%A4%ED%8A%B8%EB%B6%84%EB%A5%98%EA%B8%B0%EC%B4%88/Ch03_%EC%8B%9C%EA%B3%84%EC%97%B4%EB%B6%84%EC%84%9D_Seq2Seq%EB%A1%9C%EB%84%A4%EC%9D%B4%EB%B2%84%EC%98%81%ED%99%94%ED%8F%89%EC%A0%90%ED%8F%89%EA%B0%80%ED%95%98%EA%B8%B0.ipynb\" target=\"_parent\"><img src=\"https://colab.research.google.com/assets/colab-badge.svg\" alt=\"Open In Colab\"/></a>"
      ]
    },
    {
      "cell_type": "markdown",
      "metadata": {
        "id": "oR0VJlz7mi5A"
      },
      "source": [
        "\n",
        "# 주제 : Seq2Seq로 네이버 영화 긍부정 평가하기\n",
        "--------------\n",
        "## 실습 가이드\n",
        "    1. 데이터를 다운로드하여 Colab에 불러옵니다.\n",
        "    2. 필요한 라이브러리는 모두 코드로 작성되어 있습니다.\n",
        "    3. 코드는 위에서부터 아래로 순서대로 실행합니다.\n",
        "    4. 전체 문제 구성은 좌측 첫 번째 아이콘을 통해 확인할 수 있습니다.\n",
        "\n",
        "## 데이터 소개\n",
        "    - 이번 주제는 Naver sentiment movie corpus 데이터를 사용합니다.\n",
        "    - Naver sentiment movie corpus Dataset은 20만개의 영화 리뷰를 기록해둔 데이터 셋입니다.\n",
        "    - 모든 데이터는 작성자 id, 리뷰, 긍부정 여부로 되어있습니다.\n",
        "    - 긍부정 여부는 0,1의 값을 가집니다.\n",
        "    - 리뷰의 길이는 140자를 넘지 않습니다.\n",
        "    - 긍부정 비율은 약 50% 내외입니다.\n",
        "    - 학습 데이터와 정답 데이터는, 각각의 아래와 같습니다.\n",
        "    \n",
        "    1. ratings_train\n",
        "      0\t9976970\t아 더빙.. 진짜 짜증나네요 목소리\t0\n",
        "      1\t3819312\t흠...포스터보고 초딩영화줄....오버연기조차 가볍지 않구나\t1\n",
        "      2\t10265843\t너무재밓었다그래서보는것을추천한다\t0\n",
        "      3\t9045019\t교도소 이야기구먼 ..솔직히 재미는 없다..평점 조정\t0\n",
        "      4\t6483659\t사이몬페그의 익살스런 연기가 돋보였던 영화!스파이더맨에서 늙어보이기만 했던 커스틴 ...\t1\n",
        "    \n",
        "    2. ratings_test\n",
        "      6270596\t굳 ㅋ\t1\n",
        "      9274899\tGDNTOPCLASSINTHECLUB\t0\n",
        "      8544678\t뭐야 이 평점들은.... 나쁘진 않지만 10점 짜리는 더더욱 아니잖아\t0\n",
        "      6825595\t지루하지는 않은데 완전 막장임... 돈주고 보기에는....\t0\n",
        "\n",
        "    \n",
        "- 데이터 출처: [nsmc](https://github.com/e9t/nsmc)\n",
        "\n",
        "\n",
        "## 최종 목표\n",
        "    - Seq2Seq 기반 모델의 이해\n",
        "    - word embedding 이해\n",
        "    - 시계열 데이터 학습 이해\n",
        "    \n",
        "  - 출제자 : 손근영 강사\n"
      ]
    },
    {
      "cell_type": "code",
      "metadata": {
        "id": "e7kl3hgkikbo"
      },
      "source": [
        "import tensorflow as tf\n",
        "from tensorflow import keras\n",
        "from keras.layers import Dense\n",
        "from keras.models import Sequential\n",
        "\n",
        "import pandas as pd\n",
        "import numpy as np\n",
        "import matplotlib.pyplot as plt\n",
        "import seaborn as sns\n",
        "import warnings \n",
        "from IPython.display import Image\n",
        "\n",
        "warnings.filterwarnings('ignore')\n",
        "%matplotlib inline\n",
        "\n",
        "SEED = 34"
      ],
      "execution_count": null,
      "outputs": []
    },
    {
      "cell_type": "markdown",
      "metadata": {
        "id": "4lgdg5xwPC4x"
      },
      "source": [
        "## Step 1. 도입전 기본 처리"
      ]
    },
    {
      "cell_type": "markdown",
      "metadata": {
        "id": "sxeWYNVxPC43"
      },
      "source": [
        "### 문제 1. 네이버 데이터 다운 받기"
      ]
    },
    {
      "cell_type": "code",
      "metadata": {
        "id": "J4NDkmelPC44"
      },
      "source": [
        "# 데이터를 불러오는 코드를 작성해주세요.\n",
        "# https://raw.githubusercontent.com/e9t/nsmc/master/ratings_test.txt\n",
        "# https://raw.githubusercontent.com/e9t/nsmc/master/ratings_train.txt"
      ],
      "execution_count": null,
      "outputs": []
    },
    {
      "cell_type": "code",
      "source": [
        "!ls -al"
      ],
      "metadata": {
        "colab": {
          "base_uri": "https://localhost:8080/"
        },
        "id": "a7EMnI6Kunbq",
        "outputId": "18590b20-6e34-480e-be15-2acfe80be9a8"
      },
      "execution_count": null,
      "outputs": [
        {
          "output_type": "stream",
          "name": "stdout",
          "text": [
            "total 16\n",
            "drwxr-xr-x 1 root root 4096 Feb  1 14:32 .\n",
            "drwxr-xr-x 1 root root 4096 Feb 22 09:08 ..\n",
            "drwxr-xr-x 4 root root 4096 Feb  1 14:31 .config\n",
            "drwxr-xr-x 1 root root 4096 Feb  1 14:32 sample_data\n"
          ]
        }
      ]
    },
    {
      "cell_type": "code",
      "source": [
        "!wget https://raw.githubusercontent.com/e9t/nsmc/master/ratings_test.txt"
      ],
      "metadata": {
        "colab": {
          "base_uri": "https://localhost:8080/"
        },
        "id": "00J3kJ6wu3cn",
        "outputId": "309b3e7e-9aab-4d89-b02c-c36ee77cc274"
      },
      "execution_count": null,
      "outputs": [
        {
          "output_type": "stream",
          "name": "stdout",
          "text": [
            "--2022-02-22 09:20:34--  https://raw.githubusercontent.com/e9t/nsmc/master/ratings_test.txt\n",
            "Resolving raw.githubusercontent.com (raw.githubusercontent.com)... 185.199.108.133, 185.199.109.133, 185.199.110.133, ...\n",
            "Connecting to raw.githubusercontent.com (raw.githubusercontent.com)|185.199.108.133|:443... connected.\n",
            "HTTP request sent, awaiting response... 200 OK\n",
            "Length: 4893335 (4.7M) [text/plain]\n",
            "Saving to: ‘ratings_test.txt’\n",
            "\n",
            "ratings_test.txt    100%[===================>]   4.67M  --.-KB/s    in 0.08s   \n",
            "\n",
            "2022-02-22 09:20:34 (62.1 MB/s) - ‘ratings_test.txt’ saved [4893335/4893335]\n",
            "\n"
          ]
        }
      ]
    },
    {
      "cell_type": "code",
      "source": [
        "!wget https://raw.githubusercontent.com/e9t/nsmc/master/ratings_train.txt # 인터넷의 데이터나 웹페이지 등 다운받는 리눅스 명령어"
      ],
      "metadata": {
        "colab": {
          "base_uri": "https://localhost:8080/"
        },
        "id": "wgOh0nNqs_Jf",
        "outputId": "b78aba04-85e1-4e60-a42a-ccae71039f64"
      },
      "execution_count": null,
      "outputs": [
        {
          "output_type": "stream",
          "name": "stdout",
          "text": [
            "--2022-02-22 09:19:59--  https://raw.githubusercontent.com/e9t/nsmc/master/ratings_train.txt\n",
            "Resolving raw.githubusercontent.com (raw.githubusercontent.com)... 185.199.108.133, 185.199.109.133, 185.199.110.133, ...\n",
            "Connecting to raw.githubusercontent.com (raw.githubusercontent.com)|185.199.108.133|:443... connected.\n",
            "HTTP request sent, awaiting response... 200 OK\n",
            "Length: 14628807 (14M) [text/plain]\n",
            "Saving to: ‘ratings_train.txt’\n",
            "\n",
            "ratings_train.txt   100%[===================>]  13.95M  --.-KB/s    in 0.1s    \n",
            "\n",
            "2022-02-22 09:20:00 (133 MB/s) - ‘ratings_train.txt’ saved [14628807/14628807]\n",
            "\n"
          ]
        }
      ]
    },
    {
      "cell_type": "code",
      "source": [
        "!ls -al # 잘 받아졌는지 확인"
      ],
      "metadata": {
        "colab": {
          "base_uri": "https://localhost:8080/"
        },
        "id": "4YKh4AjWuspd",
        "outputId": "92c6d66e-5d69-4e3c-a74d-cb4293d15ed9"
      },
      "execution_count": null,
      "outputs": [
        {
          "output_type": "stream",
          "name": "stdout",
          "text": [
            "total 19084\n",
            "drwxr-xr-x 1 root root     4096 Feb 22 09:20 .\n",
            "drwxr-xr-x 1 root root     4096 Feb 22 09:08 ..\n",
            "drwxr-xr-x 4 root root     4096 Feb  1 14:31 .config\n",
            "-rw-r--r-- 1 root root  4893335 Feb 22 09:20 ratings_test.txt\n",
            "-rw-r--r-- 1 root root 14628807 Feb 22 09:20 ratings_train.txt\n",
            "drwxr-xr-x 1 root root     4096 Feb  1 14:32 sample_data\n"
          ]
        }
      ]
    },
    {
      "cell_type": "code",
      "source": [
        "!cat ratings_train.txt | head -n10 # 10개 출력"
      ],
      "metadata": {
        "colab": {
          "base_uri": "https://localhost:8080/"
        },
        "id": "DhYorgIFu8x5",
        "outputId": "ad1e683d-c66a-449b-9b9f-83d7dfc80e81"
      },
      "execution_count": null,
      "outputs": [
        {
          "output_type": "stream",
          "name": "stdout",
          "text": [
            "id\tdocument\tlabel\n",
            "9976970\t아 더빙.. 진짜 짜증나네요 목소리\t0\n",
            "3819312\t흠...포스터보고 초딩영화줄....오버연기조차 가볍지 않구나\t1\n",
            "10265843\t너무재밓었다그래서보는것을추천한다\t0\n",
            "9045019\t교도소 이야기구먼 ..솔직히 재미는 없다..평점 조정\t0\n",
            "6483659\t사이몬페그의 익살스런 연기가 돋보였던 영화!스파이더맨에서 늙어보이기만 했던 커스틴 던스트가 너무나도 이뻐보였다\t1\n",
            "5403919\t막 걸음마 뗀 3세부터 초등학교 1학년생인 8살용영화.ㅋㅋㅋ...별반개도 아까움.\t0\n",
            "7797314\t원작의 긴장감을 제대로 살려내지못했다.\t0\n",
            "9443947\t별 반개도 아깝다 욕나온다 이응경 길용우 연기생활이몇년인지..정말 발로해도 그것보단 낫겟다 납치.감금만반복반복..이드라마는 가족도없다 연기못하는사람만모엿네\t0\n",
            "7156791\t액션이 없는데도 재미 있는 몇안되는 영화\t1\n"
          ]
        }
      ]
    },
    {
      "cell_type": "code",
      "source": [
        "!cat ratings_test.txt | head -n10"
      ],
      "metadata": {
        "colab": {
          "base_uri": "https://localhost:8080/"
        },
        "id": "vMRSKoC2vKVy",
        "outputId": "dc13854c-94f2-40ea-b454-97fdc100e3ff"
      },
      "execution_count": null,
      "outputs": [
        {
          "output_type": "stream",
          "name": "stdout",
          "text": [
            "id\tdocument\tlabel\n",
            "6270596\t굳 ㅋ\t1\n",
            "9274899\tGDNTOPCLASSINTHECLUB\t0\n",
            "8544678\t뭐야 이 평점들은.... 나쁘진 않지만 10점 짜리는 더더욱 아니잖아\t0\n",
            "6825595\t지루하지는 않은데 완전 막장임... 돈주고 보기에는....\t0\n",
            "6723715\t3D만 아니었어도 별 다섯 개 줬을텐데.. 왜 3D로 나와서 제 심기를 불편하게 하죠??\t0\n",
            "7898805\t음악이 주가 된, 최고의 음악영화\t1\n",
            "6315043\t진정한 쓰레기\t0\n",
            "6097171\t마치 미국애니에서 튀어나온듯한 창의력없는 로봇디자인부터가,고개를 젖게한다\t0\n",
            "8932678\t갈수록 개판되가는 중국영화 유치하고 내용없음 폼잡다 끝남 말도안되는 무기에 유치한cg남무 아 그립다 동사서독같은 영화가 이건 3류아류작이다\t0\n"
          ]
        }
      ]
    },
    {
      "cell_type": "markdown",
      "metadata": {
        "id": "Miiqp9OBiRtF"
      },
      "source": [
        "### 문제 2. 네이버 데이터 판다스 데이터프레임에 로드하기"
      ]
    },
    {
      "cell_type": "code",
      "metadata": {
        "id": "6E3rRcIBPC45"
      },
      "source": [
        "# 데이터를 불러오는 코드를 작성해주세요."
      ],
      "execution_count": null,
      "outputs": []
    },
    {
      "cell_type": "code",
      "source": [
        "import pandas as pd\n",
        "\n",
        "train_df = pd.read_csv('ratings_train.txt', sep='\\t')\n",
        "test_df = pd.read_csv('ratings_test.txt', sep='\\t')"
      ],
      "metadata": {
        "id": "IenBv2YXs_Vb"
      },
      "execution_count": null,
      "outputs": []
    },
    {
      "cell_type": "code",
      "source": [
        "train_df.head()"
      ],
      "metadata": {
        "colab": {
          "base_uri": "https://localhost:8080/",
          "height": 206
        },
        "id": "q4gYhwwrve8b",
        "outputId": "190e3290-f427-4d0a-f666-fa6432052453"
      },
      "execution_count": null,
      "outputs": [
        {
          "output_type": "execute_result",
          "data": {
            "text/html": [
              "\n",
              "  <div id=\"df-50e1caa6-83b2-417b-aaaf-5a75605169d5\">\n",
              "    <div class=\"colab-df-container\">\n",
              "      <div>\n",
              "<style scoped>\n",
              "    .dataframe tbody tr th:only-of-type {\n",
              "        vertical-align: middle;\n",
              "    }\n",
              "\n",
              "    .dataframe tbody tr th {\n",
              "        vertical-align: top;\n",
              "    }\n",
              "\n",
              "    .dataframe thead th {\n",
              "        text-align: right;\n",
              "    }\n",
              "</style>\n",
              "<table border=\"1\" class=\"dataframe\">\n",
              "  <thead>\n",
              "    <tr style=\"text-align: right;\">\n",
              "      <th></th>\n",
              "      <th>id</th>\n",
              "      <th>document</th>\n",
              "      <th>label</th>\n",
              "    </tr>\n",
              "  </thead>\n",
              "  <tbody>\n",
              "    <tr>\n",
              "      <th>0</th>\n",
              "      <td>9976970</td>\n",
              "      <td>아 더빙.. 진짜 짜증나네요 목소리</td>\n",
              "      <td>0</td>\n",
              "    </tr>\n",
              "    <tr>\n",
              "      <th>1</th>\n",
              "      <td>3819312</td>\n",
              "      <td>흠...포스터보고 초딩영화줄....오버연기조차 가볍지 않구나</td>\n",
              "      <td>1</td>\n",
              "    </tr>\n",
              "    <tr>\n",
              "      <th>2</th>\n",
              "      <td>10265843</td>\n",
              "      <td>너무재밓었다그래서보는것을추천한다</td>\n",
              "      <td>0</td>\n",
              "    </tr>\n",
              "    <tr>\n",
              "      <th>3</th>\n",
              "      <td>9045019</td>\n",
              "      <td>교도소 이야기구먼 ..솔직히 재미는 없다..평점 조정</td>\n",
              "      <td>0</td>\n",
              "    </tr>\n",
              "    <tr>\n",
              "      <th>4</th>\n",
              "      <td>6483659</td>\n",
              "      <td>사이몬페그의 익살스런 연기가 돋보였던 영화!스파이더맨에서 늙어보이기만 했던 커스틴 ...</td>\n",
              "      <td>1</td>\n",
              "    </tr>\n",
              "  </tbody>\n",
              "</table>\n",
              "</div>\n",
              "      <button class=\"colab-df-convert\" onclick=\"convertToInteractive('df-50e1caa6-83b2-417b-aaaf-5a75605169d5')\"\n",
              "              title=\"Convert this dataframe to an interactive table.\"\n",
              "              style=\"display:none;\">\n",
              "        \n",
              "  <svg xmlns=\"http://www.w3.org/2000/svg\" height=\"24px\"viewBox=\"0 0 24 24\"\n",
              "       width=\"24px\">\n",
              "    <path d=\"M0 0h24v24H0V0z\" fill=\"none\"/>\n",
              "    <path d=\"M18.56 5.44l.94 2.06.94-2.06 2.06-.94-2.06-.94-.94-2.06-.94 2.06-2.06.94zm-11 1L8.5 8.5l.94-2.06 2.06-.94-2.06-.94L8.5 2.5l-.94 2.06-2.06.94zm10 10l.94 2.06.94-2.06 2.06-.94-2.06-.94-.94-2.06-.94 2.06-2.06.94z\"/><path d=\"M17.41 7.96l-1.37-1.37c-.4-.4-.92-.59-1.43-.59-.52 0-1.04.2-1.43.59L10.3 9.45l-7.72 7.72c-.78.78-.78 2.05 0 2.83L4 21.41c.39.39.9.59 1.41.59.51 0 1.02-.2 1.41-.59l7.78-7.78 2.81-2.81c.8-.78.8-2.07 0-2.86zM5.41 20L4 18.59l7.72-7.72 1.47 1.35L5.41 20z\"/>\n",
              "  </svg>\n",
              "      </button>\n",
              "      \n",
              "  <style>\n",
              "    .colab-df-container {\n",
              "      display:flex;\n",
              "      flex-wrap:wrap;\n",
              "      gap: 12px;\n",
              "    }\n",
              "\n",
              "    .colab-df-convert {\n",
              "      background-color: #E8F0FE;\n",
              "      border: none;\n",
              "      border-radius: 50%;\n",
              "      cursor: pointer;\n",
              "      display: none;\n",
              "      fill: #1967D2;\n",
              "      height: 32px;\n",
              "      padding: 0 0 0 0;\n",
              "      width: 32px;\n",
              "    }\n",
              "\n",
              "    .colab-df-convert:hover {\n",
              "      background-color: #E2EBFA;\n",
              "      box-shadow: 0px 1px 2px rgba(60, 64, 67, 0.3), 0px 1px 3px 1px rgba(60, 64, 67, 0.15);\n",
              "      fill: #174EA6;\n",
              "    }\n",
              "\n",
              "    [theme=dark] .colab-df-convert {\n",
              "      background-color: #3B4455;\n",
              "      fill: #D2E3FC;\n",
              "    }\n",
              "\n",
              "    [theme=dark] .colab-df-convert:hover {\n",
              "      background-color: #434B5C;\n",
              "      box-shadow: 0px 1px 3px 1px rgba(0, 0, 0, 0.15);\n",
              "      filter: drop-shadow(0px 1px 2px rgba(0, 0, 0, 0.3));\n",
              "      fill: #FFFFFF;\n",
              "    }\n",
              "  </style>\n",
              "\n",
              "      <script>\n",
              "        const buttonEl =\n",
              "          document.querySelector('#df-50e1caa6-83b2-417b-aaaf-5a75605169d5 button.colab-df-convert');\n",
              "        buttonEl.style.display =\n",
              "          google.colab.kernel.accessAllowed ? 'block' : 'none';\n",
              "\n",
              "        async function convertToInteractive(key) {\n",
              "          const element = document.querySelector('#df-50e1caa6-83b2-417b-aaaf-5a75605169d5');\n",
              "          const dataTable =\n",
              "            await google.colab.kernel.invokeFunction('convertToInteractive',\n",
              "                                                     [key], {});\n",
              "          if (!dataTable) return;\n",
              "\n",
              "          const docLinkHtml = 'Like what you see? Visit the ' +\n",
              "            '<a target=\"_blank\" href=https://colab.research.google.com/notebooks/data_table.ipynb>data table notebook</a>'\n",
              "            + ' to learn more about interactive tables.';\n",
              "          element.innerHTML = '';\n",
              "          dataTable['output_type'] = 'display_data';\n",
              "          await google.colab.output.renderOutput(dataTable, element);\n",
              "          const docLink = document.createElement('div');\n",
              "          docLink.innerHTML = docLinkHtml;\n",
              "          element.appendChild(docLink);\n",
              "        }\n",
              "      </script>\n",
              "    </div>\n",
              "  </div>\n",
              "  "
            ],
            "text/plain": [
              "         id                                           document  label\n",
              "0   9976970                                아 더빙.. 진짜 짜증나네요 목소리      0\n",
              "1   3819312                  흠...포스터보고 초딩영화줄....오버연기조차 가볍지 않구나      1\n",
              "2  10265843                                  너무재밓었다그래서보는것을추천한다      0\n",
              "3   9045019                      교도소 이야기구먼 ..솔직히 재미는 없다..평점 조정      0\n",
              "4   6483659  사이몬페그의 익살스런 연기가 돋보였던 영화!스파이더맨에서 늙어보이기만 했던 커스틴 ...      1"
            ]
          },
          "metadata": {},
          "execution_count": 15
        }
      ]
    },
    {
      "cell_type": "markdown",
      "metadata": {
        "id": "rFpSKytFPC47"
      },
      "source": [
        "### 문제 3. train_df/test_df의 shape/dtype을 출력해보세요."
      ]
    },
    {
      "cell_type": "code",
      "metadata": {
        "id": "xHKWk6YcPC48"
      },
      "source": [
        "# 데이터의 크기를 shape 함수를 통해 출력해주세요."
      ],
      "execution_count": null,
      "outputs": []
    },
    {
      "cell_type": "code",
      "source": [
        "print(train_df.shape, test_df.shape)"
      ],
      "metadata": {
        "colab": {
          "base_uri": "https://localhost:8080/"
        },
        "id": "ZuKv9zL4s_rD",
        "outputId": "b55d2ece-5d31-4b0e-8425-39c675168cb5"
      },
      "execution_count": null,
      "outputs": [
        {
          "output_type": "stream",
          "name": "stdout",
          "text": [
            "(150000, 3) (50000, 3)\n"
          ]
        }
      ]
    },
    {
      "cell_type": "code",
      "metadata": {
        "id": "fRJDoM_oPC49"
      },
      "source": [
        "# train_text/topic의 dtype을 출력해보세요."
      ],
      "execution_count": null,
      "outputs": []
    },
    {
      "cell_type": "code",
      "source": [
        "# 컬럼별로 type이 다를 수 있음\n",
        "print(train_df.dtypes)\n",
        "print(test_df.dtypes)"
      ],
      "metadata": {
        "colab": {
          "base_uri": "https://localhost:8080/"
        },
        "id": "dHeU6FNWs_1v",
        "outputId": "ca7d2c40-64b3-4f10-fdda-808d5871ab0d"
      },
      "execution_count": null,
      "outputs": [
        {
          "output_type": "stream",
          "name": "stdout",
          "text": [
            "id           int64\n",
            "document    object\n",
            "label        int64\n",
            "dtype: object\n",
            "id           int64\n",
            "document    object\n",
            "label        int64\n",
            "dtype: object\n"
          ]
        }
      ]
    },
    {
      "cell_type": "markdown",
      "metadata": {
        "id": "rikliX9BPC4-"
      },
      "source": [
        "### 문제 4. train_df에서 각 원소의 길이를 y축으로 bar plot를 그려보세요."
      ]
    },
    {
      "cell_type": "code",
      "metadata": {
        "id": "yllyG8J6PC4-"
      },
      "source": [
        "# train_text에서 각 원소의 길이를 y축으로 bar plot를 그려보세요."
      ],
      "execution_count": null,
      "outputs": []
    },
    {
      "cell_type": "code",
      "source": [
        "plt.bar(range(2000), [len(str(text)) for text in train_df.sample(2000).document])\n",
        "plt.show()"
      ],
      "metadata": {
        "colab": {
          "base_uri": "https://localhost:8080/",
          "height": 265
        },
        "id": "kUlRl4w-tAK1",
        "outputId": "d5763b70-8cc2-46d2-d24f-52793ec2ee77"
      },
      "execution_count": null,
      "outputs": [
        {
          "output_type": "display_data",
          "data": {
            "image/png": "[encoded data removed]",
            "text/plain": [
              "<Figure size 432x288 with 1 Axes>"
            ]
          },
          "metadata": {
            "needs_background": "light"
          }
        }
      ]
    },
    {
      "cell_type": "markdown",
      "metadata": {
        "id": "eKv9UoZAxTr6"
      },
      "source": [
        "## Step 2. 전처리"
      ]
    },
    {
      "cell_type": "markdown",
      "metadata": {
        "id": "0Ty3Q15noO-q"
      },
      "source": [
        "### 문제 5. 형태소 분석기 설치"
      ]
    },
    {
      "cell_type": "code",
      "metadata": {
        "id": "9D1A6yP-oOTQ"
      },
      "source": [
        "# 형태소 분석기 설치(한국어 문법에 따라 문장을 작게 쪼갬)"
      ],
      "execution_count": null,
      "outputs": []
    },
    {
      "cell_type": "code",
      "source": [
        "!pip install konlpy"
      ],
      "metadata": {
        "colab": {
          "base_uri": "https://localhost:8080/"
        },
        "id": "HkhirGdJtEHo",
        "outputId": "d04b6bdb-cec7-4c8d-91e9-b8df56aa44c9"
      },
      "execution_count": null,
      "outputs": [
        {
          "output_type": "stream",
          "name": "stdout",
          "text": [
            "Collecting konlpy\n",
            "  Downloading konlpy-0.6.0-py2.py3-none-any.whl (19.4 MB)\n",
            "\u001b[K     |████████████████████████████████| 19.4 MB 1.3 MB/s \n",
            "\u001b[?25hRequirement already satisfied: lxml>=4.1.0 in /usr/local/lib/python3.7/dist-packages (from konlpy) (4.2.6)\n",
            "Requirement already satisfied: numpy>=1.6 in /usr/local/lib/python3.7/dist-packages (from konlpy) (1.21.5)\n",
            "Collecting JPype1>=0.7.0\n",
            "  Downloading JPype1-1.3.0-cp37-cp37m-manylinux_2_5_x86_64.manylinux1_x86_64.whl (448 kB)\n",
            "\u001b[K     |████████████████████████████████| 448 kB 45.3 MB/s \n",
            "\u001b[?25hRequirement already satisfied: typing-extensions in /usr/local/lib/python3.7/dist-packages (from JPype1>=0.7.0->konlpy) (3.10.0.2)\n",
            "Installing collected packages: JPype1, konlpy\n",
            "Successfully installed JPype1-1.3.0 konlpy-0.6.0\n"
          ]
        }
      ]
    },
    {
      "cell_type": "markdown",
      "source": [
        "https://konlpy.org/ko/latest/index.html\n",
        "사용법 참고"
      ],
      "metadata": {
        "id": "Y3SKO4VByh4Q"
      }
    },
    {
      "cell_type": "code",
      "source": [
        "from konlpy.tag import Okt\n",
        "\n",
        "okt = Okt()\n",
        "okt.pos('오늘은 즐겁게 딥러닝 공부를 하고 있습니다.')"
      ],
      "metadata": {
        "colab": {
          "base_uri": "https://localhost:8080/"
        },
        "id": "hD5zN5ZTyo6g",
        "outputId": "a02a6330-00c9-4ad8-dfd3-a3b9fa54ae06"
      },
      "execution_count": null,
      "outputs": [
        {
          "output_type": "execute_result",
          "data": {
            "text/plain": [
              "[('오늘', 'Noun'),\n",
              " ('은', 'Josa'),\n",
              " ('즐겁게', 'Adjective'),\n",
              " ('딥', 'Noun'),\n",
              " ('러닝', 'Noun'),\n",
              " ('공부', 'Noun'),\n",
              " ('를', 'Josa'),\n",
              " ('하고', 'Verb'),\n",
              " ('있습니다', 'Adjective'),\n",
              " ('.', 'Punctuation')]"
            ]
          },
          "metadata": {},
          "execution_count": 25
        }
      ]
    },
    {
      "cell_type": "code",
      "source": [
        "list(filter(lambda x: x[1]=='Noun', okt.pos('오늘은 즐겁게 딥러닝 공부를 하고 있습니다.'))) # 명사만 획득하는 예"
      ],
      "metadata": {
        "colab": {
          "base_uri": "https://localhost:8080/"
        },
        "id": "smqoeZjky213",
        "outputId": "4cc9a60f-7cbc-4aa7-9175-b7c585e0eb1d"
      },
      "execution_count": null,
      "outputs": [
        {
          "output_type": "execute_result",
          "data": {
            "text/plain": [
              "[('오늘', 'Noun'), ('딥', 'Noun'), ('러닝', 'Noun'), ('공부', 'Noun')]"
            ]
          },
          "metadata": {},
          "execution_count": 27
        }
      ]
    },
    {
      "cell_type": "markdown",
      "metadata": {
        "id": "K6DkHSwkxer8"
      },
      "source": [
        "### 문제 6. sentencepiece 설치 및 data 학습"
      ]
    },
    {
      "cell_type": "code",
      "metadata": {
        "id": "jEb1bThqxpMm"
      },
      "source": [
        "# sentencepiece 설치 및 data 학습(통계에 따라 단어를 쪼갬)"
      ],
      "execution_count": null,
      "outputs": []
    },
    {
      "cell_type": "code",
      "source": [
        "!pip install sentencepiece"
      ],
      "metadata": {
        "colab": {
          "base_uri": "https://localhost:8080/"
        },
        "id": "e2okOaLGtEZO",
        "outputId": "987dea57-3238-4d96-f273-91b6225f9970"
      },
      "execution_count": null,
      "outputs": [
        {
          "output_type": "stream",
          "name": "stdout",
          "text": [
            "Collecting sentencepiece\n",
            "  Downloading sentencepiece-0.1.96-cp37-cp37m-manylinux_2_17_x86_64.manylinux2014_x86_64.whl (1.2 MB)\n",
            "\u001b[?25l\r\u001b[K     |▎                               | 10 kB 17.6 MB/s eta 0:00:01\r\u001b[K     |▌                               | 20 kB 19.6 MB/s eta 0:00:01\r\u001b[K     |▉                               | 30 kB 14.0 MB/s eta 0:00:01\r\u001b[K     |█                               | 40 kB 10.2 MB/s eta 0:00:01\r\u001b[K     |█▍                              | 51 kB 5.3 MB/s eta 0:00:01\r\u001b[K     |█▋                              | 61 kB 6.2 MB/s eta 0:00:01\r\u001b[K     |██                              | 71 kB 5.1 MB/s eta 0:00:01\r\u001b[K     |██▏                             | 81 kB 5.6 MB/s eta 0:00:01\r\u001b[K     |██▍                             | 92 kB 6.2 MB/s eta 0:00:01\r\u001b[K     |██▊                             | 102 kB 5.7 MB/s eta 0:00:01\r\u001b[K     |███                             | 112 kB 5.7 MB/s eta 0:00:01\r\u001b[K     |███▎                            | 122 kB 5.7 MB/s eta 0:00:01\r\u001b[K     |███▌                            | 133 kB 5.7 MB/s eta 0:00:01\r\u001b[K     |███▉                            | 143 kB 5.7 MB/s eta 0:00:01\r\u001b[K     |████                            | 153 kB 5.7 MB/s eta 0:00:01\r\u001b[K     |████▎                           | 163 kB 5.7 MB/s eta 0:00:01\r\u001b[K     |████▋                           | 174 kB 5.7 MB/s eta 0:00:01\r\u001b[K     |████▉                           | 184 kB 5.7 MB/s eta 0:00:01\r\u001b[K     |█████▏                          | 194 kB 5.7 MB/s eta 0:00:01\r\u001b[K     |█████▍                          | 204 kB 5.7 MB/s eta 0:00:01\r\u001b[K     |█████▊                          | 215 kB 5.7 MB/s eta 0:00:01\r\u001b[K     |██████                          | 225 kB 5.7 MB/s eta 0:00:01\r\u001b[K     |██████▏                         | 235 kB 5.7 MB/s eta 0:00:01\r\u001b[K     |██████▌                         | 245 kB 5.7 MB/s eta 0:00:01\r\u001b[K     |██████▊                         | 256 kB 5.7 MB/s eta 0:00:01\r\u001b[K     |███████                         | 266 kB 5.7 MB/s eta 0:00:01\r\u001b[K     |███████▎                        | 276 kB 5.7 MB/s eta 0:00:01\r\u001b[K     |███████▋                        | 286 kB 5.7 MB/s eta 0:00:01\r\u001b[K     |███████▉                        | 296 kB 5.7 MB/s eta 0:00:01\r\u001b[K     |████████                        | 307 kB 5.7 MB/s eta 0:00:01\r\u001b[K     |████████▍                       | 317 kB 5.7 MB/s eta 0:00:01\r\u001b[K     |████████▋                       | 327 kB 5.7 MB/s eta 0:00:01\r\u001b[K     |█████████                       | 337 kB 5.7 MB/s eta 0:00:01\r\u001b[K     |█████████▏                      | 348 kB 5.7 MB/s eta 0:00:01\r\u001b[K     |█████████▌                      | 358 kB 5.7 MB/s eta 0:00:01\r\u001b[K     |█████████▊                      | 368 kB 5.7 MB/s eta 0:00:01\r\u001b[K     |██████████                      | 378 kB 5.7 MB/s eta 0:00:01\r\u001b[K     |██████████▎                     | 389 kB 5.7 MB/s eta 0:00:01\r\u001b[K     |██████████▌                     | 399 kB 5.7 MB/s eta 0:00:01\r\u001b[K     |██████████▉                     | 409 kB 5.7 MB/s eta 0:00:01\r\u001b[K     |███████████                     | 419 kB 5.7 MB/s eta 0:00:01\r\u001b[K     |███████████▍                    | 430 kB 5.7 MB/s eta 0:00:01\r\u001b[K     |███████████▋                    | 440 kB 5.7 MB/s eta 0:00:01\r\u001b[K     |███████████▉                    | 450 kB 5.7 MB/s eta 0:00:01\r\u001b[K     |████████████▏                   | 460 kB 5.7 MB/s eta 0:00:01\r\u001b[K     |████████████▍                   | 471 kB 5.7 MB/s eta 0:00:01\r\u001b[K     |████████████▊                   | 481 kB 5.7 MB/s eta 0:00:01\r\u001b[K     |█████████████                   | 491 kB 5.7 MB/s eta 0:00:01\r\u001b[K     |█████████████▎                  | 501 kB 5.7 MB/s eta 0:00:01\r\u001b[K     |█████████████▌                  | 512 kB 5.7 MB/s eta 0:00:01\r\u001b[K     |█████████████▊                  | 522 kB 5.7 MB/s eta 0:00:01\r\u001b[K     |██████████████                  | 532 kB 5.7 MB/s eta 0:00:01\r\u001b[K     |██████████████▎                 | 542 kB 5.7 MB/s eta 0:00:01\r\u001b[K     |██████████████▋                 | 552 kB 5.7 MB/s eta 0:00:01\r\u001b[K     |██████████████▉                 | 563 kB 5.7 MB/s eta 0:00:01\r\u001b[K     |███████████████▏                | 573 kB 5.7 MB/s eta 0:00:01\r\u001b[K     |███████████████▍                | 583 kB 5.7 MB/s eta 0:00:01\r\u001b[K     |███████████████▋                | 593 kB 5.7 MB/s eta 0:00:01\r\u001b[K     |████████████████                | 604 kB 5.7 MB/s eta 0:00:01\r\u001b[K     |████████████████▏               | 614 kB 5.7 MB/s eta 0:00:01\r\u001b[K     |████████████████▌               | 624 kB 5.7 MB/s eta 0:00:01\r\u001b[K     |████████████████▊               | 634 kB 5.7 MB/s eta 0:00:01\r\u001b[K     |█████████████████               | 645 kB 5.7 MB/s eta 0:00:01\r\u001b[K     |█████████████████▎              | 655 kB 5.7 MB/s eta 0:00:01\r\u001b[K     |█████████████████▌              | 665 kB 5.7 MB/s eta 0:00:01\r\u001b[K     |█████████████████▉              | 675 kB 5.7 MB/s eta 0:00:01\r\u001b[K     |██████████████████              | 686 kB 5.7 MB/s eta 0:00:01\r\u001b[K     |██████████████████▍             | 696 kB 5.7 MB/s eta 0:00:01\r\u001b[K     |██████████████████▋             | 706 kB 5.7 MB/s eta 0:00:01\r\u001b[K     |███████████████████             | 716 kB 5.7 MB/s eta 0:00:01\r\u001b[K     |███████████████████▏            | 727 kB 5.7 MB/s eta 0:00:01\r\u001b[K     |███████████████████▍            | 737 kB 5.7 MB/s eta 0:00:01\r\u001b[K     |███████████████████▊            | 747 kB 5.7 MB/s eta 0:00:01\r\u001b[K     |████████████████████            | 757 kB 5.7 MB/s eta 0:00:01\r\u001b[K     |████████████████████▎           | 768 kB 5.7 MB/s eta 0:00:01\r\u001b[K     |████████████████████▌           | 778 kB 5.7 MB/s eta 0:00:01\r\u001b[K     |████████████████████▉           | 788 kB 5.7 MB/s eta 0:00:01\r\u001b[K     |█████████████████████           | 798 kB 5.7 MB/s eta 0:00:01\r\u001b[K     |█████████████████████▎          | 808 kB 5.7 MB/s eta 0:00:01\r\u001b[K     |█████████████████████▋          | 819 kB 5.7 MB/s eta 0:00:01\r\u001b[K     |█████████████████████▉          | 829 kB 5.7 MB/s eta 0:00:01\r\u001b[K     |██████████████████████▏         | 839 kB 5.7 MB/s eta 0:00:01\r\u001b[K     |██████████████████████▍         | 849 kB 5.7 MB/s eta 0:00:01\r\u001b[K     |██████████████████████▊         | 860 kB 5.7 MB/s eta 0:00:01\r\u001b[K     |███████████████████████         | 870 kB 5.7 MB/s eta 0:00:01\r\u001b[K     |███████████████████████▏        | 880 kB 5.7 MB/s eta 0:00:01\r\u001b[K     |███████████████████████▌        | 890 kB 5.7 MB/s eta 0:00:01\r\u001b[K     |███████████████████████▊        | 901 kB 5.7 MB/s eta 0:00:01\r\u001b[K     |████████████████████████        | 911 kB 5.7 MB/s eta 0:00:01\r\u001b[K     |████████████████████████▎       | 921 kB 5.7 MB/s eta 0:00:01\r\u001b[K     |████████████████████████▋       | 931 kB 5.7 MB/s eta 0:00:01\r\u001b[K     |████████████████████████▉       | 942 kB 5.7 MB/s eta 0:00:01\r\u001b[K     |█████████████████████████       | 952 kB 5.7 MB/s eta 0:00:01\r\u001b[K     |█████████████████████████▍      | 962 kB 5.7 MB/s eta 0:00:01\r\u001b[K     |█████████████████████████▋      | 972 kB 5.7 MB/s eta 0:00:01\r\u001b[K     |██████████████████████████      | 983 kB 5.7 MB/s eta 0:00:01\r\u001b[K     |██████████████████████████▏     | 993 kB 5.7 MB/s eta 0:00:01\r\u001b[K     |██████████████████████████▌     | 1.0 MB 5.7 MB/s eta 0:00:01\r\u001b[K     |██████████████████████████▊     | 1.0 MB 5.7 MB/s eta 0:00:01\r\u001b[K     |███████████████████████████     | 1.0 MB 5.7 MB/s eta 0:00:01\r\u001b[K     |███████████████████████████▎    | 1.0 MB 5.7 MB/s eta 0:00:01\r\u001b[K     |███████████████████████████▌    | 1.0 MB 5.7 MB/s eta 0:00:01\r\u001b[K     |███████████████████████████▉    | 1.1 MB 5.7 MB/s eta 0:00:01\r\u001b[K     |████████████████████████████    | 1.1 MB 5.7 MB/s eta 0:00:01\r\u001b[K     |████████████████████████████▍   | 1.1 MB 5.7 MB/s eta 0:00:01\r\u001b[K     |████████████████████████████▋   | 1.1 MB 5.7 MB/s eta 0:00:01\r\u001b[K     |████████████████████████████▉   | 1.1 MB 5.7 MB/s eta 0:00:01\r\u001b[K     |█████████████████████████████▏  | 1.1 MB 5.7 MB/s eta 0:00:01\r\u001b[K     |█████████████████████████████▍  | 1.1 MB 5.7 MB/s eta 0:00:01\r\u001b[K     |█████████████████████████████▊  | 1.1 MB 5.7 MB/s eta 0:00:01\r\u001b[K     |██████████████████████████████  | 1.1 MB 5.7 MB/s eta 0:00:01\r\u001b[K     |██████████████████████████████▎ | 1.1 MB 5.7 MB/s eta 0:00:01\r\u001b[K     |██████████████████████████████▌ | 1.2 MB 5.7 MB/s eta 0:00:01\r\u001b[K     |██████████████████████████████▊ | 1.2 MB 5.7 MB/s eta 0:00:01\r\u001b[K     |███████████████████████████████ | 1.2 MB 5.7 MB/s eta 0:00:01\r\u001b[K     |███████████████████████████████▎| 1.2 MB 5.7 MB/s eta 0:00:01\r\u001b[K     |███████████████████████████████▋| 1.2 MB 5.7 MB/s eta 0:00:01\r\u001b[K     |███████████████████████████████▉| 1.2 MB 5.7 MB/s eta 0:00:01\r\u001b[K     |████████████████████████████████| 1.2 MB 5.7 MB/s \n",
            "\u001b[?25hInstalling collected packages: sentencepiece\n",
            "Successfully installed sentencepiece-0.1.96\n"
          ]
        }
      ]
    },
    {
      "cell_type": "code",
      "source": [
        "import sentencepiece as spm # 데이터가 없으면 쓸 수 없음"
      ],
      "metadata": {
        "id": "-GPkfsB2z_7x"
      },
      "execution_count": null,
      "outputs": []
    },
    {
      "cell_type": "code",
      "source": [
        "full_document = np.concatenate([train_df.document.values, test_df.document.values]) # 20만개\n",
        "\n",
        "with open('./full_document.txt', 'w', encoding='utf-8') as f:\n",
        "  for line in full_document:\n",
        "    if len(str(line).strip()) == 0: continue\n",
        "    try:\n",
        "      f.write(line + '\\n')\n",
        "    except: continue "
      ],
      "metadata": {
        "id": "uDpIfZvZzBxO"
      },
      "execution_count": null,
      "outputs": []
    },
    {
      "cell_type": "code",
      "source": [
        "!ls -alh"
      ],
      "metadata": {
        "colab": {
          "base_uri": "https://localhost:8080/"
        },
        "id": "Bo7C3vJWz1c5",
        "outputId": "ac22fbcd-d260-41ed-9ff8-4ebcce2dbeb1"
      },
      "execution_count": null,
      "outputs": [
        {
          "output_type": "stream",
          "name": "stdout",
          "text": [
            "total 36M\n",
            "drwxr-xr-x 1 root root 4.0K Feb 22 09:41 .\n",
            "drwxr-xr-x 1 root root 4.0K Feb 22 09:08 ..\n",
            "drwxr-xr-x 4 root root 4.0K Feb  1 14:31 .config\n",
            "-rw-r--r-- 1 root root  17M Feb 22 09:42 full_document.txt\n",
            "-rw-r--r-- 1 root root 4.7M Feb 22 09:20 ratings_test.txt\n",
            "-rw-r--r-- 1 root root  14M Feb 22 09:20 ratings_train.txt\n",
            "drwxr-xr-x 1 root root 4.0K Feb  1 14:32 sample_data\n"
          ]
        }
      ]
    },
    {
      "cell_type": "code",
      "source": [
        "!cat full_document.txt | head -n10"
      ],
      "metadata": {
        "colab": {
          "base_uri": "https://localhost:8080/"
        },
        "id": "rAEnVjRrz3uh",
        "outputId": "60f301eb-e4e4-4038-c357-b13e1b759591"
      },
      "execution_count": null,
      "outputs": [
        {
          "output_type": "stream",
          "name": "stdout",
          "text": [
            "아 더빙.. 진짜 짜증나네요 목소리\n",
            "흠...포스터보고 초딩영화줄....오버연기조차 가볍지 않구나\n",
            "너무재밓었다그래서보는것을추천한다\n",
            "교도소 이야기구먼 ..솔직히 재미는 없다..평점 조정\n",
            "사이몬페그의 익살스런 연기가 돋보였던 영화!스파이더맨에서 늙어보이기만 했던 커스틴 던스트가 너무나도 이뻐보였다\n",
            "막 걸음마 뗀 3세부터 초등학교 1학년생인 8살용영화.ㅋㅋㅋ...별반개도 아까움.\n",
            "원작의 긴장감을 제대로 살려내지못했다.\n",
            "별 반개도 아깝다 욕나온다 이응경 길용우 연기생활이몇년인지..정말 발로해도 그것보단 낫겟다 납치.감금만반복반복..이드라마는 가족도없다 연기못하는사람만모엿네\n",
            "액션이 없는데도 재미 있는 몇안되는 영화\n",
            "왜케 평점이 낮은건데? 꽤 볼만한데.. 헐리우드식 화려함에만 너무 길들여져 있나?\n"
          ]
        }
      ]
    },
    {
      "cell_type": "code",
      "source": [
        "# Sentencepiece 학습\n",
        "spm.SentencePieceTrainer.train('--input=full_document.txt --model_prefix=m --vocab_size=20000')"
      ],
      "metadata": {
        "id": "8OJcyUuxz9LC"
      },
      "execution_count": null,
      "outputs": []
    },
    {
      "cell_type": "code",
      "source": [
        "!ls -alh # m.model, m.vocab이 생성됨"
      ],
      "metadata": {
        "colab": {
          "base_uri": "https://localhost:8080/"
        },
        "id": "PeQm9gx30p6I",
        "outputId": "ccd1d108-2ce8-4c90-ef24-6d89f2cbae78"
      },
      "execution_count": null,
      "outputs": [
        {
          "output_type": "stream",
          "name": "stdout",
          "text": [
            "total 37M\n",
            "drwxr-xr-x 1 root root 4.0K Feb 22 09:45 .\n",
            "drwxr-xr-x 1 root root 4.0K Feb 22 09:08 ..\n",
            "drwxr-xr-x 4 root root 4.0K Feb  1 14:31 .config\n",
            "-rw-r--r-- 1 root root  17M Feb 22 09:42 full_document.txt\n",
            "-rw-r--r-- 1 root root 601K Feb 22 09:45 m.model\n",
            "-rw-r--r-- 1 root root 386K Feb 22 09:45 m.vocab\n",
            "-rw-r--r-- 1 root root 4.7M Feb 22 09:20 ratings_test.txt\n",
            "-rw-r--r-- 1 root root  14M Feb 22 09:20 ratings_train.txt\n",
            "drwxr-xr-x 1 root root 4.0K Feb  1 14:32 sample_data\n"
          ]
        }
      ]
    },
    {
      "cell_type": "code",
      "source": [
        "!cat m.vocab | head -n10"
      ],
      "metadata": {
        "colab": {
          "base_uri": "https://localhost:8080/"
        },
        "id": "IVbqu9Bc0xjy",
        "outputId": "2b5eafb0-2324-4fd7-94b1-5dcf7553a73c"
      },
      "execution_count": null,
      "outputs": [
        {
          "output_type": "stream",
          "name": "stdout",
          "text": [
            "<unk>\t0\n",
            "<s>\t0\n",
            "</s>\t0\n",
            ".\t-3.32315\n",
            "▁\t-3.69412\n",
            "..\t-4.25677\n",
            "...\t-4.49854\n",
            "▁영화\t-4.51165\n",
            "이\t-4.71896\n",
            "의\t-4.7511\n"
          ]
        }
      ]
    },
    {
      "cell_type": "markdown",
      "metadata": {
        "id": "HxCAh3Oi3iMk"
      },
      "source": [
        "### 문제 7. sentencepiece 모델 로드 및 텍스트 분석\n"
      ]
    },
    {
      "cell_type": "code",
      "metadata": {
        "id": "Hv9jS61-3mWb"
      },
      "source": [
        "# sentencepiece 모델 로드 및 텍스트 분석"
      ],
      "execution_count": null,
      "outputs": []
    },
    {
      "cell_type": "code",
      "source": [
        "sp = spm.SentencePieceProcessor()\n",
        "sp.load('m.model')"
      ],
      "metadata": {
        "colab": {
          "base_uri": "https://localhost:8080/"
        },
        "id": "Pc-k5hnAtErT",
        "outputId": "10cf3083-9eb1-4a0b-db90-bf5bdbecb9dc"
      },
      "execution_count": null,
      "outputs": [
        {
          "output_type": "execute_result",
          "data": {
            "text/plain": [
              "True"
            ]
          },
          "metadata": {},
          "execution_count": 40
        }
      ]
    },
    {
      "cell_type": "markdown",
      "metadata": {
        "id": "lPBH8o0g38Nb"
      },
      "source": [
        "### 문제 8-1. 텍스트 id로 인코딩 및 디코딩"
      ]
    },
    {
      "cell_type": "code",
      "metadata": {
        "id": "M6zcGoOj37Wr"
      },
      "source": [
        "# 텍스트 id로 인코딩"
      ],
      "execution_count": null,
      "outputs": []
    },
    {
      "cell_type": "code",
      "source": [
        "sp.encode_as_pieces('오늘은 즐겁게 딥러닝 공부를 하고 있습니다.') # 사용자 친화적 / 어떤 데이터셋을 학습시키느냐에 따라 결과가 다름 / 통계를 이용하여 단어를 형태소 유사하게 자름"
      ],
      "metadata": {
        "colab": {
          "base_uri": "https://localhost:8080/"
        },
        "id": "z4C9vE2t1_pz",
        "outputId": "75193b3f-7ddf-43ec-df52-8a847a21280b"
      },
      "execution_count": null,
      "outputs": [
        {
          "output_type": "execute_result",
          "data": {
            "text/plain": [
              "['▁오늘', '은', '▁즐겁게', '▁', '딥', '러', '닝', '▁공부', '를', '▁하고', '▁있습니다', '.']"
            ]
          },
          "metadata": {},
          "execution_count": 47
        }
      ]
    },
    {
      "cell_type": "code",
      "source": [
        "sp.encode_as_ids('오늘은 즐겁게 딥러닝 공부를 하고 있습니다.') # 컴퓨터 친화적"
      ],
      "metadata": {
        "colab": {
          "base_uri": "https://localhost:8080/"
        },
        "id": "bSlZA4AHtFF3",
        "outputId": "cf3b9ed3-4168-47ea-9b70-da738d3a765e"
      },
      "execution_count": null,
      "outputs": [
        {
          "output_type": "execute_result",
          "data": {
            "text/plain": [
              "[604, 17, 2641, 4, 19498, 312, 3869, 2751, 23, 305, 2108, 3]"
            ]
          },
          "metadata": {},
          "execution_count": 42
        }
      ]
    },
    {
      "cell_type": "code",
      "source": [
        "# 텍스트 id로 디코딩"
      ],
      "metadata": {
        "id": "fvkCmCGc1wBJ"
      },
      "execution_count": null,
      "outputs": []
    },
    {
      "cell_type": "code",
      "source": [
        "sp.decode_pieces(['▁오늘', '은', '▁즐겁게', '▁', '딥', '러', '닝', '▁공부', '를', '▁하고', '▁있습니다', '.'])"
      ],
      "metadata": {
        "colab": {
          "base_uri": "https://localhost:8080/",
          "height": 36
        },
        "id": "HJshNWi41yAJ",
        "outputId": "8bd0aa5d-2863-44af-f9bd-68c2bdebfc87"
      },
      "execution_count": null,
      "outputs": [
        {
          "output_type": "execute_result",
          "data": {
            "application/vnd.google.colaboratory.intrinsic+json": {
              "type": "string"
            },
            "text/plain": [
              "'오늘은 즐겁게 딥러닝 공부를 하고 있습니다.'"
            ]
          },
          "metadata": {},
          "execution_count": 44
        }
      ]
    },
    {
      "cell_type": "code",
      "source": [
        "sp.decode_ids([604, 17, 2641, 4, 19498, 312, 3869, 2751, 23, 305, 2108, 3])"
      ],
      "metadata": {
        "colab": {
          "base_uri": "https://localhost:8080/",
          "height": 36
        },
        "id": "k9fiE-o4122i",
        "outputId": "f504342f-3f81-43c8-b444-015d05870fea"
      },
      "execution_count": null,
      "outputs": [
        {
          "output_type": "execute_result",
          "data": {
            "application/vnd.google.colaboratory.intrinsic+json": {
              "type": "string"
            },
            "text/plain": [
              "'오늘은 즐겁게 딥러닝 공부를 하고 있습니다.'"
            ]
          },
          "metadata": {},
          "execution_count": 46
        }
      ]
    },
    {
      "cell_type": "markdown",
      "metadata": {
        "id": "UxTYLI2G4LC_"
      },
      "source": [
        "### 문제 8-2. sentencepiece로 train/test document 필드 분석 후 저장"
      ]
    },
    {
      "cell_type": "code",
      "metadata": {
        "id": "UV-z57HL4J8y"
      },
      "source": [
        "# sentencepiece로 train/test document 필드 분석 후 저장"
      ],
      "execution_count": null,
      "outputs": []
    },
    {
      "cell_type": "code",
      "source": [
        "train_df['bow'] = train_df.document.apply(lambda x: sp.encode_as_ids(str(x)))"
      ],
      "metadata": {
        "id": "2hPwQk3NtFZU"
      },
      "execution_count": null,
      "outputs": []
    },
    {
      "cell_type": "code",
      "source": [
        "test_df['bow'] = test_df.document.apply(lambda x: sp.encode_as_ids(str(x)))"
      ],
      "metadata": {
        "id": "Fo91dzzq2aDy"
      },
      "execution_count": null,
      "outputs": []
    },
    {
      "cell_type": "code",
      "source": [
        "train_df.head()"
      ],
      "metadata": {
        "colab": {
          "base_uri": "https://localhost:8080/",
          "height": 206
        },
        "id": "29pHeoYB2dGb",
        "outputId": "b99fd6f6-1aec-4ace-b79d-d80d7245b2de"
      },
      "execution_count": null,
      "outputs": [
        {
          "output_type": "execute_result",
          "data": {
            "text/html": [
              "\n",
              "  <div id=\"df-6398ec4f-696b-4d4a-b076-b71516066894\">\n",
              "    <div class=\"colab-df-container\">\n",
              "      <div>\n",
              "<style scoped>\n",
              "    .dataframe tbody tr th:only-of-type {\n",
              "        vertical-align: middle;\n",
              "    }\n",
              "\n",
              "    .dataframe tbody tr th {\n",
              "        vertical-align: top;\n",
              "    }\n",
              "\n",
              "    .dataframe thead th {\n",
              "        text-align: right;\n",
              "    }\n",
              "</style>\n",
              "<table border=\"1\" class=\"dataframe\">\n",
              "  <thead>\n",
              "    <tr style=\"text-align: right;\">\n",
              "      <th></th>\n",
              "      <th>id</th>\n",
              "      <th>document</th>\n",
              "      <th>label</th>\n",
              "      <th>bow</th>\n",
              "    </tr>\n",
              "  </thead>\n",
              "  <tbody>\n",
              "    <tr>\n",
              "      <th>0</th>\n",
              "      <td>9976970</td>\n",
              "      <td>아 더빙.. 진짜 짜증나네요 목소리</td>\n",
              "      <td>0</td>\n",
              "      <td>[55, 994, 5, 26, 15931, 1230]</td>\n",
              "    </tr>\n",
              "    <tr>\n",
              "      <th>1</th>\n",
              "      <td>3819312</td>\n",
              "      <td>흠...포스터보고 초딩영화줄....오버연기조차 가볍지 않구나</td>\n",
              "      <td>1</td>\n",
              "      <td>[1496, 6, 4790, 159, 1679, 34, 406, 50, 15263,...</td>\n",
              "    </tr>\n",
              "    <tr>\n",
              "      <th>2</th>\n",
              "      <td>10265843</td>\n",
              "      <td>너무재밓었다그래서보는것을추천한다</td>\n",
              "      <td>0</td>\n",
              "      <td>[18, 490, 19798, 534, 3011, 13494, 14, 2179, 291]</td>\n",
              "    </tr>\n",
              "    <tr>\n",
              "      <th>3</th>\n",
              "      <td>9045019</td>\n",
              "      <td>교도소 이야기구먼 ..솔직히 재미는 없다..평점 조정</td>\n",
              "      <td>0</td>\n",
              "      <td>[14238, 198, 6996, 4, 5, 3717, 945, 90, 5, 687...</td>\n",
              "    </tr>\n",
              "    <tr>\n",
              "      <th>4</th>\n",
              "      <td>6483659</td>\n",
              "      <td>사이몬페그의 익살스런 연기가 돋보였던 영화!스파이더맨에서 늙어보이기만 했던 커스틴 ...</td>\n",
              "      <td>1</td>\n",
              "      <td>[3048, 5653, 1839, 235, 9, 18573, 2090, 330, 1...</td>\n",
              "    </tr>\n",
              "  </tbody>\n",
              "</table>\n",
              "</div>\n",
              "      <button class=\"colab-df-convert\" onclick=\"convertToInteractive('df-6398ec4f-696b-4d4a-b076-b71516066894')\"\n",
              "              title=\"Convert this dataframe to an interactive table.\"\n",
              "              style=\"display:none;\">\n",
              "        \n",
              "  <svg xmlns=\"http://www.w3.org/2000/svg\" height=\"24px\"viewBox=\"0 0 24 24\"\n",
              "       width=\"24px\">\n",
              "    <path d=\"M0 0h24v24H0V0z\" fill=\"none\"/>\n",
              "    <path d=\"M18.56 5.44l.94 2.06.94-2.06 2.06-.94-2.06-.94-.94-2.06-.94 2.06-2.06.94zm-11 1L8.5 8.5l.94-2.06 2.06-.94-2.06-.94L8.5 2.5l-.94 2.06-2.06.94zm10 10l.94 2.06.94-2.06 2.06-.94-2.06-.94-.94-2.06-.94 2.06-2.06.94z\"/><path d=\"M17.41 7.96l-1.37-1.37c-.4-.4-.92-.59-1.43-.59-.52 0-1.04.2-1.43.59L10.3 9.45l-7.72 7.72c-.78.78-.78 2.05 0 2.83L4 21.41c.39.39.9.59 1.41.59.51 0 1.02-.2 1.41-.59l7.78-7.78 2.81-2.81c.8-.78.8-2.07 0-2.86zM5.41 20L4 18.59l7.72-7.72 1.47 1.35L5.41 20z\"/>\n",
              "  </svg>\n",
              "      </button>\n",
              "      \n",
              "  <style>\n",
              "    .colab-df-container {\n",
              "      display:flex;\n",
              "      flex-wrap:wrap;\n",
              "      gap: 12px;\n",
              "    }\n",
              "\n",
              "    .colab-df-convert {\n",
              "      background-color: #E8F0FE;\n",
              "      border: none;\n",
              "      border-radius: 50%;\n",
              "      cursor: pointer;\n",
              "      display: none;\n",
              "      fill: #1967D2;\n",
              "      height: 32px;\n",
              "      padding: 0 0 0 0;\n",
              "      width: 32px;\n",
              "    }\n",
              "\n",
              "    .colab-df-convert:hover {\n",
              "      background-color: #E2EBFA;\n",
              "      box-shadow: 0px 1px 2px rgba(60, 64, 67, 0.3), 0px 1px 3px 1px rgba(60, 64, 67, 0.15);\n",
              "      fill: #174EA6;\n",
              "    }\n",
              "\n",
              "    [theme=dark] .colab-df-convert {\n",
              "      background-color: #3B4455;\n",
              "      fill: #D2E3FC;\n",
              "    }\n",
              "\n",
              "    [theme=dark] .colab-df-convert:hover {\n",
              "      background-color: #434B5C;\n",
              "      box-shadow: 0px 1px 3px 1px rgba(0, 0, 0, 0.15);\n",
              "      filter: drop-shadow(0px 1px 2px rgba(0, 0, 0, 0.3));\n",
              "      fill: #FFFFFF;\n",
              "    }\n",
              "  </style>\n",
              "\n",
              "      <script>\n",
              "        const buttonEl =\n",
              "          document.querySelector('#df-6398ec4f-696b-4d4a-b076-b71516066894 button.colab-df-convert');\n",
              "        buttonEl.style.display =\n",
              "          google.colab.kernel.accessAllowed ? 'block' : 'none';\n",
              "\n",
              "        async function convertToInteractive(key) {\n",
              "          const element = document.querySelector('#df-6398ec4f-696b-4d4a-b076-b71516066894');\n",
              "          const dataTable =\n",
              "            await google.colab.kernel.invokeFunction('convertToInteractive',\n",
              "                                                     [key], {});\n",
              "          if (!dataTable) return;\n",
              "\n",
              "          const docLinkHtml = 'Like what you see? Visit the ' +\n",
              "            '<a target=\"_blank\" href=https://colab.research.google.com/notebooks/data_table.ipynb>data table notebook</a>'\n",
              "            + ' to learn more about interactive tables.';\n",
              "          element.innerHTML = '';\n",
              "          dataTable['output_type'] = 'display_data';\n",
              "          await google.colab.output.renderOutput(dataTable, element);\n",
              "          const docLink = document.createElement('div');\n",
              "          docLink.innerHTML = docLinkHtml;\n",
              "          element.appendChild(docLink);\n",
              "        }\n",
              "      </script>\n",
              "    </div>\n",
              "  </div>\n",
              "  "
            ],
            "text/plain": [
              "         id  ...                                                bow\n",
              "0   9976970  ...                      [55, 994, 5, 26, 15931, 1230]\n",
              "1   3819312  ...  [1496, 6, 4790, 159, 1679, 34, 406, 50, 15263,...\n",
              "2  10265843  ...  [18, 490, 19798, 534, 3011, 13494, 14, 2179, 291]\n",
              "3   9045019  ...  [14238, 198, 6996, 4, 5, 3717, 945, 90, 5, 687...\n",
              "4   6483659  ...  [3048, 5653, 1839, 235, 9, 18573, 2090, 330, 1...\n",
              "\n",
              "[5 rows x 4 columns]"
            ]
          },
          "metadata": {},
          "execution_count": 50
        }
      ]
    },
    {
      "cell_type": "code",
      "source": [
        "test_df.head()"
      ],
      "metadata": {
        "colab": {
          "base_uri": "https://localhost:8080/",
          "height": 206
        },
        "id": "CEpD_kSO2fgT",
        "outputId": "45cec0bd-82f6-46f4-8b42-4dde213926c3"
      },
      "execution_count": null,
      "outputs": [
        {
          "output_type": "execute_result",
          "data": {
            "text/html": [
              "\n",
              "  <div id=\"df-242b9b3a-7819-49a7-b944-e8ec7dfbd2cd\">\n",
              "    <div class=\"colab-df-container\">\n",
              "      <div>\n",
              "<style scoped>\n",
              "    .dataframe tbody tr th:only-of-type {\n",
              "        vertical-align: middle;\n",
              "    }\n",
              "\n",
              "    .dataframe tbody tr th {\n",
              "        vertical-align: top;\n",
              "    }\n",
              "\n",
              "    .dataframe thead th {\n",
              "        text-align: right;\n",
              "    }\n",
              "</style>\n",
              "<table border=\"1\" class=\"dataframe\">\n",
              "  <thead>\n",
              "    <tr style=\"text-align: right;\">\n",
              "      <th></th>\n",
              "      <th>id</th>\n",
              "      <th>document</th>\n",
              "      <th>label</th>\n",
              "      <th>bow</th>\n",
              "    </tr>\n",
              "  </thead>\n",
              "  <tbody>\n",
              "    <tr>\n",
              "      <th>0</th>\n",
              "      <td>6270596</td>\n",
              "      <td>굳 ㅋ</td>\n",
              "      <td>1</td>\n",
              "      <td>[1351, 195]</td>\n",
              "    </tr>\n",
              "    <tr>\n",
              "      <th>1</th>\n",
              "      <td>9274899</td>\n",
              "      <td>GDNTOPCLASSINTHECLUB</td>\n",
              "      <td>0</td>\n",
              "      <td>[4365, 1078, 4200, 2317, 3102, 4539, 2470, 437...</td>\n",
              "    </tr>\n",
              "    <tr>\n",
              "      <th>2</th>\n",
              "      <td>8544678</td>\n",
              "      <td>뭐야 이 평점들은.... 나쁘진 않지만 10점 짜리는 더더욱 아니잖아</td>\n",
              "      <td>0</td>\n",
              "      <td>[897, 24, 64, 478, 50, 11799, 2661, 56, 35, 54...</td>\n",
              "    </tr>\n",
              "    <tr>\n",
              "      <th>3</th>\n",
              "      <td>6825595</td>\n",
              "      <td>지루하지는 않은데 완전 막장임... 돈주고 보기에는....</td>\n",
              "      <td>0</td>\n",
              "      <td>[1658, 13, 5233, 86, 567, 116, 6, 1257, 3977, 50]</td>\n",
              "    </tr>\n",
              "    <tr>\n",
              "      <th>4</th>\n",
              "      <td>6723715</td>\n",
              "      <td>3D만 아니었어도 별 다섯 개 줬을텐데.. 왜 3D로 나와서 제 심기를 불편하게 하죠??</td>\n",
              "      <td>0</td>\n",
              "      <td>[107, 1078, 27, 19551, 187, 8976, 140, 4639, 2...</td>\n",
              "    </tr>\n",
              "  </tbody>\n",
              "</table>\n",
              "</div>\n",
              "      <button class=\"colab-df-convert\" onclick=\"convertToInteractive('df-242b9b3a-7819-49a7-b944-e8ec7dfbd2cd')\"\n",
              "              title=\"Convert this dataframe to an interactive table.\"\n",
              "              style=\"display:none;\">\n",
              "        \n",
              "  <svg xmlns=\"http://www.w3.org/2000/svg\" height=\"24px\"viewBox=\"0 0 24 24\"\n",
              "       width=\"24px\">\n",
              "    <path d=\"M0 0h24v24H0V0z\" fill=\"none\"/>\n",
              "    <path d=\"M18.56 5.44l.94 2.06.94-2.06 2.06-.94-2.06-.94-.94-2.06-.94 2.06-2.06.94zm-11 1L8.5 8.5l.94-2.06 2.06-.94-2.06-.94L8.5 2.5l-.94 2.06-2.06.94zm10 10l.94 2.06.94-2.06 2.06-.94-2.06-.94-.94-2.06-.94 2.06-2.06.94z\"/><path d=\"M17.41 7.96l-1.37-1.37c-.4-.4-.92-.59-1.43-.59-.52 0-1.04.2-1.43.59L10.3 9.45l-7.72 7.72c-.78.78-.78 2.05 0 2.83L4 21.41c.39.39.9.59 1.41.59.51 0 1.02-.2 1.41-.59l7.78-7.78 2.81-2.81c.8-.78.8-2.07 0-2.86zM5.41 20L4 18.59l7.72-7.72 1.47 1.35L5.41 20z\"/>\n",
              "  </svg>\n",
              "      </button>\n",
              "      \n",
              "  <style>\n",
              "    .colab-df-container {\n",
              "      display:flex;\n",
              "      flex-wrap:wrap;\n",
              "      gap: 12px;\n",
              "    }\n",
              "\n",
              "    .colab-df-convert {\n",
              "      background-color: #E8F0FE;\n",
              "      border: none;\n",
              "      border-radius: 50%;\n",
              "      cursor: pointer;\n",
              "      display: none;\n",
              "      fill: #1967D2;\n",
              "      height: 32px;\n",
              "      padding: 0 0 0 0;\n",
              "      width: 32px;\n",
              "    }\n",
              "\n",
              "    .colab-df-convert:hover {\n",
              "      background-color: #E2EBFA;\n",
              "      box-shadow: 0px 1px 2px rgba(60, 64, 67, 0.3), 0px 1px 3px 1px rgba(60, 64, 67, 0.15);\n",
              "      fill: #174EA6;\n",
              "    }\n",
              "\n",
              "    [theme=dark] .colab-df-convert {\n",
              "      background-color: #3B4455;\n",
              "      fill: #D2E3FC;\n",
              "    }\n",
              "\n",
              "    [theme=dark] .colab-df-convert:hover {\n",
              "      background-color: #434B5C;\n",
              "      box-shadow: 0px 1px 3px 1px rgba(0, 0, 0, 0.15);\n",
              "      filter: drop-shadow(0px 1px 2px rgba(0, 0, 0, 0.3));\n",
              "      fill: #FFFFFF;\n",
              "    }\n",
              "  </style>\n",
              "\n",
              "      <script>\n",
              "        const buttonEl =\n",
              "          document.querySelector('#df-242b9b3a-7819-49a7-b944-e8ec7dfbd2cd button.colab-df-convert');\n",
              "        buttonEl.style.display =\n",
              "          google.colab.kernel.accessAllowed ? 'block' : 'none';\n",
              "\n",
              "        async function convertToInteractive(key) {\n",
              "          const element = document.querySelector('#df-242b9b3a-7819-49a7-b944-e8ec7dfbd2cd');\n",
              "          const dataTable =\n",
              "            await google.colab.kernel.invokeFunction('convertToInteractive',\n",
              "                                                     [key], {});\n",
              "          if (!dataTable) return;\n",
              "\n",
              "          const docLinkHtml = 'Like what you see? Visit the ' +\n",
              "            '<a target=\"_blank\" href=https://colab.research.google.com/notebooks/data_table.ipynb>data table notebook</a>'\n",
              "            + ' to learn more about interactive tables.';\n",
              "          element.innerHTML = '';\n",
              "          dataTable['output_type'] = 'display_data';\n",
              "          await google.colab.output.renderOutput(dataTable, element);\n",
              "          const docLink = document.createElement('div');\n",
              "          docLink.innerHTML = docLinkHtml;\n",
              "          element.appendChild(docLink);\n",
              "        }\n",
              "      </script>\n",
              "    </div>\n",
              "  </div>\n",
              "  "
            ],
            "text/plain": [
              "        id  ...                                                bow\n",
              "0  6270596  ...                                        [1351, 195]\n",
              "1  9274899  ...  [4365, 1078, 4200, 2317, 3102, 4539, 2470, 437...\n",
              "2  8544678  ...  [897, 24, 64, 478, 50, 11799, 2661, 56, 35, 54...\n",
              "3  6825595  ...  [1658, 13, 5233, 86, 567, 116, 6, 1257, 3977, 50]\n",
              "4  6723715  ...  [107, 1078, 27, 19551, 187, 8976, 140, 4639, 2...\n",
              "\n",
              "[5 rows x 4 columns]"
            ]
          },
          "metadata": {},
          "execution_count": 51
        }
      ]
    },
    {
      "cell_type": "markdown",
      "metadata": {
        "id": "RkJWOXR-pI1u"
      },
      "source": [
        "### 문제 9. 형태소 분석기로 document 필드 분석"
      ]
    },
    {
      "cell_type": "code",
      "metadata": {
        "id": "HELpH0qXpXOz"
      },
      "source": [
        "# 형태소 분석기로 document 필드 분석"
      ],
      "execution_count": null,
      "outputs": []
    },
    {
      "cell_type": "code",
      "source": [
        "# train_df['tag'] = train_df.document.apply(lambda x: okt.pos(str(x))) # 오래 걸림 / 이번 강의에서 사용안하므로 패스"
      ],
      "metadata": {
        "id": "aYF4Zeu0tF2M"
      },
      "execution_count": null,
      "outputs": []
    },
    {
      "cell_type": "markdown",
      "metadata": {
        "id": "3F_vgJY4qe_A"
      },
      "source": [
        "### 문제 10. train/test 에 대한 x, y 데이터를 만들어보자 (train_text, train_sentiment, test...)"
      ]
    },
    {
      "cell_type": "code",
      "metadata": {
        "id": "6B4SBSJKrFDu"
      },
      "source": [
        "# train/test 에 대한 x, y 데이터 생성"
      ],
      "execution_count": null,
      "outputs": []
    },
    {
      "cell_type": "code",
      "source": [
        "train_text = train_df.bow.values\n",
        "test_text = test_df.bow.values"
      ],
      "metadata": {
        "id": "Lb8ETyL2tGMT"
      },
      "execution_count": null,
      "outputs": []
    },
    {
      "cell_type": "code",
      "source": [
        "train_text # 가변적인 길이 -> 길이 통일시켜주기"
      ],
      "metadata": {
        "colab": {
          "base_uri": "https://localhost:8080/"
        },
        "id": "Fixv4ELJ3N0l",
        "outputId": "4ac19f91-70d7-432f-d149-eb5021cb1cbf"
      },
      "execution_count": null,
      "outputs": [
        {
          "output_type": "execute_result",
          "data": {
            "text/plain": [
              "array([list([55, 994, 5, 26, 15931, 1230]),\n",
              "       list([1496, 6, 4790, 159, 1679, 34, 406, 50, 15263, 411, 1339, 8024, 885, 443]),\n",
              "       list([18, 490, 19798, 534, 3011, 13494, 14, 2179, 291]), ...,\n",
              "       list([103, 148, 61, 15, 3663, 17, 353, 68, 960, 10315, 4521, 77, 7866, 4423, 3749, 17, 17004, 21, 15]),\n",
              "       list([2330, 393, 4812, 3, 482, 2429, 33, 3155, 387, 730, 360, 17721]),\n",
              "       list([263, 7, 3518, 30, 46, 571, 60, 304, 5035, 7])], dtype=object)"
            ]
          },
          "metadata": {},
          "execution_count": 54
        }
      ]
    },
    {
      "cell_type": "code",
      "source": [
        "train_sentiment = train_df.label.values\n",
        "test_sentiment = test_df.label.values"
      ],
      "metadata": {
        "id": "iQtz5OyF3QrZ"
      },
      "execution_count": null,
      "outputs": []
    },
    {
      "cell_type": "code",
      "source": [
        "train_sentiment # -> 원핫으로 변경해주기"
      ],
      "metadata": {
        "colab": {
          "base_uri": "https://localhost:8080/"
        },
        "id": "eOXhVCcc3VlO",
        "outputId": "5a25411b-d089-48ec-fb36-abd202298f55"
      },
      "execution_count": null,
      "outputs": [
        {
          "output_type": "execute_result",
          "data": {
            "text/plain": [
              "array([0, 1, 0, ..., 0, 1, 0])"
            ]
          },
          "metadata": {},
          "execution_count": 56
        }
      ]
    },
    {
      "cell_type": "markdown",
      "metadata": {
        "id": "ko4D-BpJTq2r"
      },
      "source": [
        "### 문제 11. train_text, test_text에서 등장한 정수들을 알아보자"
      ]
    },
    {
      "cell_type": "code",
      "metadata": {
        "id": "waksbx9aT5tK"
      },
      "source": [
        "# train_text, test_text에서 등장한 정수들을 알아보자"
      ],
      "execution_count": null,
      "outputs": []
    },
    {
      "cell_type": "code",
      "source": [
        "all_words = set([id for ids in train_text for id in ids]) | set([id for ids in test_text for id in ids])"
      ],
      "metadata": {
        "id": "5IHb7tjVtGiI"
      },
      "execution_count": null,
      "outputs": []
    },
    {
      "cell_type": "code",
      "source": [
        "print(sorted(all_words)[:5])\n",
        "print(sorted(all_words)[-5:])"
      ],
      "metadata": {
        "colab": {
          "base_uri": "https://localhost:8080/"
        },
        "id": "jC1HcBey321q",
        "outputId": "2966f1f8-ba37-4322-b8b9-a23375516c37"
      },
      "execution_count": null,
      "outputs": [
        {
          "output_type": "stream",
          "name": "stdout",
          "text": [
            "[0, 3, 4, 5, 6]\n",
            "[19995, 19996, 19997, 19998, 19999]\n"
          ]
        }
      ]
    },
    {
      "cell_type": "markdown",
      "metadata": {
        "id": "hrmQ7HzEUKrz"
      },
      "source": [
        "### 문제 12. train_text와 test_text를 BOW 형태로 변경"
      ]
    },
    {
      "cell_type": "code",
      "metadata": {
        "id": "fVzGHMSYUUKk"
      },
      "source": [
        "# train_text와 test_text를 BOW 형태로 변경하세요."
      ],
      "execution_count": null,
      "outputs": []
    },
    {
      "cell_type": "code",
      "source": [
        "train_bow_text = tf.keras.preprocessing.sequence.pad_sequences(train_text, value=0)\n",
        "test_bow_text = tf.keras.preprocessing.sequence.pad_sequences(test_text, value=0)"
      ],
      "metadata": {
        "id": "vZx_cb6BtHDv"
      },
      "execution_count": null,
      "outputs": []
    },
    {
      "cell_type": "code",
      "source": [
        "train_bow_text.shape, test_bow_text.shape"
      ],
      "metadata": {
        "colab": {
          "base_uri": "https://localhost:8080/"
        },
        "id": "0oYTT3wH4VFJ",
        "outputId": "684dc2ec-1091-4930-c492-d7679218d1d0"
      },
      "execution_count": null,
      "outputs": [
        {
          "output_type": "execute_result",
          "data": {
            "text/plain": [
              "((150000, 132), (50000, 107))"
            ]
          },
          "metadata": {},
          "execution_count": 63
        }
      ]
    },
    {
      "cell_type": "markdown",
      "metadata": {
        "id": "py8TgMSoaIDR"
      },
      "source": [
        "### 문제 13. train과 test에 나온 word들의 count를 측정해보자"
      ]
    },
    {
      "cell_type": "code",
      "metadata": {
        "id": "cLl6Zluoaa8M"
      },
      "source": [
        "# train과 test에 나온 word들의 count를 측정해보자"
      ],
      "execution_count": null,
      "outputs": []
    },
    {
      "cell_type": "code",
      "source": [
        "import collections\n",
        "\n",
        "word_count = collections.Counter()\n",
        "\n",
        "for text in train_text:\n",
        "  word_count.update(text)\n",
        "\n",
        "for text in test_text:\n",
        "  word_count.update(text)"
      ],
      "metadata": {
        "id": "DFTeJBsktHRa"
      },
      "execution_count": null,
      "outputs": []
    },
    {
      "cell_type": "code",
      "source": [
        "word_count.most_common(10)"
      ],
      "metadata": {
        "colab": {
          "base_uri": "https://localhost:8080/"
        },
        "id": "zxI6yZfS4seK",
        "outputId": "b2ea491c-73ac-4b00-e200-b8bce466d321"
      },
      "execution_count": null,
      "outputs": [
        {
          "output_type": "execute_result",
          "data": {
            "text/plain": [
              "[(3, 92716),\n",
              " (4, 48120),\n",
              " (5, 40816),\n",
              " (6, 33568),\n",
              " (7, 30112),\n",
              " (10, 24225),\n",
              " (9, 24098),\n",
              " (8, 23794),\n",
              " (11, 20794),\n",
              " (12, 19204)]"
            ]
          },
          "metadata": {},
          "execution_count": 65
        }
      ]
    },
    {
      "cell_type": "markdown",
      "metadata": {
        "id": "fgpQYeMtMZ5q"
      },
      "source": [
        "### 문제 14. word_count를 이용해서 n번 이하로 나온 word를 삭제하여 train과 test를 구성하여보자."
      ]
    },
    {
      "cell_type": "code",
      "metadata": {
        "id": "dxaLDza9NhUn"
      },
      "source": [
        "# word_count를 이용해서 n번 미만으로 나온 word를 삭제하여 train과 test를 구성하여보자."
      ],
      "execution_count": null,
      "outputs": []
    },
    {
      "cell_type": "code",
      "source": [
        "def cut_by_count(texts, n):\n",
        "  return np.array([[word for word in text if word_count[word] >= n] for text in texts])"
      ],
      "metadata": {
        "id": "wbTIs_wUtHnw"
      },
      "execution_count": null,
      "outputs": []
    },
    {
      "cell_type": "code",
      "source": [
        "train_cut_text = cut_by_count(train_text, 20)\n",
        "test_cut_text = cut_by_count(test_text, 20)"
      ],
      "metadata": {
        "id": "-QeuY7Wq5GH_"
      },
      "execution_count": null,
      "outputs": []
    },
    {
      "cell_type": "code",
      "source": [
        "print(train_cut_text.shape, test_cut_text.shape) # 실제 개수는 알 수 없음"
      ],
      "metadata": {
        "colab": {
          "base_uri": "https://localhost:8080/"
        },
        "id": "CF3gNfQn5M1M",
        "outputId": "e64c3d93-1666-436f-b800-1bca1389db07"
      },
      "execution_count": null,
      "outputs": [
        {
          "output_type": "stream",
          "name": "stdout",
          "text": [
            "(150000,) (50000,)\n"
          ]
        }
      ]
    },
    {
      "cell_type": "markdown",
      "metadata": {
        "id": "iMNw3eR8OzZ0"
      },
      "source": [
        "### 문제 15. pad 추가된 bow 형태로 변화하여 width 길이를 확인해보세요."
      ]
    },
    {
      "cell_type": "code",
      "metadata": {
        "id": "ArlSTlZ2PBCz"
      },
      "source": [
        "# bow 형태로 변화하여 width 길이를 확인해보세요."
      ],
      "execution_count": null,
      "outputs": []
    },
    {
      "cell_type": "code",
      "source": [
        "# dense하게 바꾸기\n",
        "train_cut_bow_text = tf.keras.preprocessing.sequence.pad_sequences(train_cut_text, value=0)\n",
        "test_cut_bow_text = tf.keras.preprocessing.sequence.pad_sequences(test_cut_text, value=0)"
      ],
      "metadata": {
        "id": "nqx_mRj4tH0J"
      },
      "execution_count": null,
      "outputs": []
    },
    {
      "cell_type": "code",
      "source": [
        "print(train_cut_bow_text.shape, test_cut_bow_text.shape)"
      ],
      "metadata": {
        "colab": {
          "base_uri": "https://localhost:8080/"
        },
        "id": "7CliyUWt58qH",
        "outputId": "342b8bb3-325b-4cf7-a991-8a9409d81706"
      },
      "execution_count": null,
      "outputs": [
        {
          "output_type": "stream",
          "name": "stdout",
          "text": [
            "(150000, 132) (50000, 106)\n"
          ]
        }
      ]
    },
    {
      "cell_type": "markdown",
      "metadata": {
        "id": "HeB-dqpqdPo7"
      },
      "source": [
        "### 문제 16. train_text/test_text에 길이 제한을 줘서 bow를 생성해보세요."
      ]
    },
    {
      "cell_type": "code",
      "metadata": {
        "id": "vL2tt-E4dal9"
      },
      "source": [
        "# train_text/test_text에 길이 제한을 줘서 bow를 생성해보세요."
      ],
      "execution_count": null,
      "outputs": []
    },
    {
      "cell_type": "code",
      "source": [
        "train_cut_bow_text2 = tf.keras.preprocessing.sequence.pad_sequences(train_text, value=0, maxlen=100)\n",
        "test_cut_bow_text2 = tf.keras.preprocessing.sequence.pad_sequences(test_text, value=0, maxlen=100)"
      ],
      "metadata": {
        "id": "ui9S11phtIE_"
      },
      "execution_count": null,
      "outputs": []
    },
    {
      "cell_type": "code",
      "source": [
        "print(train_cut_bow_text2.shape, test_cut_bow_text2.shape)"
      ],
      "metadata": {
        "colab": {
          "base_uri": "https://localhost:8080/"
        },
        "id": "w2Qzaitc6NmF",
        "outputId": "0c82296e-2e2e-40ab-a39e-e45cd18072b2"
      },
      "execution_count": null,
      "outputs": [
        {
          "output_type": "stream",
          "name": "stdout",
          "text": [
            "(150000, 100) (50000, 100)\n"
          ]
        }
      ]
    },
    {
      "cell_type": "markdown",
      "metadata": {
        "id": "aQQ342SmgZIq"
      },
      "source": [
        "### 문제 17. sentiment을 onehot encoding으로 변경해보세요."
      ]
    },
    {
      "cell_type": "code",
      "metadata": {
        "id": "GuLIzFt5gnCf"
      },
      "source": [
        "# sentiment을 onehot encoding으로 변경해보세요."
      ],
      "execution_count": null,
      "outputs": []
    },
    {
      "cell_type": "code",
      "source": [
        "np.unique(train_sentiment)"
      ],
      "metadata": {
        "colab": {
          "base_uri": "https://localhost:8080/"
        },
        "id": "0jmoOJGDtIWZ",
        "outputId": "a9c60d81-9fda-4752-af3d-9a6c8e9c1e20"
      },
      "execution_count": null,
      "outputs": [
        {
          "output_type": "execute_result",
          "data": {
            "text/plain": [
              "array([0, 1])"
            ]
          },
          "metadata": {},
          "execution_count": 90
        }
      ]
    },
    {
      "cell_type": "code",
      "source": [
        "np.unique(test_sentiment)"
      ],
      "metadata": {
        "colab": {
          "base_uri": "https://localhost:8080/"
        },
        "id": "egbWGCFY6c2_",
        "outputId": "49c7ca50-4efb-4fe9-955e-85406cb822b6"
      },
      "execution_count": null,
      "outputs": [
        {
          "output_type": "execute_result",
          "data": {
            "text/plain": [
              "array([0, 1])"
            ]
          },
          "metadata": {},
          "execution_count": 91
        }
      ]
    },
    {
      "cell_type": "code",
      "source": [
        "train_sentiment.shape, test_sentiment.shape"
      ],
      "metadata": {
        "colab": {
          "base_uri": "https://localhost:8080/"
        },
        "id": "yGSLfj1D6pS2",
        "outputId": "c78bcd93-2921-4b89-deab-96a718d2cef3"
      },
      "execution_count": null,
      "outputs": [
        {
          "output_type": "execute_result",
          "data": {
            "text/plain": [
              "((150000,), (50000,))"
            ]
          },
          "metadata": {},
          "execution_count": 94
        }
      ]
    },
    {
      "cell_type": "code",
      "source": [
        "train_onehot_sentiment = keras.utils.to_categorical(train_sentiment)\n",
        "test_onehot_sentiment = keras.utils.to_categorical(test_sentiment)"
      ],
      "metadata": {
        "id": "y495V-uA6eDM"
      },
      "execution_count": null,
      "outputs": []
    },
    {
      "cell_type": "code",
      "source": [
        "train_onehot_sentiment.shape, test_onehot_sentiment.shape"
      ],
      "metadata": {
        "colab": {
          "base_uri": "https://localhost:8080/"
        },
        "id": "aARIrtAN6ky4",
        "outputId": "daf5ec7a-4ddc-4229-ec5f-99e811a41da2"
      },
      "execution_count": null,
      "outputs": [
        {
          "output_type": "execute_result",
          "data": {
            "text/plain": [
              "((150000, 2), (50000, 2))"
            ]
          },
          "metadata": {},
          "execution_count": 93
        }
      ]
    },
    {
      "cell_type": "markdown",
      "metadata": {
        "id": "9i_IAkM6i2MR"
      },
      "source": [
        "### 문제 18. sentiment 인덱스를 text label로 변환하는 함수를 만드세요."
      ]
    },
    {
      "cell_type": "code",
      "metadata": {
        "id": "x3aAmNuwi1hS"
      },
      "source": [
        "#sentiment 인덱스를 text label로 변환하는 함수를 만드세요."
      ],
      "execution_count": null,
      "outputs": []
    },
    {
      "cell_type": "code",
      "source": [
        "raw_labels = ['bad', 'good']\n",
        "\n",
        "def sentiment2label(idx):\n",
        "  return raw_labels[idx]\n",
        "\n",
        "sentiment2label(0), sentiment2label(1)"
      ],
      "metadata": {
        "colab": {
          "base_uri": "https://localhost:8080/"
        },
        "id": "P1C9ftFTtIlz",
        "outputId": "19b2381e-4abb-423e-82af-c106f864a4ce"
      },
      "execution_count": null,
      "outputs": [
        {
          "output_type": "execute_result",
          "data": {
            "text/plain": [
              "('bad', 'good')"
            ]
          },
          "metadata": {},
          "execution_count": 95
        }
      ]
    },
    {
      "cell_type": "markdown",
      "metadata": {
        "id": "SMyUArry3UhT"
      },
      "source": [
        "## Step 3. 시각화 방법"
      ]
    },
    {
      "cell_type": "markdown",
      "metadata": {
        "id": "vDLHexaGUs17"
      },
      "source": [
        "### 문제 19. train_bow_text의 길이 분포를 출력해보세요."
      ]
    },
    {
      "cell_type": "code",
      "metadata": {
        "id": "1NYdCv1yUsKG"
      },
      "source": [
        "# train_bow_text의 길이 분포를 출력해보세요."
      ],
      "execution_count": null,
      "outputs": []
    },
    {
      "cell_type": "code",
      "source": [
        "plt.hist([len(s) for s in train_text], bins=50) # 짧은 글이 많음\n",
        "plt.show()"
      ],
      "metadata": {
        "colab": {
          "base_uri": "https://localhost:8080/",
          "height": 265
        },
        "id": "93aZn_cqtI7T",
        "outputId": "cd19f6e2-d54c-4c3d-fc54-59901e9e1ac0"
      },
      "execution_count": null,
      "outputs": [
        {
          "output_type": "display_data",
          "data": {
            "image/png": "[encoded data removed]",
            "text/plain": [
              "<Figure size 432x288 with 1 Axes>"
            ]
          },
          "metadata": {
            "needs_background": "light"
          }
        }
      ]
    },
    {
      "cell_type": "code",
      "source": [
        "train_text[:5]"
      ],
      "metadata": {
        "colab": {
          "base_uri": "https://localhost:8080/"
        },
        "id": "qSKvpUhK8mTE",
        "outputId": "9d8705f1-3bd8-4551-91f9-782e7d7a5ba7"
      },
      "execution_count": null,
      "outputs": [
        {
          "output_type": "execute_result",
          "data": {
            "text/plain": [
              "array([list([55, 994, 5, 26, 15931, 1230]),\n",
              "       list([1496, 6, 4790, 159, 1679, 34, 406, 50, 15263, 411, 1339, 8024, 885, 443]),\n",
              "       list([18, 490, 19798, 534, 3011, 13494, 14, 2179, 291]),\n",
              "       list([14238, 198, 6996, 4, 5, 3717, 945, 90, 5, 687, 10224]),\n",
              "       list([3048, 5653, 1839, 235, 9, 18573, 2090, 330, 12906, 7, 20, 18732, 49, 6791, 2203, 1225, 1959, 3262, 8728, 4, 161, 1348, 12, 1585, 8560, 15280])],\n",
              "      dtype=object)"
            ]
          },
          "metadata": {},
          "execution_count": 101
        }
      ]
    },
    {
      "cell_type": "markdown",
      "metadata": {
        "id": "LQZNyoQjWCj6"
      },
      "source": [
        "### 문제 20. train_cut_bow_text의 길이 분포를 출력해보세요."
      ]
    },
    {
      "cell_type": "code",
      "metadata": {
        "id": "RJgB4BS2Wayg"
      },
      "source": [
        "# train_cut_bow_text의 길이 분포를 출력해보세요."
      ],
      "execution_count": null,
      "outputs": []
    },
    {
      "cell_type": "code",
      "source": [
        "plt.hist([len(s) for s in train_cut_text], bins=50)\n",
        "plt.show()"
      ],
      "metadata": {
        "colab": {
          "base_uri": "https://localhost:8080/",
          "height": 265
        },
        "id": "UipJAimVtJLo",
        "outputId": "6cb8ad1f-1ead-463f-c3f1-bd09da40be71"
      },
      "execution_count": null,
      "outputs": [
        {
          "output_type": "display_data",
          "data": {
            "image/png": "[encoded data removed]",
            "text/plain": [
              "<Figure size 432x288 with 1 Axes>"
            ]
          },
          "metadata": {
            "needs_background": "light"
          }
        }
      ]
    },
    {
      "cell_type": "code",
      "source": [
        "train_cut_text[:5]"
      ],
      "metadata": {
        "colab": {
          "base_uri": "https://localhost:8080/"
        },
        "id": "05yH-RVZ8poC",
        "outputId": "24a5f6da-4177-449b-bed3-c51d9aa4e88a"
      },
      "execution_count": null,
      "outputs": [
        {
          "output_type": "execute_result",
          "data": {
            "text/plain": [
              "array([list([55, 994, 5, 26, 15931, 1230]),\n",
              "       list([1496, 6, 4790, 159, 1679, 34, 406, 50, 15263, 411, 1339, 8024, 885, 443]),\n",
              "       list([18, 490, 534, 3011, 13494, 14, 2179, 291]),\n",
              "       list([14238, 198, 6996, 4, 5, 3717, 945, 90, 5, 687, 10224]),\n",
              "       list([3048, 5653, 1839, 235, 9, 2090, 330, 12906, 7, 20, 49, 6791, 2203, 1225, 1959, 3262, 8728, 4, 161, 1348, 12, 1585, 8560, 15280])],\n",
              "      dtype=object)"
            ]
          },
          "metadata": {},
          "execution_count": 102
        }
      ]
    },
    {
      "cell_type": "markdown",
      "metadata": {
        "id": "gQTwSPM5dun1"
      },
      "source": [
        "### 문제 21. train_cut_bow_text2의 길이 분포를 출력해보세요."
      ]
    },
    {
      "cell_type": "code",
      "metadata": {
        "id": "eSsC4D6Rd4aA"
      },
      "source": [
        "# train_cut_bow_text2의 길이 분포를 출력해보세요."
      ],
      "execution_count": null,
      "outputs": []
    },
    {
      "cell_type": "code",
      "source": [
        "plt.hist([len(s) for s in train_cut_bow_text2], bins=50) # 길이를 100으로 제한했던 data\n",
        "plt.show()"
      ],
      "metadata": {
        "colab": {
          "base_uri": "https://localhost:8080/",
          "height": 265
        },
        "id": "ajK_GFUbtJX4",
        "outputId": "52d9799e-6233-4170-8364-b9f51f35cc01"
      },
      "execution_count": null,
      "outputs": [
        {
          "output_type": "display_data",
          "data": {
            "image/png": "[encoded data removed]",
            "text/plain": [
              "<Figure size 432x288 with 1 Axes>"
            ]
          },
          "metadata": {
            "needs_background": "light"
          }
        }
      ]
    },
    {
      "cell_type": "code",
      "source": [
        "train_cut_bow_text2[:5]"
      ],
      "metadata": {
        "colab": {
          "base_uri": "https://localhost:8080/"
        },
        "id": "Cw-MLDUS8rsp",
        "outputId": "1b80d9f2-19ed-45d5-af5e-f5ad3108b595"
      },
      "execution_count": null,
      "outputs": [
        {
          "output_type": "execute_result",
          "data": {
            "text/plain": [
              "array([[    0,     0,     0,     0,     0,     0,     0,     0,     0,\n",
              "            0,     0,     0,     0,     0,     0,     0,     0,     0,\n",
              "            0,     0,     0,     0,     0,     0,     0,     0,     0,\n",
              "            0,     0,     0,     0,     0,     0,     0,     0,     0,\n",
              "            0,     0,     0,     0,     0,     0,     0,     0,     0,\n",
              "            0,     0,     0,     0,     0,     0,     0,     0,     0,\n",
              "            0,     0,     0,     0,     0,     0,     0,     0,     0,\n",
              "            0,     0,     0,     0,     0,     0,     0,     0,     0,\n",
              "            0,     0,     0,     0,     0,     0,     0,     0,     0,\n",
              "            0,     0,     0,     0,     0,     0,     0,     0,     0,\n",
              "            0,     0,     0,     0,    55,   994,     5,    26, 15931,\n",
              "         1230],\n",
              "       [    0,     0,     0,     0,     0,     0,     0,     0,     0,\n",
              "            0,     0,     0,     0,     0,     0,     0,     0,     0,\n",
              "            0,     0,     0,     0,     0,     0,     0,     0,     0,\n",
              "            0,     0,     0,     0,     0,     0,     0,     0,     0,\n",
              "            0,     0,     0,     0,     0,     0,     0,     0,     0,\n",
              "            0,     0,     0,     0,     0,     0,     0,     0,     0,\n",
              "            0,     0,     0,     0,     0,     0,     0,     0,     0,\n",
              "            0,     0,     0,     0,     0,     0,     0,     0,     0,\n",
              "            0,     0,     0,     0,     0,     0,     0,     0,     0,\n",
              "            0,     0,     0,     0,     0,  1496,     6,  4790,   159,\n",
              "         1679,    34,   406,    50, 15263,   411,  1339,  8024,   885,\n",
              "          443],\n",
              "       [    0,     0,     0,     0,     0,     0,     0,     0,     0,\n",
              "            0,     0,     0,     0,     0,     0,     0,     0,     0,\n",
              "            0,     0,     0,     0,     0,     0,     0,     0,     0,\n",
              "            0,     0,     0,     0,     0,     0,     0,     0,     0,\n",
              "            0,     0,     0,     0,     0,     0,     0,     0,     0,\n",
              "            0,     0,     0,     0,     0,     0,     0,     0,     0,\n",
              "            0,     0,     0,     0,     0,     0,     0,     0,     0,\n",
              "            0,     0,     0,     0,     0,     0,     0,     0,     0,\n",
              "            0,     0,     0,     0,     0,     0,     0,     0,     0,\n",
              "            0,     0,     0,     0,     0,     0,     0,     0,     0,\n",
              "            0,    18,   490, 19798,   534,  3011, 13494,    14,  2179,\n",
              "          291],\n",
              "       [    0,     0,     0,     0,     0,     0,     0,     0,     0,\n",
              "            0,     0,     0,     0,     0,     0,     0,     0,     0,\n",
              "            0,     0,     0,     0,     0,     0,     0,     0,     0,\n",
              "            0,     0,     0,     0,     0,     0,     0,     0,     0,\n",
              "            0,     0,     0,     0,     0,     0,     0,     0,     0,\n",
              "            0,     0,     0,     0,     0,     0,     0,     0,     0,\n",
              "            0,     0,     0,     0,     0,     0,     0,     0,     0,\n",
              "            0,     0,     0,     0,     0,     0,     0,     0,     0,\n",
              "            0,     0,     0,     0,     0,     0,     0,     0,     0,\n",
              "            0,     0,     0,     0,     0,     0,     0,     0, 14238,\n",
              "          198,  6996,     4,     5,  3717,   945,    90,     5,   687,\n",
              "        10224],\n",
              "       [    0,     0,     0,     0,     0,     0,     0,     0,     0,\n",
              "            0,     0,     0,     0,     0,     0,     0,     0,     0,\n",
              "            0,     0,     0,     0,     0,     0,     0,     0,     0,\n",
              "            0,     0,     0,     0,     0,     0,     0,     0,     0,\n",
              "            0,     0,     0,     0,     0,     0,     0,     0,     0,\n",
              "            0,     0,     0,     0,     0,     0,     0,     0,     0,\n",
              "            0,     0,     0,     0,     0,     0,     0,     0,     0,\n",
              "            0,     0,     0,     0,     0,     0,     0,     0,     0,\n",
              "            0,     0,  3048,  5653,  1839,   235,     9, 18573,  2090,\n",
              "          330, 12906,     7,    20, 18732,    49,  6791,  2203,  1225,\n",
              "         1959,  3262,  8728,     4,   161,  1348,    12,  1585,  8560,\n",
              "        15280]], dtype=int32)"
            ]
          },
          "metadata": {},
          "execution_count": 103
        }
      ]
    },
    {
      "cell_type": "markdown",
      "metadata": {
        "id": "ZVFMAQsqzVu0"
      },
      "source": [
        "### 문제 22. label 분포를 출력해보세요."
      ]
    },
    {
      "cell_type": "code",
      "metadata": {
        "id": "F2a4bsnyzVu1"
      },
      "source": [
        "# label 분포를 출력해보세요."
      ],
      "execution_count": null,
      "outputs": []
    },
    {
      "cell_type": "code",
      "source": [
        "import collections\n",
        "\n",
        "collections.Counter(train_sentiment)"
      ],
      "metadata": {
        "colab": {
          "base_uri": "https://localhost:8080/"
        },
        "id": "8Vc9onCj8ws8",
        "outputId": "d54c4bca-b446-4b44-8cc5-de2923b150d6"
      },
      "execution_count": null,
      "outputs": [
        {
          "output_type": "execute_result",
          "data": {
            "text/plain": [
              "Counter({0: 75173, 1: 74827})"
            ]
          },
          "metadata": {},
          "execution_count": 104
        }
      ]
    },
    {
      "cell_type": "code",
      "source": [
        "plt.bar(\n",
        "    np.unique(train_sentiment), list(map(lambda x: x[1], sorted(collections.Counter(train_sentiment).items())))\n",
        "    )\n",
        "plt.show()"
      ],
      "metadata": {
        "colab": {
          "base_uri": "https://localhost:8080/",
          "height": 265
        },
        "id": "ZsQtaEX-9I5u",
        "outputId": "5dc9cc74-6465-42eb-c9ec-ab580ef7acfa"
      },
      "execution_count": null,
      "outputs": [
        {
          "output_type": "display_data",
          "data": {
            "image/png": "[encoded data removed]",
            "text/plain": [
              "<Figure size 432x288 with 1 Axes>"
            ]
          },
          "metadata": {
            "needs_background": "light"
          }
        }
      ]
    },
    {
      "cell_type": "code",
      "source": [
        "plt.bar(*np.unique(train_sentiment, return_counts=True))\n",
        "plt.show()"
      ],
      "metadata": {
        "colab": {
          "base_uri": "https://localhost:8080/",
          "height": 265
        },
        "id": "FB75AXdmtJsW",
        "outputId": "70010072-8c16-4910-c3e8-bf1ce9585293"
      },
      "execution_count": null,
      "outputs": [
        {
          "output_type": "display_data",
          "data": {
            "image/png": "[encoded data removed]",
            "text/plain": [
              "<Figure size 432x288 with 1 Axes>"
            ]
          },
          "metadata": {
            "needs_background": "light"
          }
        }
      ]
    },
    {
      "cell_type": "markdown",
      "metadata": {
        "id": "mArcGUVQ_4Ou"
      },
      "source": [
        "### 문제 23. seabon을 이용하여 label 분포를 출력해보세요."
      ]
    },
    {
      "cell_type": "code",
      "metadata": {
        "id": "Ylp3tzTezVu2"
      },
      "source": [
        "# label 분포를 출력해보세요."
      ],
      "execution_count": null,
      "outputs": []
    },
    {
      "cell_type": "code",
      "source": [
        "sns.countplot(train_sentiment)"
      ],
      "metadata": {
        "colab": {
          "base_uri": "https://localhost:8080/",
          "height": 283
        },
        "id": "SWEUcS8RtJ3J",
        "outputId": "6f89c67c-1c2e-40b9-dd20-50d9fa60564c"
      },
      "execution_count": null,
      "outputs": [
        {
          "output_type": "execute_result",
          "data": {
            "text/plain": [
              "<matplotlib.axes._subplots.AxesSubplot at 0x7f0db6451bd0>"
            ]
          },
          "metadata": {},
          "execution_count": 107
        },
        {
          "output_type": "display_data",
          "data": {
            "image/png": "[encoded data removed]",
            "text/plain": [
              "<Figure size 432x288 with 1 Axes>"
            ]
          },
          "metadata": {
            "needs_background": "light"
          }
        }
      ]
    },
    {
      "cell_type": "code",
      "source": [
        "sns.countplot(list(map(lambda x:sentiment2label(x), train_sentiment)))\n",
        "plt.xticks(rotation=45)\n",
        "fig = plt.gcf()\n",
        "fig.set_size_inches(10, 5) # 사이즈 키우기\n",
        "plt.show()"
      ],
      "metadata": {
        "colab": {
          "base_uri": "https://localhost:8080/",
          "height": 334
        },
        "id": "7LIS37EU91G2",
        "outputId": "9a11b511-00ce-49d5-9555-dcbe5d6d430e"
      },
      "execution_count": null,
      "outputs": [
        {
          "output_type": "display_data",
          "data": {
            "image/png": "[encoded data removed]",
            "text/plain": [
              "<Figure size 720x360 with 1 Axes>"
            ]
          },
          "metadata": {
            "needs_background": "light"
          }
        }
      ]
    },
    {
      "cell_type": "markdown",
      "metadata": {
        "id": "G1lGWgCIZkTF"
      },
      "source": [
        "### 문제 24. sp를 이용해서 text를 decode해보세요."
      ]
    },
    {
      "cell_type": "code",
      "metadata": {
        "id": "Q6e8-yQvZqG8"
      },
      "source": [
        "# sp를 이용해서 text를 decode해보세요."
      ],
      "execution_count": null,
      "outputs": []
    },
    {
      "cell_type": "code",
      "source": [
        "def bow2text(bow):\n",
        "  return sp.decode_ids(bow)"
      ],
      "metadata": {
        "id": "HU3KcPm-tKL5"
      },
      "execution_count": null,
      "outputs": []
    },
    {
      "cell_type": "code",
      "source": [
        "test_text[0], bow2text(test_text[0])"
      ],
      "metadata": {
        "colab": {
          "base_uri": "https://localhost:8080/"
        },
        "id": "1c8PV7zf-rJg",
        "outputId": "528beb44-4759-4864-8c7b-ece567a0dbcc"
      },
      "execution_count": null,
      "outputs": [
        {
          "output_type": "execute_result",
          "data": {
            "text/plain": [
              "([1351, 195], '굳 ᄏ')"
            ]
          },
          "metadata": {},
          "execution_count": 119
        }
      ]
    },
    {
      "cell_type": "code",
      "source": [
        "test_text[33], bow2text(test_text[33])"
      ],
      "metadata": {
        "colab": {
          "base_uri": "https://localhost:8080/"
        },
        "id": "lMVU9WrQ-jyD",
        "outputId": "df986d04-81ff-4d1e-9720-bf6ac04e2d03"
      },
      "execution_count": null,
      "outputs": [
        {
          "output_type": "execute_result",
          "data": {
            "text/plain": [
              "([22, 10, 169, 10, 2928, 1513, 83, 7, 6], '정말,진짜,표현할수 없는 영화...')"
            ]
          },
          "metadata": {},
          "execution_count": 120
        }
      ]
    },
    {
      "cell_type": "markdown",
      "metadata": {
        "id": "ow36DKdvxeo3"
      },
      "source": [
        "### 문제 25. train/test 데이터에서 문서당 가장 많은 횟수로 출현한 word 분포를 출력하세요."
      ]
    },
    {
      "cell_type": "code",
      "metadata": {
        "id": "EquGdzbhxoXa"
      },
      "source": [
        "# 문서당 가장 많은 횟수로 출현한 word 분포를 출력하세요."
      ],
      "execution_count": null,
      "outputs": []
    },
    {
      "cell_type": "code",
      "source": [
        "plt.plot(sorted([np.unique(doc, return_counts=True)[1].argmax() for doc in train_text], reverse=True))\n",
        "plt.show()"
      ],
      "metadata": {
        "colab": {
          "base_uri": "https://localhost:8080/",
          "height": 265
        },
        "id": "Wl1DaPSGtKdl",
        "outputId": "35b8d2f0-0452-48e2-edbd-679c52c71aaf"
      },
      "execution_count": null,
      "outputs": [
        {
          "output_type": "display_data",
          "data": {
            "image/png": "[encoded data removed]",
            "text/plain": [
              "<Figure size 432x288 with 1 Axes>"
            ]
          },
          "metadata": {
            "needs_background": "light"
          }
        }
      ]
    },
    {
      "cell_type": "code",
      "source": [
        "plt.plot(sorted([np.unique(doc, return_counts=True)[1].argmax() for doc in test_text], reverse=True))\n",
        "plt.show()"
      ],
      "metadata": {
        "colab": {
          "base_uri": "https://localhost:8080/",
          "height": 265
        },
        "id": "7eIx0bQ7_MZ5",
        "outputId": "87322e15-0487-45cb-f9a1-9c2e1daf2b2c"
      },
      "execution_count": null,
      "outputs": [
        {
          "output_type": "display_data",
          "data": {
            "image/png": "[encoded data removed]",
            "text/plain": [
              "<Figure size 432x288 with 1 Axes>"
            ]
          },
          "metadata": {
            "needs_background": "light"
          }
        }
      ]
    },
    {
      "cell_type": "markdown",
      "metadata": {
        "id": "l_cnJEsbzjKQ"
      },
      "source": [
        "### 문제 26. train/test 전체 문서 당 출현이 가장 높은 word 분포를 출력하세요."
      ]
    },
    {
      "cell_type": "code",
      "metadata": {
        "id": "JSo-6vI0zzkq"
      },
      "source": [
        "# train/test 전체 문서 당 출현이 가장 높은 word 분포를 출력"
      ],
      "execution_count": null,
      "outputs": []
    },
    {
      "cell_type": "code",
      "source": [
        "table = np.zeros(len(all_words)+3)\n",
        "\n",
        "for doc in train_text:\n",
        "  table[np.unique(doc)] += 1\n",
        "\n",
        "plt.plot(sorted(table, reverse=True)[:300])\n",
        "plt.show()"
      ],
      "metadata": {
        "colab": {
          "base_uri": "https://localhost:8080/",
          "height": 265
        },
        "id": "rpRkmR4wtKrY",
        "outputId": "9050647c-eae0-4a02-8873-5702a8c4439f"
      },
      "execution_count": null,
      "outputs": [
        {
          "output_type": "display_data",
          "data": {
            "image/png": "[encoded data removed]",
            "text/plain": [
              "<Figure size 432x288 with 1 Axes>"
            ]
          },
          "metadata": {
            "needs_background": "light"
          }
        }
      ]
    },
    {
      "cell_type": "code",
      "source": [
        "table = np.zeros(len(all_words)+3)\n",
        "\n",
        "for doc in test_text:\n",
        "  table[np.unique(doc)] += 1\n",
        "\n",
        "plt.plot(sorted(table, reverse=True)[:300])\n",
        "plt.show()"
      ],
      "metadata": {
        "colab": {
          "base_uri": "https://localhost:8080/",
          "height": 265
        },
        "id": "3ctBq34YAFz1",
        "outputId": "e95aaa05-2d27-4c46-ffca-d62974be07fa"
      },
      "execution_count": null,
      "outputs": [
        {
          "output_type": "display_data",
          "data": {
            "image/png": "[encoded data removed]",
            "text/plain": [
              "<Figure size 432x288 with 1 Axes>"
            ]
          },
          "metadata": {
            "needs_background": "light"
          }
        }
      ]
    },
    {
      "cell_type": "markdown",
      "metadata": {
        "id": "SS-jypo11pEt"
      },
      "source": [
        "## Step 4. Seq2Seq의 Encoder 이용 모델링"
      ]
    },
    {
      "cell_type": "markdown",
      "metadata": {
        "id": "JEy2Yz2dRt3S"
      },
      "source": [
        "### 문제 27. Encoder이용 classification 모델 구축"
      ]
    },
    {
      "cell_type": "code",
      "metadata": {
        "id": "rDWsD2haRz4y"
      },
      "source": [
        "# seq2seq 모델을 구축하고 학습모델, encoder를 획득하세요"
      ],
      "execution_count": null,
      "outputs": []
    },
    {
      "cell_type": "code",
      "source": [
        "from keras.layers import Input, Embedding, GRU, Dense\n",
        "from keras.models import Model\n",
        "\n",
        "def seq2seq():\n",
        "  inputs_x_bow = Input((100,))\n",
        "  \n",
        "  embedding = Embedding(20000, 120) # layer / 20000개를 120개로 압축\n",
        "\n",
        "  x = embedding(inputs_x_bow)\n",
        "  z = GRU(64)(x)\n",
        "  y = Dense(2, activation='softmax')(z)\n",
        "\n",
        "  model = Model(inputs_x_bow, y)\n",
        "  model.compile(loss='categorical_crossentropy', optimizer='adam', metrics='accuracy')\n",
        "  return model"
      ],
      "metadata": {
        "id": "fDFI1eCBtLFb"
      },
      "execution_count": null,
      "outputs": []
    },
    {
      "cell_type": "markdown",
      "metadata": {
        "id": "3ZWybbgyfeh-"
      },
      "source": [
        "### 문제 28. 학습 모델을 생성하고 summary를 출력하세요. "
      ]
    },
    {
      "cell_type": "code",
      "metadata": {
        "id": "x0IFoo-Yfxfp"
      },
      "source": [
        "# 학습 모델을 생성하고 summary를 출력하세요."
      ],
      "execution_count": null,
      "outputs": []
    },
    {
      "cell_type": "code",
      "source": [
        "model = seq2seq()\n",
        "model.summary()"
      ],
      "metadata": {
        "colab": {
          "base_uri": "https://localhost:8080/"
        },
        "id": "6lgU85sYtLZE",
        "outputId": "2a28dc81-ffe2-4b2e-db82-e74e48271428"
      },
      "execution_count": null,
      "outputs": [
        {
          "output_type": "stream",
          "name": "stdout",
          "text": [
            "Model: \"model\"\n",
            "_________________________________________________________________\n",
            " Layer (type)                Output Shape              Param #   \n",
            "=================================================================\n",
            " input_1 (InputLayer)        [(None, 100)]             0         \n",
            "                                                                 \n",
            " embedding (Embedding)       (None, 100, 120)          2400000   \n",
            "                                                                 \n",
            " gru (GRU)                   (None, 64)                35712     \n",
            "                                                                 \n",
            " dense (Dense)               (None, 2)                 130       \n",
            "                                                                 \n",
            "=================================================================\n",
            "Total params: 2,435,842\n",
            "Trainable params: 2,435,842\n",
            "Non-trainable params: 0\n",
            "_________________________________________________________________\n"
          ]
        }
      ]
    },
    {
      "cell_type": "markdown",
      "metadata": {
        "id": "7OpFGbD6V8Zl"
      },
      "source": [
        "### 문제 29. 모델을 학습해보세요."
      ]
    },
    {
      "cell_type": "code",
      "metadata": {
        "id": "sFOJNRTvYo7d"
      },
      "source": [
        "# 학습모델을 학습해보세요."
      ],
      "execution_count": null,
      "outputs": []
    },
    {
      "cell_type": "code",
      "source": [
        "hist = model.fit(train_cut_bow_text2, train_onehot_sentiment,\n",
        "                 validation_data=(test_cut_bow_text2, test_onehot_sentiment),\n",
        "                 epochs=2, verbose=1)"
      ],
      "metadata": {
        "colab": {
          "base_uri": "https://localhost:8080/"
        },
        "id": "PaEsQv5KtLj2",
        "outputId": "8e20ecef-af63-4470-cd7d-05fc981981f0"
      },
      "execution_count": null,
      "outputs": [
        {
          "output_type": "stream",
          "name": "stdout",
          "text": [
            "Epoch 1/2\n",
            "4688/4688 [==============================] - 168s 33ms/step - loss: 0.3580 - accuracy: 0.8393 - val_loss: 0.3199 - val_accuracy: 0.8624\n",
            "Epoch 2/2\n",
            "4688/4688 [==============================] - 153s 33ms/step - loss: 0.2454 - accuracy: 0.8984 - val_loss: 0.3225 - val_accuracy: 0.8652\n"
          ]
        }
      ]
    },
    {
      "cell_type": "markdown",
      "metadata": {
        "id": "-2fgZVGdNU6a"
      },
      "source": [
        "### 문제 30. 학습 진행 사항을 plt으로 출력하세요."
      ]
    },
    {
      "cell_type": "code",
      "metadata": {
        "id": "W4IStqFmNU6a"
      },
      "source": [
        "# hist의 accuracy와 loss를 plt의 plot을 이용하여 출력하는 코드를 작성하세요."
      ],
      "execution_count": null,
      "outputs": []
    },
    {
      "cell_type": "code",
      "source": [
        "plt.plot(hist.history['accuracy'], label='acc')\n",
        "plt.plot(hist.history['loss'], label='loss')\n",
        "plt.plot(hist.history['val_accuracy'], label='val_acc')\n",
        "plt.plot(hist.history['val_loss'], label='val_loss')\n",
        "plt.legend()\n",
        "plt.show()"
      ],
      "metadata": {
        "colab": {
          "base_uri": "https://localhost:8080/",
          "height": 265
        },
        "id": "-IZNmEZgtMQR",
        "outputId": "fcd59e43-8bda-42dc-b611-2d8ccc26f242"
      },
      "execution_count": null,
      "outputs": [
        {
          "output_type": "display_data",
          "data": {
            "image/png": "[encoded data removed]",
            "text/plain": [
              "<Figure size 432x288 with 1 Axes>"
            ]
          },
          "metadata": {
            "needs_background": "light"
          }
        }
      ]
    },
    {
      "cell_type": "markdown",
      "metadata": {
        "id": "zFoX6k7CkqaI"
      },
      "source": [
        "### 문제 31. train_cut_bow_text를 위한 학습 모델을 생성하고 summary를 출력하세요. "
      ]
    },
    {
      "cell_type": "code",
      "metadata": {
        "id": "Td3iugCUkqaJ"
      },
      "source": [
        "# 학습 모델을 생성하고 summary를 출력하세요."
      ],
      "execution_count": null,
      "outputs": []
    },
    {
      "cell_type": "code",
      "source": [
        "model2 = seq2seq()\n",
        "model2.summary()"
      ],
      "metadata": {
        "colab": {
          "base_uri": "https://localhost:8080/"
        },
        "id": "PT802QootMcB",
        "outputId": "455a70a8-194e-4d10-8de8-34857199256f"
      },
      "execution_count": null,
      "outputs": [
        {
          "output_type": "stream",
          "name": "stdout",
          "text": [
            "Model: \"model_1\"\n",
            "_________________________________________________________________\n",
            " Layer (type)                Output Shape              Param #   \n",
            "=================================================================\n",
            " input_2 (InputLayer)        [(None, 100)]             0         \n",
            "                                                                 \n",
            " embedding_1 (Embedding)     (None, 100, 120)          2400000   \n",
            "                                                                 \n",
            " gru_1 (GRU)                 (None, 64)                35712     \n",
            "                                                                 \n",
            " dense_1 (Dense)             (None, 2)                 130       \n",
            "                                                                 \n",
            "=================================================================\n",
            "Total params: 2,435,842\n",
            "Trainable params: 2,435,842\n",
            "Non-trainable params: 0\n",
            "_________________________________________________________________\n"
          ]
        }
      ]
    },
    {
      "cell_type": "markdown",
      "metadata": {
        "id": "FWhr7EAukqaK"
      },
      "source": [
        "### 문제 32. 학습모델을 학습해보세요. 단, train_cut_bow_text를 100으로 길이를 수정하고 실행하세요."
      ]
    },
    {
      "cell_type": "code",
      "metadata": {
        "id": "UC25gz5AkqaK"
      },
      "source": [
        "# 학습모델을 학습해보세요."
      ],
      "execution_count": null,
      "outputs": []
    },
    {
      "cell_type": "code",
      "source": [
        "hist2 = model2.fit(train_cut_bow_text[...,-100:], train_onehot_sentiment,\n",
        "                   validation_data=(test_cut_bow_text[...,-100:], test_onehot_sentiment),\n",
        "                   epochs=2, verbose=1)"
      ],
      "metadata": {
        "colab": {
          "base_uri": "https://localhost:8080/"
        },
        "id": "2W4Pf3ZWtMq5",
        "outputId": "d9bb8613-1af2-408e-ccc1-0c70b5ff7b75"
      },
      "execution_count": null,
      "outputs": [
        {
          "output_type": "stream",
          "name": "stdout",
          "text": [
            "Epoch 1/2\n",
            "4688/4688 [==============================] - 161s 33ms/step - loss: 0.3604 - accuracy: 0.8383 - val_loss: 0.3211 - val_accuracy: 0.8602\n",
            "Epoch 2/2\n",
            "4688/4688 [==============================] - 145s 31ms/step - loss: 0.2562 - accuracy: 0.8932 - val_loss: 0.3234 - val_accuracy: 0.8627\n"
          ]
        }
      ]
    },
    {
      "cell_type": "markdown",
      "metadata": {
        "id": "b_3s4L8OkqaL"
      },
      "source": [
        "### 문제 33. 학습 진행 사항을 plt으로 출력하세요."
      ]
    },
    {
      "cell_type": "code",
      "metadata": {
        "id": "Auttqup0kqaL"
      },
      "source": [
        "# hist2의 accuracy와 loss를 plt의 plot을 이용하여 출력하는 코드를 작성하세요"
      ],
      "execution_count": null,
      "outputs": []
    },
    {
      "cell_type": "code",
      "source": [
        "plt.plot(hist2.history['accuracy'], label='acc')\n",
        "plt.plot(hist2.history['loss'], label='loss')\n",
        "plt.plot(hist2.history['val_accuracy'], label='val_acc')\n",
        "plt.plot(hist2.history['val_loss'], label='val_loss')\n",
        "plt.legend()\n",
        "plt.show()"
      ],
      "metadata": {
        "colab": {
          "base_uri": "https://localhost:8080/",
          "height": 265
        },
        "id": "f2ySadF7tNBJ",
        "outputId": "eb63b471-8330-4b4a-b712-6985244b15bf"
      },
      "execution_count": null,
      "outputs": [
        {
          "output_type": "display_data",
          "data": {
            "image/png": "[encoded data removed]",
            "text/plain": [
              "<Figure size 432x288 with 1 Axes>"
            ]
          },
          "metadata": {
            "needs_background": "light"
          }
        }
      ]
    },
    {
      "cell_type": "markdown",
      "metadata": {
        "id": "ZNI00Lzv1y4S"
      },
      "source": [
        "## Step 5. 모델 결과 확인"
      ]
    },
    {
      "cell_type": "markdown",
      "metadata": {
        "id": "W_xsByHegZhh"
      },
      "source": [
        "### 문제 34. 완성된 모델1, 2에서 test 하나를 예측하고 결과를 res1, res2 변수에 저정하세요."
      ]
    },
    {
      "cell_type": "code",
      "metadata": {
        "id": "Y88qmAVChg_Z"
      },
      "source": [
        "# 완성된 모델에서 test 하나를 예측하고 결과를 res 변수에 저정하세요."
      ],
      "execution_count": null,
      "outputs": []
    },
    {
      "cell_type": "code",
      "source": [
        "res1 = model.predict(test_cut_bow_text2[:10])\n",
        "res2 = model2.predict(test_cut_bow_text[:10,-100:])\n",
        "\n",
        "print(res1.shape, res2.shape)"
      ],
      "metadata": {
        "colab": {
          "base_uri": "https://localhost:8080/"
        },
        "id": "Jvaxb_uEtNW6",
        "outputId": "a33a47f7-0441-47e5-d0f8-663a0f9fc44b"
      },
      "execution_count": null,
      "outputs": [
        {
          "output_type": "stream",
          "name": "stdout",
          "text": [
            "(10, 2) (10, 2)\n"
          ]
        }
      ]
    },
    {
      "cell_type": "code",
      "source": [
        "print(res1.argmax(axis=1))\n",
        "print(res2.argmax(axis=1))\n",
        "print(test_onehot_sentiment[:10].argmax(axis=1))"
      ],
      "metadata": {
        "colab": {
          "base_uri": "https://localhost:8080/"
        },
        "id": "WuQVMjngFYNt",
        "outputId": "eac482b1-433b-48fb-f068-65fb5b33e8bb"
      },
      "execution_count": null,
      "outputs": [
        {
          "output_type": "stream",
          "name": "stdout",
          "text": [
            "[1 1 0 0 0 1 0 0 0 1]\n",
            "[1 1 0 0 0 1 0 0 0 1]\n",
            "[1 0 0 0 0 1 0 0 0 1]\n"
          ]
        }
      ]
    },
    {
      "cell_type": "code",
      "source": [
        "bow2text(test_text[1])"
      ],
      "metadata": {
        "colab": {
          "base_uri": "https://localhost:8080/",
          "height": 36
        },
        "id": "9r0IN6mjGLRV",
        "outputId": "2181098b-715a-4df8-d754-d96b47995a20"
      },
      "execution_count": null,
      "outputs": [
        {
          "output_type": "execute_result",
          "data": {
            "application/vnd.google.colaboratory.intrinsic+json": {
              "type": "string"
            },
            "text/plain": [
              "'GDNTOPCLASSINTHECLUB'"
            ]
          },
          "metadata": {},
          "execution_count": 154
        }
      ]
    },
    {
      "cell_type": "markdown",
      "metadata": {
        "id": "zQgQKKCTpv99"
      },
      "source": [
        "### 문제 35. res1, res2의 결과를 확인하세요."
      ]
    },
    {
      "cell_type": "code",
      "metadata": {
        "id": "7TqsGxqogZI0"
      },
      "source": [
        "# res1, res2의 결과를 확인하세요."
      ],
      "execution_count": null,
      "outputs": []
    },
    {
      "cell_type": "code",
      "source": [
        "res1 = model.predict(test_cut_bow_text2[0:1])\n",
        "\n",
        "plt.bar([0,1], res1[0], color='gold')\n",
        "plt.bar(np.array([0,1])+0.2, test_onehot_sentiment[0], color='red')\n",
        "plt.show()"
      ],
      "metadata": {
        "colab": {
          "base_uri": "https://localhost:8080/",
          "height": 265
        },
        "id": "tkC40CMTSSun",
        "outputId": "3cf9c6ea-32da-4302-e704-87904c46cf36"
      },
      "execution_count": null,
      "outputs": [
        {
          "output_type": "display_data",
          "data": {
            "image/png": "[encoded data removed]",
            "text/plain": [
              "<Figure size 432x288 with 1 Axes>"
            ]
          },
          "metadata": {
            "needs_background": "light"
          }
        }
      ]
    },
    {
      "cell_type": "code",
      "source": [
        "res2 = model2.predict(test_cut_bow_text[0:1,-100:])\n",
        "\n",
        "plt.bar([0,1], res2[0], color='gold')\n",
        "plt.bar(np.array([0,1])+0.2, test_onehot_sentiment[0], color='red')\n",
        "plt.show()"
      ],
      "metadata": {
        "colab": {
          "base_uri": "https://localhost:8080/",
          "height": 265
        },
        "id": "HMCGx92mSh_U",
        "outputId": "a2179122-d580-4a32-9806-5ba295903b87"
      },
      "execution_count": null,
      "outputs": [
        {
          "output_type": "display_data",
          "data": {
            "image/png": "[encoded data removed]",
            "text/plain": [
              "<Figure size 432x288 with 1 Axes>"
            ]
          },
          "metadata": {
            "needs_background": "light"
          }
        }
      ]
    },
    {
      "cell_type": "markdown",
      "metadata": {
        "id": "WFZcoocOuUGz"
      },
      "source": [
        "### 문제 36. 평문을 bow로 변환해보세요. "
      ]
    },
    {
      "cell_type": "code",
      "metadata": {
        "id": "ah10xq-vudTi"
      },
      "source": [
        "# 평문을 bow로 변환해보세요. (oov는 무시합니다.)"
      ],
      "execution_count": null,
      "outputs": []
    },
    {
      "cell_type": "code",
      "source": [
        "text = bow2text(test_text[2])\n",
        "text"
      ],
      "metadata": {
        "colab": {
          "base_uri": "https://localhost:8080/",
          "height": 36
        },
        "id": "gBN1flRmTJxL",
        "outputId": "51c4106d-9af1-48ae-94c3-15f39ee15b07"
      },
      "execution_count": null,
      "outputs": [
        {
          "output_type": "execute_result",
          "data": {
            "application/vnd.google.colaboratory.intrinsic+json": {
              "type": "string"
            },
            "text/plain": [
              "'뭐야 이 평점들은.... 나쁘진 않지만 10점 짜리는 더더욱 아니잖아'"
            ]
          },
          "metadata": {},
          "execution_count": 163
        }
      ]
    },
    {
      "cell_type": "code",
      "source": [
        "def text2bow(text, maxlen=150):\n",
        "  seq = sp.encode_as_ids(text)\n",
        "  bow = tf.keras.preprocessing.sequence.pad_sequences([seq], value=0, maxlen=maxlen)\n",
        "  return bow"
      ],
      "metadata": {
        "id": "k0xjEAgMTPoz"
      },
      "execution_count": null,
      "outputs": []
    },
    {
      "cell_type": "code",
      "source": [
        "text2bow(text)"
      ],
      "metadata": {
        "colab": {
          "base_uri": "https://localhost:8080/"
        },
        "id": "yfA8Seg5TfnL",
        "outputId": "1473ad5c-6eb8-4b17-a2aa-b6153b67c5ec"
      },
      "execution_count": null,
      "outputs": [
        {
          "output_type": "execute_result",
          "data": {
            "text/plain": [
              "array([[    0,     0,     0,     0,     0,     0,     0,     0,     0,\n",
              "            0,     0,     0,     0,     0,     0,     0,     0,     0,\n",
              "            0,     0,     0,     0,     0,     0,     0,     0,     0,\n",
              "            0,     0,     0,     0,     0,     0,     0,     0,     0,\n",
              "            0,     0,     0,     0,     0,     0,     0,     0,     0,\n",
              "            0,     0,     0,     0,     0,     0,     0,     0,     0,\n",
              "            0,     0,     0,     0,     0,     0,     0,     0,     0,\n",
              "            0,     0,     0,     0,     0,     0,     0,     0,     0,\n",
              "            0,     0,     0,     0,     0,     0,     0,     0,     0,\n",
              "            0,     0,     0,     0,     0,     0,     0,     0,     0,\n",
              "            0,     0,     0,     0,     0,     0,     0,     0,     0,\n",
              "            0,     0,     0,     0,     0,     0,     0,     0,     0,\n",
              "            0,     0,     0,     0,     0,     0,     0,     0,     0,\n",
              "            0,     0,     0,     0,     0,     0,     0,     0,     0,\n",
              "            0,     0,     0,     0,     0,     0,     0,     0,     0,\n",
              "            0,     0,   897,    24,    64,   478,    50, 11799,  2661,\n",
              "           56,    35,  5413,    13,  8961,  4854]], dtype=int32)"
            ]
          },
          "metadata": {},
          "execution_count": 167
        }
      ]
    },
    {
      "cell_type": "code",
      "source": [
        "test_text[2]"
      ],
      "metadata": {
        "colab": {
          "base_uri": "https://localhost:8080/"
        },
        "id": "A60pf0RSTh_E",
        "outputId": "34c18463-d3a9-4954-8e4f-a2559ac9673b"
      },
      "execution_count": null,
      "outputs": [
        {
          "output_type": "execute_result",
          "data": {
            "text/plain": [
              "[897, 24, 64, 478, 50, 11799, 2661, 56, 35, 5413, 13, 8961, 4854]"
            ]
          },
          "metadata": {},
          "execution_count": 168
        }
      ]
    },
    {
      "cell_type": "code",
      "source": [
        "text2bow('이 영화는 신이 내린 감동의 영화입니다.')"
      ],
      "metadata": {
        "colab": {
          "base_uri": "https://localhost:8080/"
        },
        "id": "Y7We9aG7Tr-F",
        "outputId": "b9e5f50e-46de-417c-8d53-d531e93cdf04"
      },
      "execution_count": null,
      "outputs": [
        {
          "output_type": "execute_result",
          "data": {
            "text/plain": [
              "array([[   0,    0,    0,    0,    0,    0,    0,    0,    0,    0,    0,\n",
              "           0,    0,    0,    0,    0,    0,    0,    0,    0,    0,    0,\n",
              "           0,    0,    0,    0,    0,    0,    0,    0,    0,    0,    0,\n",
              "           0,    0,    0,    0,    0,    0,    0,    0,    0,    0,    0,\n",
              "           0,    0,    0,    0,    0,    0,    0,    0,    0,    0,    0,\n",
              "           0,    0,    0,    0,    0,    0,    0,    0,    0,    0,    0,\n",
              "           0,    0,    0,    0,    0,    0,    0,    0,    0,    0,    0,\n",
              "           0,    0,    0,    0,    0,    0,    0,    0,    0,    0,    0,\n",
              "           0,    0,    0,    0,    0,    0,    0,    0,    0,    0,    0,\n",
              "           0,    0,    0,    0,    0,    0,    0,    0,    0,    0,    0,\n",
              "           0,    0,    0,    0,    0,    0,    0,    0,    0,    0,    0,\n",
              "           0,    0,    0,    0,    0,    0,    0,    0,    0,    0,    0,\n",
              "           0,    0,    0,    0,    0,    0,    0,    0,    0,    0,   24,\n",
              "          75, 6932,   72,  441, 3647,  448,    3]], dtype=int32)"
            ]
          },
          "metadata": {},
          "execution_count": 169
        }
      ]
    },
    {
      "cell_type": "markdown",
      "metadata": {
        "id": "hDKbpAdVf_1-"
      },
      "source": [
        "### 문제 37. text2bow를 이용하여 model1을 통해 결과를 확인하세요."
      ]
    },
    {
      "cell_type": "code",
      "metadata": {
        "id": "S2i-RkhXf8va"
      },
      "source": [
        "# text2bow를 이용하여 model1을 통해 결과를 확인"
      ],
      "execution_count": null,
      "outputs": []
    },
    {
      "cell_type": "code",
      "source": [
        "test_cut_bow_text[0].shape"
      ],
      "metadata": {
        "colab": {
          "base_uri": "https://localhost:8080/"
        },
        "id": "kraaGjV5T_dq",
        "outputId": "ca0b661e-d02d-4542-85f2-0a46014a3731"
      },
      "execution_count": null,
      "outputs": [
        {
          "output_type": "execute_result",
          "data": {
            "text/plain": [
              "(106,)"
            ]
          },
          "metadata": {},
          "execution_count": 173
        }
      ]
    },
    {
      "cell_type": "code",
      "source": [
        "text2bow('이 영화는 신이 내린 감동의 영화입니다.')[...,-100:].shape"
      ],
      "metadata": {
        "colab": {
          "base_uri": "https://localhost:8080/"
        },
        "id": "A12lnjl8T98E",
        "outputId": "84506c9a-a962-4a53-d25c-86d84b3c26ec"
      },
      "execution_count": null,
      "outputs": [
        {
          "output_type": "execute_result",
          "data": {
            "text/plain": [
              "(1, 100)"
            ]
          },
          "metadata": {},
          "execution_count": 174
        }
      ]
    },
    {
      "cell_type": "code",
      "source": [
        "model.predict(text2bow('이 영화는 신이 내린 최고의 영화입니다.')[...,-100:]).argmax()"
      ],
      "metadata": {
        "colab": {
          "base_uri": "https://localhost:8080/"
        },
        "id": "kbhWGXYVtOCp",
        "outputId": "cfe5d11a-c2a3-4de4-9716-078105cd73b2"
      },
      "execution_count": null,
      "outputs": [
        {
          "output_type": "execute_result",
          "data": {
            "text/plain": [
              "1"
            ]
          },
          "metadata": {},
          "execution_count": 178
        }
      ]
    },
    {
      "cell_type": "code",
      "source": [
        "model.predict(text2bow('이 영화는 악마가 내린 최악의 영화입니다.')[...,-100:]).argmax()"
      ],
      "metadata": {
        "colab": {
          "base_uri": "https://localhost:8080/"
        },
        "id": "W6jd4wF6URC_",
        "outputId": "4035eb40-9ce2-44b7-cb9f-89ef7ee5ce1e"
      },
      "execution_count": null,
      "outputs": [
        {
          "output_type": "execute_result",
          "data": {
            "text/plain": [
              "0"
            ]
          },
          "metadata": {},
          "execution_count": 177
        }
      ]
    },
    {
      "cell_type": "code",
      "source": [
        "model.predict(text2bow('이 영화는 선배가 졸업하기 전에 대충 만든 수준의 영화입니다.')[...,-100:]).argmax()"
      ],
      "metadata": {
        "colab": {
          "base_uri": "https://localhost:8080/"
        },
        "id": "rhIOWtgJUTm1",
        "outputId": "61e1f8f4-b77b-43aa-ff9c-1c4d0a3f3435"
      },
      "execution_count": null,
      "outputs": [
        {
          "output_type": "execute_result",
          "data": {
            "text/plain": [
              "0"
            ]
          },
          "metadata": {},
          "execution_count": 179
        }
      ]
    },
    {
      "cell_type": "code",
      "source": [
        "model.predict(text2bow('클레멘타인이랑 비슷')[...,-100:]).argmax()"
      ],
      "metadata": {
        "colab": {
          "base_uri": "https://localhost:8080/"
        },
        "id": "x5W3j6m9UYO5",
        "outputId": "39b9cd07-508a-4dc0-f255-7f64fc2e2f34"
      },
      "execution_count": null,
      "outputs": [
        {
          "output_type": "execute_result",
          "data": {
            "text/plain": [
              "0"
            ]
          },
          "metadata": {},
          "execution_count": 182
        }
      ]
    },
    {
      "cell_type": "code",
      "source": [
        "res1 = model.predict(text2bow('이 영화 보다가 심장이 멈추는줄')[...,-100:])\n",
        "plt.bar([0,1], res1[0])\n",
        "plt.show()"
      ],
      "metadata": {
        "colab": {
          "base_uri": "https://localhost:8080/",
          "height": 265
        },
        "id": "M_CWwsGDUbEO",
        "outputId": "864d8ae7-02de-4cfd-977d-47e30dc2991e"
      },
      "execution_count": null,
      "outputs": [
        {
          "output_type": "display_data",
          "data": {
            "image/png": "[encoded data removed]",
            "text/plain": [
              "<Figure size 432x288 with 1 Axes>"
            ]
          },
          "metadata": {
            "needs_background": "light"
          }
        }
      ]
    },
    {
      "cell_type": "code",
      "source": [
        "res1 = model.predict(text2bow('한국')[...,-100:])\n",
        "plt.bar([0,1], res1[0])\n",
        "plt.show()"
      ],
      "metadata": {
        "colab": {
          "base_uri": "https://localhost:8080/",
          "height": 265
        },
        "id": "qSYR4FWrUjH0",
        "outputId": "35928679-e1ef-42d5-e3ec-7ec52523e669"
      },
      "execution_count": null,
      "outputs": [
        {
          "output_type": "display_data",
          "data": {
            "image/png": "[encoded data removed]",
            "text/plain": [
              "<Figure size 432x288 with 1 Axes>"
            ]
          },
          "metadata": {
            "needs_background": "light"
          }
        }
      ]
    },
    {
      "cell_type": "markdown",
      "metadata": {
        "id": "ZlWVzDUirkrQ"
      },
      "source": [
        "### 문제 38. cut_by_count를 이용하여 20회 이상 등장한 word만 사용하는 bow를 만들어보세요"
      ]
    },
    {
      "cell_type": "code",
      "metadata": {
        "id": "bGy2_g97rwhK"
      },
      "source": [
        "# cut_by_count를 이용하여 20회 이상 등장한 word만 사용하는 bow를 만들어보세요"
      ],
      "execution_count": null,
      "outputs": []
    },
    {
      "cell_type": "code",
      "source": [
        "bow1_cut = tf.keras.preprocessing.sequence.pad_sequences(cut_by_count(text2bow('이 영화 보다가 심장이 멈추는줄'), 20), maxlen=100)\n",
        "bow1_cut"
      ],
      "metadata": {
        "colab": {
          "base_uri": "https://localhost:8080/"
        },
        "id": "JCjCwc4otONx",
        "outputId": "2304710a-0af1-47dc-8a17-216bc1802ae7"
      },
      "execution_count": null,
      "outputs": [
        {
          "output_type": "execute_result",
          "data": {
            "text/plain": [
              "array([[    0,     0,     0,     0,     0,     0,     0,     0,     0,\n",
              "            0,     0,     0,     0,     0,     0,     0,     0,     0,\n",
              "            0,     0,     0,     0,     0,     0,     0,     0,     0,\n",
              "            0,     0,     0,     0,     0,     0,     0,     0,     0,\n",
              "            0,     0,     0,     0,     0,     0,     0,     0,     0,\n",
              "            0,     0,     0,     0,     0,     0,     0,     0,     0,\n",
              "            0,     0,     0,     0,     0,     0,     0,     0,     0,\n",
              "            0,     0,     0,     0,     0,     0,     0,     0,     0,\n",
              "            0,     0,     0,     0,     0,     0,     0,     0,     0,\n",
              "            0,     0,     0,     0,     0,     0,     0,     0,     0,\n",
              "            0,     0,     0,     0,    24,     7,   371,  7120, 10045,\n",
              "         6872]], dtype=int32)"
            ]
          },
          "metadata": {},
          "execution_count": 188
        }
      ]
    },
    {
      "cell_type": "code",
      "source": [
        "sp.decode_ids([24, 7, 371, 7120, 10045, 6872])"
      ],
      "metadata": {
        "colab": {
          "base_uri": "https://localhost:8080/",
          "height": 36
        },
        "id": "ciwuqeMkVF0F",
        "outputId": "99ee5b64-7aed-43da-e65b-978c8f33bb08"
      },
      "execution_count": null,
      "outputs": [
        {
          "output_type": "execute_result",
          "data": {
            "application/vnd.google.colaboratory.intrinsic+json": {
              "type": "string"
            },
            "text/plain": [
              "'이 영화 보다가 심장이 멈추는줄'"
            ]
          },
          "metadata": {},
          "execution_count": 189
        }
      ]
    },
    {
      "cell_type": "code",
      "source": [
        "res1 = model.predict(bow1_cut)\n",
        "plt.bar([0,1], res1[0])\n",
        "plt.show()"
      ],
      "metadata": {
        "colab": {
          "base_uri": "https://localhost:8080/",
          "height": 265
        },
        "id": "Si_z2goFVUqv",
        "outputId": "d0bcfd5e-fa01-4bcc-a175-dafce17bae06"
      },
      "execution_count": null,
      "outputs": [
        {
          "output_type": "display_data",
          "data": {
            "image/png": "[encoded data removed]",
            "text/plain": [
              "<Figure size 432x288 with 1 Axes>"
            ]
          },
          "metadata": {
            "needs_background": "light"
          }
        }
      ]
    },
    {
      "cell_type": "markdown",
      "metadata": {
        "id": "9iIJK2qsfevX"
      },
      "source": [
        "### 문제 39. text2bow를 이용하여 model2을 통해 결과를 확인하세요.\n"
      ]
    },
    {
      "cell_type": "code",
      "metadata": {
        "id": "SV2A6JZBf7Ku"
      },
      "source": [
        "# text2bow를 이용하여 model2을 통해 결과를 확인"
      ],
      "execution_count": null,
      "outputs": []
    },
    {
      "cell_type": "code",
      "source": [
        "model2.predict(text2bow('이 영화는 신이 내린 감동의 영화입니다.')[...,-100:])"
      ],
      "metadata": {
        "colab": {
          "base_uri": "https://localhost:8080/"
        },
        "id": "_rUpgF2jtOn4",
        "outputId": "d77d4019-bdf2-475b-fdb5-0eaa3af20691"
      },
      "execution_count": null,
      "outputs": [
        {
          "output_type": "execute_result",
          "data": {
            "text/plain": [
              "array([[0.1498035, 0.8501965]], dtype=float32)"
            ]
          },
          "metadata": {},
          "execution_count": 191
        }
      ]
    },
    {
      "cell_type": "markdown",
      "metadata": {
        "id": "G70ccEAt6XL9"
      },
      "source": [
        "### 문제 40. confusion 매트릭스 생성"
      ]
    },
    {
      "cell_type": "code",
      "metadata": {
        "id": "TNimTOWX6iEe"
      },
      "source": [
        "# confusion 메트릭스 출력"
      ],
      "execution_count": null,
      "outputs": []
    },
    {
      "cell_type": "code",
      "source": [
        "from sklearn.metrics import confusion_matrix\n",
        "\n",
        "conf_mat1 = confusion_matrix(test_onehot_sentiment.argmax(axis=1), model.predict(test_cut_bow_text2).argmax(axis=1))\n",
        "print(conf_mat1)"
      ],
      "metadata": {
        "colab": {
          "base_uri": "https://localhost:8080/"
        },
        "id": "jDCz6-nytOzS",
        "outputId": "23b0f6fc-4d31-480e-a97a-7b01be59f2b0"
      },
      "execution_count": null,
      "outputs": [
        {
          "output_type": "stream",
          "name": "stdout",
          "text": [
            "[[21926  2901]\n",
            " [ 3840 21333]]\n"
          ]
        }
      ]
    },
    {
      "cell_type": "code",
      "source": [
        "conf_mat2 = confusion_matrix(test_onehot_sentiment.argmax(axis=1), model2.predict(test_cut_bow_text[...,-100:]).argmax(axis=1))\n",
        "print(conf_mat2)"
      ],
      "metadata": {
        "colab": {
          "base_uri": "https://localhost:8080/"
        },
        "id": "LnG0hcwHWEhs",
        "outputId": "2fcd46ee-6d68-4a3b-9409-d60c11267e39"
      },
      "execution_count": null,
      "outputs": [
        {
          "output_type": "stream",
          "name": "stdout",
          "text": [
            "[[22122  2705]\n",
            " [ 4160 21013]]\n"
          ]
        }
      ]
    },
    {
      "cell_type": "markdown",
      "metadata": {
        "id": "QMvWeqMUKK8b"
      },
      "source": [
        "### 문제 41. confusion 매트릭스 시각화"
      ]
    },
    {
      "cell_type": "code",
      "metadata": {
        "id": "DDcNSMOmLcgF"
      },
      "source": [
        "# confusion 매트릭스 시각화"
      ],
      "execution_count": null,
      "outputs": []
    },
    {
      "cell_type": "code",
      "source": [
        "sns.heatmap(conf_mat1/conf_mat1.max(axis=1))\n",
        "plt.show()"
      ],
      "metadata": {
        "colab": {
          "base_uri": "https://localhost:8080/",
          "height": 269
        },
        "id": "qoOoL_n-tPI0",
        "outputId": "e425ef7c-a5b1-44d1-f5ca-3b49cdbc8904"
      },
      "execution_count": null,
      "outputs": [
        {
          "output_type": "display_data",
          "data": {
            "image/png": "[encoded data removed]",
            "text/plain": [
              "<Figure size 432x288 with 2 Axes>"
            ]
          },
          "metadata": {
            "needs_background": "light"
          }
        }
      ]
    },
    {
      "cell_type": "code",
      "source": [
        "sns.heatmap(conf_mat2/conf_mat2.max(axis=1))\n",
        "plt.show()"
      ],
      "metadata": {
        "colab": {
          "base_uri": "https://localhost:8080/",
          "height": 269
        },
        "id": "i_8xdLIhWUY2",
        "outputId": "455f4125-2af1-4628-b5f8-7cee2c5c538f"
      },
      "execution_count": null,
      "outputs": [
        {
          "output_type": "display_data",
          "data": {
            "image/png": "[encoded data removed]",
            "text/plain": [
              "<Figure size 432x288 with 2 Axes>"
            ]
          },
          "metadata": {
            "needs_background": "light"
          }
        }
      ]
    },
    {
      "cell_type": "markdown",
      "metadata": {
        "id": "H--fnIJeJs_M"
      },
      "source": [
        "### 문제 42. classification 결과 리포팅"
      ]
    },
    {
      "cell_type": "code",
      "metadata": {
        "id": "8m2wG4CkIMtU"
      },
      "source": [
        "# classification 결과 리포팅"
      ],
      "execution_count": null,
      "outputs": []
    },
    {
      "cell_type": "code",
      "source": [
        "from sklearn.metrics import classification_report\n",
        "\n",
        "print(classification_report(test_onehot_sentiment.argmax(axis=1), model.predict(test_cut_bow_text2).argmax(axis=1)))"
      ],
      "metadata": {
        "colab": {
          "base_uri": "https://localhost:8080/"
        },
        "id": "2MlRBtXNtPek",
        "outputId": "a17daede-defe-4bcd-8403-22b827982e8c"
      },
      "execution_count": null,
      "outputs": [
        {
          "output_type": "stream",
          "name": "stdout",
          "text": [
            "              precision    recall  f1-score   support\n",
            "\n",
            "           0       0.85      0.88      0.87     24827\n",
            "           1       0.88      0.85      0.86     25173\n",
            "\n",
            "    accuracy                           0.87     50000\n",
            "   macro avg       0.87      0.87      0.87     50000\n",
            "weighted avg       0.87      0.87      0.87     50000\n",
            "\n"
          ]
        }
      ]
    },
    {
      "cell_type": "code",
      "source": [
        "print(classification_report(test_onehot_sentiment.argmax(axis=1), model2.predict(test_cut_bow_text[...,-100:]).argmax(axis=1)))"
      ],
      "metadata": {
        "colab": {
          "base_uri": "https://localhost:8080/"
        },
        "id": "8C2At-JcWdxv",
        "outputId": "c1dbed23-136f-40d7-80f4-6b1f5126b0e0"
      },
      "execution_count": null,
      "outputs": [
        {
          "output_type": "stream",
          "name": "stdout",
          "text": [
            "              precision    recall  f1-score   support\n",
            "\n",
            "           0       0.84      0.89      0.87     24827\n",
            "           1       0.89      0.83      0.86     25173\n",
            "\n",
            "    accuracy                           0.86     50000\n",
            "   macro avg       0.86      0.86      0.86     50000\n",
            "weighted avg       0.86      0.86      0.86     50000\n",
            "\n"
          ]
        }
      ]
    },
    {
      "cell_type": "markdown",
      "metadata": {
        "id": "7FQT89oqrdkA"
      },
      "source": [
        "## Step 6. 모델 저장 및 로드, 다운"
      ]
    },
    {
      "cell_type": "markdown",
      "metadata": {
        "id": "c2GZFvCAzFNl"
      },
      "source": [
        "### 문제 43. 모델을 저장하세요."
      ]
    },
    {
      "cell_type": "code",
      "metadata": {
        "id": "YjuCVTNbriVJ"
      },
      "source": [
        "# 모델을 저장하는 코드를 작성하세요. "
      ],
      "execution_count": null,
      "outputs": []
    },
    {
      "cell_type": "code",
      "source": [
        "model.save('./model.h5')"
      ],
      "metadata": {
        "id": "RABRPsyltPqm"
      },
      "execution_count": null,
      "outputs": []
    },
    {
      "cell_type": "markdown",
      "metadata": {
        "id": "Bj4P3DdzzhyC"
      },
      "source": [
        "### 문제 44. 모델 파일을 새로운 모델에 로드하세요."
      ]
    },
    {
      "cell_type": "code",
      "metadata": {
        "id": "xuRAnBR8zY-X"
      },
      "source": [
        "# 모델을 로드하는 코드를 작성하세요."
      ],
      "execution_count": null,
      "outputs": []
    },
    {
      "cell_type": "code",
      "source": [
        "new_model = tf.keras.models.load_model('./model.h5')\n",
        "new_model.summary()"
      ],
      "metadata": {
        "colab": {
          "base_uri": "https://localhost:8080/"
        },
        "id": "SExNk3Y1tQB_",
        "outputId": "45014bc1-e4dd-453d-f006-e92f6e9f4fff"
      },
      "execution_count": null,
      "outputs": [
        {
          "output_type": "stream",
          "name": "stdout",
          "text": [
            "Model: \"model\"\n",
            "_________________________________________________________________\n",
            " Layer (type)                Output Shape              Param #   \n",
            "=================================================================\n",
            " input_1 (InputLayer)        [(None, 100)]             0         \n",
            "                                                                 \n",
            " embedding (Embedding)       (None, 100, 120)          2400000   \n",
            "                                                                 \n",
            " gru (GRU)                   (None, 64)                35712     \n",
            "                                                                 \n",
            " dense (Dense)               (None, 2)                 130       \n",
            "                                                                 \n",
            "=================================================================\n",
            "Total params: 2,435,842\n",
            "Trainable params: 2,435,842\n",
            "Non-trainable params: 0\n",
            "_________________________________________________________________\n"
          ]
        }
      ]
    },
    {
      "cell_type": "markdown",
      "metadata": {
        "id": "ta1I5ZEY1FBR"
      },
      "source": [
        "### 문제 45. 로드한 모델을 test 데이터로 평가해보세요.\n"
      ]
    },
    {
      "cell_type": "code",
      "metadata": {
        "id": "ALrVf_lm0_Bc"
      },
      "source": [
        "# 로드한 모델을 test 데이터로 평가해보세요."
      ],
      "execution_count": null,
      "outputs": []
    },
    {
      "cell_type": "code",
      "source": [
        "acc, loss = new_model.evaluate(test_cut_bow_text2, test_onehot_sentiment)\n",
        "print(acc, loss)"
      ],
      "metadata": {
        "colab": {
          "base_uri": "https://localhost:8080/"
        },
        "id": "ouiZ5wRRtQVI",
        "outputId": "6e958840-c271-44e1-c139-091a8e062a9b"
      },
      "execution_count": null,
      "outputs": [
        {
          "output_type": "stream",
          "name": "stdout",
          "text": [
            "1563/1563 [==============================] - 20s 12ms/step - loss: 0.3225 - accuracy: 0.8652\n",
            "0.3224583566188812 0.8651800155639648\n"
          ]
        }
      ]
    },
    {
      "cell_type": "code",
      "source": [
        "acc, loss = model.evaluate(test_cut_bow_text2, test_onehot_sentiment)\n",
        "print(acc, loss)"
      ],
      "metadata": {
        "colab": {
          "base_uri": "https://localhost:8080/"
        },
        "id": "g_vIbz25XBTJ",
        "outputId": "ab19c10f-aa9a-4235-f5ce-4759d1f5d26f"
      },
      "execution_count": null,
      "outputs": [
        {
          "output_type": "stream",
          "name": "stdout",
          "text": [
            "1563/1563 [==============================] - 17s 11ms/step - loss: 0.3225 - accuracy: 0.8652\n",
            "0.3224583566188812 0.8651800155639648\n"
          ]
        }
      ]
    },
    {
      "cell_type": "markdown",
      "metadata": {
        "id": "gfEgY1Vr1T1v"
      },
      "source": [
        "### 문제 46. 모델을 내 컴퓨터에 저장해보세요"
      ]
    },
    {
      "cell_type": "code",
      "metadata": {
        "id": "ASkJv_Ui1RGv"
      },
      "source": [
        "# 모델을 내 컴퓨터에 저장해보세요."
      ],
      "execution_count": null,
      "outputs": []
    },
    {
      "cell_type": "code",
      "metadata": {
        "id": "PxBwkf2pYWNA",
        "colab": {
          "base_uri": "https://localhost:8080/",
          "height": 17
        },
        "outputId": "99758a1b-2e67-4084-8b4b-23c1e5301a5f"
      },
      "source": [
        "from google.colab import files\n",
        "\n",
        "files.download('./model.h5')"
      ],
      "execution_count": null,
      "outputs": [
        {
          "output_type": "display_data",
          "data": {
            "application/javascript": [
              "\n",
              "    async function download(id, filename, size) {\n",
              "      if (!google.colab.kernel.accessAllowed) {\n",
              "        return;\n",
              "      }\n",
              "      const div = document.createElement('div');\n",
              "      const label = document.createElement('label');\n",
              "      label.textContent = `Downloading \"${filename}\": `;\n",
              "      div.appendChild(label);\n",
              "      const progress = document.createElement('progress');\n",
              "      progress.max = size;\n",
              "      div.appendChild(progress);\n",
              "      document.body.appendChild(div);\n",
              "\n",
              "      const buffers = [];\n",
              "      let downloaded = 0;\n",
              "\n",
              "      const channel = await google.colab.kernel.comms.open(id);\n",
              "      // Send a message to notify the kernel that we're ready.\n",
              "      channel.send({})\n",
              "\n",
              "      for await (const message of channel.messages) {\n",
              "        // Send a message to notify the kernel that we're ready.\n",
              "        channel.send({})\n",
              "        if (message.buffers) {\n",
              "          for (const buffer of message.buffers) {\n",
              "            buffers.push(buffer);\n",
              "            downloaded += buffer.byteLength;\n",
              "            progress.value = downloaded;\n",
              "          }\n",
              "        }\n",
              "      }\n",
              "      const blob = new Blob(buffers, {type: 'application/binary'});\n",
              "      const a = document.createElement('a');\n",
              "      a.href = window.URL.createObjectURL(blob);\n",
              "      a.download = filename;\n",
              "      div.appendChild(a);\n",
              "      a.click();\n",
              "      div.remove();\n",
              "    }\n",
              "  "
            ],
            "text/plain": [
              "<IPython.core.display.Javascript object>"
            ]
          },
          "metadata": {}
        },
        {
          "output_type": "display_data",
          "data": {
            "application/javascript": [
              "download(\"download_0a5c7a54-2342-47ad-9c85-81a79305df06\", \"model.h5\", 29266592)"
            ],
            "text/plain": [
              "<IPython.core.display.Javascript object>"
            ]
          },
          "metadata": {}
        }
      ]
    }
  ]
}