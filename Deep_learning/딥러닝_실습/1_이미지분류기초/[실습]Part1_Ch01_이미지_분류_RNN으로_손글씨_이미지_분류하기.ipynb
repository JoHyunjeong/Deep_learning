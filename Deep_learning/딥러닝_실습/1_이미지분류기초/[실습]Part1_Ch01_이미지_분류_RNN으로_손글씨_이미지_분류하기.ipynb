{
  "nbformat": 4,
  "nbformat_minor": 0,
  "metadata": {
    "colab": {
      "name": "[실습]Part1_Ch01_이미지 분류 - RNN으로 손글씨 이미지 분류하기.ipynb",
      "provenance": [],
      "collapsed_sections": [],
      "include_colab_link": true
    },
    "kernelspec": {
      "name": "python3",
      "display_name": "Python 3"
    }
  },
  "cells": [
    {
      "cell_type": "markdown",
      "metadata": {
        "id": "view-in-github",
        "colab_type": "text"
      },
      "source": [
        "<a href=\"https://colab.research.google.com/github/JoHyunjeong/Deep_learning/blob/main/Deep_learning/%EB%94%A5%EB%9F%AC%EB%8B%9D_%EC%8B%A4%EC%8A%B5/1_%EC%9D%B4%EB%AF%B8%EC%A7%80%EB%B6%84%EB%A5%98%EA%B8%B0%EC%B4%88/%5B%EC%8B%A4%EC%8A%B5%5DPart1_Ch01_%E1%84%8B%E1%85%B5%E1%84%86%E1%85%B5%E1%84%8C%E1%85%B5_%E1%84%87%E1%85%AE%E1%86%AB%E1%84%85%E1%85%B2_RNN%E1%84%8B%E1%85%B3%E1%84%85%E1%85%A9_%E1%84%89%E1%85%A9%E1%86%AB%E1%84%80%E1%85%B3%E1%86%AF%E1%84%8A%E1%85%B5_%E1%84%8B%E1%85%B5%E1%84%86%E1%85%B5%E1%84%8C%E1%85%B5_%E1%84%87%E1%85%AE%E1%86%AB%E1%84%85%E1%85%B2%E1%84%92%E1%85%A1%E1%84%80%E1%85%B5.ipynb\" target=\"_parent\"><img src=\"https://colab.research.google.com/assets/colab-badge.svg\" alt=\"Open In Colab\"/></a>"
      ]
    },
    {
      "cell_type": "markdown",
      "metadata": {
        "id": "oR0VJlz7mi5A"
      },
      "source": [
        "# 주제 : 이미지 분류 - RNN으로 손글씨 이미지 분류하기\n",
        "--------------\n",
        "## 실습 가이드\n",
        "    1. 데이터를 다운로드하여 Colab에 불러옵니다.\n",
        "    2. 필요한 라이브러리는 모두 코드로 작성되어 있습니다.\n",
        "    3. 코드는 위에서부터 아래로 순서대로 실행합니다.\n",
        "    4. 전체 문제 구성은 좌측 첫 번째 아이콘을 통해 확인할 수 있습니다.\n",
        "\n",
        "## 데이터 소개  \n",
        "    - 이번 주제의 데이터는 너무나 유명한 MNIST 데이터를 사용합니다.\n",
        "  ![mnist 이미지](https://www.mdpi.com/applsci/applsci-09-03169/article_deploy/html/images/applsci-09-03169-g001.png)\n",
        "\n",
        "      위의 이미지는 다음과 같은 것을 보여줍니다.  \n",
        "      (a) 28x28의 배열에서 3이 어떻게 모사되는지   \n",
        "      (b) 각 0-9까지의 다양한 그림의 모습들\n",
        "\n",
        "\n",
        "- 데이터 출처: [MNIST](http://yann.lecun.com/exdb/mnist/)\n",
        "\n",
        "\n",
        "## 최종 목표\n",
        "\n",
        "    - 이전에 배웠던 MNIST fully-conntect network과 CNN classificaion외 RNN식 접근을 배워본다.  \n",
        "    - 또한, data augmentation 기법의 기초가 될 수 있는 이미지에 noisy와 같은 변형을 줄 수 있는 방법을 알아본다.\n",
        "    - 이미지에 대한 RNN 접근 방법을 배울 수 있습니다.\n",
        "\n",
        "- 출제자 : 손근영 강사\n",
        "---\n"
      ]
    },
    {
      "cell_type": "code",
      "metadata": {
        "id": "e7kl3hgkikbo"
      },
      "source": [
        "import tensorflow as tf\n",
        "from tensorflow import keras\n",
        "from keras.layers import Dense\n",
        "from keras.models import Sequential\n",
        "\n",
        "import pandas as pd\n",
        "import numpy as np\n",
        "import matplotlib.pyplot as plt\n",
        "import seaborn as sns\n",
        "import warnings \n",
        "from IPython.display import Image\n",
        "\n",
        "warnings.filterwarnings('ignore')\n",
        "%matplotlib inline\n",
        "\n",
        "SEED = 34"
      ],
      "execution_count": null,
      "outputs": []
    },
    {
      "cell_type": "markdown",
      "metadata": {
        "id": "c5uDUVunS1Yk"
      },
      "source": [
        "## Step 1. 도입전 기본 처리"
      ]
    },
    {
      "cell_type": "markdown",
      "metadata": {
        "id": "2Bgf6uZtoBob"
      },
      "source": [
        "### 문제 1. mnist 데이터 살펴보기"
      ]
    },
    {
      "cell_type": "code",
      "metadata": {
        "id": "l2NW5G5nTgsb"
      },
      "source": [
        "# 데이터를 불러오는 코드를 작성해주세요."
      ],
      "execution_count": null,
      "outputs": []
    },
    {
      "cell_type": "code",
      "source": [
        "mnist = keras.datasets.mnist\n",
        "((train_images, train_labels), (test_images, test_labels)) = mnist.load_data()"
      ],
      "metadata": {
        "id": "lCvVRMLoHJOn"
      },
      "execution_count": null,
      "outputs": []
    },
    {
      "cell_type": "markdown",
      "metadata": {
        "id": "ko4D-BpJTq2r"
      },
      "source": [
        "### 문제 2. 데이터의 shape을 출력해보세요."
      ]
    },
    {
      "cell_type": "code",
      "metadata": {
        "id": "waksbx9aT5tK"
      },
      "source": [
        "# 데이터의 크기를 shape 함수를 통해 출력해주세요."
      ],
      "execution_count": null,
      "outputs": []
    },
    {
      "cell_type": "code",
      "source": [
        "print(f'train_images: {train_images.shape}') # (BHW) - 데이터 size, 이미지 height, width\n",
        "print(f'train_labels: {train_labels.shape}')\n",
        "\n",
        "print(f'test_images: {test_images.shape}')\n",
        "print(f'test_labels: {test_labels.shape}')"
      ],
      "metadata": {
        "colab": {
          "base_uri": "https://localhost:8080/"
        },
        "id": "HYePiqgfINU7",
        "outputId": "790f6899-4a0d-4685-e2ad-0844a9563d72"
      },
      "execution_count": null,
      "outputs": [
        {
          "output_type": "stream",
          "name": "stdout",
          "text": [
            "train_images: (60000, 28, 28)\n",
            "train_labels: (60000,)\n",
            "test_images: (10000, 28, 28)\n",
            "test_labels: (10000,)\n"
          ]
        }
      ]
    },
    {
      "cell_type": "markdown",
      "metadata": {
        "id": "hrmQ7HzEUKrz"
      },
      "source": [
        "### 문제 3. (28, 28) 형태의 이미지를 plt을 이용하여 출력해보세요."
      ]
    },
    {
      "cell_type": "code",
      "metadata": {
        "id": "fVzGHMSYUUKk"
      },
      "source": [
        "# 28x28의 흑백 이미지를 plt를 이용하여 출력하는 코드를 작성해보세요."
      ],
      "execution_count": null,
      "outputs": []
    },
    {
      "cell_type": "code",
      "source": [
        "import matplotlib.pyplot as plt\n",
        "\n",
        "plt.figure()\n",
        "plt.imshow(train_images[1]) # image show\n",
        "plt.colorbar() # 컬러바\n",
        "plt.grid(True) # 격자\n",
        "plt.show()\n",
        "print(train_labels[1])"
      ],
      "metadata": {
        "colab": {
          "base_uri": "https://localhost:8080/",
          "height": 282
        },
        "id": "aimr6RW5JSsu",
        "outputId": "c0a44e21-b180-4746-de6b-cef57d086e52"
      },
      "execution_count": null,
      "outputs": [
        {
          "output_type": "display_data",
          "data": {
            "image/png": "[encoded data removed]",
            "text/plain": [
              "<Figure size 432x288 with 2 Axes>"
            ]
          },
          "metadata": {
            "needs_background": "light"
          }
        },
        {
          "output_type": "stream",
          "name": "stdout",
          "text": [
            "0\n"
          ]
        }
      ]
    },
    {
      "cell_type": "markdown",
      "metadata": {
        "id": "vDLHexaGUs17"
      },
      "source": [
        "### 문제 4. train_images에서 0이 아닌 값들을 출력해보세요."
      ]
    },
    {
      "cell_type": "code",
      "metadata": {
        "id": "1NYdCv1yUsKG"
      },
      "source": [
        "# 하나의 이미지에 대한 모든 0이 아닌 값을 출력하는 코드를 작성하세요."
      ],
      "execution_count": null,
      "outputs": []
    },
    {
      "cell_type": "code",
      "source": [
        "sorted(list( filter(lambda x: x != 0, train_images[0].reshape(-1))))[:10] # 1차원으로 변경, 10개만 출력"
      ],
      "metadata": {
        "colab": {
          "base_uri": "https://localhost:8080/"
        },
        "id": "Uyaltl4-J0co",
        "outputId": "24c60adb-2dcc-4359-a0b3-aa1c231dea3f"
      },
      "execution_count": null,
      "outputs": [
        {
          "output_type": "execute_result",
          "data": {
            "text/plain": [
              "[1, 1, 2, 2, 2, 3, 9, 11, 11, 11]"
            ]
          },
          "metadata": {},
          "execution_count": 9
        }
      ]
    },
    {
      "cell_type": "markdown",
      "metadata": {
        "id": "CZOhbFOFU_jr"
      },
      "source": [
        "### 문제 5. train_images의 dtype을 출력해보세요."
      ]
    },
    {
      "cell_type": "code",
      "metadata": {
        "id": "nVc4kjgAVNl7"
      },
      "source": [
        "# dtype을 이용하여 이미지의 np array type을 확인해보세요."
      ],
      "execution_count": null,
      "outputs": []
    },
    {
      "cell_type": "code",
      "source": [
        "print(train_images.dtype)\n",
        "print(train_labels.dtype)\n",
        "print(test_images.dtype)\n",
        "print(test_labels.dtype)\n",
        "\n",
        "# uint8의 u는 unsigned, 음수가 없음/ 8은 8비트를 의미 "
      ],
      "metadata": {
        "colab": {
          "base_uri": "https://localhost:8080/"
        },
        "id": "muilDhjbJ1Ae",
        "outputId": "6ac9ebbb-156b-4378-a335-f36a6edc9aaf"
      },
      "execution_count": null,
      "outputs": [
        {
          "output_type": "stream",
          "name": "stdout",
          "text": [
            "uint8\n",
            "uint8\n",
            "uint8\n",
            "uint8\n"
          ]
        }
      ]
    },
    {
      "cell_type": "markdown",
      "metadata": {
        "id": "eKv9UoZAxTr6"
      },
      "source": [
        "## Step 2. 전처리"
      ]
    },
    {
      "cell_type": "markdown",
      "metadata": {
        "id": "UTXpP1Imyaad"
      },
      "source": [
        "### 문제 6. train/test 이미지 데이터의 범위 확인"
      ]
    },
    {
      "cell_type": "code",
      "metadata": {
        "id": "Ji6XLxvRy5eJ"
      },
      "source": [
        "# test_images의 shape과 dtype, 0이 아닌 숫자를 출력하는 코드를 작성하세요."
      ],
      "execution_count": null,
      "outputs": []
    },
    {
      "cell_type": "code",
      "source": [
        "print(test_images.shape)\n",
        "print(test_images.dtype)\n",
        "list(filter(lambda x: x!=0, test_images[0].reshape(-1)))[:10]"
      ],
      "metadata": {
        "colab": {
          "base_uri": "https://localhost:8080/"
        },
        "id": "l-ykGYS8J2g5",
        "outputId": "33e56ed7-a55a-44a5-8f2e-6398396d906a"
      },
      "execution_count": null,
      "outputs": [
        {
          "output_type": "stream",
          "name": "stdout",
          "text": [
            "(10000, 28, 28)\n",
            "uint8\n"
          ]
        },
        {
          "output_type": "execute_result",
          "data": {
            "text/plain": [
              "[84, 185, 159, 151, 60, 36, 222, 254, 254, 254]"
            ]
          },
          "metadata": {},
          "execution_count": 13
        }
      ]
    },
    {
      "cell_type": "markdown",
      "metadata": {
        "id": "7OpFGbD6V8Zl"
      },
      "source": [
        "### 문제 7. train/test 이미지 데이터의 최소/최대값을 출력"
      ]
    },
    {
      "cell_type": "code",
      "metadata": {
        "id": "sFOJNRTvYo7d"
      },
      "source": [
        "# train/test 전체 데이터에서 각 images, labels의 min, max를 출력하는 코드를 작성하세요."
      ],
      "execution_count": null,
      "outputs": []
    },
    {
      "cell_type": "code",
      "source": [
        "train_images.shape # (60000,28,28)\n",
        "train_images.reshape((60000, 28*28)).shape # (60000, 784)\n",
        "train_images.reshape(-1).shape # (4704000,)\n",
        "\n",
        "# 데이터 범위 확인하기\n",
        "print(min(train_images.reshape(-1)), max(train_images.reshape(-1)))\n",
        "print(min(test_images.reshape(-1)), max(test_images.reshape(-1)))"
      ],
      "metadata": {
        "colab": {
          "base_uri": "https://localhost:8080/"
        },
        "id": "JtXXmRUDWUk9",
        "outputId": "9f6637c7-0a93-4a0f-8fb7-b41c7f5762d7"
      },
      "execution_count": null,
      "outputs": [
        {
          "output_type": "stream",
          "name": "stdout",
          "text": [
            "0 255\n",
            "0 255\n"
          ]
        }
      ]
    },
    {
      "cell_type": "code",
      "source": [
        "print(train_images.min(), train_images.max())\n",
        "print(test_images.min(), test_images.max())"
      ],
      "metadata": {
        "colab": {
          "base_uri": "https://localhost:8080/"
        },
        "id": "JJScFh2IJ3Q1",
        "outputId": "2ce60f44-4853-4a27-d854-01187975915c"
      },
      "execution_count": null,
      "outputs": [
        {
          "output_type": "stream",
          "name": "stdout",
          "text": [
            "0 255\n",
            "0 255\n"
          ]
        }
      ]
    },
    {
      "cell_type": "markdown",
      "metadata": {
        "id": "W_xsByHegZhh"
      },
      "source": [
        "### 문제 8. 정수형을 실수형으로 변경 후 dtype으로 비교"
      ]
    },
    {
      "cell_type": "code",
      "metadata": {
        "id": "Y88qmAVChg_Z"
      },
      "source": [
        "# train/test 데이터의 타입을 dtype으로 확인해보고 실수형으로 전환하는 코드를 작성하세요."
      ],
      "execution_count": null,
      "outputs": []
    },
    {
      "cell_type": "code",
      "source": [
        "print(train_images.dtype, test_images.dtype)\n",
        "\n",
        "# 실수로 변경\n",
        "train_images = train_images.astype(np.float64) \n",
        "test_images = test_images.astype(np.float64)\n",
        "print(train_images.dtype, test_images.dtype)"
      ],
      "metadata": {
        "colab": {
          "base_uri": "https://localhost:8080/"
        },
        "id": "V8DRqjrDJ4aJ",
        "outputId": "8ac408aa-6d19-43a4-cb09-1cf6b81d077e"
      },
      "execution_count": null,
      "outputs": [
        {
          "output_type": "stream",
          "name": "stdout",
          "text": [
            "uint8 uint8\n",
            "float64 float64\n"
          ]
        }
      ]
    },
    {
      "cell_type": "markdown",
      "metadata": {
        "id": "9iIJK2qsfevX"
      },
      "source": [
        "### 문제 9. 데이터 0-1 노말라이즈 수행\n"
      ]
    },
    {
      "cell_type": "markdown",
      "metadata": {
        "id": "L0f__zuBfotM"
      },
      "source": [
        "#### 힌트\n",
        "\n",
        "일반적으로 0-1사의의 값을 가지게 하기 위해서는 다음 수식을 사용합니다.\n",
        "\n",
        "$$normalize(x) = \\frac{x - 최소값}{최대값 - 최소값}$$\n",
        "\n",
        "이 경우 최소값이 0이기 떄문에 다음과 같이 간편하게 구할 수 있습니다.\n",
        "\n",
        "$$normalize(x) = \\frac{x}{최대값}$$"
      ]
    },
    {
      "cell_type": "code",
      "metadata": {
        "id": "SV2A6JZBf7Ku"
      },
      "source": [
        "# images의 값이 0-1사이의 값을 같도록 코드를 작성해보세요."
      ],
      "execution_count": null,
      "outputs": []
    },
    {
      "cell_type": "code",
      "source": [
        "min((train_images / 255).reshape(-1)), max((train_images / 255).reshape(-1))\n",
        "\n",
        "train_images = train_images / 255\n",
        "test_images = test_images / 255"
      ],
      "metadata": {
        "id": "PbZO4cigJ8hL"
      },
      "execution_count": null,
      "outputs": []
    },
    {
      "cell_type": "markdown",
      "metadata": {
        "id": "8QqqdPzDiC3F"
      },
      "source": [
        "### 문제 10. 0-1 노말라이즈 후 데이터의 값이 변경되었는지 문제 6, 7의 방법을 이용하여 확인하세요."
      ]
    },
    {
      "cell_type": "markdown",
      "metadata": {
        "id": "C_04Z-Kj2uyh"
      },
      "source": [
        "노말라이즈가 제대로 됐는지 확안해 보겠습니다."
      ]
    },
    {
      "cell_type": "code",
      "metadata": {
        "id": "t-ZKXRKO2rBE"
      },
      "source": [
        "# 노말라이즈 후 min/max, shape, 0이 아닌 값, dtype 등을 확인하는 코드를 작성해보세요. "
      ],
      "execution_count": null,
      "outputs": []
    },
    {
      "cell_type": "code",
      "source": [
        "print(list(filter(lambda x: x != 0, train_images[0].reshape(-1)))[:10])\n",
        "print(list(filter(lambda x: x != 0, test_images[0].reshape(-1)))[:10])\n",
        "print()\n",
        "print(min((train_images).reshape(-1)), max((train_images).reshape(-1)), train_images.shape, train_images.dtype)\n",
        "print(min((test_images).reshape(-1)), max((test_images).reshape(-1)), test_images.shape, test_images.dtype)"
      ],
      "metadata": {
        "colab": {
          "base_uri": "https://localhost:8080/"
        },
        "id": "o5V1GhqSJ9al",
        "outputId": "3638ae54-9c6e-40bf-9af3-342d468959fd"
      },
      "execution_count": null,
      "outputs": [
        {
          "output_type": "stream",
          "name": "stdout",
          "text": [
            "[0.011764705882352941, 0.07058823529411765, 0.07058823529411765, 0.07058823529411765, 0.49411764705882355, 0.5333333333333333, 0.6862745098039216, 0.10196078431372549, 0.6509803921568628, 1.0]\n",
            "[0.32941176470588235, 0.7254901960784313, 0.6235294117647059, 0.592156862745098, 0.23529411764705882, 0.1411764705882353, 0.8705882352941177, 0.996078431372549, 0.996078431372549, 0.996078431372549]\n",
            "\n",
            "0.0 1.0 (60000, 28, 28) float64\n",
            "0.0 1.0 (10000, 28, 28) float64\n"
          ]
        }
      ]
    },
    {
      "cell_type": "markdown",
      "metadata": {
        "id": "SMyUArry3UhT"
      },
      "source": [
        "## Step 3. 시각화 방법"
      ]
    },
    {
      "cell_type": "markdown",
      "metadata": {
        "id": "UFga-Bbo6L0E"
      },
      "source": [
        "### 문제 11. train_image의 이미지를 5장 획득하여 (5, 28, 28)의 shape을 출력하세요."
      ]
    },
    {
      "cell_type": "code",
      "metadata": {
        "id": "cLaqqwz4i_7D"
      },
      "source": [
        "# (60000, 28, 28)인 train_images에서 (5, 28, 28)을 획득하는 코드를 작성하세요."
      ],
      "execution_count": null,
      "outputs": []
    },
    {
      "cell_type": "code",
      "source": [
        "train_images[:5]\n",
        "# train_images[:5].shape # (5, 28, 28)"
      ],
      "metadata": {
        "colab": {
          "base_uri": "https://localhost:8080/"
        },
        "id": "w52N3TeDS1HU",
        "outputId": "9c82439a-b566-4016-e2bf-757b69a32d6e"
      },
      "execution_count": null,
      "outputs": [
        {
          "output_type": "execute_result",
          "data": {
            "text/plain": [
              "array([[[0., 0., 0., ..., 0., 0., 0.],\n",
              "        [0., 0., 0., ..., 0., 0., 0.],\n",
              "        [0., 0., 0., ..., 0., 0., 0.],\n",
              "        ...,\n",
              "        [0., 0., 0., ..., 0., 0., 0.],\n",
              "        [0., 0., 0., ..., 0., 0., 0.],\n",
              "        [0., 0., 0., ..., 0., 0., 0.]],\n",
              "\n",
              "       [[0., 0., 0., ..., 0., 0., 0.],\n",
              "        [0., 0., 0., ..., 0., 0., 0.],\n",
              "        [0., 0., 0., ..., 0., 0., 0.],\n",
              "        ...,\n",
              "        [0., 0., 0., ..., 0., 0., 0.],\n",
              "        [0., 0., 0., ..., 0., 0., 0.],\n",
              "        [0., 0., 0., ..., 0., 0., 0.]],\n",
              "\n",
              "       [[0., 0., 0., ..., 0., 0., 0.],\n",
              "        [0., 0., 0., ..., 0., 0., 0.],\n",
              "        [0., 0., 0., ..., 0., 0., 0.],\n",
              "        ...,\n",
              "        [0., 0., 0., ..., 0., 0., 0.],\n",
              "        [0., 0., 0., ..., 0., 0., 0.],\n",
              "        [0., 0., 0., ..., 0., 0., 0.]],\n",
              "\n",
              "       [[0., 0., 0., ..., 0., 0., 0.],\n",
              "        [0., 0., 0., ..., 0., 0., 0.],\n",
              "        [0., 0., 0., ..., 0., 0., 0.],\n",
              "        ...,\n",
              "        [0., 0., 0., ..., 0., 0., 0.],\n",
              "        [0., 0., 0., ..., 0., 0., 0.],\n",
              "        [0., 0., 0., ..., 0., 0., 0.]],\n",
              "\n",
              "       [[0., 0., 0., ..., 0., 0., 0.],\n",
              "        [0., 0., 0., ..., 0., 0., 0.],\n",
              "        [0., 0., 0., ..., 0., 0., 0.],\n",
              "        ...,\n",
              "        [0., 0., 0., ..., 0., 0., 0.],\n",
              "        [0., 0., 0., ..., 0., 0., 0.],\n",
              "        [0., 0., 0., ..., 0., 0., 0.]]])"
            ]
          },
          "metadata": {},
          "execution_count": 24
        }
      ]
    },
    {
      "cell_type": "markdown",
      "source": [
        "### 문제 12. 획득한 5장의 의미지를 (28, 28 * 5)의 shape으로 변경해보세요."
      ],
      "metadata": {
        "id": "PWxl6qE1Bz25"
      }
    },
    {
      "cell_type": "code",
      "source": [
        "# np.hstack은 height 방향의 배열을 풀어서 width 방향으로 연결해줍니다.\n",
        "# 해당 기능을 쓰면 (height, image_height, image_width)의 shape을 (image_height, image_width * height)으로 바꿔 줄 수 있습니다.\n",
        "# 코드를 작성해보세요."
      ],
      "metadata": {
        "id": "VbzvmWccCLLX"
      },
      "execution_count": null,
      "outputs": []
    },
    {
      "cell_type": "code",
      "source": [
        "plt.imshow(train_images[0]) # imshow()는 이미지를 받음 / train_images[:5]는 형식이 맞지 않음\n",
        "plt.show()"
      ],
      "metadata": {
        "colab": {
          "base_uri": "https://localhost:8080/",
          "height": 265
        },
        "id": "0G3tp2LYBb_p",
        "outputId": "712687fd-9069-4391-fc09-fd8f0f0d5eb0"
      },
      "execution_count": null,
      "outputs": [
        {
          "output_type": "display_data",
          "data": {
            "image/png": "[encoded data removed]",
            "text/plain": [
              "<Figure size 432x288 with 1 Axes>"
            ]
          },
          "metadata": {
            "needs_background": "light"
          }
        }
      ]
    },
    {
      "cell_type": "code",
      "source": [
        "train_images[:5].reshape(28, 28*5) # (28, 28*5)는 height, width*5 즉, width로 5개가 연결된 이미지"
      ],
      "metadata": {
        "colab": {
          "base_uri": "https://localhost:8080/"
        },
        "id": "5undSPgzCFcJ",
        "outputId": "d32ab0f4-b246-4365-d86d-454037b25d2e"
      },
      "execution_count": null,
      "outputs": [
        {
          "output_type": "execute_result",
          "data": {
            "text/plain": [
              "array([[0., 0., 0., ..., 0., 0., 0.],\n",
              "       [0., 0., 0., ..., 0., 0., 0.],\n",
              "       [0., 0., 0., ..., 0., 0., 0.],\n",
              "       ...,\n",
              "       [0., 0., 0., ..., 0., 0., 0.],\n",
              "       [0., 0., 0., ..., 0., 0., 0.],\n",
              "       [0., 0., 0., ..., 0., 0., 0.]])"
            ]
          },
          "metadata": {},
          "execution_count": 27
        }
      ]
    },
    {
      "cell_type": "code",
      "source": [
        "plt.imshow(train_images[:5].reshape(28, 28*5)) # 하지만 이렇게 바꾸면 정보가 뒤틀려버림\n",
        "plt.show()"
      ],
      "metadata": {
        "colab": {
          "base_uri": "https://localhost:8080/",
          "height": 118
        },
        "id": "Z62VDu9zCWKT",
        "outputId": "e9a7a2d2-2e17-41bd-b604-7d4c9bb27988"
      },
      "execution_count": null,
      "outputs": [
        {
          "output_type": "display_data",
          "data": {
            "image/png": "[encoded data removed]",
            "text/plain": [
              "<Figure size 432x288 with 1 Axes>"
            ]
          },
          "metadata": {
            "needs_background": "light"
          }
        }
      ]
    },
    {
      "cell_type": "code",
      "source": [
        "np.hstack(train_images[:5]) # np.hstack()은 가장 앞쪽에 있는 방향(height)을 풀고 뒤로 unstack 하는 방법\n",
        "np.hstack(train_images[:5]).shape"
      ],
      "metadata": {
        "colab": {
          "base_uri": "https://localhost:8080/"
        },
        "id": "3z73HKI5CzIy",
        "outputId": "884f57be-c8d0-4833-cc97-7e8778002f3a"
      },
      "execution_count": null,
      "outputs": [
        {
          "output_type": "execute_result",
          "data": {
            "text/plain": [
              "(28, 140)"
            ]
          },
          "metadata": {},
          "execution_count": 29
        }
      ]
    },
    {
      "cell_type": "code",
      "source": [
        "plt.imshow(np.hstack(train_images[:5]))\n",
        "plt.show()"
      ],
      "metadata": {
        "colab": {
          "base_uri": "https://localhost:8080/",
          "height": 118
        },
        "id": "J_FflwULDPK-",
        "outputId": "cddedcb9-a27b-4ac1-bd7a-8b2ee3e1972b"
      },
      "execution_count": null,
      "outputs": [
        {
          "output_type": "display_data",
          "data": {
            "image/png": "[encoded data removed]",
            "text/plain": [
              "<Figure size 432x288 with 1 Axes>"
            ]
          },
          "metadata": {
            "needs_background": "light"
          }
        }
      ]
    },
    {
      "cell_type": "markdown",
      "metadata": {
        "id": "xqyaO-5bk-sj"
      },
      "source": [
        "### 문제 13. np.hstack은 tensorflow에서 제공하는 방법이 아니므로 transpose 함수를 이용하여 (28, 28 * 5)로 shape을 변경해보세요."
      ]
    },
    {
      "cell_type": "code",
      "metadata": {
        "id": "SqmKdjlGlqLJ"
      },
      "source": [
        "# transpose는 tensor의 axis를 섞는 기능을 합니다.\n",
        "# 해당 기능을 이용해서 (28, 140)을 작성하는 코드를 작성해보세요."
      ],
      "execution_count": null,
      "outputs": []
    },
    {
      "cell_type": "code",
      "source": [
        "train_images[:5].shape # batch, height, width"
      ],
      "metadata": {
        "id": "1GbSIjHCS0Ix",
        "colab": {
          "base_uri": "https://localhost:8080/"
        },
        "outputId": "52367703-5723-4c11-8ee8-2ea45aade5f5"
      },
      "execution_count": null,
      "outputs": [
        {
          "output_type": "execute_result",
          "data": {
            "text/plain": [
              "(5, 28, 28)"
            ]
          },
          "metadata": {},
          "execution_count": 32
        }
      ]
    },
    {
      "cell_type": "code",
      "source": [
        "train_images[:5].transpose(1,0,2) # height, batch, width으로 축 변경\n",
        "train_images[:5].transpose(1,0,2).reshape(28,-1).shape"
      ],
      "metadata": {
        "colab": {
          "base_uri": "https://localhost:8080/"
        },
        "id": "LJtImHGgD10i",
        "outputId": "79be7249-2763-4bfb-c8cc-b29577a56f04"
      },
      "execution_count": null,
      "outputs": [
        {
          "output_type": "execute_result",
          "data": {
            "text/plain": [
              "(28, 140)"
            ]
          },
          "metadata": {},
          "execution_count": 33
        }
      ]
    },
    {
      "cell_type": "markdown",
      "metadata": {
        "id": "T0oaToP6l0Pd"
      },
      "source": [
        "### 문제 14. (28, 140)이 된 tensor를 plt로 출력해보세요."
      ]
    },
    {
      "cell_type": "code",
      "metadata": {
        "id": "ToUpk3oBmIr1"
      },
      "source": [
        "# (28, 140)의 이미지를 plt로 출력해보세요."
      ],
      "execution_count": null,
      "outputs": []
    },
    {
      "cell_type": "code",
      "source": [
        "plt.imshow(train_images[:5].transpose(1,0,2).reshape(28,-1))\n",
        "plt.show()"
      ],
      "metadata": {
        "id": "nWIMGzgbSzi8",
        "colab": {
          "base_uri": "https://localhost:8080/",
          "height": 118
        },
        "outputId": "69559d8b-d0a6-4cb3-80fe-ccbe6f9afb75"
      },
      "execution_count": null,
      "outputs": [
        {
          "output_type": "display_data",
          "data": {
            "image/png": "[encoded data removed]",
            "text/plain": [
              "<Figure size 432x288 with 1 Axes>"
            ]
          },
          "metadata": {
            "needs_background": "light"
          }
        }
      ]
    },
    {
      "cell_type": "markdown",
      "metadata": {
        "id": "LDwAlHN5mQ6K"
      },
      "source": [
        "###문제 15. (28, 140)이 된 tensor를 plt로 흑백으로 출력해보세요. 또한, 해당되는 labels의 값도 print로 출력하세요.\n",
        "\n",
        "hint: imshow 함수의 cmap ='gray' 옵션은 흑백이미지를 heatmap으로 출력하지 않습니다."
      ]
    },
    {
      "cell_type": "code",
      "metadata": {
        "id": "cT-BXF6OmQUy"
      },
      "source": [
        "# images와 labels 5개를 출력하는 코드를 작성하세요."
      ],
      "execution_count": null,
      "outputs": []
    },
    {
      "cell_type": "code",
      "source": [
        "# 원래 이 데이터셋은 흑백 이미지인데, imshow로 보면 보라색~노란색으로 출력됨\n",
        "plt.imshow(train_images[:5].transpose(1,0,2).reshape(28,-1), cmap='gray')\n",
        "plt.colorbar()\n",
        "plt.show()\n",
        "print(train_labels[:5])"
      ],
      "metadata": {
        "id": "wK3l2qCoKRqs",
        "colab": {
          "base_uri": "https://localhost:8080/",
          "height": 275
        },
        "outputId": "3c3d77b2-e944-4254-c43c-fd6027681998"
      },
      "execution_count": null,
      "outputs": [
        {
          "output_type": "display_data",
          "data": {
            "image/png": "[encoded data removed]",
            "text/plain": [
              "<Figure size 432x288 with 2 Axes>"
            ]
          },
          "metadata": {
            "needs_background": "light"
          }
        },
        {
          "output_type": "stream",
          "name": "stdout",
          "text": [
            "[5 0 4 1 9]\n"
          ]
        }
      ]
    },
    {
      "cell_type": "markdown",
      "metadata": {
        "id": "Kz3kWteP8Kap"
      },
      "source": [
        "## Step 4. Data augmentation - Noise 추가 방법  \n",
        "  \n",
        "좌우반전, 회전, 이미지 자르기 등을 통해 학습 데이터 늘리는 방법"
      ]
    },
    {
      "cell_type": "markdown",
      "metadata": {
        "id": "fesKKJqio--a"
      },
      "source": [
        "### 문제 16. np.random.random 함수를 이용하여 0-1 사이의 랜덤값을 3회 print로 출력해보시오."
      ]
    },
    {
      "cell_type": "code",
      "metadata": {
        "id": "Jsmh1keWpODx"
      },
      "source": [
        "# np.random.random을 이용해서 0-1 사의의 랜덤값을 3회 출력하는 코드를 작성하시오."
      ],
      "execution_count": null,
      "outputs": []
    },
    {
      "cell_type": "code",
      "source": [
        "print(np.random.random()) # 0~1사이 uniform random\n",
        "print(np.random.random())\n",
        "print(np.random.random())"
      ],
      "metadata": {
        "id": "TMIgK3D6KQsD",
        "colab": {
          "base_uri": "https://localhost:8080/"
        },
        "outputId": "4b727853-875f-465f-9084-b374978c92eb"
      },
      "execution_count": null,
      "outputs": [
        {
          "output_type": "stream",
          "name": "stdout",
          "text": [
            "0.3807829793880293\n",
            "0.2798938238001383\n",
            "0.8800264956421833\n"
          ]
        }
      ]
    },
    {
      "cell_type": "markdown",
      "metadata": {
        "id": "_1NMpB6LqIB5"
      },
      "source": [
        "### 문제 17. np.random.random 함수와 shape 파라매터를 (28, 28)의 랜덤 노이즈를 생성해보세요."
      ]
    },
    {
      "cell_type": "code",
      "metadata": {
        "id": "U9-NlbEhqhCx"
      },
      "source": [
        "# np.random.random 함수와 shape 파라매터를 이용하여 (28, 28)의 랜덤 노이즈를 생성하는 코드를 작성하시오."
      ],
      "execution_count": null,
      "outputs": []
    },
    {
      "cell_type": "code",
      "source": [
        "np.random.random((5,)) # shape을 인수로 받음"
      ],
      "metadata": {
        "id": "QpsY7cfcKQaP",
        "colab": {
          "base_uri": "https://localhost:8080/"
        },
        "outputId": "39f6bcc5-46f0-43fb-8c10-a45c8614b8a1"
      },
      "execution_count": null,
      "outputs": [
        {
          "output_type": "execute_result",
          "data": {
            "text/plain": [
              "array([0.7096609 , 0.19350228, 0.44483411, 0.22773672, 0.2455612 ])"
            ]
          },
          "metadata": {},
          "execution_count": 41
        }
      ]
    },
    {
      "cell_type": "code",
      "source": [
        "np.random.random((28, 28)).shape"
      ],
      "metadata": {
        "colab": {
          "base_uri": "https://localhost:8080/"
        },
        "id": "5JdfOJ4uIRgC",
        "outputId": "41a6bd21-a4ae-4503-ec85-c6da7258e8f7"
      },
      "execution_count": null,
      "outputs": [
        {
          "output_type": "execute_result",
          "data": {
            "text/plain": [
              "(28, 28)"
            ]
          },
          "metadata": {},
          "execution_count": 42
        }
      ]
    },
    {
      "cell_type": "code",
      "source": [
        "np.random.random((28,28))"
      ],
      "metadata": {
        "colab": {
          "base_uri": "https://localhost:8080/"
        },
        "id": "aZttb8wXIVJR",
        "outputId": "bea1dc89-3089-4c50-b180-7f8e5cc0803b"
      },
      "execution_count": null,
      "outputs": [
        {
          "output_type": "execute_result",
          "data": {
            "text/plain": [
              "array([[0.83504399, 0.25085429, 0.0120798 , 0.32882884, 0.03223727,\n",
              "        0.86003523, 0.77672016, 0.39145017, 0.92193819, 0.19891989,\n",
              "        0.43995955, 0.77993338, 0.16995336, 0.31586246, 0.42835558,\n",
              "        0.40708485, 0.45866154, 0.64050238, 0.95415644, 0.75403861,\n",
              "        0.55494164, 0.71905052, 0.20994212, 0.65665008, 0.00191617,\n",
              "        0.92351942, 0.29127532, 0.11761764],\n",
              "       [0.51331684, 0.48575912, 0.71654342, 0.94247072, 0.65470889,\n",
              "        0.54457328, 0.67138702, 0.79779231, 0.68339954, 0.42683147,\n",
              "        0.38372357, 0.96192244, 0.25736445, 0.89488618, 0.08182711,\n",
              "        0.1050917 , 0.70727437, 0.87159288, 0.76636873, 0.66672563,\n",
              "        0.40893896, 0.3338455 , 0.84586373, 0.72741538, 0.5323535 ,\n",
              "        0.39924035, 0.5026065 , 0.77360231],\n",
              "       [0.48361666, 0.07818886, 0.29863098, 0.59684586, 0.81945437,\n",
              "        0.69250479, 0.73326275, 0.85692978, 0.41315803, 0.34614188,\n",
              "        0.50808453, 0.2301665 , 0.35471286, 0.63655593, 0.31496974,\n",
              "        0.71543324, 0.48819208, 0.212437  , 0.54804317, 0.84718653,\n",
              "        0.13011281, 0.68847441, 0.77768128, 0.04188856, 0.96924446,\n",
              "        0.35568892, 0.10445408, 0.69042315],\n",
              "       [0.31324207, 0.73681612, 0.05026106, 0.21259963, 0.5673173 ,\n",
              "        0.09223595, 0.06837516, 0.76959746, 0.45449362, 0.01025536,\n",
              "        0.02010371, 0.58163387, 0.57021741, 0.85831416, 0.28246773,\n",
              "        0.37798545, 0.09181841, 0.90410449, 0.60470357, 0.5787855 ,\n",
              "        0.90268049, 0.53121911, 0.76553417, 0.33921427, 0.49327827,\n",
              "        0.57729326, 0.8983478 , 0.5515768 ],\n",
              "       [0.26883905, 0.57924289, 0.69848818, 0.22983856, 0.78690639,\n",
              "        0.98586059, 0.56339713, 0.07797145, 0.89952947, 0.46437613,\n",
              "        0.0807337 , 0.7226402 , 0.07308805, 0.95599753, 0.27896148,\n",
              "        0.99399136, 0.29248977, 0.95799897, 0.25712845, 0.3013827 ,\n",
              "        0.75727446, 0.90578895, 0.99282147, 0.21502914, 0.71204227,\n",
              "        0.28099314, 0.68187359, 0.72605041],\n",
              "       [0.21485452, 0.39902134, 0.78556282, 0.2098149 , 0.23024694,\n",
              "        0.67287905, 0.61155171, 0.49755689, 0.6176818 , 0.07404421,\n",
              "        0.30965334, 0.59321797, 0.21197227, 0.24216662, 0.79613514,\n",
              "        0.81280803, 0.56125015, 0.04674079, 0.43896145, 0.57984678,\n",
              "        0.70908466, 0.95296607, 0.22956779, 0.78433648, 0.04122225,\n",
              "        0.78315959, 0.34541321, 0.76672496],\n",
              "       [0.63920675, 0.40496587, 0.2850742 , 0.94869414, 0.96780258,\n",
              "        0.62271199, 0.1881734 , 0.50185987, 0.85946248, 0.60580735,\n",
              "        0.43300607, 0.62610521, 0.40800293, 0.11436913, 0.96453   ,\n",
              "        0.15631972, 0.77581266, 0.69847062, 0.9521391 , 0.1269932 ,\n",
              "        0.73503122, 0.44716886, 0.12154663, 0.52026773, 0.39774352,\n",
              "        0.41506792, 0.83019679, 0.50062769],\n",
              "       [0.98555065, 0.81757418, 0.99660968, 0.31397192, 0.35583224,\n",
              "        0.24503575, 0.61423009, 0.43421259, 0.74169219, 0.70510083,\n",
              "        0.43597141, 0.62051109, 0.93809548, 0.1258976 , 0.7013214 ,\n",
              "        0.79521831, 0.82013856, 0.15960237, 0.7986948 , 0.63204069,\n",
              "        0.14683391, 0.85512545, 0.99646001, 0.55812744, 0.6768532 ,\n",
              "        0.65901037, 0.63409269, 0.02607545],\n",
              "       [0.34437757, 0.20028791, 0.65666894, 0.09445423, 0.9469546 ,\n",
              "        0.46505029, 0.8395603 , 0.09162628, 0.0089318 , 0.40653249,\n",
              "        0.82234948, 0.5382181 , 0.64208162, 0.35033403, 0.55328988,\n",
              "        0.07116861, 0.27696687, 0.60817402, 0.06267212, 0.85630859,\n",
              "        0.60828046, 0.77086016, 0.92607682, 0.28937415, 0.48577166,\n",
              "        0.51460288, 0.11883753, 0.59955546],\n",
              "       [0.59689477, 0.82535157, 0.45960769, 0.53905452, 0.15339541,\n",
              "        0.13983371, 0.40535515, 0.57346425, 0.02519113, 0.99895722,\n",
              "        0.90556222, 0.69492404, 0.61658668, 0.10089479, 0.42068291,\n",
              "        0.8377396 , 0.75050687, 0.7137353 , 0.97372723, 0.6544639 ,\n",
              "        0.97988971, 0.47977198, 0.77361059, 0.96778583, 0.56862934,\n",
              "        0.97978881, 0.85602976, 0.35609036],\n",
              "       [0.38543559, 0.73097729, 0.48268718, 0.61495811, 0.40179164,\n",
              "        0.37790536, 0.85866001, 0.15872704, 0.38577668, 0.7928026 ,\n",
              "        0.49803665, 0.35431901, 0.8945403 , 0.52483864, 0.96654743,\n",
              "        0.20195882, 0.68304627, 0.14925657, 0.86887619, 0.63810746,\n",
              "        0.47108195, 0.12054525, 0.50172865, 0.82690269, 0.52598904,\n",
              "        0.36630041, 0.22638   , 0.48531776],\n",
              "       [0.07063199, 0.24048057, 0.22599026, 0.84789169, 0.41078273,\n",
              "        0.19548057, 0.14886354, 0.80363649, 0.8327072 , 0.65301158,\n",
              "        0.44236192, 0.68291551, 0.88137849, 0.38554488, 0.00584877,\n",
              "        0.88747117, 0.9094555 , 0.1644135 , 0.54181416, 0.38295363,\n",
              "        0.2384078 , 0.87231404, 0.02686235, 0.81130736, 0.77337076,\n",
              "        0.06652703, 0.04349998, 0.88209556],\n",
              "       [0.90796708, 0.51929534, 0.25968143, 0.02168368, 0.10593135,\n",
              "        0.23044457, 0.68754676, 0.69839441, 0.60579458, 0.18628174,\n",
              "        0.27696256, 0.77218872, 0.92925887, 0.32487378, 0.62744169,\n",
              "        0.70511617, 0.61759117, 0.77583057, 0.91976056, 0.45218293,\n",
              "        0.13146437, 0.46107135, 0.81589411, 0.38875305, 0.89625661,\n",
              "        0.50959852, 0.23526884, 0.17987244],\n",
              "       [0.49593462, 0.34812034, 0.58228884, 0.3348778 , 0.14307011,\n",
              "        0.95509281, 0.6120011 , 0.9414992 , 0.32038761, 0.59187332,\n",
              "        0.8600717 , 0.63082004, 0.49823275, 0.47298836, 0.31281412,\n",
              "        0.26817928, 0.35141266, 0.08200422, 0.73571917, 0.77350036,\n",
              "        0.37196706, 0.04167821, 0.19735976, 0.58601659, 0.67406809,\n",
              "        0.47686275, 0.21367345, 0.35109856],\n",
              "       [0.71510595, 0.29032974, 0.45579136, 0.96684198, 0.24206109,\n",
              "        0.68514164, 0.82807393, 0.95307147, 0.91045312, 0.81205015,\n",
              "        0.19199099, 0.69257228, 0.27475449, 0.50500808, 0.33846558,\n",
              "        0.7974831 , 0.11025792, 0.05902685, 0.60980077, 0.19157414,\n",
              "        0.03382068, 0.34269698, 0.64960692, 0.1613455 , 0.33796351,\n",
              "        0.68233563, 0.5486216 , 0.37836168],\n",
              "       [0.95610342, 0.39145995, 0.56676204, 0.78531614, 0.95432011,\n",
              "        0.23400239, 0.930497  , 0.30198379, 0.47645088, 0.26855553,\n",
              "        0.41332678, 0.76240129, 0.33374326, 0.24722288, 0.50388908,\n",
              "        0.87797425, 0.93508044, 0.87460849, 0.44044866, 0.79529294,\n",
              "        0.34318733, 0.83787556, 0.16778581, 0.15964727, 0.10682963,\n",
              "        0.03749122, 0.9258386 , 0.43431622],\n",
              "       [0.87021273, 0.92541798, 0.66737601, 0.53107167, 0.94735489,\n",
              "        0.22582059, 0.98785499, 0.79569804, 0.44890068, 0.72850184,\n",
              "        0.46265608, 0.44642147, 0.94936705, 0.59139426, 0.09292847,\n",
              "        0.9936773 , 0.16799007, 0.59255883, 0.48486638, 0.35676689,\n",
              "        0.45338721, 0.76452362, 0.09352419, 0.06111591, 0.00382298,\n",
              "        0.13148011, 0.15757447, 0.73218323],\n",
              "       [0.47713949, 0.0899951 , 0.12010103, 0.5642048 , 0.54747369,\n",
              "        0.05852772, 0.62385353, 0.79083512, 0.32635858, 0.97683632,\n",
              "        0.65793003, 0.97364526, 0.95104249, 0.88390389, 0.46222982,\n",
              "        0.542618  , 0.23940711, 0.42121753, 0.71612608, 0.42528991,\n",
              "        0.60711756, 0.85116488, 0.81684258, 0.39299048, 0.19508164,\n",
              "        0.61893421, 0.79992561, 0.67154293],\n",
              "       [0.47738262, 0.30766557, 0.27728794, 0.84092586, 0.17963303,\n",
              "        0.85687441, 0.95667604, 0.79184648, 0.39093151, 0.17916564,\n",
              "        0.38069157, 0.16425971, 0.8421823 , 0.01695191, 0.72940831,\n",
              "        0.0186662 , 0.10426095, 0.79724434, 0.56693382, 0.22384726,\n",
              "        0.78294528, 0.92148161, 0.1066931 , 0.54569877, 0.88298553,\n",
              "        0.42064314, 0.95726278, 0.49692417],\n",
              "       [0.52815111, 0.61244694, 0.15014073, 0.1884627 , 0.63201683,\n",
              "        0.06153905, 0.34690447, 0.41608667, 0.31900151, 0.91826265,\n",
              "        0.82230999, 0.06040018, 0.21141938, 0.64341624, 0.4657521 ,\n",
              "        0.94345394, 0.52330964, 0.09091214, 0.40278742, 0.36357975,\n",
              "        0.85372162, 0.13596739, 0.25677281, 0.49203473, 0.53802633,\n",
              "        0.6358778 , 0.60918836, 0.94563496],\n",
              "       [0.55362096, 0.20210047, 0.44403575, 0.69307985, 0.55229838,\n",
              "        0.27870689, 0.33751219, 0.3280439 , 0.48547284, 0.3475032 ,\n",
              "        0.73680715, 0.55748914, 0.96477693, 0.45708534, 0.15947377,\n",
              "        0.83771225, 0.34487426, 0.42670154, 0.31427263, 0.68409289,\n",
              "        0.95862296, 0.91551592, 0.13187321, 0.80048204, 0.66045061,\n",
              "        0.19612216, 0.15590577, 0.83700045],\n",
              "       [0.23837264, 0.60002424, 0.2166294 , 0.87743481, 0.48627119,\n",
              "        0.97426752, 0.88313497, 0.78033463, 0.27369843, 0.97707713,\n",
              "        0.64426377, 0.5699697 , 0.43378967, 0.94777459, 0.28458896,\n",
              "        0.27364812, 0.71446063, 0.30942101, 0.0869494 , 0.03676278,\n",
              "        0.62233719, 0.89010881, 0.13785304, 0.35403348, 0.53546004,\n",
              "        0.77429142, 0.09367448, 0.12534302],\n",
              "       [0.21267643, 0.93149514, 0.1287752 , 0.17620418, 0.47614167,\n",
              "        0.31130306, 0.02154183, 0.55642508, 0.60696095, 0.01018095,\n",
              "        0.63179658, 0.5622635 , 0.37066889, 0.25119058, 0.74631795,\n",
              "        0.83753936, 0.10276587, 0.25333674, 0.42350061, 0.33233448,\n",
              "        0.5540128 , 0.57751171, 0.01353708, 0.10768145, 0.58400169,\n",
              "        0.10402292, 0.85700455, 0.27738784],\n",
              "       [0.93195546, 0.46170389, 0.05011464, 0.41053995, 0.10934598,\n",
              "        0.42161796, 0.9748135 , 0.1535386 , 0.46603345, 0.20847685,\n",
              "        0.12510206, 0.89337246, 0.4803443 , 0.98480894, 0.50245983,\n",
              "        0.72886843, 0.31032742, 0.96147401, 0.57956702, 0.96926219,\n",
              "        0.52398362, 0.85582989, 0.77409068, 0.0330665 , 0.28968164,\n",
              "        0.14654136, 0.57458706, 0.13766388],\n",
              "       [0.46215043, 0.46511563, 0.92364919, 0.92208161, 0.0969336 ,\n",
              "        0.41387776, 0.96620472, 0.09022345, 0.15126611, 0.43120781,\n",
              "        0.40500378, 0.65239273, 0.68575159, 0.49305674, 0.2854052 ,\n",
              "        0.61392705, 0.3228318 , 0.44211707, 0.95672511, 0.78231236,\n",
              "        0.55008199, 0.63651257, 0.35451754, 0.09987083, 0.80954759,\n",
              "        0.04017323, 0.81776405, 0.03167434],\n",
              "       [0.47240948, 0.18238477, 0.69779636, 0.11121025, 0.18753665,\n",
              "        0.99507001, 0.6322377 , 0.53679465, 0.63812128, 0.06463719,\n",
              "        0.89296481, 0.94581839, 0.12855412, 0.68926424, 0.80873174,\n",
              "        0.59993312, 0.24937326, 0.0706756 , 0.47608374, 0.47680111,\n",
              "        0.15346055, 0.09397214, 0.85704576, 0.13327236, 0.09188171,\n",
              "        0.33969673, 0.00438479, 0.70580106],\n",
              "       [0.0573881 , 0.79310572, 0.61190052, 0.70748214, 0.60124775,\n",
              "        0.25059541, 0.08902143, 0.95628316, 0.56886834, 0.22951694,\n",
              "        0.16329064, 0.04906734, 0.80715117, 0.59814887, 0.04653981,\n",
              "        0.45478901, 0.29379098, 0.64955339, 0.16374497, 0.67068648,\n",
              "        0.85664265, 0.12000856, 0.05401998, 0.36976278, 0.3509447 ,\n",
              "        0.09057073, 0.87382455, 0.45221749],\n",
              "       [0.20969211, 0.63376315, 0.43314334, 0.15910518, 0.14648354,\n",
              "        0.0883159 , 0.52064798, 0.34073063, 0.98422936, 0.9064318 ,\n",
              "        0.36410827, 0.60470911, 0.3840497 , 0.058013  , 0.36100803,\n",
              "        0.27236703, 0.52294596, 0.52725932, 0.43534941, 0.96831336,\n",
              "        0.7334842 , 0.26980112, 0.42557989, 0.40618029, 0.70033893,\n",
              "        0.21652928, 0.35623285, 0.69325573]])"
            ]
          },
          "metadata": {},
          "execution_count": 43
        }
      ]
    },
    {
      "cell_type": "markdown",
      "metadata": {
        "id": "JLSYLZr0qvGI"
      },
      "source": [
        "### 문제 18. 생성된 random (28, 28) 노이즈를 plt를 통하여 확인해보세요."
      ]
    },
    {
      "cell_type": "code",
      "metadata": {
        "id": "EsgmHRFSrDX4"
      },
      "source": [
        "# plt를 통하여 random (28, 28) 노이즈를 2회 출력하는 코드를 작성하시고, 이미지가 다른지 확인하세요."
      ],
      "execution_count": null,
      "outputs": []
    },
    {
      "cell_type": "code",
      "source": [
        "plt.imshow(np.random.random((28,28)), cmap='gray')\n",
        "plt.colorbar()\n",
        "plt.show()"
      ],
      "metadata": {
        "id": "YVoAgDc8KQHm",
        "colab": {
          "base_uri": "https://localhost:8080/",
          "height": 265
        },
        "outputId": "01df3540-f9c4-4ea2-b470-63c41a3ec91e"
      },
      "execution_count": null,
      "outputs": [
        {
          "output_type": "display_data",
          "data": {
            "image/png": "[encoded data removed]",
            "text/plain": [
              "<Figure size 432x288 with 2 Axes>"
            ]
          },
          "metadata": {
            "needs_background": "light"
          }
        }
      ]
    },
    {
      "cell_type": "markdown",
      "metadata": {
        "id": "nWy8FKR1AYJU"
      },
      "source": [
        "### 문제 19. 가우시안 노이즈 함수를 사용하여 평균 0, 표준편차 0.1, 사이즈 1로 랜덤 값을 3번 출력하세요. (np.random.normal)"
      ]
    },
    {
      "cell_type": "code",
      "metadata": {
        "id": "ENpSWYu_stHp"
      },
      "source": [
        "# 가우시안 노이즈 함수를 이용하여 mu 0.0 std 0.1 size 1인 랜덤값을 3번 출력하는 코드를 작성하세요."
      ],
      "execution_count": null,
      "outputs": []
    },
    {
      "cell_type": "code",
      "source": [
        "np.random.normal(loc=0, scale=0.1, size=(1,))\n",
        "print(np.random.normal(0.0, 0.1, 1))\n",
        "print(np.random.normal(0.0, 0.1, 1))\n",
        "print(np.random.normal(0.0, 0.1, 1))"
      ],
      "metadata": {
        "id": "_pKLBVwsKP7B",
        "colab": {
          "base_uri": "https://localhost:8080/"
        },
        "outputId": "9289adc1-362f-4e3f-95d3-2f14307aa05b"
      },
      "execution_count": null,
      "outputs": [
        {
          "output_type": "stream",
          "name": "stdout",
          "text": [
            "[-0.00342741]\n",
            "[0.13656791]\n",
            "[0.07566838]\n"
          ]
        }
      ]
    },
    {
      "cell_type": "markdown",
      "metadata": {
        "id": "OQPItJ4zBWTt"
      },
      "source": [
        "### 문제 20. 가우시안 노이즈 함수의 옵션을 문제 19과 동일하지만 평균이 3.0인 경우, 표준 편차가 0.01인 경우로 각각 3회씩 출력해보세요."
      ]
    },
    {
      "cell_type": "code",
      "metadata": {
        "id": "CuvUg3SmtRrx"
      },
      "source": [
        "# 가우시안 노이즈 함수 mu = 3.0, std = 0.1, size = 1을 3 회 출력, mu = 0.0, std = 0.01, size = 1을 3회 출력하는 코드를 작성해보세요."
      ],
      "execution_count": null,
      "outputs": []
    },
    {
      "cell_type": "code",
      "source": [
        "print(np.random.normal(3.0, 0.01, 1))\n",
        "print(np.random.normal(3.0, 0.01, 1))\n",
        "print(np.random.normal(3.0, 0.01, 1))"
      ],
      "metadata": {
        "id": "HUFcCWroKPrJ",
        "colab": {
          "base_uri": "https://localhost:8080/"
        },
        "outputId": "ae71e313-e7c0-4023-ac73-094eb08a250e"
      },
      "execution_count": null,
      "outputs": [
        {
          "output_type": "stream",
          "name": "stdout",
          "text": [
            "[2.99352533]\n",
            "[2.98254553]\n",
            "[3.00846983]\n"
          ]
        }
      ]
    },
    {
      "cell_type": "markdown",
      "metadata": {
        "id": "ef1qyJ8HtZfu"
      },
      "source": [
        "### 문제 21. 가우시안 노이즈 함수를 문제 19의 옵션으로 size를 (28, 28)로 생성 후 plt로 출력해보세요."
      ]
    },
    {
      "cell_type": "code",
      "metadata": {
        "id": "kh_v1QZYt0kJ"
      },
      "source": [
        "# 가우시안 노이즈 함수를 문제 19의 옵션으로 size를 (28, 28)로 생성 후 plt로 출력하는 코드를 작성해보세요. 단, std = 0.01"
      ],
      "execution_count": null,
      "outputs": []
    },
    {
      "cell_type": "code",
      "source": [
        "print(np.random.normal(0.0, 0.01, (28, 28)))"
      ],
      "metadata": {
        "id": "ithQlB4qKPaG",
        "colab": {
          "base_uri": "https://localhost:8080/"
        },
        "outputId": "41bd5969-f135-4f3f-fb1f-189f69e593da"
      },
      "execution_count": null,
      "outputs": [
        {
          "output_type": "stream",
          "name": "stdout",
          "text": [
            "[[-1.37187723e-02  5.65244638e-05 -6.56471329e-03 -1.12292418e-02\n",
            "  -2.07637778e-02 -9.23942326e-03 -2.44082512e-03  1.52373664e-02\n",
            "  -1.03740233e-02 -7.36786828e-03  1.01257330e-02 -5.81614343e-03\n",
            "  -1.00136181e-02 -7.89217485e-05 -2.20521264e-02 -1.26732859e-03\n",
            "  -1.31975070e-02  5.27285432e-03  1.08057710e-02 -6.35383064e-03\n",
            "  -4.62739895e-05  1.47453517e-03 -2.59493197e-03 -1.82178973e-02\n",
            "   1.19339777e-03 -9.18684286e-04  1.41006981e-02 -7.10311908e-03]\n",
            " [ 1.40038357e-02 -8.86676054e-04  1.05994504e-02 -1.84265995e-03\n",
            "  -5.94702453e-03  3.24738815e-04  6.32942690e-03 -7.59669508e-03\n",
            "   4.31836440e-03  5.37322422e-03  7.68552689e-03 -3.40077719e-03\n",
            "   2.43082113e-02  2.99443505e-02  2.73536777e-02 -4.88139754e-03\n",
            "  -3.73818291e-03  2.19956954e-04  7.75574471e-03  1.14210472e-02\n",
            "   3.01281113e-03  4.00024573e-03 -1.98805220e-03  1.28117408e-02\n",
            "   1.12029441e-02 -4.08436551e-03  1.01654387e-02 -7.69366860e-03]\n",
            " [-1.05194829e-02 -9.19554460e-03 -1.27055370e-02 -2.68905079e-03\n",
            "  -1.00414731e-02 -8.99993362e-03 -1.10650030e-02  7.60342223e-03\n",
            "  -4.59650867e-04  1.27934449e-02 -9.94074931e-04  6.08295360e-03\n",
            "   3.58651496e-03 -2.67781757e-03  1.87651582e-02 -1.06637894e-02\n",
            "   2.34838114e-03 -1.32640722e-02 -1.13585656e-02 -1.04523710e-02\n",
            "  -1.13722045e-02  5.31682474e-04 -7.37155241e-03  1.67324481e-02\n",
            "  -4.95053338e-03  6.16462099e-04 -1.41138650e-02 -1.55769566e-02]\n",
            " [ 2.00103444e-02  6.81005437e-03  5.70723777e-03 -1.18669099e-02\n",
            "   1.41294833e-02  1.82192556e-03  1.15341687e-02  1.67397631e-03\n",
            "  -4.60229341e-04  3.93493614e-03 -6.18504253e-04 -1.38398388e-02\n",
            "   7.27357642e-03  1.22436679e-02  8.33839425e-03  6.02409922e-03\n",
            "  -1.56357826e-02 -1.19164210e-02 -1.29286019e-02 -5.48229311e-03\n",
            "   3.88697694e-03  4.64035013e-05 -2.29110124e-03  8.20169504e-03\n",
            "   2.49117835e-03  4.17480948e-03 -1.62011396e-02  7.54950392e-03]\n",
            " [ 2.20419256e-03  3.51947592e-03  6.43084601e-04  1.16830560e-02\n",
            "   6.25489488e-03 -9.93330683e-03 -2.12528536e-02  1.76850177e-02\n",
            "  -2.12366950e-02 -3.86369971e-03 -1.76612368e-02  8.59866062e-03\n",
            "  -8.41925790e-03  2.44362712e-02  3.28847304e-03  7.16260400e-03\n",
            "  -4.00112894e-03  8.90564564e-03  7.49559942e-03  1.03695048e-02\n",
            "   7.35827822e-03 -1.84433643e-03  1.35974505e-03 -3.55412991e-03\n",
            "  -2.01117961e-02 -9.21860750e-03 -1.86174592e-02 -7.85880049e-03]\n",
            " [ 9.52458146e-03 -2.05420122e-03  1.70211981e-02 -4.05696351e-03\n",
            "   9.43211850e-03  1.51137398e-02 -1.03878011e-03 -1.52275396e-02\n",
            "   1.74787687e-03 -6.08725645e-03 -6.18735887e-03 -3.43820823e-03\n",
            "  -4.31840276e-03 -6.33179284e-03  2.47197462e-03  1.32260282e-02\n",
            "   1.14110612e-02  1.24238264e-02  1.17869699e-02 -1.01753023e-03\n",
            "   9.58466301e-03 -2.81203961e-03 -1.41302293e-02  2.74246298e-03\n",
            "  -1.34977438e-02  1.91516923e-02 -9.76408750e-03  1.91863562e-03]\n",
            " [-1.39600896e-02 -4.57038987e-03  7.41232814e-03  7.47650255e-03\n",
            "  -7.16286097e-03  1.39266372e-02  2.05264089e-02  1.09194541e-02\n",
            "   1.35558606e-02 -4.83707176e-03 -7.24203569e-04 -4.62944212e-03\n",
            "  -1.14686925e-02  8.44296344e-03  7.87390650e-03 -1.05263238e-02\n",
            "   1.38168450e-02  5.91872761e-03  4.71952490e-03  6.24714012e-03\n",
            "   6.70344472e-03 -3.34044340e-03  1.38022695e-02 -4.21673775e-03\n",
            "   1.59223572e-03  6.49103025e-03  2.67523112e-03 -1.09225443e-02]\n",
            " [-1.23060083e-02 -2.12429760e-02 -7.44174907e-03 -4.19313696e-03\n",
            "   4.60384929e-03  1.15914489e-02 -1.61525622e-02 -1.47083824e-02\n",
            "   8.79872434e-03 -4.01868048e-03  1.86446750e-02 -3.63130471e-03\n",
            "  -9.61717903e-03 -7.87223346e-03  2.28839199e-02 -1.60276638e-02\n",
            "  -3.17173579e-03  1.44452781e-02  1.54281919e-02  1.61764929e-02\n",
            "  -1.17743037e-02  4.91998088e-03  5.31402781e-03 -6.38964758e-03\n",
            "  -5.69547842e-03 -6.41154966e-03 -7.05768342e-03 -1.57616612e-02]\n",
            " [-8.47305256e-03  1.43860422e-02 -1.29425318e-02  4.70629213e-03\n",
            "   2.84548232e-03  1.95876427e-02 -1.55976037e-02  1.26932197e-02\n",
            "   1.90441948e-02 -1.15040079e-02  3.92270746e-03  2.82551166e-03\n",
            "   1.07656553e-02  4.95629369e-03  9.94872432e-03 -6.78201848e-03\n",
            "  -1.14394538e-02 -4.13510270e-03 -1.77891071e-02  1.45942391e-02\n",
            "   2.00578608e-02  2.10677543e-02 -6.25030627e-03 -9.64712706e-04\n",
            "   1.10934684e-02 -1.19354749e-02 -5.96064088e-04  3.45754065e-03]\n",
            " [-8.93602128e-03  2.96064723e-03 -1.73943432e-02  1.47381183e-02\n",
            "   3.00360568e-03  1.24368659e-02  2.07004657e-02  1.27023956e-02\n",
            "  -1.42486846e-04  3.60477744e-03  1.12285779e-02 -3.35577128e-03\n",
            "   8.08270564e-03 -1.38162404e-02 -8.36510082e-03 -2.23093782e-03\n",
            "  -1.01618915e-02  7.61680988e-03  1.04244710e-02 -1.93882505e-02\n",
            "  -6.87380500e-03 -1.09670257e-03  1.28794795e-03  5.93685438e-03\n",
            "   1.35714389e-02  3.34697332e-03 -5.96460838e-04  1.09225326e-02]\n",
            " [-6.13308865e-03  9.19320603e-03  1.34625325e-02  5.06927561e-04\n",
            "  -1.02103558e-02  5.41685039e-03 -5.37810717e-03 -1.06895802e-02\n",
            "  -1.50389162e-03 -1.28145185e-02  3.40407215e-03 -9.53066588e-03\n",
            "  -2.94799552e-04  4.03249048e-03  2.05671534e-03  4.90733044e-03\n",
            "  -1.03955457e-02  2.37304546e-02 -4.63245476e-03  1.03150012e-02\n",
            "   8.48538404e-03  6.41723856e-03 -4.28952985e-03 -1.87892231e-02\n",
            "   8.83738929e-03 -8.72593241e-03  4.51089464e-04 -1.18918451e-02]\n",
            " [ 3.65839003e-03  9.64271899e-03 -1.33400096e-03 -6.30175196e-03\n",
            "  -1.82315770e-03 -5.68570135e-03 -8.17821083e-04 -2.19394777e-02\n",
            "  -6.51089382e-04  3.75957284e-04 -4.00808991e-04 -1.54249645e-02\n",
            "   1.05721743e-02  1.74074915e-02  1.62178041e-02  5.38796530e-03\n",
            "   1.26407969e-02  6.24947283e-03 -5.52121889e-03  1.44110797e-02\n",
            "  -1.01083329e-03 -6.65232127e-03 -6.61643442e-03 -1.22805462e-03\n",
            "  -7.14033081e-03 -1.92635723e-03  9.08930298e-03 -1.31475140e-02]\n",
            " [-1.30760104e-02 -1.11242813e-02 -2.23494396e-03  1.50236304e-02\n",
            "  -7.21400039e-04 -2.79318892e-03  3.87481783e-03 -2.26042398e-03\n",
            "   3.23805833e-03 -1.69353756e-02  1.20000885e-02  1.10259916e-02\n",
            "   4.23531590e-03  1.86950977e-03 -3.26664845e-03 -5.70373937e-03\n",
            "   9.87931724e-03 -6.74442713e-04  9.93618789e-03  2.88089261e-03\n",
            "   3.99588299e-03  4.08289777e-04 -2.27388511e-02 -6.64045915e-03\n",
            "  -7.85246506e-03 -2.26444643e-04 -5.67527879e-03 -1.98296613e-03]\n",
            " [-4.21677954e-04 -7.54881831e-03 -5.37613576e-04 -4.95645798e-03\n",
            "  -3.50334002e-04  2.54943034e-03  5.60753289e-03  6.24772855e-03\n",
            "   6.19157014e-03 -1.89899897e-02  6.71308266e-03  4.55204988e-03\n",
            "  -3.30228417e-03 -8.15129073e-03  1.02531230e-02 -1.41056996e-02\n",
            "   8.76396516e-03  5.84157583e-03 -4.94864041e-03  3.32550035e-04\n",
            "  -8.61647939e-03 -8.79374528e-04  4.50409291e-03 -1.20642758e-02\n",
            "   1.67501580e-02 -1.53277192e-03 -5.93544419e-03  3.59619946e-03]\n",
            " [-1.28068662e-02 -1.54403691e-02 -1.11460603e-02  1.94280577e-02\n",
            "   6.63722363e-03  7.69722397e-03  1.09504970e-03 -1.02294311e-02\n",
            "  -5.38624028e-03  2.01622284e-03  2.80784523e-02 -5.67380990e-04\n",
            "  -6.82467089e-03 -2.48241226e-02  1.47274919e-02 -5.33111980e-03\n",
            "  -1.74364280e-02 -4.83172953e-03  1.74884706e-02 -1.14829254e-03\n",
            "   3.05879911e-03  8.73620042e-03  9.96652618e-04  1.48939219e-03\n",
            "   1.53832409e-03  1.16510842e-04 -1.51429175e-02 -3.11425424e-03]\n",
            " [-1.57072973e-02  1.23745930e-02  4.48502959e-03 -1.44370120e-02\n",
            "  -7.82432556e-03  1.70910652e-03 -6.69774831e-03 -1.52017343e-02\n",
            "  -1.06338812e-02 -2.09726296e-02 -1.01266048e-02 -5.91620682e-03\n",
            "  -5.55464513e-03  1.20288638e-04  9.62351514e-03 -4.73786492e-03\n",
            "   3.62292532e-03 -1.16593475e-02  8.19397102e-03 -9.21022482e-03\n",
            "   2.41312355e-03 -9.66038905e-03  6.25052609e-03 -1.33970259e-02\n",
            "   1.97770944e-02  3.39955671e-03  9.77357718e-03  5.98144522e-03]\n",
            " [-3.33873130e-04  1.67983891e-02  3.87880820e-03 -1.01880348e-04\n",
            "   8.38362784e-04 -2.04998247e-03  1.75083064e-03 -2.52211139e-02\n",
            "  -4.36142557e-03  2.17481822e-03  6.61232779e-03 -8.64826025e-03\n",
            "  -9.33207537e-03 -3.15541326e-03 -3.99927329e-03  1.39744206e-02\n",
            "   1.29226932e-02  2.06225955e-03 -6.84360379e-03 -6.08156646e-03\n",
            "   2.57574940e-03  4.73514032e-03  2.16796499e-03  2.14058503e-03\n",
            "   1.01574821e-02 -3.41711724e-03  1.02603126e-02  2.27593827e-03]\n",
            " [-5.43775748e-04 -2.46869553e-03  1.19794021e-02 -3.95575715e-03\n",
            "  -2.01335621e-02  6.63406941e-04  4.53059636e-03  1.00676785e-02\n",
            "   1.96219960e-02  6.63132725e-03  7.16584901e-03  7.08915254e-03\n",
            "  -1.36108577e-02 -5.30912821e-03 -8.41105553e-03  3.67005236e-03\n",
            "   1.30748434e-02 -3.21293263e-03  1.19181463e-02 -3.74604817e-04\n",
            "   1.46104378e-02 -5.65556612e-03  1.04992047e-02  1.08640181e-03\n",
            "   3.43916508e-04 -4.17367937e-04 -8.95342834e-03 -9.56937504e-03]\n",
            " [-1.30612012e-02  1.16135254e-02  2.17757897e-03  2.14893981e-03\n",
            "   1.74799960e-02 -3.60179856e-03 -1.36288271e-02 -1.16597979e-02\n",
            "  -1.48543225e-02 -1.58755692e-02  3.44220847e-03 -2.36197781e-03\n",
            "  -2.33103006e-03  2.69697685e-03  3.24355206e-03  5.09822474e-03\n",
            "   1.28321702e-02  4.40061603e-03 -6.21420656e-04  2.47710208e-04\n",
            "  -1.64997802e-02  8.94993595e-03  1.23647660e-02 -2.27507243e-03\n",
            "  -1.48259363e-02  2.42408279e-03 -1.62108100e-02  6.66252667e-03]\n",
            " [-1.06152734e-03  4.56063396e-03  5.33644524e-03  2.26532246e-03\n",
            "   6.79613564e-03  1.35315990e-02  6.29116064e-03 -2.06004997e-02\n",
            "  -1.29159919e-02 -1.30581004e-03 -1.09990048e-02 -9.94364951e-03\n",
            "   1.78076538e-02 -4.32246633e-03  1.70360253e-02  1.24356134e-02\n",
            "   4.95290394e-04 -1.62032255e-02  1.01738419e-02  5.08702086e-04\n",
            "  -4.21727920e-03  4.46493800e-03 -5.44972880e-04 -1.47834518e-02\n",
            "  -5.84800624e-03 -6.70308753e-03 -1.62929306e-02  2.07321566e-02]\n",
            " [ 1.31461218e-02  1.54936533e-02  3.46141642e-03  6.96542619e-04\n",
            "  -1.34764710e-02  9.96738952e-03 -2.14272942e-03  8.04807758e-04\n",
            "  -4.63461682e-03  4.81955720e-03 -7.14070314e-03  2.44667263e-02\n",
            "   1.87997506e-02 -9.83067946e-03 -5.42857097e-03  3.16601607e-03\n",
            "  -2.22534182e-03 -1.13970464e-02  9.32009212e-03 -4.61629723e-03\n",
            "   3.82796791e-03  3.76860268e-03 -6.20341603e-03 -1.50307229e-02\n",
            "  -1.61309701e-03 -1.32231615e-02  4.28554415e-03 -1.52172275e-03]\n",
            " [-1.98663428e-03  1.75583568e-02  7.82152233e-03 -1.05544773e-02\n",
            "  -1.14059829e-02  1.66547504e-02 -1.53776415e-03 -1.46819934e-03\n",
            "  -7.75001339e-03 -3.12197256e-03 -1.43863407e-03  4.42622612e-03\n",
            "  -1.13095999e-02 -3.10863707e-03  7.71421885e-03 -1.43475064e-03\n",
            "  -4.98250914e-03 -2.35428073e-02 -5.15541704e-03 -1.41452854e-02\n",
            "  -3.45633863e-04  6.53248208e-03  1.52513272e-02  1.10657127e-03\n",
            "   9.30567372e-03  2.31761951e-03  1.21485848e-02 -1.00563058e-02]\n",
            " [-1.02499938e-02  6.35303869e-03  2.29783617e-02 -2.94217609e-03\n",
            "  -5.50106383e-03  1.60121447e-03  2.88986073e-03  4.46817185e-03\n",
            "   8.60829351e-03 -5.30221877e-04 -8.80932352e-03  1.45304727e-02\n",
            "   3.73148369e-03  3.07276210e-03  1.23855277e-03  1.47360661e-02\n",
            "   5.86484877e-03 -1.79004695e-02  5.65090030e-03 -1.36947903e-02\n",
            "   8.51694029e-03  1.19397780e-02 -2.06226772e-03 -1.34718963e-02\n",
            "  -1.14047291e-02  3.96388286e-03 -8.21279725e-03 -3.92797806e-03]\n",
            " [ 1.85145599e-02 -1.10303205e-02 -9.40951536e-03  7.98608359e-04\n",
            "  -7.38116455e-03 -9.53798214e-03  5.83433579e-03  1.19953342e-02\n",
            "   1.07101441e-02 -1.11534098e-02 -9.88436790e-05  3.70830340e-03\n",
            "   8.06157668e-03 -5.05201447e-03 -2.66283475e-03 -1.80129584e-02\n",
            "   4.69957480e-03  2.06642580e-02  1.13323693e-02  1.30972189e-02\n",
            "  -9.66753614e-04 -1.89911976e-03 -4.60357457e-03 -1.21212286e-02\n",
            "  -3.75836953e-04  7.17507880e-03  5.07232774e-03  8.01824318e-03]\n",
            " [-3.66622305e-03 -9.20547675e-03 -9.67185019e-03  2.23556972e-02\n",
            "  -1.22132028e-02  8.53426016e-03 -3.03147305e-03  5.50985298e-05\n",
            "  -6.73604383e-03  3.50082387e-03  2.44670991e-04  1.13864524e-02\n",
            "   6.69757293e-03  1.17904046e-02 -9.81742196e-03 -7.97770314e-03\n",
            "  -7.46223574e-03 -3.60594794e-03  7.07433604e-03 -3.72077915e-03\n",
            "  -8.66323443e-05  6.46188759e-03 -3.43519678e-03  3.71837237e-03\n",
            "   3.95664847e-04 -1.77904749e-03  2.14691483e-02 -3.66959270e-03]\n",
            " [-2.29569631e-02  1.05191773e-02 -3.43799059e-03 -7.13188980e-03\n",
            "   9.56949784e-03 -7.08184725e-03 -9.39241417e-03 -3.99813412e-03\n",
            "  -1.28153301e-02  6.61241257e-03 -5.85210687e-03  1.19385223e-02\n",
            "   1.58847867e-02 -6.76936193e-03 -6.05806844e-03  3.48921546e-03\n",
            "  -4.49716940e-03  2.06591945e-03 -5.15836027e-03 -2.47788589e-02\n",
            "  -4.46705399e-03  1.29922087e-03 -5.65169085e-03 -5.44997982e-03\n",
            "   1.62450904e-02  9.73384764e-03  6.91617852e-03  7.94611235e-04]\n",
            " [-1.98234751e-02  6.84140704e-03 -7.25823710e-03 -1.14395442e-02\n",
            "  -1.18007976e-02 -5.17256547e-03 -2.31573187e-04 -9.14021456e-03\n",
            "   7.27845189e-03  1.57620959e-02  1.93981425e-04  1.28003094e-02\n",
            "  -1.49564819e-02 -1.71929161e-03 -7.89897549e-04 -6.37771958e-03\n",
            "  -1.26462338e-02 -1.29878180e-02 -9.01273377e-03  2.43901841e-03\n",
            "   2.97661250e-03 -8.47119259e-03 -1.48656232e-02  1.72356136e-02\n",
            "   7.30440842e-03 -5.69210674e-03 -7.91756911e-03 -1.79788669e-02]\n",
            " [ 1.59727197e-02  1.56091098e-02  9.12651008e-03 -5.14907735e-03\n",
            "   6.52957684e-03 -8.82196722e-03  1.14229781e-02  3.51764197e-03\n",
            "   1.40421170e-02 -5.91591317e-03 -1.06464454e-02  2.23792901e-03\n",
            "   1.22457544e-02 -7.48420938e-03  8.78717480e-03  6.37935707e-03\n",
            "  -2.79888720e-03  2.56988922e-02  1.54197538e-02  9.65449031e-03\n",
            "  -6.60549799e-03 -4.80559209e-03  3.51503581e-03  3.81223532e-03\n",
            "   1.34433066e-04 -1.89447096e-02 -1.31297447e-02  1.56852286e-03]]\n"
          ]
        }
      ]
    },
    {
      "cell_type": "code",
      "source": [
        "plt.imshow(np.random.normal(0.0, 0.01, (28, 28)), cmap='gray')\n",
        "plt.colorbar()\n",
        "plt.show()"
      ],
      "metadata": {
        "colab": {
          "base_uri": "https://localhost:8080/",
          "height": 267
        },
        "id": "nYXh48LKJ32T",
        "outputId": "df02fd4d-b3ef-4430-aa33-61043fe465e7"
      },
      "execution_count": null,
      "outputs": [
        {
          "output_type": "display_data",
          "data": {
            "image/png": "[encoded data removed]",
            "text/plain": [
              "<Figure size 432x288 with 2 Axes>"
            ]
          },
          "metadata": {
            "needs_background": "light"
          }
        }
      ]
    },
    {
      "cell_type": "markdown",
      "metadata": {
        "id": "MUdBACZuCDfA"
      },
      "source": [
        "### 문제 22. train_images의 5번째 이미지와 가우시안 노이즈 (28, 28)를 생성 한 뒤 각각 tensor를 더한 뒤 noisy_image 변수에 할당 해보세요."
      ]
    },
    {
      "cell_type": "code",
      "metadata": {
        "id": "pWia41PbumMX"
      },
      "source": [
        "# train_images[5]와 가우시안 노이즈 (28, 28)을 더한 뒤 noisy_image 변수에 할당하는 코드를 작성하세요. mu = 0.5, std = 0.1"
      ],
      "execution_count": null,
      "outputs": []
    },
    {
      "cell_type": "code",
      "source": [
        "train_images[5].shape"
      ],
      "metadata": {
        "colab": {
          "base_uri": "https://localhost:8080/"
        },
        "id": "iJByhW55Kg_r",
        "outputId": "b1720ef8-3672-4a8a-a2fa-418afa6dffcf"
      },
      "execution_count": null,
      "outputs": [
        {
          "output_type": "execute_result",
          "data": {
            "text/plain": [
              "(28, 28)"
            ]
          },
          "metadata": {},
          "execution_count": 54
        }
      ]
    },
    {
      "cell_type": "code",
      "source": [
        "# 동일한 shape의 텐서들은 연산이 가능\n",
        "noisy_image = train_images[5] + np.random.normal(0.5, 0.1, train_images[5].shape)\n",
        "noisy_image = train_images[5] + np.random.normal(0.5, 0.1, (28, 28))"
      ],
      "metadata": {
        "id": "GL06CVHtKPFr"
      },
      "execution_count": null,
      "outputs": []
    },
    {
      "cell_type": "markdown",
      "metadata": {
        "id": "WsA0v_tNuv7Z"
      },
      "source": [
        "### 문제 23. noisy_image를 plt를 통해서 출력해보세요."
      ]
    },
    {
      "cell_type": "code",
      "metadata": {
        "id": "SMLTjkltv4g3"
      },
      "source": [
        "# noisy_image를 plt로 출력하는 코드를 작성해보세요."
      ],
      "execution_count": null,
      "outputs": []
    },
    {
      "cell_type": "code",
      "source": [
        "plt.imshow(noisy_image, cmap='gray')\n",
        "plt.colorbar() # 1을 초과한 부분이 있음\n",
        "plt.show()"
      ],
      "metadata": {
        "id": "l3yB1eLwKOwr",
        "colab": {
          "base_uri": "https://localhost:8080/",
          "height": 265
        },
        "outputId": "f2052524-977b-4d47-bb71-103ca79276bf"
      },
      "execution_count": null,
      "outputs": [
        {
          "output_type": "display_data",
          "data": {
            "image/png": "[encoded data removed]",
            "text/plain": [
              "<Figure size 432x288 with 2 Axes>"
            ]
          },
          "metadata": {
            "needs_background": "light"
          }
        }
      ]
    },
    {
      "cell_type": "markdown",
      "metadata": {
        "id": "Mqv2vE5EwChf"
      },
      "source": [
        "### 문제 24. 노이지 이미지를 생성했지만, max가 1이 넘습니다. max값을 1로 조절해보세요."
      ]
    },
    {
      "cell_type": "code",
      "metadata": {
        "id": "yxlKvbMBwyZu"
      },
      "source": [
        "# max가 1을 초과하지 않게 noisy_image를 수정한 뒤 plt로 출력해보세요."
      ],
      "execution_count": null,
      "outputs": []
    },
    {
      "cell_type": "code",
      "source": [
        "# MinMax normalize를 해도 되지만 이번엔 다른 방법 사용\n",
        "noisy_image[noisy_image > 1.0] # 1.0 보다 큰 값들 출력"
      ],
      "metadata": {
        "id": "z3v5P3tRKOfz",
        "colab": {
          "base_uri": "https://localhost:8080/"
        },
        "outputId": "ce6e4755-6e07-4be3-8a52-f1ea59bcb631"
      },
      "execution_count": null,
      "outputs": [
        {
          "output_type": "execute_result",
          "data": {
            "text/plain": [
              "array([1.10297397, 1.11064883, 1.33902566, 1.37478417, 1.30967632,\n",
              "       1.48913306, 1.03588755, 1.02738171, 1.35231343, 1.38494804,\n",
              "       1.37107807, 1.38165809, 1.2832225 , 1.54865171, 1.35291408,\n",
              "       1.21688335, 1.33602496, 1.58806673, 1.34372344, 1.55899367,\n",
              "       1.31044129, 1.45643337, 1.38791014, 1.52478756, 1.46535524,\n",
              "       1.38850194, 1.60843582, 1.55452849, 1.56164746, 1.47956223,\n",
              "       1.26661389, 1.42414216, 1.50041922, 1.54678946, 1.45585763,\n",
              "       1.49878575, 1.08808669, 1.59046004, 1.57171369, 1.19957371,\n",
              "       1.60319513, 1.46498176, 1.03646629, 1.08221888, 1.03375243,\n",
              "       1.21172757, 1.4043563 , 1.20961156, 1.25004513, 1.35164104,\n",
              "       1.61671682, 1.43355932, 1.4490563 , 1.46227302, 1.40139046,\n",
              "       1.26072186, 1.50959009, 1.3314353 , 1.44427395, 1.18619214,\n",
              "       1.50170158, 1.41083472, 1.36824915, 1.36522686, 1.4912293 ,\n",
              "       1.36173371, 1.14812352, 1.15815758, 1.57843102, 1.55058833,\n",
              "       1.29799942, 1.33911763, 1.55651113, 1.59754127, 1.36238976,\n",
              "       1.41992893, 1.50994857, 1.52850423, 1.27995549, 1.062132  ,\n",
              "       1.57717733, 1.45574117, 1.27743771, 1.09952951, 1.41604575,\n",
              "       1.21742022, 1.22516169, 1.48252209, 1.27147621, 1.18102598,\n",
              "       1.39941935, 1.5293575 , 1.66836268, 1.31547284, 1.04985505,\n",
              "       1.43049532, 1.4721271 , 1.00344244, 1.2203411 , 1.42404572,\n",
              "       1.30850898, 1.21161528, 1.44944003, 1.54683718, 1.43812515,\n",
              "       1.40089536, 1.1400644 , 1.49582224, 1.38535132, 1.28355466,\n",
              "       1.08777167, 1.23982388, 1.41818584, 1.42529425, 1.46595605,\n",
              "       1.52068695, 1.20693785, 1.00160975])"
            ]
          },
          "metadata": {},
          "execution_count": 59
        }
      ]
    },
    {
      "cell_type": "code",
      "source": [
        "noisy_image[noisy_image > 1.0] = 1.0 # 1.0 넘는 값들을 1.0으로 변경"
      ],
      "metadata": {
        "id": "0BADQoRJLVzQ"
      },
      "execution_count": null,
      "outputs": []
    },
    {
      "cell_type": "code",
      "source": [
        "plt.imshow(noisy_image ,cmap='gray')\n",
        "plt.colorbar()\n",
        "plt.show()"
      ],
      "metadata": {
        "colab": {
          "base_uri": "https://localhost:8080/",
          "height": 269
        },
        "id": "JPzOUKYILa1j",
        "outputId": "54908301-d6d2-484c-a5c6-d074c78cf66d"
      },
      "execution_count": null,
      "outputs": [
        {
          "output_type": "display_data",
          "data": {
            "image/png": "[encoded data removed]",
            "text/plain": [
              "<Figure size 432x288 with 2 Axes>"
            ]
          },
          "metadata": {
            "needs_background": "light"
          }
        }
      ]
    },
    {
      "cell_type": "markdown",
      "metadata": {
        "id": "-ZGNiCnuxQTO"
      },
      "source": [
        "### 문제 25. 위의 방법을 전부 활용하여 train_images와 test_images 데이터에 랜덤 노이즈를 추가한 train_noisy_images와 test_noisy_images를 생성해보세요."
      ]
    },
    {
      "cell_type": "code",
      "metadata": {
        "id": "c7292i2CMFCz"
      },
      "source": [
        "# train_noisy_image와 test_nosiy_images를 생성하는 코드를 작성하세요."
      ],
      "execution_count": null,
      "outputs": []
    },
    {
      "cell_type": "code",
      "source": [
        "# train_noisy_images = train_noisy_images + np.random.normal(5.0, 0.1, (60000, 28, 28))\n",
        "train_noisy_images = train_images + np.random.normal(0.5, 0.1, train_images.shape)\n",
        "train_noisy_images[train_noisy_images > 1.0] = 1.0\n",
        "\n",
        "test_noisy_images = test_images + np.random.normal(0.5, 0.1, test_images.shape)\n",
        "test_noisy_images[test_noisy_images > 1.0] = 1.0"
      ],
      "metadata": {
        "id": "IocsXY8dKOEp"
      },
      "execution_count": null,
      "outputs": []
    },
    {
      "cell_type": "code",
      "source": [
        "plt.imshow(train_noisy_images[:5].transpose((1, 0, 2)).reshape(28, -1), cmap='gray')\n",
        "plt.colorbar()\n",
        "plt.show()"
      ],
      "metadata": {
        "colab": {
          "base_uri": "https://localhost:8080/",
          "height": 252
        },
        "id": "-Qlz_-N0Mudt",
        "outputId": "5f571dfd-2564-427e-aa20-297828cedf4d"
      },
      "execution_count": null,
      "outputs": [
        {
          "output_type": "display_data",
          "data": {
            "image/png": "[encoded data removed]",
            "text/plain": [
              "<Figure size 432x288 with 2 Axes>"
            ]
          },
          "metadata": {
            "needs_background": "light"
          }
        }
      ]
    },
    {
      "cell_type": "markdown",
      "metadata": {
        "id": "cclii1-lS_HA"
      },
      "source": [
        "### 문제 26. labels에 onehot 인코딩을 적용하여 (배치 사이즈, 클래스 개수)의 shape으로 변경해보세요."
      ]
    },
    {
      "cell_type": "code",
      "metadata": {
        "id": "S34frxLyxAD-"
      },
      "source": [
        "# train/test labels에 onehot encoding을 적용하여 shape을 (배치사이즈,) 에서 (배치사이즈, 클래스 개수)로 변경하는 코드를 작성하세요."
      ],
      "execution_count": null,
      "outputs": []
    },
    {
      "cell_type": "code",
      "source": [
        "from keras.utils.np_utils import to_categorical\n",
        "\n",
        "print(train_labels[2])\n",
        "print(to_categorical(train_labels[2])) # 이렇게 되면 tensor 길이가 달라짐\n",
        "print(to_categorical(train_labels[2], 10)) # 길이 고정시켜주기"
      ],
      "metadata": {
        "id": "wE8TiAerKT_-",
        "colab": {
          "base_uri": "https://localhost:8080/"
        },
        "outputId": "8c10b4d4-dc05-4ebd-99c1-9387316380e6"
      },
      "execution_count": null,
      "outputs": [
        {
          "output_type": "stream",
          "name": "stdout",
          "text": [
            "4\n",
            "[0. 0. 0. 0. 1.]\n",
            "[0. 0. 0. 0. 1. 0. 0. 0. 0. 0.]\n"
          ]
        }
      ]
    },
    {
      "cell_type": "code",
      "source": [
        "from keras.utils.np_utils import to_categorical\n",
        "\n",
        "print(train_labels.shape, test_labels.shape)\n",
        "train_labels = to_categorical(train_labels, 10)\n",
        "test_labels = to_categorical(test_labels, 10)\n",
        "print(train_labels.shape, test_labels.shape)"
      ],
      "metadata": {
        "colab": {
          "base_uri": "https://localhost:8080/"
        },
        "id": "1qm4Gl9VPBvK",
        "outputId": "8ad711be-7a53-45d5-c82d-9992c78dac49"
      },
      "execution_count": null,
      "outputs": [
        {
          "output_type": "stream",
          "name": "stdout",
          "text": [
            "(60000,) (10000,)\n",
            "(60000, 10) (10000, 10)\n"
          ]
        }
      ]
    },
    {
      "cell_type": "markdown",
      "metadata": {
        "id": "z67dTPu0xJSu"
      },
      "source": [
        "## Step 5. 모델링"
      ]
    },
    {
      "cell_type": "markdown",
      "metadata": {
        "id": "20iJHg2gXrC2"
      },
      "source": [
        "### 문제 27. 해당 학습셋을 처리하는 이미지 classification 모델을 작성하세요."
      ]
    },
    {
      "cell_type": "code",
      "metadata": {
        "id": "1Q1XtFoxX0eN"
      },
      "source": [
        "# input (28, 28), 64 unit의 simple RNN, 10 unit의 fully-conntect를 가진 모델을 작성하세요."
      ],
      "execution_count": null,
      "outputs": []
    },
    {
      "cell_type": "code",
      "source": [
        "from keras.layers import SimpleRNN\n",
        "from keras.layers import Dense, Input\n",
        "from keras.models import Model\n",
        "\n",
        "inputs = Input(shape=(28, 28)) # shape을 받음(batch는 생략할 수 있음)\n",
        "x1 = SimpleRNN(64, activation='tanh')(inputs) # Simple RNN를 거친 값\n",
        "x2 = Dense(10, activation='softmax')(x1) # softmax는 확률처럼 뽑아줌\n",
        "model = Model(inputs, x2) # input과 output을 받음\n",
        "\n",
        "# (1, 28, 28) -> (2, 28, 28) -> ... 순서로 처리"
      ],
      "metadata": {
        "id": "qG584Q5cKU_r"
      },
      "execution_count": null,
      "outputs": []
    },
    {
      "cell_type": "markdown",
      "metadata": {
        "id": "svYCsKxOyJzt"
      },
      "source": [
        "### 문제 28. 모델 요약 정보를 출력해보세요."
      ]
    },
    {
      "cell_type": "code",
      "metadata": {
        "id": "d4qnTxHpyN37"
      },
      "source": [
        "# 모델 요약 정보를 출력해보세요."
      ],
      "execution_count": null,
      "outputs": []
    },
    {
      "cell_type": "code",
      "source": [
        "model.summary()"
      ],
      "metadata": {
        "id": "W3A5_-F2KWbM",
        "colab": {
          "base_uri": "https://localhost:8080/"
        },
        "outputId": "69a88e61-b855-4c02-849f-9b595daa0964"
      },
      "execution_count": null,
      "outputs": [
        {
          "output_type": "stream",
          "name": "stdout",
          "text": [
            "Model: \"model_1\"\n",
            "_________________________________________________________________\n",
            " Layer (type)                Output Shape              Param #   \n",
            "=================================================================\n",
            " input_3 (InputLayer)        [(None, 28, 28)]          0         \n",
            "                                                                 \n",
            " simple_rnn_2 (SimpleRNN)    (None, 64)                5952      \n",
            "                                                                 \n",
            " dense_1 (Dense)             (None, 10)                650       \n",
            "                                                                 \n",
            "=================================================================\n",
            "Total params: 6,602\n",
            "Trainable params: 6,602\n",
            "Non-trainable params: 0\n",
            "_________________________________________________________________\n"
          ]
        }
      ]
    },
    {
      "cell_type": "markdown",
      "metadata": {
        "id": "PkOrDR1yam4a"
      },
      "source": [
        "### 문제 29. 27에서 만든 모델에 로스와 옵티마이저, 메트릭을 설정하세요."
      ]
    },
    {
      "cell_type": "code",
      "metadata": {
        "id": "nufi0CMyazsF"
      },
      "source": [
        "# 만든 모델에 loss는 categorical_crossentropy, optimizer는 adam 매트릭은 accuracy으로 설정하는 코드를 작성하세요."
      ],
      "execution_count": null,
      "outputs": []
    },
    {
      "cell_type": "code",
      "source": [
        "model.compile(optimizer='adam', loss='categorical_crossentropy', metrics=['accuracy']) # metric은 여러개를 줄 수 있음\n",
        "# 유명한 것들은 위처럼 str로 적용할 수 있지만, keras에서 import하고 객체를 생성하여 객체로 입력해야 하는 것들도 있음"
      ],
      "metadata": {
        "id": "3CjQuiCEKXhx"
      },
      "execution_count": null,
      "outputs": []
    },
    {
      "cell_type": "markdown",
      "metadata": {
        "id": "IZRqZC50ZoaE"
      },
      "source": [
        "### 문제 30. 만든 모델에 train_noisy_images를 학습시켜 보세요."
      ]
    },
    {
      "cell_type": "code",
      "metadata": {
        "id": "PtpJp3fmaRuA"
      },
      "source": [
        "# train_noisy_images를 학습시키고 5 epochs을 돌리고 그 진행 사항을 hist에 저장하는 코드를 작성하세요."
      ],
      "execution_count": null,
      "outputs": []
    },
    {
      "cell_type": "code",
      "source": [
        "hist = model.fit(train_noisy_images, train_labels, validation_data=(test_noisy_images, test_labels), epochs=5, verbose=2) # 학습은 fit, history를 반환함\n",
        "# train과 test의 loss와 accuracy 차이가 많이 나면 과적합일 수 있음."
      ],
      "metadata": {
        "id": "IVvSO17RKYXC",
        "colab": {
          "base_uri": "https://localhost:8080/"
        },
        "outputId": "27c5ea69-aa2f-42c2-e8b7-e7e71afb1bc9"
      },
      "execution_count": null,
      "outputs": [
        {
          "output_type": "stream",
          "name": "stdout",
          "text": [
            "Epoch 1/5\n",
            "1875/1875 - 14s - loss: 0.7444 - accuracy: 0.7581 - val_loss: 0.3937 - val_accuracy: 0.8779 - 14s/epoch - 8ms/step\n",
            "Epoch 2/5\n",
            "1875/1875 - 15s - loss: 0.3677 - accuracy: 0.8884 - val_loss: 0.2956 - val_accuracy: 0.9129 - 15s/epoch - 8ms/step\n",
            "Epoch 3/5\n",
            "1875/1875 - 16s - loss: 0.2991 - accuracy: 0.9117 - val_loss: 0.2490 - val_accuracy: 0.9293 - 16s/epoch - 9ms/step\n",
            "Epoch 4/5\n",
            "1875/1875 - 17s - loss: 0.2681 - accuracy: 0.9200 - val_loss: 0.2915 - val_accuracy: 0.9140 - 17s/epoch - 9ms/step\n",
            "Epoch 5/5\n",
            "1875/1875 - 14s - loss: 0.2500 - accuracy: 0.9285 - val_loss: 0.2228 - val_accuracy: 0.9333 - 14s/epoch - 8ms/step\n"
          ]
        }
      ]
    },
    {
      "cell_type": "markdown",
      "metadata": {
        "id": "hU3-Lm7Ma_97"
      },
      "source": [
        "### 문제 31. 학습 진행 사항을 plt으로 출력하세요."
      ]
    },
    {
      "cell_type": "code",
      "metadata": {
        "id": "B6pKz5o3bPIT"
      },
      "source": [
        "# hist의 accuracy plt의 plot을 이용하여 출력하는 코드를 작성하세요."
      ],
      "execution_count": null,
      "outputs": []
    },
    {
      "cell_type": "code",
      "source": [
        "hist"
      ],
      "metadata": {
        "id": "zMlfE6UJKaV2",
        "colab": {
          "base_uri": "https://localhost:8080/"
        },
        "outputId": "12895038-1fec-4d1c-8366-9a05b4a8a1d1"
      },
      "execution_count": null,
      "outputs": [
        {
          "output_type": "execute_result",
          "data": {
            "text/plain": [
              "<keras.callbacks.History at 0x7f952fbce850>"
            ]
          },
          "metadata": {},
          "execution_count": 92
        }
      ]
    },
    {
      "cell_type": "code",
      "source": [
        "hist.epoch"
      ],
      "metadata": {
        "colab": {
          "base_uri": "https://localhost:8080/"
        },
        "id": "ceIpqF8bvsu-",
        "outputId": "f6b65319-0d87-4542-9e40-01664148c03e"
      },
      "execution_count": null,
      "outputs": [
        {
          "output_type": "execute_result",
          "data": {
            "text/plain": [
              "[0, 1, 2, 3, 4]"
            ]
          },
          "metadata": {},
          "execution_count": 94
        }
      ]
    },
    {
      "cell_type": "code",
      "source": [
        "hist.history # dictionary 형식 반환"
      ],
      "metadata": {
        "colab": {
          "base_uri": "https://localhost:8080/"
        },
        "id": "aMhhbpHPvwhA",
        "outputId": "c8dd003c-a686-4c9f-cf12-5dcc911ca659"
      },
      "execution_count": null,
      "outputs": [
        {
          "output_type": "execute_result",
          "data": {
            "text/plain": [
              "{'accuracy': [0.7580666542053223,\n",
              "  0.8884166479110718,\n",
              "  0.9116666913032532,\n",
              "  0.9199833273887634,\n",
              "  0.9284999966621399],\n",
              " 'loss': [0.7443951964378357,\n",
              "  0.3677213191986084,\n",
              "  0.29908427596092224,\n",
              "  0.26805877685546875,\n",
              "  0.24998846650123596],\n",
              " 'val_accuracy': [0.8779000043869019,\n",
              "  0.9128999710083008,\n",
              "  0.9293000102043152,\n",
              "  0.9139999747276306,\n",
              "  0.9333000183105469],\n",
              " 'val_loss': [0.3936827480792999,\n",
              "  0.2955998182296753,\n",
              "  0.24899403750896454,\n",
              "  0.29146188497543335,\n",
              "  0.22280195355415344]}"
            ]
          },
          "metadata": {},
          "execution_count": 95
        }
      ]
    },
    {
      "cell_type": "code",
      "source": [
        "plt.plot(hist.history['accuracy'], label='accuracy')\n",
        "plt.plot(hist.history['loss'], label='loss')\n",
        "plt.plot(hist.history['val_accuracy'], label='val_accuracy')\n",
        "plt.plot(hist.history['val_loss'], label='val_loss')\n",
        "plt.legend(loc='upper left')\n",
        "plt.show()"
      ],
      "metadata": {
        "colab": {
          "base_uri": "https://localhost:8080/",
          "height": 265
        },
        "id": "C5Q548H1v1hY",
        "outputId": "beb55f0f-81b3-4011-daef-a91da25ee4bf"
      },
      "execution_count": null,
      "outputs": [
        {
          "output_type": "display_data",
          "data": {
            "image/png": "[encoded data removed]",
            "text/plain": [
              "<Figure size 432x288 with 1 Axes>"
            ]
          },
          "metadata": {
            "needs_background": "light"
          }
        }
      ]
    },
    {
      "cell_type": "markdown",
      "metadata": {
        "id": "bfxPsEKTrKBq"
      },
      "source": [
        "## Step 6. 결과 확인"
      ]
    },
    {
      "cell_type": "markdown",
      "metadata": {
        "id": "J6nvDS4yOSCD"
      },
      "source": [
        "### 문제 32. 완성된 모델에서 test_noisy_image를 1장 넣고 결과를 res 변수에 저정하세요."
      ]
    },
    {
      "cell_type": "code",
      "metadata": {
        "id": "uKFAu5z4QRjR"
      },
      "source": [
        "# 모델에 test_noisy_images 중 1장을 넣고 결과를 받는 코드를 작성하세요."
      ],
      "execution_count": null,
      "outputs": []
    },
    {
      "cell_type": "code",
      "source": [
        "test_noisy_images[0].shape"
      ],
      "metadata": {
        "colab": {
          "base_uri": "https://localhost:8080/"
        },
        "id": "FHXAzBpMw1xg",
        "outputId": "a71f969f-c3ee-48c9-b2af-f68dacbc62fe"
      },
      "execution_count": null,
      "outputs": [
        {
          "output_type": "execute_result",
          "data": {
            "text/plain": [
              "(28, 28)"
            ]
          },
          "metadata": {},
          "execution_count": 98
        }
      ]
    },
    {
      "cell_type": "code",
      "source": [
        "model.predict(test_noisy_images[0]) # shape이 3차원이어야 하는데, 2차원이라고 에러남"
      ],
      "metadata": {
        "id": "O6BVbyCfKbpB",
        "colab": {
          "base_uri": "https://localhost:8080/",
          "height": 731
        },
        "outputId": "c042962b-f3ae-4f25-8cc9-364e11bcc4a0"
      },
      "execution_count": null,
      "outputs": [
        {
          "output_type": "stream",
          "name": "stdout",
          "text": [
            "WARNING:tensorflow:Model was constructed with shape (None, 28, 28) for input KerasTensor(type_spec=TensorSpec(shape=(None, 28, 28), dtype=tf.float32, name='input_3'), name='input_3', description=\"created by layer 'input_3'\"), but it was called on an input with incompatible shape (None, 28).\n"
          ]
        },
        {
          "output_type": "error",
          "ename": "ValueError",
          "evalue": "ignored",
          "traceback": [
            "\u001b[0;31m---------------------------------------------------------------------------\u001b[0m",
            "\u001b[0;31mValueError\u001b[0m                                Traceback (most recent call last)",
            "\u001b[0;32m<ipython-input-99-6518290e6c21>\u001b[0m in \u001b[0;36m<module>\u001b[0;34m()\u001b[0m\n\u001b[0;32m----> 1\u001b[0;31m \u001b[0mmodel\u001b[0m\u001b[0;34m.\u001b[0m\u001b[0mpredict\u001b[0m\u001b[0;34m(\u001b[0m\u001b[0mtest_noisy_images\u001b[0m\u001b[0;34m[\u001b[0m\u001b[0;36m0\u001b[0m\u001b[0;34m]\u001b[0m\u001b[0;34m)\u001b[0m\u001b[0;34m\u001b[0m\u001b[0;34m\u001b[0m\u001b[0m\n\u001b[0m",
            "\u001b[0;32m/usr/local/lib/python3.7/dist-packages/keras/utils/traceback_utils.py\u001b[0m in \u001b[0;36merror_handler\u001b[0;34m(*args, **kwargs)\u001b[0m\n\u001b[1;32m     65\u001b[0m     \u001b[0;32mexcept\u001b[0m \u001b[0mException\u001b[0m \u001b[0;32mas\u001b[0m \u001b[0me\u001b[0m\u001b[0;34m:\u001b[0m  \u001b[0;31m# pylint: disable=broad-except\u001b[0m\u001b[0;34m\u001b[0m\u001b[0;34m\u001b[0m\u001b[0m\n\u001b[1;32m     66\u001b[0m       \u001b[0mfiltered_tb\u001b[0m \u001b[0;34m=\u001b[0m \u001b[0m_process_traceback_frames\u001b[0m\u001b[0;34m(\u001b[0m\u001b[0me\u001b[0m\u001b[0;34m.\u001b[0m\u001b[0m__traceback__\u001b[0m\u001b[0;34m)\u001b[0m\u001b[0;34m\u001b[0m\u001b[0;34m\u001b[0m\u001b[0m\n\u001b[0;32m---> 67\u001b[0;31m       \u001b[0;32mraise\u001b[0m \u001b[0me\u001b[0m\u001b[0;34m.\u001b[0m\u001b[0mwith_traceback\u001b[0m\u001b[0;34m(\u001b[0m\u001b[0mfiltered_tb\u001b[0m\u001b[0;34m)\u001b[0m \u001b[0;32mfrom\u001b[0m \u001b[0;32mNone\u001b[0m\u001b[0;34m\u001b[0m\u001b[0;34m\u001b[0m\u001b[0m\n\u001b[0m\u001b[1;32m     68\u001b[0m     \u001b[0;32mfinally\u001b[0m\u001b[0;34m:\u001b[0m\u001b[0;34m\u001b[0m\u001b[0;34m\u001b[0m\u001b[0m\n\u001b[1;32m     69\u001b[0m       \u001b[0;32mdel\u001b[0m \u001b[0mfiltered_tb\u001b[0m\u001b[0;34m\u001b[0m\u001b[0;34m\u001b[0m\u001b[0m\n",
            "\u001b[0;32m/usr/local/lib/python3.7/dist-packages/tensorflow/python/framework/func_graph.py\u001b[0m in \u001b[0;36mautograph_handler\u001b[0;34m(*args, **kwargs)\u001b[0m\n\u001b[1;32m   1127\u001b[0m           \u001b[0;32mexcept\u001b[0m \u001b[0mException\u001b[0m \u001b[0;32mas\u001b[0m \u001b[0me\u001b[0m\u001b[0;34m:\u001b[0m  \u001b[0;31m# pylint:disable=broad-except\u001b[0m\u001b[0;34m\u001b[0m\u001b[0;34m\u001b[0m\u001b[0m\n\u001b[1;32m   1128\u001b[0m             \u001b[0;32mif\u001b[0m \u001b[0mhasattr\u001b[0m\u001b[0;34m(\u001b[0m\u001b[0me\u001b[0m\u001b[0;34m,\u001b[0m \u001b[0;34m\"ag_error_metadata\"\u001b[0m\u001b[0;34m)\u001b[0m\u001b[0;34m:\u001b[0m\u001b[0;34m\u001b[0m\u001b[0;34m\u001b[0m\u001b[0m\n\u001b[0;32m-> 1129\u001b[0;31m               \u001b[0;32mraise\u001b[0m \u001b[0me\u001b[0m\u001b[0;34m.\u001b[0m\u001b[0mag_error_metadata\u001b[0m\u001b[0;34m.\u001b[0m\u001b[0mto_exception\u001b[0m\u001b[0;34m(\u001b[0m\u001b[0me\u001b[0m\u001b[0;34m)\u001b[0m\u001b[0;34m\u001b[0m\u001b[0;34m\u001b[0m\u001b[0m\n\u001b[0m\u001b[1;32m   1130\u001b[0m             \u001b[0;32melse\u001b[0m\u001b[0;34m:\u001b[0m\u001b[0;34m\u001b[0m\u001b[0;34m\u001b[0m\u001b[0m\n\u001b[1;32m   1131\u001b[0m               \u001b[0;32mraise\u001b[0m\u001b[0;34m\u001b[0m\u001b[0;34m\u001b[0m\u001b[0m\n",
            "\u001b[0;31mValueError\u001b[0m: in user code:\n\n    File \"/usr/local/lib/python3.7/dist-packages/keras/engine/training.py\", line 1621, in predict_function  *\n        return step_function(self, iterator)\n    File \"/usr/local/lib/python3.7/dist-packages/keras/engine/training.py\", line 1611, in step_function  **\n        outputs = model.distribute_strategy.run(run_step, args=(data,))\n    File \"/usr/local/lib/python3.7/dist-packages/keras/engine/training.py\", line 1604, in run_step  **\n        outputs = model.predict_step(data)\n    File \"/usr/local/lib/python3.7/dist-packages/keras/engine/training.py\", line 1572, in predict_step\n        return self(x, training=False)\n    File \"/usr/local/lib/python3.7/dist-packages/keras/utils/traceback_utils.py\", line 67, in error_handler\n        raise e.with_traceback(filtered_tb) from None\n    File \"/usr/local/lib/python3.7/dist-packages/keras/engine/input_spec.py\", line 213, in assert_input_compatibility\n        raise ValueError(f'Input {input_index} of layer \"{layer_name}\" '\n\n    ValueError: Exception encountered when calling layer \"model_1\" (type Functional).\n    \n    Input 0 of layer \"simple_rnn_2\" is incompatible with the layer: expected ndim=3, found ndim=2. Full shape received: (None, 28)\n    \n    Call arguments received:\n      • inputs=tf.Tensor(shape=(None, 28), dtype=float32)\n      • training=False\n      • mask=None\n"
          ]
        }
      ]
    },
    {
      "cell_type": "code",
      "source": [
        "model.predict(test_noisy_images[0].reshape(1, 28, 28)) # 배치가 1개 있는거니까 앞에 1을 붙여줌"
      ],
      "metadata": {
        "colab": {
          "base_uri": "https://localhost:8080/"
        },
        "id": "X5SUj9-Kw78L",
        "outputId": "8b27f9d1-aad8-413b-b584-80a03c901c55"
      },
      "execution_count": null,
      "outputs": [
        {
          "output_type": "execute_result",
          "data": {
            "text/plain": [
              "array([[1.98838370e-05, 1.06151703e-04, 7.15513772e-04, 5.79198415e-04,\n",
              "        1.24104445e-05, 2.58654763e-04, 5.37825235e-06, 9.97210681e-01,\n",
              "        1.15340037e-04, 9.76813142e-04]], dtype=float32)"
            ]
          },
          "metadata": {},
          "execution_count": 100
        }
      ]
    },
    {
      "cell_type": "code",
      "source": [
        "model.predict(np.array([test_noisy_images[0]])) # 이렇게 한겹 싸줘도 됨"
      ],
      "metadata": {
        "colab": {
          "base_uri": "https://localhost:8080/"
        },
        "id": "Kji9-q_TxFxp",
        "outputId": "29eb251e-5198-4b06-b2d0-b648784863fa"
      },
      "execution_count": null,
      "outputs": [
        {
          "output_type": "execute_result",
          "data": {
            "text/plain": [
              "array([[1.98838370e-05, 1.06151703e-04, 7.15513772e-04, 5.79198415e-04,\n",
              "        1.24104445e-05, 2.58654763e-04, 5.37825235e-06, 9.97210681e-01,\n",
              "        1.15340037e-04, 9.76813142e-04]], dtype=float32)"
            ]
          },
          "metadata": {},
          "execution_count": 101
        }
      ]
    },
    {
      "cell_type": "code",
      "source": [
        "model.predict(test_noisy_images[:1]) # 슬라이싱 이용해도 됨"
      ],
      "metadata": {
        "colab": {
          "base_uri": "https://localhost:8080/"
        },
        "id": "OVpW9QeqxUv1",
        "outputId": "fca76d2b-5327-4b43-caba-1a80ac405777"
      },
      "execution_count": null,
      "outputs": [
        {
          "output_type": "execute_result",
          "data": {
            "text/plain": [
              "array([[1.98838370e-05, 1.06151703e-04, 7.15513772e-04, 5.79198415e-04,\n",
              "        1.24104445e-05, 2.58654763e-04, 5.37825235e-06, 9.97210681e-01,\n",
              "        1.15340037e-04, 9.76813142e-04]], dtype=float32)"
            ]
          },
          "metadata": {},
          "execution_count": 102
        }
      ]
    },
    {
      "cell_type": "code",
      "source": [
        "res = model.predict(test_noisy_images[:1])\n",
        "res.shape"
      ],
      "metadata": {
        "colab": {
          "base_uri": "https://localhost:8080/"
        },
        "id": "HAykANltxhIh",
        "outputId": "4f9717af-0469-4714-fb99-6f9e8d4876d4"
      },
      "execution_count": null,
      "outputs": [
        {
          "output_type": "execute_result",
          "data": {
            "text/plain": [
              "(1, 10)"
            ]
          },
          "metadata": {},
          "execution_count": 103
        }
      ]
    },
    {
      "cell_type": "code",
      "source": [
        "res = model.predict(test_noisy_images[:2])\n",
        "res.shape"
      ],
      "metadata": {
        "colab": {
          "base_uri": "https://localhost:8080/"
        },
        "id": "VzIU2zQWxjpe",
        "outputId": "10b7e448-c689-4072-e7df-807d24029284"
      },
      "execution_count": null,
      "outputs": [
        {
          "output_type": "execute_result",
          "data": {
            "text/plain": [
              "(2, 10)"
            ]
          },
          "metadata": {},
          "execution_count": 104
        }
      ]
    },
    {
      "cell_type": "code",
      "source": [
        "res = model.predict(test_noisy_images[:1])\n",
        "res.shape"
      ],
      "metadata": {
        "colab": {
          "base_uri": "https://localhost:8080/"
        },
        "id": "P6L7yrr2xtF2",
        "outputId": "5bec3225-37b4-40c0-c8bc-ce6ba25dfd44"
      },
      "execution_count": null,
      "outputs": [
        {
          "output_type": "execute_result",
          "data": {
            "text/plain": [
              "(1, 10)"
            ]
          },
          "metadata": {},
          "execution_count": 105
        }
      ]
    },
    {
      "cell_type": "markdown",
      "metadata": {
        "id": "KMHHUTQfQcU0"
      },
      "source": [
        "### 문제 33. test_noisy_images[0], test_images[0]를 width 방향으로 결합하여 plt로 출력하세요"
      ]
    },
    {
      "cell_type": "code",
      "metadata": {
        "id": "L0t-FO9qRfoK"
      },
      "source": [
        "# test_noisy_images[0], test_images[0]를 width 방향으로 결합하여 (28, 28 * 2) 의 이미지를 만들어 plt로 출력하는 코드를 작성하세요."
      ],
      "execution_count": null,
      "outputs": []
    },
    {
      "cell_type": "code",
      "source": [
        "np.concatenate([test_noisy_images[0], test_images[0]]).shape # height 방향으로 결합"
      ],
      "metadata": {
        "id": "FoYzAJOUKcyg",
        "colab": {
          "base_uri": "https://localhost:8080/"
        },
        "outputId": "64d90048-92b2-4ef5-96e2-023bf871eadf"
      },
      "execution_count": null,
      "outputs": [
        {
          "output_type": "execute_result",
          "data": {
            "text/plain": [
              "(56, 28)"
            ]
          },
          "metadata": {},
          "execution_count": 107
        }
      ]
    },
    {
      "cell_type": "code",
      "source": [
        "np.concatenate([test_noisy_images[0], test_images[0]], axis=1).shape # \bwidth 방향으로 결합"
      ],
      "metadata": {
        "colab": {
          "base_uri": "https://localhost:8080/"
        },
        "id": "uH0u1fUGyIwz",
        "outputId": "5bf0fc1a-7222-45af-f8b0-d446d0cf764f"
      },
      "execution_count": null,
      "outputs": [
        {
          "output_type": "execute_result",
          "data": {
            "text/plain": [
              "(28, 56)"
            ]
          },
          "metadata": {},
          "execution_count": 108
        }
      ]
    },
    {
      "cell_type": "code",
      "source": [
        "plt.imshow(np.concatenate([test_noisy_images[0], test_images[0]], axis=1))\n",
        "plt.show()"
      ],
      "metadata": {
        "colab": {
          "base_uri": "https://localhost:8080/",
          "height": 216
        },
        "id": "yoqDa5ecyOfq",
        "outputId": "3e3f5a84-4b23-42c8-c02a-385b4051449e"
      },
      "execution_count": null,
      "outputs": [
        {
          "output_type": "display_data",
          "data": {
            "image/png": "[encoded data removed]",
            "text/plain": [
              "<Figure size 432x288 with 1 Axes>"
            ]
          },
          "metadata": {
            "needs_background": "light"
          }
        }
      ]
    },
    {
      "cell_type": "markdown",
      "metadata": {
        "id": "16fGMxJRwhc6"
      },
      "source": [
        "### 문제 34. res와 test_labels[0]의 결과를 plt.bar로 확인하세요."
      ]
    },
    {
      "cell_type": "code",
      "metadata": {
        "id": "oLZEQHHAwqPC"
      },
      "source": [
        "# res와 test_labels[0]의 결과를 plt.bar로 확인하세요."
      ],
      "execution_count": null,
      "outputs": []
    },
    {
      "cell_type": "code",
      "source": [
        "res # softmax의 출력값"
      ],
      "metadata": {
        "id": "6ilUl158KeCB",
        "colab": {
          "base_uri": "https://localhost:8080/"
        },
        "outputId": "95294674-d73e-42ae-a78e-0fa460e0e653"
      },
      "execution_count": null,
      "outputs": [
        {
          "output_type": "execute_result",
          "data": {
            "text/plain": [
              "array([[1.98838370e-05, 1.06151703e-04, 7.15513772e-04, 5.79198415e-04,\n",
              "        1.24104445e-05, 2.58654763e-04, 5.37825235e-06, 9.97210681e-01,\n",
              "        1.15340037e-04, 9.76813142e-04]], dtype=float32)"
            ]
          },
          "metadata": {},
          "execution_count": 113
        }
      ]
    },
    {
      "cell_type": "code",
      "source": [
        "res[0].argmax() # 가장 큰 값을 갖은 인덱스 번호를 뽑아줌"
      ],
      "metadata": {
        "colab": {
          "base_uri": "https://localhost:8080/"
        },
        "id": "cvnQ2uXCyayz",
        "outputId": "22c8998e-6c6d-4100-9807-58881a8db3d8"
      },
      "execution_count": null,
      "outputs": [
        {
          "output_type": "execute_result",
          "data": {
            "text/plain": [
              "7"
            ]
          },
          "metadata": {},
          "execution_count": 116
        }
      ]
    },
    {
      "cell_type": "code",
      "source": [
        "plt.bar(range(10), res[0])\n",
        "plt.show()"
      ],
      "metadata": {
        "colab": {
          "base_uri": "https://localhost:8080/",
          "height": 265
        },
        "id": "IuowZ59tyxwm",
        "outputId": "248fa2ce-0227-48da-bab3-90598968dcad"
      },
      "execution_count": null,
      "outputs": [
        {
          "output_type": "display_data",
          "data": {
            "image/png": "[encoded data removed]",
            "text/plain": [
              "<Figure size 432x288 with 1 Axes>"
            ]
          },
          "metadata": {
            "needs_background": "light"
          }
        }
      ]
    },
    {
      "cell_type": "code",
      "source": [
        "plt.bar(range(10), test_labels[0])\n",
        "plt.show()"
      ],
      "metadata": {
        "colab": {
          "base_uri": "https://localhost:8080/",
          "height": 265
        },
        "id": "NN5R0Wwey7xj",
        "outputId": "9a6f23a6-5be2-4ce2-bf21-c5fae0c88937"
      },
      "execution_count": null,
      "outputs": [
        {
          "output_type": "display_data",
          "data": {
            "image/png": "[encoded data removed]",
            "text/plain": [
              "<Figure size 432x288 with 1 Axes>"
            ]
          },
          "metadata": {
            "needs_background": "light"
          }
        }
      ]
    },
    {
      "cell_type": "code",
      "source": [
        "plt.bar(range(10), res[0], label='predict')\n",
        "plt.bar(np.array(range(10))+0.35, test_labels[0], label='label')\n",
        "plt.legend()\n",
        "plt.show()"
      ],
      "metadata": {
        "colab": {
          "base_uri": "https://localhost:8080/",
          "height": 265
        },
        "id": "y5U2cubbzB3A",
        "outputId": "1f4004f8-584b-432f-9903-f1955c8aa11e"
      },
      "execution_count": null,
      "outputs": [
        {
          "output_type": "display_data",
          "data": {
            "image/png": "[encoded data removed]",
            "text/plain": [
              "<Figure size 432x288 with 1 Axes>"
            ]
          },
          "metadata": {
            "needs_background": "light"
          }
        }
      ]
    },
    {
      "cell_type": "code",
      "source": [
        "# 다른 예측 결과\n",
        "res = model.predict(np.array([test_noisy_images[3]]))\n",
        "plt.bar(range(10), res[0], label='predict')\n",
        "plt.bar(np.array(range(10))+0.35, test_labels[3], label='label')\n",
        "plt.legend()\n",
        "plt.show()"
      ],
      "metadata": {
        "colab": {
          "base_uri": "https://localhost:8080/",
          "height": 265
        },
        "id": "dKrUxhnvzmey",
        "outputId": "e1495f06-350a-4887-ba8f-fd5e084ba3aa"
      },
      "execution_count": null,
      "outputs": [
        {
          "output_type": "display_data",
          "data": {
            "image/png": "[encoded data removed]",
            "text/plain": [
              "<Figure size 432x288 with 1 Axes>"
            ]
          },
          "metadata": {
            "needs_background": "light"
          }
        }
      ]
    },
    {
      "cell_type": "code",
      "source": [
        "plt.imshow(np.concatenate([test_noisy_images[3], test_images[3]], axis=1))\n",
        "plt.show()"
      ],
      "metadata": {
        "colab": {
          "base_uri": "https://localhost:8080/",
          "height": 216
        },
        "id": "4JMIzoLp0CGt",
        "outputId": "df6ff9ff-5bf4-42a1-fa0b-bbbf6a104e36"
      },
      "execution_count": null,
      "outputs": [
        {
          "output_type": "display_data",
          "data": {
            "image/png": "[encoded data removed]",
            "text/plain": [
              "<Figure size 432x288 with 1 Axes>"
            ]
          },
          "metadata": {
            "needs_background": "light"
          }
        }
      ]
    },
    {
      "cell_type": "markdown",
      "metadata": {
        "id": "7FQT89oqrdkA"
      },
      "source": [
        "## Step 7. 모델 저장 및 로드, 다운"
      ]
    },
    {
      "cell_type": "markdown",
      "metadata": {
        "id": "c2GZFvCAzFNl"
      },
      "source": [
        "### 문제 35. 모델을 저장하세요."
      ]
    },
    {
      "cell_type": "code",
      "metadata": {
        "id": "YjuCVTNbriVJ"
      },
      "source": [
        "# 모델을 저장하는 코드를 작성하세요. "
      ],
      "execution_count": null,
      "outputs": []
    },
    {
      "cell_type": "code",
      "source": [
        "# model.save_weights # 파라미터 저장\n",
        "model.save('./lecture001.h5')"
      ],
      "metadata": {
        "id": "nZezHVx8KfDk"
      },
      "execution_count": null,
      "outputs": []
    },
    {
      "cell_type": "markdown",
      "metadata": {
        "id": "Bj4P3DdzzhyC"
      },
      "source": [
        "### 문제 36. 모델 파일을 새로운 모델에 로드하세요."
      ]
    },
    {
      "cell_type": "code",
      "metadata": {
        "id": "xuRAnBR8zY-X"
      },
      "source": [
        "# 모델을 로드하는 코드를 작성하세요."
      ],
      "execution_count": null,
      "outputs": []
    },
    {
      "cell_type": "code",
      "source": [
        "new_model = tf.keras.models.load_model('./lecture001.h5')"
      ],
      "metadata": {
        "id": "dmmoItpmKf5c"
      },
      "execution_count": null,
      "outputs": []
    },
    {
      "cell_type": "markdown",
      "metadata": {
        "id": "ta1I5ZEY1FBR"
      },
      "source": [
        "### 문제 37. 로드한 모델을 test 데이터로 평가해보세요.\n"
      ]
    },
    {
      "cell_type": "code",
      "metadata": {
        "id": "ALrVf_lm0_Bc"
      },
      "source": [
        "# 로드한 모델을 test 데이터로 평가해보세요."
      ],
      "execution_count": null,
      "outputs": []
    },
    {
      "cell_type": "code",
      "source": [
        "res = new_model.predict(test_noisy_images[3:4])\n",
        "plt.bar(range(10), res[0], label='predict')\n",
        "plt.bar(np.array(range(10))+0.35, test_labels[3])\n",
        "plt.show()"
      ],
      "metadata": {
        "id": "qGdrEwLWSwAf",
        "colab": {
          "base_uri": "https://localhost:8080/",
          "height": 265
        },
        "outputId": "c713f733-e59d-4dbf-dd7c-dc4200453b92"
      },
      "execution_count": null,
      "outputs": [
        {
          "output_type": "display_data",
          "data": {
            "image/png": "[encoded data removed]",
            "text/plain": [
              "<Figure size 432x288 with 1 Axes>"
            ]
          },
          "metadata": {
            "needs_background": "light"
          }
        }
      ]
    },
    {
      "cell_type": "code",
      "source": [
        "loss, acc = model.evaluate(test_noisy_images, test_labels, verbose=2)\n",
        "print(loss, acc)"
      ],
      "metadata": {
        "colab": {
          "base_uri": "https://localhost:8080/"
        },
        "id": "7MkcP89D1h0p",
        "outputId": "59f55fe3-6888-4455-b887-8f6af915cdd0"
      },
      "execution_count": null,
      "outputs": [
        {
          "output_type": "stream",
          "name": "stdout",
          "text": [
            "313/313 - 2s - loss: 0.2228 - accuracy: 0.9333 - 2s/epoch - 6ms/step\n",
            "0.22280195355415344 0.9333000183105469\n"
          ]
        }
      ]
    },
    {
      "cell_type": "code",
      "source": [
        "loss, acc = new_model.evaluate(test_noisy_images, test_labels, verbose=2)\n",
        "print(loss, acc) # 똑같이 나오는걸 확인할 수 있음"
      ],
      "metadata": {
        "colab": {
          "base_uri": "https://localhost:8080/"
        },
        "id": "P8qYKOb81Ur0",
        "outputId": "03405dbf-ee10-44ec-aec9-a1a0f8fcf52e"
      },
      "execution_count": null,
      "outputs": [
        {
          "output_type": "stream",
          "name": "stdout",
          "text": [
            "313/313 - 2s - loss: 0.2228 - accuracy: 0.9333 - 2s/epoch - 6ms/step\n",
            "0.22280195355415344 0.9333000183105469\n"
          ]
        }
      ]
    },
    {
      "cell_type": "markdown",
      "metadata": {
        "id": "gfEgY1Vr1T1v"
      },
      "source": [
        "### 문제 38. 모델을 내 컴퓨터에 저장해보세요"
      ]
    },
    {
      "cell_type": "code",
      "metadata": {
        "id": "ASkJv_Ui1RGv"
      },
      "source": [
        "# 모델을 내 컴퓨터에 저장해보세요."
      ],
      "execution_count": null,
      "outputs": []
    },
    {
      "cell_type": "code",
      "metadata": {
        "id": "4qBQZvGj2IkF",
        "colab": {
          "base_uri": "https://localhost:8080/",
          "height": 17
        },
        "outputId": "63115b94-67cc-4402-df61-8cfea682ee39"
      },
      "source": [
        "from google.colab import files\n",
        "\n",
        "files.download('./lecture001.h5')"
      ],
      "execution_count": null,
      "outputs": [
        {
          "output_type": "display_data",
          "data": {
            "application/javascript": [
              "\n",
              "    async function download(id, filename, size) {\n",
              "      if (!google.colab.kernel.accessAllowed) {\n",
              "        return;\n",
              "      }\n",
              "      const div = document.createElement('div');\n",
              "      const label = document.createElement('label');\n",
              "      label.textContent = `Downloading \"${filename}\": `;\n",
              "      div.appendChild(label);\n",
              "      const progress = document.createElement('progress');\n",
              "      progress.max = size;\n",
              "      div.appendChild(progress);\n",
              "      document.body.appendChild(div);\n",
              "\n",
              "      const buffers = [];\n",
              "      let downloaded = 0;\n",
              "\n",
              "      const channel = await google.colab.kernel.comms.open(id);\n",
              "      // Send a message to notify the kernel that we're ready.\n",
              "      channel.send({})\n",
              "\n",
              "      for await (const message of channel.messages) {\n",
              "        // Send a message to notify the kernel that we're ready.\n",
              "        channel.send({})\n",
              "        if (message.buffers) {\n",
              "          for (const buffer of message.buffers) {\n",
              "            buffers.push(buffer);\n",
              "            downloaded += buffer.byteLength;\n",
              "            progress.value = downloaded;\n",
              "          }\n",
              "        }\n",
              "      }\n",
              "      const blob = new Blob(buffers, {type: 'application/binary'});\n",
              "      const a = document.createElement('a');\n",
              "      a.href = window.URL.createObjectURL(blob);\n",
              "      a.download = filename;\n",
              "      div.appendChild(a);\n",
              "      a.click();\n",
              "      div.remove();\n",
              "    }\n",
              "  "
            ],
            "text/plain": [
              "<IPython.core.display.Javascript object>"
            ]
          },
          "metadata": {}
        },
        {
          "output_type": "display_data",
          "data": {
            "application/javascript": [
              "download(\"download_4bd344c4-627f-4ad8-860b-fb6fcdb495aa\", \"lecture001.h5\", 110960)"
            ],
            "text/plain": [
              "<IPython.core.display.Javascript object>"
            ]
          },
          "metadata": {}
        }
      ]
    }
  ]
}