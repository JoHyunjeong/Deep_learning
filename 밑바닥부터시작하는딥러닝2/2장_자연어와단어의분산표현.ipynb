{
 "cells": [
  {
   "cell_type": "markdown",
   "id": "eab3393e",
   "metadata": {},
   "source": [
    "# CHAPTER 2 자연어와 단어의 분산 표현"
   ]
  },
  {
   "cell_type": "markdown",
   "id": "62d476a4",
   "metadata": {},
   "source": [
    "## 2.1 자연어 처리란"
   ]
  },
  {
   "cell_type": "markdown",
   "id": "1bae20ee",
   "metadata": {},
   "source": [
    "자연어(natural language) : 우리가 평소에 쓰는 말  \n",
    "자연어 처리(Natural Language Processing, NLP) : 우리의 말을 컴퓨터에게 이해시키기 위한 기술(분야)  \n",
    "  \n",
    "자연어 처리 예 :  \n",
    "검색 엔진, 기계번역, 질의응답 시스템, IME(입력기 전환), 문장 자동요약과 감정분석 등  \n",
    "우리 주변에는 이미 자연어 처리 기술이 널리 사용되고 있음"
   ]
  },
  {
   "cell_type": "markdown",
   "id": "ffed38fa",
   "metadata": {},
   "source": [
    "### 2.1.1 단어의 의미"
   ]
  },
  {
   "cell_type": "markdown",
   "id": "cd08614f",
   "metadata": {},
   "source": [
    "말의 의미는 '단어'로 구성됨  \n",
    "다시 말해, 단어는 의미의 최소 단위  \n",
    "  \n",
    "컴퓨터에게 '단어의 의미'를 이해시키기 위해 '단어의 의미'를 잘 파악하는 표현 방법  \n",
    "- 시소러스를 활용한 기법\n",
    "- 통계 기반 기법\n",
    "- 추론 기반 기법(word2vec)"
   ]
  },
  {
   "cell_type": "markdown",
   "id": "745972cd",
   "metadata": {},
   "source": [
    "## 2.2 시소러스"
   ]
  },
  {
   "cell_type": "markdown",
   "id": "656cffa6",
   "metadata": {},
   "source": [
    "시소러스 : 유의어 사전  \n",
    "'뜻이 같은 단어(동의어)'나 '뜻이 비슷한 단어(유의어)'가 한 그룹으로 분류되어 있음  \n",
    "(사람이 직접 단어의 의미를 정의하는 방식)  \n",
    "    \n",
    "<img src='./img/2/thesaurus_1.png' width=300>  \n",
    "\n",
    "또한 자연어 처리에 이용되는 시소러스는 단어 사이의 '상위와 하위' 혹은 '전체와 부분' 등의 관계를 정의함  \n",
    "위 그림의 예시처럼 각 단어의 관계를 그래프로 정의함  \n",
    "이 '단어 네트워크'를 이용하여 컴퓨터에게 단어 사이의 관계를 가르칠 수 있음"
   ]
  },
  {
   "cell_type": "markdown",
   "id": "9d1b6d68",
   "metadata": {},
   "source": [
    "### 2.2.1 WordNet"
   ]
  },
  {
   "cell_type": "markdown",
   "id": "86cc3809",
   "metadata": {},
   "source": [
    "WordNet : 프린스턴 대학교에서 1985년부터 구축한 전통 있는 시소러스  \n",
    "자연어 처리 부냥에서 가장 유명한 시소러스이며, 이를 사용하여 유의어를 얻거나 '단어 네트워크'를 이용하여 단어 사이의 유사도를 구할 수 있음  \n",
    "  \n",
    "(부록 B. WordNet 맛보기 참고)"
   ]
  },
  {
   "cell_type": "markdown",
   "id": "3318545e",
   "metadata": {},
   "source": [
    "### 2.2.2 시소러스의 문제점"
   ]
  },
  {
   "cell_type": "markdown",
   "id": "ea9f99eb",
   "metadata": {},
   "source": [
    "시소러스 방식의 대표적인 문제점들\n",
    "- 시대 변화에 대응하기 어렵다.\n",
    "    단어는 때때로 새롭게 생겨나기도 하고, 잊혀지기도 하며, 시대에 따라 언어의 의미가 변하기도 함  \n",
    "    이런 단어에 대응하려면 시소러스를 사람이 수작업으로 끊임없이 갱신해야 함\n",
    "- 시소러스를 만드는데 엄청난 인적 비용 발생\n",
    "- 단어의 미묘한 차이를 표현할 수 없다.  \n",
    "  \n",
    "위와 같이 시소러스를 사용하는 기법(단어의 의미를 사람이 정의하는 기법)에는 큰 문제들이 있어,  \n",
    "사람의 개입을 최소로 줄이고 텍스트 데이터만으로 원하는 결과를 얻어내는 방향으로 패러다임이 바뀌고 있음"
   ]
  },
  {
   "cell_type": "markdown",
   "id": "4bdc8c55",
   "metadata": {},
   "source": [
    "## 2.3 통계 기반 기법"
   ]
  },
  {
   "cell_type": "markdown",
   "id": "a16227a5",
   "metadata": {},
   "source": [
    "말뭉치(corpus) : 자연어 처리 연구나 애플리케이션을 염두에 두고 수집된 대량의 텍스트 데이터  \n",
    "  \n",
    "말뭉치에는 자연어에 대한 사람의 '지식'이 담겨 있으며,  \n",
    "통계 기반 기법의 목표는 이처럼 사람의 지식으로 가득한 말뭉치에서 자동으로, 그리고 효율적으로 그 핵심을 추출하는 것"
   ]
  },
  {
   "cell_type": "markdown",
   "id": "33ed5c8c",
   "metadata": {},
   "source": [
    "### 2.3.1 파이썬으로 말뭉치 전처리하기"
   ]
  },
  {
   "cell_type": "markdown",
   "id": "cbd63b10",
   "metadata": {},
   "source": [
    "텍스트 데이터(말뭉치) 전처리 :  \n",
    "데이터를 단어로 분할하고 그 분할된 단어들을 단어 ID 목록으로 변환"
   ]
  },
  {
   "cell_type": "code",
   "execution_count": 1,
   "id": "90fcd16b",
   "metadata": {},
   "outputs": [],
   "source": [
    "text = 'You say goodbye and I say hello.'"
   ]
  },
  {
   "cell_type": "markdown",
   "id": "ef745cfd",
   "metadata": {},
   "source": [
    "1. text를 단어 단위로 분할  \n",
    "    - lower() 메서드로 모든 문자를 소문자로 변환\n",
    "    - 마침표 앞에 공백을 삽입\n",
    "    - split() 메서드로 공백을 기준으로 분할  "
   ]
  },
  {
   "cell_type": "code",
   "execution_count": 2,
   "id": "a143f8d1",
   "metadata": {},
   "outputs": [
    {
     "data": {
      "text/plain": [
       "['you', 'say', 'goodbye', 'and', 'i', 'say', 'hello', '.']"
      ]
     },
     "execution_count": 2,
     "metadata": {},
     "output_type": "execute_result"
    }
   ],
   "source": [
    "text = text.lower()\n",
    "text = text.replace('.',' .')\n",
    "words = text.split(' ')\n",
    "words"
   ]
  },
  {
   "cell_type": "markdown",
   "id": "4b0ac189",
   "metadata": {},
   "source": [
    "2. 단어에 ID를 부여하고 단어 ID와 단어를 짝지어주는 대응표 작성"
   ]
  },
  {
   "cell_type": "code",
   "execution_count": 3,
   "id": "ad2c3114",
   "metadata": {},
   "outputs": [],
   "source": [
    "word_to_id = {} # 단어에서 단어 ID로의 변환 담당(키 : 단어, 값 : 단어 ID)\n",
    "id_to_word = {} # 단어 ID에서 단어로의 변환 담당(키 : 단어 ID, 값 : 단어)\n",
    "\n",
    "for word in words:\n",
    "    if word not in word_to_id:\n",
    "        new_id = len(word_to_id)\n",
    "        word_to_id[word] = new_id\n",
    "        id_to_word[new_id] = word"
   ]
  },
  {
   "cell_type": "code",
   "execution_count": 4,
   "id": "7b8c2e0a",
   "metadata": {},
   "outputs": [
    {
     "data": {
      "text/plain": [
       "{0: 'you', 1: 'say', 2: 'goodbye', 3: 'and', 4: 'i', 5: 'hello', 6: '.'}"
      ]
     },
     "execution_count": 4,
     "metadata": {},
     "output_type": "execute_result"
    }
   ],
   "source": [
    "id_to_word"
   ]
  },
  {
   "cell_type": "code",
   "execution_count": 5,
   "id": "787681eb",
   "metadata": {},
   "outputs": [
    {
     "data": {
      "text/plain": [
       "{'you': 0, 'say': 1, 'goodbye': 2, 'and': 3, 'i': 4, 'hello': 5, '.': 6}"
      ]
     },
     "execution_count": 5,
     "metadata": {},
     "output_type": "execute_result"
    }
   ],
   "source": [
    "word_to_id"
   ]
  },
  {
   "cell_type": "code",
   "execution_count": 6,
   "id": "e65c1753",
   "metadata": {},
   "outputs": [
    {
     "data": {
      "text/plain": [
       "'say'"
      ]
     },
     "execution_count": 6,
     "metadata": {},
     "output_type": "execute_result"
    }
   ],
   "source": [
    "id_to_word[1]"
   ]
  },
  {
   "cell_type": "code",
   "execution_count": 7,
   "id": "80acaa0e",
   "metadata": {},
   "outputs": [
    {
     "data": {
      "text/plain": [
       "5"
      ]
     },
     "execution_count": 7,
     "metadata": {},
     "output_type": "execute_result"
    }
   ],
   "source": [
    "word_to_id['hello']"
   ]
  },
  {
   "cell_type": "markdown",
   "id": "7e45ed5d",
   "metadata": {},
   "source": [
    "3. '단어 목록'을 '단어 ID 목록'으로 변경"
   ]
  },
  {
   "cell_type": "code",
   "execution_count": 8,
   "id": "a754493f",
   "metadata": {},
   "outputs": [
    {
     "data": {
      "text/plain": [
       "array([0, 1, 2, 3, 4, 1, 5, 6])"
      ]
     },
     "execution_count": 8,
     "metadata": {},
     "output_type": "execute_result"
    }
   ],
   "source": [
    "import numpy as np\n",
    "corpus = [word_to_id[w] for w in words]\n",
    "corpus = np.array(corpus)\n",
    "corpus"
   ]
  },
  {
   "cell_type": "code",
   "execution_count": 9,
   "id": "a5589827",
   "metadata": {},
   "outputs": [],
   "source": [
    "# 정리\n",
    "\n",
    "def preprocess(text):\n",
    "    text = text.lower()\n",
    "    text = text.replace('.', ' .')\n",
    "    words = text.split(' ')\n",
    "    \n",
    "    word_to_id = {}\n",
    "    id_to_word = {}\n",
    "    for word in words:\n",
    "        if word not in word_to_id:\n",
    "            new_id = len(word_to_id)\n",
    "            word_to_id[word] = new_id\n",
    "            id_to_word[new_id] = word\n",
    "            \n",
    "    corpus = np.array([word_to_id[w] for w in words])\n",
    "    \n",
    "    return corpus, word_to_id, id_to_word"
   ]
  },
  {
   "cell_type": "code",
   "execution_count": 10,
   "id": "77f3c1e6",
   "metadata": {},
   "outputs": [],
   "source": [
    "text = 'You say goodbye and I say hello.'\n",
    "corpus, word_to_id, id_to_word = preprocess(text)"
   ]
  },
  {
   "cell_type": "markdown",
   "id": "f1b249d1",
   "metadata": {},
   "source": [
    "### 2.3.2 단어의 분산 표현"
   ]
  },
  {
   "cell_type": "markdown",
   "id": "ba4a1acf",
   "metadata": {},
   "source": [
    "색(color)의 경우,  \n",
    "'코발트블루'나 '싱크레드' 같은 고유한 이름으로 표현할 수 있고,  \n",
    "RGB(Red/Green/Blue)라는 세 가지 성분이 어떤 비율로 섞여 있는지 3차원 벡터로 표현할 수도 있음  \n",
    "둘 중 RGB 같은 벡터 표현이 색을 더 정확하게 명시할 수 있음  \n",
    "또한, 색끼리의 관련성(비슷한 색인지 여부 등)도 벡터 표현이 더 쉽게 판단할 수 있고, 정량화하기도 쉬움  \n",
    "  \n",
    "이처럼 단어도 벡터로 표현하는 것,  \n",
    "즉, '단어의 의미'를 정확하게 파악할 수 있는 벡터 표현을 단어의 __분산 표현(distributional representation)__이라고 함  \n",
    "  \n",
    "\\* 단어의 분산표현은 단어를 고정 길이의 밀집벡터(dense vector)로 표현함  \n",
    "밀집벡터는 대부분의 원소가 0이 아닌 실수인 벡터를 말함"
   ]
  },
  {
   "cell_type": "markdown",
   "id": "d250e2d0",
   "metadata": {},
   "source": [
    "### 2.3.3 분포 가설"
   ]
  },
  {
   "cell_type": "markdown",
   "id": "a74794ff",
   "metadata": {},
   "source": [
    "__분포 가설(distributional hypothesis)__ : '단어의 의미는 주변 단어에 의해 형성된다'  \n",
    "단어 자체에는 의미가 없고, 그 단어가 사용된 '맥락(context)'이 의미를 형성한다.  \n",
    "  \n",
    "여기서, '맥락'이란 특정 단어를 중심에 둔 그 주변 단어를 말함  \n",
    "맥락의 크기(주변 단어를 몇 개나 포함할지)는 '윈도우 크기(window size)'라고 함"
   ]
  },
  {
   "cell_type": "markdown",
   "id": "7463cb30",
   "metadata": {},
   "source": [
    "ex) 윈도우 크기가 2인 '맥락'의 예  \n",
    "'goodbye'에 주목한다면, 그 좌우의 두 단어(총 네 단어)를 맥락으로 이용함"
   ]
  },
  {
   "cell_type": "markdown",
   "id": "2379b885",
   "metadata": {},
   "source": [
    "<img src='./img/2/context_1.png' width=300>"
   ]
  },
  {
   "cell_type": "markdown",
   "id": "02515107",
   "metadata": {},
   "source": [
    "### 2.3.4 동시발생 행렬"
   ]
  },
  {
   "cell_type": "markdown",
   "id": "33d4bc1a",
   "metadata": {},
   "source": [
    "분포 가설에 기초해 단어를 벡터로 나타내는 방법  \n",
    "  \n",
    "  \n",
    "통계기반(statistical based) 기법 : 어떤 단어에 주목했을 때, 그 주변에 어떤 단어가 몇 번이나 등장하는지를 세어 집계하는 방법"
   ]
  },
  {
   "cell_type": "code",
   "execution_count": 11,
   "id": "ebb7a70b",
   "metadata": {},
   "outputs": [
    {
     "name": "stdout",
     "output_type": "stream",
     "text": [
      "[0 1 2 3 4 1 5 6]\n"
     ]
    }
   ],
   "source": [
    "import numpy as np\n",
    "text = 'You say goodbye and I say hello.'\n",
    "corpus, word_to_id, id_to_word = preprocess(text)\n",
    "\n",
    "print(corpus)"
   ]
  },
  {
   "cell_type": "code",
   "execution_count": 12,
   "id": "c27f53ee",
   "metadata": {},
   "outputs": [
    {
     "name": "stdout",
     "output_type": "stream",
     "text": [
      "{0: 'you', 1: 'say', 2: 'goodbye', 3: 'and', 4: 'i', 5: 'hello', 6: '.'}\n"
     ]
    }
   ],
   "source": [
    "print(id_to_word)"
   ]
  },
  {
   "cell_type": "markdown",
   "id": "88af3b33",
   "metadata": {},
   "source": [
    "* 단어 ID가 0인 'you'의 맥락에 포함되는 단어의 빈도표  \n",
    "  \n",
    "<img src='./img/2/context_2.png' width=500>  \n",
    "  \n",
    "이를 바탕으로 'you'라는 단어를 [0,1,0,0,0,0,0]이라는 벡터로 표현할 수 있다.  \n",
    "  \n",
    "* 단어 ID가 1인 'say'의 맥락에 포함되는 단어의 빈도표  \n",
    "  \n",
    "<img src='./img/2/context_3.png' width=500>  \n",
    "  \n",
    "* 모든 단어에 대해 동시발생하는 단어  \n",
    "  \n",
    "<img src='./img/2/context_4.png' width=500>  \n",
    "  \n",
    "위 표의 각 행은 해당 단어를 표현한 벡터가 됨  \n",
    "이 표가 행렬의 형태를 띤다는 뜻에서 __동시발생 행렬(co-occurrence matrix)__라고 함"
   ]
  },
  {
   "cell_type": "code",
   "execution_count": 13,
   "id": "25cbbd62",
   "metadata": {},
   "outputs": [],
   "source": [
    "# 동시발생 행렬\n",
    "C = np.array([\n",
    "    [0,1,0,0,0,0,0],\n",
    "    [1,0,1,0,1,1,0],\n",
    "    [0,1,0,1,0,0,0],\n",
    "    [0,0,1,0,1,0,0],\n",
    "    [0,1,0,1,0,0,0],\n",
    "    [0,1,0,0,0,0,1],\n",
    "    [0,0,0,0,0,1,0]\n",
    "], dtype=np.int32)"
   ]
  },
  {
   "cell_type": "code",
   "execution_count": 14,
   "id": "bfd5baf9",
   "metadata": {},
   "outputs": [
    {
     "name": "stdout",
     "output_type": "stream",
     "text": [
      "[0 1 0 0 0 0 0]\n",
      "[0 1 0 1 0 0 0]\n",
      "[0 1 0 1 0 0 0]\n"
     ]
    }
   ],
   "source": [
    "print(C[0]) # ID가 0인 단어의 벡터 표현\n",
    "print(C[4]) # ID가 4인 단어의 벡터 표현\n",
    "print(C[word_to_id['goodbye']]) # 'goodbye'의 벡터 표현"
   ]
  },
  {
   "cell_type": "markdown",
   "id": "94214443",
   "metadata": {},
   "source": [
    "이처럼 동시발생 행렬을 활용하면 단어를 벡터로 나타낼 수 있음"
   ]
  },
  {
   "cell_type": "code",
   "execution_count": 15,
   "id": "4f3d0c41",
   "metadata": {},
   "outputs": [],
   "source": [
    "# 말뭉치로부터 동시발생 행렬을 만들어주는 함수 구현\n",
    "\n",
    "def create_co_matrix(corpus, vocab_size, window_size=1):\n",
    "    corpus_size = len(corpus)\n",
    "    co_matrix = np.zeros((vocab_size, vocab_size), dtype=np.int32)\n",
    "    \n",
    "    for idx, word_id in enumerate(corpus):\n",
    "        for i in range(1, window_size+1):\n",
    "            left_idx = idx - i\n",
    "            right_idx = idx + i\n",
    "            \n",
    "            if left_idx >= 0:\n",
    "                left_word_id = corpus[left_idx]\n",
    "                co_matrix[word_id, left_word_id] += 1\n",
    "\n",
    "            if right_idx < corpus_size:\n",
    "                right_word_id = corpus[right_idx]\n",
    "                co_matrix[word_id, right_word_id] += 1\n",
    "\n",
    "    return co_matrix"
   ]
  },
  {
   "cell_type": "code",
   "execution_count": 16,
   "id": "558b6970",
   "metadata": {},
   "outputs": [
    {
     "data": {
      "text/plain": [
       "array([[0, 1, 0, 0, 0, 0, 0],\n",
       "       [1, 0, 1, 0, 1, 1, 0],\n",
       "       [0, 1, 0, 1, 0, 0, 0],\n",
       "       [0, 0, 1, 0, 1, 0, 0],\n",
       "       [0, 1, 0, 1, 0, 0, 0],\n",
       "       [0, 1, 0, 0, 0, 0, 1],\n",
       "       [0, 0, 0, 0, 0, 1, 0]], dtype=int32)"
      ]
     },
     "execution_count": 16,
     "metadata": {},
     "output_type": "execute_result"
    }
   ],
   "source": [
    "create_co_matrix(corpus, vocab_size=7)"
   ]
  },
  {
   "cell_type": "markdown",
   "id": "54a17ae2",
   "metadata": {},
   "source": [
    "### 2.3.5 벡터 간 유사도"
   ]
  },
  {
   "cell_type": "markdown",
   "id": "b080ca1b",
   "metadata": {},
   "source": [
    "단어 벡터의 유사도를 나타낼 때는 __코사인 유사도(cosine similarity)__를 자주 이용  \n",
    "  \n",
    "ex) 두 벡터 $x=(x_1, x_2, \\cdots, x_n)$과 $y=(y_1, y_2, \\cdots, y_n)$가 있다면, 코사인 유사도는 다음과 같음  \n",
    "  \n",
    "$similarity(x,y)=\\frac{x\\cdot y}{\\parallel x\\parallel\\parallel y\\parallel}$  \n",
    "  \n",
    "분자는 벡터의 내적, 분모는 각 벡터의 노름(norm)임, 벡터를 정규화하고 내적을 구함  \n",
    "노름은 벡터의 크기를 나타낸 것으로, 여기선 'L2 노름(벡터의 각 원소를 제곱해 더한 후 다시 제곱근을 구해 계산)'을 계산함   \n",
    "  \n",
    "코사인 유사도는 두 벡터가 가리키는 방향이 얼마나 비슷한가를 의미  \n",
    "두 벡터의 방향이 완전히 같다면 코사인 유사도가 1이 되며, 완전히 반대라면 -1이 됨"
   ]
  },
  {
   "cell_type": "code",
   "execution_count": 17,
   "id": "06ad8e27",
   "metadata": {},
   "outputs": [],
   "source": [
    "def cos_similarity(x, y):\n",
    "    nx = x / np.sqrt(np.sum(x**2)) # x의 정규화\n",
    "    ny = y / np.sqrt(np.sum(y**2)) # y의 정규화\n",
    "    return np.dot(nx, ny)"
   ]
  },
  {
   "cell_type": "markdown",
   "id": "0796e562",
   "metadata": {},
   "source": [
    "위 구현은 인수로 제로 벡터(원소가 모두 0인 벡터)가 들어오면 'divide by zero' 오류가 발생함  \n",
    "이 문제를 해결하기 위해 분모에 작은 값인 eps(epsilon)을 더해줌"
   ]
  },
  {
   "cell_type": "code",
   "execution_count": 18,
   "id": "205ba85e",
   "metadata": {},
   "outputs": [],
   "source": [
    "# 코사인 유사도 구현\n",
    "def cos_similarity(x, y, eps=1e-8):\n",
    "    nx = x / (np.sqrt(np.sum(x**2)) + eps) # x의 정규화\n",
    "    ny = y / (np.sqrt(np.sum(y**2)) + eps) # y의 정규화\n",
    "    return np.dot(nx, ny)"
   ]
  },
  {
   "cell_type": "code",
   "execution_count": 19,
   "id": "345a08ab",
   "metadata": {},
   "outputs": [
    {
     "name": "stdout",
     "output_type": "stream",
     "text": [
      "0.7071067691154799\n"
     ]
    }
   ],
   "source": [
    "# 'you'와 'i'의 유사도 구하기\n",
    "text = 'You say goodbye and I say hello.'\n",
    "corpus, word_to_id, id_to_word = preprocess(text)\n",
    "vocab_size = len(word_to_id)\n",
    "C = create_co_matrix(corpus, vocab_size)\n",
    "\n",
    "c0 = C[word_to_id['you']] # 'you'의 단어 벡터\n",
    "c1 = C[word_to_id['i']] # 'i'의 단어 벡터\n",
    "print(cos_similarity(c0, c1)) # 코사인 유사도"
   ]
  },
  {
   "cell_type": "markdown",
   "id": "79694d45",
   "metadata": {},
   "source": [
    "### 2.3.6 유사 단어의 랭킹 표시"
   ]
  },
  {
   "cell_type": "markdown",
   "id": "42cf741d",
   "metadata": {},
   "source": [
    "검색어가 주어지면, 그 검색어와 비슷한 단어를 유사도 순으로 출력하는 함수(most_similar()) 구현  \n",
    "  \n",
    "most_similar() 함수의 인수\n",
    "- query : 검색어(단어)\n",
    "- word_to_id : 단어에서 단어 ID로의 딕셔너리\n",
    "- id_to_word : 단어 ID에서 단어로의 딕셔너리\n",
    "- word_matrix : 단어 벡터들을 한데 모은 행렬\n",
    "- top : 상위 몇 개까지 출력할지 설정"
   ]
  },
  {
   "cell_type": "code",
   "execution_count": 20,
   "id": "bfca1874",
   "metadata": {},
   "outputs": [],
   "source": [
    "def most_similar(query, word_to_id, id_to_word, word_matrix, top=5):\n",
    "    # 1. 검색어를 꺼냄\n",
    "    if query not in word_to_id:\n",
    "        print('%s(을)를 찾을 수 없습니다.' % query)\n",
    "        return\n",
    "    \n",
    "    print('\\n[query]'+query)\n",
    "    query_id = word_to_id[query]\n",
    "    query_vec = word_matrix[query_id]\n",
    "    \n",
    "    # 2. 코사이 유사도 계산\n",
    "    vocab_size = len(id_to_word)\n",
    "    similarity = np.zeros(vocab_size)\n",
    "    for i in range(vocab_size):\n",
    "        similarity[i] = cos_similarity(word_matrix[i], query_vec)\n",
    "        \n",
    "    # 3. 코사인 유사도를 기준으로 내림차순으로 출력\n",
    "    count = 0\n",
    "    for i in (-1 * similarity).argsort(): # argsort() 배열의 원소를 오름차순 정렬 후 인덱스를 반환\n",
    "        if id_to_word[i] == query:\n",
    "            continue\n",
    "        print(' %s: %s' % (id_to_word[i], similarity[i]))\n",
    "        \n",
    "        count += 1\n",
    "        if count >= top:\n",
    "            return"
   ]
  },
  {
   "cell_type": "code",
   "execution_count": 21,
   "id": "4a473a2a",
   "metadata": {},
   "outputs": [
    {
     "name": "stdout",
     "output_type": "stream",
     "text": [
      "\n",
      "[query]you\n",
      " goodbye: 0.7071067691154799\n",
      " i: 0.7071067691154799\n",
      " hello: 0.7071067691154799\n",
      " say: 0.0\n",
      " and: 0.0\n"
     ]
    }
   ],
   "source": [
    "# 'you'를 검색어로 지정해 유사한 단어 출력\n",
    "\n",
    "text = 'You say goodbye and I say hello.'\n",
    "corpus, word_to_id, id_to_word = preprocess(text)\n",
    "vocab_size = len(word_to_id)\n",
    "C = create_co_matrix(corpus, vocab_size)\n",
    "\n",
    "most_similar('you', word_to_id, id_to_word, C, top=5)"
   ]
  },
  {
   "cell_type": "markdown",
   "id": "d65d77cd",
   "metadata": {},
   "source": [
    "말뭉치의 크기가 너무 작아 결과가 썩 좋지는 않음🙄"
   ]
  },
  {
   "cell_type": "markdown",
   "id": "ae3f101f",
   "metadata": {},
   "source": [
    "## 2.4 통계 기반 기법 개선하기"
   ]
  },
  {
   "cell_type": "markdown",
   "id": "099f48d5",
   "metadata": {},
   "source": [
    "### 2.4.1 상호정보량"
   ]
  },
  {
   "cell_type": "markdown",
   "id": "e9a0522c",
   "metadata": {},
   "source": [
    "동시발생 행렬의 원소는 두 단어가 동시에 발생한 횟수를 나타냄  \n",
    "  \n",
    "하지만 예를 들어 'car'이라는 단어는,  \n",
    "'the'라는 단어가 더 관련이 깊은 'drive'라는 단어보다 동시발생 횟수가 많을 수 있음  \n",
    "이런 경우, 단순히 등장 횟수만을 보면 'car'는 'drive'보다 'the'와의 관련성이 훨씬 강하다고 나오게 됨  \n",
    "'the'가 고빈도 단어라서 'car'와 강한 관련성을 갖는다고 잘못 평가될 수 있음  \n",
    "  \n",
    "따라서, __점별 상호정보량(Pointwise Mutual Information, PMI)__라는 척도를 사용함  \n",
    "  \n",
    "PMI는 확률 변수 x와 y에 대해 다음 식으로 정의  \n",
    "  \n",
    "$PMI(x,y)=log_2frac{P(x,y)}{P(x)P(y)}$  \n",
    "  \n",
    "- P(x) : x가 일어날 확률\n",
    "- P(y) : y가 일어날 확률\n",
    "- P(x,y) : x와 y가 동시에 일어날 확률  \n",
    "  \n",
    "PMI 값은 높을수록 관련성이 높다는 의미  \n",
    "  \n",
    "  \n",
    "동시발생 행렬(각 원소는 동시발생한 단어의 횟수)을 사용하여 PMI를 구하면,  \n",
    "  \n",
    "$PMI(x,y)=log_2\\frac{P(x,y)}{P(x)P(y)}=log_2\\frac{\\frac{C(x,y)}{N}}{\\frac{C(x)}{N}\\frac{C(y)}{N}}=log_2\\frac{C(x,y)\\cdot N}{C(x)C(y)}$  \n",
    "  \n",
    "- C(x), C(y) : 각각 단어 x, y의 등장 횟수\n",
    "- C(x,y) : 단어 x와 y가 동시발생하는 횟수  \n",
    "  \n",
    "위와 같이 동시발생 행렬로부터 PMI를 구할 수 있음  \n",
    "단어가 단독으로 출현하는 횟수를 고려함  \n",
    "  \n",
    "하지만, 두 단어의 동시발생 횟수가 0이면 $log_20=-\\infty$가 됨  \n",
    "이 문제를 해결하기 위해 실제 구현할 때는 __양의 상호정보량(Positive PMI, PPMI)__를 사용함  \n",
    "  \n",
    "$PPMI(x,y)=max(0,PMI(x,y))$  \n",
    "  \n",
    "PMI가 음수일 때는 0으로 취급  \n",
    "단어 사이의 관련성을 0이상의 실수로 나타냄."
   ]
  },
  {
   "cell_type": "code",
   "execution_count": 22,
   "id": "c1b4525c",
   "metadata": {},
   "outputs": [],
   "source": [
    "def ppmi(C, verbose=False, eps=1e-8):\n",
    "    M = np.zeros_like(C, dtype=np.float32)\n",
    "    N = np.sum(C)\n",
    "    S = np.sum(C, axis=0)\n",
    "    total = C.shape[0] * C.shape[1]\n",
    "    cnt = 0\n",
    "    \n",
    "    for i in range(C.shape[0]):\n",
    "        for j in range(C.shape[1]):\n",
    "            pmi = np.log2(C[i,j] * N / (S[j] * S[i]) + eps)\n",
    "            M[i,j] = max(0, pmi)\n",
    "            \n",
    "            if verbose:\n",
    "                cnt += 1\n",
    "                if cnt % (total//100) == 0:\n",
    "                    print('%.1f%% 완료' % (100*cnt/total))\n",
    "        \n",
    "    return M"
   ]
  },
  {
   "cell_type": "code",
   "execution_count": 23,
   "id": "d512e007",
   "metadata": {},
   "outputs": [
    {
     "name": "stdout",
     "output_type": "stream",
     "text": [
      "동시발생 행렬\n",
      "[[0 1 0 0 0 0 0]\n",
      " [1 0 1 0 1 1 0]\n",
      " [0 1 0 1 0 0 0]\n",
      " [0 0 1 0 1 0 0]\n",
      " [0 1 0 1 0 0 0]\n",
      " [0 1 0 0 0 0 1]\n",
      " [0 0 0 0 0 1 0]]\n",
      "--------------------------------------------------\n",
      "PPMI\n",
      "[[0.    1.807 0.    0.    0.    0.    0.   ]\n",
      " [1.807 0.    0.807 0.    0.807 0.807 0.   ]\n",
      " [0.    0.807 0.    1.807 0.    0.    0.   ]\n",
      " [0.    0.    1.807 0.    1.807 0.    0.   ]\n",
      " [0.    0.807 0.    1.807 0.    0.    0.   ]\n",
      " [0.    0.807 0.    0.    0.    0.    2.807]\n",
      " [0.    0.    0.    0.    0.    2.807 0.   ]]\n"
     ]
    }
   ],
   "source": [
    "import numpy as np\n",
    "\n",
    "text = 'You say goodbye and I say hello.'\n",
    "corpus, word_to_id, id_to_word = preprocess(text)\n",
    "vocab_size = len(word_to_id)\n",
    "C = create_co_matrix(corpus, vocab_size)\n",
    "W = ppmi(C)\n",
    "\n",
    "np.set_printoptions(precision=3) # 유효 자릿수를 세 자리로 표시\n",
    "print('동시발생 행렬')\n",
    "print(C)\n",
    "print('-'*50)\n",
    "print('PPMI')\n",
    "print(W)"
   ]
  },
  {
   "cell_type": "markdown",
   "id": "90ade0a2",
   "metadata": {},
   "source": [
    "PPMI 행렬의 각 원소는 0 이상의 실수임  \n",
    "  \n",
    "PPMI의 단점  \n",
    "- 말뭉치의 어휘 수가 증가함에 따라 각 단어 벡터의 차원수도 증가  \n",
    "- 행렬의 원소 대부분이 0\n",
    "    각 원소의 '중요도'가 낮음  \n",
    "    이런 벡터는 노이즈에 약하고 견고하지 못함  \n",
    "  \n",
    "이를 해결하는 기법은 벡터의 '차원 감소'"
   ]
  },
  {
   "cell_type": "markdown",
   "id": "0bff3d70",
   "metadata": {},
   "source": [
    "### 2.4.2 차원 감소"
   ]
  },
  {
   "cell_type": "markdown",
   "id": "af7d4468",
   "metadata": {},
   "source": [
    "차원 감소(dimensionality reduction) : 벡터의 차원을 '중요한 정보'는 최대한 유지하면서 줄이는 방법  \n",
    "  \n",
    "<img src='./img/2/SVD_1.png' width=500>"
   ]
  },
  {
   "cell_type": "markdown",
   "id": "be62622a",
   "metadata": {},
   "source": [
    "차원 감소는 데이터의 분포를 고려해 중요한 '축'을 찾는 일을 수행함  \n",
    "  \n",
    "왼쪽 그림은 데이터점들을 2차원 좌표에 표시한 모습이고, 오른쪽 그림은 새로운 축을 도입하여 똑같은 데이터를 좌표축 하나만으로 표시한 모습\n",
    "오른쪽 그림처럼 새로운 축을 찾을 때는 데이터가 넓게 분포되도록 고려해야 함  \n",
    "각 데이터 점의 값은 새로운 축으로 사영된 값으로 변함  \n",
    "\n",
    "여기서 중요한 것은 1차원 값만으로 데이터의 본질적인 차이를 구별할 수 있어야 함  \n",
    "  \n",
    "차원을 감소시키는 방법 중 __특잇값분해(Singular Value Decomposition, SVD)__는 임의의 행렬을 세 행렬의 곱으로 분해하며, 수식은 다음과 같다.  \n",
    "  \n",
    "$X=USV^T$  \n",
    "  \n",
    "위 식과 같이 SVD는 임의의 행렬 X를 U, S, V라는 세 행렬의 곱으로 분해함  \n",
    "  \n",
    "  \n",
    "<img src='./img/2/SVD_2.png' width=500>  \n",
    "  \n",
    "여기서, __U__와 __V__는 직교행렬(orthogonal matrix)이고, 그 열벡터는 서로 직교함  \n",
    "__U__는 어떠한 공간의 축(기저)를 형성하며, '단어 공간'으로 취급할 수 있음  \n",
    "  \n",
    "__S__는 대각행렬(diagonal matrix, 대각성분 외에는 모두 0인 행렬)로, 그 대각성분에는 '특잇값(singular value)'이 큰 순서로 나열되어 있음  \n",
    "특잇값이란 '해당 축'의 중요도라고 간주할 수 있음  \n",
    "따라서, 행렬 S에서 특잇값이 작다면 중요도가 낮다는 뜻으로, 행렬 __U__에서 여분의 열벡터를 깎아내어 원래의 행렬을 근사할 수 있음  \n",
    "  \n",
    "<img src='./img/2/SVD_3.png' width=500>  \n",
    "  \n",
    "단어의 PPMI 행렬에 이를 적용하면,  \n",
    "행렬 X의 각 행에는 해당 단어 ID의 단어 벡터가 저장되고,  \n",
    "그 단어 벡터가 행렬 __U'__라는 차원 감소된 벡터로 표현됨"
   ]
  },
  {
   "cell_type": "markdown",
   "id": "e340ed6d",
   "metadata": {},
   "source": [
    "< 참고 >  \n",
    "  \n",
    "- 단위 행렬(Identity Matrix)  \n",
    "    단위 행렬은 주 대각선의 원소가 모두 1이며 나머지 원소는 모두 0인 정사각행렬  \n",
    "    보통 줄여서 대문자 I로 표현하기도 함  \n",
    "  \n",
    "$2\\times 2$ 단위행렬 $I=\\begin{pmatrix}1 & 0 \\\\ 0 & 1 \\end{pmatrix}$  \n",
    "  \n",
    "$3\\times 3$ 단위행렬 $I=\\begin{pmatrix}1 & 0 & 0 \\\\ 0 & 1 & 0 \\\\ 0 & 0 & 1 \\end{pmatrix}$  \n",
    "  \n",
    "  \n",
    "- 역행렬(Inverse Matrix)  \n",
    "    행렬 A와 행렬 B를 곱한 결과로 단위 행렬이 나온다면, 행렬 B를 행렬 A의 역행렬이라고 하며 $A-1$라고 표현함  \n",
    "    \n",
    "    \n",
    "- 직교 행렬(Orthogonal Matrix)  \n",
    "    $A\\times A^T=I$와 $A^T\\times A=I$를 만족하는 행렬 A를 직교 행렬이라고 함"
   ]
  },
  {
   "cell_type": "markdown",
   "id": "d0d38fc7",
   "metadata": {},
   "source": [
    "### 2.4.3 SVD에 의한 차원 감소"
   ]
  },
  {
   "cell_type": "code",
   "execution_count": 24,
   "id": "ab0d9b54",
   "metadata": {},
   "outputs": [],
   "source": [
    "import numpy as np\n",
    "import matplotlib.pyplot as plt\n",
    "\n",
    "text = 'You say goodbye and I say hello.'\n",
    "corpus, word_to_id, id_to_word = preprocess(text)\n",
    "vocab_size = len(word_to_id)\n",
    "C = create_co_matrix(corpus, vocab_size)\n",
    "W = ppmi(C)\n",
    "\n",
    "# SVD\n",
    "U, S, V = np.linalg.svd(W) # linalg : 선형대수(linear algebra)의 약어"
   ]
  },
  {
   "cell_type": "markdown",
   "id": "6efa1aa8",
   "metadata": {},
   "source": [
    "SVD에 의해 변환된 밀집벡터 표현은 변수 U에 저장됨"
   ]
  },
  {
   "cell_type": "code",
   "execution_count": 25,
   "id": "ece25f96",
   "metadata": {
    "scrolled": true
   },
   "outputs": [
    {
     "name": "stdout",
     "output_type": "stream",
     "text": [
      "[0 1 0 0 0 0 0]\n",
      "[0.    1.807 0.    0.    0.    0.    0.   ]\n",
      "[ 3.409e-01 -1.110e-16 -3.886e-16 -1.205e-01 -9.323e-01  0.000e+00\n",
      " -1.800e-16]\n"
     ]
    }
   ],
   "source": [
    "print(C[0]) # 동시발생 행렬\n",
    "print(W[0]) # PPMI 행렬\n",
    "print(U[0]) # SVD"
   ]
  },
  {
   "cell_type": "markdown",
   "id": "d8818682",
   "metadata": {},
   "source": [
    "위 밀집벡터의 차원을 감소시키려면,  \n",
    "ex) 2차원 벡터로 줄이려면 처음 두 원소를 꺼내면 됨"
   ]
  },
  {
   "cell_type": "code",
   "execution_count": 26,
   "id": "b031ed21",
   "metadata": {},
   "outputs": [
    {
     "name": "stdout",
     "output_type": "stream",
     "text": [
      "[ 3.409e-01 -1.110e-16]\n"
     ]
    }
   ],
   "source": [
    "print(U[0,:2])"
   ]
  },
  {
   "cell_type": "code",
   "execution_count": 27,
   "id": "e9e85837",
   "metadata": {},
   "outputs": [
    {
     "data": {
      "image/png": "[encoded data removed]",
      "text/plain": [
       "<Figure size 432x288 with 1 Axes>"
      ]
     },
     "metadata": {
      "needs_background": "light"
     },
     "output_type": "display_data"
    }
   ],
   "source": [
    "# 시각화\n",
    "for word, word_id in word_to_id.items():\n",
    "    plt.annotate(word, (U[word_id, 0], U[word_id, 1]))\n",
    "    \n",
    "plt.scatter(U[:,0], U[:,1], alpha=0.5)\n",
    "plt.show()"
   ]
  },
  {
   "cell_type": "markdown",
   "id": "d3aaa925",
   "metadata": {},
   "source": [
    "\\* 행렬의 크기가 N이면 SVD 계산은 $N^3$이 걸림(계산량이 N의 세제곱에 비례해 늘어남)  \n",
    "이는 현실적으로 감당하기 어려운 수준이므로, 특잇값이 작은 것은 버리는 방식인 Truncated SVD 같은 더 빠른 기법을 이용함"
   ]
  },
  {
   "cell_type": "markdown",
   "id": "39b433f1",
   "metadata": {},
   "source": [
    "### 2.4.4 PTB 데이터셋"
   ]
  },
  {
   "cell_type": "markdown",
   "id": "ebe34b73",
   "metadata": {},
   "source": [
    "펜 트리뱅크(Penn Treebank, PTB) 데이터셋  \n",
    "PTB 말뭉치는 word2vec의 발명자인 토마스 미콜로프의 웹 페이지에서 받을 수 있음  \n",
    "  \n",
    "이 예시에서 사용하는 PTB 데이터셋은 희소 단어를 <unk>로 대체 등의 몇 가지 전처리를 이미 해놓은 데이터셋"
   ]
  },
  {
   "cell_type": "code",
   "execution_count": 28,
   "id": "9c02df48",
   "metadata": {},
   "outputs": [
    {
     "name": "stdout",
     "output_type": "stream",
     "text": [
      "말뭉치 크기: 929589\n",
      "corpus[:30]: [ 0  1  2  3  4  5  6  7  8  9 10 11 12 13 14 15 16 17 18 19 20 21 22 23\n",
      " 24 25 26 27 28 29]\n",
      "\n",
      "id_to_word[0]: aer\n",
      "id_to_word[1]: banknote\n",
      "id_to_word[2]: berlitz\n",
      "\n",
      "word_to_id[\"car\"]: 3856\n",
      "word_to_id[\"happy\"]: 4428\n",
      "word_to_id[\"lexus\"]: 7426\n"
     ]
    }
   ],
   "source": [
    "from dataset import ptb\n",
    "\n",
    "corpus, word_to_id, id_to_word = ptb.load_data('train')\n",
    "\n",
    "print('말뭉치 크기:', len(corpus))\n",
    "print('corpus[:30]:', corpus[:30])\n",
    "print()\n",
    "print('id_to_word[0]:', id_to_word[0])\n",
    "print('id_to_word[1]:', id_to_word[1])\n",
    "print('id_to_word[2]:', id_to_word[2])\n",
    "print()\n",
    "print('word_to_id[\"car\"]:', word_to_id[\"car\"])\n",
    "print('word_to_id[\"happy\"]:', word_to_id[\"happy\"])\n",
    "print('word_to_id[\"lexus\"]:', word_to_id[\"lexus\"])"
   ]
  },
  {
   "cell_type": "markdown",
   "id": "57f133a5",
   "metadata": {},
   "source": [
    "### 2.4.5 PTB 데이터셋 평가"
   ]
  },
  {
   "cell_type": "markdown",
   "id": "7a9ec8ae",
   "metadata": {},
   "source": [
    "PTB 데이터셋에 통계 기반 기법을 적용  \n",
    "  \n",
    "구현 순서\n",
    "1. 말뭉치를 사용해 맥락에 속한 단어의 등장 횟수를 센 후(동시발생 행렬)\n",
    "2. PPMI 행렬로 변환하고,  \n",
    "3. SVD를 이용해 차원을 감소시킨 후  \n",
    "4. 유사도를 구함"
   ]
  },
  {
   "cell_type": "code",
   "execution_count": 29,
   "id": "fb5054c4",
   "metadata": {
    "scrolled": false
   },
   "outputs": [
    {
     "name": "stdout",
     "output_type": "stream",
     "text": [
      "동시발생 수 계산 ...\n",
      "PPMI 계산 ...\n",
      "1.0% 완료\n",
      "2.0% 완료\n",
      "3.0% 완료\n",
      "4.0% 완료\n",
      "5.0% 완료\n",
      "6.0% 완료\n",
      "7.0% 완료\n",
      "8.0% 완료\n",
      "9.0% 완료\n",
      "10.0% 완료\n",
      "11.0% 완료\n",
      "12.0% 완료\n",
      "13.0% 완료\n",
      "14.0% 완료\n",
      "15.0% 완료\n",
      "16.0% 완료\n",
      "17.0% 완료\n",
      "18.0% 완료\n",
      "19.0% 완료\n",
      "20.0% 완료\n",
      "21.0% 완료\n",
      "22.0% 완료\n",
      "23.0% 완료\n",
      "24.0% 완료\n",
      "25.0% 완료\n",
      "26.0% 완료\n",
      "27.0% 완료\n",
      "28.0% 완료\n",
      "29.0% 완료\n",
      "30.0% 완료\n",
      "31.0% 완료\n",
      "32.0% 완료\n",
      "33.0% 완료\n",
      "34.0% 완료\n",
      "35.0% 완료\n",
      "36.0% 완료\n",
      "37.0% 완료\n",
      "38.0% 완료\n",
      "39.0% 완료\n",
      "40.0% 완료\n",
      "41.0% 완료\n",
      "42.0% 완료\n",
      "43.0% 완료\n",
      "44.0% 완료\n",
      "45.0% 완료\n",
      "46.0% 완료\n",
      "47.0% 완료\n",
      "48.0% 완료\n",
      "49.0% 완료\n",
      "50.0% 완료\n",
      "51.0% 완료\n",
      "52.0% 완료\n",
      "53.0% 완료\n",
      "54.0% 완료\n",
      "55.0% 완료\n",
      "56.0% 완료\n",
      "57.0% 완료\n",
      "58.0% 완료\n",
      "59.0% 완료\n",
      "60.0% 완료\n",
      "61.0% 완료\n",
      "62.0% 완료\n",
      "63.0% 완료\n",
      "64.0% 완료\n",
      "65.0% 완료\n",
      "66.0% 완료\n",
      "67.0% 완료\n",
      "68.0% 완료\n",
      "69.0% 완료\n",
      "70.0% 완료\n",
      "71.0% 완료\n",
      "72.0% 완료\n",
      "73.0% 완료\n",
      "74.0% 완료\n",
      "75.0% 완료\n",
      "76.0% 완료\n",
      "77.0% 완료\n",
      "78.0% 완료\n",
      "79.0% 완료\n",
      "80.0% 완료\n",
      "81.0% 완료\n",
      "82.0% 완료\n",
      "83.0% 완료\n",
      "84.0% 완료\n",
      "85.0% 완료\n",
      "86.0% 완료\n",
      "87.0% 완료\n",
      "88.0% 완료\n",
      "89.0% 완료\n",
      "90.0% 완료\n",
      "91.0% 완료\n",
      "92.0% 완료\n",
      "93.0% 완료\n",
      "94.0% 완료\n",
      "95.0% 완료\n",
      "96.0% 완료\n",
      "97.0% 완료\n",
      "98.0% 완료\n",
      "99.0% 완료\n",
      "100.0% 완료\n",
      "SVD 계산 ...\n",
      "\n",
      "[query]you\n",
      " i: 0.6573092937469482\n",
      " we: 0.6389300227165222\n",
      " someone: 0.569678544998169\n",
      " anybody: 0.545972466468811\n",
      " 'd: 0.5178483724594116\n",
      "\n",
      "[query]year\n",
      " month: 0.6372184753417969\n",
      " earlier: 0.6324924826622009\n",
      " quarter: 0.6277488470077515\n",
      " next: 0.6012689471244812\n",
      " fiscal: 0.5877509713172913\n",
      "\n",
      "[query]car\n",
      " luxury: 0.6379781365394592\n",
      " auto: 0.5579196214675903\n",
      " cars: 0.4968171715736389\n",
      " corsica: 0.48965680599212646\n",
      " domestic: 0.48958897590637207\n",
      "\n",
      "[query]toyota\n",
      " motor: 0.7290909290313721\n",
      " nissan: 0.6547606587409973\n",
      " lexus: 0.6426247358322144\n",
      " motors: 0.6294800639152527\n",
      " honda: 0.6288073658943176\n"
     ]
    }
   ],
   "source": [
    "import numpy as np\n",
    "from dataset import ptb\n",
    "\n",
    "window_size = 2\n",
    "wordvec_size = 100\n",
    "\n",
    "corpus, word_to_id, id_to_word = ptb.load_data('train')\n",
    "vocab_size = len(word_to_id)\n",
    "print('동시발생 수 계산 ...')\n",
    "C = create_co_matrix(corpus, vocab_size, window_size)\n",
    "print('PPMI 계산 ...')\n",
    "W = ppmi(C, verbose=True)\n",
    "\n",
    "print('SVD 계산 ...')\n",
    "try:\n",
    "    # truncated SVD\n",
    "    from sklearn.utils.extmath import randomized_svd\n",
    "    U, S, V = randomized_svd(W, n_components=wordvec_size, n_iter=5,\n",
    "                            random_state=None)\n",
    "    \n",
    "except ImportError:\n",
    "    # SVD\n",
    "    U, S, V = np.linalg.svd(W)\n",
    "    \n",
    "word_vecs = U[:, :wordvec_size]\n",
    "\n",
    "querys = ['you', 'year', 'car', 'toyota']\n",
    "for query in querys:\n",
    "    most_similar(query, word_to_id, id_to_word, word_vecs, top=5)"
   ]
  },
  {
   "cell_type": "markdown",
   "id": "600722d2",
   "metadata": {},
   "source": [
    "단어의 의미 혹은 문법적인 관점에서 비슷한 단어들이 가까운 벡터로 나타났음  "
   ]
  },
  {
   "cell_type": "markdown",
   "id": "5ffeb9e0",
   "metadata": {},
   "source": [
    "-----------\n",
    "# APPENDIX B WordNet 맛보기"
   ]
  },
  {
   "cell_type": "markdown",
   "id": "3c585402",
   "metadata": {},
   "source": [
    "## B.1 NLTK 설치"
   ]
  },
  {
   "cell_type": "markdown",
   "id": "579e518e",
   "metadata": {},
   "source": [
    "파이썬에서 WordNet을 이용하려면 NLTK(Natural Language Toolkit) 라이브러리를 사용"
   ]
  },
  {
   "cell_type": "code",
   "execution_count": 30,
   "id": "6d451c74",
   "metadata": {},
   "outputs": [
    {
     "name": "stdout",
     "output_type": "stream",
     "text": [
      "Requirement already satisfied: nltk in /Users/hyunjeongjo/opt/anaconda3/lib/python3.8/site-packages (3.6.7)\r\n",
      "Requirement already satisfied: joblib in /Users/hyunjeongjo/opt/anaconda3/lib/python3.8/site-packages (from nltk) (1.1.0)\r\n",
      "Requirement already satisfied: tqdm in /Users/hyunjeongjo/opt/anaconda3/lib/python3.8/site-packages (from nltk) (4.62.3)\r\n",
      "Requirement already satisfied: regex>=2021.8.3 in /Users/hyunjeongjo/opt/anaconda3/lib/python3.8/site-packages (from nltk) (2021.11.10)\r\n",
      "Requirement already satisfied: click in /Users/hyunjeongjo/opt/anaconda3/lib/python3.8/site-packages (from nltk) (8.0.3)\r\n"
     ]
    }
   ],
   "source": [
    "# NLTK 설치\n",
    "!pip install nltk"
   ]
  },
  {
   "cell_type": "code",
   "execution_count": 31,
   "id": "ee1b5fd9",
   "metadata": {},
   "outputs": [],
   "source": [
    "import nltk"
   ]
  },
  {
   "cell_type": "markdown",
   "id": "7e935a47",
   "metadata": {},
   "source": [
    "## B.2 WordNet에서 동의어 얻기"
   ]
  },
  {
   "cell_type": "code",
   "execution_count": 32,
   "id": "b22ee649",
   "metadata": {},
   "outputs": [],
   "source": [
    "# wordnet 모듈 가져오기\n",
    "from nltk.corpus import wordnet"
   ]
  },
  {
   "cell_type": "code",
   "execution_count": 33,
   "id": "7e47f045",
   "metadata": {},
   "outputs": [
    {
     "name": "stderr",
     "output_type": "stream",
     "text": [
      "[nltk_data] Downloading package wordnet to\n",
      "[nltk_data]     /Users/hyunjeongjo/nltk_data...\n",
      "[nltk_data]   Package wordnet is already up-to-date!\n"
     ]
    },
    {
     "data": {
      "text/plain": [
       "True"
      ]
     },
     "execution_count": 33,
     "metadata": {},
     "output_type": "execute_result"
    }
   ],
   "source": [
    "nltk.download('wordnet')"
   ]
  },
  {
   "cell_type": "code",
   "execution_count": 34,
   "id": "ec48833b",
   "metadata": {},
   "outputs": [
    {
     "name": "stderr",
     "output_type": "stream",
     "text": [
      "[nltk_data] Downloading package omw-1.4 to\n",
      "[nltk_data]     /Users/hyunjeongjo/nltk_data...\n",
      "[nltk_data]   Package omw-1.4 is already up-to-date!\n"
     ]
    },
    {
     "data": {
      "text/plain": [
       "True"
      ]
     },
     "execution_count": 34,
     "metadata": {},
     "output_type": "execute_result"
    }
   ],
   "source": [
    "nltk.download('omw-1.4')"
   ]
  },
  {
   "cell_type": "markdown",
   "id": "b2231048",
   "metadata": {},
   "source": [
    "WordNet에는 각 단어가 synset이라는 동의어 그룹으로 분류되어 있음  \n",
    "  \n",
    "단어는 여러가지 의미가 존재할 수 있으므로, 동의어를 얻으려면 어느 의미에 해당하는지 명시해야 함"
   ]
  },
  {
   "cell_type": "markdown",
   "id": "58bce286",
   "metadata": {},
   "source": [
    "WordNet은 점(.)으로 구분된 3개의 원소로 이뤄진 표제어를 사용  \n",
    "  \n",
    "<img src='./img/2/wordnet_1.png' width=250>"
   ]
  },
  {
   "cell_type": "code",
   "execution_count": 35,
   "id": "70e60e08",
   "metadata": {},
   "outputs": [
    {
     "data": {
      "text/plain": [
       "[Synset('car.n.01'),\n",
       " Synset('car.n.02'),\n",
       " Synset('car.n.03'),\n",
       " Synset('car.n.04'),\n",
       " Synset('cable_car.n.01')]"
      ]
     },
     "execution_count": 35,
     "metadata": {},
     "output_type": "execute_result"
    }
   ],
   "source": [
    "# 'car'의 동의어\n",
    "wordnet.synsets('car')"
   ]
  },
  {
   "cell_type": "markdown",
   "id": "b8b2e82e",
   "metadata": {},
   "source": [
    "$\\rightarrow$ 'car'라는 단어에는 5개의 서로 다른 동의어 그룹이 정의되어 있음"
   ]
  },
  {
   "cell_type": "code",
   "execution_count": 36,
   "id": "a8f2efb0",
   "metadata": {},
   "outputs": [
    {
     "data": {
      "text/plain": [
       "'a motor vehicle with four wheels; usually propelled by an internal combustion engine'"
      ]
     },
     "execution_count": 36,
     "metadata": {},
     "output_type": "execute_result"
    }
   ],
   "source": [
    "# 'car.n.01'이 가리키는 동의어의 의미 확인\n",
    "car = wordnet.synset('car.n.01')\n",
    "car.definition()"
   ]
  },
  {
   "cell_type": "markdown",
   "id": "6dbe8adb",
   "metadata": {},
   "source": [
    "※ definition() 메서드는 주로 컴퓨터가 아닌 사람이 그 단어를 이해하고 싶을 때 이용"
   ]
  },
  {
   "cell_type": "code",
   "execution_count": 37,
   "id": "c6c8d16c",
   "metadata": {
    "scrolled": true
   },
   "outputs": [
    {
     "data": {
      "text/plain": [
       "['car', 'auto', 'automobile', 'machine', 'motorcar']"
      ]
     },
     "execution_count": 37,
     "metadata": {},
     "output_type": "execute_result"
    }
   ],
   "source": [
    "# 'car.n.01' 동의어 그룹에 있는 단어들 확인\n",
    "car.lemma_names()"
   ]
  },
  {
   "cell_type": "markdown",
   "id": "a7d690b4",
   "metadata": {},
   "source": [
    "## B.3 WordNet과 단어 네트워크"
   ]
  },
  {
   "cell_type": "code",
   "execution_count": 38,
   "id": "4803afd6",
   "metadata": {
    "scrolled": true
   },
   "outputs": [
    {
     "data": {
      "text/plain": [
       "[Synset('entity.n.01'),\n",
       " Synset('physical_entity.n.01'),\n",
       " Synset('object.n.01'),\n",
       " Synset('whole.n.02'),\n",
       " Synset('artifact.n.01'),\n",
       " Synset('instrumentality.n.03'),\n",
       " Synset('container.n.01'),\n",
       " Synset('wheeled_vehicle.n.01'),\n",
       " Synset('self-propelled_vehicle.n.01'),\n",
       " Synset('motor_vehicle.n.01'),\n",
       " Synset('car.n.01')]"
      ]
     },
     "execution_count": 38,
     "metadata": {},
     "output_type": "execute_result"
    }
   ],
   "source": [
    "# 'car.n.01'과 다른 단어와의 의미적인 상⋅하 관계 확인\n",
    "car.hypernym_paths()[0]"
   ]
  },
  {
   "cell_type": "markdown",
   "id": "66f4423d",
   "metadata": {},
   "source": [
    "hypernym : 주로 언어학에서 사용하는 단어로 '상위어(어떤 말보다 일반적이고 포괄적인 뜻이 있는 말)'라는 뜻  "
   ]
  },
  {
   "cell_type": "markdown",
   "id": "ae2ca7ba",
   "metadata": {},
   "source": [
    "WordNet을 구성하는 단어 네트워크는 위로 갈수록 추상적이고, 아래로 갈수록 구체적이 되도록 단어가 배치되어 있음"
   ]
  },
  {
   "cell_type": "markdown",
   "id": "4243f039",
   "metadata": {},
   "source": [
    "## B.4 WordNet을 사용한 의미 유사도"
   ]
  },
  {
   "cell_type": "markdown",
   "id": "9263cfc7",
   "metadata": {},
   "source": [
    "단어 사이의 유사도는 path_similarity() 메서드로 구함  \n",
    "단어 사이의 유사도를 0~1 범위의 실수로 반환(높을수록 비슷함)"
   ]
  },
  {
   "cell_type": "code",
   "execution_count": 39,
   "id": "07e1f3ce",
   "metadata": {},
   "outputs": [
    {
     "data": {
      "text/plain": [
       "0.05555555555555555"
      ]
     },
     "execution_count": 39,
     "metadata": {},
     "output_type": "execute_result"
    }
   ],
   "source": [
    "# 'car' 단어와 'novel', 'dog', 'motorcycle' 비교\n",
    "car = wordnet.synset('car.n.01')\n",
    "novel = wordnet.synset('novel.n.01')\n",
    "dog = wordnet.synset('dog.n.01')\n",
    "motorcycle = wordnet.synset('motorcycle.n.01')\n",
    "\n",
    "car.path_similarity(novel)"
   ]
  },
  {
   "cell_type": "code",
   "execution_count": 40,
   "id": "2edbe487",
   "metadata": {},
   "outputs": [
    {
     "data": {
      "text/plain": [
       "0.07692307692307693"
      ]
     },
     "execution_count": 40,
     "metadata": {},
     "output_type": "execute_result"
    }
   ],
   "source": [
    "car.path_similarity(dog)"
   ]
  },
  {
   "cell_type": "code",
   "execution_count": 41,
   "id": "e58d0b0d",
   "metadata": {},
   "outputs": [
    {
     "data": {
      "text/plain": [
       "0.3333333333333333"
      ]
     },
     "execution_count": 41,
     "metadata": {},
     "output_type": "execute_result"
    }
   ],
   "source": [
    "car.path_similarity(motorcycle)"
   ]
  },
  {
   "cell_type": "markdown",
   "id": "a34f7100",
   "metadata": {},
   "source": [
    "<img src='./img/2/wordnet_2.png' width=400>  \n",
    "<center>점선은 사이에 여러 단어가 존재함을 표현</center>"
   ]
  },
  {
   "cell_type": "markdown",
   "id": "2775311e",
   "metadata": {},
   "source": [
    "path_similarity() 메서드는 위 그림과 같이 단어 네트워크의 공통 경로를 바탕으로 단어 사이의 유사성을 계산  \n",
    "  \n",
    "이처럼 시소러스는 컴퓨터에 '단어의 의미'를 간접적으로 알려줄 수 있음"
   ]
  }
 ],
 "metadata": {
  "kernelspec": {
   "display_name": "Python 3 (ipykernel)",
   "language": "python",
   "name": "python3"
  },
  "language_info": {
   "codemirror_mode": {
    "name": "ipython",
    "version": 3
   },
   "file_extension": ".py",
   "mimetype": "text/x-python",
   "name": "python",
   "nbconvert_exporter": "python",
   "pygments_lexer": "ipython3",
   "version": "3.8.8"
  }
 },
 "nbformat": 4,
 "nbformat_minor": 5
}
