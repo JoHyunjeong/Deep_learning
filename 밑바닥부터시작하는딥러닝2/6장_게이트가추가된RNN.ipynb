{
 "cells": [
  {
   "cell_type": "markdown",
   "id": "4819dfb5",
   "metadata": {},
   "source": [
    "# CHAPTER 6 게이트가 추가된 RNN"
   ]
  },
  {
   "cell_type": "markdown",
   "id": "12ee8f72",
   "metadata": {},
   "source": [
    "5장에서 본 RNN은 순환 경로를 포함하여 과거의 정보를 기억할 수 있으며, 구조가 단순하여 구현도 쉬움  \n",
    "하지만 시계열 데이터에서 시간적으로 멀리 떨어진, 장기 의존 관계를 잘 학습할 수 없다는 단점이 있음  \n",
    "  \n",
    "LSTM이나 GRU에는 '게이트'라는 구조가 더해져서 장기 의존 관계를 학습할 수 있음"
   ]
  },
  {
   "cell_type": "markdown",
   "id": "82680968",
   "metadata": {},
   "source": [
    "## 6.1 RNN의 문제점"
   ]
  },
  {
   "cell_type": "markdown",
   "id": "ba188145",
   "metadata": {},
   "source": [
    "RNN은 BPTT에서 기울기 소실 혹은 기울기 폭발이 일어나기 때문에 시계열 데이터의 장기 의존 관계를 학습하기 어려움  "
   ]
  },
  {
   "cell_type": "markdown",
   "id": "909af69e",
   "metadata": {},
   "source": [
    "### 6.1.1 RNN 복습"
   ]
  },
  {
   "cell_type": "markdown",
   "id": "d8443fa6",
   "metadata": {},
   "source": [
    "<img src='./img/6/RNN_1.png' width=500>  "
   ]
  },
  {
   "cell_type": "markdown",
   "id": "67ac4c90",
   "metadata": {},
   "source": [
    "<img src='./img/6/RNN_1.png' width=500>  \n",
    "  \n",
    "RNN 계층은 시계열 데이터인 $x_t$를 입력하면 $h_t$를 출력함  \n",
    "$h_t$는 RNN 계층의 은닉상태라고 하여, 과거 정보를 저장함  \n",
    "이를 이용하여 과거 정보를 계승할 수 있음  \n",
    "  \n",
    "<img src='./img/6/RNN_2.png' width=500>  \n",
    "  \n",
    "RNN 계층의 순전파 계산그래프는 위의 그림과 같다.  \n",
    "행렬의 곱과 합, 활성화 함수인 tanh 함수에 의한 변환으로 구성됨"
   ]
  },
  {
   "cell_type": "markdown",
   "id": "6e02d480",
   "metadata": {},
   "source": [
    "### 6.1.2 기울기 소실 또는 기울기 폭발"
   ]
  },
  {
   "cell_type": "markdown",
   "id": "bf7b62c1",
   "metadata": {},
   "source": [
    "언어 모델은 주어진 단어들을 기초로 다음에 출현할 단어를 예측하는 일을 함  \n",
    "  \n",
    "RNN 계층이 과거 방향으로 '의미 있는 기울기'를 전달함으로써 시간 방향의 의존 관계를 학습할 수 있음  \n",
    "기울기는 원래대로라면 학습해야 할 의미가 있는 정보가 들어 있고, 그것을 과거로 전달함으로써 장기 의존 관계를 학습함  \n",
    "  \n",
    "하지만 기존에 다뤘던 RNN 계층은 시간을 거슬러 올라갈수록 기울기가 작아지거나(기울기 소실) 혹은 커지는(기울기 폭발) 문제가 발생함"
   ]
  },
  {
   "cell_type": "markdown",
   "id": "5acb4a74",
   "metadata": {},
   "source": [
    "### 6.1.3 기울기 소실과 기울기 폭발의 원인"
   ]
  },
  {
   "cell_type": "markdown",
   "id": "07e3f3f6",
   "metadata": {},
   "source": [
    "<기존 RNN의 역전파 계산그래프>  \n",
    "  \n",
    "<img src='./img/6/RNN_3.png' width=500>  \n",
    "  \n",
    "기존 RNN에서 역전파로 전해지는 기울기는 차례로 'tanh', '+', 'MatMul(행렬 곱)' 연산을 통과함  \n",
    "  \n",
    "여기서, tanh 함수의 그래프를 그려보면 아래와 같다. "
   ]
  },
  {
   "cell_type": "code",
   "execution_count": 1,
   "id": "8e92a40d",
   "metadata": {},
   "outputs": [
    {
     "data": {
      "text/plain": [
       "<matplotlib.legend.Legend at 0x7fecc1c49970>"
      ]
     },
     "execution_count": 1,
     "metadata": {},
     "output_type": "execute_result"
    },
    {
     "data": {
      "image/png": "[encoded data removed]",
      "text/plain": [
       "<Figure size 432x288 with 1 Axes>"
      ]
     },
     "metadata": {
      "needs_background": "light"
     },
     "output_type": "display_data"
    }
   ],
   "source": [
    "import matplotlib.pyplot as plt\n",
    "import numpy as np\n",
    "\n",
    "x = np.arange(-5,5,0.1)\n",
    "y = np.tanh(x)\n",
    "partial_y = 1-y**2\n",
    "\n",
    "plt.plot(x,y,label='tanh(x)')\n",
    "plt.plot(x,partial_y,'--',label='dy/dx',color='skyblue')\n",
    "plt.legend()"
   ]
  },
  {
   "cell_type": "markdown",
   "id": "0a5c1e1b",
   "metadata": {},
   "source": [
    "y = tanh(x)의 미분값은 1.0 이하며, x가 0에서 멀어질수록 작아짐  \n",
    "따라서, 역전파에서 기울기가 tanh 노드를 지날 때마다 값이 계속 작아짐  \n",
    "  \n",
    "-------\n",
    "< 참고 >  \n",
    "  \n",
    "RNN 계층의 활성화 함수로는 주로 tanh 함수를 사용하는데, 이를 ReLU로 바꾸면 기울기 소실을 줄일 수 있음. ReLU는 입력 x가 0 이상이면 역전파 시 상류의 기울기를 그대로 하류에 흘려보내기 때문에 기울기가 작아지지 않음   \n",
    "\n",
    "-------\n",
    "  \n",
    "MatMul(행렬 곱) 노드의 역전파는 상류로부터 흘러온 기울기 dh와 $W_h^T$ 행렬 곱으로 기울기를 계산함  \n",
    "행렬 곱셈에서는 매번 똑같은 가중치를 사용하므로 같은 계산을 시계열 데이터의 시간 크기만큼 반복하게 됨  \n",
    "  \n",
    "MatMul 노드에서 일어나는 기울기의 변화는 아래 두 예시에서 확인할 수 있다."
   ]
  },
  {
   "cell_type": "code",
   "execution_count": 2,
   "id": "0f074007",
   "metadata": {},
   "outputs": [
    {
     "data": {
      "text/plain": [
       "Text(0, 0.5, 'norm')"
      ]
     },
     "execution_count": 2,
     "metadata": {},
     "output_type": "execute_result"
    },
    {
     "data": {
      "image/png": "[encoded data removed]",
      "text/plain": [
       "<Figure size 432x288 with 1 Axes>"
      ]
     },
     "metadata": {
      "needs_background": "light"
     },
     "output_type": "display_data"
    }
   ],
   "source": [
    "# 예시 1\n",
    "\n",
    "N = 2 # 미니배치 크기\n",
    "H = 3 # 은닉 상태 벡터의 차원 수\n",
    "T = 20 # 시계열 데이터의 길이\n",
    "\n",
    "dh = np.ones((N, H))\n",
    "np.random.seed(3) # 재현할 수 있도록 난수의 시드 고정\n",
    "Wh = np.random.randn(H, H)\n",
    "\n",
    "norm_list = []\n",
    "for t in range(T):\n",
    "    dh = np.matmul(dh, Wh.T)\n",
    "    norm = np.sqrt(np.sum(dh**2)) / N # L2 norm\n",
    "    norm_list.append(norm)\n",
    "    \n",
    "plt.plot(np.arange(20), norm_list)\n",
    "plt.xlabel('time step'); plt.ylabel('norm')"
   ]
  },
  {
   "cell_type": "markdown",
   "id": "b9f94265",
   "metadata": {},
   "source": [
    "기울기의 크기가 시간에 비례해 지수적으로 증가함  \n",
    "이 것을 기울기 폭발(exploding gradients)라고 함  "
   ]
  },
  {
   "cell_type": "code",
   "execution_count": 3,
   "id": "1972b2de",
   "metadata": {},
   "outputs": [
    {
     "data": {
      "text/plain": [
       "Text(0, 0.5, 'norm')"
      ]
     },
     "execution_count": 3,
     "metadata": {},
     "output_type": "execute_result"
    },
    {
     "data": {
      "image/png": "[encoded data removed]",
      "text/plain": [
       "<Figure size 432x288 with 1 Axes>"
      ]
     },
     "metadata": {
      "needs_background": "light"
     },
     "output_type": "display_data"
    }
   ],
   "source": [
    "# 예시 2(초깃값 변경)\n",
    "\n",
    "N = 2\n",
    "H = 3 \n",
    "T = 20\n",
    "\n",
    "dh = np.ones((N, H))\n",
    "np.random.seed(3)\n",
    "# Wh = np.random.randn(H, H) # 기존\n",
    "Wh = np.random.randn(H,H) * 0.5\n",
    "\n",
    "norm_list = []\n",
    "for t in range(T):\n",
    "    dh = np.matmul(dh, Wh.T)\n",
    "    norm = np.sqrt(np.sum(dh**2)) / N \n",
    "    norm_list.append(norm)\n",
    "    \n",
    "plt.plot(np.arange(20), norm_list)\n",
    "plt.xlabel('time step'); plt.ylabel('norm')"
   ]
  },
  {
   "cell_type": "markdown",
   "id": "a318236a",
   "metadata": {},
   "source": [
    "$W_h$의 초깃값을 변경한 위 실험에서는 기울기가 지수적으로 감소함  \n",
    "이건 기울기 소실(vanishing gradients)라고 함  \n",
    "이런 경우, 기울기가 일정 수준 이하로 작아지면 가중치 매개변수가 더 이상 갱신되지 않으므로, 장기 의존 관계를 학습할 수 없음  \n",
    "  \n",
    "즉, $W_h$를 T번 반복해서 곱했기 때문에 지수적으로 증가하거나 감소하게 됨  \n",
    "($W_h$가 행렬인 경우 특잇값의 최댓값이 1보다 크면 지수적으로 증가, 1보다 작으면 지수적으로 감소할 가능성이 높음)"
   ]
  },
  {
   "cell_type": "markdown",
   "id": "7380e025",
   "metadata": {},
   "source": [
    "### 6.1.4 기울기 폭발 대책"
   ]
  },
  {
   "cell_type": "markdown",
   "id": "86a1f544",
   "metadata": {},
   "source": [
    "__기울기 클리핑(gradients clipping)__  \n",
    "  \n",
    "기울기 폭발의 대책으로 전통적인 기법으로 알고리즘을 의사 코드로 쓰면 다음과 같음  \n",
    "  \n",
    "if   $\\parallel\\hat g\\parallel \\geq threshold:\n",
    "\\hat g=\\frac{threshold}{\\parallel\\hat g\\parallel}\\hat g$  \n",
    "  \n",
    "- $\\hat g$ : 신경망에서 사용되는 모든 매개변수의 기울기를 하나로 모은 것  \n",
    "- treshold : 문턱값\n",
    "- $\\parallel\\hat g\\parallel$ : 기울기의 L2 노름  \n",
    "  \n",
    "기울기의 L2노름이 문턱값 이상이면 위 식과 같이 기울기를 수정함  "
   ]
  },
  {
   "cell_type": "code",
   "execution_count": 4,
   "id": "ec55bf33",
   "metadata": {},
   "outputs": [],
   "source": [
    "import numpy as np\n",
    "\n",
    "dW1 = np.random.rand(3,3) * 10\n",
    "dW2 = np.random.rand(3,3) * 10\n",
    "grads = [dW1, dW2] # 기울기를 하나로 모음\n",
    "max_norm = 5.0 # threshold\n",
    "\n",
    "def clip_grads(grads, max_norm):\n",
    "    total_norm = 0\n",
    "    for grad in grads:\n",
    "        total_norm += np.sum(grad ** 2)\n",
    "    total_norm = np.sqrt(total_norm)\n",
    "    \n",
    "    rate = max_norm / (total_norm + 1e-6)\n",
    "    if rate < 1:\n",
    "        for grad in grads:\n",
    "            grad *= rate"
   ]
  },
  {
   "cell_type": "markdown",
   "id": "f07748aa",
   "metadata": {},
   "source": [
    "## 6.2 기울기 소실과 LSTM"
   ]
  },
  {
   "cell_type": "markdown",
   "id": "56d1be31",
   "metadata": {},
   "source": [
    "게이트를 추가하여 기울기 소실 문제를 개선함  \n",
    "게이트가 추가된 RNN의 대표격 모델로는 LSTM과 GRU가 있음  \n",
    "  \n",
    "-----  \n",
    "  \n",
    "<img src='./img/6/node.png' width=700>  \n",
    "  \n",
    "이번 절에서는 가독성을 고려해 계산그래프를 단순화하여 그림  \n",
    "ex) 위의 예시. $tanh(h_{t-1}W_h+x_tW_x+b)$라는 계산을 tanh라는 직사각형 하나로 그림"
   ]
  },
  {
   "cell_type": "markdown",
   "id": "aea95ee0",
   "metadata": {},
   "source": [
    "### 6.2.1 LSTM의 인터페이스"
   ]
  },
  {
   "cell_type": "markdown",
   "id": "72effe19",
   "metadata": {},
   "source": [
    "<img src='./img/6/LSTM_1.png' width=500>"
   ]
  },
  {
   "cell_type": "markdown",
   "id": "47544c52",
   "metadata": {},
   "source": [
    "위 그림과 같이 LSTM 계층의 인터페이스에는 c라는 경로가 있음  \n",
    "c를 기억 셀(memory cell) 혹은 단순히 셀이라고 하며, LSTM 전용의 기억 메커니즘임  \n",
    "  \n",
    "기억 셀은 데이터를 LSTM 계층 내에서만 주고 받음(다른 계층으로는 출력되지 않음)  "
   ]
  },
  {
   "cell_type": "markdown",
   "id": "e585c045",
   "metadata": {},
   "source": [
    "### 6.2.2 LSTM 계층 조립하기"
   ]
  },
  {
   "cell_type": "markdown",
   "id": "dc0128ff",
   "metadata": {},
   "source": [
    "<img src='./img/6/LSTM_gate_1.png' width=400>  \n",
    "  \n",
    "기억 셀 $c_t$에는 과거로부터 시각 t까지에 필요한 모든 기억(정보)이 저장되어 있음  \n",
    "이 기억을 바탕으로 외부 계층과 다음 시각의 LSTM에 은닉 상태 $h_t$를 출력함  \n",
    "이 때 $h_t$는 기억 셀의 값을 tanh 함수로 변환한 값임($h_t=tanh(c_t)$)  \n",
    "  \n",
    "그림과 같이 $c_t$의 값은 3개의 입력($c_{t-1}, h_{t-1}, x_t$)으로부터 '여러 계산'을 수행하여 구함  \n",
    "$h_t$는 '여러 계산'을 통해 갱신된 $c_t$의 값을 tanh 함수를 변환한 값임  \n",
    "  \n",
    "__게이트__  \n",
    "게이트는 데이터의 흐름을 제어함  \n",
    "LSTM에서 사용하는 게이트는 물의 흐름을 제어하는 '문'처럼 열거나 닫을 수 있을 뿐아니라, 어느 정도 열지도 조절할 수 있음  \n",
    "여기서 '어느 정도'를 '열림 상태(openness)'라고 부름  \n",
    "\n",
    "게이트는 게이트의 열림 상태를 제어하기 위해서 전용 가중치 매개변수를 이용하며,  \n",
    "이 가중치 매개변수는 학습 데이터로부터 갱신됨  \n",
    "즉, 게이트를 얼마나 열지는 데이터로부터 자동으로 학습 함  \n",
    "게이트의 열림 상태를 구할 때는 시그모이드 함수를 사용함  \n",
    "따라서 게이트의 열림 상태는 0.0 ~ 1.0 사이의 실수로 나타남(1.0은 완전 개방)  "
   ]
  },
  {
   "cell_type": "markdown",
   "id": "da4701d5",
   "metadata": {},
   "source": [
    "### 6.2.3 output 게이트"
   ]
  },
  {
   "cell_type": "markdown",
   "id": "8a6992f9",
   "metadata": {},
   "source": [
    "<img src='./img/6/LSTM_gate_2.png' width=400>  "
   ]
  },
  {
   "cell_type": "markdown",
   "id": "81c4880a",
   "metadata": {},
   "source": [
    "__output 게이트__(출력게이트) : 다음 은닉 상태 $h_t$의 출력을 담당하는 게이트  \n",
    "$tanh(c_t)$의 각 원소에 대해 '다음 시각의 은닉 상태에 얼마나 중요한가'를 조정함  \n",
    "  \n",
    "output 게이트의 열림 상태(다음 몇 %만 흘려보낼지)는 입력 $x_t$와 이전 상태 $h_{t-1}$로부터 구함  \n",
    "  \n",
    "$o=\\sigma(x_tW_x^{(o)}+h_{t-1}W_h^{(o)}+b^{(o)})$  \n",
    "(output 게이트임을 표시하기 위해 첫 글자인 o를 첨자로 표시함)  \n",
    "  \n",
    "여기서 구한 o와 $tanh(c_t)$의 원소별 곱(아다마르 곱, 기호 : $\\odot$)을 $h_t$로 출력  \n",
    "  \n",
    "$h_t=o\\odot tanh(c_t)$"
   ]
  },
  {
   "cell_type": "markdown",
   "id": "700ee73c",
   "metadata": {},
   "source": [
    "### 6.2.4 forget 게이트"
   ]
  },
  {
   "cell_type": "markdown",
   "id": "da9b58f4",
   "metadata": {},
   "source": [
    "<img src='./img/6/LSTM_gate_3.png' width=400>  "
   ]
  },
  {
   "cell_type": "markdown",
   "id": "8e656231",
   "metadata": {},
   "source": [
    "__forget 게이트__(망각게이트) : $c_{t-1}$의 기억 중에서 불필요한 기억을 잊게 해주는 게이트  \n",
    "  \n",
    "$f=\\sigma(x_tW_x^{(f)}+h_{t-1}W_h^{(f)}+b^{(f)})$  \n",
    "  \n",
    "여기서 구한 f와 이전 기억 셀인 $c_{t-1}$과의 원소별 곱으로 $c_t$를 구함  \n",
    "  \n",
    "$c_t=f\\odot c_{t-1}$"
   ]
  },
  {
   "cell_type": "markdown",
   "id": "55cdebde",
   "metadata": {},
   "source": [
    "### 6.2.5 새로운 기억 셀"
   ]
  },
  {
   "cell_type": "markdown",
   "id": "f6b3b17e",
   "metadata": {},
   "source": [
    "<img src='./img/6/LSTM_gate_4.png' width=400>  "
   ]
  },
  {
   "cell_type": "markdown",
   "id": "3a8c78f0",
   "metadata": {},
   "source": [
    "forget 게이트를 거치면서 이전 시각의 기억 셀로부터 잊어야 할 기억이 삭제되었으니,  \n",
    "이제 새로 기억해야 할 정보를 기억 셀에 추가해야 함  \n",
    "  \n",
    "tanh 노드가 계산한 결과가 이전 시각의 기억 셀 $c_{t-1}$에 더해짐  \n",
    "이렇게 기억 셀에 새로운 '정보'가 추가됨!  \n",
    "  \n",
    "이 tanh 노드는 '게이트'가 아닌 새로운 '정보'를 기억 셀에 추가하는 것이 목적이므로  \n",
    "활성화 함수로는 시그모이드가 아닌 tanh 함수를 사용함  \n",
    "  \n",
    "$g = tanh(x_tW_x^{(g)}+h_{t-1}W_h^{(g)}+b^{(g)})$  \n",
    "  \n",
    "g가 이전 시각의 기억 셀 $c_{t-1}$에 더해짐으로서 새로운 기억이 생김"
   ]
  },
  {
   "cell_type": "markdown",
   "id": "962ce0ba",
   "metadata": {},
   "source": [
    "--------\n",
    "  \n",
    "< 참고 >  \n",
    "  \n",
    "tanh의 출력은 -1.0 ~ 1.0의 실수  \n",
    "이 수치를 그 안에 인코딩된 '정보'의 강약(정도)을 표시한다고 해석할 수 있음  \n",
    "  \n",
    "시그모이드 함수의 출력은 0.0 ~ 1.0의 실수  \n",
    "데이터를 얼마나 통과시킬지를 정하는 비율을 뜻함  \n",
    "  \n",
    "따라서 주로 게이트에서는 시그모이드 함수가, 실질적인 '정보'를 지니는 데이터에는 tanh 함수가 활성화 함수로 사용됨!  \n",
    "  \n",
    "------"
   ]
  },
  {
   "cell_type": "markdown",
   "id": "b05a97cd",
   "metadata": {},
   "source": [
    "### 6.2.6 input 게이트"
   ]
  },
  {
   "cell_type": "markdown",
   "id": "6473ef9a",
   "metadata": {},
   "source": [
    "<img src='./img/6/LSTM_gate_5.png' width=400>  "
   ]
  },
  {
   "cell_type": "markdown",
   "id": "5f49a910",
   "metadata": {},
   "source": [
    "__input 게이트__(입력게이트) : g의 각 원소가 새로 추가되는 정보로써 가치가 얼마나 큰지를 판단함  \n",
    "input 게이트에 의해 가중된 정보가 새로 추가 되는 거라고 볼 수 있음  \n",
    "  \n",
    "$i = \\sigma(x_tW_x^{(i)}+h_{t-1}W_h^{(i)}+b^{(i)})$  \n",
    "  \n",
    "i와 g의 원소별 곱 결과를 기억 셀에 추가함"
   ]
  },
  {
   "cell_type": "markdown",
   "id": "46da1a7d",
   "metadata": {},
   "source": [
    "### 6.2.7 LSTM의 기울기 흐름"
   ]
  },
  {
   "cell_type": "markdown",
   "id": "78f6ce1c",
   "metadata": {},
   "source": [
    "<img src='./img/6/LSTM_2.png' width=800>"
   ]
  },
  {
   "cell_type": "markdown",
   "id": "822d3da2",
   "metadata": {},
   "source": [
    "LSTM(Long Short-Term Memory)은 단기 기억을 긴 시간 지속할 수 있음을 의미함  \n",
    "  \n",
    "위 그림은 기억 셀의 역전파 흐름(파란 화살표)을 나타냄  \n",
    "기억 셀의 역전파는 '+'와 '$\\times$' 노드만을 지남  \n",
    "  \n",
    "기존의 RNN의 역전파에서는 똑같은 가중치 행렬을 사용하여 행렬곱을 반복하여 기울기 소실 또는 기울기 폭발이 일어났음    \n",
    "반면, LSTM의 역전파에서 '$\\times$' 노드는 매 시각 다른 게이트 값을 이용해 '행렬 곱'이 아닌 '원소별 곱(아마다르 곱)'을 계산함  \n",
    "매번 새로운 게이트 값을 이용하므로 곱셈의 효과가 누적되지 않아 기울기 소실이 일어나기 어려움  \n",
    "  \n",
    "이 '$\\times$' 노드는 forget 게이트가 제어함  \n",
    "forget 게이트가 잊어야 한다고 판단한 기억 셀의 원소에 대해서는 기울기가 작아짐  \n",
    "한편, forget 게이트가 잊어서는 안된다고 판단한 원소에 대해서는 기울기가 약화되지 않은 채로 과거 방향으로 전해짐  "
   ]
  },
  {
   "cell_type": "markdown",
   "id": "c23a198f",
   "metadata": {},
   "source": [
    "## 6.3 LSTM 구현"
   ]
  },
  {
   "cell_type": "markdown",
   "id": "b0d77901",
   "metadata": {},
   "source": [
    "LSTM에서 수행하는 계산은 다음과 같다.  \n",
    "  \n",
    "- $f = \\sigma(x_tW_x^{(f)}+h_{t-1}W_h^{(f)}+b^{(f)})$  \n",
    "  \n",
    "  \n",
    "- $g = tanh(x_tW_x^{(g)}+h_{t-1}W_h^{(g)}+b^{(g)})$  \n",
    "  \n",
    "  \n",
    "- $i = \\sigma(x_tW_x^{(i)}+h_{t-1}W_h^{(i)}+b^{(i)})$  \n",
    "  \n",
    "  \n",
    "- $o = \\sigma(x_tW_x^{(o)}+h_{t-1}W_h^{(o)}+b^{(o)})$  \n",
    "  \n",
    "  \n",
    "- $c_t = f\\odot c_{t-1}+g\\odot i$  \n",
    "  \n",
    "  \n",
    "- $h_t = o\\odot tanh(c_t)$  \n",
    "  \n",
    "여기서 위에서 네 개 수식에 포함된 아핀 변환(affine transformation, 행렬 변환과 평행 이동(편향)을 결합한 형태)은  \n",
    "아래 그림과 같이 하나의 식으로 정리할 수 있음  \n",
    "  \n",
    "<img src='./img/6/LSTM_3.png' width=500>  \n",
    "  \n",
    "이 변환을 통한 행렬의 형상을 보면 다음과 같다.  \n",
    "  \n",
    "<img src='./img/6/LSTM_4.png' width=500>  \n",
    "  \n",
    "- N : 미니배치 수\n",
    "- D : 입력 데이터의 차원 수\n",
    "- H : 기억 셀과 은닉 상태의 차원 수(동일)  \n",
    "  \n",
    "계산 결과인 A에는 네 개분의 아핀 변환 결과가 저장됨  \n",
    "  \n",
    "LSTM의 계산 그래프는 다음과 같다.  \n",
    "  \n",
    "<img src='./img/6/LSTM_5.png' width=800>  \n",
    "  \n",
    "4개분의 아핀 변환을 한꺼번에 수행한 후 slice 노드를 통해 아핀 변환의 결과(행렬)을 균등하게 네 조각으로 나눠서 분배함  \n",
    "(그 후엔 시그모이드 함수 또는 tanh 함수를 거쳐 앞에서 설명한 계산 과정을 수행함)  \n",
    "  \n",
    "<img src='./img/6/LSTM_6.png' width=400>  \n",
    "  \n",
    "slice 노드에서 행렬을 네 조각으로 분배했음  \n",
    "따라서, 역전파에서는 반대로 4개의 기울기를 결합해야 함  \n",
    "  \n",
    "이 부분은 코드에서 np.hstack() 메서드를 사용함  \n",
    "np.hstack()은 배열을 가로로 연결함(세로 연결은 np.vstack())\n"
   ]
  },
  {
   "cell_type": "code",
   "execution_count": 5,
   "id": "57627b3d",
   "metadata": {},
   "outputs": [],
   "source": [
    "class LSTM:\n",
    "    def __init__(self, Wx, Wh, b):\n",
    "        self.params = [Wx, Wh, b]\n",
    "        self.grads = [np.zeros_like(Wx), np.zeros_like(Wh), np.zeros_like(b)]\n",
    "        self.cache = None\n",
    "    \n",
    "    def forward(self, x, h_prev, c_prev):\n",
    "        Wx, Wh, b = self.params\n",
    "        N, H = h_prev.shape\n",
    "        \n",
    "        A = np.matmul(x, Wx) + np.matmul(h_prev, Wh) + b\n",
    "        \n",
    "        # slice\n",
    "        f = A[:, :H]\n",
    "        g = A[:, H:2*H]\n",
    "        i = A[:, 2*H:3*H]\n",
    "        o = A[:, 3*H:]\n",
    "        \n",
    "        f = sigmoid(f)\n",
    "        g = tanh(g)\n",
    "        i = sigmoid(i)\n",
    "        o = sigmoid(o)\n",
    "        \n",
    "        c_next = f * c_prev + g * i\n",
    "        h_next = o * np.tanh(c_next)\n",
    "        \n",
    "        self.cache = (x, h_prev, c_prev, i, f, g, o, c_next)\n",
    "        return h_next, c_next\n",
    "    \n",
    "    def backward(self, dh_next, dc_next):\n",
    "        Wx, Wh, b = self.params\n",
    "        x, h_prev, c_prev, i, f, g, o, c_next = self.cache\n",
    "\n",
    "        tanh_c_next = np.tanh(c_next)\n",
    "\n",
    "        ds = dc_next + (dh_next * o) * (1 - tanh_c_next ** 2)\n",
    "\n",
    "        dc_prev = ds * f\n",
    "\n",
    "        di = ds * g\n",
    "        df = ds * c_prev\n",
    "        do = dh_next * tanh_c_next\n",
    "        dg = ds * i\n",
    "\n",
    "        di *= i * (1 - i)\n",
    "        df *= f * (1 - f)\n",
    "        do *= o * (1 - o)\n",
    "        dg *= (1 - g ** 2)\n",
    "\n",
    "        dA = np.hstack((df, dg, di, do))\n",
    "\n",
    "        dWh = np.dot(h_prev.T, dA)\n",
    "        dWx = np.dot(x.T, dA)\n",
    "        db = dA.sum(axis=0)\n",
    "\n",
    "        self.grads[0][...] = dWx\n",
    "        self.grads[1][...] = dWh\n",
    "        self.grads[2][...] = db\n",
    "\n",
    "        dx = np.dot(dA, Wx.T)\n",
    "        dh_prev = np.dot(dA, Wh.T)\n",
    "\n",
    "        return dx, dh_prev, dc_prev"
   ]
  },
  {
   "cell_type": "markdown",
   "id": "eb789dee",
   "metadata": {},
   "source": [
    "### 6.3.1 Time LSTM 구현"
   ]
  },
  {
   "cell_type": "markdown",
   "id": "259fa1ea",
   "metadata": {},
   "source": [
    "T개분의 시계열 데이터를 한꺼번에 처리하는 Time LSTM 구현  \n",
    "  \n",
    "Truncated BPTT는 역전파의 연결은 적당한 길이로 끊고, 순전파의 흐름은 그대로 유지해야 함  \n",
    "따라서 은닉 상태와 기억 셀을 인스턴스 변수로 유지"
   ]
  },
  {
   "cell_type": "code",
   "execution_count": 6,
   "id": "b64e8cdd",
   "metadata": {},
   "outputs": [],
   "source": [
    "class TimeLSTM:\n",
    "    def __init__(self, Wx, Wh, b, stateful=False):\n",
    "        self.params = [Wx, Wh, b]\n",
    "        self.grads = [np.zeros_like(Wx), np.zeros_like(Wh), np.zeros_like(b)]\n",
    "        self.layers = None\n",
    "\n",
    "        self.h, self.c = None, None\n",
    "        self.dh = None\n",
    "        self.stateful = stateful\n",
    "\n",
    "    def forward(self, xs):\n",
    "        Wx, Wh, b = self.params\n",
    "        N, T, D = xs.shape\n",
    "        H = Wh.shape[0]\n",
    "\n",
    "        self.layers = []\n",
    "        hs = np.empty((N, T, H), dtype='f')\n",
    "\n",
    "        if not self.stateful or self.h is None:\n",
    "            self.h = np.zeros((N, H), dtype='f')\n",
    "        if not self.stateful or self.c is None:\n",
    "            self.c = np.zeros((N, H), dtype='f')\n",
    "\n",
    "        for t in range(T):\n",
    "            layer = LSTM(*self.params)\n",
    "            self.h, self.c = layer.forward(xs[:, t, :], self.h, self.c)\n",
    "            hs[:, t, :] = self.h\n",
    "\n",
    "            self.layers.append(layer)\n",
    "\n",
    "        return hs\n",
    "\n",
    "    def backward(self, dhs):\n",
    "        Wx, Wh, b = self.params\n",
    "        N, T, H = dhs.shape\n",
    "        D = Wx.shape[0]\n",
    "\n",
    "        dxs = np.empty((N, T, D), dtype='f')\n",
    "        dh, dc = 0, 0\n",
    "\n",
    "        grads = [0, 0, 0]\n",
    "        for t in reversed(range(T)):\n",
    "            layer = self.layers[t]\n",
    "            dx, dh, dc = layer.backward(dhs[:, t, :] + dh, dc)\n",
    "            dxs[:, t, :] = dx\n",
    "            for i, grad in enumerate(layer.grads):\n",
    "                grads[i] += grad\n",
    "\n",
    "        for i, grad in enumerate(grads):\n",
    "            self.grads[i][...] = grad\n",
    "        self.dh = dh\n",
    "        return dxs\n",
    "\n",
    "    def set_state(self, h, c=None):\n",
    "        self.h, self.c = h, c\n",
    "\n",
    "    def reset_state(self):\n",
    "        self.h, self.c = None, None"
   ]
  },
  {
   "cell_type": "markdown",
   "id": "a1a6c5b5",
   "metadata": {},
   "source": [
    "## 6.4 LSTM을 사용한 언어 모델"
   ]
  },
  {
   "cell_type": "markdown",
   "id": "e4b00bb7",
   "metadata": {},
   "source": [
    "LSTM을 사용한 언어 모델 구현  \n",
    "  \n",
    "여기서 구현하는 언어 모델은 앞 장에서 구현한 언어모델에서 TIME RNN 계층이 TIME LSTM 계층으로 바뀐 것 빼고는 동일함"
   ]
  },
  {
   "cell_type": "code",
   "execution_count": 7,
   "id": "3ae9e431",
   "metadata": {},
   "outputs": [],
   "source": [
    "from common.time_layers import *\n",
    "from common.base_model import BaseModel\n",
    "\n",
    "class Rnnlm:\n",
    "    def __init__(self, vocab_size=10000, wordvec_size=100, hidden_size=100):\n",
    "        V, D, H = vocab_size, wordvec_size, hidden_size\n",
    "        rn = np.random.randn\n",
    "\n",
    "        # 가중치 초기화\n",
    "        embed_W = (rn(V, D) / 100).astype('f')\n",
    "        lstm_Wx = (rn(D, 4 * H) / np.sqrt(D)).astype('f')\n",
    "        lstm_Wh = (rn(H, 4 * H) / np.sqrt(H)).astype('f')\n",
    "        lstm_b = np.zeros(4 * H).astype('f')\n",
    "        affine_W = (rn(H, V) / np.sqrt(H)).astype('f')\n",
    "        affine_b = np.zeros(V).astype('f')\n",
    "\n",
    "        # 계층 생성\n",
    "        self.layers = [\n",
    "            TimeEmbedding(embed_W),\n",
    "            TimeLSTM(lstm_Wx, lstm_Wh, lstm_b, stateful=True),\n",
    "            TimeAffine(affine_W, affine_b)\n",
    "        ]\n",
    "        self.loss_layer = TimeSoftmaxWithLoss()\n",
    "        self.lstm_layer = self.layers[1]\n",
    "\n",
    "        # 모든 가중치와 기울기를 리스트에 모은다.\n",
    "        self.params, self.grads = [], []\n",
    "        for layer in self.layers:\n",
    "            self.params += layer.params\n",
    "            self.grads += layer.grads\n",
    "\n",
    "    def predict(self, xs):\n",
    "        for layer in self.layers:\n",
    "            xs = layer.forward(xs)\n",
    "        return xs\n",
    "\n",
    "    def forward(self, xs, ts):\n",
    "        score = self.predict(xs)\n",
    "        loss = self.loss_layer.forward(score, ts)\n",
    "        return loss\n",
    "\n",
    "    def backward(self, dout=1):\n",
    "        dout = self.loss_layer.backward(dout)\n",
    "        for layer in reversed(self.layers):\n",
    "            dout = layer.backward(dout)\n",
    "        return dout\n",
    "\n",
    "    def reset_state(self):\n",
    "        self.lstm_layer.reset_state()\n",
    "        \n",
    "    def save_params(self, file_name='Rnnlm.pkl'):\n",
    "        with open(file_name, 'wb') as f:\n",
    "            pickle.dump(self.params, f)\n",
    "            \n",
    "    def load_params(self, file_name='Rnnlm.pkl'):\n",
    "        with open(file_name, 'rb') as f:\n",
    "            self.params = pickle.load(f)"
   ]
  },
  {
   "cell_type": "markdown",
   "id": "d7f613df",
   "metadata": {},
   "source": [
    "이 신경망을 사용해 PTB 데이터셋 학습"
   ]
  },
  {
   "cell_type": "code",
   "execution_count": 6,
   "id": "2666a024",
   "metadata": {
    "scrolled": true
   },
   "outputs": [
    {
     "name": "stdout",
     "output_type": "stream",
     "text": [
      "Downloading ptb.test.txt ... \n",
      "Done\n",
      "| 에폭 1 |  반복 1 / 1327 | 시간 0[s] | 퍼플렉서티 9999.72\n",
      "| 에폭 1 |  반복 21 / 1327 | 시간 2[s] | 퍼플렉서티 3133.70\n",
      "| 에폭 1 |  반복 41 / 1327 | 시간 5[s] | 퍼플렉서티 1239.48\n",
      "| 에폭 1 |  반복 61 / 1327 | 시간 7[s] | 퍼플렉서티 981.69\n",
      "| 에폭 1 |  반복 81 / 1327 | 시간 10[s] | 퍼플렉서티 776.86\n",
      "| 에폭 1 |  반복 101 / 1327 | 시간 12[s] | 퍼플렉서티 658.28\n",
      "| 에폭 1 |  반복 121 / 1327 | 시간 15[s] | 퍼플렉서티 632.17\n",
      "| 에폭 1 |  반복 141 / 1327 | 시간 17[s] | 퍼플렉서티 577.08\n",
      "| 에폭 1 |  반복 161 / 1327 | 시간 20[s] | 퍼플렉서티 575.51\n",
      "| 에폭 1 |  반복 181 / 1327 | 시간 22[s] | 퍼플렉서티 580.85\n",
      "| 에폭 1 |  반복 201 / 1327 | 시간 25[s] | 퍼플렉서티 504.31\n",
      "| 에폭 1 |  반복 221 / 1327 | 시간 27[s] | 퍼플렉서티 494.13\n",
      "| 에폭 1 |  반복 241 / 1327 | 시간 30[s] | 퍼플렉서티 436.90\n",
      "| 에폭 1 |  반복 261 / 1327 | 시간 32[s] | 퍼플렉서티 444.08\n",
      "| 에폭 1 |  반복 281 / 1327 | 시간 35[s] | 퍼플렉서티 446.29\n",
      "| 에폭 1 |  반복 301 / 1327 | 시간 37[s] | 퍼플렉서티 392.38\n",
      "| 에폭 1 |  반복 321 / 1327 | 시간 40[s] | 퍼플렉서티 341.22\n",
      "| 에폭 1 |  반복 341 / 1327 | 시간 42[s] | 퍼플렉서티 399.95\n",
      "| 에폭 1 |  반복 361 / 1327 | 시간 44[s] | 퍼플렉서티 404.14\n",
      "| 에폭 1 |  반복 381 / 1327 | 시간 47[s] | 퍼플렉서티 332.91\n",
      "| 에폭 1 |  반복 401 / 1327 | 시간 49[s] | 퍼플렉서티 348.44\n",
      "| 에폭 1 |  반복 421 / 1327 | 시간 52[s] | 퍼플렉서티 344.53\n",
      "| 에폭 1 |  반복 441 / 1327 | 시간 54[s] | 퍼플렉서티 326.91\n",
      "| 에폭 1 |  반복 461 / 1327 | 시간 57[s] | 퍼플렉서티 325.15\n",
      "| 에폭 1 |  반복 481 / 1327 | 시간 59[s] | 퍼플렉서티 304.45\n",
      "| 에폭 1 |  반복 501 / 1327 | 시간 62[s] | 퍼플렉서티 311.44\n",
      "| 에폭 1 |  반복 521 / 1327 | 시간 65[s] | 퍼플렉서티 299.59\n",
      "| 에폭 1 |  반복 541 / 1327 | 시간 67[s] | 퍼플렉서티 314.34\n",
      "| 에폭 1 |  반복 561 / 1327 | 시간 70[s] | 퍼플렉서티 281.95\n",
      "| 에폭 1 |  반복 581 / 1327 | 시간 73[s] | 퍼플렉서티 255.37\n",
      "| 에폭 1 |  반복 601 / 1327 | 시간 76[s] | 퍼플렉서티 336.36\n",
      "| 에폭 1 |  반복 621 / 1327 | 시간 79[s] | 퍼플렉서티 306.05\n",
      "| 에폭 1 |  반복 641 / 1327 | 시간 81[s] | 퍼플렉서티 280.12\n",
      "| 에폭 1 |  반복 661 / 1327 | 시간 84[s] | 퍼플렉서티 270.62\n",
      "| 에폭 1 |  반복 681 / 1327 | 시간 87[s] | 퍼플렉서티 223.59\n",
      "| 에폭 1 |  반복 701 / 1327 | 시간 90[s] | 퍼플렉서티 247.80\n",
      "| 에폭 1 |  반복 721 / 1327 | 시간 93[s] | 퍼플렉서티 259.45\n",
      "| 에폭 1 |  반복 741 / 1327 | 시간 96[s] | 퍼플렉서티 220.16\n",
      "| 에폭 1 |  반복 761 / 1327 | 시간 99[s] | 퍼플렉서티 231.50\n",
      "| 에폭 1 |  반복 781 / 1327 | 시간 101[s] | 퍼플렉서티 218.14\n",
      "| 에폭 1 |  반복 801 / 1327 | 시간 104[s] | 퍼플렉서티 239.41\n",
      "| 에폭 1 |  반복 821 / 1327 | 시간 107[s] | 퍼플렉서티 223.74\n",
      "| 에폭 1 |  반복 841 / 1327 | 시간 110[s] | 퍼플렉서티 229.50\n",
      "| 에폭 1 |  반복 861 / 1327 | 시간 113[s] | 퍼플렉서티 221.29\n",
      "| 에폭 1 |  반복 881 / 1327 | 시간 116[s] | 퍼플렉서티 206.18\n",
      "| 에폭 1 |  반복 901 / 1327 | 시간 119[s] | 퍼플렉서티 252.74\n",
      "| 에폭 1 |  반복 921 / 1327 | 시간 122[s] | 퍼플렉서티 225.94\n",
      "| 에폭 1 |  반복 941 / 1327 | 시간 125[s] | 퍼플렉서티 228.14\n",
      "| 에폭 1 |  반복 961 / 1327 | 시간 128[s] | 퍼플렉서티 243.26\n",
      "| 에폭 1 |  반복 981 / 1327 | 시간 131[s] | 퍼플렉서티 228.33\n",
      "| 에폭 1 |  반복 1001 / 1327 | 시간 134[s] | 퍼플렉서티 193.00\n",
      "| 에폭 1 |  반복 1021 / 1327 | 시간 137[s] | 퍼플렉서티 225.89\n",
      "| 에폭 1 |  반복 1041 / 1327 | 시간 140[s] | 퍼플렉서티 206.35\n",
      "| 에폭 1 |  반복 1061 / 1327 | 시간 143[s] | 퍼플렉서티 196.57\n",
      "| 에폭 1 |  반복 1081 / 1327 | 시간 146[s] | 퍼플렉서티 168.55\n",
      "| 에폭 1 |  반복 1101 / 1327 | 시간 149[s] | 퍼플렉서티 192.49\n",
      "| 에폭 1 |  반복 1121 / 1327 | 시간 152[s] | 퍼플렉서티 226.23\n",
      "| 에폭 1 |  반복 1141 / 1327 | 시간 155[s] | 퍼플렉서티 206.69\n",
      "| 에폭 1 |  반복 1161 / 1327 | 시간 158[s] | 퍼플렉서티 196.38\n",
      "| 에폭 1 |  반복 1181 / 1327 | 시간 161[s] | 퍼플렉서티 191.13\n",
      "| 에폭 1 |  반복 1201 / 1327 | 시간 164[s] | 퍼플렉서티 162.82\n",
      "| 에폭 1 |  반복 1221 / 1327 | 시간 167[s] | 퍼플렉서티 157.97\n",
      "| 에폭 1 |  반복 1241 / 1327 | 시간 170[s] | 퍼플렉서티 185.28\n",
      "| 에폭 1 |  반복 1261 / 1327 | 시간 173[s] | 퍼플렉서티 171.32\n",
      "| 에폭 1 |  반복 1281 / 1327 | 시간 176[s] | 퍼플렉서티 177.45\n",
      "| 에폭 1 |  반복 1301 / 1327 | 시간 179[s] | 퍼플렉서티 221.23\n",
      "| 에폭 1 |  반복 1321 / 1327 | 시간 182[s] | 퍼플렉서티 210.90\n",
      "| 에폭 2 |  반복 1 / 1327 | 시간 183[s] | 퍼플렉서티 222.64\n",
      "| 에폭 2 |  반복 21 / 1327 | 시간 186[s] | 퍼플렉서티 203.17\n",
      "| 에폭 2 |  반복 41 / 1327 | 시간 189[s] | 퍼플렉서티 187.98\n",
      "| 에폭 2 |  반복 61 / 1327 | 시간 192[s] | 퍼플렉서티 176.96\n",
      "| 에폭 2 |  반복 81 / 1327 | 시간 195[s] | 퍼플렉서티 157.02\n",
      "| 에폭 2 |  반복 101 / 1327 | 시간 198[s] | 퍼플렉서티 150.96\n",
      "| 에폭 2 |  반복 121 / 1327 | 시간 201[s] | 퍼플렉서티 158.85\n",
      "| 에폭 2 |  반복 141 / 1327 | 시간 204[s] | 퍼플렉서티 176.85\n",
      "| 에폭 2 |  반복 161 / 1327 | 시간 207[s] | 퍼플렉서티 192.60\n",
      "| 에폭 2 |  반복 181 / 1327 | 시간 210[s] | 퍼플렉서티 200.07\n",
      "| 에폭 2 |  반복 201 / 1327 | 시간 213[s] | 퍼플렉서티 184.23\n",
      "| 에폭 2 |  반복 221 / 1327 | 시간 216[s] | 퍼플렉서티 184.48\n",
      "| 에폭 2 |  반복 241 / 1327 | 시간 219[s] | 퍼플렉서티 177.22\n",
      "| 에폭 2 |  반복 261 / 1327 | 시간 222[s] | 퍼플렉서티 185.86\n",
      "| 에폭 2 |  반복 281 / 1327 | 시간 225[s] | 퍼플렉서티 184.26\n",
      "| 에폭 2 |  반복 301 / 1327 | 시간 228[s] | 퍼플렉서티 167.52\n",
      "| 에폭 2 |  반복 321 / 1327 | 시간 231[s] | 퍼플렉서티 137.97\n",
      "| 에폭 2 |  반복 341 / 1327 | 시간 234[s] | 퍼플렉서티 171.46\n",
      "| 에폭 2 |  반복 361 / 1327 | 시간 237[s] | 퍼플렉서티 195.61\n",
      "| 에폭 2 |  반복 381 / 1327 | 시간 241[s] | 퍼플렉서티 154.41\n",
      "| 에폭 2 |  반복 401 / 1327 | 시간 244[s] | 퍼플렉서티 167.73\n",
      "| 에폭 2 |  반복 421 / 1327 | 시간 247[s] | 퍼플렉서티 152.40\n",
      "| 에폭 2 |  반복 441 / 1327 | 시간 250[s] | 퍼플렉서티 163.19\n",
      "| 에폭 2 |  반복 461 / 1327 | 시간 253[s] | 퍼플렉서티 155.76\n",
      "| 에폭 2 |  반복 481 / 1327 | 시간 256[s] | 퍼플렉서티 155.56\n",
      "| 에폭 2 |  반복 501 / 1327 | 시간 259[s] | 퍼플렉서티 168.51\n",
      "| 에폭 2 |  반복 521 / 1327 | 시간 262[s] | 퍼플렉서티 172.12\n",
      "| 에폭 2 |  반복 541 / 1327 | 시간 265[s] | 퍼플렉서티 173.77\n",
      "| 에폭 2 |  반복 561 / 1327 | 시간 268[s] | 퍼플렉서티 154.08\n",
      "| 에폭 2 |  반복 581 / 1327 | 시간 271[s] | 퍼플렉서티 136.78\n",
      "| 에폭 2 |  반복 601 / 1327 | 시간 274[s] | 퍼플렉서티 189.32\n",
      "| 에폭 2 |  반복 621 / 1327 | 시간 277[s] | 퍼플렉서티 179.71\n",
      "| 에폭 2 |  반복 641 / 1327 | 시간 280[s] | 퍼플렉서티 164.22\n",
      "| 에폭 2 |  반복 661 / 1327 | 시간 283[s] | 퍼플렉서티 154.38\n",
      "| 에폭 2 |  반복 681 / 1327 | 시간 286[s] | 퍼플렉서티 129.05\n",
      "| 에폭 2 |  반복 701 / 1327 | 시간 289[s] | 퍼플렉서티 149.54\n",
      "| 에폭 2 |  반복 721 / 1327 | 시간 292[s] | 퍼플렉서티 159.00\n",
      "| 에폭 2 |  반복 741 / 1327 | 시간 295[s] | 퍼플렉서티 132.20\n",
      "| 에폭 2 |  반복 761 / 1327 | 시간 298[s] | 퍼플렉서티 127.66\n",
      "| 에폭 2 |  반복 781 / 1327 | 시간 301[s] | 퍼플렉서티 133.83\n",
      "| 에폭 2 |  반복 801 / 1327 | 시간 303[s] | 퍼플렉서티 146.17\n",
      "| 에폭 2 |  반복 821 / 1327 | 시간 306[s] | 퍼플렉서티 143.93\n",
      "| 에폭 2 |  반복 841 / 1327 | 시간 309[s] | 퍼플렉서티 144.92\n",
      "| 에폭 2 |  반복 861 / 1327 | 시간 311[s] | 퍼플렉서티 145.70\n",
      "| 에폭 2 |  반복 881 / 1327 | 시간 314[s] | 퍼플렉서티 130.48\n",
      "| 에폭 2 |  반복 901 / 1327 | 시간 317[s] | 퍼플렉서티 166.46\n",
      "| 에폭 2 |  반복 921 / 1327 | 시간 320[s] | 퍼플렉서티 146.48\n",
      "| 에폭 2 |  반복 941 / 1327 | 시간 323[s] | 퍼플렉서티 152.81\n",
      "| 에폭 2 |  반복 961 / 1327 | 시간 325[s] | 퍼플렉서티 161.65\n",
      "| 에폭 2 |  반복 981 / 1327 | 시간 328[s] | 퍼플렉서티 153.95\n",
      "| 에폭 2 |  반복 1001 / 1327 | 시간 331[s] | 퍼플렉서티 130.20\n",
      "| 에폭 2 |  반복 1021 / 1327 | 시간 334[s] | 퍼플렉서티 155.47\n",
      "| 에폭 2 |  반복 1041 / 1327 | 시간 337[s] | 퍼플렉서티 142.60\n",
      "| 에폭 2 |  반복 1061 / 1327 | 시간 340[s] | 퍼플렉서티 128.55\n",
      "| 에폭 2 |  반복 1081 / 1327 | 시간 343[s] | 퍼플렉서티 111.10\n",
      "| 에폭 2 |  반복 1101 / 1327 | 시간 347[s] | 퍼플렉서티 121.14\n",
      "| 에폭 2 |  반복 1121 / 1327 | 시간 350[s] | 퍼플렉서티 153.42\n",
      "| 에폭 2 |  반복 1141 / 1327 | 시간 353[s] | 퍼플렉서티 141.68\n",
      "| 에폭 2 |  반복 1161 / 1327 | 시간 356[s] | 퍼플렉서티 132.88\n",
      "| 에폭 2 |  반복 1181 / 1327 | 시간 359[s] | 퍼플렉서티 134.65\n",
      "| 에폭 2 |  반복 1201 / 1327 | 시간 362[s] | 퍼플렉서티 113.71\n",
      "| 에폭 2 |  반복 1221 / 1327 | 시간 365[s] | 퍼플렉서티 109.44\n",
      "| 에폭 2 |  반복 1241 / 1327 | 시간 368[s] | 퍼플렉서티 128.04\n",
      "| 에폭 2 |  반복 1261 / 1327 | 시간 371[s] | 퍼플렉서티 122.92\n",
      "| 에폭 2 |  반복 1281 / 1327 | 시간 374[s] | 퍼플렉서티 121.91\n",
      "| 에폭 2 |  반복 1301 / 1327 | 시간 377[s] | 퍼플렉서티 158.09\n",
      "| 에폭 2 |  반복 1321 / 1327 | 시간 381[s] | 퍼플렉서티 153.81\n",
      "| 에폭 3 |  반복 1 / 1327 | 시간 382[s] | 퍼플렉서티 159.52\n",
      "| 에폭 3 |  반복 21 / 1327 | 시간 385[s] | 퍼플렉서티 143.36\n",
      "| 에폭 3 |  반복 41 / 1327 | 시간 388[s] | 퍼플렉서티 134.55\n",
      "| 에폭 3 |  반복 61 / 1327 | 시간 391[s] | 퍼플렉서티 127.63\n",
      "| 에폭 3 |  반복 81 / 1327 | 시간 395[s] | 퍼플렉서티 117.11\n",
      "| 에폭 3 |  반복 101 / 1327 | 시간 398[s] | 퍼플렉서티 105.01\n",
      "| 에폭 3 |  반복 121 / 1327 | 시간 401[s] | 퍼플렉서티 115.84\n",
      "| 에폭 3 |  반복 141 / 1327 | 시간 404[s] | 퍼플렉서티 126.25\n",
      "| 에폭 3 |  반복 161 / 1327 | 시간 407[s] | 퍼플렉서티 143.18\n",
      "| 에폭 3 |  반복 181 / 1327 | 시간 410[s] | 퍼플렉서티 151.54\n",
      "| 에폭 3 |  반복 201 / 1327 | 시간 413[s] | 퍼플렉서티 141.06\n",
      "| 에폭 3 |  반복 221 / 1327 | 시간 416[s] | 퍼플렉서티 141.83\n",
      "| 에폭 3 |  반복 241 / 1327 | 시간 419[s] | 퍼플렉서티 135.07\n",
      "| 에폭 3 |  반복 261 / 1327 | 시간 422[s] | 퍼플렉서티 141.02\n",
      "| 에폭 3 |  반복 281 / 1327 | 시간 425[s] | 퍼플렉서티 142.22\n",
      "| 에폭 3 |  반복 301 / 1327 | 시간 428[s] | 퍼플렉서티 126.01\n",
      "| 에폭 3 |  반복 321 / 1327 | 시간 432[s] | 퍼플렉서티 102.47\n",
      "| 에폭 3 |  반복 341 / 1327 | 시간 435[s] | 퍼플렉서티 125.47\n",
      "| 에폭 3 |  반복 361 / 1327 | 시간 438[s] | 퍼플렉서티 152.76\n",
      "| 에폭 3 |  반복 381 / 1327 | 시간 441[s] | 퍼플렉서티 114.56\n",
      "| 에폭 3 |  반복 401 / 1327 | 시간 444[s] | 퍼플렉서티 130.14\n",
      "| 에폭 3 |  반복 421 / 1327 | 시간 447[s] | 퍼플렉서티 113.25\n",
      "| 에폭 3 |  반복 441 / 1327 | 시간 450[s] | 퍼플렉서티 123.80\n",
      "| 에폭 3 |  반복 461 / 1327 | 시간 453[s] | 퍼플렉서티 118.00\n",
      "| 에폭 3 |  반복 481 / 1327 | 시간 456[s] | 퍼플렉서티 119.34\n",
      "| 에폭 3 |  반복 501 / 1327 | 시간 460[s] | 퍼플렉서티 127.99\n",
      "| 에폭 3 |  반복 521 / 1327 | 시간 463[s] | 퍼플렉서티 138.35\n"
     ]
    },
    {
     "name": "stdout",
     "output_type": "stream",
     "text": [
      "| 에폭 3 |  반복 541 / 1327 | 시간 466[s] | 퍼플렉서티 136.84\n",
      "| 에폭 3 |  반복 561 / 1327 | 시간 469[s] | 퍼플렉서티 118.81\n",
      "| 에폭 3 |  반복 581 / 1327 | 시간 472[s] | 퍼플렉서티 105.75\n",
      "| 에폭 3 |  반복 601 / 1327 | 시간 475[s] | 퍼플렉서티 150.29\n",
      "| 에폭 3 |  반복 621 / 1327 | 시간 479[s] | 퍼플렉서티 141.44\n",
      "| 에폭 3 |  반복 641 / 1327 | 시간 482[s] | 퍼플렉서티 127.51\n",
      "| 에폭 3 |  반복 661 / 1327 | 시간 485[s] | 퍼플렉서티 120.07\n",
      "| 에폭 3 |  반복 681 / 1327 | 시간 488[s] | 퍼플렉서티 100.40\n",
      "| 에폭 3 |  반복 701 / 1327 | 시간 491[s] | 퍼플렉서티 117.89\n",
      "| 에폭 3 |  반복 721 / 1327 | 시간 494[s] | 퍼플렉서티 125.07\n",
      "| 에폭 3 |  반복 741 / 1327 | 시간 498[s] | 퍼플렉서티 106.99\n",
      "| 에폭 3 |  반복 761 / 1327 | 시간 501[s] | 퍼플렉서티 101.88\n",
      "| 에폭 3 |  반복 781 / 1327 | 시간 504[s] | 퍼플렉서티 105.00\n",
      "| 에폭 3 |  반복 801 / 1327 | 시간 507[s] | 퍼플렉서티 116.23\n",
      "| 에폭 3 |  반복 821 / 1327 | 시간 510[s] | 퍼플렉서티 117.10\n",
      "| 에폭 3 |  반복 841 / 1327 | 시간 513[s] | 퍼플렉서티 114.27\n",
      "| 에폭 3 |  반복 861 / 1327 | 시간 516[s] | 퍼플렉서티 120.35\n",
      "| 에폭 3 |  반복 881 / 1327 | 시간 519[s] | 퍼플렉서티 106.74\n",
      "| 에폭 3 |  반복 901 / 1327 | 시간 522[s] | 퍼플렉서티 132.64\n",
      "| 에폭 3 |  반복 921 / 1327 | 시간 526[s] | 퍼플렉서티 118.77\n",
      "| 에폭 3 |  반복 941 / 1327 | 시간 529[s] | 퍼플렉서티 127.20\n",
      "| 에폭 3 |  반복 961 / 1327 | 시간 532[s] | 퍼플렉서티 131.41\n",
      "| 에폭 3 |  반복 981 / 1327 | 시간 535[s] | 퍼플렉서티 124.03\n",
      "| 에폭 3 |  반복 1001 / 1327 | 시간 538[s] | 퍼플렉서티 108.61\n",
      "| 에폭 3 |  반복 1021 / 1327 | 시간 542[s] | 퍼플렉서티 127.75\n",
      "| 에폭 3 |  반복 1041 / 1327 | 시간 545[s] | 퍼플렉서티 118.41\n",
      "| 에폭 3 |  반복 1061 / 1327 | 시간 548[s] | 퍼플렉서티 103.82\n",
      "| 에폭 3 |  반복 1081 / 1327 | 시간 551[s] | 퍼플렉서티 89.41\n",
      "| 에폭 3 |  반복 1101 / 1327 | 시간 554[s] | 퍼플렉서티 95.00\n",
      "| 에폭 3 |  반복 1121 / 1327 | 시간 557[s] | 퍼플렉서티 122.10\n",
      "| 에폭 3 |  반복 1141 / 1327 | 시간 560[s] | 퍼플렉서티 114.08\n",
      "| 에폭 3 |  반복 1161 / 1327 | 시간 563[s] | 퍼플렉서티 106.47\n",
      "| 에폭 3 |  반복 1181 / 1327 | 시간 566[s] | 퍼플렉서티 109.51\n",
      "| 에폭 3 |  반복 1201 / 1327 | 시간 568[s] | 퍼플렉서티 95.22\n",
      "| 에폭 3 |  반복 1221 / 1327 | 시간 571[s] | 퍼플렉서티 88.84\n",
      "| 에폭 3 |  반복 1241 / 1327 | 시간 574[s] | 퍼플렉서티 105.00\n",
      "| 에폭 3 |  반복 1261 / 1327 | 시간 577[s] | 퍼플렉서티 103.66\n",
      "| 에폭 3 |  반복 1281 / 1327 | 시간 580[s] | 퍼플렉서티 101.14\n",
      "| 에폭 3 |  반복 1301 / 1327 | 시간 583[s] | 퍼플렉서티 130.44\n",
      "| 에폭 3 |  반복 1321 / 1327 | 시간 585[s] | 퍼플렉서티 126.96\n",
      "| 에폭 4 |  반복 1 / 1327 | 시간 586[s] | 퍼플렉서티 133.88\n",
      "| 에폭 4 |  반복 21 / 1327 | 시간 589[s] | 퍼플렉서티 121.94\n",
      "| 에폭 4 |  반복 41 / 1327 | 시간 592[s] | 퍼플렉서티 106.89\n",
      "| 에폭 4 |  반복 61 / 1327 | 시간 596[s] | 퍼플렉서티 108.15\n",
      "| 에폭 4 |  반복 81 / 1327 | 시간 599[s] | 퍼플렉서티 95.94\n",
      "| 에폭 4 |  반복 101 / 1327 | 시간 602[s] | 퍼플렉서티 86.57\n",
      "| 에폭 4 |  반복 121 / 1327 | 시간 605[s] | 퍼플렉서티 95.93\n",
      "| 에폭 4 |  반복 141 / 1327 | 시간 608[s] | 퍼플렉서티 103.60\n",
      "| 에폭 4 |  반복 161 / 1327 | 시간 611[s] | 퍼플렉서티 118.38\n",
      "| 에폭 4 |  반복 181 / 1327 | 시간 614[s] | 퍼플렉서티 129.51\n",
      "| 에폭 4 |  반복 201 / 1327 | 시간 618[s] | 퍼플렉서티 120.33\n",
      "| 에폭 4 |  반복 221 / 1327 | 시간 621[s] | 퍼플렉서티 123.54\n",
      "| 에폭 4 |  반복 241 / 1327 | 시간 624[s] | 퍼플렉서티 115.78\n",
      "| 에폭 4 |  반복 261 / 1327 | 시간 627[s] | 퍼플렉서티 115.37\n",
      "| 에폭 4 |  반복 281 / 1327 | 시간 630[s] | 퍼플렉서티 121.28\n",
      "| 에폭 4 |  반복 301 / 1327 | 시간 633[s] | 퍼플렉서티 106.62\n",
      "| 에폭 4 |  반복 321 / 1327 | 시간 636[s] | 퍼플렉서티 85.29\n",
      "| 에폭 4 |  반복 341 / 1327 | 시간 639[s] | 퍼플렉서티 101.40\n",
      "| 에폭 4 |  반복 361 / 1327 | 시간 643[s] | 퍼플렉서티 129.20\n",
      "| 에폭 4 |  반복 381 / 1327 | 시간 646[s] | 퍼플렉서티 97.77\n",
      "| 에폭 4 |  반복 401 / 1327 | 시간 649[s] | 퍼플렉서티 110.62\n",
      "| 에폭 4 |  반복 421 / 1327 | 시간 652[s] | 퍼플렉서티 92.98\n",
      "| 에폭 4 |  반복 441 / 1327 | 시간 655[s] | 퍼플렉서티 103.58\n",
      "| 에폭 4 |  반복 461 / 1327 | 시간 658[s] | 퍼플렉서티 99.46\n",
      "| 에폭 4 |  반복 481 / 1327 | 시간 662[s] | 퍼플렉서티 103.39\n",
      "| 에폭 4 |  반복 501 / 1327 | 시간 665[s] | 퍼플렉서티 108.62\n",
      "| 에폭 4 |  반복 521 / 1327 | 시간 668[s] | 퍼플렉서티 116.91\n",
      "| 에폭 4 |  반복 541 / 1327 | 시간 671[s] | 퍼플렉서티 113.42\n",
      "| 에폭 4 |  반복 561 / 1327 | 시간 674[s] | 퍼플렉서티 103.21\n",
      "| 에폭 4 |  반복 581 / 1327 | 시간 677[s] | 퍼플렉서티 89.82\n",
      "| 에폭 4 |  반복 601 / 1327 | 시간 681[s] | 퍼플렉서티 128.23\n",
      "| 에폭 4 |  반복 621 / 1327 | 시간 684[s] | 퍼플렉서티 121.59\n",
      "| 에폭 4 |  반복 641 / 1327 | 시간 687[s] | 퍼플렉서티 110.21\n",
      "| 에폭 4 |  반복 661 / 1327 | 시간 690[s] | 퍼플렉서티 103.74\n",
      "| 에폭 4 |  반복 681 / 1327 | 시간 693[s] | 퍼플렉서티 85.90\n",
      "| 에폭 4 |  반복 701 / 1327 | 시간 696[s] | 퍼플렉서티 101.21\n",
      "| 에폭 4 |  반복 721 / 1327 | 시간 699[s] | 퍼플렉서티 107.83\n",
      "| 에폭 4 |  반복 741 / 1327 | 시간 702[s] | 퍼플렉서티 95.39\n",
      "| 에폭 4 |  반복 761 / 1327 | 시간 705[s] | 퍼플렉서티 87.63\n",
      "| 에폭 4 |  반복 781 / 1327 | 시간 709[s] | 퍼플렉서티 88.99\n",
      "| 에폭 4 |  반복 801 / 1327 | 시간 712[s] | 퍼플렉서티 99.65\n",
      "| 에폭 4 |  반복 821 / 1327 | 시간 715[s] | 퍼플렉서티 103.10\n",
      "| 에폭 4 |  반복 841 / 1327 | 시간 718[s] | 퍼플렉서티 98.83\n",
      "| 에폭 4 |  반복 861 / 1327 | 시간 721[s] | 퍼플렉서티 105.40\n",
      "| 에폭 4 |  반복 881 / 1327 | 시간 725[s] | 퍼플렉서티 91.74\n",
      "| 에폭 4 |  반복 901 / 1327 | 시간 728[s] | 퍼플렉서티 116.76\n",
      "| 에폭 4 |  반복 921 / 1327 | 시간 731[s] | 퍼플렉서티 103.12\n",
      "| 에폭 4 |  반복 941 / 1327 | 시간 734[s] | 퍼플렉서티 113.12\n",
      "| 에폭 4 |  반복 961 / 1327 | 시간 737[s] | 퍼플렉서티 113.08\n",
      "| 에폭 4 |  반복 981 / 1327 | 시간 740[s] | 퍼플렉서티 108.56\n",
      "| 에폭 4 |  반복 1001 / 1327 | 시간 743[s] | 퍼플렉서티 97.45\n",
      "| 에폭 4 |  반복 1021 / 1327 | 시간 746[s] | 퍼플렉서티 112.82\n",
      "| 에폭 4 |  반복 1041 / 1327 | 시간 750[s] | 퍼플렉서티 102.73\n",
      "| 에폭 4 |  반복 1061 / 1327 | 시간 753[s] | 퍼플렉서티 89.32\n",
      "| 에폭 4 |  반복 1081 / 1327 | 시간 756[s] | 퍼플렉서티 79.13\n",
      "| 에폭 4 |  반복 1101 / 1327 | 시간 759[s] | 퍼플렉서티 80.04\n",
      "| 에폭 4 |  반복 1121 / 1327 | 시간 762[s] | 퍼플렉서티 104.23\n",
      "| 에폭 4 |  반복 1141 / 1327 | 시간 766[s] | 퍼플렉서티 100.07\n",
      "| 에폭 4 |  반복 1161 / 1327 | 시간 769[s] | 퍼플렉서티 92.17\n",
      "| 에폭 4 |  반복 1181 / 1327 | 시간 772[s] | 퍼플렉서티 95.28\n",
      "| 에폭 4 |  반복 1201 / 1327 | 시간 776[s] | 퍼플렉서티 85.04\n",
      "| 에폭 4 |  반복 1221 / 1327 | 시간 779[s] | 퍼플렉서티 76.66\n",
      "| 에폭 4 |  반복 1241 / 1327 | 시간 782[s] | 퍼플렉서티 91.93\n",
      "| 에폭 4 |  반복 1261 / 1327 | 시간 785[s] | 퍼플렉서티 93.78\n",
      "| 에폭 4 |  반복 1281 / 1327 | 시간 788[s] | 퍼플렉서티 90.59\n",
      "| 에폭 4 |  반복 1301 / 1327 | 시간 791[s] | 퍼플렉서티 112.47\n",
      "| 에폭 4 |  반복 1321 / 1327 | 시간 794[s] | 퍼플렉서티 110.93\n"
     ]
    },
    {
     "data": {
      "image/png": "[encoded data removed]",
      "text/plain": [
       "<Figure size 432x288 with 1 Axes>"
      ]
     },
     "metadata": {
      "needs_background": "light"
     },
     "output_type": "display_data"
    },
    {
     "name": "stdout",
     "output_type": "stream",
     "text": [
      "퍼플렉서티 평가 중 ...\n",
      "234 / 235\n",
      "테스트 퍼플렉서티:  135.08055323787798\n"
     ]
    }
   ],
   "source": [
    "from common.optimizer import SGD\n",
    "from common.trainer import RnnlmTrainer\n",
    "from common.util import eval_perplexity\n",
    "from dataset import ptb\n",
    "from ch06.rnnlm import Rnnlm\n",
    "\n",
    "\n",
    "# 하이퍼파라미터 설정\n",
    "batch_size = 20\n",
    "wordvec_size = 100\n",
    "hidden_size = 100  # RNN의 은닉 상태 벡터의 원소 수\n",
    "time_size = 35     # RNN을 펼치는 크기\n",
    "lr = 20.0\n",
    "max_epoch = 4\n",
    "max_grad = 0.25    # 기울기 클리핑 적용\n",
    "\n",
    "# 학습 데이터 읽기\n",
    "corpus, word_to_id, id_to_word = ptb.load_data('train')\n",
    "corpus_test, _, _ = ptb.load_data('test')\n",
    "vocab_size = len(word_to_id)\n",
    "xs = corpus[:-1]\n",
    "ts = corpus[1:]\n",
    "\n",
    "# 모델 생성\n",
    "model = Rnnlm(vocab_size, wordvec_size, hidden_size)\n",
    "optimizer = SGD(lr)\n",
    "trainer = RnnlmTrainer(model, optimizer)\n",
    "\n",
    "# 기울기 클리핑을 적용하여 학습\n",
    "trainer.fit(xs, ts, max_epoch, batch_size, time_size, max_grad,\n",
    "            eval_interval=20) # 20번째 반복마다 퍼플렉시티를 평가\n",
    "trainer.plot(ylim=(0, 500))\n",
    "\n",
    "# 테스트 데이터로 평가\n",
    "model.reset_state() # 모델의 은닉 상태와 기억 셀 재설정 해줘야 함!\n",
    "ppl_test = eval_perplexity(model, corpus_test)\n",
    "print('테스트 퍼플렉서티: ', ppl_test)\n",
    "\n",
    "# 매개변수 저장\n",
    "model.save_params()"
   ]
  },
  {
   "cell_type": "markdown",
   "id": "20837840",
   "metadata": {},
   "source": [
    "## 6.5 RNNLM 추가 개선"
   ]
  },
  {
   "cell_type": "markdown",
   "id": "787f3f86",
   "metadata": {},
   "source": [
    "### 6.5.1 LSTM 계층 다층화"
   ]
  },
  {
   "cell_type": "markdown",
   "id": "85849bc9",
   "metadata": {},
   "source": [
    "<img src='./img/6/LSTM_7.png' width=400>  \n",
    "  \n",
    "LSTM 계층을 몇 층이라도 쌓을 수 있으며, 그 결과 더 복잡한 패턴을 학습할 수 있음"
   ]
  },
  {
   "cell_type": "markdown",
   "id": "413cf84f",
   "metadata": {},
   "source": [
    "### 6.5.2 드롭아웃에 의한 과적합 억제"
   ]
  },
  {
   "cell_type": "markdown",
   "id": "5fcdf1c0",
   "metadata": {},
   "source": [
    "LSTM 계층을 층을 깊게 쌓음으로써 표현력이 풍부한 모델을 만들 수 있음  \n",
    "하지만 층이 깊은 모델은 종종 과적합(overfitting)을 일으킴  \n",
    "RNN은 일반적인 피드포워드 신경망보다 쉽게 과적합을 일으킴  \n",
    "  \n",
    "과적합을 억제하는 방법으로 '훈련 데이터의 양 늘리기', '모델의 복잡도 줄이기', '모델의 복잡도에 페널티를 주는 정규화' 등의 방법이 있음  \n",
    "  \n",
    "또, 드롭아웃(dropout)처럼 훈련 시 계층 내의 뉴런 몇 개를 무작위로 무시하고 학습하는 방법도 일종의 정규화라고 할 수 있음  \n",
    "  \n",
    "드롭아웃은 무작위로 뉴런을 선택하여 무시함  \n",
    "RNN에서 시계열 방향으로 드롭아웃을 넣으면 학습 시 시간이 흐름에 따라 정보가 사라질 수 있음  \n",
    "즉, 흐르는 시간에 비례해 드롭아웃에 의한 노이즈가 축적됨  \n",
    "  \n",
    "따라서 아래 그림처럼 드롭아웃 계층을 시간축과는 독립적으로 상하 방향으로 삽입하는게 좋음  \n",
    "  \n",
    "<img src='./img/6/dropout_1.png' width=500>"
   ]
  },
  {
   "cell_type": "markdown",
   "id": "5f5c09ef",
   "metadata": {},
   "source": [
    "위에서 언급한 것처럼 일반적인 드롭아웃은 시간 방향에는 적합하지 않음  \n",
    "그러나 시간 방향으로 적용할 수 있는 변형 드롭아웃(Variational Dropout)이 나옴!  \n",
    "  \n",
    "변형 드롭아웃은 깊이 방향은 물론 시간 방향에도 이용할 수 있어서 언어 모델의 정확도를 한 층 더 향상시킬 수 있음  \n",
    "같은 계층에 속한 드롭아웃들은 같은 마스크(mask)를 공유함  \n",
    "여기서, '마스크'란 데이터의 '통과/차단'을 결정하는 이진(binary)형태의 무작위 패턴을 가리킴  \n",
    "  \n",
    "아래 그림에서 볼 수 있듯이 같은 계층 드롭아웃끼리 마스크를 공유함으로써 마스크가 '고정'됨  \n",
    "정보를 잃게 되는 방법도 '고정'되므로, 일반적인 드롭아웃 때와 달리 정보가 지수적으로 손실되는 사태를 피할 수 있음  \n",
    "  \n",
    "<img src='./img/6/dropout_2.png' width=800>"
   ]
  },
  {
   "cell_type": "markdown",
   "id": "fdf75864",
   "metadata": {},
   "source": [
    "### 6.5.3 가중치 공유"
   ]
  },
  {
   "cell_type": "markdown",
   "id": "8465b705",
   "metadata": {},
   "source": [
    "<img src='./img/6/LSTM_8.png' width=250>  \n",
    "  \n",
    "가중치 공유(weight tying) : Embedding 계층의 가중치와 Affine 계층의 가중치를 연결하는(공유하는) 기법  \n",
    "  \n",
    "두 계층이 가중치를 공유함으로써 학습하는 매개변수 수가 크게 줄어드는 동시에 정확도가 향상됨  \n",
    "(매개변수 수가 줄어든다 함은 과적합이 억제되는 혜택으로 이어질 수 있음)  \n",
    "  \n",
    "Embedding 계층의 가중치는 형상이 $V\\times H$이고  \n",
    "Affine 계층의 가중치 형상은 $H\\times V$임  \n",
    "따라서, Embedding 계층의 가중치를 전치하여 Affine 계층의 가중치로 설정"
   ]
  },
  {
   "cell_type": "markdown",
   "id": "4d3f8188",
   "metadata": {},
   "source": [
    "### 6.5.4 개선된 RNNLM 구현"
   ]
  },
  {
   "cell_type": "markdown",
   "id": "aed8f140",
   "metadata": {},
   "source": [
    "<img src='./img/6/LSTM_9.png' width=250>\n",
    "위에서 언급한 개선점 3개를 반영하여 BetterRnnlm 클래스로 구현  \n",
    "  \n",
    "- LSTM 계층의 다층화(2층)  \n",
    "- 드롭아웃 사용(깊이 방향으로 적용)  \n",
    "- 가중치 공유(Embedding 계층, Affine 계층)  "
   ]
  },
  {
   "cell_type": "code",
   "execution_count": 8,
   "id": "acfb9042",
   "metadata": {},
   "outputs": [],
   "source": [
    "from common.time_layers import *\n",
    "from common.np import *  # import numpy as np\n",
    "from common.base_model import BaseModel\n",
    "\n",
    "\n",
    "class BetterRnnlm(BaseModel):\n",
    "    '''\n",
    "     LSTM 계층을 2개 사용하고 각 층에 드롭아웃을 적용한 모델이다.\n",
    "     아래 [1]에서 제안한 모델을 기초로 하였고, [2]와 [3]의 가중치 공유(weight tying)를 적용했다.\n",
    "\n",
    "     [1] Recurrent Neural Network Regularization (https://arxiv.org/abs/1409.2329)\n",
    "     [2] Using the Output Embedding to Improve Language Models (https://arxiv.org/abs/1608.05859)\n",
    "     [3] Tying Word Vectors and Word Classifiers (https://arxiv.org/pdf/1611.01462.pdf)\n",
    "    '''\n",
    "    def __init__(self, vocab_size=10000, wordvec_size=650,\n",
    "                 hidden_size=650, dropout_ratio=0.5):\n",
    "        V, D, H = vocab_size, wordvec_size, hidden_size\n",
    "        rn = np.random.randn\n",
    "\n",
    "        embed_W = (rn(V, D) / 100).astype('f')\n",
    "        lstm_Wx1 = (rn(D, 4 * H) / np.sqrt(D)).astype('f')\n",
    "        lstm_Wh1 = (rn(H, 4 * H) / np.sqrt(H)).astype('f')\n",
    "        lstm_b1 = np.zeros(4 * H).astype('f')\n",
    "        lstm_Wx2 = (rn(H, 4 * H) / np.sqrt(H)).astype('f')\n",
    "        lstm_Wh2 = (rn(H, 4 * H) / np.sqrt(H)).astype('f')\n",
    "        lstm_b2 = np.zeros(4 * H).astype('f')\n",
    "        affine_b = np.zeros(V).astype('f')\n",
    "        \n",
    "        # 세 가지 개선\n",
    "        self.layers = [\n",
    "            TimeEmbedding(embed_W),\n",
    "            TimeDropout(dropout_ratio),\n",
    "            TimeLSTM(lstm_Wx1, lstm_Wh1, lstm_b1, stateful=True),\n",
    "            TimeDropout(dropout_ratio),\n",
    "            TimeLSTM(lstm_Wx2, lstm_Wh2, lstm_b2, stateful=True),\n",
    "            TimeDropout(dropout_ratio),\n",
    "            TimeAffine(embed_W.T, affine_b)  # weight tying\n",
    "        ]\n",
    "        self.loss_layer = TimeSoftmaxWithLoss()\n",
    "        self.lstm_layers = [self.layers[2], self.layers[4]]\n",
    "        self.drop_layers = [self.layers[1], self.layers[3], self.layers[5]]\n",
    "\n",
    "        self.params, self.grads = [], []\n",
    "        for layer in self.layers:\n",
    "            self.params += layer.params\n",
    "            self.grads += layer.grads\n",
    "\n",
    "    def predict(self, xs, train_flg=False):\n",
    "        for layer in self.drop_layers:\n",
    "            layer.train_flg = train_flg\n",
    "\n",
    "        for layer in self.layers:\n",
    "            xs = layer.forward(xs)\n",
    "        return xs\n",
    "\n",
    "    def forward(self, xs, ts, train_flg=True):\n",
    "        score = self.predict(xs, train_flg)\n",
    "        loss = self.loss_layer.forward(score, ts)\n",
    "        return loss\n",
    "\n",
    "    def backward(self, dout=1):\n",
    "        dout = self.loss_layer.backward(dout)\n",
    "        for layer in reversed(self.layers):\n",
    "            dout = layer.backward(dout)\n",
    "        return dout\n",
    "\n",
    "    def reset_state(self):\n",
    "        for layer in self.lstm_layers:\n",
    "            layer.reset_state()"
   ]
  },
  {
   "cell_type": "markdown",
   "id": "4bb05b96",
   "metadata": {},
   "source": [
    "개선된 BetterRnnlm 클래스 학습  \n",
    "  \n",
    "여기서는 매 에폭에서 검증 데이터로 퍼플렉서티를 평가하고, 그 값이 나빠졌을 경우에만 학습률을 낮춤(1/4로 설정했음)  \n",
    "(이 기술은 실전에서 자주 쓰임)  "
   ]
  },
  {
   "cell_type": "code",
   "execution_count": null,
   "id": "6b398b4e",
   "metadata": {},
   "outputs": [],
   "source": [
    "from common import config\n",
    "# GPU에서 실행하려면 아래 주석을 해제하세요(CuPy 필요).\n",
    "# ==============================================\n",
    "# config.GPU = True\n",
    "# ==============================================\n",
    "from common.optimizer import SGD\n",
    "from common.trainer import RnnlmTrainer\n",
    "from common.util import eval_perplexity, to_gpu\n",
    "from dataset import ptb\n",
    "from better_rnnlm import BetterRnnlm\n",
    "\n",
    "\n",
    "# 하이퍼파라미터 설정\n",
    "batch_size = 20\n",
    "wordvec_size = 650\n",
    "hidden_size = 650\n",
    "time_size = 35\n",
    "lr = 20.0\n",
    "max_epoch = 40\n",
    "max_grad = 0.25\n",
    "dropout = 0.5\n",
    "\n",
    "# 학습 데이터 읽기\n",
    "corpus, word_to_id, id_to_word = ptb.load_data('train')\n",
    "corpus_val, _, _ = ptb.load_data('val')\n",
    "corpus_test, _, _ = ptb.load_data('test')\n",
    "\n",
    "if config.GPU:\n",
    "    corpus = to_gpu(corpus)\n",
    "    corpus_val = to_gpu(corpus_val)\n",
    "    corpus_test = to_gpu(corpus_test)\n",
    "\n",
    "vocab_size = len(word_to_id)\n",
    "xs = corpus[:-1]\n",
    "ts = corpus[1:]\n",
    "\n",
    "model = BetterRnnlm(vocab_size, wordvec_size, hidden_size, dropout)\n",
    "optimizer = SGD(lr)\n",
    "trainer = RnnlmTrainer(model, optimizer)\n",
    "\n",
    "best_ppl = float('inf')\n",
    "for epoch in range(max_epoch):\n",
    "    trainer.fit(xs, ts, max_epoch=1, batch_size=batch_size,\n",
    "                time_size=time_size, max_grad=max_grad)\n",
    "\n",
    "    model.reset_state()\n",
    "    ppl = eval_perplexity(model, corpus_val)\n",
    "    print('검증 퍼플렉서티: ', ppl)\n",
    "\n",
    "    if best_ppl > ppl:\n",
    "        best_ppl = ppl\n",
    "        model.save_params()\n",
    "    else:\n",
    "        lr /= 4.0\n",
    "        optimizer.lr = lr\n",
    "\n",
    "    model.reset_state()\n",
    "    print('-' * 50)\n",
    "\n",
    "\n",
    "# 테스트 데이터로 평가\n",
    "model.reset_state()\n",
    "ppl_test = eval_perplexity(model, corpus_test)\n",
    "print('테스트 퍼플렉서티: ', ppl_test)"
   ]
  },
  {
   "cell_type": "markdown",
   "id": "0ce86b10",
   "metadata": {},
   "source": [
    "테스트 데이터로 얻은 최종 퍼플렉서티는 75.76 정도가 됨  \n",
    "개선 전 RNNLM의 퍼플렉서티가 100 이상이었음을 생각하면 상당히 개선된 것을 알 수 있음  "
   ]
  },
  {
   "cell_type": "markdown",
   "id": "94b8761c",
   "metadata": {},
   "source": [
    "# APPENDIX C GRU"
   ]
  },
  {
   "cell_type": "markdown",
   "id": "398d2fe2",
   "metadata": {},
   "source": [
    "LSTM은 매개변수가 많아서 계산이 오래 걸린다는 단점이 있음  \n",
    "GRU(Gated Recurrent Unit)은 게이트를 사용한다는 개념은 유지한 채, 매개변수를 줄여 계산 시간을 줄인 모델"
   ]
  },
  {
   "cell_type": "markdown",
   "id": "c01d885a",
   "metadata": {},
   "source": [
    "## C.1 GRU의 인터페이스"
   ]
  },
  {
   "cell_type": "markdown",
   "id": "62db4647",
   "metadata": {},
   "source": [
    "LSTM의 핵심인 게이트는 학습 시 기울기를 원활하게 흘려주어 기울기 소실을 줄임  \n",
    "GRU도 같은 사상을 계승하나, 계층의 인터페이스가 다름  \n",
    "\n",
    "<img src='./img/6/GRU_1.png' width=500>  \n",
    "  \n",
    "위 그림과 같이 GRU는 LSTM을 '더 단순하게' 만든 아키텍처로 기억 셀 없이 은닉 상태만 사용함  "
   ]
  },
  {
   "cell_type": "markdown",
   "id": "f414ddea",
   "metadata": {},
   "source": [
    "## C.2 GRU의 계산 그래프"
   ]
  },
  {
   "cell_type": "markdown",
   "id": "92c5003f",
   "metadata": {},
   "source": [
    "<img src='./img/6/GRU_2.png' width=500>"
   ]
  },
  {
   "cell_type": "markdown",
   "id": "3f89f3e6",
   "metadata": {},
   "source": [
    "GRU 내부에서 수행하는 계산은 다음과 같다.  \n",
    "  \n",
    "$z=\\sigma(x_tW_x^{(z)}+h_{t-1}W_h^{(z)}+b^{(z)})$  \n",
    "$r=\\sigma(x_tW_x^{(r)}+h_{t-1}W_h^{(r)}+b^{(r})$  \n",
    "$\\tilde{h}=tanh(x_tW_x+(r\\odot h_{t-1})W_h+b)$  \n",
    "$h_t=(1-z)\\odot h_{t-1}+z\\odot \\tilde{h}$  \n",
    "  \n",
    "GRU에는 기억 셀은 없고 시간 방향으로 전파하는 것은 은닉 상태 h뿐임  \n",
    "r과 z라는 2개의 게이트를 사용함  \n",
    "  \n",
    "__reset 게이트__ : 과거의 은닉 상태를 얼마나 '무시'할지를 정함  \n",
    "만약 r이 0이면 새로운 은닉 상태 $\\tilde{h}$는 입력 $x_t$만으로 결정됨  \n",
    "즉, 과거의 은닉 상태는 완전히 무시됨  \n",
    "  \n",
    "__update 게이트__ : 은닉 상태를 갱신하는 게이트  \n",
    "LSTM의 forget 게이트와 input 게이트의 역할을 update 게이트에서 수행함  \n",
    "forget 게이트로서의 기능은 다음 식 $(1-z)\\odot h_{t-1}$에 따라 과거의 은닉 상태에서 잊어야 할 정보를 삭제함  \n",
    "input 게이트로서의 기능은 $z\\odot \\tilde{h}$ 부분으로 새로 추가된 정보에 가중치를 부여함"
   ]
  }
 ],
 "metadata": {
  "kernelspec": {
   "display_name": "Python 3 (ipykernel)",
   "language": "python",
   "name": "python3"
  },
  "language_info": {
   "codemirror_mode": {
    "name": "ipython",
    "version": 3
   },
   "file_extension": ".py",
   "mimetype": "text/x-python",
   "name": "python",
   "nbconvert_exporter": "python",
   "pygments_lexer": "ipython3",
   "version": "3.8.8"
  }
 },
 "nbformat": 4,
 "nbformat_minor": 5
}
