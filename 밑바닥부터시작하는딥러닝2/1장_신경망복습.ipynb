{
 "cells": [
  {
   "cell_type": "markdown",
   "id": "8affb2db",
   "metadata": {},
   "source": [
    "# CHAPTER 1 신경망 복습"
   ]
  },
  {
   "cell_type": "markdown",
   "id": "53999d49",
   "metadata": {},
   "source": [
    "## 1.1 수학과 파이썬 복습"
   ]
  },
  {
   "cell_type": "markdown",
   "id": "95b65721",
   "metadata": {},
   "source": [
    "### 1.1.1 벡터와 행렬"
   ]
  },
  {
   "cell_type": "markdown",
   "id": "bff1d3d8",
   "metadata": {},
   "source": [
    "- 벡터 : 크기와 방향을 가진 양  \n",
    "    벡터는 숫자가 일렬로 늘어선 집합으로 표현할 수 있음  \n",
    "    파이썬에서는 1차원 배열로 취급  \n",
    "<br> \n",
    "\n",
    "- 행렬 : 숫자가 2차원 형태(사각형 형상)"
   ]
  },
  {
   "cell_type": "code",
   "execution_count": 1,
   "id": "644083d8",
   "metadata": {},
   "outputs": [
    {
     "data": {
      "text/plain": [
       "numpy.ndarray"
      ]
     },
     "execution_count": 1,
     "metadata": {},
     "output_type": "execute_result"
    }
   ],
   "source": [
    "import numpy as np\n",
    "\n",
    "x = np.array([1,2,3])\n",
    "x.__class__ # 클래스 이름 표시"
   ]
  },
  {
   "cell_type": "code",
   "execution_count": 2,
   "id": "e01e3ffe",
   "metadata": {},
   "outputs": [
    {
     "data": {
      "text/plain": [
       "(3,)"
      ]
     },
     "execution_count": 2,
     "metadata": {},
     "output_type": "execute_result"
    }
   ],
   "source": [
    "x.shape # 형상"
   ]
  },
  {
   "cell_type": "code",
   "execution_count": 4,
   "id": "c1577d47",
   "metadata": {},
   "outputs": [
    {
     "data": {
      "text/plain": [
       "1"
      ]
     },
     "execution_count": 4,
     "metadata": {},
     "output_type": "execute_result"
    }
   ],
   "source": [
    "x.ndim # 차원 수"
   ]
  },
  {
   "cell_type": "code",
   "execution_count": 5,
   "id": "acf21d0e",
   "metadata": {},
   "outputs": [
    {
     "data": {
      "text/plain": [
       "(2, 3)"
      ]
     },
     "execution_count": 5,
     "metadata": {},
     "output_type": "execute_result"
    }
   ],
   "source": [
    "W = np.array([[1,2,3],[4,5,6]])\n",
    "W.shape"
   ]
  },
  {
   "cell_type": "code",
   "execution_count": 6,
   "id": "fb08a168",
   "metadata": {},
   "outputs": [
    {
     "data": {
      "text/plain": [
       "2"
      ]
     },
     "execution_count": 6,
     "metadata": {},
     "output_type": "execute_result"
    }
   ],
   "source": [
    "W.ndim"
   ]
  },
  {
   "cell_type": "markdown",
   "id": "ca94ca9b",
   "metadata": {},
   "source": [
    "### 1.1.2 행렬의 원소별 연산"
   ]
  },
  {
   "cell_type": "markdown",
   "id": "5eecb0a0",
   "metadata": {},
   "source": [
    "원소별(element-wise) 연산 : 서로 대응하는 원소끼리 (각 원소가 독립적으로) 연산"
   ]
  },
  {
   "cell_type": "code",
   "execution_count": 8,
   "id": "a6d79935",
   "metadata": {},
   "outputs": [
    {
     "data": {
      "text/plain": [
       "array([[ 1,  3,  5],\n",
       "       [ 7,  9, 11]])"
      ]
     },
     "execution_count": 8,
     "metadata": {},
     "output_type": "execute_result"
    }
   ],
   "source": [
    "W = np.array([[1,2,3],[4,5,6]])\n",
    "X = np.array([[0,1,2],[3,4,5]])\n",
    "W + X"
   ]
  },
  {
   "cell_type": "code",
   "execution_count": 9,
   "id": "a5eea5ca",
   "metadata": {},
   "outputs": [
    {
     "data": {
      "text/plain": [
       "array([[ 0,  2,  6],\n",
       "       [12, 20, 30]])"
      ]
     },
     "execution_count": 9,
     "metadata": {},
     "output_type": "execute_result"
    }
   ],
   "source": [
    "W * X"
   ]
  },
  {
   "cell_type": "markdown",
   "id": "db4c66fa",
   "metadata": {},
   "source": [
    "### 1.1.3 브로드캐스트"
   ]
  },
  {
   "cell_type": "markdown",
   "id": "91ab3b16",
   "metadata": {},
   "source": [
    "<img src='./img/1/broadcast.png' width=500>"
   ]
  },
  {
   "cell_type": "markdown",
   "id": "4778cea1",
   "metadata": {},
   "source": [
    "배열의 형상이 달라도 자동적으로 확장하여 형상이 다른 배열끼리의 연산을 수행할 수 있게 하는 기능"
   ]
  },
  {
   "cell_type": "markdown",
   "id": "5e8a410f",
   "metadata": {},
   "source": [
    "### 1.1.4 벡터의 내적과 행렬의 곱"
   ]
  },
  {
   "cell_type": "markdown",
   "id": "f6e13a9d",
   "metadata": {},
   "source": [
    "- 벡터의 내적 : 두 벡터에서 대응하는 원소들의 곱을 모두 더한 것  \n",
    "<br>\n",
    "\n",
    "<center>$x\\cdot y=x_1y_1+x_2y_2+\\cdots +x_ny_n$</center>"
   ]
  },
  {
   "cell_type": "markdown",
   "id": "adcd04eb",
   "metadata": {},
   "source": [
    "- 행렬의 곱 : 왼쪽 행렬의 행벡터(가로 방향)와 오른쪽 행렬의 열벡터(세로 방향)의 내적(원소별 곱의 합)으로 계산  \n",
    "    계산 결과는 새로운 행렬의 대응하는 원소에 저장됨  \n",
    "<br>\n",
    "<img src='./img/1/matrix_product_1.png' width=300>"
   ]
  },
  {
   "cell_type": "code",
   "execution_count": 10,
   "id": "51038964",
   "metadata": {},
   "outputs": [
    {
     "data": {
      "text/plain": [
       "32"
      ]
     },
     "execution_count": 10,
     "metadata": {},
     "output_type": "execute_result"
    }
   ],
   "source": [
    "# 벡터의 내적\n",
    "a = np.array([1,2,3])\n",
    "b = np.array([4,5,6])\n",
    "np.dot(a,b)"
   ]
  },
  {
   "cell_type": "code",
   "execution_count": 12,
   "id": "ad7e3d30",
   "metadata": {},
   "outputs": [
    {
     "data": {
      "text/plain": [
       "array([[19, 22],\n",
       "       [43, 50]])"
      ]
     },
     "execution_count": 12,
     "metadata": {},
     "output_type": "execute_result"
    }
   ],
   "source": [
    "# 행렬의 곱\n",
    "A = np.array([[1,2],[3,4]])\n",
    "B = np.array([[5,6],[7,8]])\n",
    "np.matmul(A,B)"
   ]
  },
  {
   "cell_type": "markdown",
   "id": "b76593a7",
   "metadata": {},
   "source": [
    "### 1.1.5 행렬 형상 확인"
   ]
  },
  {
   "cell_type": "markdown",
   "id": "ff9798a8",
   "metadata": {},
   "source": [
    "행렬의 곱에서는 대응하는 차원의 원소 수를 일치시켜야 함  \n",
    "<br>\n",
    "<img src='./img/1/matrix_product_2.png' width=300>  \n",
    "<br>\n",
    "행렬 C의 형상은 A의 행 수와 B의 열 수가 됨"
   ]
  },
  {
   "cell_type": "markdown",
   "id": "8aba82e6",
   "metadata": {},
   "source": [
    "## 1.2 신경망의 추론"
   ]
  },
  {
   "cell_type": "markdown",
   "id": "bfdaa352",
   "metadata": {},
   "source": [
    "### 1.2.1 신경망 추론 전체 그림"
   ]
  },
  {
   "cell_type": "markdown",
   "id": "012fa07e",
   "metadata": {},
   "source": [
    "ex) 입력층에 뉴런 2개, 은닉층에 뉴런 4개, 출력층에 뉴런 3개를 둔 신경망"
   ]
  },
  {
   "cell_type": "markdown",
   "id": "e4efec5e",
   "metadata": {},
   "source": [
    "<img src='./img/1/example.png' width=300>  "
   ]
  },
  {
   "cell_type": "markdown",
   "id": "f775f167",
   "metadata": {},
   "source": [
    "가중치와 뉴런의 값을 각각 곱해서 그 합이 다음 뉴런의 입력이 됨  \n",
    "(정확하게는 그 합에 활성화 함수(activation function)을 적용한 값이 다음 뉴런의 입력이 됨)  \n",
    "또, 이때 각 층에서는 이전 뉴런의 값에 영향받지 않은 '정수'인 편향(bias)도 더해짐"
   ]
  },
  {
   "cell_type": "markdown",
   "id": "d42923c2",
   "metadata": {},
   "source": [
    "입력층의 데이터를 $(x_1, x_2)$, 가중치는 $(w_{11}, w_{21})$, 편향은 $b_1$으로 쓴다면,  \n",
    "은닉층 중 첫 번째 뉴런 $h_1$는 다음과 같이 계산할 수 있다.  \n",
    "  \n",
    "$h_1=x_1w_{11}+x_2w_{21}+b_1$  \n",
    "  \n",
    "위와 같이 은닉층의 뉴런은 가중치의 합으로 계산됨  \n",
    "이 값은 행렬의 곱으로 한꺼번에 계산할 수 있음  \n",
    "  \n",
    "  \n",
    "$(h_1,h_2,h_3,h_4)=(x_1,x_2)\\begin{pmatrix}w_{11}&w_{12}&w_{13}&w_{14} \\\\ w_{21}&w_{22}&w_{23}&w_{24} \\end{pmatrix}+(b_1,b_2,b_3,b_4)$  \n",
    "  \n",
    "$h=xW+b$  \n",
    "  \n",
    "- x : 입력(1,2)\n",
    "- h : 은닉층의 뉴런(1,4)\n",
    "- W : 가중치(2,4)\n",
    "- b : 편향(4,)  \n",
    "  \n",
    "\\* 여기서, 편향 b1은 브로드캐스트 되어 더해짐\n",
    "  \n",
    "미니배치로 한번에 N개 데이터를 처리하는 경우   \n",
    "  \n",
    "- x : 입력(N,2)\n",
    "- h : 은닉층의 뉴런(N,4)\n",
    "- W : 가중치(2,4)\n",
    "- b : 편향(4,)  "
   ]
  },
  {
   "cell_type": "code",
   "execution_count": 15,
   "id": "c7a5f406",
   "metadata": {},
   "outputs": [],
   "source": [
    "import numpy as np\n",
    "W1 = np.random.randn(2,4) # 가중치\n",
    "b1 = np.random.randn(4) # 편향\n",
    "x = np.random.randn(10,2) # 입력\n",
    "h = np.matmul(x, W1) + b1"
   ]
  },
  {
   "cell_type": "markdown",
   "id": "349b0967",
   "metadata": {},
   "source": [
    "완전연결계층에 의한 변환은 '선형' 변환  \n",
    "여기에 '비선형'효과를 부여하는 것이 활성화 함수  \n",
    "비선형 활성화 함수를 이용함으로써 신경망의 표현력을 높일 수 있음  \n",
    "  \n",
    "ex) 시그모이드 함수(sigmoid function)  \n",
    "  \n",
    "$\\sigma(x)=\\frac{1}{1+exp(-x)}$  \n",
    "  \n",
    "시그모이드 함수는 알파벳 'S'자 모양의 곡선 함수  \n",
    "임의의 실수를 입력받아 0에서 1 사이의 실수를 출력함"
   ]
  },
  {
   "cell_type": "code",
   "execution_count": 17,
   "id": "c7e39f1f",
   "metadata": {},
   "outputs": [],
   "source": [
    "def sigmoid(x):\n",
    "    return 1/(1+np.exp(-x))"
   ]
  },
  {
   "cell_type": "code",
   "execution_count": 18,
   "id": "c9192d46",
   "metadata": {},
   "outputs": [],
   "source": [
    "# 시그모이드 함수로 비선형 변환\n",
    "a = sigmoid(h)"
   ]
  },
  {
   "cell_type": "markdown",
   "id": "dbea797e",
   "metadata": {},
   "source": [
    "활성화 함수의 출력을 활성화(activation)이라고 함"
   ]
  },
  {
   "cell_type": "code",
   "execution_count": 19,
   "id": "a16dd6cd",
   "metadata": {},
   "outputs": [],
   "source": [
    "# 종합\n",
    "import numpy as np\n",
    "\n",
    "def sigmoid(x):\n",
    "    return 1/(1+np.exp(-x))\n",
    "\n",
    "x = np.random.randn(10,2)\n",
    "W1 = np.random.randn(2,4)\n",
    "b1 = np.random.randn(4)\n",
    "W2 = np.random.randn(4,3)\n",
    "b2 = np.random.randn(3)\n",
    "\n",
    "h = np.matmul(x, W1) + b1\n",
    "a = sigmoid(h)\n",
    "s = np.matmul(a, W2) + b2"
   ]
  },
  {
   "cell_type": "markdown",
   "id": "44b1b59f",
   "metadata": {},
   "source": [
    "위 신경망 예시는 3차원 데이터를 출력합  \n",
    "각 차원의 값을 이용하여 3 클래스 분류를 할 수 있음  \n",
    "이 경우, 출력된 3차원 벡터의 각 차원은 각 클래스에 대응하는 '점수(score)'가 됨  \n",
    "  \n",
    "\\* 점수란 '확률'이 되기 전의 값, 점수가 높을수록 그 뉴런에 해당하는 클래스의 확률도 높아짐  \n",
    "\\* 점수를 소프트맥스 함수(softmax function)에 입력하면 확률을 얻을 수 있음  \n",
    "  \n",
    "분류를 하면 출력층에서 가장 큰 값을 내뱉는 뉴런에 해당하는 클래스가 예측 결과가 됨  \n",
    "  \n"
   ]
  },
  {
   "cell_type": "markdown",
   "id": "c4266051",
   "metadata": {},
   "source": [
    "### 1.2.2 계층으로 클래스화 및 순전파 구현"
   ]
  },
  {
   "cell_type": "markdown",
   "id": "f0dce199",
   "metadata": {},
   "source": [
    "- 순전파(forward propagation) : 신경망 추론 과정에서 신경망을 구성하는 각 계층이 입력으로부터 출력 방향으로 처리 결과를 차례로 전파  \n",
    "- 역전파(backward propagation) : 신경망 학습에서 데이터(기울기)를 순전파와는 반대 방향으로 전파"
   ]
  },
  {
   "cell_type": "markdown",
   "id": "ff42758c",
   "metadata": {},
   "source": [
    "#### sigmoid 계층"
   ]
  },
  {
   "cell_type": "code",
   "execution_count": 20,
   "id": "576d1d50",
   "metadata": {},
   "outputs": [],
   "source": [
    "import numpy as np\n",
    "\n",
    "class Sigmoid:\n",
    "    def __init__(self):\n",
    "        self.params = []\n",
    "        \n",
    "    def forward(self, x):\n",
    "        return 1 / (1 + np.exp(-x))"
   ]
  },
  {
   "cell_type": "markdown",
   "id": "b74c4720",
   "metadata": {},
   "source": [
    "#### Affine 계층"
   ]
  },
  {
   "cell_type": "code",
   "execution_count": 21,
   "id": "a099dc4e",
   "metadata": {},
   "outputs": [],
   "source": [
    "class Affine:\n",
    "    def __init__(self, W, b):\n",
    "        self.params = [W, b]\n",
    "        \n",
    "    def forward(self, x):\n",
    "        W, b = self.params\n",
    "        out = np.matmul(x, W) + b\n",
    "        return out"
   ]
  },
  {
   "cell_type": "markdown",
   "id": "36b81612",
   "metadata": {},
   "source": [
    "#### 신경망 구현( X(입력)  →  Affine  →  Sigmoid  →  Affine  →  S(점수) )"
   ]
  },
  {
   "cell_type": "code",
   "execution_count": 23,
   "id": "5f33dd58",
   "metadata": {},
   "outputs": [],
   "source": [
    "class TwoLayerNet:\n",
    "    def __init__(self, input_size, hidden_size, output_size):\n",
    "        I, H, O = input_size, hidden_size, output_size\n",
    "        \n",
    "        # 가중치와 편향 초기화\n",
    "        W1 = np.random.randn(I, H)\n",
    "        b1 = np.random.randn(H)\n",
    "        W2 = np.random.randn(H, O)\n",
    "        b2 = np.random.randn(O)\n",
    "\n",
    "        # 계층 생성\n",
    "        self.layers = [\n",
    "            Affine(W1, b1),\n",
    "            Sigmoid(),\n",
    "            Affine(W2, b2)\n",
    "        ]\n",
    "\n",
    "        # 모든 가중치를 리스트에 모은다.\n",
    "        self.params = []\n",
    "        for layer in self.layers:\n",
    "            self.params += layer.params\n",
    "        \n",
    "    def predict(self, x):\n",
    "        for layer in self.layers:\n",
    "            x = layer.forward(x)\n",
    "        return x"
   ]
  },
  {
   "cell_type": "markdown",
   "id": "b00fad97",
   "metadata": {},
   "source": [
    "#### 신경망의 추론 수행"
   ]
  },
  {
   "cell_type": "code",
   "execution_count": 24,
   "id": "6e736d38",
   "metadata": {},
   "outputs": [],
   "source": [
    "x = np.random.randn(10, 2)\n",
    "model = TwoLayerNet(2, 4, 3)\n",
    "s = model.predict(x)"
   ]
  },
  {
   "cell_type": "markdown",
   "id": "8c9979ba",
   "metadata": {},
   "source": [
    "## 1.3 신경망의 학습"
   ]
  },
  {
   "cell_type": "markdown",
   "id": "b61dde39",
   "metadata": {},
   "source": [
    "- 추론 : 문제의 답을 구하는 작업  \n",
    "- 학습 : 최적의 매개변수 값을 찾는 작업"
   ]
  },
  {
   "cell_type": "markdown",
   "id": "050cc8d3",
   "metadata": {},
   "source": [
    "### 1.3.1 손실 함수"
   ]
  },
  {
   "cell_type": "markdown",
   "id": "c5efcfd6",
   "metadata": {},
   "source": [
    "신경망 학습에서는 학습이 얼마나 잘 되고 있는지를 알기 위한 '척도'로 학습 단계의 특정 시점에서 신경망의 성능을 나타내는 손실(loss)를 사용  \n",
    "손실은 학습 데이터(학습 시 주어진 정답 데이터)와 신경망이 예측한 결과를 비교하여 예측이 얼마나 나쁜가를 산출한 단일 값(스칼라)  \n",
    "  \n",
    "신경망의 손실은 손실 함수(loss function)을 사용해 구함  \n",
    "다중 클래스 분류(multi-class classification) 신경망에서는 손실 함수로 흔히 교차 엔트로피 오차(Cross Entropy Error)를 사용  \n",
    "  \n",
    "Softmax 계층의 출력은 확률이 되고,  다음 계층인 Cross Entropy Error 계층에는 확률과 정답 레이블이 입력됨"
   ]
  },
  {
   "cell_type": "markdown",
   "id": "0fba4ce1",
   "metadata": {},
   "source": [
    "- __소프트맥스 함수__  \n",
    "  \n",
    "    $y_k=\\frac{exp(s_k}{\\sum_{i=1}^nexp(s_i)}$  \n",
    "  \n",
    "소프트맥스 함수의 분자는 점수 $S_k$의 지수 함수이고, 분모는 모든 입력 신호의 지수 함수의 총합  \n",
    "소프트맥스 함수의 출력의 각 원소는 0.0 이상 1.0 이하의 실수  \n",
    "그리고 그 원소를 모두 더하면 1.0이 됨  \n",
    "따라서 소프트맥스 함수의 출력을 '확률'로 해석할 수 있음  \n",
    "  \n",
    "- __교차 엔트로피 오차__  \n",
    "  \n",
    "    $L=-\\sum_kt_klogy_k$   \n",
    "  \n",
    "여기서 t는 원핫 벡터로 표기한 정답레이블임  \n",
    "따라서, L은 정답 레이블이 1의 원소에 해당하는 출력의 자연로그  \n",
    "  \n",
    "- __교차 엔트로피 오차(미니배치)__  \n",
    "  \n",
    "    $L=-\\frac{1}{N}\\sum_N\\sum_kt_{nk}logy_{nk}$  \n",
    "  \n",
    "'평균 손실 함수'를 구함"
   ]
  },
  {
   "cell_type": "markdown",
   "id": "475958e5",
   "metadata": {},
   "source": [
    "### 1.3.2 미분과 기울기"
   ]
  },
  {
   "cell_type": "markdown",
   "id": "4970ad09",
   "metadata": {},
   "source": [
    "신경망 학습의 목표는 손실을 최소화하는 매개변수를 찾는 것  \n",
    "  \n",
    "$y=f(x)$가 있을 때, x에 관한 y의 미분은 $\\frac{\\partial{y}}{\\partial{x}}$  \n",
    "  \n",
    "여기서, $\\frac{\\partial{y}}{\\partial{x}}$가 의미하는 것은 x의 값을 '조금' 변화시켰을 때(더 정확하게는 그 '조금의 변화'를 극한까지 줄일 때)  \n",
    "y의 값이 얼마나 변하는가 하는 '변화의 정도'  \n",
    "이는 함수의 '기울기'에 해당함  \n",
    "  \n",
    "-----------------\n",
    "L은 스칼라, x는 벡터인 함수 $L=f(x)$인 경우,  \n",
    "$x_i$에 대한 L의 미분은 다음과 같다.\n",
    "  \n",
    "$\\frac{\\partial{L}}{\\partial{x}}=(\\frac{\\partial{L}}{\\partial{x_1}},\\frac{\\partial{L}}{\\partial{x_2}},\\cdots,\\frac{\\partial{L}}{\\partial{x_n}})$  \n",
    "  \n",
    "이처럼 벡터의 각 원소에 대한 미분을 정리한 것이 기울기(gradient)  \n",
    "  \n",
    "-----------------\n",
    "W가 $m\\times n$ 행렬이라면 $L=g(W)$함수의 기울기는 다음과 같다.  \n",
    "  \n",
    "$\\frac{\\partial{L}}{\\partial{W}} =\n",
    " \\begin{pmatrix}\n",
    "  \\frac{\\partial{L}}{\\partial{w_{11}}} & \\dots & \\frac{\\partial{L}}{\\partial{w_{1n}}} \\\\\n",
    "  \\vdots & \\ddots &  \\\\\n",
    "  \\frac{\\partial{L}}{\\partial{w_{m1}}}  &   & \\frac{\\partial{L}}{\\partial{w_{mn}}}  \n",
    " \\end{pmatrix}$  \n",
    "  \n",
    "이처럼 L의 W에 대한 기울기를 행렬로 정리할 수 있음  \n",
    "  \n",
    "W와 $\\frac{\\partial{L}}{\\partial{W}}$의 형상이 같음"
   ]
  },
  {
   "cell_type": "markdown",
   "id": "37f9730a",
   "metadata": {},
   "source": [
    "### 1.3.3 연쇄 법칙"
   ]
  },
  {
   "cell_type": "markdown",
   "id": "0a740191",
   "metadata": {},
   "source": [
    "연쇄 법칙(chain rule) : 합성 함수에 대한 미분의 법칙  \n",
    "  \n",
    "ex) $y=f(x), z=g(y)$라는 두 함수가 있을 때, $z=g(f(x))$가 되고, 이 합성 함수의 미분(x에 대한 z의 미분)은 다음과 같다.\n",
    "  \n",
    "$\\frac{\\partial{z}}{\\partial{x}}=\\frac{\\partial{z}}{\\partial{y}}\\frac{\\partial{y}}{\\partial{x}}$  \n",
    "  \n",
    "즉, x에 대한 z의 미분은 $y=f(x)$의 미분과 $z=g(y)$의 미분을 곱하여 구할 수 있음   \n",
    "  \n",
    "따라서 각 함수의 국소적인 미분을 계산할 수 있다면 그 값들을 곱해서 전체의 미분을 구할 수 있음  \n",
    "오차역전파법에서 각 매개변수에 대한 손실의 기울기를 구할 때 연쇄 법칙을 이용함"
   ]
  },
  {
   "cell_type": "markdown",
   "id": "68787955",
   "metadata": {},
   "source": [
    "### 1.3.4 계산 그래프"
   ]
  },
  {
   "cell_type": "markdown",
   "id": "a08978d5",
   "metadata": {},
   "source": [
    "계산 그래프는 계산 과정을 시각적으로 보여줌  \n",
    "  \n",
    "- 순전파 : 처리 결과가 순서대로(왼쪽에서 오른쪽으로) 흐름\n",
    "- 역전파 : 순전파와 반대 방향으로 전파됨  \n",
    "    전파되는 값은 최종 출력의 각 변수에 대한 미분"
   ]
  },
  {
   "cell_type": "markdown",
   "id": "a1c18efb",
   "metadata": {},
   "source": [
    "#### 덧셈노드  \n",
    "  \n",
    "<img src='./img/1/sum_node.png' width=250>  \n",
    "  \n",
    "상류로부터 받은 값에 1을 곱하여 하류로 기울기를 전파  \n",
    "  \n",
    "#### 곱셈노드  \n",
    "  \n",
    "<img src='./img/1/mul_node.png' width=250>  \n",
    "  \n",
    "상류로부터 받은 기울기에 '순전파 시의 입력을 서로 바꾼 값'을 곱함  \n",
    "  \n",
    "#### 분기노드  \n",
    "  \n",
    "<img src='./img/1/repeat_node_1.png' width=250>  \n",
    "  \n",
    "분기 노드는 같은 값이 복제되어 분기  \n",
    "분기 노드의 역전파는 상류에서 온 기울기들의 '합'이 됨  \n",
    "  \n",
    "#### Repeat 노드  \n",
    "  \n",
    "<img src='./img/1/repeat_node_2.png' width=250>  \n",
    "\n",
    "N개로의 분기(복제) 노드"
   ]
  },
  {
   "cell_type": "markdown",
   "id": "cf52a943",
   "metadata": {},
   "source": [
    "ex) 길이가 D인 배열을 N개로 복제하는 예  \n",
    "이 역전파는 N개의 기울기를 모두 더해 구함"
   ]
  },
  {
   "cell_type": "code",
   "execution_count": 25,
   "id": "88e23936",
   "metadata": {},
   "outputs": [],
   "source": [
    "import numpy as np\n",
    "D, N = 8, 7\n",
    "x = np.random.randn(1, D) # 입력\n",
    "y = np.repeat(x, N, axis=0) # 순전파\n",
    "\n",
    "dy = np.random.randn(N, D) # 무작위 기울기\n",
    "dx = np.sum(dy, axis=0, keepdims=True) # 역전파"
   ]
  },
  {
   "cell_type": "markdown",
   "id": "0bfbf9bb",
   "metadata": {},
   "source": [
    "#### Sum 노드  \n",
    "  \n",
    "Sum 노드의 역전파는 상류로부터의 기울기를 모든 화살표에 분배  \n",
    "Sum 노드와 Repeat 노드는 서로 '반대 관계'"
   ]
  },
  {
   "cell_type": "code",
   "execution_count": 29,
   "id": "10f2900f",
   "metadata": {},
   "outputs": [],
   "source": [
    "import numpy as np\n",
    "D, N = 8, 7\n",
    "x = np.random.randn(N, D) # 입력\n",
    "y = np.sum(x, axis=0, keepdims=True) # 순전파\n",
    "\n",
    "dy = np.random.randn(1, D) # 무작위 기울기\n",
    "dx = np.repeat(dy, N, axis=0) # 역전파"
   ]
  },
  {
   "cell_type": "markdown",
   "id": "174a0627",
   "metadata": {},
   "source": [
    "#### MatMul 노드  \n",
    "  \n",
    "행렬의 곱셈 'Matrix Multiply'의 약자  \n",
    "  \n",
    "<img src='./img/1/matmul_node.png' width=250>  \n",
    "  \n",
    "$x$의 i번째 원소에 대한 미분  \n",
    "  \n",
    "$\\frac{\\partial{L}}{\\partial{x_i}}=\\sum_j\\frac{\\partial{L}}{\\partial{y_j}}\\frac{\\partial{y_j}}{\\partial{x_i}}$  \n",
    "  \n",
    "이 식의 $\\frac{\\partial{L}}{\\partial{x_i}}$은 $x_i$를 변화시켰을 때 L이 얼마나 변할 것인가라는 '변화의 정도'를 나타냄  \n",
    "여기서 $x_i$를 변화시키면 벡터 y의 모든 원소가 변하고, 그로 인해 L이 변하게 됨  \n",
    "$x_i$에서 L에 이르는 연쇄 법칙의 경로는 여러 개가 있으며, 그 총합은 $\\frac{\\partial{L}}{\\partial{x_i}}$이 됨  \n",
    "  \n",
    "$\\frac{\\partial{y_j}}{\\partial{x_i}}=W_{ij}$이므로,  \n",
    "  \n",
    "$\\frac{\\partial{L}}{\\partial{x_i}}=\\sum_j\\frac{\\partial{L}}{\\partial{y_j}}\\frac{\\partial{y_j}}{\\partial{x_i}}=\\sum_j\\frac{\\partial{L}}{\\partial{y_j}}W_{ij}$  \n",
    "  \n",
    "$\\frac{\\partial{L}}{\\partial{x_i}}$는 벡터 $\\frac{\\partial{L}}{\\partial{y}}$와 W의 i행 벡터의 내적으로 구해짐을 알 수 있음  \n",
    "  \n",
    "따라서,  \n",
    "  \n",
    "$\\frac{\\partial{L}}{\\partial{x}}=\\frac{\\partial{L}}{\\partial{y}}W^T$  \n",
    "  \n",
    "마찬가지로,  \n",
    "  \n",
    "$\\frac{\\partial{L}}{\\partial{W}}=X^T\\frac{\\partial{L}}{\\partial{y}}$"
   ]
  },
  {
   "cell_type": "code",
   "execution_count": 30,
   "id": "4e3e7b89",
   "metadata": {},
   "outputs": [],
   "source": [
    "class MatMul:\n",
    "    def __init__(self, W):\n",
    "        self.params = [W]\n",
    "        self.grads = [np.zeros_like(W)]\n",
    "        self.x = None\n",
    "        \n",
    "    def forward(self, x):\n",
    "        W, = self.params\n",
    "        out = np.matmul(x, W)\n",
    "        self.x = x\n",
    "        return out\n",
    "    \n",
    "    def backward(self, dout):\n",
    "        W, = self.params\n",
    "        dx = np.matmul(dout, W.T)\n",
    "        dW = np.matmul(self.x.T, dout)\n",
    "        self.grads[0][...] = dW\n",
    "        return dx"
   ]
  },
  {
   "cell_type": "markdown",
   "id": "cdb00b7f",
   "metadata": {},
   "source": [
    "< 참고 >  \n",
    "  \n",
    "~~~python\n",
    "a = np.array([1,2,3])\n",
    "b = np.array([4,5,6])\n",
    "~~~\n",
    "  \n",
    "'a = b'와 'a[...] = b' 모두 a에는 [4,5,6]이 할당되나  \n",
    "두 경우 a가 가리키는 메모리 위치는 서로 다름  \n",
    "\n",
    "<img src='./img/1/deepcopy.png' width=500>  \n",
    "  \n",
    "a = b에서는 a가 가리키는 메모리 위치가 b가 가리키는 위치와 같아짐  \n",
    "실제 데이터 (4,5,6)은 복제되지 않는 다는 뜻으로 이를 '얕은 복사'라고 함  \n",
    "  \n",
    "한편, a[...] = b일 때는, a의 메모리 위치는 변하지 않고, a가 가리키는 메모리에 b의 원소가 복제됨  \n",
    "실제 데이터가 복제된다는 뜻에서 '깊은 복사'라고 함"
   ]
  },
  {
   "cell_type": "markdown",
   "id": "47d82edd",
   "metadata": {},
   "source": [
    "### 1.3.5 기울기 도출과 역전파 구현"
   ]
  },
  {
   "cell_type": "markdown",
   "id": "0c7a5f60",
   "metadata": {},
   "source": [
    "#### Sigmoid 계층"
   ]
  },
  {
   "cell_type": "markdown",
   "id": "97825319",
   "metadata": {},
   "source": [
    "시그모이드 함수  \n",
    "  \n",
    "$y=\\frac{1}{1+exp(-x}$  \n",
    "  \n",
    "위 식을 미분하면,  \n",
    "  \n",
    "$\\frac{\\partial{y}}{\\partial{x}}=y(1-y)$  "
   ]
  },
  {
   "cell_type": "code",
   "execution_count": 31,
   "id": "0e52960f",
   "metadata": {},
   "outputs": [],
   "source": [
    "class Sigmoid:\n",
    "    def __init__(self):\n",
    "        self.params, self.grads = [], []\n",
    "        self.out = None\n",
    "        \n",
    "    def forward(self, x):\n",
    "        out = 1 / (1 + np.exp(-x))\n",
    "        self.out = out\n",
    "        return out\n",
    "    \n",
    "    def backward(self, dout):\n",
    "        dx = dout * (1.0 - self.out) * self.out\n",
    "        return dx"
   ]
  },
  {
   "cell_type": "markdown",
   "id": "0a889a35",
   "metadata": {},
   "source": [
    "#### Affine 계층(완전연결층)"
   ]
  },
  {
   "cell_type": "code",
   "execution_count": 32,
   "id": "3714ebe5",
   "metadata": {},
   "outputs": [],
   "source": [
    "class Affine:\n",
    "    def __init__(self, W, b):\n",
    "        self.params = [W, b]\n",
    "        self.grads = [np.zeros_like(W), np.zeros_like(b)]\n",
    "        self.x = None\n",
    "        \n",
    "    def forward(self, x):\n",
    "        W, b = self.params\n",
    "        out = np.matmul(x, W) + b\n",
    "        self.x = x\n",
    "        return out\n",
    "    \n",
    "    def backward(self, dout):\n",
    "        W, b = self.params\n",
    "        dx = np.matmul(dout, W.T)\n",
    "        dW = np.matmul(self.x.T, dout)\n",
    "        db = np.sum(dout, axis=0)\n",
    "        \n",
    "        self.grads[0][...] = dW\n",
    "        self.grads[1][...] = db\n",
    "        return dx"
   ]
  },
  {
   "cell_type": "markdown",
   "id": "0d0d67a7",
   "metadata": {},
   "source": [
    "#### Softmax with Loss 계층"
   ]
  },
  {
   "cell_type": "markdown",
   "id": "938d0ef4",
   "metadata": {},
   "source": [
    "softmax 계층은 입력 ($a_1, a_2, a_3)$를 정규화하여 ($y_1, y_2, y_3$)을 출력  \n",
    "Cross Entropy Error 계층은 Softmax의 출력 ($y_1, y_2, y_3$)과 정답 레이블($t_1, t_2, t_3)$을 받고, 이 데이터로부터 손실 L을 구해 출력  \n",
    "  \n",
    "Softmax 계층의 역전파는 ($y_1-t_1, y_2-t_2, y_3-t_3$)인 출력과 정답 레이블의 차이를 출력  \n",
    "신경망의 역전파는 이 차이(오차)를 앞 계층에 전해줌"
   ]
  },
  {
   "cell_type": "code",
   "execution_count": 33,
   "id": "54788e54",
   "metadata": {},
   "outputs": [],
   "source": [
    "class SoftmaxWithLoss:\n",
    "    def __init__(self):\n",
    "        self.params, self.grads = [], []\n",
    "        self.y = None  # softmax의 출력\n",
    "        self.t = None  # 정답 레이블\n",
    "\n",
    "    def forward(self, x, t):\n",
    "        self.t = t\n",
    "        self.y = softmax(x)\n",
    "\n",
    "        # 정답 레이블이 원핫 벡터일 경우 정답의 인덱스로 변환\n",
    "        if self.t.size == self.y.size:\n",
    "            self.t = self.t.argmax(axis=1)\n",
    "        loss = cross_entropy_error(self.y, self.t)\n",
    "        return loss\n",
    "\n",
    "    def backward(self, dout=1):\n",
    "        batch_size = self.t.shape[0]\n",
    "\n",
    "        dx = self.y.copy()\n",
    "        dx[np.arange(batch_size), self.t] -= 1\n",
    "        dx *= dout\n",
    "        dx = dx / batch_size\n",
    "        return dx"
   ]
  },
  {
   "cell_type": "markdown",
   "id": "61192419",
   "metadata": {},
   "source": [
    "### 1.3.6 가중치 갱신"
   ]
  },
  {
   "cell_type": "markdown",
   "id": "d162d850",
   "metadata": {},
   "source": [
    "오차역전파법으로 기울기를 구했으면, 그 기울기를 사용하여 신경망의 매개변수를 갱신함  \n",
    "  \n",
    "신경망의 학습은 다음 순서로 수행  \n",
    "  \n",
    "1. 미니배치  \n",
    "    훈련 데이터 중에서 무작위로 다수의 데이터를 골라낸다.\n",
    "2. 기울기 계산\n",
    "    오차역전파법으로 각 가중치 매개변수에 대한 손실 함수의 기울기르 ㄹ구한다.\n",
    "3. 매개변수 갱신\n",
    "    기울기를 사용하여 가중치 매개변수를 갱신한다.\n",
    "4. 반복\n",
    "    1 ~ 3 단계를 필요한 만큼 반복한다.  \n",
    "  \n",
    "  \n",
    "기울기는 현재의 가중치 매개변수에서 손실을 가장 크게 하는 방향을 가리킴  \n",
    "따라서 매개변수를 그 기울기와 반대 방향으로 갱신하면 손실을 줄일 수 있음  \n",
    "이것이 바로 __경사하강법(Gradient Descent)__  \n",
    "  \n",
    "3단계에서 매개변수를 갱신하는 방법의 종류는 다양함  \n",
    "  \n",
    "그 중 확률적경사하강법(Stochastic Gradient Descent, SGD)는 (현재의) 가중치를 기울기 방향으로 일정한 거리만큼 갱신  \n",
    "  \n",
    "$W\\leftarrow W-\\eta\\frac{\\partial{L}}{\\partial{W}}$  \n",
    "  \n",
    "- W : 갱신하는 가중치 매개변수\n",
    "- $\\frac{\\partial{L}}{\\partial{W}}$ : W에 대한 손실 함수의 기울기\n",
    "- $\\eta$ : 학습률(learning rate)"
   ]
  },
  {
   "cell_type": "code",
   "execution_count": 34,
   "id": "379fa936",
   "metadata": {},
   "outputs": [],
   "source": [
    "class SGD:\n",
    "    def __init__(self, lr=0.01):\n",
    "        self.lr = lr\n",
    "        \n",
    "    def update(self, params, grads):\n",
    "        for i in range(len(params)):\n",
    "            params[i] -= self.lr * grads[i]"
   ]
  },
  {
   "cell_type": "markdown",
   "id": "b66b4132",
   "metadata": {},
   "source": [
    "~~~python\n",
    "# 신경망의 매개변수 갱신(예시)\n",
    "\n",
    "model = TwoLayerNet(...)\n",
    "optimizer = SGD()\n",
    "\n",
    "for i in range(10000):\n",
    "    ...\n",
    "    x_batch, t_batch = get_mini_batch(...) # 미니배치 획득\n",
    "    loss = model.forward(x_batch, t_batch)\n",
    "    model.backward()\n",
    "    optimizer.update(model.params, model.grads)\n",
    "    ...\n",
    "~~~"
   ]
  },
  {
   "cell_type": "markdown",
   "id": "470e1d6c",
   "metadata": {},
   "source": [
    "## 1.4 신경망으로 문제를 풀다"
   ]
  },
  {
   "cell_type": "markdown",
   "id": "b4858b46",
   "metadata": {},
   "source": [
    "### 1.4.1 스파이럴 데이터셋"
   ]
  },
  {
   "cell_type": "markdown",
   "id": "b77b161e",
   "metadata": {},
   "source": [
    "<img src='./img/1/spiral_dataset.png' width=500>"
   ]
  },
  {
   "cell_type": "code",
   "execution_count": 36,
   "id": "e11b7332",
   "metadata": {},
   "outputs": [
    {
     "name": "stdout",
     "output_type": "stream",
     "text": [
      "x (300, 2)\n",
      "t (300, 3)\n"
     ]
    }
   ],
   "source": [
    "from dataset import spiral\n",
    "import matplotlib.pyplot as plt\n",
    "\n",
    "x, t = spiral.load_data()\n",
    "print('x', x.shape)\n",
    "print('t', t.shape)"
   ]
  },
  {
   "cell_type": "markdown",
   "id": "3a62dc5f",
   "metadata": {},
   "source": [
    "입력은 2차원 데이터, 분류할 클래스 수는 3개  \n",
    "위 그래프를 보면 직선만으로는 클래스들을 분리할 수 없음을 알 수 있음  \n",
    "비선형 분리를 학습해야 함"
   ]
  },
  {
   "cell_type": "markdown",
   "id": "d7559897",
   "metadata": {},
   "source": [
    "### 1.4.2 신경망 구현"
   ]
  },
  {
   "cell_type": "markdown",
   "id": "00123f68",
   "metadata": {},
   "source": [
    "은닉층이 하나인 신경망 구현"
   ]
  },
  {
   "cell_type": "code",
   "execution_count": 42,
   "id": "dd688bce",
   "metadata": {},
   "outputs": [],
   "source": [
    "import numpy as np\n",
    "from common.layers import Affine, Sigmoid, SoftmaxWithLoss\n",
    "\n",
    "class TwoLayerNet:\n",
    "    def __init__(self, input_size, hidden_size, output_size):\n",
    "        I, H, O = input_size, hidden_size, output_size\n",
    "        \n",
    "        # 가중치와 편향 초기화\n",
    "        W1 = 0.01 * np.random.randn(I, H)\n",
    "        b1 = np.zeros(H)\n",
    "        W2 = 0.01 * np.random.randn(H, O)\n",
    "        b2 = np.zeros(O)\n",
    "        \n",
    "        # 계층 생성\n",
    "        self.layers = [\n",
    "            Affine(W1, b1),\n",
    "            Sigmoid(),\n",
    "            Affine(W2, b2)\n",
    "        ]\n",
    "        self.loss_layer = SoftmaxWithLoss()\n",
    "        \n",
    "        # 모든 가중치와 기울기를 리스트에 모은다.\n",
    "        self.params, self.grads = [], []\n",
    "        for layer in self.layers:\n",
    "            self.params += layer.params\n",
    "            self.grads += layer.grads\n",
    "            \n",
    "    # 추론 수행\n",
    "    def predict(self, x):\n",
    "        for layer in self.layers:\n",
    "            x = layer.forward(x)\n",
    "        return x\n",
    "    \n",
    "    # 순전파\n",
    "    def forward(self, x, t):\n",
    "        score = self.predict(x)\n",
    "        loss = self.loss_layer.forward(score, t)\n",
    "        return loss\n",
    "    \n",
    "    # 역전파\n",
    "    def backward(self, dout=1):\n",
    "        dout = self.loss_layer.backward(dout)\n",
    "        for layer in reversed(self.layers):\n",
    "            dout = layer.backward(dout)\n",
    "        return dout"
   ]
  },
  {
   "cell_type": "markdown",
   "id": "7aaeffa0",
   "metadata": {},
   "source": [
    "### 1.4.3 학습용 코드"
   ]
  },
  {
   "cell_type": "code",
   "execution_count": 43,
   "id": "e51c0893",
   "metadata": {},
   "outputs": [
    {
     "name": "stdout",
     "output_type": "stream",
     "text": [
      "| 에폭 1 | 반복 10 / 10 | 손실 1.13 |\n",
      "| 에폭 2 | 반복 10 / 10 | 손실 1.13 |\n",
      "| 에폭 3 | 반복 10 / 10 | 손실 1.12 |\n",
      "| 에폭 4 | 반복 10 / 10 | 손실 1.12 |\n",
      "| 에폭 5 | 반복 10 / 10 | 손실 1.11 |\n",
      "| 에폭 6 | 반복 10 / 10 | 손실 1.14 |\n",
      "| 에폭 7 | 반복 10 / 10 | 손실 1.16 |\n",
      "| 에폭 8 | 반복 10 / 10 | 손실 1.11 |\n",
      "| 에폭 9 | 반복 10 / 10 | 손실 1.12 |\n",
      "| 에폭 10 | 반복 10 / 10 | 손실 1.13 |\n",
      "| 에폭 11 | 반복 10 / 10 | 손실 1.12 |\n",
      "| 에폭 12 | 반복 10 / 10 | 손실 1.11 |\n",
      "| 에폭 13 | 반복 10 / 10 | 손실 1.09 |\n",
      "| 에폭 14 | 반복 10 / 10 | 손실 1.08 |\n",
      "| 에폭 15 | 반복 10 / 10 | 손실 1.04 |\n",
      "| 에폭 16 | 반복 10 / 10 | 손실 1.03 |\n",
      "| 에폭 17 | 반복 10 / 10 | 손실 0.96 |\n",
      "| 에폭 18 | 반복 10 / 10 | 손실 0.92 |\n",
      "| 에폭 19 | 반복 10 / 10 | 손실 0.92 |\n",
      "| 에폭 20 | 반복 10 / 10 | 손실 0.87 |\n",
      "| 에폭 21 | 반복 10 / 10 | 손실 0.85 |\n",
      "| 에폭 22 | 반복 10 / 10 | 손실 0.82 |\n",
      "| 에폭 23 | 반복 10 / 10 | 손실 0.79 |\n",
      "| 에폭 24 | 반복 10 / 10 | 손실 0.78 |\n",
      "| 에폭 25 | 반복 10 / 10 | 손실 0.82 |\n",
      "| 에폭 26 | 반복 10 / 10 | 손실 0.78 |\n",
      "| 에폭 27 | 반복 10 / 10 | 손실 0.76 |\n",
      "| 에폭 28 | 반복 10 / 10 | 손실 0.76 |\n",
      "| 에폭 29 | 반복 10 / 10 | 손실 0.78 |\n",
      "| 에폭 30 | 반복 10 / 10 | 손실 0.75 |\n",
      "| 에폭 31 | 반복 10 / 10 | 손실 0.78 |\n",
      "| 에폭 32 | 반복 10 / 10 | 손실 0.77 |\n",
      "| 에폭 33 | 반복 10 / 10 | 손실 0.77 |\n",
      "| 에폭 34 | 반복 10 / 10 | 손실 0.78 |\n",
      "| 에폭 35 | 반복 10 / 10 | 손실 0.75 |\n",
      "| 에폭 36 | 반복 10 / 10 | 손실 0.74 |\n",
      "| 에폭 37 | 반복 10 / 10 | 손실 0.76 |\n",
      "| 에폭 38 | 반복 10 / 10 | 손실 0.76 |\n",
      "| 에폭 39 | 반복 10 / 10 | 손실 0.73 |\n",
      "| 에폭 40 | 반복 10 / 10 | 손실 0.75 |\n",
      "| 에폭 41 | 반복 10 / 10 | 손실 0.76 |\n",
      "| 에폭 42 | 반복 10 / 10 | 손실 0.76 |\n",
      "| 에폭 43 | 반복 10 / 10 | 손실 0.76 |\n",
      "| 에폭 44 | 반복 10 / 10 | 손실 0.74 |\n",
      "| 에폭 45 | 반복 10 / 10 | 손실 0.75 |\n",
      "| 에폭 46 | 반복 10 / 10 | 손실 0.73 |\n",
      "| 에폭 47 | 반복 10 / 10 | 손실 0.72 |\n",
      "| 에폭 48 | 반복 10 / 10 | 손실 0.73 |\n",
      "| 에폭 49 | 반복 10 / 10 | 손실 0.72 |\n",
      "| 에폭 50 | 반복 10 / 10 | 손실 0.72 |\n",
      "| 에폭 51 | 반복 10 / 10 | 손실 0.72 |\n",
      "| 에폭 52 | 반복 10 / 10 | 손실 0.72 |\n",
      "| 에폭 53 | 반복 10 / 10 | 손실 0.74 |\n",
      "| 에폭 54 | 반복 10 / 10 | 손실 0.74 |\n",
      "| 에폭 55 | 반복 10 / 10 | 손실 0.72 |\n",
      "| 에폭 56 | 반복 10 / 10 | 손실 0.72 |\n",
      "| 에폭 57 | 반복 10 / 10 | 손실 0.71 |\n",
      "| 에폭 58 | 반복 10 / 10 | 손실 0.70 |\n",
      "| 에폭 59 | 반복 10 / 10 | 손실 0.72 |\n",
      "| 에폭 60 | 반복 10 / 10 | 손실 0.70 |\n",
      "| 에폭 61 | 반복 10 / 10 | 손실 0.71 |\n",
      "| 에폭 62 | 반복 10 / 10 | 손실 0.72 |\n",
      "| 에폭 63 | 반복 10 / 10 | 손실 0.70 |\n",
      "| 에폭 64 | 반복 10 / 10 | 손실 0.71 |\n",
      "| 에폭 65 | 반복 10 / 10 | 손실 0.73 |\n",
      "| 에폭 66 | 반복 10 / 10 | 손실 0.70 |\n",
      "| 에폭 67 | 반복 10 / 10 | 손실 0.71 |\n",
      "| 에폭 68 | 반복 10 / 10 | 손실 0.69 |\n",
      "| 에폭 69 | 반복 10 / 10 | 손실 0.70 |\n",
      "| 에폭 70 | 반복 10 / 10 | 손실 0.71 |\n",
      "| 에폭 71 | 반복 10 / 10 | 손실 0.68 |\n",
      "| 에폭 72 | 반복 10 / 10 | 손실 0.69 |\n",
      "| 에폭 73 | 반복 10 / 10 | 손실 0.67 |\n",
      "| 에폭 74 | 반복 10 / 10 | 손실 0.68 |\n",
      "| 에폭 75 | 반복 10 / 10 | 손실 0.67 |\n",
      "| 에폭 76 | 반복 10 / 10 | 손실 0.66 |\n",
      "| 에폭 77 | 반복 10 / 10 | 손실 0.69 |\n",
      "| 에폭 78 | 반복 10 / 10 | 손실 0.64 |\n",
      "| 에폭 79 | 반복 10 / 10 | 손실 0.68 |\n",
      "| 에폭 80 | 반복 10 / 10 | 손실 0.64 |\n",
      "| 에폭 81 | 반복 10 / 10 | 손실 0.64 |\n",
      "| 에폭 82 | 반복 10 / 10 | 손실 0.66 |\n",
      "| 에폭 83 | 반복 10 / 10 | 손실 0.62 |\n",
      "| 에폭 84 | 반복 10 / 10 | 손실 0.62 |\n",
      "| 에폭 85 | 반복 10 / 10 | 손실 0.61 |\n",
      "| 에폭 86 | 반복 10 / 10 | 손실 0.60 |\n",
      "| 에폭 87 | 반복 10 / 10 | 손실 0.60 |\n",
      "| 에폭 88 | 반복 10 / 10 | 손실 0.61 |\n",
      "| 에폭 89 | 반복 10 / 10 | 손실 0.59 |\n",
      "| 에폭 90 | 반복 10 / 10 | 손실 0.58 |\n",
      "| 에폭 91 | 반복 10 / 10 | 손실 0.56 |\n",
      "| 에폭 92 | 반복 10 / 10 | 손실 0.56 |\n",
      "| 에폭 93 | 반복 10 / 10 | 손실 0.54 |\n",
      "| 에폭 94 | 반복 10 / 10 | 손실 0.53 |\n",
      "| 에폭 95 | 반복 10 / 10 | 손실 0.53 |\n",
      "| 에폭 96 | 반복 10 / 10 | 손실 0.52 |\n",
      "| 에폭 97 | 반복 10 / 10 | 손실 0.51 |\n",
      "| 에폭 98 | 반복 10 / 10 | 손실 0.50 |\n",
      "| 에폭 99 | 반복 10 / 10 | 손실 0.48 |\n",
      "| 에폭 100 | 반복 10 / 10 | 손실 0.48 |\n",
      "| 에폭 101 | 반복 10 / 10 | 손실 0.46 |\n",
      "| 에폭 102 | 반복 10 / 10 | 손실 0.45 |\n",
      "| 에폭 103 | 반복 10 / 10 | 손실 0.45 |\n",
      "| 에폭 104 | 반복 10 / 10 | 손실 0.44 |\n",
      "| 에폭 105 | 반복 10 / 10 | 손실 0.44 |\n",
      "| 에폭 106 | 반복 10 / 10 | 손실 0.41 |\n",
      "| 에폭 107 | 반복 10 / 10 | 손실 0.40 |\n",
      "| 에폭 108 | 반복 10 / 10 | 손실 0.41 |\n",
      "| 에폭 109 | 반복 10 / 10 | 손실 0.40 |\n",
      "| 에폭 110 | 반복 10 / 10 | 손실 0.40 |\n",
      "| 에폭 111 | 반복 10 / 10 | 손실 0.38 |\n",
      "| 에폭 112 | 반복 10 / 10 | 손실 0.38 |\n",
      "| 에폭 113 | 반복 10 / 10 | 손실 0.36 |\n",
      "| 에폭 114 | 반복 10 / 10 | 손실 0.37 |\n",
      "| 에폭 115 | 반복 10 / 10 | 손실 0.35 |\n",
      "| 에폭 116 | 반복 10 / 10 | 손실 0.34 |\n",
      "| 에폭 117 | 반복 10 / 10 | 손실 0.34 |\n",
      "| 에폭 118 | 반복 10 / 10 | 손실 0.34 |\n",
      "| 에폭 119 | 반복 10 / 10 | 손실 0.33 |\n",
      "| 에폭 120 | 반복 10 / 10 | 손실 0.34 |\n",
      "| 에폭 121 | 반복 10 / 10 | 손실 0.32 |\n",
      "| 에폭 122 | 반복 10 / 10 | 손실 0.32 |\n",
      "| 에폭 123 | 반복 10 / 10 | 손실 0.31 |\n",
      "| 에폭 124 | 반복 10 / 10 | 손실 0.31 |\n",
      "| 에폭 125 | 반복 10 / 10 | 손실 0.30 |\n",
      "| 에폭 126 | 반복 10 / 10 | 손실 0.30 |\n",
      "| 에폭 127 | 반복 10 / 10 | 손실 0.28 |\n",
      "| 에폭 128 | 반복 10 / 10 | 손실 0.28 |\n",
      "| 에폭 129 | 반복 10 / 10 | 손실 0.28 |\n",
      "| 에폭 130 | 반복 10 / 10 | 손실 0.28 |\n",
      "| 에폭 131 | 반복 10 / 10 | 손실 0.27 |\n",
      "| 에폭 132 | 반복 10 / 10 | 손실 0.27 |\n",
      "| 에폭 133 | 반복 10 / 10 | 손실 0.27 |\n",
      "| 에폭 134 | 반복 10 / 10 | 손실 0.27 |\n",
      "| 에폭 135 | 반복 10 / 10 | 손실 0.27 |\n",
      "| 에폭 136 | 반복 10 / 10 | 손실 0.26 |\n",
      "| 에폭 137 | 반복 10 / 10 | 손실 0.26 |\n",
      "| 에폭 138 | 반복 10 / 10 | 손실 0.26 |\n",
      "| 에폭 139 | 반복 10 / 10 | 손실 0.25 |\n",
      "| 에폭 140 | 반복 10 / 10 | 손실 0.24 |\n",
      "| 에폭 141 | 반복 10 / 10 | 손실 0.24 |\n",
      "| 에폭 142 | 반복 10 / 10 | 손실 0.25 |\n",
      "| 에폭 143 | 반복 10 / 10 | 손실 0.24 |\n",
      "| 에폭 144 | 반복 10 / 10 | 손실 0.24 |\n",
      "| 에폭 145 | 반복 10 / 10 | 손실 0.23 |\n",
      "| 에폭 146 | 반복 10 / 10 | 손실 0.24 |\n",
      "| 에폭 147 | 반복 10 / 10 | 손실 0.23 |\n",
      "| 에폭 148 | 반복 10 / 10 | 손실 0.23 |\n",
      "| 에폭 149 | 반복 10 / 10 | 손실 0.22 |\n",
      "| 에폭 150 | 반복 10 / 10 | 손실 0.22 |\n",
      "| 에폭 151 | 반복 10 / 10 | 손실 0.22 |\n",
      "| 에폭 152 | 반복 10 / 10 | 손실 0.22 |\n",
      "| 에폭 153 | 반복 10 / 10 | 손실 0.22 |\n",
      "| 에폭 154 | 반복 10 / 10 | 손실 0.22 |\n",
      "| 에폭 155 | 반복 10 / 10 | 손실 0.22 |\n",
      "| 에폭 156 | 반복 10 / 10 | 손실 0.21 |\n",
      "| 에폭 157 | 반복 10 / 10 | 손실 0.21 |\n",
      "| 에폭 158 | 반복 10 / 10 | 손실 0.20 |\n",
      "| 에폭 159 | 반복 10 / 10 | 손실 0.21 |\n",
      "| 에폭 160 | 반복 10 / 10 | 손실 0.20 |\n",
      "| 에폭 161 | 반복 10 / 10 | 손실 0.20 |\n",
      "| 에폭 162 | 반복 10 / 10 | 손실 0.20 |\n",
      "| 에폭 163 | 반복 10 / 10 | 손실 0.21 |\n",
      "| 에폭 164 | 반복 10 / 10 | 손실 0.20 |\n",
      "| 에폭 165 | 반복 10 / 10 | 손실 0.20 |\n",
      "| 에폭 166 | 반복 10 / 10 | 손실 0.19 |\n",
      "| 에폭 167 | 반복 10 / 10 | 손실 0.19 |\n",
      "| 에폭 168 | 반복 10 / 10 | 손실 0.19 |\n",
      "| 에폭 169 | 반복 10 / 10 | 손실 0.19 |\n",
      "| 에폭 170 | 반복 10 / 10 | 손실 0.19 |\n",
      "| 에폭 171 | 반복 10 / 10 | 손실 0.19 |\n",
      "| 에폭 172 | 반복 10 / 10 | 손실 0.18 |\n",
      "| 에폭 173 | 반복 10 / 10 | 손실 0.18 |\n",
      "| 에폭 174 | 반복 10 / 10 | 손실 0.18 |\n",
      "| 에폭 175 | 반복 10 / 10 | 손실 0.18 |\n",
      "| 에폭 176 | 반복 10 / 10 | 손실 0.18 |\n",
      "| 에폭 177 | 반복 10 / 10 | 손실 0.18 |\n",
      "| 에폭 178 | 반복 10 / 10 | 손실 0.18 |\n",
      "| 에폭 179 | 반복 10 / 10 | 손실 0.17 |\n",
      "| 에폭 180 | 반복 10 / 10 | 손실 0.17 |\n",
      "| 에폭 181 | 반복 10 / 10 | 손실 0.18 |\n",
      "| 에폭 182 | 반복 10 / 10 | 손실 0.17 |\n",
      "| 에폭 183 | 반복 10 / 10 | 손실 0.18 |\n",
      "| 에폭 184 | 반복 10 / 10 | 손실 0.17 |\n",
      "| 에폭 185 | 반복 10 / 10 | 손실 0.17 |\n",
      "| 에폭 186 | 반복 10 / 10 | 손실 0.18 |\n",
      "| 에폭 187 | 반복 10 / 10 | 손실 0.17 |\n",
      "| 에폭 188 | 반복 10 / 10 | 손실 0.17 |\n",
      "| 에폭 189 | 반복 10 / 10 | 손실 0.17 |\n",
      "| 에폭 190 | 반복 10 / 10 | 손실 0.17 |\n",
      "| 에폭 191 | 반복 10 / 10 | 손실 0.16 |\n",
      "| 에폭 192 | 반복 10 / 10 | 손실 0.17 |\n",
      "| 에폭 193 | 반복 10 / 10 | 손실 0.16 |\n",
      "| 에폭 194 | 반복 10 / 10 | 손실 0.16 |\n",
      "| 에폭 195 | 반복 10 / 10 | 손실 0.16 |\n",
      "| 에폭 196 | 반복 10 / 10 | 손실 0.16 |\n",
      "| 에폭 197 | 반복 10 / 10 | 손실 0.16 |\n",
      "| 에폭 198 | 반복 10 / 10 | 손실 0.15 |\n",
      "| 에폭 199 | 반복 10 / 10 | 손실 0.16 |\n",
      "| 에폭 200 | 반복 10 / 10 | 손실 0.16 |\n",
      "| 에폭 201 | 반복 10 / 10 | 손실 0.15 |\n",
      "| 에폭 202 | 반복 10 / 10 | 손실 0.16 |\n",
      "| 에폭 203 | 반복 10 / 10 | 손실 0.16 |\n",
      "| 에폭 204 | 반복 10 / 10 | 손실 0.15 |\n",
      "| 에폭 205 | 반복 10 / 10 | 손실 0.16 |\n",
      "| 에폭 206 | 반복 10 / 10 | 손실 0.15 |\n",
      "| 에폭 207 | 반복 10 / 10 | 손실 0.15 |\n",
      "| 에폭 208 | 반복 10 / 10 | 손실 0.15 |\n",
      "| 에폭 209 | 반복 10 / 10 | 손실 0.15 |\n",
      "| 에폭 210 | 반복 10 / 10 | 손실 0.15 |\n",
      "| 에폭 211 | 반복 10 / 10 | 손실 0.15 |\n",
      "| 에폭 212 | 반복 10 / 10 | 손실 0.15 |\n",
      "| 에폭 213 | 반복 10 / 10 | 손실 0.15 |\n",
      "| 에폭 214 | 반복 10 / 10 | 손실 0.15 |\n",
      "| 에폭 215 | 반복 10 / 10 | 손실 0.15 |\n",
      "| 에폭 216 | 반복 10 / 10 | 손실 0.14 |\n",
      "| 에폭 217 | 반복 10 / 10 | 손실 0.14 |\n",
      "| 에폭 218 | 반복 10 / 10 | 손실 0.15 |\n",
      "| 에폭 219 | 반복 10 / 10 | 손실 0.14 |\n",
      "| 에폭 220 | 반복 10 / 10 | 손실 0.14 |\n",
      "| 에폭 221 | 반복 10 / 10 | 손실 0.14 |\n",
      "| 에폭 222 | 반복 10 / 10 | 손실 0.14 |\n",
      "| 에폭 223 | 반복 10 / 10 | 손실 0.14 |\n",
      "| 에폭 224 | 반복 10 / 10 | 손실 0.14 |\n",
      "| 에폭 225 | 반복 10 / 10 | 손실 0.14 |\n",
      "| 에폭 226 | 반복 10 / 10 | 손실 0.14 |\n",
      "| 에폭 227 | 반복 10 / 10 | 손실 0.14 |\n",
      "| 에폭 228 | 반복 10 / 10 | 손실 0.14 |\n",
      "| 에폭 229 | 반복 10 / 10 | 손실 0.13 |\n",
      "| 에폭 230 | 반복 10 / 10 | 손실 0.14 |\n",
      "| 에폭 231 | 반복 10 / 10 | 손실 0.13 |\n",
      "| 에폭 232 | 반복 10 / 10 | 손실 0.14 |\n",
      "| 에폭 233 | 반복 10 / 10 | 손실 0.13 |\n",
      "| 에폭 234 | 반복 10 / 10 | 손실 0.13 |\n",
      "| 에폭 235 | 반복 10 / 10 | 손실 0.13 |\n",
      "| 에폭 236 | 반복 10 / 10 | 손실 0.13 |\n",
      "| 에폭 237 | 반복 10 / 10 | 손실 0.14 |\n",
      "| 에폭 238 | 반복 10 / 10 | 손실 0.13 |\n",
      "| 에폭 239 | 반복 10 / 10 | 손실 0.13 |\n",
      "| 에폭 240 | 반복 10 / 10 | 손실 0.14 |\n",
      "| 에폭 241 | 반복 10 / 10 | 손실 0.13 |\n",
      "| 에폭 242 | 반복 10 / 10 | 손실 0.13 |\n",
      "| 에폭 243 | 반복 10 / 10 | 손실 0.13 |\n",
      "| 에폭 244 | 반복 10 / 10 | 손실 0.13 |\n",
      "| 에폭 245 | 반복 10 / 10 | 손실 0.13 |\n",
      "| 에폭 246 | 반복 10 / 10 | 손실 0.13 |\n",
      "| 에폭 247 | 반복 10 / 10 | 손실 0.13 |\n",
      "| 에폭 248 | 반복 10 / 10 | 손실 0.13 |\n",
      "| 에폭 249 | 반복 10 / 10 | 손실 0.13 |\n",
      "| 에폭 250 | 반복 10 / 10 | 손실 0.13 |\n",
      "| 에폭 251 | 반복 10 / 10 | 손실 0.13 |\n",
      "| 에폭 252 | 반복 10 / 10 | 손실 0.12 |\n",
      "| 에폭 253 | 반복 10 / 10 | 손실 0.12 |\n",
      "| 에폭 254 | 반복 10 / 10 | 손실 0.12 |\n",
      "| 에폭 255 | 반복 10 / 10 | 손실 0.12 |\n",
      "| 에폭 256 | 반복 10 / 10 | 손실 0.12 |\n",
      "| 에폭 257 | 반복 10 / 10 | 손실 0.12 |\n",
      "| 에폭 258 | 반복 10 / 10 | 손실 0.12 |\n",
      "| 에폭 259 | 반복 10 / 10 | 손실 0.13 |\n",
      "| 에폭 260 | 반복 10 / 10 | 손실 0.12 |\n",
      "| 에폭 261 | 반복 10 / 10 | 손실 0.13 |\n",
      "| 에폭 262 | 반복 10 / 10 | 손실 0.12 |\n",
      "| 에폭 263 | 반복 10 / 10 | 손실 0.12 |\n",
      "| 에폭 264 | 반복 10 / 10 | 손실 0.13 |\n",
      "| 에폭 265 | 반복 10 / 10 | 손실 0.12 |\n",
      "| 에폭 266 | 반복 10 / 10 | 손실 0.12 |\n",
      "| 에폭 267 | 반복 10 / 10 | 손실 0.12 |\n",
      "| 에폭 268 | 반복 10 / 10 | 손실 0.12 |\n",
      "| 에폭 269 | 반복 10 / 10 | 손실 0.11 |\n",
      "| 에폭 270 | 반복 10 / 10 | 손실 0.12 |\n",
      "| 에폭 271 | 반복 10 / 10 | 손실 0.12 |\n",
      "| 에폭 272 | 반복 10 / 10 | 손실 0.12 |\n",
      "| 에폭 273 | 반복 10 / 10 | 손실 0.12 |\n",
      "| 에폭 274 | 반복 10 / 10 | 손실 0.12 |\n",
      "| 에폭 275 | 반복 10 / 10 | 손실 0.11 |\n",
      "| 에폭 276 | 반복 10 / 10 | 손실 0.12 |\n",
      "| 에폭 277 | 반복 10 / 10 | 손실 0.12 |\n",
      "| 에폭 278 | 반복 10 / 10 | 손실 0.11 |\n",
      "| 에폭 279 | 반복 10 / 10 | 손실 0.11 |\n",
      "| 에폭 280 | 반복 10 / 10 | 손실 0.11 |\n",
      "| 에폭 281 | 반복 10 / 10 | 손실 0.11 |\n",
      "| 에폭 282 | 반복 10 / 10 | 손실 0.12 |\n",
      "| 에폭 283 | 반복 10 / 10 | 손실 0.11 |\n",
      "| 에폭 284 | 반복 10 / 10 | 손실 0.11 |\n",
      "| 에폭 285 | 반복 10 / 10 | 손실 0.11 |\n",
      "| 에폭 286 | 반복 10 / 10 | 손실 0.11 |\n",
      "| 에폭 287 | 반복 10 / 10 | 손실 0.11 |\n",
      "| 에폭 288 | 반복 10 / 10 | 손실 0.12 |\n",
      "| 에폭 289 | 반복 10 / 10 | 손실 0.11 |\n",
      "| 에폭 290 | 반복 10 / 10 | 손실 0.11 |\n",
      "| 에폭 291 | 반복 10 / 10 | 손실 0.11 |\n",
      "| 에폭 292 | 반복 10 / 10 | 손실 0.11 |\n",
      "| 에폭 293 | 반복 10 / 10 | 손실 0.11 |\n",
      "| 에폭 294 | 반복 10 / 10 | 손실 0.11 |\n",
      "| 에폭 295 | 반복 10 / 10 | 손실 0.12 |\n",
      "| 에폭 296 | 반복 10 / 10 | 손실 0.11 |\n",
      "| 에폭 297 | 반복 10 / 10 | 손실 0.12 |\n",
      "| 에폭 298 | 반복 10 / 10 | 손실 0.11 |\n",
      "| 에폭 299 | 반복 10 / 10 | 손실 0.11 |\n",
      "| 에폭 300 | 반복 10 / 10 | 손실 0.11 |\n"
     ]
    }
   ],
   "source": [
    "import numpy as np\n",
    "from common.optimizer import SGD\n",
    "from dataset import spiral\n",
    "import matplotlib.pyplot as plt\n",
    "\n",
    "# 1. 하이퍼파라미터 설정\n",
    "max_epoch = 300\n",
    "batch_size = 30\n",
    "hidden_size = 10\n",
    "learning_rate = 1.0\n",
    "\n",
    "# 2. 데이터 읽기, 모델과 옵티마이저 생성\n",
    "x, t = spiral.load_data()\n",
    "model = TwoLayerNet(input_size=2, hidden_size=hidden_size, output_size=3)\n",
    "optimizer = SGD(lr = learning_rate)\n",
    "\n",
    "# 학습에 사용하는 변수\n",
    "data_size = len(x)\n",
    "max_iters = data_size // batch_size\n",
    "total_loss = 0\n",
    "loss_count = 0\n",
    "loss_list = []\n",
    "\n",
    "for epoch in range(max_epoch):\n",
    "    # 3. 데이터 뒤섞기\n",
    "    idx = np.random.permutation(data_size)\n",
    "    x = x[idx]\n",
    "    t = t[idx]\n",
    "    \n",
    "    for iters in range(max_iters):\n",
    "        batch_x = x[iters*batch_size:(iters+1)*batch_size]\n",
    "        batch_t = t[iters*batch_size:(iters+1)*batch_size]\n",
    "        \n",
    "        # 4. 기울기를 구해 매개변수 갱신\n",
    "        loss = model.forward(batch_x, batch_t)\n",
    "        model.backward()\n",
    "        optimizer.update(model.params, model.grads)\n",
    "        \n",
    "        total_loss += loss\n",
    "        loss_count += 1\n",
    "        \n",
    "        # 5. 정기적으로 학습 경과 출력\n",
    "        if (iters+1) % 10 == 0:\n",
    "            avg_loss = total_loss / loss_count\n",
    "            print('| 에폭 %d | 반복 %d / %d | 손실 %.2f |' % (epoch+1, iters+1, max_iters, avg_loss))\n",
    "            loss_list.append(avg_loss)\n",
    "            total_loss, loss_count = 0,0"
   ]
  },
  {
   "cell_type": "code",
   "execution_count": 47,
   "id": "67320512",
   "metadata": {},
   "outputs": [
    {
     "data": {
      "image/png": "[encoded data removed]",
      "text/plain": [
       "<Figure size 432x288 with 1 Axes>"
      ]
     },
     "metadata": {
      "needs_background": "light"
     },
     "output_type": "display_data"
    },
    {
     "data": {
      "image/png": "[encoded data removed]",
      "text/plain": [
       "<Figure size 432x288 with 1 Axes>"
      ]
     },
     "metadata": {
      "needs_background": "light"
     },
     "output_type": "display_data"
    }
   ],
   "source": [
    "import warnings\n",
    "warnings.filterwarnings('ignore')\n",
    "\n",
    "### 학습에 따른 loss의 변화 시각화\n",
    "\n",
    "# 학습 결과 플롯\n",
    "plt.plot(np.arange(len(loss_list)), loss_list, label='train')\n",
    "plt.xlabel('x10')\n",
    "plt.ylabel('loss')\n",
    "plt.show()\n",
    "\n",
    "### 결정 경계(decision boundary) 시각화\n",
    "\n",
    "# 경계 영역 플롯\n",
    "h = 0.001\n",
    "x_min, x_max = x[:, 0].min() - .1, x[:, 0].max() + .1\n",
    "y_min, y_max = x[:, 1].min() - .1, x[:, 1].max() + .1\n",
    "xx, yy = np.meshgrid(np.arange(x_min, x_max, h), np.arange(y_min, y_max, h))\n",
    "X = np.c_[xx.ravel(), yy.ravel()]\n",
    "score = model.predict(X)\n",
    "predict_cls = np.argmax(score, axis=1)\n",
    "Z = predict_cls.reshape(xx.shape)\n",
    "plt.contourf(xx, yy, Z)\n",
    "plt.axis('off')\n",
    "\n",
    "# 데이터점 플롯\n",
    "x, t = spiral.load_data()\n",
    "N = 100\n",
    "CLS_NUM = 3\n",
    "markers = ['o', 'x', '^']\n",
    "for i in range(CLS_NUM):\n",
    "    plt.scatter(x[i*N:(i+1)*N, 0], x[i*N:(i+1)*N, 1], s=40, marker=markers[i])\n",
    "plt.show()"
   ]
  },
  {
   "cell_type": "markdown",
   "id": "e99c2338",
   "metadata": {},
   "source": [
    "### 1.4.4 Trainer 클래스"
   ]
  },
  {
   "cell_type": "code",
   "execution_count": null,
   "id": "b9e23db8",
   "metadata": {},
   "outputs": [],
   "source": [
    "import numpy\n",
    "import time\n",
    "import matplotlib.pyplot as plt\n",
    "from common.np import *  # import numpy as np\n",
    "from common.util import clip_grads\n",
    "\n",
    "\n",
    "class Trainer:\n",
    "    def __init__(self, model, optimizer):\n",
    "        self.model = model\n",
    "        self.optimizer = optimizer\n",
    "        self.loss_list = []\n",
    "        self.eval_interval = None\n",
    "        self.current_epoch = 0\n",
    "\n",
    "    def fit(self, x, t, max_epoch=10, batch_size=32, max_grad=None, eval_interval=20):\n",
    "        data_size = len(x)\n",
    "        max_iters = data_size // batch_size\n",
    "        self.eval_interval = eval_interval\n",
    "        model, optimizer = self.model, self.optimizer\n",
    "        total_loss = 0\n",
    "        loss_count = 0\n",
    "\n",
    "        start_time = time.time()\n",
    "        for epoch in range(max_epoch):\n",
    "            # 뒤섞기\n",
    "            idx = numpy.random.permutation(numpy.arange(data_size))\n",
    "            x = x[idx]\n",
    "            t = t[idx]\n",
    "\n",
    "            for iters in range(max_iters):\n",
    "                batch_x = x[iters*batch_size:(iters+1)*batch_size]\n",
    "                batch_t = t[iters*batch_size:(iters+1)*batch_size]\n",
    "\n",
    "                # 기울기 구해 매개변수 갱신\n",
    "                loss = model.forward(batch_x, batch_t)\n",
    "                model.backward()\n",
    "                params, grads = remove_duplicate(model.params, model.grads)  # 공유된 가중치를 하나로 모음\n",
    "                if max_grad is not None:\n",
    "                    clip_grads(grads, max_grad)\n",
    "                optimizer.update(params, grads)\n",
    "                total_loss += loss\n",
    "                loss_count += 1\n",
    "\n",
    "                # 평가\n",
    "                if (eval_interval is not None) and (iters % eval_interval) == 0:\n",
    "                    avg_loss = total_loss / loss_count\n",
    "                    elapsed_time = time.time() - start_time\n",
    "                    print('| 에폭 %d |  반복 %d / %d | 시간 %d[s] | 손실 %.2f'\n",
    "                          % (self.current_epoch + 1, iters + 1, max_iters, elapsed_time, avg_loss))\n",
    "                    self.loss_list.append(float(avg_loss))\n",
    "                    total_loss, loss_count = 0, 0\n",
    "\n",
    "            self.current_epoch += 1\n",
    "\n",
    "    def plot(self, ylim=None):\n",
    "        x = numpy.arange(len(self.loss_list))\n",
    "        if ylim is not None:\n",
    "            plt.ylim(*ylim)\n",
    "        plt.plot(x, self.loss_list, label='train')\n",
    "        plt.xlabel('반복 (x' + str(self.eval_interval) + ')')\n",
    "        plt.ylabel('손실')\n",
    "        plt.show()"
   ]
  },
  {
   "cell_type": "markdown",
   "id": "84aa0ac7",
   "metadata": {},
   "source": [
    "- x : 입력 데이터\n",
    "- t : 정답 레이블\n",
    "- max_epoch(=10) : 학습을 수행하는 에폭 수\n",
    "- batch_size(=32) : 미니배치 크기\n",
    "- eval_interval(=20) : 결과(평균 손실 등)를 출력하는 간격\n",
    "- max_grad(=None) : 기울기 최대 노름(norm)\n",
    "    기울기 노름이 이 값을 넘어서면 기울기를 줄인다(이를 기울기 클리핑이라고 함)"
   ]
  },
  {
   "cell_type": "markdown",
   "id": "c98c804f",
   "metadata": {},
   "source": [
    "Trainer 클래스를 활용한 학습 구현"
   ]
  },
  {
   "cell_type": "code",
   "execution_count": 52,
   "id": "280fac23",
   "metadata": {},
   "outputs": [
    {
     "name": "stdout",
     "output_type": "stream",
     "text": [
      "| 에폭 1 |  반복 1 / 10 | 시간 0[s] | 손실 1.10\n",
      "| 에폭 2 |  반복 1 / 10 | 시간 0[s] | 손실 1.12\n",
      "| 에폭 3 |  반복 1 / 10 | 시간 0[s] | 손실 1.13\n",
      "| 에폭 4 |  반복 1 / 10 | 시간 0[s] | 손실 1.12\n",
      "| 에폭 5 |  반복 1 / 10 | 시간 0[s] | 손실 1.12\n",
      "| 에폭 6 |  반복 1 / 10 | 시간 0[s] | 손실 1.10\n",
      "| 에폭 7 |  반복 1 / 10 | 시간 0[s] | 손실 1.14\n",
      "| 에폭 8 |  반복 1 / 10 | 시간 0[s] | 손실 1.16\n",
      "| 에폭 9 |  반복 1 / 10 | 시간 0[s] | 손실 1.11\n",
      "| 에폭 10 |  반복 1 / 10 | 시간 0[s] | 손실 1.12\n",
      "| 에폭 11 |  반복 1 / 10 | 시간 0[s] | 손실 1.12\n",
      "| 에폭 12 |  반복 1 / 10 | 시간 0[s] | 손실 1.12\n",
      "| 에폭 13 |  반복 1 / 10 | 시간 0[s] | 손실 1.10\n",
      "| 에폭 14 |  반복 1 / 10 | 시간 0[s] | 손실 1.09\n",
      "| 에폭 15 |  반복 1 / 10 | 시간 0[s] | 손실 1.08\n",
      "| 에폭 16 |  반복 1 / 10 | 시간 0[s] | 손실 1.04\n",
      "| 에폭 17 |  반복 1 / 10 | 시간 0[s] | 손실 1.03\n",
      "| 에폭 18 |  반복 1 / 10 | 시간 0[s] | 손실 0.94\n",
      "| 에폭 19 |  반복 1 / 10 | 시간 0[s] | 손실 0.92\n",
      "| 에폭 20 |  반복 1 / 10 | 시간 0[s] | 손실 0.92\n",
      "| 에폭 21 |  반복 1 / 10 | 시간 0[s] | 손실 0.87\n",
      "| 에폭 22 |  반복 1 / 10 | 시간 0[s] | 손실 0.85\n",
      "| 에폭 23 |  반복 1 / 10 | 시간 0[s] | 손실 0.80\n",
      "| 에폭 24 |  반복 1 / 10 | 시간 0[s] | 손실 0.79\n",
      "| 에폭 25 |  반복 1 / 10 | 시간 0[s] | 손실 0.78\n",
      "| 에폭 26 |  반복 1 / 10 | 시간 0[s] | 손실 0.83\n",
      "| 에폭 27 |  반복 1 / 10 | 시간 0[s] | 손실 0.77\n",
      "| 에폭 28 |  반복 1 / 10 | 시간 0[s] | 손실 0.76\n",
      "| 에폭 29 |  반복 1 / 10 | 시간 0[s] | 손실 0.77\n",
      "| 에폭 30 |  반복 1 / 10 | 시간 0[s] | 손실 0.76\n",
      "| 에폭 31 |  반복 1 / 10 | 시간 0[s] | 손실 0.77\n",
      "| 에폭 32 |  반복 1 / 10 | 시간 0[s] | 손실 0.75\n",
      "| 에폭 33 |  반복 1 / 10 | 시간 0[s] | 손실 0.78\n",
      "| 에폭 34 |  반복 1 / 10 | 시간 0[s] | 손실 0.77\n",
      "| 에폭 35 |  반복 1 / 10 | 시간 0[s] | 손실 0.78\n",
      "| 에폭 36 |  반복 1 / 10 | 시간 0[s] | 손실 0.74\n",
      "| 에폭 37 |  반복 1 / 10 | 시간 0[s] | 손실 0.75\n",
      "| 에폭 38 |  반복 1 / 10 | 시간 0[s] | 손실 0.77\n",
      "| 에폭 39 |  반복 1 / 10 | 시간 0[s] | 손실 0.75\n",
      "| 에폭 40 |  반복 1 / 10 | 시간 0[s] | 손실 0.73\n",
      "| 에폭 41 |  반복 1 / 10 | 시간 0[s] | 손실 0.75\n",
      "| 에폭 42 |  반복 1 / 10 | 시간 0[s] | 손실 0.76\n",
      "| 에폭 43 |  반복 1 / 10 | 시간 0[s] | 손실 0.79\n",
      "| 에폭 44 |  반복 1 / 10 | 시간 0[s] | 손실 0.74\n",
      "| 에폭 45 |  반복 1 / 10 | 시간 0[s] | 손실 0.75\n",
      "| 에폭 46 |  반복 1 / 10 | 시간 0[s] | 손실 0.73\n",
      "| 에폭 47 |  반복 1 / 10 | 시간 0[s] | 손실 0.73\n",
      "| 에폭 48 |  반복 1 / 10 | 시간 0[s] | 손실 0.73\n",
      "| 에폭 49 |  반복 1 / 10 | 시간 0[s] | 손실 0.73\n",
      "| 에폭 50 |  반복 1 / 10 | 시간 0[s] | 손실 0.72\n",
      "| 에폭 51 |  반복 1 / 10 | 시간 0[s] | 손실 0.72\n",
      "| 에폭 52 |  반복 1 / 10 | 시간 0[s] | 손실 0.72\n",
      "| 에폭 53 |  반복 1 / 10 | 시간 0[s] | 손실 0.72\n",
      "| 에폭 54 |  반복 1 / 10 | 시간 0[s] | 손실 0.74\n",
      "| 에폭 55 |  반복 1 / 10 | 시간 0[s] | 손실 0.74\n",
      "| 에폭 56 |  반복 1 / 10 | 시간 0[s] | 손실 0.73\n",
      "| 에폭 57 |  반복 1 / 10 | 시간 0[s] | 손실 0.72\n",
      "| 에폭 58 |  반복 1 / 10 | 시간 0[s] | 손실 0.69\n",
      "| 에폭 59 |  반복 1 / 10 | 시간 0[s] | 손실 0.72\n",
      "| 에폭 60 |  반복 1 / 10 | 시간 0[s] | 손실 0.70\n",
      "| 에폭 61 |  반복 1 / 10 | 시간 0[s] | 손실 0.69\n",
      "| 에폭 62 |  반복 1 / 10 | 시간 0[s] | 손실 0.71\n",
      "| 에폭 63 |  반복 1 / 10 | 시간 0[s] | 손실 0.70\n",
      "| 에폭 64 |  반복 1 / 10 | 시간 0[s] | 손실 0.71\n",
      "| 에폭 65 |  반복 1 / 10 | 시간 0[s] | 손실 0.72\n",
      "| 에폭 66 |  반복 1 / 10 | 시간 0[s] | 손실 0.71\n",
      "| 에폭 67 |  반복 1 / 10 | 시간 0[s] | 손실 0.71\n",
      "| 에폭 68 |  반복 1 / 10 | 시간 0[s] | 손실 0.71\n",
      "| 에폭 69 |  반복 1 / 10 | 시간 0[s] | 손실 0.70\n",
      "| 에폭 70 |  반복 1 / 10 | 시간 0[s] | 손실 0.68\n",
      "| 에폭 71 |  반복 1 / 10 | 시간 0[s] | 손실 0.73\n",
      "| 에폭 72 |  반복 1 / 10 | 시간 0[s] | 손실 0.66\n",
      "| 에폭 73 |  반복 1 / 10 | 시간 0[s] | 손실 0.69\n",
      "| 에폭 74 |  반복 1 / 10 | 시간 0[s] | 손실 0.66\n",
      "| 에폭 75 |  반복 1 / 10 | 시간 0[s] | 손실 0.70\n",
      "| 에폭 76 |  반복 1 / 10 | 시간 0[s] | 손실 0.65\n",
      "| 에폭 77 |  반복 1 / 10 | 시간 0[s] | 손실 0.67\n",
      "| 에폭 78 |  반복 1 / 10 | 시간 0[s] | 손실 0.70\n",
      "| 에폭 79 |  반복 1 / 10 | 시간 0[s] | 손실 0.63\n",
      "| 에폭 80 |  반복 1 / 10 | 시간 0[s] | 손실 0.66\n",
      "| 에폭 81 |  반복 1 / 10 | 시간 0[s] | 손실 0.65\n",
      "| 에폭 82 |  반복 1 / 10 | 시간 0[s] | 손실 0.66\n",
      "| 에폭 83 |  반복 1 / 10 | 시간 0[s] | 손실 0.64\n",
      "| 에폭 84 |  반복 1 / 10 | 시간 0[s] | 손실 0.62\n",
      "| 에폭 85 |  반복 1 / 10 | 시간 0[s] | 손실 0.62\n",
      "| 에폭 86 |  반복 1 / 10 | 시간 0[s] | 손실 0.63\n",
      "| 에폭 87 |  반복 1 / 10 | 시간 0[s] | 손실 0.59\n",
      "| 에폭 88 |  반복 1 / 10 | 시간 0[s] | 손실 0.58\n",
      "| 에폭 89 |  반복 1 / 10 | 시간 0[s] | 손실 0.61\n",
      "| 에폭 90 |  반복 1 / 10 | 시간 0[s] | 손실 0.59\n",
      "| 에폭 91 |  반복 1 / 10 | 시간 0[s] | 손실 0.58\n",
      "| 에폭 92 |  반복 1 / 10 | 시간 0[s] | 손실 0.57\n",
      "| 에폭 93 |  반복 1 / 10 | 시간 0[s] | 손실 0.55\n",
      "| 에폭 94 |  반복 1 / 10 | 시간 0[s] | 손실 0.54\n",
      "| 에폭 95 |  반복 1 / 10 | 시간 0[s] | 손실 0.53\n",
      "| 에폭 96 |  반복 1 / 10 | 시간 0[s] | 손실 0.54\n",
      "| 에폭 97 |  반복 1 / 10 | 시간 0[s] | 손실 0.51\n",
      "| 에폭 98 |  반복 1 / 10 | 시간 0[s] | 손실 0.51\n",
      "| 에폭 99 |  반복 1 / 10 | 시간 0[s] | 손실 0.50\n",
      "| 에폭 100 |  반복 1 / 10 | 시간 0[s] | 손실 0.47\n",
      "| 에폭 101 |  반복 1 / 10 | 시간 0[s] | 손실 0.49\n",
      "| 에폭 102 |  반복 1 / 10 | 시간 0[s] | 손실 0.46\n",
      "| 에폭 103 |  반복 1 / 10 | 시간 0[s] | 손실 0.44\n",
      "| 에폭 104 |  반복 1 / 10 | 시간 0[s] | 손실 0.47\n",
      "| 에폭 105 |  반복 1 / 10 | 시간 0[s] | 손실 0.44\n",
      "| 에폭 106 |  반복 1 / 10 | 시간 0[s] | 손실 0.43\n",
      "| 에폭 107 |  반복 1 / 10 | 시간 0[s] | 손실 0.43\n",
      "| 에폭 108 |  반복 1 / 10 | 시간 0[s] | 손실 0.39\n",
      "| 에폭 109 |  반복 1 / 10 | 시간 0[s] | 손실 0.40\n",
      "| 에폭 110 |  반복 1 / 10 | 시간 0[s] | 손실 0.41\n",
      "| 에폭 111 |  반복 1 / 10 | 시간 0[s] | 손실 0.38\n",
      "| 에폭 112 |  반복 1 / 10 | 시간 0[s] | 손실 0.38\n",
      "| 에폭 113 |  반복 1 / 10 | 시간 0[s] | 손실 0.38\n",
      "| 에폭 114 |  반복 1 / 10 | 시간 0[s] | 손실 0.37\n",
      "| 에폭 115 |  반복 1 / 10 | 시간 0[s] | 손실 0.36\n",
      "| 에폭 116 |  반복 1 / 10 | 시간 0[s] | 손실 0.34\n",
      "| 에폭 117 |  반복 1 / 10 | 시간 0[s] | 손실 0.35\n",
      "| 에폭 118 |  반복 1 / 10 | 시간 0[s] | 손실 0.33\n",
      "| 에폭 119 |  반복 1 / 10 | 시간 0[s] | 손실 0.35\n",
      "| 에폭 120 |  반복 1 / 10 | 시간 0[s] | 손실 0.33\n",
      "| 에폭 121 |  반복 1 / 10 | 시간 0[s] | 손실 0.33\n",
      "| 에폭 122 |  반복 1 / 10 | 시간 0[s] | 손실 0.32\n",
      "| 에폭 123 |  반복 1 / 10 | 시간 0[s] | 손실 0.31\n",
      "| 에폭 124 |  반복 1 / 10 | 시간 0[s] | 손실 0.31\n",
      "| 에폭 125 |  반복 1 / 10 | 시간 0[s] | 손실 0.31\n",
      "| 에폭 126 |  반복 1 / 10 | 시간 0[s] | 손실 0.30\n",
      "| 에폭 127 |  반복 1 / 10 | 시간 0[s] | 손실 0.30\n",
      "| 에폭 128 |  반복 1 / 10 | 시간 0[s] | 손실 0.27\n",
      "| 에폭 129 |  반복 1 / 10 | 시간 0[s] | 손실 0.30\n",
      "| 에폭 130 |  반복 1 / 10 | 시간 0[s] | 손실 0.28\n",
      "| 에폭 131 |  반복 1 / 10 | 시간 0[s] | 손실 0.26\n",
      "| 에폭 132 |  반복 1 / 10 | 시간 0[s] | 손실 0.27\n",
      "| 에폭 133 |  반복 1 / 10 | 시간 0[s] | 손실 0.27\n",
      "| 에폭 134 |  반복 1 / 10 | 시간 0[s] | 손실 0.28\n",
      "| 에폭 135 |  반복 1 / 10 | 시간 0[s] | 손실 0.26\n",
      "| 에폭 136 |  반복 1 / 10 | 시간 0[s] | 손실 0.28\n",
      "| 에폭 137 |  반복 1 / 10 | 시간 0[s] | 손실 0.25\n",
      "| 에폭 138 |  반복 1 / 10 | 시간 0[s] | 손실 0.26\n",
      "| 에폭 139 |  반복 1 / 10 | 시간 0[s] | 손실 0.26\n",
      "| 에폭 140 |  반복 1 / 10 | 시간 0[s] | 손실 0.26\n",
      "| 에폭 141 |  반복 1 / 10 | 시간 0[s] | 손실 0.23\n",
      "| 에폭 142 |  반복 1 / 10 | 시간 0[s] | 손실 0.23\n",
      "| 에폭 143 |  반복 1 / 10 | 시간 0[s] | 손실 0.26\n",
      "| 에폭 144 |  반복 1 / 10 | 시간 0[s] | 손실 0.23\n",
      "| 에폭 145 |  반복 1 / 10 | 시간 0[s] | 손실 0.24\n",
      "| 에폭 146 |  반복 1 / 10 | 시간 0[s] | 손실 0.24\n",
      "| 에폭 147 |  반복 1 / 10 | 시간 0[s] | 손실 0.25\n",
      "| 에폭 148 |  반복 1 / 10 | 시간 0[s] | 손실 0.21\n",
      "| 에폭 149 |  반복 1 / 10 | 시간 0[s] | 손실 0.23\n",
      "| 에폭 150 |  반복 1 / 10 | 시간 0[s] | 손실 0.22\n",
      "| 에폭 151 |  반복 1 / 10 | 시간 0[s] | 손실 0.22\n",
      "| 에폭 152 |  반복 1 / 10 | 시간 0[s] | 손실 0.23\n",
      "| 에폭 153 |  반복 1 / 10 | 시간 0[s] | 손실 0.23\n",
      "| 에폭 154 |  반복 1 / 10 | 시간 0[s] | 손실 0.20\n",
      "| 에폭 155 |  반복 1 / 10 | 시간 0[s] | 손실 0.22\n",
      "| 에폭 156 |  반복 1 / 10 | 시간 0[s] | 손실 0.21\n",
      "| 에폭 157 |  반복 1 / 10 | 시간 0[s] | 손실 0.21\n",
      "| 에폭 158 |  반복 1 / 10 | 시간 0[s] | 손실 0.20\n",
      "| 에폭 159 |  반복 1 / 10 | 시간 0[s] | 손실 0.21\n",
      "| 에폭 160 |  반복 1 / 10 | 시간 0[s] | 손실 0.20\n",
      "| 에폭 161 |  반복 1 / 10 | 시간 0[s] | 손실 0.19\n",
      "| 에폭 162 |  반복 1 / 10 | 시간 0[s] | 손실 0.22\n",
      "| 에폭 163 |  반복 1 / 10 | 시간 0[s] | 손실 0.19\n",
      "| 에폭 164 |  반복 1 / 10 | 시간 0[s] | 손실 0.21\n",
      "| 에폭 165 |  반복 1 / 10 | 시간 0[s] | 손실 0.20\n",
      "| 에폭 166 |  반복 1 / 10 | 시간 0[s] | 손실 0.20\n",
      "| 에폭 167 |  반복 1 / 10 | 시간 0[s] | 손실 0.20\n",
      "| 에폭 168 |  반복 1 / 10 | 시간 0[s] | 손실 0.19\n",
      "| 에폭 169 |  반복 1 / 10 | 시간 0[s] | 손실 0.18\n",
      "| 에폭 170 |  반복 1 / 10 | 시간 0[s] | 손실 0.19\n",
      "| 에폭 171 |  반복 1 / 10 | 시간 0[s] | 손실 0.19\n",
      "| 에폭 172 |  반복 1 / 10 | 시간 0[s] | 손실 0.20\n",
      "| 에폭 173 |  반복 1 / 10 | 시간 0[s] | 손실 0.16\n",
      "| 에폭 174 |  반복 1 / 10 | 시간 0[s] | 손실 0.20\n",
      "| 에폭 175 |  반복 1 / 10 | 시간 0[s] | 손실 0.18\n",
      "| 에폭 176 |  반복 1 / 10 | 시간 0[s] | 손실 0.17\n",
      "| 에폭 177 |  반복 1 / 10 | 시간 0[s] | 손실 0.17\n",
      "| 에폭 178 |  반복 1 / 10 | 시간 0[s] | 손실 0.17\n",
      "| 에폭 179 |  반복 1 / 10 | 시간 0[s] | 손실 0.18\n",
      "| 에폭 180 |  반복 1 / 10 | 시간 0[s] | 손실 0.19\n",
      "| 에폭 181 |  반복 1 / 10 | 시간 0[s] | 손실 0.17\n",
      "| 에폭 182 |  반복 1 / 10 | 시간 0[s] | 손실 0.18\n",
      "| 에폭 183 |  반복 1 / 10 | 시간 0[s] | 손실 0.16\n",
      "| 에폭 184 |  반복 1 / 10 | 시간 0[s] | 손실 0.18\n",
      "| 에폭 185 |  반복 1 / 10 | 시간 0[s] | 손실 0.18\n",
      "| 에폭 186 |  반복 1 / 10 | 시간 0[s] | 손실 0.17\n",
      "| 에폭 187 |  반복 1 / 10 | 시간 0[s] | 손실 0.17\n",
      "| 에폭 188 |  반복 1 / 10 | 시간 0[s] | 손실 0.18\n",
      "| 에폭 189 |  반복 1 / 10 | 시간 0[s] | 손실 0.16\n",
      "| 에폭 190 |  반복 1 / 10 | 시간 0[s] | 손실 0.16\n",
      "| 에폭 191 |  반복 1 / 10 | 시간 0[s] | 손실 0.17\n",
      "| 에폭 192 |  반복 1 / 10 | 시간 0[s] | 손실 0.17\n",
      "| 에폭 193 |  반복 1 / 10 | 시간 0[s] | 손실 0.16\n",
      "| 에폭 194 |  반복 1 / 10 | 시간 0[s] | 손실 0.16\n",
      "| 에폭 195 |  반복 1 / 10 | 시간 0[s] | 손실 0.16\n",
      "| 에폭 196 |  반복 1 / 10 | 시간 0[s] | 손실 0.17\n",
      "| 에폭 197 |  반복 1 / 10 | 시간 0[s] | 손실 0.16\n",
      "| 에폭 198 |  반복 1 / 10 | 시간 0[s] | 손실 0.17\n",
      "| 에폭 199 |  반복 1 / 10 | 시간 0[s] | 손실 0.16\n",
      "| 에폭 200 |  반복 1 / 10 | 시간 0[s] | 손실 0.14\n",
      "| 에폭 201 |  반복 1 / 10 | 시간 0[s] | 손실 0.16\n",
      "| 에폭 202 |  반복 1 / 10 | 시간 0[s] | 손실 0.16\n",
      "| 에폭 203 |  반복 1 / 10 | 시간 0[s] | 손실 0.15\n",
      "| 에폭 204 |  반복 1 / 10 | 시간 0[s] | 손실 0.16\n",
      "| 에폭 205 |  반복 1 / 10 | 시간 0[s] | 손실 0.14\n",
      "| 에폭 206 |  반복 1 / 10 | 시간 0[s] | 손실 0.16\n",
      "| 에폭 207 |  반복 1 / 10 | 시간 0[s] | 손실 0.16\n",
      "| 에폭 208 |  반복 1 / 10 | 시간 0[s] | 손실 0.14\n",
      "| 에폭 209 |  반복 1 / 10 | 시간 0[s] | 손실 0.15\n",
      "| 에폭 210 |  반복 1 / 10 | 시간 0[s] | 손실 0.16\n",
      "| 에폭 211 |  반복 1 / 10 | 시간 0[s] | 손실 0.14\n",
      "| 에폭 212 |  반복 1 / 10 | 시간 0[s] | 손실 0.15\n",
      "| 에폭 213 |  반복 1 / 10 | 시간 0[s] | 손실 0.15\n",
      "| 에폭 214 |  반복 1 / 10 | 시간 0[s] | 손실 0.15\n",
      "| 에폭 215 |  반복 1 / 10 | 시간 0[s] | 손실 0.14\n",
      "| 에폭 216 |  반복 1 / 10 | 시간 0[s] | 손실 0.14\n",
      "| 에폭 217 |  반복 1 / 10 | 시간 0[s] | 손실 0.15\n",
      "| 에폭 218 |  반복 1 / 10 | 시간 0[s] | 손실 0.14\n",
      "| 에폭 219 |  반복 1 / 10 | 시간 0[s] | 손실 0.15\n",
      "| 에폭 220 |  반복 1 / 10 | 시간 0[s] | 손실 0.15\n",
      "| 에폭 221 |  반복 1 / 10 | 시간 0[s] | 손실 0.14\n",
      "| 에폭 222 |  반복 1 / 10 | 시간 0[s] | 손실 0.13\n",
      "| 에폭 223 |  반복 1 / 10 | 시간 0[s] | 손실 0.15\n",
      "| 에폭 224 |  반복 1 / 10 | 시간 0[s] | 손실 0.14\n",
      "| 에폭 225 |  반복 1 / 10 | 시간 0[s] | 손실 0.16\n",
      "| 에폭 226 |  반복 1 / 10 | 시간 0[s] | 손실 0.12\n",
      "| 에폭 227 |  반복 1 / 10 | 시간 0[s] | 손실 0.13\n",
      "| 에폭 228 |  반복 1 / 10 | 시간 0[s] | 손실 0.15\n",
      "| 에폭 229 |  반복 1 / 10 | 시간 0[s] | 손실 0.14\n",
      "| 에폭 230 |  반복 1 / 10 | 시간 0[s] | 손실 0.13\n",
      "| 에폭 231 |  반복 1 / 10 | 시간 0[s] | 손실 0.14\n",
      "| 에폭 232 |  반복 1 / 10 | 시간 0[s] | 손실 0.13\n",
      "| 에폭 233 |  반복 1 / 10 | 시간 0[s] | 손실 0.13\n",
      "| 에폭 234 |  반복 1 / 10 | 시간 0[s] | 손실 0.14\n",
      "| 에폭 235 |  반복 1 / 10 | 시간 0[s] | 손실 0.13\n",
      "| 에폭 236 |  반복 1 / 10 | 시간 0[s] | 손실 0.12\n",
      "| 에폭 237 |  반복 1 / 10 | 시간 0[s] | 손실 0.13\n",
      "| 에폭 238 |  반복 1 / 10 | 시간 0[s] | 손실 0.14\n",
      "| 에폭 239 |  반복 1 / 10 | 시간 0[s] | 손실 0.14\n",
      "| 에폭 240 |  반복 1 / 10 | 시간 0[s] | 손실 0.13\n",
      "| 에폭 241 |  반복 1 / 10 | 시간 0[s] | 손실 0.14\n",
      "| 에폭 242 |  반복 1 / 10 | 시간 0[s] | 손실 0.13\n",
      "| 에폭 243 |  반복 1 / 10 | 시간 0[s] | 손실 0.13\n",
      "| 에폭 244 |  반복 1 / 10 | 시간 0[s] | 손실 0.14\n",
      "| 에폭 245 |  반복 1 / 10 | 시간 0[s] | 손실 0.12\n",
      "| 에폭 246 |  반복 1 / 10 | 시간 0[s] | 손실 0.13\n",
      "| 에폭 247 |  반복 1 / 10 | 시간 0[s] | 손실 0.13\n",
      "| 에폭 248 |  반복 1 / 10 | 시간 0[s] | 손실 0.12\n",
      "| 에폭 249 |  반복 1 / 10 | 시간 0[s] | 손실 0.14\n",
      "| 에폭 250 |  반복 1 / 10 | 시간 0[s] | 손실 0.12\n",
      "| 에폭 251 |  반복 1 / 10 | 시간 0[s] | 손실 0.13\n",
      "| 에폭 252 |  반복 1 / 10 | 시간 0[s] | 손실 0.13\n",
      "| 에폭 253 |  반복 1 / 10 | 시간 0[s] | 손실 0.12\n",
      "| 에폭 254 |  반복 1 / 10 | 시간 0[s] | 손실 0.12\n",
      "| 에폭 255 |  반복 1 / 10 | 시간 0[s] | 손실 0.13\n",
      "| 에폭 256 |  반복 1 / 10 | 시간 0[s] | 손실 0.12\n",
      "| 에폭 257 |  반복 1 / 10 | 시간 0[s] | 손실 0.12\n",
      "| 에폭 258 |  반복 1 / 10 | 시간 0[s] | 손실 0.12\n",
      "| 에폭 259 |  반복 1 / 10 | 시간 0[s] | 손실 0.13\n",
      "| 에폭 260 |  반복 1 / 10 | 시간 0[s] | 손실 0.13\n",
      "| 에폭 261 |  반복 1 / 10 | 시간 0[s] | 손실 0.11\n",
      "| 에폭 262 |  반복 1 / 10 | 시간 0[s] | 손실 0.13\n",
      "| 에폭 263 |  반복 1 / 10 | 시간 0[s] | 손실 0.12\n",
      "| 에폭 264 |  반복 1 / 10 | 시간 0[s] | 손실 0.11\n",
      "| 에폭 265 |  반복 1 / 10 | 시간 0[s] | 손실 0.14\n",
      "| 에폭 266 |  반복 1 / 10 | 시간 0[s] | 손실 0.11\n",
      "| 에폭 267 |  반복 1 / 10 | 시간 0[s] | 손실 0.13\n",
      "| 에폭 268 |  반복 1 / 10 | 시간 0[s] | 손실 0.11\n",
      "| 에폭 269 |  반복 1 / 10 | 시간 0[s] | 손실 0.13\n",
      "| 에폭 270 |  반복 1 / 10 | 시간 0[s] | 손실 0.11\n",
      "| 에폭 271 |  반복 1 / 10 | 시간 0[s] | 손실 0.12\n",
      "| 에폭 272 |  반복 1 / 10 | 시간 0[s] | 손실 0.12\n",
      "| 에폭 273 |  반복 1 / 10 | 시간 0[s] | 손실 0.12\n",
      "| 에폭 274 |  반복 1 / 10 | 시간 0[s] | 손실 0.12\n",
      "| 에폭 275 |  반복 1 / 10 | 시간 0[s] | 손실 0.12\n",
      "| 에폭 276 |  반복 1 / 10 | 시간 0[s] | 손실 0.12\n",
      "| 에폭 277 |  반복 1 / 10 | 시간 0[s] | 손실 0.11\n",
      "| 에폭 278 |  반복 1 / 10 | 시간 0[s] | 손실 0.13\n",
      "| 에폭 279 |  반복 1 / 10 | 시간 0[s] | 손실 0.11\n",
      "| 에폭 280 |  반복 1 / 10 | 시간 0[s] | 손실 0.10\n",
      "| 에폭 281 |  반복 1 / 10 | 시간 0[s] | 손실 0.12\n",
      "| 에폭 282 |  반복 1 / 10 | 시간 0[s] | 손실 0.11\n",
      "| 에폭 283 |  반복 1 / 10 | 시간 0[s] | 손실 0.12\n",
      "| 에폭 284 |  반복 1 / 10 | 시간 0[s] | 손실 0.11\n",
      "| 에폭 285 |  반복 1 / 10 | 시간 0[s] | 손실 0.11\n",
      "| 에폭 286 |  반복 1 / 10 | 시간 0[s] | 손실 0.12\n",
      "| 에폭 287 |  반복 1 / 10 | 시간 0[s] | 손실 0.11\n",
      "| 에폭 288 |  반복 1 / 10 | 시간 0[s] | 손실 0.11\n",
      "| 에폭 289 |  반복 1 / 10 | 시간 0[s] | 손실 0.12\n",
      "| 에폭 290 |  반복 1 / 10 | 시간 0[s] | 손실 0.11\n",
      "| 에폭 291 |  반복 1 / 10 | 시간 0[s] | 손실 0.11\n",
      "| 에폭 292 |  반복 1 / 10 | 시간 0[s] | 손실 0.11\n",
      "| 에폭 293 |  반복 1 / 10 | 시간 0[s] | 손실 0.11\n",
      "| 에폭 294 |  반복 1 / 10 | 시간 0[s] | 손실 0.11\n",
      "| 에폭 295 |  반복 1 / 10 | 시간 0[s] | 손실 0.11\n",
      "| 에폭 296 |  반복 1 / 10 | 시간 0[s] | 손실 0.12\n",
      "| 에폭 297 |  반복 1 / 10 | 시간 0[s] | 손실 0.11\n",
      "| 에폭 298 |  반복 1 / 10 | 시간 0[s] | 손실 0.11\n",
      "| 에폭 299 |  반복 1 / 10 | 시간 0[s] | 손실 0.11\n",
      "| 에폭 300 |  반복 1 / 10 | 시간 0[s] | 손실 0.11\n"
     ]
    },
    {
     "data": {
      "image/png": "[encoded data removed]",
      "text/plain": [
       "<Figure size 432x288 with 1 Axes>"
      ]
     },
     "metadata": {
      "needs_background": "light"
     },
     "output_type": "display_data"
    }
   ],
   "source": [
    "from common.optimizer import SGD\n",
    "from common.trainer import Trainer\n",
    "from dataset import spiral\n",
    "\n",
    "max_epoch = 300\n",
    "batch_size = 30\n",
    "hidden_size = 10\n",
    "learning_rate = 1.0\n",
    "x, t = spiral.load_data()\n",
    "model = TwoLayerNet(input_size=2, hidden_size=hidden_size, output_size=3)\n",
    "optimizer = SGD(lr=learning_rate)\n",
    "\n",
    "trainer = Trainer(model, optimizer)\n",
    "trainer.fit(x, t, max_epoch, batch_size, eval_interval=10)\n",
    "trainer.plot()"
   ]
  },
  {
   "cell_type": "markdown",
   "id": "6d3370c6",
   "metadata": {},
   "source": [
    "## 1.5 계산 고속화"
   ]
  },
  {
   "cell_type": "markdown",
   "id": "5316753b",
   "metadata": {},
   "source": [
    "### 1.5.1 비트 정밀도"
   ]
  },
  {
   "cell_type": "code",
   "execution_count": 53,
   "id": "d9e74130",
   "metadata": {},
   "outputs": [
    {
     "data": {
      "text/plain": [
       "dtype('float64')"
      ]
     },
     "execution_count": 53,
     "metadata": {},
     "output_type": "execute_result"
    }
   ],
   "source": [
    "import numpy as np\n",
    "a = np.random.randn(3)\n",
    "a.dtype"
   ]
  },
  {
   "cell_type": "markdown",
   "id": "08ac6930",
   "metadata": {},
   "source": [
    "넘파이의 64비트 부동소수점 수를 표준으로 사용  \n",
    "그러나,  \n",
    "- 신경망의 추론과 학습은 32비트 부동소수점 수로도 인식률을 거의 떨어뜨리는 일 없이 수행할 수 있음\n",
    "- 메모리 관점에서 항상 64비트에 비해 43비트가 더 조흥ㅁ\n",
    "- 신경망 계산 시 데이터를 전송하는 '버스 대역 폭(bus bandwidth)'이 병목되는 경우가 종종 있으므로, 데이터 타입이 작은게 좋음\n",
    "- 계산 속도 측면에서도 32비트 부동소수점 수가 일반적으로 더 빠름  \n",
    "  \n",
    "넘파이에서 32비트 부동소수점 수를 사용하려면 다음과 같이 데이터 타입을 지정"
   ]
  },
  {
   "cell_type": "code",
   "execution_count": 54,
   "id": "dbcd27d6",
   "metadata": {},
   "outputs": [
    {
     "data": {
      "text/plain": [
       "dtype('float32')"
      ]
     },
     "execution_count": 54,
     "metadata": {},
     "output_type": "execute_result"
    }
   ],
   "source": [
    "b = np.random.randn(3).astype(np.float32)\n",
    "b.dtype"
   ]
  },
  {
   "cell_type": "code",
   "execution_count": 55,
   "id": "152e403a",
   "metadata": {},
   "outputs": [
    {
     "data": {
      "text/plain": [
       "dtype('float32')"
      ]
     },
     "execution_count": 55,
     "metadata": {},
     "output_type": "execute_result"
    }
   ],
   "source": [
    "c = np.random.randn(3).astype('f')\n",
    "c.dtype"
   ]
  },
  {
   "cell_type": "markdown",
   "id": "5fea4806",
   "metadata": {},
   "source": [
    "신경망 추론으로 한정하면, 16비트 부동소수점 수를 사용해도 인식률이 거의 떨어지지 않음  \n",
    "하지만, 일반적으로 CPU와 GPU는 연산 자체를 32비트로 수행하므로 16비트로 변환하더라도 계산 자체는 32비트로 이뤄짐  \n",
    "학습된 가중치를 저장할 때는 16비트 부동소수점 수가 여전히 유효(32비트에 비해 절반의 용량만 사용)"
   ]
  },
  {
   "cell_type": "markdown",
   "id": "8c19fa95",
   "metadata": {},
   "source": [
    "### 1.5.2 GPU(쿠파이)"
   ]
  },
  {
   "cell_type": "markdown",
   "id": "771da967",
   "metadata": {},
   "source": [
    "딥러닝의 계산은 대량의 곱하기 연산으로 구성  \n",
    "따라서 CPU보다 GPU가 유리  \n",
    "  \n",
    "쿠파이 : GPU를 이용해 병렬 계산을 수행해주는 라이브러리  \n",
    "    넘파이와 호환되는 API를 제공함"
   ]
  }
 ],
 "metadata": {
  "kernelspec": {
   "display_name": "Python 3 (ipykernel)",
   "language": "python",
   "name": "python3"
  },
  "language_info": {
   "codemirror_mode": {
    "name": "ipython",
    "version": 3
   },
   "file_extension": ".py",
   "mimetype": "text/x-python",
   "name": "python",
   "nbconvert_exporter": "python",
   "pygments_lexer": "ipython3",
   "version": "3.8.8"
  }
 },
 "nbformat": 4,
 "nbformat_minor": 5
}
